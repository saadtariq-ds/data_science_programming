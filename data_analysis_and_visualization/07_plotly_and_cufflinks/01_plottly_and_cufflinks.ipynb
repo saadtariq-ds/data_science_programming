{
 "cells": [
  {
   "cell_type": "markdown",
   "id": "91b20534",
   "metadata": {},
   "source": [
    "# Plottly and Cufflinks\n",
    "\n",
    "Plotly is an interractive visualization library\n",
    "\n",
    "Cufflinks connects plotly with pandas\n",
    "\n",
    "**Github Reference Link**: https://github.com/santosjorge/cufflinks"
   ]
  },
  {
   "cell_type": "code",
   "execution_count": 1,
   "id": "53607bab",
   "metadata": {},
   "outputs": [],
   "source": [
    "import pandas as pd\n",
    "import numpy as np"
   ]
  },
  {
   "cell_type": "code",
   "execution_count": 2,
   "id": "65d36495",
   "metadata": {},
   "outputs": [],
   "source": [
    "from plotly import __version__"
   ]
  },
  {
   "cell_type": "code",
   "execution_count": 3,
   "id": "b0041a50",
   "metadata": {},
   "outputs": [
    {
     "name": "stdout",
     "output_type": "stream",
     "text": [
      "5.14.1\n"
     ]
    }
   ],
   "source": [
    "print(__version__)"
   ]
  },
  {
   "cell_type": "code",
   "execution_count": 4,
   "id": "b00779ee",
   "metadata": {},
   "outputs": [],
   "source": [
    "import cufflinks as cf"
   ]
  },
  {
   "cell_type": "code",
   "execution_count": 5,
   "id": "fc80fa02",
   "metadata": {},
   "outputs": [],
   "source": [
    "from plotly.offline import download_plotlyjs, init_notebook_mode, plot, iplot"
   ]
  },
  {
   "cell_type": "code",
   "execution_count": 6,
   "id": "e9ce530c",
   "metadata": {},
   "outputs": [
    {
     "data": {
      "text/html": [
       "        <script type=\"text/javascript\">\n",
       "        window.PlotlyConfig = {MathJaxConfig: 'local'};\n",
       "        if (window.MathJax && window.MathJax.Hub && window.MathJax.Hub.Config) {window.MathJax.Hub.Config({SVG: {font: \"STIX-Web\"}});}\n",
       "        if (typeof require !== 'undefined') {\n",
       "        require.undef(\"plotly\");\n",
       "        requirejs.config({\n",
       "            paths: {\n",
       "                'plotly': ['https://cdn.plot.ly/plotly-2.20.0.min']\n",
       "            }\n",
       "        });\n",
       "        require(['plotly'], function(Plotly) {\n",
       "            window._Plotly = Plotly;\n",
       "        });\n",
       "        }\n",
       "        </script>\n",
       "        "
      ]
     },
     "metadata": {},
     "output_type": "display_data"
    }
   ],
   "source": [
    "init_notebook_mode(connected=True)"
   ]
  },
  {
   "cell_type": "code",
   "execution_count": 7,
   "id": "a968a26e",
   "metadata": {},
   "outputs": [
    {
     "data": {
      "text/html": [
       "        <script type=\"text/javascript\">\n",
       "        window.PlotlyConfig = {MathJaxConfig: 'local'};\n",
       "        if (window.MathJax && window.MathJax.Hub && window.MathJax.Hub.Config) {window.MathJax.Hub.Config({SVG: {font: \"STIX-Web\"}});}\n",
       "        if (typeof require !== 'undefined') {\n",
       "        require.undef(\"plotly\");\n",
       "        requirejs.config({\n",
       "            paths: {\n",
       "                'plotly': ['https://cdn.plot.ly/plotly-2.20.0.min']\n",
       "            }\n",
       "        });\n",
       "        require(['plotly'], function(Plotly) {\n",
       "            window._Plotly = Plotly;\n",
       "        });\n",
       "        }\n",
       "        </script>\n",
       "        "
      ]
     },
     "metadata": {},
     "output_type": "display_data"
    }
   ],
   "source": [
    "cf.go_offline()"
   ]
  },
  {
   "cell_type": "code",
   "execution_count": 8,
   "id": "fb3a04cd",
   "metadata": {},
   "outputs": [],
   "source": [
    "df = pd.DataFrame(data=np.random.randn(100, 4), columns='A B C D'.split())"
   ]
  },
  {
   "cell_type": "code",
   "execution_count": 9,
   "id": "a4909a52",
   "metadata": {},
   "outputs": [
    {
     "data": {
      "text/html": [
       "<div>\n",
       "<style scoped>\n",
       "    .dataframe tbody tr th:only-of-type {\n",
       "        vertical-align: middle;\n",
       "    }\n",
       "\n",
       "    .dataframe tbody tr th {\n",
       "        vertical-align: top;\n",
       "    }\n",
       "\n",
       "    .dataframe thead th {\n",
       "        text-align: right;\n",
       "    }\n",
       "</style>\n",
       "<table border=\"1\" class=\"dataframe\">\n",
       "  <thead>\n",
       "    <tr style=\"text-align: right;\">\n",
       "      <th></th>\n",
       "      <th>A</th>\n",
       "      <th>B</th>\n",
       "      <th>C</th>\n",
       "      <th>D</th>\n",
       "    </tr>\n",
       "  </thead>\n",
       "  <tbody>\n",
       "    <tr>\n",
       "      <th>0</th>\n",
       "      <td>0.042951</td>\n",
       "      <td>0.619288</td>\n",
       "      <td>-0.850463</td>\n",
       "      <td>0.098101</td>\n",
       "    </tr>\n",
       "    <tr>\n",
       "      <th>1</th>\n",
       "      <td>-0.220285</td>\n",
       "      <td>1.125798</td>\n",
       "      <td>0.347011</td>\n",
       "      <td>1.082159</td>\n",
       "    </tr>\n",
       "    <tr>\n",
       "      <th>2</th>\n",
       "      <td>1.173427</td>\n",
       "      <td>-0.186053</td>\n",
       "      <td>-0.947158</td>\n",
       "      <td>-1.417125</td>\n",
       "    </tr>\n",
       "    <tr>\n",
       "      <th>3</th>\n",
       "      <td>-0.242857</td>\n",
       "      <td>1.684210</td>\n",
       "      <td>-1.375374</td>\n",
       "      <td>-1.681028</td>\n",
       "    </tr>\n",
       "    <tr>\n",
       "      <th>4</th>\n",
       "      <td>0.676394</td>\n",
       "      <td>-0.910279</td>\n",
       "      <td>0.798112</td>\n",
       "      <td>-1.542693</td>\n",
       "    </tr>\n",
       "    <tr>\n",
       "      <th>...</th>\n",
       "      <td>...</td>\n",
       "      <td>...</td>\n",
       "      <td>...</td>\n",
       "      <td>...</td>\n",
       "    </tr>\n",
       "    <tr>\n",
       "      <th>95</th>\n",
       "      <td>0.375289</td>\n",
       "      <td>-0.722692</td>\n",
       "      <td>0.481878</td>\n",
       "      <td>-0.671716</td>\n",
       "    </tr>\n",
       "    <tr>\n",
       "      <th>96</th>\n",
       "      <td>0.016641</td>\n",
       "      <td>0.900039</td>\n",
       "      <td>1.429448</td>\n",
       "      <td>0.666755</td>\n",
       "    </tr>\n",
       "    <tr>\n",
       "      <th>97</th>\n",
       "      <td>2.711161</td>\n",
       "      <td>-0.507287</td>\n",
       "      <td>-0.521133</td>\n",
       "      <td>0.645943</td>\n",
       "    </tr>\n",
       "    <tr>\n",
       "      <th>98</th>\n",
       "      <td>0.685294</td>\n",
       "      <td>-0.048363</td>\n",
       "      <td>-1.471844</td>\n",
       "      <td>-1.662539</td>\n",
       "    </tr>\n",
       "    <tr>\n",
       "      <th>99</th>\n",
       "      <td>0.045511</td>\n",
       "      <td>-0.786412</td>\n",
       "      <td>0.369907</td>\n",
       "      <td>-1.069767</td>\n",
       "    </tr>\n",
       "  </tbody>\n",
       "</table>\n",
       "<p>100 rows × 4 columns</p>\n",
       "</div>"
      ],
      "text/plain": [
       "           A         B         C         D\n",
       "0   0.042951  0.619288 -0.850463  0.098101\n",
       "1  -0.220285  1.125798  0.347011  1.082159\n",
       "2   1.173427 -0.186053 -0.947158 -1.417125\n",
       "3  -0.242857  1.684210 -1.375374 -1.681028\n",
       "4   0.676394 -0.910279  0.798112 -1.542693\n",
       "..       ...       ...       ...       ...\n",
       "95  0.375289 -0.722692  0.481878 -0.671716\n",
       "96  0.016641  0.900039  1.429448  0.666755\n",
       "97  2.711161 -0.507287 -0.521133  0.645943\n",
       "98  0.685294 -0.048363 -1.471844 -1.662539\n",
       "99  0.045511 -0.786412  0.369907 -1.069767\n",
       "\n",
       "[100 rows x 4 columns]"
      ]
     },
     "execution_count": 9,
     "metadata": {},
     "output_type": "execute_result"
    }
   ],
   "source": [
    "df"
   ]
  },
  {
   "cell_type": "code",
   "execution_count": 10,
   "id": "3c9ec4b2",
   "metadata": {},
   "outputs": [
    {
     "data": {
      "text/html": [
       "<div>\n",
       "<style scoped>\n",
       "    .dataframe tbody tr th:only-of-type {\n",
       "        vertical-align: middle;\n",
       "    }\n",
       "\n",
       "    .dataframe tbody tr th {\n",
       "        vertical-align: top;\n",
       "    }\n",
       "\n",
       "    .dataframe thead th {\n",
       "        text-align: right;\n",
       "    }\n",
       "</style>\n",
       "<table border=\"1\" class=\"dataframe\">\n",
       "  <thead>\n",
       "    <tr style=\"text-align: right;\">\n",
       "      <th></th>\n",
       "      <th>Category</th>\n",
       "      <th>Values</th>\n",
       "    </tr>\n",
       "  </thead>\n",
       "  <tbody>\n",
       "    <tr>\n",
       "      <th>0</th>\n",
       "      <td>A</td>\n",
       "      <td>32</td>\n",
       "    </tr>\n",
       "    <tr>\n",
       "      <th>1</th>\n",
       "      <td>B</td>\n",
       "      <td>43</td>\n",
       "    </tr>\n",
       "    <tr>\n",
       "      <th>2</th>\n",
       "      <td>C</td>\n",
       "      <td>50</td>\n",
       "    </tr>\n",
       "  </tbody>\n",
       "</table>\n",
       "</div>"
      ],
      "text/plain": [
       "  Category  Values\n",
       "0        A      32\n",
       "1        B      43\n",
       "2        C      50"
      ]
     },
     "execution_count": 10,
     "metadata": {},
     "output_type": "execute_result"
    }
   ],
   "source": [
    "df2 = pd.DataFrame({'Category':['A', 'B', 'C'], 'Values':[32,43,50]})\n",
    "df2"
   ]
  },
  {
   "cell_type": "markdown",
   "id": "c9efc1c3",
   "metadata": {},
   "source": [
    "## IPLOT"
   ]
  },
  {
   "cell_type": "code",
   "execution_count": 11,
   "id": "c5548ae5",
   "metadata": {},
   "outputs": [
    {
     "data": {
      "text/plain": [
       "<Axes: >"
      ]
     },
     "execution_count": 11,
     "metadata": {},
     "output_type": "execute_result"
    },
    {
     "data": {
      "image/png": "[encoded data removed]",
      "text/plain": [
       "<Figure size 640x480 with 1 Axes>"
      ]
     },
     "metadata": {},
     "output_type": "display_data"
    }
   ],
   "source": [
    "df.plot()"
   ]
  },
  {
   "cell_type": "code",
   "execution_count": 12,
   "id": "2aa4925b",
   "metadata": {},
   "outputs": [
    {
     "data": {
      "application/vnd.plotly.v1+json": {
       "config": {
        "linkText": "Export to plot.ly",
        "plotlyServerURL": "https://plot.ly",
        "showLink": true
       },
       "data": [
        {
         "line": {
          "color": "rgba(255, 153, 51, 1.0)",
          "dash": "solid",
          "shape": "linear",
          "width": 1.3
         },
         "mode": "lines",
         "name": "A",
         "text": "",
         "type": "scatter",
         "x": [
          0,
          1,
          2,
          3,
          4,
          5,
          6,
          7,
          8,
          9,
          10,
          11,
          12,
          13,
          14,
          15,
          16,
          17,
          18,
          19,
          20,
          21,
          22,
          23,
          24,
          25,
          26,
          27,
          28,
          29,
          30,
          31,
          32,
          33,
          34,
          35,
          36,
          37,
          38,
          39,
          40,
          41,
          42,
          43,
          44,
          45,
          46,
          47,
          48,
          49,
          50,
          51,
          52,
          53,
          54,
          55,
          56,
          57,
          58,
          59,
          60,
          61,
          62,
          63,
          64,
          65,
          66,
          67,
          68,
          69,
          70,
          71,
          72,
          73,
          74,
          75,
          76,
          77,
          78,
          79,
          80,
          81,
          82,
          83,
          84,
          85,
          86,
          87,
          88,
          89,
          90,
          91,
          92,
          93,
          94,
          95,
          96,
          97,
          98,
          99
         ],
         "y": [
          0.042951484569504976,
          -0.2202853182291732,
          1.1734268801089391,
          -0.242857425217831,
          0.6763938161336688,
          -0.35387111095045287,
          -1.178873015258505,
          -0.9043748575099387,
          1.289961855900039,
          0.4024925419044032,
          0.47478873453097875,
          -1.5599979609496375,
          1.256435413677142,
          -1.0956306989431794,
          -0.4086611258433707,
          -1.3945695346151434,
          0.912962045848968,
          0.30730511387148135,
          -0.1939624564553397,
          1.4671933909894053,
          0.5694254821204012,
          -1.1931505134032656,
          1.5569400206519073,
          2.3296513255577835,
          0.21366883706439055,
          -0.7481852006274928,
          -1.047437879897871,
          -1.5665786547362606,
          -0.4195824696415362,
          0.7356706051151829,
          1.4854953122092205,
          -1.3585448502023059,
          0.6868115836283416,
          -0.8590019761193095,
          -0.3167758916209611,
          -2.5859566581957814,
          1.8802303072579827,
          0.33698592765530255,
          0.24253885461217137,
          -1.0610179368441957,
          0.6063985638659398,
          1.9432087735321149,
          -0.30963188399023234,
          -0.9478546493238559,
          1.6901316294856135,
          -0.9748813666852253,
          1.6306834387604556,
          0.5099483849696402,
          -0.8464325906049034,
          -0.5542596398999922,
          1.5009952174177925,
          -0.1652580228163639,
          0.01163057019334677,
          0.7861976487418677,
          -1.3589873822837037,
          -0.4793132050239744,
          -0.8884327703773046,
          -0.3284322245590626,
          -0.4240280239376068,
          0.22150415379237778,
          0.3881047010647667,
          -0.30205926100025343,
          0.26673438198881094,
          -1.591193149414884,
          0.8778887244884065,
          0.2209150355262721,
          1.0160545227316395,
          0.3491350139623226,
          -0.9537562700624382,
          1.687178900073207,
          0.6711975871514694,
          -0.47100392021657966,
          -0.4796751132677763,
          0.8899899575821433,
          -0.34435673664939204,
          -0.5704311813504567,
          0.17464690363311544,
          -0.7418420309705646,
          -0.6330916545993854,
          -1.5647070071417015,
          0.1292205238573053,
          0.17257583531658205,
          0.5641384665414945,
          -1.2693499109193727,
          1.112215426407947,
          -0.6246175481905369,
          0.6243230099698143,
          -0.5868564679739539,
          -0.38798572600393394,
          -2.2238360986731847,
          0.39483428796649245,
          -1.5128431080727769,
          -0.17054727445722603,
          0.2785807882330337,
          0.12745026931076014,
          0.37528908825820756,
          0.01664120828374138,
          2.7111613412371853,
          0.6852940169202932,
          0.04551068262644309
         ]
        },
        {
         "line": {
          "color": "rgba(55, 128, 191, 1.0)",
          "dash": "solid",
          "shape": "linear",
          "width": 1.3
         },
         "mode": "lines",
         "name": "B",
         "text": "",
         "type": "scatter",
         "x": [
          0,
          1,
          2,
          3,
          4,
          5,
          6,
          7,
          8,
          9,
          10,
          11,
          12,
          13,
          14,
          15,
          16,
          17,
          18,
          19,
          20,
          21,
          22,
          23,
          24,
          25,
          26,
          27,
          28,
          29,
          30,
          31,
          32,
          33,
          34,
          35,
          36,
          37,
          38,
          39,
          40,
          41,
          42,
          43,
          44,
          45,
          46,
          47,
          48,
          49,
          50,
          51,
          52,
          53,
          54,
          55,
          56,
          57,
          58,
          59,
          60,
          61,
          62,
          63,
          64,
          65,
          66,
          67,
          68,
          69,
          70,
          71,
          72,
          73,
          74,
          75,
          76,
          77,
          78,
          79,
          80,
          81,
          82,
          83,
          84,
          85,
          86,
          87,
          88,
          89,
          90,
          91,
          92,
          93,
          94,
          95,
          96,
          97,
          98,
          99
         ],
         "y": [
          0.6192879182170579,
          1.1257981118290274,
          -0.18605348668541802,
          1.68420984422097,
          -0.9102788942172225,
          -0.5202766729357958,
          -0.8997368949419952,
          0.6662772657608717,
          0.35174523740201824,
          0.9641528029440805,
          -0.8653270517802244,
          0.9452732084915756,
          0.47945395129175744,
          -0.4286061172343618,
          -1.2735688440555835,
          0.40889101608737194,
          1.2422571076767783,
          1.4166175858265113,
          -0.5270318815990367,
          -0.800046474269336,
          0.214565407669123,
          -0.55640152527389,
          -0.9114344441458444,
          3.1083979331621663,
          -0.7311112731850965,
          -0.684880342436226,
          0.06274744992688126,
          2.742531672377017,
          -2.133326227684579,
          0.1151137652842412,
          0.7680900451533238,
          -0.5223302478800493,
          0.022174916223067612,
          2.4139818872965506,
          0.21130446301537828,
          -1.0520853313040146,
          -1.7954748202765316,
          -0.9478364870503688,
          0.5588092484146348,
          -0.7601933681171539,
          0.14143501024264124,
          0.27309509504905183,
          -2.427264041980388,
          0.23317620185855684,
          -3.1588073663659517,
          -0.9122905543369599,
          0.6107267009505823,
          -0.23496380499321687,
          0.2941546566425414,
          0.7183125745805514,
          1.070927343340471,
          -1.0193545665580568,
          1.5531729890673478,
          -0.957694030028398,
          1.1727426779104344,
          0.20692751971823767,
          -0.34462607961309055,
          0.6537646309558028,
          2.6435063941444903,
          -0.26984172479330476,
          0.06320591618100005,
          2.9234580741428777,
          0.9283667700362315,
          0.343527795795072,
          -1.6951366429125174,
          0.6105405577363859,
          1.2681520353623972,
          -1.4348732293337862,
          0.036658494980897884,
          0.8311983922247884,
          -0.30313544490508115,
          -0.4189732950197264,
          0.1303538776810748,
          0.5785788369835336,
          0.4081059853116089,
          -0.05183208331726445,
          0.6342275658481765,
          -0.2792889338774161,
          0.06936324222582699,
          0.5281795507084809,
          0.40946299084644944,
          1.3820817269300272,
          0.2347867174176207,
          2.6062135259018873,
          -1.5016377554871971,
          0.6800085010932065,
          -0.021387092292663206,
          1.536948561145858,
          0.7924620306825507,
          1.7553181160764677,
          -0.869180304417114,
          0.709670228343469,
          -0.24003645899926476,
          1.2632533989196815,
          0.019840686964291792,
          -0.7226923963856168,
          0.9000389139195395,
          -0.5072870380033023,
          -0.048363172534944744,
          -0.7864118916761768
         ]
        },
        {
         "line": {
          "color": "rgba(50, 171, 96, 1.0)",
          "dash": "solid",
          "shape": "linear",
          "width": 1.3
         },
         "mode": "lines",
         "name": "C",
         "text": "",
         "type": "scatter",
         "x": [
          0,
          1,
          2,
          3,
          4,
          5,
          6,
          7,
          8,
          9,
          10,
          11,
          12,
          13,
          14,
          15,
          16,
          17,
          18,
          19,
          20,
          21,
          22,
          23,
          24,
          25,
          26,
          27,
          28,
          29,
          30,
          31,
          32,
          33,
          34,
          35,
          36,
          37,
          38,
          39,
          40,
          41,
          42,
          43,
          44,
          45,
          46,
          47,
          48,
          49,
          50,
          51,
          52,
          53,
          54,
          55,
          56,
          57,
          58,
          59,
          60,
          61,
          62,
          63,
          64,
          65,
          66,
          67,
          68,
          69,
          70,
          71,
          72,
          73,
          74,
          75,
          76,
          77,
          78,
          79,
          80,
          81,
          82,
          83,
          84,
          85,
          86,
          87,
          88,
          89,
          90,
          91,
          92,
          93,
          94,
          95,
          96,
          97,
          98,
          99
         ],
         "y": [
          -0.8504629846670366,
          0.3470106660474676,
          -0.947157868453042,
          -1.3753738685210328,
          0.798112475861372,
          -0.07703631274791213,
          1.0081338509405333,
          1.7164031262789414,
          -0.15428419974716925,
          0.7394786809792315,
          -0.29087805351923696,
          -0.5036911983143708,
          0.7783109538359925,
          -0.9144864195606346,
          1.116337266608769,
          0.053086914437842025,
          1.1101169589996904,
          -0.07085129969144484,
          0.040320607319248414,
          0.28456521512565375,
          -0.3051548037600851,
          0.1608256854735454,
          0.5448689042209915,
          0.5130086565826092,
          1.114722787381222,
          -0.03033601069045141,
          0.6077097977908359,
          1.53612369790164,
          -0.5012501672556618,
          -0.6922311374242788,
          -0.030434283930449717,
          -0.7325996923830687,
          1.9560475088120413,
          1.7928012874028676,
          0.5183789488380032,
          -0.06247876335431108,
          0.06631837618682593,
          0.6307445934333602,
          1.5465192727036488,
          0.020633866560363073,
          0.30250193170395867,
          1.6771883503720761,
          -1.366327161291545,
          -0.0176458306245623,
          -0.13534138524280714,
          0.14200842587933715,
          -0.42959470571188285,
          1.0889289527460462,
          -0.5838295739246996,
          0.2784376622727278,
          -1.6055776206589827,
          -0.7583919697249786,
          0.33986581486104167,
          -1.6329635927053063,
          0.14195826962869051,
          0.21904261630627975,
          -0.26870964311125756,
          -2.0344872045157114,
          0.8005427352285261,
          -0.2843127710147637,
          -2.1657093271797088,
          -0.8083818932840517,
          0.27726807561376,
          0.35200537183063185,
          -1.2941715559683442,
          0.8810559886831515,
          -0.6999370839443164,
          0.8026579340017406,
          1.200946185356744,
          -0.2941228811682841,
          2.5698652166863374,
          -0.7179356903023796,
          2.546739037086572,
          0.28897228668584174,
          0.8625860396497803,
          -0.6754435434133842,
          0.6030968163029332,
          1.4328624709910547,
          -0.019837684596422166,
          -0.10896990206263385,
          1.4102348753371692,
          -1.8690520719855694,
          -0.9759947194700561,
          -1.347030914236879,
          -0.00868423520275727,
          0.23550473380153755,
          -0.34338332229913704,
          0.025913405196481814,
          -0.1509748477861139,
          0.023652325265938547,
          -0.9116681818552379,
          0.46001109960251635,
          -0.7266253041278453,
          -0.000713758687759925,
          -0.9616896614161947,
          0.4818779798820858,
          1.429448189634716,
          -0.5211333364859005,
          -1.4718441559943454,
          0.36990748517458355
         ]
        },
        {
         "line": {
          "color": "rgba(128, 0, 128, 1.0)",
          "dash": "solid",
          "shape": "linear",
          "width": 1.3
         },
         "mode": "lines",
         "name": "D",
         "text": "",
         "type": "scatter",
         "x": [
          0,
          1,
          2,
          3,
          4,
          5,
          6,
          7,
          8,
          9,
          10,
          11,
          12,
          13,
          14,
          15,
          16,
          17,
          18,
          19,
          20,
          21,
          22,
          23,
          24,
          25,
          26,
          27,
          28,
          29,
          30,
          31,
          32,
          33,
          34,
          35,
          36,
          37,
          38,
          39,
          40,
          41,
          42,
          43,
          44,
          45,
          46,
          47,
          48,
          49,
          50,
          51,
          52,
          53,
          54,
          55,
          56,
          57,
          58,
          59,
          60,
          61,
          62,
          63,
          64,
          65,
          66,
          67,
          68,
          69,
          70,
          71,
          72,
          73,
          74,
          75,
          76,
          77,
          78,
          79,
          80,
          81,
          82,
          83,
          84,
          85,
          86,
          87,
          88,
          89,
          90,
          91,
          92,
          93,
          94,
          95,
          96,
          97,
          98,
          99
         ],
         "y": [
          0.09810140879192156,
          1.0821585282388269,
          -1.4171248011615019,
          -1.681027934088529,
          -1.5426929836829733,
          0.7832147248858957,
          -0.7026508858544321,
          0.9741928148992898,
          0.7516172349078831,
          -1.0166850884338632,
          -0.8845407757566924,
          -0.8750379369793457,
          1.8736709664082034,
          -0.052899055320985544,
          1.3512178391863716,
          -0.18010450905832964,
          0.5860120402012328,
          -1.3522280442963397,
          -0.06740328278078253,
          1.1079425142104637,
          0.022099086678615883,
          0.8245665325239215,
          -0.3624823520505544,
          0.12363321364733355,
          0.38472994873374255,
          -0.8450571672231768,
          0.015188014417435147,
          0.12010790903890044,
          0.4085443628403387,
          0.7813670689251719,
          -0.47614926783054934,
          1.2185069541003242,
          -0.3010235087835275,
          0.5068742732191456,
          0.2391999745080336,
          -1.3356989501178944,
          -1.8861844520282103,
          -0.4636196529271505,
          0.6563545318345386,
          -0.6220848495485403,
          -0.44705641151759895,
          -1.9309191056949997,
          0.5949001187224799,
          0.03576457859212332,
          -0.2679998578508826,
          -0.2009488318995272,
          0.7938135479115963,
          1.649693641080204,
          -0.32892264026438395,
          -0.7341027023538993,
          -1.1218984959219487,
          -0.16540043889166298,
          -2.2488066605144277,
          0.23737591970941674,
          0.24478357266576542,
          -0.28253293153056036,
          1.006130640980851,
          0.9378984871881437,
          1.088213849894811,
          0.8248437305613723,
          -2.688043702273467,
          -1.7619891255564812,
          -0.33425568490133084,
          -1.2511561057450569,
          -0.07475995985482435,
          0.6930236216468565,
          -1.9890012589837858,
          -0.7495033548258262,
          -0.23767376718480676,
          -0.6017116670533126,
          1.5507489010923925,
          1.0117488474759582,
          -0.032719332652793004,
          -0.27657682862296384,
          -0.9424378950776426,
          -0.35908107751131124,
          1.9205665872236553,
          -0.20557618943903266,
          -1.2366161188207578,
          0.006956169777380158,
          0.308914754920131,
          0.04941829377527631,
          0.6670918623792209,
          -1.8749217552790838,
          -0.06266549513086278,
          -0.6801984634652508,
          1.656176704126538,
          1.5060730196685739,
          0.32600789039124106,
          0.8476973198310992,
          -0.10144457537645299,
          -0.586455108088047,
          0.9279948700124497,
          -0.008768409556187321,
          1.0855785426038398,
          -0.6717157469387206,
          0.6667545705904094,
          0.6459431251440116,
          -1.662539146174201,
          -1.0697674156336698
         ]
        }
       ],
       "layout": {
        "legend": {
         "bgcolor": "#F5F6F9",
         "font": {
          "color": "#4D5663"
         }
        },
        "paper_bgcolor": "#F5F6F9",
        "plot_bgcolor": "#F5F6F9",
        "template": {
         "data": {
          "bar": [
           {
            "error_x": {
             "color": "#2a3f5f"
            },
            "error_y": {
             "color": "#2a3f5f"
            },
            "marker": {
             "line": {
              "color": "#E5ECF6",
              "width": 0.5
             },
             "pattern": {
              "fillmode": "overlay",
              "size": 10,
              "solidity": 0.2
             }
            },
            "type": "bar"
           }
          ],
          "barpolar": [
           {
            "marker": {
             "line": {
              "color": "#E5ECF6",
              "width": 0.5
             },
             "pattern": {
              "fillmode": "overlay",
              "size": 10,
              "solidity": 0.2
             }
            },
            "type": "barpolar"
           }
          ],
          "carpet": [
           {
            "aaxis": {
             "endlinecolor": "#2a3f5f",
             "gridcolor": "white",
             "linecolor": "white",
             "minorgridcolor": "white",
             "startlinecolor": "#2a3f5f"
            },
            "baxis": {
             "endlinecolor": "#2a3f5f",
             "gridcolor": "white",
             "linecolor": "white",
             "minorgridcolor": "white",
             "startlinecolor": "#2a3f5f"
            },
            "type": "carpet"
           }
          ],
          "choropleth": [
           {
            "colorbar": {
             "outlinewidth": 0,
             "ticks": ""
            },
            "type": "choropleth"
           }
          ],
          "contour": [
           {
            "colorbar": {
             "outlinewidth": 0,
             "ticks": ""
            },
            "colorscale": [
             [
              0,
              "#0d0887"
             ],
             [
              0.1111111111111111,
              "#46039f"
             ],
             [
              0.2222222222222222,
              "#7201a8"
             ],
             [
              0.3333333333333333,
              "#9c179e"
             ],
             [
              0.4444444444444444,
              "#bd3786"
             ],
             [
              0.5555555555555556,
              "#d8576b"
             ],
             [
              0.6666666666666666,
              "#ed7953"
             ],
             [
              0.7777777777777778,
              "#fb9f3a"
             ],
             [
              0.8888888888888888,
              "#fdca26"
             ],
             [
              1,
              "#f0f921"
             ]
            ],
            "type": "contour"
           }
          ],
          "contourcarpet": [
           {
            "colorbar": {
             "outlinewidth": 0,
             "ticks": ""
            },
            "type": "contourcarpet"
           }
          ],
          "heatmap": [
           {
            "colorbar": {
             "outlinewidth": 0,
             "ticks": ""
            },
            "colorscale": [
             [
              0,
              "#0d0887"
             ],
             [
              0.1111111111111111,
              "#46039f"
             ],
             [
              0.2222222222222222,
              "#7201a8"
             ],
             [
              0.3333333333333333,
              "#9c179e"
             ],
             [
              0.4444444444444444,
              "#bd3786"
             ],
             [
              0.5555555555555556,
              "#d8576b"
             ],
             [
              0.6666666666666666,
              "#ed7953"
             ],
             [
              0.7777777777777778,
              "#fb9f3a"
             ],
             [
              0.8888888888888888,
              "#fdca26"
             ],
             [
              1,
              "#f0f921"
             ]
            ],
            "type": "heatmap"
           }
          ],
          "heatmapgl": [
           {
            "colorbar": {
             "outlinewidth": 0,
             "ticks": ""
            },
            "colorscale": [
             [
              0,
              "#0d0887"
             ],
             [
              0.1111111111111111,
              "#46039f"
             ],
             [
              0.2222222222222222,
              "#7201a8"
             ],
             [
              0.3333333333333333,
              "#9c179e"
             ],
             [
              0.4444444444444444,
              "#bd3786"
             ],
             [
              0.5555555555555556,
              "#d8576b"
             ],
             [
              0.6666666666666666,
              "#ed7953"
             ],
             [
              0.7777777777777778,
              "#fb9f3a"
             ],
             [
              0.8888888888888888,
              "#fdca26"
             ],
             [
              1,
              "#f0f921"
             ]
            ],
            "type": "heatmapgl"
           }
          ],
          "histogram": [
           {
            "marker": {
             "pattern": {
              "fillmode": "overlay",
              "size": 10,
              "solidity": 0.2
             }
            },
            "type": "histogram"
           }
          ],
          "histogram2d": [
           {
            "colorbar": {
             "outlinewidth": 0,
             "ticks": ""
            },
            "colorscale": [
             [
              0,
              "#0d0887"
             ],
             [
              0.1111111111111111,
              "#46039f"
             ],
             [
              0.2222222222222222,
              "#7201a8"
             ],
             [
              0.3333333333333333,
              "#9c179e"
             ],
             [
              0.4444444444444444,
              "#bd3786"
             ],
             [
              0.5555555555555556,
              "#d8576b"
             ],
             [
              0.6666666666666666,
              "#ed7953"
             ],
             [
              0.7777777777777778,
              "#fb9f3a"
             ],
             [
              0.8888888888888888,
              "#fdca26"
             ],
             [
              1,
              "#f0f921"
             ]
            ],
            "type": "histogram2d"
           }
          ],
          "histogram2dcontour": [
           {
            "colorbar": {
             "outlinewidth": 0,
             "ticks": ""
            },
            "colorscale": [
             [
              0,
              "#0d0887"
             ],
             [
              0.1111111111111111,
              "#46039f"
             ],
             [
              0.2222222222222222,
              "#7201a8"
             ],
             [
              0.3333333333333333,
              "#9c179e"
             ],
             [
              0.4444444444444444,
              "#bd3786"
             ],
             [
              0.5555555555555556,
              "#d8576b"
             ],
             [
              0.6666666666666666,
              "#ed7953"
             ],
             [
              0.7777777777777778,
              "#fb9f3a"
             ],
             [
              0.8888888888888888,
              "#fdca26"
             ],
             [
              1,
              "#f0f921"
             ]
            ],
            "type": "histogram2dcontour"
           }
          ],
          "mesh3d": [
           {
            "colorbar": {
             "outlinewidth": 0,
             "ticks": ""
            },
            "type": "mesh3d"
           }
          ],
          "parcoords": [
           {
            "line": {
             "colorbar": {
              "outlinewidth": 0,
              "ticks": ""
             }
            },
            "type": "parcoords"
           }
          ],
          "pie": [
           {
            "automargin": true,
            "type": "pie"
           }
          ],
          "scatter": [
           {
            "fillpattern": {
             "fillmode": "overlay",
             "size": 10,
             "solidity": 0.2
            },
            "type": "scatter"
           }
          ],
          "scatter3d": [
           {
            "line": {
             "colorbar": {
              "outlinewidth": 0,
              "ticks": ""
             }
            },
            "marker": {
             "colorbar": {
              "outlinewidth": 0,
              "ticks": ""
             }
            },
            "type": "scatter3d"
           }
          ],
          "scattercarpet": [
           {
            "marker": {
             "colorbar": {
              "outlinewidth": 0,
              "ticks": ""
             }
            },
            "type": "scattercarpet"
           }
          ],
          "scattergeo": [
           {
            "marker": {
             "colorbar": {
              "outlinewidth": 0,
              "ticks": ""
             }
            },
            "type": "scattergeo"
           }
          ],
          "scattergl": [
           {
            "marker": {
             "colorbar": {
              "outlinewidth": 0,
              "ticks": ""
             }
            },
            "type": "scattergl"
           }
          ],
          "scattermapbox": [
           {
            "marker": {
             "colorbar": {
              "outlinewidth": 0,
              "ticks": ""
             }
            },
            "type": "scattermapbox"
           }
          ],
          "scatterpolar": [
           {
            "marker": {
             "colorbar": {
              "outlinewidth": 0,
              "ticks": ""
             }
            },
            "type": "scatterpolar"
           }
          ],
          "scatterpolargl": [
           {
            "marker": {
             "colorbar": {
              "outlinewidth": 0,
              "ticks": ""
             }
            },
            "type": "scatterpolargl"
           }
          ],
          "scatterternary": [
           {
            "marker": {
             "colorbar": {
              "outlinewidth": 0,
              "ticks": ""
             }
            },
            "type": "scatterternary"
           }
          ],
          "surface": [
           {
            "colorbar": {
             "outlinewidth": 0,
             "ticks": ""
            },
            "colorscale": [
             [
              0,
              "#0d0887"
             ],
             [
              0.1111111111111111,
              "#46039f"
             ],
             [
              0.2222222222222222,
              "#7201a8"
             ],
             [
              0.3333333333333333,
              "#9c179e"
             ],
             [
              0.4444444444444444,
              "#bd3786"
             ],
             [
              0.5555555555555556,
              "#d8576b"
             ],
             [
              0.6666666666666666,
              "#ed7953"
             ],
             [
              0.7777777777777778,
              "#fb9f3a"
             ],
             [
              0.8888888888888888,
              "#fdca26"
             ],
             [
              1,
              "#f0f921"
             ]
            ],
            "type": "surface"
           }
          ],
          "table": [
           {
            "cells": {
             "fill": {
              "color": "#EBF0F8"
             },
             "line": {
              "color": "white"
             }
            },
            "header": {
             "fill": {
              "color": "#C8D4E3"
             },
             "line": {
              "color": "white"
             }
            },
            "type": "table"
           }
          ]
         },
         "layout": {
          "annotationdefaults": {
           "arrowcolor": "#2a3f5f",
           "arrowhead": 0,
           "arrowwidth": 1
          },
          "autotypenumbers": "strict",
          "coloraxis": {
           "colorbar": {
            "outlinewidth": 0,
            "ticks": ""
           }
          },
          "colorscale": {
           "diverging": [
            [
             0,
             "#8e0152"
            ],
            [
             0.1,
             "#c51b7d"
            ],
            [
             0.2,
             "#de77ae"
            ],
            [
             0.3,
             "#f1b6da"
            ],
            [
             0.4,
             "#fde0ef"
            ],
            [
             0.5,
             "#f7f7f7"
            ],
            [
             0.6,
             "#e6f5d0"
            ],
            [
             0.7,
             "#b8e186"
            ],
            [
             0.8,
             "#7fbc41"
            ],
            [
             0.9,
             "#4d9221"
            ],
            [
             1,
             "#276419"
            ]
           ],
           "sequential": [
            [
             0,
             "#0d0887"
            ],
            [
             0.1111111111111111,
             "#46039f"
            ],
            [
             0.2222222222222222,
             "#7201a8"
            ],
            [
             0.3333333333333333,
             "#9c179e"
            ],
            [
             0.4444444444444444,
             "#bd3786"
            ],
            [
             0.5555555555555556,
             "#d8576b"
            ],
            [
             0.6666666666666666,
             "#ed7953"
            ],
            [
             0.7777777777777778,
             "#fb9f3a"
            ],
            [
             0.8888888888888888,
             "#fdca26"
            ],
            [
             1,
             "#f0f921"
            ]
           ],
           "sequentialminus": [
            [
             0,
             "#0d0887"
            ],
            [
             0.1111111111111111,
             "#46039f"
            ],
            [
             0.2222222222222222,
             "#7201a8"
            ],
            [
             0.3333333333333333,
             "#9c179e"
            ],
            [
             0.4444444444444444,
             "#bd3786"
            ],
            [
             0.5555555555555556,
             "#d8576b"
            ],
            [
             0.6666666666666666,
             "#ed7953"
            ],
            [
             0.7777777777777778,
             "#fb9f3a"
            ],
            [
             0.8888888888888888,
             "#fdca26"
            ],
            [
             1,
             "#f0f921"
            ]
           ]
          },
          "colorway": [
           "#636efa",
           "#EF553B",
           "#00cc96",
           "#ab63fa",
           "#FFA15A",
           "#19d3f3",
           "#FF6692",
           "#B6E880",
           "#FF97FF",
           "#FECB52"
          ],
          "font": {
           "color": "#2a3f5f"
          },
          "geo": {
           "bgcolor": "white",
           "lakecolor": "white",
           "landcolor": "#E5ECF6",
           "showlakes": true,
           "showland": true,
           "subunitcolor": "white"
          },
          "hoverlabel": {
           "align": "left"
          },
          "hovermode": "closest",
          "mapbox": {
           "style": "light"
          },
          "paper_bgcolor": "white",
          "plot_bgcolor": "#E5ECF6",
          "polar": {
           "angularaxis": {
            "gridcolor": "white",
            "linecolor": "white",
            "ticks": ""
           },
           "bgcolor": "#E5ECF6",
           "radialaxis": {
            "gridcolor": "white",
            "linecolor": "white",
            "ticks": ""
           }
          },
          "scene": {
           "xaxis": {
            "backgroundcolor": "#E5ECF6",
            "gridcolor": "white",
            "gridwidth": 2,
            "linecolor": "white",
            "showbackground": true,
            "ticks": "",
            "zerolinecolor": "white"
           },
           "yaxis": {
            "backgroundcolor": "#E5ECF6",
            "gridcolor": "white",
            "gridwidth": 2,
            "linecolor": "white",
            "showbackground": true,
            "ticks": "",
            "zerolinecolor": "white"
           },
           "zaxis": {
            "backgroundcolor": "#E5ECF6",
            "gridcolor": "white",
            "gridwidth": 2,
            "linecolor": "white",
            "showbackground": true,
            "ticks": "",
            "zerolinecolor": "white"
           }
          },
          "shapedefaults": {
           "line": {
            "color": "#2a3f5f"
           }
          },
          "ternary": {
           "aaxis": {
            "gridcolor": "white",
            "linecolor": "white",
            "ticks": ""
           },
           "baxis": {
            "gridcolor": "white",
            "linecolor": "white",
            "ticks": ""
           },
           "bgcolor": "#E5ECF6",
           "caxis": {
            "gridcolor": "white",
            "linecolor": "white",
            "ticks": ""
           }
          },
          "title": {
           "x": 0.05
          },
          "xaxis": {
           "automargin": true,
           "gridcolor": "white",
           "linecolor": "white",
           "ticks": "",
           "title": {
            "standoff": 15
           },
           "zerolinecolor": "white",
           "zerolinewidth": 2
          },
          "yaxis": {
           "automargin": true,
           "gridcolor": "white",
           "linecolor": "white",
           "ticks": "",
           "title": {
            "standoff": 15
           },
           "zerolinecolor": "white",
           "zerolinewidth": 2
          }
         }
        },
        "title": {
         "font": {
          "color": "#4D5663"
         }
        },
        "xaxis": {
         "gridcolor": "#E1E5ED",
         "showgrid": true,
         "tickfont": {
          "color": "#4D5663"
         },
         "title": {
          "font": {
           "color": "#4D5663"
          },
          "text": ""
         },
         "zerolinecolor": "#E1E5ED"
        },
        "yaxis": {
         "gridcolor": "#E1E5ED",
         "showgrid": true,
         "tickfont": {
          "color": "#4D5663"
         },
         "title": {
          "font": {
           "color": "#4D5663"
          },
          "text": ""
         },
         "zerolinecolor": "#E1E5ED"
        }
       }
      },
      "text/html": [
       "<div>                            <div id=\"8e7424a9-ab2c-4960-af51-b695fbf8456c\" class=\"plotly-graph-div\" style=\"height:525px; width:100%;\"></div>            <script type=\"text/javascript\">                require([\"plotly\"], function(Plotly) {                    window.PLOTLYENV=window.PLOTLYENV || {};\n",
       "                    window.PLOTLYENV.BASE_URL='https://plot.ly';                                    if (document.getElementById(\"8e7424a9-ab2c-4960-af51-b695fbf8456c\")) {                    Plotly.newPlot(                        \"8e7424a9-ab2c-4960-af51-b695fbf8456c\",                        [{\"line\":{\"color\":\"rgba(255, 153, 51, 1.0)\",\"dash\":\"solid\",\"shape\":\"linear\",\"width\":1.3},\"mode\":\"lines\",\"name\":\"A\",\"text\":\"\",\"x\":[0,1,2,3,4,5,6,7,8,9,10,11,12,13,14,15,16,17,18,19,20,21,22,23,24,25,26,27,28,29,30,31,32,33,34,35,36,37,38,39,40,41,42,43,44,45,46,47,48,49,50,51,52,53,54,55,56,57,58,59,60,61,62,63,64,65,66,67,68,69,70,71,72,73,74,75,76,77,78,79,80,81,82,83,84,85,86,87,88,89,90,91,92,93,94,95,96,97,98,99],\"y\":[0.042951484569504976,-0.2202853182291732,1.1734268801089391,-0.242857425217831,0.6763938161336688,-0.35387111095045287,-1.178873015258505,-0.9043748575099387,1.289961855900039,0.4024925419044032,0.47478873453097875,-1.5599979609496375,1.256435413677142,-1.0956306989431794,-0.4086611258433707,-1.3945695346151434,0.912962045848968,0.30730511387148135,-0.1939624564553397,1.4671933909894053,0.5694254821204012,-1.1931505134032656,1.5569400206519073,2.3296513255577835,0.21366883706439055,-0.7481852006274928,-1.047437879897871,-1.5665786547362606,-0.4195824696415362,0.7356706051151829,1.4854953122092205,-1.3585448502023059,0.6868115836283416,-0.8590019761193095,-0.3167758916209611,-2.5859566581957814,1.8802303072579827,0.33698592765530255,0.24253885461217137,-1.0610179368441957,0.6063985638659398,1.9432087735321149,-0.30963188399023234,-0.9478546493238559,1.6901316294856135,-0.9748813666852253,1.6306834387604556,0.5099483849696402,-0.8464325906049034,-0.5542596398999922,1.5009952174177925,-0.1652580228163639,0.01163057019334677,0.7861976487418677,-1.3589873822837037,-0.4793132050239744,-0.8884327703773046,-0.3284322245590626,-0.4240280239376068,0.22150415379237778,0.3881047010647667,-0.30205926100025343,0.26673438198881094,-1.591193149414884,0.8778887244884065,0.2209150355262721,1.0160545227316395,0.3491350139623226,-0.9537562700624382,1.687178900073207,0.6711975871514694,-0.47100392021657966,-0.4796751132677763,0.8899899575821433,-0.34435673664939204,-0.5704311813504567,0.17464690363311544,-0.7418420309705646,-0.6330916545993854,-1.5647070071417015,0.1292205238573053,0.17257583531658205,0.5641384665414945,-1.2693499109193727,1.112215426407947,-0.6246175481905369,0.6243230099698143,-0.5868564679739539,-0.38798572600393394,-2.2238360986731847,0.39483428796649245,-1.5128431080727769,-0.17054727445722603,0.2785807882330337,0.12745026931076014,0.37528908825820756,0.01664120828374138,2.7111613412371853,0.6852940169202932,0.04551068262644309],\"type\":\"scatter\"},{\"line\":{\"color\":\"rgba(55, 128, 191, 1.0)\",\"dash\":\"solid\",\"shape\":\"linear\",\"width\":1.3},\"mode\":\"lines\",\"name\":\"B\",\"text\":\"\",\"x\":[0,1,2,3,4,5,6,7,8,9,10,11,12,13,14,15,16,17,18,19,20,21,22,23,24,25,26,27,28,29,30,31,32,33,34,35,36,37,38,39,40,41,42,43,44,45,46,47,48,49,50,51,52,53,54,55,56,57,58,59,60,61,62,63,64,65,66,67,68,69,70,71,72,73,74,75,76,77,78,79,80,81,82,83,84,85,86,87,88,89,90,91,92,93,94,95,96,97,98,99],\"y\":[0.6192879182170579,1.1257981118290274,-0.18605348668541802,1.68420984422097,-0.9102788942172225,-0.5202766729357958,-0.8997368949419952,0.6662772657608717,0.35174523740201824,0.9641528029440805,-0.8653270517802244,0.9452732084915756,0.47945395129175744,-0.4286061172343618,-1.2735688440555835,0.40889101608737194,1.2422571076767783,1.4166175858265113,-0.5270318815990367,-0.800046474269336,0.214565407669123,-0.55640152527389,-0.9114344441458444,3.1083979331621663,-0.7311112731850965,-0.684880342436226,0.06274744992688126,2.742531672377017,-2.133326227684579,0.1151137652842412,0.7680900451533238,-0.5223302478800493,0.022174916223067612,2.4139818872965506,0.21130446301537828,-1.0520853313040146,-1.7954748202765316,-0.9478364870503688,0.5588092484146348,-0.7601933681171539,0.14143501024264124,0.27309509504905183,-2.427264041980388,0.23317620185855684,-3.1588073663659517,-0.9122905543369599,0.6107267009505823,-0.23496380499321687,0.2941546566425414,0.7183125745805514,1.070927343340471,-1.0193545665580568,1.5531729890673478,-0.957694030028398,1.1727426779104344,0.20692751971823767,-0.34462607961309055,0.6537646309558028,2.6435063941444903,-0.26984172479330476,0.06320591618100005,2.9234580741428777,0.9283667700362315,0.343527795795072,-1.6951366429125174,0.6105405577363859,1.2681520353623972,-1.4348732293337862,0.036658494980897884,0.8311983922247884,-0.30313544490508115,-0.4189732950197264,0.1303538776810748,0.5785788369835336,0.4081059853116089,-0.05183208331726445,0.6342275658481765,-0.2792889338774161,0.06936324222582699,0.5281795507084809,0.40946299084644944,1.3820817269300272,0.2347867174176207,2.6062135259018873,-1.5016377554871971,0.6800085010932065,-0.021387092292663206,1.536948561145858,0.7924620306825507,1.7553181160764677,-0.869180304417114,0.709670228343469,-0.24003645899926476,1.2632533989196815,0.019840686964291792,-0.7226923963856168,0.9000389139195395,-0.5072870380033023,-0.048363172534944744,-0.7864118916761768],\"type\":\"scatter\"},{\"line\":{\"color\":\"rgba(50, 171, 96, 1.0)\",\"dash\":\"solid\",\"shape\":\"linear\",\"width\":1.3},\"mode\":\"lines\",\"name\":\"C\",\"text\":\"\",\"x\":[0,1,2,3,4,5,6,7,8,9,10,11,12,13,14,15,16,17,18,19,20,21,22,23,24,25,26,27,28,29,30,31,32,33,34,35,36,37,38,39,40,41,42,43,44,45,46,47,48,49,50,51,52,53,54,55,56,57,58,59,60,61,62,63,64,65,66,67,68,69,70,71,72,73,74,75,76,77,78,79,80,81,82,83,84,85,86,87,88,89,90,91,92,93,94,95,96,97,98,99],\"y\":[-0.8504629846670366,0.3470106660474676,-0.947157868453042,-1.3753738685210328,0.798112475861372,-0.07703631274791213,1.0081338509405333,1.7164031262789414,-0.15428419974716925,0.7394786809792315,-0.29087805351923696,-0.5036911983143708,0.7783109538359925,-0.9144864195606346,1.116337266608769,0.053086914437842025,1.1101169589996904,-0.07085129969144484,0.040320607319248414,0.28456521512565375,-0.3051548037600851,0.1608256854735454,0.5448689042209915,0.5130086565826092,1.114722787381222,-0.03033601069045141,0.6077097977908359,1.53612369790164,-0.5012501672556618,-0.6922311374242788,-0.030434283930449717,-0.7325996923830687,1.9560475088120413,1.7928012874028676,0.5183789488380032,-0.06247876335431108,0.06631837618682593,0.6307445934333602,1.5465192727036488,0.020633866560363073,0.30250193170395867,1.6771883503720761,-1.366327161291545,-0.0176458306245623,-0.13534138524280714,0.14200842587933715,-0.42959470571188285,1.0889289527460462,-0.5838295739246996,0.2784376622727278,-1.6055776206589827,-0.7583919697249786,0.33986581486104167,-1.6329635927053063,0.14195826962869051,0.21904261630627975,-0.26870964311125756,-2.0344872045157114,0.8005427352285261,-0.2843127710147637,-2.1657093271797088,-0.8083818932840517,0.27726807561376,0.35200537183063185,-1.2941715559683442,0.8810559886831515,-0.6999370839443164,0.8026579340017406,1.200946185356744,-0.2941228811682841,2.5698652166863374,-0.7179356903023796,2.546739037086572,0.28897228668584174,0.8625860396497803,-0.6754435434133842,0.6030968163029332,1.4328624709910547,-0.019837684596422166,-0.10896990206263385,1.4102348753371692,-1.8690520719855694,-0.9759947194700561,-1.347030914236879,-0.00868423520275727,0.23550473380153755,-0.34338332229913704,0.025913405196481814,-0.1509748477861139,0.023652325265938547,-0.9116681818552379,0.46001109960251635,-0.7266253041278453,-0.000713758687759925,-0.9616896614161947,0.4818779798820858,1.429448189634716,-0.5211333364859005,-1.4718441559943454,0.36990748517458355],\"type\":\"scatter\"},{\"line\":{\"color\":\"rgba(128, 0, 128, 1.0)\",\"dash\":\"solid\",\"shape\":\"linear\",\"width\":1.3},\"mode\":\"lines\",\"name\":\"D\",\"text\":\"\",\"x\":[0,1,2,3,4,5,6,7,8,9,10,11,12,13,14,15,16,17,18,19,20,21,22,23,24,25,26,27,28,29,30,31,32,33,34,35,36,37,38,39,40,41,42,43,44,45,46,47,48,49,50,51,52,53,54,55,56,57,58,59,60,61,62,63,64,65,66,67,68,69,70,71,72,73,74,75,76,77,78,79,80,81,82,83,84,85,86,87,88,89,90,91,92,93,94,95,96,97,98,99],\"y\":[0.09810140879192156,1.0821585282388269,-1.4171248011615019,-1.681027934088529,-1.5426929836829733,0.7832147248858957,-0.7026508858544321,0.9741928148992898,0.7516172349078831,-1.0166850884338632,-0.8845407757566924,-0.8750379369793457,1.8736709664082034,-0.052899055320985544,1.3512178391863716,-0.18010450905832964,0.5860120402012328,-1.3522280442963397,-0.06740328278078253,1.1079425142104637,0.022099086678615883,0.8245665325239215,-0.3624823520505544,0.12363321364733355,0.38472994873374255,-0.8450571672231768,0.015188014417435147,0.12010790903890044,0.4085443628403387,0.7813670689251719,-0.47614926783054934,1.2185069541003242,-0.3010235087835275,0.5068742732191456,0.2391999745080336,-1.3356989501178944,-1.8861844520282103,-0.4636196529271505,0.6563545318345386,-0.6220848495485403,-0.44705641151759895,-1.9309191056949997,0.5949001187224799,0.03576457859212332,-0.2679998578508826,-0.2009488318995272,0.7938135479115963,1.649693641080204,-0.32892264026438395,-0.7341027023538993,-1.1218984959219487,-0.16540043889166298,-2.2488066605144277,0.23737591970941674,0.24478357266576542,-0.28253293153056036,1.006130640980851,0.9378984871881437,1.088213849894811,0.8248437305613723,-2.688043702273467,-1.7619891255564812,-0.33425568490133084,-1.2511561057450569,-0.07475995985482435,0.6930236216468565,-1.9890012589837858,-0.7495033548258262,-0.23767376718480676,-0.6017116670533126,1.5507489010923925,1.0117488474759582,-0.032719332652793004,-0.27657682862296384,-0.9424378950776426,-0.35908107751131124,1.9205665872236553,-0.20557618943903266,-1.2366161188207578,0.006956169777380158,0.308914754920131,0.04941829377527631,0.6670918623792209,-1.8749217552790838,-0.06266549513086278,-0.6801984634652508,1.656176704126538,1.5060730196685739,0.32600789039124106,0.8476973198310992,-0.10144457537645299,-0.586455108088047,0.9279948700124497,-0.008768409556187321,1.0855785426038398,-0.6717157469387206,0.6667545705904094,0.6459431251440116,-1.662539146174201,-1.0697674156336698],\"type\":\"scatter\"}],                        {\"legend\":{\"bgcolor\":\"#F5F6F9\",\"font\":{\"color\":\"#4D5663\"}},\"paper_bgcolor\":\"#F5F6F9\",\"plot_bgcolor\":\"#F5F6F9\",\"template\":{\"data\":{\"barpolar\":[{\"marker\":{\"line\":{\"color\":\"#E5ECF6\",\"width\":0.5},\"pattern\":{\"fillmode\":\"overlay\",\"size\":10,\"solidity\":0.2}},\"type\":\"barpolar\"}],\"bar\":[{\"error_x\":{\"color\":\"#2a3f5f\"},\"error_y\":{\"color\":\"#2a3f5f\"},\"marker\":{\"line\":{\"color\":\"#E5ECF6\",\"width\":0.5},\"pattern\":{\"fillmode\":\"overlay\",\"size\":10,\"solidity\":0.2}},\"type\":\"bar\"}],\"carpet\":[{\"aaxis\":{\"endlinecolor\":\"#2a3f5f\",\"gridcolor\":\"white\",\"linecolor\":\"white\",\"minorgridcolor\":\"white\",\"startlinecolor\":\"#2a3f5f\"},\"baxis\":{\"endlinecolor\":\"#2a3f5f\",\"gridcolor\":\"white\",\"linecolor\":\"white\",\"minorgridcolor\":\"white\",\"startlinecolor\":\"#2a3f5f\"},\"type\":\"carpet\"}],\"choropleth\":[{\"colorbar\":{\"outlinewidth\":0,\"ticks\":\"\"},\"type\":\"choropleth\"}],\"contourcarpet\":[{\"colorbar\":{\"outlinewidth\":0,\"ticks\":\"\"},\"type\":\"contourcarpet\"}],\"contour\":[{\"colorbar\":{\"outlinewidth\":0,\"ticks\":\"\"},\"colorscale\":[[0.0,\"#0d0887\"],[0.1111111111111111,\"#46039f\"],[0.2222222222222222,\"#7201a8\"],[0.3333333333333333,\"#9c179e\"],[0.4444444444444444,\"#bd3786\"],[0.5555555555555556,\"#d8576b\"],[0.6666666666666666,\"#ed7953\"],[0.7777777777777778,\"#fb9f3a\"],[0.8888888888888888,\"#fdca26\"],[1.0,\"#f0f921\"]],\"type\":\"contour\"}],\"heatmapgl\":[{\"colorbar\":{\"outlinewidth\":0,\"ticks\":\"\"},\"colorscale\":[[0.0,\"#0d0887\"],[0.1111111111111111,\"#46039f\"],[0.2222222222222222,\"#7201a8\"],[0.3333333333333333,\"#9c179e\"],[0.4444444444444444,\"#bd3786\"],[0.5555555555555556,\"#d8576b\"],[0.6666666666666666,\"#ed7953\"],[0.7777777777777778,\"#fb9f3a\"],[0.8888888888888888,\"#fdca26\"],[1.0,\"#f0f921\"]],\"type\":\"heatmapgl\"}],\"heatmap\":[{\"colorbar\":{\"outlinewidth\":0,\"ticks\":\"\"},\"colorscale\":[[0.0,\"#0d0887\"],[0.1111111111111111,\"#46039f\"],[0.2222222222222222,\"#7201a8\"],[0.3333333333333333,\"#9c179e\"],[0.4444444444444444,\"#bd3786\"],[0.5555555555555556,\"#d8576b\"],[0.6666666666666666,\"#ed7953\"],[0.7777777777777778,\"#fb9f3a\"],[0.8888888888888888,\"#fdca26\"],[1.0,\"#f0f921\"]],\"type\":\"heatmap\"}],\"histogram2dcontour\":[{\"colorbar\":{\"outlinewidth\":0,\"ticks\":\"\"},\"colorscale\":[[0.0,\"#0d0887\"],[0.1111111111111111,\"#46039f\"],[0.2222222222222222,\"#7201a8\"],[0.3333333333333333,\"#9c179e\"],[0.4444444444444444,\"#bd3786\"],[0.5555555555555556,\"#d8576b\"],[0.6666666666666666,\"#ed7953\"],[0.7777777777777778,\"#fb9f3a\"],[0.8888888888888888,\"#fdca26\"],[1.0,\"#f0f921\"]],\"type\":\"histogram2dcontour\"}],\"histogram2d\":[{\"colorbar\":{\"outlinewidth\":0,\"ticks\":\"\"},\"colorscale\":[[0.0,\"#0d0887\"],[0.1111111111111111,\"#46039f\"],[0.2222222222222222,\"#7201a8\"],[0.3333333333333333,\"#9c179e\"],[0.4444444444444444,\"#bd3786\"],[0.5555555555555556,\"#d8576b\"],[0.6666666666666666,\"#ed7953\"],[0.7777777777777778,\"#fb9f3a\"],[0.8888888888888888,\"#fdca26\"],[1.0,\"#f0f921\"]],\"type\":\"histogram2d\"}],\"histogram\":[{\"marker\":{\"pattern\":{\"fillmode\":\"overlay\",\"size\":10,\"solidity\":0.2}},\"type\":\"histogram\"}],\"mesh3d\":[{\"colorbar\":{\"outlinewidth\":0,\"ticks\":\"\"},\"type\":\"mesh3d\"}],\"parcoords\":[{\"line\":{\"colorbar\":{\"outlinewidth\":0,\"ticks\":\"\"}},\"type\":\"parcoords\"}],\"pie\":[{\"automargin\":true,\"type\":\"pie\"}],\"scatter3d\":[{\"line\":{\"colorbar\":{\"outlinewidth\":0,\"ticks\":\"\"}},\"marker\":{\"colorbar\":{\"outlinewidth\":0,\"ticks\":\"\"}},\"type\":\"scatter3d\"}],\"scattercarpet\":[{\"marker\":{\"colorbar\":{\"outlinewidth\":0,\"ticks\":\"\"}},\"type\":\"scattercarpet\"}],\"scattergeo\":[{\"marker\":{\"colorbar\":{\"outlinewidth\":0,\"ticks\":\"\"}},\"type\":\"scattergeo\"}],\"scattergl\":[{\"marker\":{\"colorbar\":{\"outlinewidth\":0,\"ticks\":\"\"}},\"type\":\"scattergl\"}],\"scattermapbox\":[{\"marker\":{\"colorbar\":{\"outlinewidth\":0,\"ticks\":\"\"}},\"type\":\"scattermapbox\"}],\"scatterpolargl\":[{\"marker\":{\"colorbar\":{\"outlinewidth\":0,\"ticks\":\"\"}},\"type\":\"scatterpolargl\"}],\"scatterpolar\":[{\"marker\":{\"colorbar\":{\"outlinewidth\":0,\"ticks\":\"\"}},\"type\":\"scatterpolar\"}],\"scatter\":[{\"fillpattern\":{\"fillmode\":\"overlay\",\"size\":10,\"solidity\":0.2},\"type\":\"scatter\"}],\"scatterternary\":[{\"marker\":{\"colorbar\":{\"outlinewidth\":0,\"ticks\":\"\"}},\"type\":\"scatterternary\"}],\"surface\":[{\"colorbar\":{\"outlinewidth\":0,\"ticks\":\"\"},\"colorscale\":[[0.0,\"#0d0887\"],[0.1111111111111111,\"#46039f\"],[0.2222222222222222,\"#7201a8\"],[0.3333333333333333,\"#9c179e\"],[0.4444444444444444,\"#bd3786\"],[0.5555555555555556,\"#d8576b\"],[0.6666666666666666,\"#ed7953\"],[0.7777777777777778,\"#fb9f3a\"],[0.8888888888888888,\"#fdca26\"],[1.0,\"#f0f921\"]],\"type\":\"surface\"}],\"table\":[{\"cells\":{\"fill\":{\"color\":\"#EBF0F8\"},\"line\":{\"color\":\"white\"}},\"header\":{\"fill\":{\"color\":\"#C8D4E3\"},\"line\":{\"color\":\"white\"}},\"type\":\"table\"}]},\"layout\":{\"annotationdefaults\":{\"arrowcolor\":\"#2a3f5f\",\"arrowhead\":0,\"arrowwidth\":1},\"autotypenumbers\":\"strict\",\"coloraxis\":{\"colorbar\":{\"outlinewidth\":0,\"ticks\":\"\"}},\"colorscale\":{\"diverging\":[[0,\"#8e0152\"],[0.1,\"#c51b7d\"],[0.2,\"#de77ae\"],[0.3,\"#f1b6da\"],[0.4,\"#fde0ef\"],[0.5,\"#f7f7f7\"],[0.6,\"#e6f5d0\"],[0.7,\"#b8e186\"],[0.8,\"#7fbc41\"],[0.9,\"#4d9221\"],[1,\"#276419\"]],\"sequential\":[[0.0,\"#0d0887\"],[0.1111111111111111,\"#46039f\"],[0.2222222222222222,\"#7201a8\"],[0.3333333333333333,\"#9c179e\"],[0.4444444444444444,\"#bd3786\"],[0.5555555555555556,\"#d8576b\"],[0.6666666666666666,\"#ed7953\"],[0.7777777777777778,\"#fb9f3a\"],[0.8888888888888888,\"#fdca26\"],[1.0,\"#f0f921\"]],\"sequentialminus\":[[0.0,\"#0d0887\"],[0.1111111111111111,\"#46039f\"],[0.2222222222222222,\"#7201a8\"],[0.3333333333333333,\"#9c179e\"],[0.4444444444444444,\"#bd3786\"],[0.5555555555555556,\"#d8576b\"],[0.6666666666666666,\"#ed7953\"],[0.7777777777777778,\"#fb9f3a\"],[0.8888888888888888,\"#fdca26\"],[1.0,\"#f0f921\"]]},\"colorway\":[\"#636efa\",\"#EF553B\",\"#00cc96\",\"#ab63fa\",\"#FFA15A\",\"#19d3f3\",\"#FF6692\",\"#B6E880\",\"#FF97FF\",\"#FECB52\"],\"font\":{\"color\":\"#2a3f5f\"},\"geo\":{\"bgcolor\":\"white\",\"lakecolor\":\"white\",\"landcolor\":\"#E5ECF6\",\"showlakes\":true,\"showland\":true,\"subunitcolor\":\"white\"},\"hoverlabel\":{\"align\":\"left\"},\"hovermode\":\"closest\",\"mapbox\":{\"style\":\"light\"},\"paper_bgcolor\":\"white\",\"plot_bgcolor\":\"#E5ECF6\",\"polar\":{\"angularaxis\":{\"gridcolor\":\"white\",\"linecolor\":\"white\",\"ticks\":\"\"},\"bgcolor\":\"#E5ECF6\",\"radialaxis\":{\"gridcolor\":\"white\",\"linecolor\":\"white\",\"ticks\":\"\"}},\"scene\":{\"xaxis\":{\"backgroundcolor\":\"#E5ECF6\",\"gridcolor\":\"white\",\"gridwidth\":2,\"linecolor\":\"white\",\"showbackground\":true,\"ticks\":\"\",\"zerolinecolor\":\"white\"},\"yaxis\":{\"backgroundcolor\":\"#E5ECF6\",\"gridcolor\":\"white\",\"gridwidth\":2,\"linecolor\":\"white\",\"showbackground\":true,\"ticks\":\"\",\"zerolinecolor\":\"white\"},\"zaxis\":{\"backgroundcolor\":\"#E5ECF6\",\"gridcolor\":\"white\",\"gridwidth\":2,\"linecolor\":\"white\",\"showbackground\":true,\"ticks\":\"\",\"zerolinecolor\":\"white\"}},\"shapedefaults\":{\"line\":{\"color\":\"#2a3f5f\"}},\"ternary\":{\"aaxis\":{\"gridcolor\":\"white\",\"linecolor\":\"white\",\"ticks\":\"\"},\"baxis\":{\"gridcolor\":\"white\",\"linecolor\":\"white\",\"ticks\":\"\"},\"bgcolor\":\"#E5ECF6\",\"caxis\":{\"gridcolor\":\"white\",\"linecolor\":\"white\",\"ticks\":\"\"}},\"title\":{\"x\":0.05},\"xaxis\":{\"automargin\":true,\"gridcolor\":\"white\",\"linecolor\":\"white\",\"ticks\":\"\",\"title\":{\"standoff\":15},\"zerolinecolor\":\"white\",\"zerolinewidth\":2},\"yaxis\":{\"automargin\":true,\"gridcolor\":\"white\",\"linecolor\":\"white\",\"ticks\":\"\",\"title\":{\"standoff\":15},\"zerolinecolor\":\"white\",\"zerolinewidth\":2}}},\"title\":{\"font\":{\"color\":\"#4D5663\"}},\"xaxis\":{\"gridcolor\":\"#E1E5ED\",\"showgrid\":true,\"tickfont\":{\"color\":\"#4D5663\"},\"title\":{\"font\":{\"color\":\"#4D5663\"},\"text\":\"\"},\"zerolinecolor\":\"#E1E5ED\"},\"yaxis\":{\"gridcolor\":\"#E1E5ED\",\"showgrid\":true,\"tickfont\":{\"color\":\"#4D5663\"},\"title\":{\"font\":{\"color\":\"#4D5663\"},\"text\":\"\"},\"zerolinecolor\":\"#E1E5ED\"}},                        {\"showLink\": true, \"linkText\": \"Export to plot.ly\", \"plotlyServerURL\": \"https://plot.ly\", \"responsive\": true}                    ).then(function(){\n",
       "                            \n",
       "var gd = document.getElementById('8e7424a9-ab2c-4960-af51-b695fbf8456c');\n",
       "var x = new MutationObserver(function (mutations, observer) {{\n",
       "        var display = window.getComputedStyle(gd).display;\n",
       "        if (!display || display === 'none') {{\n",
       "            console.log([gd, 'removed!']);\n",
       "            Plotly.purge(gd);\n",
       "            observer.disconnect();\n",
       "        }}\n",
       "}});\n",
       "\n",
       "// Listen for the removal of the full notebook cells\n",
       "var notebookContainer = gd.closest('#notebook-container');\n",
       "if (notebookContainer) {{\n",
       "    x.observe(notebookContainer, {childList: true});\n",
       "}}\n",
       "\n",
       "// Listen for the clearing of the current output cell\n",
       "var outputEl = gd.closest('.output');\n",
       "if (outputEl) {{\n",
       "    x.observe(outputEl, {childList: true});\n",
       "}}\n",
       "\n",
       "                        })                };                });            </script>        </div>"
      ]
     },
     "metadata": {},
     "output_type": "display_data"
    }
   ],
   "source": [
    "df.iplot()"
   ]
  },
  {
   "cell_type": "markdown",
   "id": "3770777a",
   "metadata": {},
   "source": [
    "### Scatterplots"
   ]
  },
  {
   "cell_type": "code",
   "execution_count": 13,
   "id": "6d9cdaec",
   "metadata": {},
   "outputs": [
    {
     "data": {
      "application/vnd.plotly.v1+json": {
       "config": {
        "linkText": "Export to plot.ly",
        "plotlyServerURL": "https://plot.ly",
        "showLink": true
       },
       "data": [
        {
         "line": {
          "color": "rgba(255, 153, 51, 1.0)",
          "dash": "solid",
          "shape": "linear",
          "width": 1.3
         },
         "mode": "lines",
         "name": "B",
         "text": "",
         "type": "scatter",
         "x": [
          0.042951484569504976,
          -0.2202853182291732,
          1.1734268801089391,
          -0.242857425217831,
          0.6763938161336688,
          -0.35387111095045287,
          -1.178873015258505,
          -0.9043748575099387,
          1.289961855900039,
          0.4024925419044032,
          0.47478873453097875,
          -1.5599979609496375,
          1.256435413677142,
          -1.0956306989431794,
          -0.4086611258433707,
          -1.3945695346151434,
          0.912962045848968,
          0.30730511387148135,
          -0.1939624564553397,
          1.4671933909894053,
          0.5694254821204012,
          -1.1931505134032656,
          1.5569400206519073,
          2.3296513255577835,
          0.21366883706439055,
          -0.7481852006274928,
          -1.047437879897871,
          -1.5665786547362606,
          -0.4195824696415362,
          0.7356706051151829,
          1.4854953122092205,
          -1.3585448502023059,
          0.6868115836283416,
          -0.8590019761193095,
          -0.3167758916209611,
          -2.5859566581957814,
          1.8802303072579827,
          0.33698592765530255,
          0.24253885461217137,
          -1.0610179368441957,
          0.6063985638659398,
          1.9432087735321149,
          -0.30963188399023234,
          -0.9478546493238559,
          1.6901316294856135,
          -0.9748813666852253,
          1.6306834387604556,
          0.5099483849696402,
          -0.8464325906049034,
          -0.5542596398999922,
          1.5009952174177925,
          -0.1652580228163639,
          0.01163057019334677,
          0.7861976487418677,
          -1.3589873822837037,
          -0.4793132050239744,
          -0.8884327703773046,
          -0.3284322245590626,
          -0.4240280239376068,
          0.22150415379237778,
          0.3881047010647667,
          -0.30205926100025343,
          0.26673438198881094,
          -1.591193149414884,
          0.8778887244884065,
          0.2209150355262721,
          1.0160545227316395,
          0.3491350139623226,
          -0.9537562700624382,
          1.687178900073207,
          0.6711975871514694,
          -0.47100392021657966,
          -0.4796751132677763,
          0.8899899575821433,
          -0.34435673664939204,
          -0.5704311813504567,
          0.17464690363311544,
          -0.7418420309705646,
          -0.6330916545993854,
          -1.5647070071417015,
          0.1292205238573053,
          0.17257583531658205,
          0.5641384665414945,
          -1.2693499109193727,
          1.112215426407947,
          -0.6246175481905369,
          0.6243230099698143,
          -0.5868564679739539,
          -0.38798572600393394,
          -2.2238360986731847,
          0.39483428796649245,
          -1.5128431080727769,
          -0.17054727445722603,
          0.2785807882330337,
          0.12745026931076014,
          0.37528908825820756,
          0.01664120828374138,
          2.7111613412371853,
          0.6852940169202932,
          0.04551068262644309
         ],
         "y": [
          0.6192879182170579,
          1.1257981118290274,
          -0.18605348668541802,
          1.68420984422097,
          -0.9102788942172225,
          -0.5202766729357958,
          -0.8997368949419952,
          0.6662772657608717,
          0.35174523740201824,
          0.9641528029440805,
          -0.8653270517802244,
          0.9452732084915756,
          0.47945395129175744,
          -0.4286061172343618,
          -1.2735688440555835,
          0.40889101608737194,
          1.2422571076767783,
          1.4166175858265113,
          -0.5270318815990367,
          -0.800046474269336,
          0.214565407669123,
          -0.55640152527389,
          -0.9114344441458444,
          3.1083979331621663,
          -0.7311112731850965,
          -0.684880342436226,
          0.06274744992688126,
          2.742531672377017,
          -2.133326227684579,
          0.1151137652842412,
          0.7680900451533238,
          -0.5223302478800493,
          0.022174916223067612,
          2.4139818872965506,
          0.21130446301537828,
          -1.0520853313040146,
          -1.7954748202765316,
          -0.9478364870503688,
          0.5588092484146348,
          -0.7601933681171539,
          0.14143501024264124,
          0.27309509504905183,
          -2.427264041980388,
          0.23317620185855684,
          -3.1588073663659517,
          -0.9122905543369599,
          0.6107267009505823,
          -0.23496380499321687,
          0.2941546566425414,
          0.7183125745805514,
          1.070927343340471,
          -1.0193545665580568,
          1.5531729890673478,
          -0.957694030028398,
          1.1727426779104344,
          0.20692751971823767,
          -0.34462607961309055,
          0.6537646309558028,
          2.6435063941444903,
          -0.26984172479330476,
          0.06320591618100005,
          2.9234580741428777,
          0.9283667700362315,
          0.343527795795072,
          -1.6951366429125174,
          0.6105405577363859,
          1.2681520353623972,
          -1.4348732293337862,
          0.036658494980897884,
          0.8311983922247884,
          -0.30313544490508115,
          -0.4189732950197264,
          0.1303538776810748,
          0.5785788369835336,
          0.4081059853116089,
          -0.05183208331726445,
          0.6342275658481765,
          -0.2792889338774161,
          0.06936324222582699,
          0.5281795507084809,
          0.40946299084644944,
          1.3820817269300272,
          0.2347867174176207,
          2.6062135259018873,
          -1.5016377554871971,
          0.6800085010932065,
          -0.021387092292663206,
          1.536948561145858,
          0.7924620306825507,
          1.7553181160764677,
          -0.869180304417114,
          0.709670228343469,
          -0.24003645899926476,
          1.2632533989196815,
          0.019840686964291792,
          -0.7226923963856168,
          0.9000389139195395,
          -0.5072870380033023,
          -0.048363172534944744,
          -0.7864118916761768
         ]
        }
       ],
       "layout": {
        "legend": {
         "bgcolor": "#F5F6F9",
         "font": {
          "color": "#4D5663"
         }
        },
        "paper_bgcolor": "#F5F6F9",
        "plot_bgcolor": "#F5F6F9",
        "template": {
         "data": {
          "bar": [
           {
            "error_x": {
             "color": "#2a3f5f"
            },
            "error_y": {
             "color": "#2a3f5f"
            },
            "marker": {
             "line": {
              "color": "#E5ECF6",
              "width": 0.5
             },
             "pattern": {
              "fillmode": "overlay",
              "size": 10,
              "solidity": 0.2
             }
            },
            "type": "bar"
           }
          ],
          "barpolar": [
           {
            "marker": {
             "line": {
              "color": "#E5ECF6",
              "width": 0.5
             },
             "pattern": {
              "fillmode": "overlay",
              "size": 10,
              "solidity": 0.2
             }
            },
            "type": "barpolar"
           }
          ],
          "carpet": [
           {
            "aaxis": {
             "endlinecolor": "#2a3f5f",
             "gridcolor": "white",
             "linecolor": "white",
             "minorgridcolor": "white",
             "startlinecolor": "#2a3f5f"
            },
            "baxis": {
             "endlinecolor": "#2a3f5f",
             "gridcolor": "white",
             "linecolor": "white",
             "minorgridcolor": "white",
             "startlinecolor": "#2a3f5f"
            },
            "type": "carpet"
           }
          ],
          "choropleth": [
           {
            "colorbar": {
             "outlinewidth": 0,
             "ticks": ""
            },
            "type": "choropleth"
           }
          ],
          "contour": [
           {
            "colorbar": {
             "outlinewidth": 0,
             "ticks": ""
            },
            "colorscale": [
             [
              0,
              "#0d0887"
             ],
             [
              0.1111111111111111,
              "#46039f"
             ],
             [
              0.2222222222222222,
              "#7201a8"
             ],
             [
              0.3333333333333333,
              "#9c179e"
             ],
             [
              0.4444444444444444,
              "#bd3786"
             ],
             [
              0.5555555555555556,
              "#d8576b"
             ],
             [
              0.6666666666666666,
              "#ed7953"
             ],
             [
              0.7777777777777778,
              "#fb9f3a"
             ],
             [
              0.8888888888888888,
              "#fdca26"
             ],
             [
              1,
              "#f0f921"
             ]
            ],
            "type": "contour"
           }
          ],
          "contourcarpet": [
           {
            "colorbar": {
             "outlinewidth": 0,
             "ticks": ""
            },
            "type": "contourcarpet"
           }
          ],
          "heatmap": [
           {
            "colorbar": {
             "outlinewidth": 0,
             "ticks": ""
            },
            "colorscale": [
             [
              0,
              "#0d0887"
             ],
             [
              0.1111111111111111,
              "#46039f"
             ],
             [
              0.2222222222222222,
              "#7201a8"
             ],
             [
              0.3333333333333333,
              "#9c179e"
             ],
             [
              0.4444444444444444,
              "#bd3786"
             ],
             [
              0.5555555555555556,
              "#d8576b"
             ],
             [
              0.6666666666666666,
              "#ed7953"
             ],
             [
              0.7777777777777778,
              "#fb9f3a"
             ],
             [
              0.8888888888888888,
              "#fdca26"
             ],
             [
              1,
              "#f0f921"
             ]
            ],
            "type": "heatmap"
           }
          ],
          "heatmapgl": [
           {
            "colorbar": {
             "outlinewidth": 0,
             "ticks": ""
            },
            "colorscale": [
             [
              0,
              "#0d0887"
             ],
             [
              0.1111111111111111,
              "#46039f"
             ],
             [
              0.2222222222222222,
              "#7201a8"
             ],
             [
              0.3333333333333333,
              "#9c179e"
             ],
             [
              0.4444444444444444,
              "#bd3786"
             ],
             [
              0.5555555555555556,
              "#d8576b"
             ],
             [
              0.6666666666666666,
              "#ed7953"
             ],
             [
              0.7777777777777778,
              "#fb9f3a"
             ],
             [
              0.8888888888888888,
              "#fdca26"
             ],
             [
              1,
              "#f0f921"
             ]
            ],
            "type": "heatmapgl"
           }
          ],
          "histogram": [
           {
            "marker": {
             "pattern": {
              "fillmode": "overlay",
              "size": 10,
              "solidity": 0.2
             }
            },
            "type": "histogram"
           }
          ],
          "histogram2d": [
           {
            "colorbar": {
             "outlinewidth": 0,
             "ticks": ""
            },
            "colorscale": [
             [
              0,
              "#0d0887"
             ],
             [
              0.1111111111111111,
              "#46039f"
             ],
             [
              0.2222222222222222,
              "#7201a8"
             ],
             [
              0.3333333333333333,
              "#9c179e"
             ],
             [
              0.4444444444444444,
              "#bd3786"
             ],
             [
              0.5555555555555556,
              "#d8576b"
             ],
             [
              0.6666666666666666,
              "#ed7953"
             ],
             [
              0.7777777777777778,
              "#fb9f3a"
             ],
             [
              0.8888888888888888,
              "#fdca26"
             ],
             [
              1,
              "#f0f921"
             ]
            ],
            "type": "histogram2d"
           }
          ],
          "histogram2dcontour": [
           {
            "colorbar": {
             "outlinewidth": 0,
             "ticks": ""
            },
            "colorscale": [
             [
              0,
              "#0d0887"
             ],
             [
              0.1111111111111111,
              "#46039f"
             ],
             [
              0.2222222222222222,
              "#7201a8"
             ],
             [
              0.3333333333333333,
              "#9c179e"
             ],
             [
              0.4444444444444444,
              "#bd3786"
             ],
             [
              0.5555555555555556,
              "#d8576b"
             ],
             [
              0.6666666666666666,
              "#ed7953"
             ],
             [
              0.7777777777777778,
              "#fb9f3a"
             ],
             [
              0.8888888888888888,
              "#fdca26"
             ],
             [
              1,
              "#f0f921"
             ]
            ],
            "type": "histogram2dcontour"
           }
          ],
          "mesh3d": [
           {
            "colorbar": {
             "outlinewidth": 0,
             "ticks": ""
            },
            "type": "mesh3d"
           }
          ],
          "parcoords": [
           {
            "line": {
             "colorbar": {
              "outlinewidth": 0,
              "ticks": ""
             }
            },
            "type": "parcoords"
           }
          ],
          "pie": [
           {
            "automargin": true,
            "type": "pie"
           }
          ],
          "scatter": [
           {
            "fillpattern": {
             "fillmode": "overlay",
             "size": 10,
             "solidity": 0.2
            },
            "type": "scatter"
           }
          ],
          "scatter3d": [
           {
            "line": {
             "colorbar": {
              "outlinewidth": 0,
              "ticks": ""
             }
            },
            "marker": {
             "colorbar": {
              "outlinewidth": 0,
              "ticks": ""
             }
            },
            "type": "scatter3d"
           }
          ],
          "scattercarpet": [
           {
            "marker": {
             "colorbar": {
              "outlinewidth": 0,
              "ticks": ""
             }
            },
            "type": "scattercarpet"
           }
          ],
          "scattergeo": [
           {
            "marker": {
             "colorbar": {
              "outlinewidth": 0,
              "ticks": ""
             }
            },
            "type": "scattergeo"
           }
          ],
          "scattergl": [
           {
            "marker": {
             "colorbar": {
              "outlinewidth": 0,
              "ticks": ""
             }
            },
            "type": "scattergl"
           }
          ],
          "scattermapbox": [
           {
            "marker": {
             "colorbar": {
              "outlinewidth": 0,
              "ticks": ""
             }
            },
            "type": "scattermapbox"
           }
          ],
          "scatterpolar": [
           {
            "marker": {
             "colorbar": {
              "outlinewidth": 0,
              "ticks": ""
             }
            },
            "type": "scatterpolar"
           }
          ],
          "scatterpolargl": [
           {
            "marker": {
             "colorbar": {
              "outlinewidth": 0,
              "ticks": ""
             }
            },
            "type": "scatterpolargl"
           }
          ],
          "scatterternary": [
           {
            "marker": {
             "colorbar": {
              "outlinewidth": 0,
              "ticks": ""
             }
            },
            "type": "scatterternary"
           }
          ],
          "surface": [
           {
            "colorbar": {
             "outlinewidth": 0,
             "ticks": ""
            },
            "colorscale": [
             [
              0,
              "#0d0887"
             ],
             [
              0.1111111111111111,
              "#46039f"
             ],
             [
              0.2222222222222222,
              "#7201a8"
             ],
             [
              0.3333333333333333,
              "#9c179e"
             ],
             [
              0.4444444444444444,
              "#bd3786"
             ],
             [
              0.5555555555555556,
              "#d8576b"
             ],
             [
              0.6666666666666666,
              "#ed7953"
             ],
             [
              0.7777777777777778,
              "#fb9f3a"
             ],
             [
              0.8888888888888888,
              "#fdca26"
             ],
             [
              1,
              "#f0f921"
             ]
            ],
            "type": "surface"
           }
          ],
          "table": [
           {
            "cells": {
             "fill": {
              "color": "#EBF0F8"
             },
             "line": {
              "color": "white"
             }
            },
            "header": {
             "fill": {
              "color": "#C8D4E3"
             },
             "line": {
              "color": "white"
             }
            },
            "type": "table"
           }
          ]
         },
         "layout": {
          "annotationdefaults": {
           "arrowcolor": "#2a3f5f",
           "arrowhead": 0,
           "arrowwidth": 1
          },
          "autotypenumbers": "strict",
          "coloraxis": {
           "colorbar": {
            "outlinewidth": 0,
            "ticks": ""
           }
          },
          "colorscale": {
           "diverging": [
            [
             0,
             "#8e0152"
            ],
            [
             0.1,
             "#c51b7d"
            ],
            [
             0.2,
             "#de77ae"
            ],
            [
             0.3,
             "#f1b6da"
            ],
            [
             0.4,
             "#fde0ef"
            ],
            [
             0.5,
             "#f7f7f7"
            ],
            [
             0.6,
             "#e6f5d0"
            ],
            [
             0.7,
             "#b8e186"
            ],
            [
             0.8,
             "#7fbc41"
            ],
            [
             0.9,
             "#4d9221"
            ],
            [
             1,
             "#276419"
            ]
           ],
           "sequential": [
            [
             0,
             "#0d0887"
            ],
            [
             0.1111111111111111,
             "#46039f"
            ],
            [
             0.2222222222222222,
             "#7201a8"
            ],
            [
             0.3333333333333333,
             "#9c179e"
            ],
            [
             0.4444444444444444,
             "#bd3786"
            ],
            [
             0.5555555555555556,
             "#d8576b"
            ],
            [
             0.6666666666666666,
             "#ed7953"
            ],
            [
             0.7777777777777778,
             "#fb9f3a"
            ],
            [
             0.8888888888888888,
             "#fdca26"
            ],
            [
             1,
             "#f0f921"
            ]
           ],
           "sequentialminus": [
            [
             0,
             "#0d0887"
            ],
            [
             0.1111111111111111,
             "#46039f"
            ],
            [
             0.2222222222222222,
             "#7201a8"
            ],
            [
             0.3333333333333333,
             "#9c179e"
            ],
            [
             0.4444444444444444,
             "#bd3786"
            ],
            [
             0.5555555555555556,
             "#d8576b"
            ],
            [
             0.6666666666666666,
             "#ed7953"
            ],
            [
             0.7777777777777778,
             "#fb9f3a"
            ],
            [
             0.8888888888888888,
             "#fdca26"
            ],
            [
             1,
             "#f0f921"
            ]
           ]
          },
          "colorway": [
           "#636efa",
           "#EF553B",
           "#00cc96",
           "#ab63fa",
           "#FFA15A",
           "#19d3f3",
           "#FF6692",
           "#B6E880",
           "#FF97FF",
           "#FECB52"
          ],
          "font": {
           "color": "#2a3f5f"
          },
          "geo": {
           "bgcolor": "white",
           "lakecolor": "white",
           "landcolor": "#E5ECF6",
           "showlakes": true,
           "showland": true,
           "subunitcolor": "white"
          },
          "hoverlabel": {
           "align": "left"
          },
          "hovermode": "closest",
          "mapbox": {
           "style": "light"
          },
          "paper_bgcolor": "white",
          "plot_bgcolor": "#E5ECF6",
          "polar": {
           "angularaxis": {
            "gridcolor": "white",
            "linecolor": "white",
            "ticks": ""
           },
           "bgcolor": "#E5ECF6",
           "radialaxis": {
            "gridcolor": "white",
            "linecolor": "white",
            "ticks": ""
           }
          },
          "scene": {
           "xaxis": {
            "backgroundcolor": "#E5ECF6",
            "gridcolor": "white",
            "gridwidth": 2,
            "linecolor": "white",
            "showbackground": true,
            "ticks": "",
            "zerolinecolor": "white"
           },
           "yaxis": {
            "backgroundcolor": "#E5ECF6",
            "gridcolor": "white",
            "gridwidth": 2,
            "linecolor": "white",
            "showbackground": true,
            "ticks": "",
            "zerolinecolor": "white"
           },
           "zaxis": {
            "backgroundcolor": "#E5ECF6",
            "gridcolor": "white",
            "gridwidth": 2,
            "linecolor": "white",
            "showbackground": true,
            "ticks": "",
            "zerolinecolor": "white"
           }
          },
          "shapedefaults": {
           "line": {
            "color": "#2a3f5f"
           }
          },
          "ternary": {
           "aaxis": {
            "gridcolor": "white",
            "linecolor": "white",
            "ticks": ""
           },
           "baxis": {
            "gridcolor": "white",
            "linecolor": "white",
            "ticks": ""
           },
           "bgcolor": "#E5ECF6",
           "caxis": {
            "gridcolor": "white",
            "linecolor": "white",
            "ticks": ""
           }
          },
          "title": {
           "x": 0.05
          },
          "xaxis": {
           "automargin": true,
           "gridcolor": "white",
           "linecolor": "white",
           "ticks": "",
           "title": {
            "standoff": 15
           },
           "zerolinecolor": "white",
           "zerolinewidth": 2
          },
          "yaxis": {
           "automargin": true,
           "gridcolor": "white",
           "linecolor": "white",
           "ticks": "",
           "title": {
            "standoff": 15
           },
           "zerolinecolor": "white",
           "zerolinewidth": 2
          }
         }
        },
        "title": {
         "font": {
          "color": "#4D5663"
         }
        },
        "xaxis": {
         "gridcolor": "#E1E5ED",
         "showgrid": true,
         "tickfont": {
          "color": "#4D5663"
         },
         "title": {
          "font": {
           "color": "#4D5663"
          },
          "text": ""
         },
         "zerolinecolor": "#E1E5ED"
        },
        "yaxis": {
         "gridcolor": "#E1E5ED",
         "showgrid": true,
         "tickfont": {
          "color": "#4D5663"
         },
         "title": {
          "font": {
           "color": "#4D5663"
          },
          "text": ""
         },
         "zerolinecolor": "#E1E5ED"
        }
       }
      },
      "text/html": [
       "<div>                            <div id=\"25dc3150-8f94-4757-8034-6e6ef3036c7a\" class=\"plotly-graph-div\" style=\"height:525px; width:100%;\"></div>            <script type=\"text/javascript\">                require([\"plotly\"], function(Plotly) {                    window.PLOTLYENV=window.PLOTLYENV || {};\n",
       "                    window.PLOTLYENV.BASE_URL='https://plot.ly';                                    if (document.getElementById(\"25dc3150-8f94-4757-8034-6e6ef3036c7a\")) {                    Plotly.newPlot(                        \"25dc3150-8f94-4757-8034-6e6ef3036c7a\",                        [{\"line\":{\"color\":\"rgba(255, 153, 51, 1.0)\",\"dash\":\"solid\",\"shape\":\"linear\",\"width\":1.3},\"mode\":\"lines\",\"name\":\"B\",\"text\":\"\",\"x\":[0.042951484569504976,-0.2202853182291732,1.1734268801089391,-0.242857425217831,0.6763938161336688,-0.35387111095045287,-1.178873015258505,-0.9043748575099387,1.289961855900039,0.4024925419044032,0.47478873453097875,-1.5599979609496375,1.256435413677142,-1.0956306989431794,-0.4086611258433707,-1.3945695346151434,0.912962045848968,0.30730511387148135,-0.1939624564553397,1.4671933909894053,0.5694254821204012,-1.1931505134032656,1.5569400206519073,2.3296513255577835,0.21366883706439055,-0.7481852006274928,-1.047437879897871,-1.5665786547362606,-0.4195824696415362,0.7356706051151829,1.4854953122092205,-1.3585448502023059,0.6868115836283416,-0.8590019761193095,-0.3167758916209611,-2.5859566581957814,1.8802303072579827,0.33698592765530255,0.24253885461217137,-1.0610179368441957,0.6063985638659398,1.9432087735321149,-0.30963188399023234,-0.9478546493238559,1.6901316294856135,-0.9748813666852253,1.6306834387604556,0.5099483849696402,-0.8464325906049034,-0.5542596398999922,1.5009952174177925,-0.1652580228163639,0.01163057019334677,0.7861976487418677,-1.3589873822837037,-0.4793132050239744,-0.8884327703773046,-0.3284322245590626,-0.4240280239376068,0.22150415379237778,0.3881047010647667,-0.30205926100025343,0.26673438198881094,-1.591193149414884,0.8778887244884065,0.2209150355262721,1.0160545227316395,0.3491350139623226,-0.9537562700624382,1.687178900073207,0.6711975871514694,-0.47100392021657966,-0.4796751132677763,0.8899899575821433,-0.34435673664939204,-0.5704311813504567,0.17464690363311544,-0.7418420309705646,-0.6330916545993854,-1.5647070071417015,0.1292205238573053,0.17257583531658205,0.5641384665414945,-1.2693499109193727,1.112215426407947,-0.6246175481905369,0.6243230099698143,-0.5868564679739539,-0.38798572600393394,-2.2238360986731847,0.39483428796649245,-1.5128431080727769,-0.17054727445722603,0.2785807882330337,0.12745026931076014,0.37528908825820756,0.01664120828374138,2.7111613412371853,0.6852940169202932,0.04551068262644309],\"y\":[0.6192879182170579,1.1257981118290274,-0.18605348668541802,1.68420984422097,-0.9102788942172225,-0.5202766729357958,-0.8997368949419952,0.6662772657608717,0.35174523740201824,0.9641528029440805,-0.8653270517802244,0.9452732084915756,0.47945395129175744,-0.4286061172343618,-1.2735688440555835,0.40889101608737194,1.2422571076767783,1.4166175858265113,-0.5270318815990367,-0.800046474269336,0.214565407669123,-0.55640152527389,-0.9114344441458444,3.1083979331621663,-0.7311112731850965,-0.684880342436226,0.06274744992688126,2.742531672377017,-2.133326227684579,0.1151137652842412,0.7680900451533238,-0.5223302478800493,0.022174916223067612,2.4139818872965506,0.21130446301537828,-1.0520853313040146,-1.7954748202765316,-0.9478364870503688,0.5588092484146348,-0.7601933681171539,0.14143501024264124,0.27309509504905183,-2.427264041980388,0.23317620185855684,-3.1588073663659517,-0.9122905543369599,0.6107267009505823,-0.23496380499321687,0.2941546566425414,0.7183125745805514,1.070927343340471,-1.0193545665580568,1.5531729890673478,-0.957694030028398,1.1727426779104344,0.20692751971823767,-0.34462607961309055,0.6537646309558028,2.6435063941444903,-0.26984172479330476,0.06320591618100005,2.9234580741428777,0.9283667700362315,0.343527795795072,-1.6951366429125174,0.6105405577363859,1.2681520353623972,-1.4348732293337862,0.036658494980897884,0.8311983922247884,-0.30313544490508115,-0.4189732950197264,0.1303538776810748,0.5785788369835336,0.4081059853116089,-0.05183208331726445,0.6342275658481765,-0.2792889338774161,0.06936324222582699,0.5281795507084809,0.40946299084644944,1.3820817269300272,0.2347867174176207,2.6062135259018873,-1.5016377554871971,0.6800085010932065,-0.021387092292663206,1.536948561145858,0.7924620306825507,1.7553181160764677,-0.869180304417114,0.709670228343469,-0.24003645899926476,1.2632533989196815,0.019840686964291792,-0.7226923963856168,0.9000389139195395,-0.5072870380033023,-0.048363172534944744,-0.7864118916761768],\"type\":\"scatter\"}],                        {\"legend\":{\"bgcolor\":\"#F5F6F9\",\"font\":{\"color\":\"#4D5663\"}},\"paper_bgcolor\":\"#F5F6F9\",\"plot_bgcolor\":\"#F5F6F9\",\"template\":{\"data\":{\"barpolar\":[{\"marker\":{\"line\":{\"color\":\"#E5ECF6\",\"width\":0.5},\"pattern\":{\"fillmode\":\"overlay\",\"size\":10,\"solidity\":0.2}},\"type\":\"barpolar\"}],\"bar\":[{\"error_x\":{\"color\":\"#2a3f5f\"},\"error_y\":{\"color\":\"#2a3f5f\"},\"marker\":{\"line\":{\"color\":\"#E5ECF6\",\"width\":0.5},\"pattern\":{\"fillmode\":\"overlay\",\"size\":10,\"solidity\":0.2}},\"type\":\"bar\"}],\"carpet\":[{\"aaxis\":{\"endlinecolor\":\"#2a3f5f\",\"gridcolor\":\"white\",\"linecolor\":\"white\",\"minorgridcolor\":\"white\",\"startlinecolor\":\"#2a3f5f\"},\"baxis\":{\"endlinecolor\":\"#2a3f5f\",\"gridcolor\":\"white\",\"linecolor\":\"white\",\"minorgridcolor\":\"white\",\"startlinecolor\":\"#2a3f5f\"},\"type\":\"carpet\"}],\"choropleth\":[{\"colorbar\":{\"outlinewidth\":0,\"ticks\":\"\"},\"type\":\"choropleth\"}],\"contourcarpet\":[{\"colorbar\":{\"outlinewidth\":0,\"ticks\":\"\"},\"type\":\"contourcarpet\"}],\"contour\":[{\"colorbar\":{\"outlinewidth\":0,\"ticks\":\"\"},\"colorscale\":[[0.0,\"#0d0887\"],[0.1111111111111111,\"#46039f\"],[0.2222222222222222,\"#7201a8\"],[0.3333333333333333,\"#9c179e\"],[0.4444444444444444,\"#bd3786\"],[0.5555555555555556,\"#d8576b\"],[0.6666666666666666,\"#ed7953\"],[0.7777777777777778,\"#fb9f3a\"],[0.8888888888888888,\"#fdca26\"],[1.0,\"#f0f921\"]],\"type\":\"contour\"}],\"heatmapgl\":[{\"colorbar\":{\"outlinewidth\":0,\"ticks\":\"\"},\"colorscale\":[[0.0,\"#0d0887\"],[0.1111111111111111,\"#46039f\"],[0.2222222222222222,\"#7201a8\"],[0.3333333333333333,\"#9c179e\"],[0.4444444444444444,\"#bd3786\"],[0.5555555555555556,\"#d8576b\"],[0.6666666666666666,\"#ed7953\"],[0.7777777777777778,\"#fb9f3a\"],[0.8888888888888888,\"#fdca26\"],[1.0,\"#f0f921\"]],\"type\":\"heatmapgl\"}],\"heatmap\":[{\"colorbar\":{\"outlinewidth\":0,\"ticks\":\"\"},\"colorscale\":[[0.0,\"#0d0887\"],[0.1111111111111111,\"#46039f\"],[0.2222222222222222,\"#7201a8\"],[0.3333333333333333,\"#9c179e\"],[0.4444444444444444,\"#bd3786\"],[0.5555555555555556,\"#d8576b\"],[0.6666666666666666,\"#ed7953\"],[0.7777777777777778,\"#fb9f3a\"],[0.8888888888888888,\"#fdca26\"],[1.0,\"#f0f921\"]],\"type\":\"heatmap\"}],\"histogram2dcontour\":[{\"colorbar\":{\"outlinewidth\":0,\"ticks\":\"\"},\"colorscale\":[[0.0,\"#0d0887\"],[0.1111111111111111,\"#46039f\"],[0.2222222222222222,\"#7201a8\"],[0.3333333333333333,\"#9c179e\"],[0.4444444444444444,\"#bd3786\"],[0.5555555555555556,\"#d8576b\"],[0.6666666666666666,\"#ed7953\"],[0.7777777777777778,\"#fb9f3a\"],[0.8888888888888888,\"#fdca26\"],[1.0,\"#f0f921\"]],\"type\":\"histogram2dcontour\"}],\"histogram2d\":[{\"colorbar\":{\"outlinewidth\":0,\"ticks\":\"\"},\"colorscale\":[[0.0,\"#0d0887\"],[0.1111111111111111,\"#46039f\"],[0.2222222222222222,\"#7201a8\"],[0.3333333333333333,\"#9c179e\"],[0.4444444444444444,\"#bd3786\"],[0.5555555555555556,\"#d8576b\"],[0.6666666666666666,\"#ed7953\"],[0.7777777777777778,\"#fb9f3a\"],[0.8888888888888888,\"#fdca26\"],[1.0,\"#f0f921\"]],\"type\":\"histogram2d\"}],\"histogram\":[{\"marker\":{\"pattern\":{\"fillmode\":\"overlay\",\"size\":10,\"solidity\":0.2}},\"type\":\"histogram\"}],\"mesh3d\":[{\"colorbar\":{\"outlinewidth\":0,\"ticks\":\"\"},\"type\":\"mesh3d\"}],\"parcoords\":[{\"line\":{\"colorbar\":{\"outlinewidth\":0,\"ticks\":\"\"}},\"type\":\"parcoords\"}],\"pie\":[{\"automargin\":true,\"type\":\"pie\"}],\"scatter3d\":[{\"line\":{\"colorbar\":{\"outlinewidth\":0,\"ticks\":\"\"}},\"marker\":{\"colorbar\":{\"outlinewidth\":0,\"ticks\":\"\"}},\"type\":\"scatter3d\"}],\"scattercarpet\":[{\"marker\":{\"colorbar\":{\"outlinewidth\":0,\"ticks\":\"\"}},\"type\":\"scattercarpet\"}],\"scattergeo\":[{\"marker\":{\"colorbar\":{\"outlinewidth\":0,\"ticks\":\"\"}},\"type\":\"scattergeo\"}],\"scattergl\":[{\"marker\":{\"colorbar\":{\"outlinewidth\":0,\"ticks\":\"\"}},\"type\":\"scattergl\"}],\"scattermapbox\":[{\"marker\":{\"colorbar\":{\"outlinewidth\":0,\"ticks\":\"\"}},\"type\":\"scattermapbox\"}],\"scatterpolargl\":[{\"marker\":{\"colorbar\":{\"outlinewidth\":0,\"ticks\":\"\"}},\"type\":\"scatterpolargl\"}],\"scatterpolar\":[{\"marker\":{\"colorbar\":{\"outlinewidth\":0,\"ticks\":\"\"}},\"type\":\"scatterpolar\"}],\"scatter\":[{\"fillpattern\":{\"fillmode\":\"overlay\",\"size\":10,\"solidity\":0.2},\"type\":\"scatter\"}],\"scatterternary\":[{\"marker\":{\"colorbar\":{\"outlinewidth\":0,\"ticks\":\"\"}},\"type\":\"scatterternary\"}],\"surface\":[{\"colorbar\":{\"outlinewidth\":0,\"ticks\":\"\"},\"colorscale\":[[0.0,\"#0d0887\"],[0.1111111111111111,\"#46039f\"],[0.2222222222222222,\"#7201a8\"],[0.3333333333333333,\"#9c179e\"],[0.4444444444444444,\"#bd3786\"],[0.5555555555555556,\"#d8576b\"],[0.6666666666666666,\"#ed7953\"],[0.7777777777777778,\"#fb9f3a\"],[0.8888888888888888,\"#fdca26\"],[1.0,\"#f0f921\"]],\"type\":\"surface\"}],\"table\":[{\"cells\":{\"fill\":{\"color\":\"#EBF0F8\"},\"line\":{\"color\":\"white\"}},\"header\":{\"fill\":{\"color\":\"#C8D4E3\"},\"line\":{\"color\":\"white\"}},\"type\":\"table\"}]},\"layout\":{\"annotationdefaults\":{\"arrowcolor\":\"#2a3f5f\",\"arrowhead\":0,\"arrowwidth\":1},\"autotypenumbers\":\"strict\",\"coloraxis\":{\"colorbar\":{\"outlinewidth\":0,\"ticks\":\"\"}},\"colorscale\":{\"diverging\":[[0,\"#8e0152\"],[0.1,\"#c51b7d\"],[0.2,\"#de77ae\"],[0.3,\"#f1b6da\"],[0.4,\"#fde0ef\"],[0.5,\"#f7f7f7\"],[0.6,\"#e6f5d0\"],[0.7,\"#b8e186\"],[0.8,\"#7fbc41\"],[0.9,\"#4d9221\"],[1,\"#276419\"]],\"sequential\":[[0.0,\"#0d0887\"],[0.1111111111111111,\"#46039f\"],[0.2222222222222222,\"#7201a8\"],[0.3333333333333333,\"#9c179e\"],[0.4444444444444444,\"#bd3786\"],[0.5555555555555556,\"#d8576b\"],[0.6666666666666666,\"#ed7953\"],[0.7777777777777778,\"#fb9f3a\"],[0.8888888888888888,\"#fdca26\"],[1.0,\"#f0f921\"]],\"sequentialminus\":[[0.0,\"#0d0887\"],[0.1111111111111111,\"#46039f\"],[0.2222222222222222,\"#7201a8\"],[0.3333333333333333,\"#9c179e\"],[0.4444444444444444,\"#bd3786\"],[0.5555555555555556,\"#d8576b\"],[0.6666666666666666,\"#ed7953\"],[0.7777777777777778,\"#fb9f3a\"],[0.8888888888888888,\"#fdca26\"],[1.0,\"#f0f921\"]]},\"colorway\":[\"#636efa\",\"#EF553B\",\"#00cc96\",\"#ab63fa\",\"#FFA15A\",\"#19d3f3\",\"#FF6692\",\"#B6E880\",\"#FF97FF\",\"#FECB52\"],\"font\":{\"color\":\"#2a3f5f\"},\"geo\":{\"bgcolor\":\"white\",\"lakecolor\":\"white\",\"landcolor\":\"#E5ECF6\",\"showlakes\":true,\"showland\":true,\"subunitcolor\":\"white\"},\"hoverlabel\":{\"align\":\"left\"},\"hovermode\":\"closest\",\"mapbox\":{\"style\":\"light\"},\"paper_bgcolor\":\"white\",\"plot_bgcolor\":\"#E5ECF6\",\"polar\":{\"angularaxis\":{\"gridcolor\":\"white\",\"linecolor\":\"white\",\"ticks\":\"\"},\"bgcolor\":\"#E5ECF6\",\"radialaxis\":{\"gridcolor\":\"white\",\"linecolor\":\"white\",\"ticks\":\"\"}},\"scene\":{\"xaxis\":{\"backgroundcolor\":\"#E5ECF6\",\"gridcolor\":\"white\",\"gridwidth\":2,\"linecolor\":\"white\",\"showbackground\":true,\"ticks\":\"\",\"zerolinecolor\":\"white\"},\"yaxis\":{\"backgroundcolor\":\"#E5ECF6\",\"gridcolor\":\"white\",\"gridwidth\":2,\"linecolor\":\"white\",\"showbackground\":true,\"ticks\":\"\",\"zerolinecolor\":\"white\"},\"zaxis\":{\"backgroundcolor\":\"#E5ECF6\",\"gridcolor\":\"white\",\"gridwidth\":2,\"linecolor\":\"white\",\"showbackground\":true,\"ticks\":\"\",\"zerolinecolor\":\"white\"}},\"shapedefaults\":{\"line\":{\"color\":\"#2a3f5f\"}},\"ternary\":{\"aaxis\":{\"gridcolor\":\"white\",\"linecolor\":\"white\",\"ticks\":\"\"},\"baxis\":{\"gridcolor\":\"white\",\"linecolor\":\"white\",\"ticks\":\"\"},\"bgcolor\":\"#E5ECF6\",\"caxis\":{\"gridcolor\":\"white\",\"linecolor\":\"white\",\"ticks\":\"\"}},\"title\":{\"x\":0.05},\"xaxis\":{\"automargin\":true,\"gridcolor\":\"white\",\"linecolor\":\"white\",\"ticks\":\"\",\"title\":{\"standoff\":15},\"zerolinecolor\":\"white\",\"zerolinewidth\":2},\"yaxis\":{\"automargin\":true,\"gridcolor\":\"white\",\"linecolor\":\"white\",\"ticks\":\"\",\"title\":{\"standoff\":15},\"zerolinecolor\":\"white\",\"zerolinewidth\":2}}},\"title\":{\"font\":{\"color\":\"#4D5663\"}},\"xaxis\":{\"gridcolor\":\"#E1E5ED\",\"showgrid\":true,\"tickfont\":{\"color\":\"#4D5663\"},\"title\":{\"font\":{\"color\":\"#4D5663\"},\"text\":\"\"},\"zerolinecolor\":\"#E1E5ED\"},\"yaxis\":{\"gridcolor\":\"#E1E5ED\",\"showgrid\":true,\"tickfont\":{\"color\":\"#4D5663\"},\"title\":{\"font\":{\"color\":\"#4D5663\"},\"text\":\"\"},\"zerolinecolor\":\"#E1E5ED\"}},                        {\"showLink\": true, \"linkText\": \"Export to plot.ly\", \"plotlyServerURL\": \"https://plot.ly\", \"responsive\": true}                    ).then(function(){\n",
       "                            \n",
       "var gd = document.getElementById('25dc3150-8f94-4757-8034-6e6ef3036c7a');\n",
       "var x = new MutationObserver(function (mutations, observer) {{\n",
       "        var display = window.getComputedStyle(gd).display;\n",
       "        if (!display || display === 'none') {{\n",
       "            console.log([gd, 'removed!']);\n",
       "            Plotly.purge(gd);\n",
       "            observer.disconnect();\n",
       "        }}\n",
       "}});\n",
       "\n",
       "// Listen for the removal of the full notebook cells\n",
       "var notebookContainer = gd.closest('#notebook-container');\n",
       "if (notebookContainer) {{\n",
       "    x.observe(notebookContainer, {childList: true});\n",
       "}}\n",
       "\n",
       "// Listen for the clearing of the current output cell\n",
       "var outputEl = gd.closest('.output');\n",
       "if (outputEl) {{\n",
       "    x.observe(outputEl, {childList: true});\n",
       "}}\n",
       "\n",
       "                        })                };                });            </script>        </div>"
      ]
     },
     "metadata": {},
     "output_type": "display_data"
    }
   ],
   "source": [
    "df.iplot(kind='scatter', x='A', y='B')"
   ]
  },
  {
   "cell_type": "code",
   "execution_count": 14,
   "id": "eedce56f",
   "metadata": {},
   "outputs": [
    {
     "data": {
      "application/vnd.plotly.v1+json": {
       "config": {
        "linkText": "Export to plot.ly",
        "plotlyServerURL": "https://plot.ly",
        "showLink": true
       },
       "data": [
        {
         "line": {
          "color": "rgba(255, 153, 51, 1.0)",
          "dash": "solid",
          "shape": "linear",
          "width": 1.3
         },
         "marker": {
          "size": 12,
          "symbol": "circle"
         },
         "mode": "markers",
         "name": "B",
         "text": "",
         "type": "scatter",
         "x": [
          0.042951484569504976,
          -0.2202853182291732,
          1.1734268801089391,
          -0.242857425217831,
          0.6763938161336688,
          -0.35387111095045287,
          -1.178873015258505,
          -0.9043748575099387,
          1.289961855900039,
          0.4024925419044032,
          0.47478873453097875,
          -1.5599979609496375,
          1.256435413677142,
          -1.0956306989431794,
          -0.4086611258433707,
          -1.3945695346151434,
          0.912962045848968,
          0.30730511387148135,
          -0.1939624564553397,
          1.4671933909894053,
          0.5694254821204012,
          -1.1931505134032656,
          1.5569400206519073,
          2.3296513255577835,
          0.21366883706439055,
          -0.7481852006274928,
          -1.047437879897871,
          -1.5665786547362606,
          -0.4195824696415362,
          0.7356706051151829,
          1.4854953122092205,
          -1.3585448502023059,
          0.6868115836283416,
          -0.8590019761193095,
          -0.3167758916209611,
          -2.5859566581957814,
          1.8802303072579827,
          0.33698592765530255,
          0.24253885461217137,
          -1.0610179368441957,
          0.6063985638659398,
          1.9432087735321149,
          -0.30963188399023234,
          -0.9478546493238559,
          1.6901316294856135,
          -0.9748813666852253,
          1.6306834387604556,
          0.5099483849696402,
          -0.8464325906049034,
          -0.5542596398999922,
          1.5009952174177925,
          -0.1652580228163639,
          0.01163057019334677,
          0.7861976487418677,
          -1.3589873822837037,
          -0.4793132050239744,
          -0.8884327703773046,
          -0.3284322245590626,
          -0.4240280239376068,
          0.22150415379237778,
          0.3881047010647667,
          -0.30205926100025343,
          0.26673438198881094,
          -1.591193149414884,
          0.8778887244884065,
          0.2209150355262721,
          1.0160545227316395,
          0.3491350139623226,
          -0.9537562700624382,
          1.687178900073207,
          0.6711975871514694,
          -0.47100392021657966,
          -0.4796751132677763,
          0.8899899575821433,
          -0.34435673664939204,
          -0.5704311813504567,
          0.17464690363311544,
          -0.7418420309705646,
          -0.6330916545993854,
          -1.5647070071417015,
          0.1292205238573053,
          0.17257583531658205,
          0.5641384665414945,
          -1.2693499109193727,
          1.112215426407947,
          -0.6246175481905369,
          0.6243230099698143,
          -0.5868564679739539,
          -0.38798572600393394,
          -2.2238360986731847,
          0.39483428796649245,
          -1.5128431080727769,
          -0.17054727445722603,
          0.2785807882330337,
          0.12745026931076014,
          0.37528908825820756,
          0.01664120828374138,
          2.7111613412371853,
          0.6852940169202932,
          0.04551068262644309
         ],
         "y": [
          0.6192879182170579,
          1.1257981118290274,
          -0.18605348668541802,
          1.68420984422097,
          -0.9102788942172225,
          -0.5202766729357958,
          -0.8997368949419952,
          0.6662772657608717,
          0.35174523740201824,
          0.9641528029440805,
          -0.8653270517802244,
          0.9452732084915756,
          0.47945395129175744,
          -0.4286061172343618,
          -1.2735688440555835,
          0.40889101608737194,
          1.2422571076767783,
          1.4166175858265113,
          -0.5270318815990367,
          -0.800046474269336,
          0.214565407669123,
          -0.55640152527389,
          -0.9114344441458444,
          3.1083979331621663,
          -0.7311112731850965,
          -0.684880342436226,
          0.06274744992688126,
          2.742531672377017,
          -2.133326227684579,
          0.1151137652842412,
          0.7680900451533238,
          -0.5223302478800493,
          0.022174916223067612,
          2.4139818872965506,
          0.21130446301537828,
          -1.0520853313040146,
          -1.7954748202765316,
          -0.9478364870503688,
          0.5588092484146348,
          -0.7601933681171539,
          0.14143501024264124,
          0.27309509504905183,
          -2.427264041980388,
          0.23317620185855684,
          -3.1588073663659517,
          -0.9122905543369599,
          0.6107267009505823,
          -0.23496380499321687,
          0.2941546566425414,
          0.7183125745805514,
          1.070927343340471,
          -1.0193545665580568,
          1.5531729890673478,
          -0.957694030028398,
          1.1727426779104344,
          0.20692751971823767,
          -0.34462607961309055,
          0.6537646309558028,
          2.6435063941444903,
          -0.26984172479330476,
          0.06320591618100005,
          2.9234580741428777,
          0.9283667700362315,
          0.343527795795072,
          -1.6951366429125174,
          0.6105405577363859,
          1.2681520353623972,
          -1.4348732293337862,
          0.036658494980897884,
          0.8311983922247884,
          -0.30313544490508115,
          -0.4189732950197264,
          0.1303538776810748,
          0.5785788369835336,
          0.4081059853116089,
          -0.05183208331726445,
          0.6342275658481765,
          -0.2792889338774161,
          0.06936324222582699,
          0.5281795507084809,
          0.40946299084644944,
          1.3820817269300272,
          0.2347867174176207,
          2.6062135259018873,
          -1.5016377554871971,
          0.6800085010932065,
          -0.021387092292663206,
          1.536948561145858,
          0.7924620306825507,
          1.7553181160764677,
          -0.869180304417114,
          0.709670228343469,
          -0.24003645899926476,
          1.2632533989196815,
          0.019840686964291792,
          -0.7226923963856168,
          0.9000389139195395,
          -0.5072870380033023,
          -0.048363172534944744,
          -0.7864118916761768
         ]
        }
       ],
       "layout": {
        "legend": {
         "bgcolor": "#F5F6F9",
         "font": {
          "color": "#4D5663"
         }
        },
        "paper_bgcolor": "#F5F6F9",
        "plot_bgcolor": "#F5F6F9",
        "template": {
         "data": {
          "bar": [
           {
            "error_x": {
             "color": "#2a3f5f"
            },
            "error_y": {
             "color": "#2a3f5f"
            },
            "marker": {
             "line": {
              "color": "#E5ECF6",
              "width": 0.5
             },
             "pattern": {
              "fillmode": "overlay",
              "size": 10,
              "solidity": 0.2
             }
            },
            "type": "bar"
           }
          ],
          "barpolar": [
           {
            "marker": {
             "line": {
              "color": "#E5ECF6",
              "width": 0.5
             },
             "pattern": {
              "fillmode": "overlay",
              "size": 10,
              "solidity": 0.2
             }
            },
            "type": "barpolar"
           }
          ],
          "carpet": [
           {
            "aaxis": {
             "endlinecolor": "#2a3f5f",
             "gridcolor": "white",
             "linecolor": "white",
             "minorgridcolor": "white",
             "startlinecolor": "#2a3f5f"
            },
            "baxis": {
             "endlinecolor": "#2a3f5f",
             "gridcolor": "white",
             "linecolor": "white",
             "minorgridcolor": "white",
             "startlinecolor": "#2a3f5f"
            },
            "type": "carpet"
           }
          ],
          "choropleth": [
           {
            "colorbar": {
             "outlinewidth": 0,
             "ticks": ""
            },
            "type": "choropleth"
           }
          ],
          "contour": [
           {
            "colorbar": {
             "outlinewidth": 0,
             "ticks": ""
            },
            "colorscale": [
             [
              0,
              "#0d0887"
             ],
             [
              0.1111111111111111,
              "#46039f"
             ],
             [
              0.2222222222222222,
              "#7201a8"
             ],
             [
              0.3333333333333333,
              "#9c179e"
             ],
             [
              0.4444444444444444,
              "#bd3786"
             ],
             [
              0.5555555555555556,
              "#d8576b"
             ],
             [
              0.6666666666666666,
              "#ed7953"
             ],
             [
              0.7777777777777778,
              "#fb9f3a"
             ],
             [
              0.8888888888888888,
              "#fdca26"
             ],
             [
              1,
              "#f0f921"
             ]
            ],
            "type": "contour"
           }
          ],
          "contourcarpet": [
           {
            "colorbar": {
             "outlinewidth": 0,
             "ticks": ""
            },
            "type": "contourcarpet"
           }
          ],
          "heatmap": [
           {
            "colorbar": {
             "outlinewidth": 0,
             "ticks": ""
            },
            "colorscale": [
             [
              0,
              "#0d0887"
             ],
             [
              0.1111111111111111,
              "#46039f"
             ],
             [
              0.2222222222222222,
              "#7201a8"
             ],
             [
              0.3333333333333333,
              "#9c179e"
             ],
             [
              0.4444444444444444,
              "#bd3786"
             ],
             [
              0.5555555555555556,
              "#d8576b"
             ],
             [
              0.6666666666666666,
              "#ed7953"
             ],
             [
              0.7777777777777778,
              "#fb9f3a"
             ],
             [
              0.8888888888888888,
              "#fdca26"
             ],
             [
              1,
              "#f0f921"
             ]
            ],
            "type": "heatmap"
           }
          ],
          "heatmapgl": [
           {
            "colorbar": {
             "outlinewidth": 0,
             "ticks": ""
            },
            "colorscale": [
             [
              0,
              "#0d0887"
             ],
             [
              0.1111111111111111,
              "#46039f"
             ],
             [
              0.2222222222222222,
              "#7201a8"
             ],
             [
              0.3333333333333333,
              "#9c179e"
             ],
             [
              0.4444444444444444,
              "#bd3786"
             ],
             [
              0.5555555555555556,
              "#d8576b"
             ],
             [
              0.6666666666666666,
              "#ed7953"
             ],
             [
              0.7777777777777778,
              "#fb9f3a"
             ],
             [
              0.8888888888888888,
              "#fdca26"
             ],
             [
              1,
              "#f0f921"
             ]
            ],
            "type": "heatmapgl"
           }
          ],
          "histogram": [
           {
            "marker": {
             "pattern": {
              "fillmode": "overlay",
              "size": 10,
              "solidity": 0.2
             }
            },
            "type": "histogram"
           }
          ],
          "histogram2d": [
           {
            "colorbar": {
             "outlinewidth": 0,
             "ticks": ""
            },
            "colorscale": [
             [
              0,
              "#0d0887"
             ],
             [
              0.1111111111111111,
              "#46039f"
             ],
             [
              0.2222222222222222,
              "#7201a8"
             ],
             [
              0.3333333333333333,
              "#9c179e"
             ],
             [
              0.4444444444444444,
              "#bd3786"
             ],
             [
              0.5555555555555556,
              "#d8576b"
             ],
             [
              0.6666666666666666,
              "#ed7953"
             ],
             [
              0.7777777777777778,
              "#fb9f3a"
             ],
             [
              0.8888888888888888,
              "#fdca26"
             ],
             [
              1,
              "#f0f921"
             ]
            ],
            "type": "histogram2d"
           }
          ],
          "histogram2dcontour": [
           {
            "colorbar": {
             "outlinewidth": 0,
             "ticks": ""
            },
            "colorscale": [
             [
              0,
              "#0d0887"
             ],
             [
              0.1111111111111111,
              "#46039f"
             ],
             [
              0.2222222222222222,
              "#7201a8"
             ],
             [
              0.3333333333333333,
              "#9c179e"
             ],
             [
              0.4444444444444444,
              "#bd3786"
             ],
             [
              0.5555555555555556,
              "#d8576b"
             ],
             [
              0.6666666666666666,
              "#ed7953"
             ],
             [
              0.7777777777777778,
              "#fb9f3a"
             ],
             [
              0.8888888888888888,
              "#fdca26"
             ],
             [
              1,
              "#f0f921"
             ]
            ],
            "type": "histogram2dcontour"
           }
          ],
          "mesh3d": [
           {
            "colorbar": {
             "outlinewidth": 0,
             "ticks": ""
            },
            "type": "mesh3d"
           }
          ],
          "parcoords": [
           {
            "line": {
             "colorbar": {
              "outlinewidth": 0,
              "ticks": ""
             }
            },
            "type": "parcoords"
           }
          ],
          "pie": [
           {
            "automargin": true,
            "type": "pie"
           }
          ],
          "scatter": [
           {
            "fillpattern": {
             "fillmode": "overlay",
             "size": 10,
             "solidity": 0.2
            },
            "type": "scatter"
           }
          ],
          "scatter3d": [
           {
            "line": {
             "colorbar": {
              "outlinewidth": 0,
              "ticks": ""
             }
            },
            "marker": {
             "colorbar": {
              "outlinewidth": 0,
              "ticks": ""
             }
            },
            "type": "scatter3d"
           }
          ],
          "scattercarpet": [
           {
            "marker": {
             "colorbar": {
              "outlinewidth": 0,
              "ticks": ""
             }
            },
            "type": "scattercarpet"
           }
          ],
          "scattergeo": [
           {
            "marker": {
             "colorbar": {
              "outlinewidth": 0,
              "ticks": ""
             }
            },
            "type": "scattergeo"
           }
          ],
          "scattergl": [
           {
            "marker": {
             "colorbar": {
              "outlinewidth": 0,
              "ticks": ""
             }
            },
            "type": "scattergl"
           }
          ],
          "scattermapbox": [
           {
            "marker": {
             "colorbar": {
              "outlinewidth": 0,
              "ticks": ""
             }
            },
            "type": "scattermapbox"
           }
          ],
          "scatterpolar": [
           {
            "marker": {
             "colorbar": {
              "outlinewidth": 0,
              "ticks": ""
             }
            },
            "type": "scatterpolar"
           }
          ],
          "scatterpolargl": [
           {
            "marker": {
             "colorbar": {
              "outlinewidth": 0,
              "ticks": ""
             }
            },
            "type": "scatterpolargl"
           }
          ],
          "scatterternary": [
           {
            "marker": {
             "colorbar": {
              "outlinewidth": 0,
              "ticks": ""
             }
            },
            "type": "scatterternary"
           }
          ],
          "surface": [
           {
            "colorbar": {
             "outlinewidth": 0,
             "ticks": ""
            },
            "colorscale": [
             [
              0,
              "#0d0887"
             ],
             [
              0.1111111111111111,
              "#46039f"
             ],
             [
              0.2222222222222222,
              "#7201a8"
             ],
             [
              0.3333333333333333,
              "#9c179e"
             ],
             [
              0.4444444444444444,
              "#bd3786"
             ],
             [
              0.5555555555555556,
              "#d8576b"
             ],
             [
              0.6666666666666666,
              "#ed7953"
             ],
             [
              0.7777777777777778,
              "#fb9f3a"
             ],
             [
              0.8888888888888888,
              "#fdca26"
             ],
             [
              1,
              "#f0f921"
             ]
            ],
            "type": "surface"
           }
          ],
          "table": [
           {
            "cells": {
             "fill": {
              "color": "#EBF0F8"
             },
             "line": {
              "color": "white"
             }
            },
            "header": {
             "fill": {
              "color": "#C8D4E3"
             },
             "line": {
              "color": "white"
             }
            },
            "type": "table"
           }
          ]
         },
         "layout": {
          "annotationdefaults": {
           "arrowcolor": "#2a3f5f",
           "arrowhead": 0,
           "arrowwidth": 1
          },
          "autotypenumbers": "strict",
          "coloraxis": {
           "colorbar": {
            "outlinewidth": 0,
            "ticks": ""
           }
          },
          "colorscale": {
           "diverging": [
            [
             0,
             "#8e0152"
            ],
            [
             0.1,
             "#c51b7d"
            ],
            [
             0.2,
             "#de77ae"
            ],
            [
             0.3,
             "#f1b6da"
            ],
            [
             0.4,
             "#fde0ef"
            ],
            [
             0.5,
             "#f7f7f7"
            ],
            [
             0.6,
             "#e6f5d0"
            ],
            [
             0.7,
             "#b8e186"
            ],
            [
             0.8,
             "#7fbc41"
            ],
            [
             0.9,
             "#4d9221"
            ],
            [
             1,
             "#276419"
            ]
           ],
           "sequential": [
            [
             0,
             "#0d0887"
            ],
            [
             0.1111111111111111,
             "#46039f"
            ],
            [
             0.2222222222222222,
             "#7201a8"
            ],
            [
             0.3333333333333333,
             "#9c179e"
            ],
            [
             0.4444444444444444,
             "#bd3786"
            ],
            [
             0.5555555555555556,
             "#d8576b"
            ],
            [
             0.6666666666666666,
             "#ed7953"
            ],
            [
             0.7777777777777778,
             "#fb9f3a"
            ],
            [
             0.8888888888888888,
             "#fdca26"
            ],
            [
             1,
             "#f0f921"
            ]
           ],
           "sequentialminus": [
            [
             0,
             "#0d0887"
            ],
            [
             0.1111111111111111,
             "#46039f"
            ],
            [
             0.2222222222222222,
             "#7201a8"
            ],
            [
             0.3333333333333333,
             "#9c179e"
            ],
            [
             0.4444444444444444,
             "#bd3786"
            ],
            [
             0.5555555555555556,
             "#d8576b"
            ],
            [
             0.6666666666666666,
             "#ed7953"
            ],
            [
             0.7777777777777778,
             "#fb9f3a"
            ],
            [
             0.8888888888888888,
             "#fdca26"
            ],
            [
             1,
             "#f0f921"
            ]
           ]
          },
          "colorway": [
           "#636efa",
           "#EF553B",
           "#00cc96",
           "#ab63fa",
           "#FFA15A",
           "#19d3f3",
           "#FF6692",
           "#B6E880",
           "#FF97FF",
           "#FECB52"
          ],
          "font": {
           "color": "#2a3f5f"
          },
          "geo": {
           "bgcolor": "white",
           "lakecolor": "white",
           "landcolor": "#E5ECF6",
           "showlakes": true,
           "showland": true,
           "subunitcolor": "white"
          },
          "hoverlabel": {
           "align": "left"
          },
          "hovermode": "closest",
          "mapbox": {
           "style": "light"
          },
          "paper_bgcolor": "white",
          "plot_bgcolor": "#E5ECF6",
          "polar": {
           "angularaxis": {
            "gridcolor": "white",
            "linecolor": "white",
            "ticks": ""
           },
           "bgcolor": "#E5ECF6",
           "radialaxis": {
            "gridcolor": "white",
            "linecolor": "white",
            "ticks": ""
           }
          },
          "scene": {
           "xaxis": {
            "backgroundcolor": "#E5ECF6",
            "gridcolor": "white",
            "gridwidth": 2,
            "linecolor": "white",
            "showbackground": true,
            "ticks": "",
            "zerolinecolor": "white"
           },
           "yaxis": {
            "backgroundcolor": "#E5ECF6",
            "gridcolor": "white",
            "gridwidth": 2,
            "linecolor": "white",
            "showbackground": true,
            "ticks": "",
            "zerolinecolor": "white"
           },
           "zaxis": {
            "backgroundcolor": "#E5ECF6",
            "gridcolor": "white",
            "gridwidth": 2,
            "linecolor": "white",
            "showbackground": true,
            "ticks": "",
            "zerolinecolor": "white"
           }
          },
          "shapedefaults": {
           "line": {
            "color": "#2a3f5f"
           }
          },
          "ternary": {
           "aaxis": {
            "gridcolor": "white",
            "linecolor": "white",
            "ticks": ""
           },
           "baxis": {
            "gridcolor": "white",
            "linecolor": "white",
            "ticks": ""
           },
           "bgcolor": "#E5ECF6",
           "caxis": {
            "gridcolor": "white",
            "linecolor": "white",
            "ticks": ""
           }
          },
          "title": {
           "x": 0.05
          },
          "xaxis": {
           "automargin": true,
           "gridcolor": "white",
           "linecolor": "white",
           "ticks": "",
           "title": {
            "standoff": 15
           },
           "zerolinecolor": "white",
           "zerolinewidth": 2
          },
          "yaxis": {
           "automargin": true,
           "gridcolor": "white",
           "linecolor": "white",
           "ticks": "",
           "title": {
            "standoff": 15
           },
           "zerolinecolor": "white",
           "zerolinewidth": 2
          }
         }
        },
        "title": {
         "font": {
          "color": "#4D5663"
         }
        },
        "xaxis": {
         "gridcolor": "#E1E5ED",
         "showgrid": true,
         "tickfont": {
          "color": "#4D5663"
         },
         "title": {
          "font": {
           "color": "#4D5663"
          },
          "text": ""
         },
         "zerolinecolor": "#E1E5ED"
        },
        "yaxis": {
         "gridcolor": "#E1E5ED",
         "showgrid": true,
         "tickfont": {
          "color": "#4D5663"
         },
         "title": {
          "font": {
           "color": "#4D5663"
          },
          "text": ""
         },
         "zerolinecolor": "#E1E5ED"
        }
       }
      },
      "text/html": [
       "<div>                            <div id=\"5ef4c40a-a779-4002-aadc-94a3e404d31a\" class=\"plotly-graph-div\" style=\"height:525px; width:100%;\"></div>            <script type=\"text/javascript\">                require([\"plotly\"], function(Plotly) {                    window.PLOTLYENV=window.PLOTLYENV || {};\n",
       "                    window.PLOTLYENV.BASE_URL='https://plot.ly';                                    if (document.getElementById(\"5ef4c40a-a779-4002-aadc-94a3e404d31a\")) {                    Plotly.newPlot(                        \"5ef4c40a-a779-4002-aadc-94a3e404d31a\",                        [{\"line\":{\"color\":\"rgba(255, 153, 51, 1.0)\",\"dash\":\"solid\",\"shape\":\"linear\",\"width\":1.3},\"marker\":{\"size\":12,\"symbol\":\"circle\"},\"mode\":\"markers\",\"name\":\"B\",\"text\":\"\",\"x\":[0.042951484569504976,-0.2202853182291732,1.1734268801089391,-0.242857425217831,0.6763938161336688,-0.35387111095045287,-1.178873015258505,-0.9043748575099387,1.289961855900039,0.4024925419044032,0.47478873453097875,-1.5599979609496375,1.256435413677142,-1.0956306989431794,-0.4086611258433707,-1.3945695346151434,0.912962045848968,0.30730511387148135,-0.1939624564553397,1.4671933909894053,0.5694254821204012,-1.1931505134032656,1.5569400206519073,2.3296513255577835,0.21366883706439055,-0.7481852006274928,-1.047437879897871,-1.5665786547362606,-0.4195824696415362,0.7356706051151829,1.4854953122092205,-1.3585448502023059,0.6868115836283416,-0.8590019761193095,-0.3167758916209611,-2.5859566581957814,1.8802303072579827,0.33698592765530255,0.24253885461217137,-1.0610179368441957,0.6063985638659398,1.9432087735321149,-0.30963188399023234,-0.9478546493238559,1.6901316294856135,-0.9748813666852253,1.6306834387604556,0.5099483849696402,-0.8464325906049034,-0.5542596398999922,1.5009952174177925,-0.1652580228163639,0.01163057019334677,0.7861976487418677,-1.3589873822837037,-0.4793132050239744,-0.8884327703773046,-0.3284322245590626,-0.4240280239376068,0.22150415379237778,0.3881047010647667,-0.30205926100025343,0.26673438198881094,-1.591193149414884,0.8778887244884065,0.2209150355262721,1.0160545227316395,0.3491350139623226,-0.9537562700624382,1.687178900073207,0.6711975871514694,-0.47100392021657966,-0.4796751132677763,0.8899899575821433,-0.34435673664939204,-0.5704311813504567,0.17464690363311544,-0.7418420309705646,-0.6330916545993854,-1.5647070071417015,0.1292205238573053,0.17257583531658205,0.5641384665414945,-1.2693499109193727,1.112215426407947,-0.6246175481905369,0.6243230099698143,-0.5868564679739539,-0.38798572600393394,-2.2238360986731847,0.39483428796649245,-1.5128431080727769,-0.17054727445722603,0.2785807882330337,0.12745026931076014,0.37528908825820756,0.01664120828374138,2.7111613412371853,0.6852940169202932,0.04551068262644309],\"y\":[0.6192879182170579,1.1257981118290274,-0.18605348668541802,1.68420984422097,-0.9102788942172225,-0.5202766729357958,-0.8997368949419952,0.6662772657608717,0.35174523740201824,0.9641528029440805,-0.8653270517802244,0.9452732084915756,0.47945395129175744,-0.4286061172343618,-1.2735688440555835,0.40889101608737194,1.2422571076767783,1.4166175858265113,-0.5270318815990367,-0.800046474269336,0.214565407669123,-0.55640152527389,-0.9114344441458444,3.1083979331621663,-0.7311112731850965,-0.684880342436226,0.06274744992688126,2.742531672377017,-2.133326227684579,0.1151137652842412,0.7680900451533238,-0.5223302478800493,0.022174916223067612,2.4139818872965506,0.21130446301537828,-1.0520853313040146,-1.7954748202765316,-0.9478364870503688,0.5588092484146348,-0.7601933681171539,0.14143501024264124,0.27309509504905183,-2.427264041980388,0.23317620185855684,-3.1588073663659517,-0.9122905543369599,0.6107267009505823,-0.23496380499321687,0.2941546566425414,0.7183125745805514,1.070927343340471,-1.0193545665580568,1.5531729890673478,-0.957694030028398,1.1727426779104344,0.20692751971823767,-0.34462607961309055,0.6537646309558028,2.6435063941444903,-0.26984172479330476,0.06320591618100005,2.9234580741428777,0.9283667700362315,0.343527795795072,-1.6951366429125174,0.6105405577363859,1.2681520353623972,-1.4348732293337862,0.036658494980897884,0.8311983922247884,-0.30313544490508115,-0.4189732950197264,0.1303538776810748,0.5785788369835336,0.4081059853116089,-0.05183208331726445,0.6342275658481765,-0.2792889338774161,0.06936324222582699,0.5281795507084809,0.40946299084644944,1.3820817269300272,0.2347867174176207,2.6062135259018873,-1.5016377554871971,0.6800085010932065,-0.021387092292663206,1.536948561145858,0.7924620306825507,1.7553181160764677,-0.869180304417114,0.709670228343469,-0.24003645899926476,1.2632533989196815,0.019840686964291792,-0.7226923963856168,0.9000389139195395,-0.5072870380033023,-0.048363172534944744,-0.7864118916761768],\"type\":\"scatter\"}],                        {\"legend\":{\"bgcolor\":\"#F5F6F9\",\"font\":{\"color\":\"#4D5663\"}},\"paper_bgcolor\":\"#F5F6F9\",\"plot_bgcolor\":\"#F5F6F9\",\"template\":{\"data\":{\"barpolar\":[{\"marker\":{\"line\":{\"color\":\"#E5ECF6\",\"width\":0.5},\"pattern\":{\"fillmode\":\"overlay\",\"size\":10,\"solidity\":0.2}},\"type\":\"barpolar\"}],\"bar\":[{\"error_x\":{\"color\":\"#2a3f5f\"},\"error_y\":{\"color\":\"#2a3f5f\"},\"marker\":{\"line\":{\"color\":\"#E5ECF6\",\"width\":0.5},\"pattern\":{\"fillmode\":\"overlay\",\"size\":10,\"solidity\":0.2}},\"type\":\"bar\"}],\"carpet\":[{\"aaxis\":{\"endlinecolor\":\"#2a3f5f\",\"gridcolor\":\"white\",\"linecolor\":\"white\",\"minorgridcolor\":\"white\",\"startlinecolor\":\"#2a3f5f\"},\"baxis\":{\"endlinecolor\":\"#2a3f5f\",\"gridcolor\":\"white\",\"linecolor\":\"white\",\"minorgridcolor\":\"white\",\"startlinecolor\":\"#2a3f5f\"},\"type\":\"carpet\"}],\"choropleth\":[{\"colorbar\":{\"outlinewidth\":0,\"ticks\":\"\"},\"type\":\"choropleth\"}],\"contourcarpet\":[{\"colorbar\":{\"outlinewidth\":0,\"ticks\":\"\"},\"type\":\"contourcarpet\"}],\"contour\":[{\"colorbar\":{\"outlinewidth\":0,\"ticks\":\"\"},\"colorscale\":[[0.0,\"#0d0887\"],[0.1111111111111111,\"#46039f\"],[0.2222222222222222,\"#7201a8\"],[0.3333333333333333,\"#9c179e\"],[0.4444444444444444,\"#bd3786\"],[0.5555555555555556,\"#d8576b\"],[0.6666666666666666,\"#ed7953\"],[0.7777777777777778,\"#fb9f3a\"],[0.8888888888888888,\"#fdca26\"],[1.0,\"#f0f921\"]],\"type\":\"contour\"}],\"heatmapgl\":[{\"colorbar\":{\"outlinewidth\":0,\"ticks\":\"\"},\"colorscale\":[[0.0,\"#0d0887\"],[0.1111111111111111,\"#46039f\"],[0.2222222222222222,\"#7201a8\"],[0.3333333333333333,\"#9c179e\"],[0.4444444444444444,\"#bd3786\"],[0.5555555555555556,\"#d8576b\"],[0.6666666666666666,\"#ed7953\"],[0.7777777777777778,\"#fb9f3a\"],[0.8888888888888888,\"#fdca26\"],[1.0,\"#f0f921\"]],\"type\":\"heatmapgl\"}],\"heatmap\":[{\"colorbar\":{\"outlinewidth\":0,\"ticks\":\"\"},\"colorscale\":[[0.0,\"#0d0887\"],[0.1111111111111111,\"#46039f\"],[0.2222222222222222,\"#7201a8\"],[0.3333333333333333,\"#9c179e\"],[0.4444444444444444,\"#bd3786\"],[0.5555555555555556,\"#d8576b\"],[0.6666666666666666,\"#ed7953\"],[0.7777777777777778,\"#fb9f3a\"],[0.8888888888888888,\"#fdca26\"],[1.0,\"#f0f921\"]],\"type\":\"heatmap\"}],\"histogram2dcontour\":[{\"colorbar\":{\"outlinewidth\":0,\"ticks\":\"\"},\"colorscale\":[[0.0,\"#0d0887\"],[0.1111111111111111,\"#46039f\"],[0.2222222222222222,\"#7201a8\"],[0.3333333333333333,\"#9c179e\"],[0.4444444444444444,\"#bd3786\"],[0.5555555555555556,\"#d8576b\"],[0.6666666666666666,\"#ed7953\"],[0.7777777777777778,\"#fb9f3a\"],[0.8888888888888888,\"#fdca26\"],[1.0,\"#f0f921\"]],\"type\":\"histogram2dcontour\"}],\"histogram2d\":[{\"colorbar\":{\"outlinewidth\":0,\"ticks\":\"\"},\"colorscale\":[[0.0,\"#0d0887\"],[0.1111111111111111,\"#46039f\"],[0.2222222222222222,\"#7201a8\"],[0.3333333333333333,\"#9c179e\"],[0.4444444444444444,\"#bd3786\"],[0.5555555555555556,\"#d8576b\"],[0.6666666666666666,\"#ed7953\"],[0.7777777777777778,\"#fb9f3a\"],[0.8888888888888888,\"#fdca26\"],[1.0,\"#f0f921\"]],\"type\":\"histogram2d\"}],\"histogram\":[{\"marker\":{\"pattern\":{\"fillmode\":\"overlay\",\"size\":10,\"solidity\":0.2}},\"type\":\"histogram\"}],\"mesh3d\":[{\"colorbar\":{\"outlinewidth\":0,\"ticks\":\"\"},\"type\":\"mesh3d\"}],\"parcoords\":[{\"line\":{\"colorbar\":{\"outlinewidth\":0,\"ticks\":\"\"}},\"type\":\"parcoords\"}],\"pie\":[{\"automargin\":true,\"type\":\"pie\"}],\"scatter3d\":[{\"line\":{\"colorbar\":{\"outlinewidth\":0,\"ticks\":\"\"}},\"marker\":{\"colorbar\":{\"outlinewidth\":0,\"ticks\":\"\"}},\"type\":\"scatter3d\"}],\"scattercarpet\":[{\"marker\":{\"colorbar\":{\"outlinewidth\":0,\"ticks\":\"\"}},\"type\":\"scattercarpet\"}],\"scattergeo\":[{\"marker\":{\"colorbar\":{\"outlinewidth\":0,\"ticks\":\"\"}},\"type\":\"scattergeo\"}],\"scattergl\":[{\"marker\":{\"colorbar\":{\"outlinewidth\":0,\"ticks\":\"\"}},\"type\":\"scattergl\"}],\"scattermapbox\":[{\"marker\":{\"colorbar\":{\"outlinewidth\":0,\"ticks\":\"\"}},\"type\":\"scattermapbox\"}],\"scatterpolargl\":[{\"marker\":{\"colorbar\":{\"outlinewidth\":0,\"ticks\":\"\"}},\"type\":\"scatterpolargl\"}],\"scatterpolar\":[{\"marker\":{\"colorbar\":{\"outlinewidth\":0,\"ticks\":\"\"}},\"type\":\"scatterpolar\"}],\"scatter\":[{\"fillpattern\":{\"fillmode\":\"overlay\",\"size\":10,\"solidity\":0.2},\"type\":\"scatter\"}],\"scatterternary\":[{\"marker\":{\"colorbar\":{\"outlinewidth\":0,\"ticks\":\"\"}},\"type\":\"scatterternary\"}],\"surface\":[{\"colorbar\":{\"outlinewidth\":0,\"ticks\":\"\"},\"colorscale\":[[0.0,\"#0d0887\"],[0.1111111111111111,\"#46039f\"],[0.2222222222222222,\"#7201a8\"],[0.3333333333333333,\"#9c179e\"],[0.4444444444444444,\"#bd3786\"],[0.5555555555555556,\"#d8576b\"],[0.6666666666666666,\"#ed7953\"],[0.7777777777777778,\"#fb9f3a\"],[0.8888888888888888,\"#fdca26\"],[1.0,\"#f0f921\"]],\"type\":\"surface\"}],\"table\":[{\"cells\":{\"fill\":{\"color\":\"#EBF0F8\"},\"line\":{\"color\":\"white\"}},\"header\":{\"fill\":{\"color\":\"#C8D4E3\"},\"line\":{\"color\":\"white\"}},\"type\":\"table\"}]},\"layout\":{\"annotationdefaults\":{\"arrowcolor\":\"#2a3f5f\",\"arrowhead\":0,\"arrowwidth\":1},\"autotypenumbers\":\"strict\",\"coloraxis\":{\"colorbar\":{\"outlinewidth\":0,\"ticks\":\"\"}},\"colorscale\":{\"diverging\":[[0,\"#8e0152\"],[0.1,\"#c51b7d\"],[0.2,\"#de77ae\"],[0.3,\"#f1b6da\"],[0.4,\"#fde0ef\"],[0.5,\"#f7f7f7\"],[0.6,\"#e6f5d0\"],[0.7,\"#b8e186\"],[0.8,\"#7fbc41\"],[0.9,\"#4d9221\"],[1,\"#276419\"]],\"sequential\":[[0.0,\"#0d0887\"],[0.1111111111111111,\"#46039f\"],[0.2222222222222222,\"#7201a8\"],[0.3333333333333333,\"#9c179e\"],[0.4444444444444444,\"#bd3786\"],[0.5555555555555556,\"#d8576b\"],[0.6666666666666666,\"#ed7953\"],[0.7777777777777778,\"#fb9f3a\"],[0.8888888888888888,\"#fdca26\"],[1.0,\"#f0f921\"]],\"sequentialminus\":[[0.0,\"#0d0887\"],[0.1111111111111111,\"#46039f\"],[0.2222222222222222,\"#7201a8\"],[0.3333333333333333,\"#9c179e\"],[0.4444444444444444,\"#bd3786\"],[0.5555555555555556,\"#d8576b\"],[0.6666666666666666,\"#ed7953\"],[0.7777777777777778,\"#fb9f3a\"],[0.8888888888888888,\"#fdca26\"],[1.0,\"#f0f921\"]]},\"colorway\":[\"#636efa\",\"#EF553B\",\"#00cc96\",\"#ab63fa\",\"#FFA15A\",\"#19d3f3\",\"#FF6692\",\"#B6E880\",\"#FF97FF\",\"#FECB52\"],\"font\":{\"color\":\"#2a3f5f\"},\"geo\":{\"bgcolor\":\"white\",\"lakecolor\":\"white\",\"landcolor\":\"#E5ECF6\",\"showlakes\":true,\"showland\":true,\"subunitcolor\":\"white\"},\"hoverlabel\":{\"align\":\"left\"},\"hovermode\":\"closest\",\"mapbox\":{\"style\":\"light\"},\"paper_bgcolor\":\"white\",\"plot_bgcolor\":\"#E5ECF6\",\"polar\":{\"angularaxis\":{\"gridcolor\":\"white\",\"linecolor\":\"white\",\"ticks\":\"\"},\"bgcolor\":\"#E5ECF6\",\"radialaxis\":{\"gridcolor\":\"white\",\"linecolor\":\"white\",\"ticks\":\"\"}},\"scene\":{\"xaxis\":{\"backgroundcolor\":\"#E5ECF6\",\"gridcolor\":\"white\",\"gridwidth\":2,\"linecolor\":\"white\",\"showbackground\":true,\"ticks\":\"\",\"zerolinecolor\":\"white\"},\"yaxis\":{\"backgroundcolor\":\"#E5ECF6\",\"gridcolor\":\"white\",\"gridwidth\":2,\"linecolor\":\"white\",\"showbackground\":true,\"ticks\":\"\",\"zerolinecolor\":\"white\"},\"zaxis\":{\"backgroundcolor\":\"#E5ECF6\",\"gridcolor\":\"white\",\"gridwidth\":2,\"linecolor\":\"white\",\"showbackground\":true,\"ticks\":\"\",\"zerolinecolor\":\"white\"}},\"shapedefaults\":{\"line\":{\"color\":\"#2a3f5f\"}},\"ternary\":{\"aaxis\":{\"gridcolor\":\"white\",\"linecolor\":\"white\",\"ticks\":\"\"},\"baxis\":{\"gridcolor\":\"white\",\"linecolor\":\"white\",\"ticks\":\"\"},\"bgcolor\":\"#E5ECF6\",\"caxis\":{\"gridcolor\":\"white\",\"linecolor\":\"white\",\"ticks\":\"\"}},\"title\":{\"x\":0.05},\"xaxis\":{\"automargin\":true,\"gridcolor\":\"white\",\"linecolor\":\"white\",\"ticks\":\"\",\"title\":{\"standoff\":15},\"zerolinecolor\":\"white\",\"zerolinewidth\":2},\"yaxis\":{\"automargin\":true,\"gridcolor\":\"white\",\"linecolor\":\"white\",\"ticks\":\"\",\"title\":{\"standoff\":15},\"zerolinecolor\":\"white\",\"zerolinewidth\":2}}},\"title\":{\"font\":{\"color\":\"#4D5663\"}},\"xaxis\":{\"gridcolor\":\"#E1E5ED\",\"showgrid\":true,\"tickfont\":{\"color\":\"#4D5663\"},\"title\":{\"font\":{\"color\":\"#4D5663\"},\"text\":\"\"},\"zerolinecolor\":\"#E1E5ED\"},\"yaxis\":{\"gridcolor\":\"#E1E5ED\",\"showgrid\":true,\"tickfont\":{\"color\":\"#4D5663\"},\"title\":{\"font\":{\"color\":\"#4D5663\"},\"text\":\"\"},\"zerolinecolor\":\"#E1E5ED\"}},                        {\"showLink\": true, \"linkText\": \"Export to plot.ly\", \"plotlyServerURL\": \"https://plot.ly\", \"responsive\": true}                    ).then(function(){\n",
       "                            \n",
       "var gd = document.getElementById('5ef4c40a-a779-4002-aadc-94a3e404d31a');\n",
       "var x = new MutationObserver(function (mutations, observer) {{\n",
       "        var display = window.getComputedStyle(gd).display;\n",
       "        if (!display || display === 'none') {{\n",
       "            console.log([gd, 'removed!']);\n",
       "            Plotly.purge(gd);\n",
       "            observer.disconnect();\n",
       "        }}\n",
       "}});\n",
       "\n",
       "// Listen for the removal of the full notebook cells\n",
       "var notebookContainer = gd.closest('#notebook-container');\n",
       "if (notebookContainer) {{\n",
       "    x.observe(notebookContainer, {childList: true});\n",
       "}}\n",
       "\n",
       "// Listen for the clearing of the current output cell\n",
       "var outputEl = gd.closest('.output');\n",
       "if (outputEl) {{\n",
       "    x.observe(outputEl, {childList: true});\n",
       "}}\n",
       "\n",
       "                        })                };                });            </script>        </div>"
      ]
     },
     "metadata": {},
     "output_type": "display_data"
    }
   ],
   "source": [
    "df.iplot(kind='scatter', x='A', y='B', mode='markers')"
   ]
  },
  {
   "cell_type": "code",
   "execution_count": 15,
   "id": "0262a70f",
   "metadata": {},
   "outputs": [
    {
     "data": {
      "application/vnd.plotly.v1+json": {
       "config": {
        "linkText": "Export to plot.ly",
        "plotlyServerURL": "https://plot.ly",
        "showLink": true
       },
       "data": [
        {
         "line": {
          "color": "rgba(255, 153, 51, 1.0)",
          "dash": "solid",
          "shape": "linear",
          "width": 1.3
         },
         "marker": {
          "size": 15,
          "symbol": "circle"
         },
         "mode": "markers",
         "name": "B",
         "text": "",
         "type": "scatter",
         "x": [
          0.042951484569504976,
          -0.2202853182291732,
          1.1734268801089391,
          -0.242857425217831,
          0.6763938161336688,
          -0.35387111095045287,
          -1.178873015258505,
          -0.9043748575099387,
          1.289961855900039,
          0.4024925419044032,
          0.47478873453097875,
          -1.5599979609496375,
          1.256435413677142,
          -1.0956306989431794,
          -0.4086611258433707,
          -1.3945695346151434,
          0.912962045848968,
          0.30730511387148135,
          -0.1939624564553397,
          1.4671933909894053,
          0.5694254821204012,
          -1.1931505134032656,
          1.5569400206519073,
          2.3296513255577835,
          0.21366883706439055,
          -0.7481852006274928,
          -1.047437879897871,
          -1.5665786547362606,
          -0.4195824696415362,
          0.7356706051151829,
          1.4854953122092205,
          -1.3585448502023059,
          0.6868115836283416,
          -0.8590019761193095,
          -0.3167758916209611,
          -2.5859566581957814,
          1.8802303072579827,
          0.33698592765530255,
          0.24253885461217137,
          -1.0610179368441957,
          0.6063985638659398,
          1.9432087735321149,
          -0.30963188399023234,
          -0.9478546493238559,
          1.6901316294856135,
          -0.9748813666852253,
          1.6306834387604556,
          0.5099483849696402,
          -0.8464325906049034,
          -0.5542596398999922,
          1.5009952174177925,
          -0.1652580228163639,
          0.01163057019334677,
          0.7861976487418677,
          -1.3589873822837037,
          -0.4793132050239744,
          -0.8884327703773046,
          -0.3284322245590626,
          -0.4240280239376068,
          0.22150415379237778,
          0.3881047010647667,
          -0.30205926100025343,
          0.26673438198881094,
          -1.591193149414884,
          0.8778887244884065,
          0.2209150355262721,
          1.0160545227316395,
          0.3491350139623226,
          -0.9537562700624382,
          1.687178900073207,
          0.6711975871514694,
          -0.47100392021657966,
          -0.4796751132677763,
          0.8899899575821433,
          -0.34435673664939204,
          -0.5704311813504567,
          0.17464690363311544,
          -0.7418420309705646,
          -0.6330916545993854,
          -1.5647070071417015,
          0.1292205238573053,
          0.17257583531658205,
          0.5641384665414945,
          -1.2693499109193727,
          1.112215426407947,
          -0.6246175481905369,
          0.6243230099698143,
          -0.5868564679739539,
          -0.38798572600393394,
          -2.2238360986731847,
          0.39483428796649245,
          -1.5128431080727769,
          -0.17054727445722603,
          0.2785807882330337,
          0.12745026931076014,
          0.37528908825820756,
          0.01664120828374138,
          2.7111613412371853,
          0.6852940169202932,
          0.04551068262644309
         ],
         "y": [
          0.6192879182170579,
          1.1257981118290274,
          -0.18605348668541802,
          1.68420984422097,
          -0.9102788942172225,
          -0.5202766729357958,
          -0.8997368949419952,
          0.6662772657608717,
          0.35174523740201824,
          0.9641528029440805,
          -0.8653270517802244,
          0.9452732084915756,
          0.47945395129175744,
          -0.4286061172343618,
          -1.2735688440555835,
          0.40889101608737194,
          1.2422571076767783,
          1.4166175858265113,
          -0.5270318815990367,
          -0.800046474269336,
          0.214565407669123,
          -0.55640152527389,
          -0.9114344441458444,
          3.1083979331621663,
          -0.7311112731850965,
          -0.684880342436226,
          0.06274744992688126,
          2.742531672377017,
          -2.133326227684579,
          0.1151137652842412,
          0.7680900451533238,
          -0.5223302478800493,
          0.022174916223067612,
          2.4139818872965506,
          0.21130446301537828,
          -1.0520853313040146,
          -1.7954748202765316,
          -0.9478364870503688,
          0.5588092484146348,
          -0.7601933681171539,
          0.14143501024264124,
          0.27309509504905183,
          -2.427264041980388,
          0.23317620185855684,
          -3.1588073663659517,
          -0.9122905543369599,
          0.6107267009505823,
          -0.23496380499321687,
          0.2941546566425414,
          0.7183125745805514,
          1.070927343340471,
          -1.0193545665580568,
          1.5531729890673478,
          -0.957694030028398,
          1.1727426779104344,
          0.20692751971823767,
          -0.34462607961309055,
          0.6537646309558028,
          2.6435063941444903,
          -0.26984172479330476,
          0.06320591618100005,
          2.9234580741428777,
          0.9283667700362315,
          0.343527795795072,
          -1.6951366429125174,
          0.6105405577363859,
          1.2681520353623972,
          -1.4348732293337862,
          0.036658494980897884,
          0.8311983922247884,
          -0.30313544490508115,
          -0.4189732950197264,
          0.1303538776810748,
          0.5785788369835336,
          0.4081059853116089,
          -0.05183208331726445,
          0.6342275658481765,
          -0.2792889338774161,
          0.06936324222582699,
          0.5281795507084809,
          0.40946299084644944,
          1.3820817269300272,
          0.2347867174176207,
          2.6062135259018873,
          -1.5016377554871971,
          0.6800085010932065,
          -0.021387092292663206,
          1.536948561145858,
          0.7924620306825507,
          1.7553181160764677,
          -0.869180304417114,
          0.709670228343469,
          -0.24003645899926476,
          1.2632533989196815,
          0.019840686964291792,
          -0.7226923963856168,
          0.9000389139195395,
          -0.5072870380033023,
          -0.048363172534944744,
          -0.7864118916761768
         ]
        }
       ],
       "layout": {
        "legend": {
         "bgcolor": "#F5F6F9",
         "font": {
          "color": "#4D5663"
         }
        },
        "paper_bgcolor": "#F5F6F9",
        "plot_bgcolor": "#F5F6F9",
        "template": {
         "data": {
          "bar": [
           {
            "error_x": {
             "color": "#2a3f5f"
            },
            "error_y": {
             "color": "#2a3f5f"
            },
            "marker": {
             "line": {
              "color": "#E5ECF6",
              "width": 0.5
             },
             "pattern": {
              "fillmode": "overlay",
              "size": 10,
              "solidity": 0.2
             }
            },
            "type": "bar"
           }
          ],
          "barpolar": [
           {
            "marker": {
             "line": {
              "color": "#E5ECF6",
              "width": 0.5
             },
             "pattern": {
              "fillmode": "overlay",
              "size": 10,
              "solidity": 0.2
             }
            },
            "type": "barpolar"
           }
          ],
          "carpet": [
           {
            "aaxis": {
             "endlinecolor": "#2a3f5f",
             "gridcolor": "white",
             "linecolor": "white",
             "minorgridcolor": "white",
             "startlinecolor": "#2a3f5f"
            },
            "baxis": {
             "endlinecolor": "#2a3f5f",
             "gridcolor": "white",
             "linecolor": "white",
             "minorgridcolor": "white",
             "startlinecolor": "#2a3f5f"
            },
            "type": "carpet"
           }
          ],
          "choropleth": [
           {
            "colorbar": {
             "outlinewidth": 0,
             "ticks": ""
            },
            "type": "choropleth"
           }
          ],
          "contour": [
           {
            "colorbar": {
             "outlinewidth": 0,
             "ticks": ""
            },
            "colorscale": [
             [
              0,
              "#0d0887"
             ],
             [
              0.1111111111111111,
              "#46039f"
             ],
             [
              0.2222222222222222,
              "#7201a8"
             ],
             [
              0.3333333333333333,
              "#9c179e"
             ],
             [
              0.4444444444444444,
              "#bd3786"
             ],
             [
              0.5555555555555556,
              "#d8576b"
             ],
             [
              0.6666666666666666,
              "#ed7953"
             ],
             [
              0.7777777777777778,
              "#fb9f3a"
             ],
             [
              0.8888888888888888,
              "#fdca26"
             ],
             [
              1,
              "#f0f921"
             ]
            ],
            "type": "contour"
           }
          ],
          "contourcarpet": [
           {
            "colorbar": {
             "outlinewidth": 0,
             "ticks": ""
            },
            "type": "contourcarpet"
           }
          ],
          "heatmap": [
           {
            "colorbar": {
             "outlinewidth": 0,
             "ticks": ""
            },
            "colorscale": [
             [
              0,
              "#0d0887"
             ],
             [
              0.1111111111111111,
              "#46039f"
             ],
             [
              0.2222222222222222,
              "#7201a8"
             ],
             [
              0.3333333333333333,
              "#9c179e"
             ],
             [
              0.4444444444444444,
              "#bd3786"
             ],
             [
              0.5555555555555556,
              "#d8576b"
             ],
             [
              0.6666666666666666,
              "#ed7953"
             ],
             [
              0.7777777777777778,
              "#fb9f3a"
             ],
             [
              0.8888888888888888,
              "#fdca26"
             ],
             [
              1,
              "#f0f921"
             ]
            ],
            "type": "heatmap"
           }
          ],
          "heatmapgl": [
           {
            "colorbar": {
             "outlinewidth": 0,
             "ticks": ""
            },
            "colorscale": [
             [
              0,
              "#0d0887"
             ],
             [
              0.1111111111111111,
              "#46039f"
             ],
             [
              0.2222222222222222,
              "#7201a8"
             ],
             [
              0.3333333333333333,
              "#9c179e"
             ],
             [
              0.4444444444444444,
              "#bd3786"
             ],
             [
              0.5555555555555556,
              "#d8576b"
             ],
             [
              0.6666666666666666,
              "#ed7953"
             ],
             [
              0.7777777777777778,
              "#fb9f3a"
             ],
             [
              0.8888888888888888,
              "#fdca26"
             ],
             [
              1,
              "#f0f921"
             ]
            ],
            "type": "heatmapgl"
           }
          ],
          "histogram": [
           {
            "marker": {
             "pattern": {
              "fillmode": "overlay",
              "size": 10,
              "solidity": 0.2
             }
            },
            "type": "histogram"
           }
          ],
          "histogram2d": [
           {
            "colorbar": {
             "outlinewidth": 0,
             "ticks": ""
            },
            "colorscale": [
             [
              0,
              "#0d0887"
             ],
             [
              0.1111111111111111,
              "#46039f"
             ],
             [
              0.2222222222222222,
              "#7201a8"
             ],
             [
              0.3333333333333333,
              "#9c179e"
             ],
             [
              0.4444444444444444,
              "#bd3786"
             ],
             [
              0.5555555555555556,
              "#d8576b"
             ],
             [
              0.6666666666666666,
              "#ed7953"
             ],
             [
              0.7777777777777778,
              "#fb9f3a"
             ],
             [
              0.8888888888888888,
              "#fdca26"
             ],
             [
              1,
              "#f0f921"
             ]
            ],
            "type": "histogram2d"
           }
          ],
          "histogram2dcontour": [
           {
            "colorbar": {
             "outlinewidth": 0,
             "ticks": ""
            },
            "colorscale": [
             [
              0,
              "#0d0887"
             ],
             [
              0.1111111111111111,
              "#46039f"
             ],
             [
              0.2222222222222222,
              "#7201a8"
             ],
             [
              0.3333333333333333,
              "#9c179e"
             ],
             [
              0.4444444444444444,
              "#bd3786"
             ],
             [
              0.5555555555555556,
              "#d8576b"
             ],
             [
              0.6666666666666666,
              "#ed7953"
             ],
             [
              0.7777777777777778,
              "#fb9f3a"
             ],
             [
              0.8888888888888888,
              "#fdca26"
             ],
             [
              1,
              "#f0f921"
             ]
            ],
            "type": "histogram2dcontour"
           }
          ],
          "mesh3d": [
           {
            "colorbar": {
             "outlinewidth": 0,
             "ticks": ""
            },
            "type": "mesh3d"
           }
          ],
          "parcoords": [
           {
            "line": {
             "colorbar": {
              "outlinewidth": 0,
              "ticks": ""
             }
            },
            "type": "parcoords"
           }
          ],
          "pie": [
           {
            "automargin": true,
            "type": "pie"
           }
          ],
          "scatter": [
           {
            "fillpattern": {
             "fillmode": "overlay",
             "size": 10,
             "solidity": 0.2
            },
            "type": "scatter"
           }
          ],
          "scatter3d": [
           {
            "line": {
             "colorbar": {
              "outlinewidth": 0,
              "ticks": ""
             }
            },
            "marker": {
             "colorbar": {
              "outlinewidth": 0,
              "ticks": ""
             }
            },
            "type": "scatter3d"
           }
          ],
          "scattercarpet": [
           {
            "marker": {
             "colorbar": {
              "outlinewidth": 0,
              "ticks": ""
             }
            },
            "type": "scattercarpet"
           }
          ],
          "scattergeo": [
           {
            "marker": {
             "colorbar": {
              "outlinewidth": 0,
              "ticks": ""
             }
            },
            "type": "scattergeo"
           }
          ],
          "scattergl": [
           {
            "marker": {
             "colorbar": {
              "outlinewidth": 0,
              "ticks": ""
             }
            },
            "type": "scattergl"
           }
          ],
          "scattermapbox": [
           {
            "marker": {
             "colorbar": {
              "outlinewidth": 0,
              "ticks": ""
             }
            },
            "type": "scattermapbox"
           }
          ],
          "scatterpolar": [
           {
            "marker": {
             "colorbar": {
              "outlinewidth": 0,
              "ticks": ""
             }
            },
            "type": "scatterpolar"
           }
          ],
          "scatterpolargl": [
           {
            "marker": {
             "colorbar": {
              "outlinewidth": 0,
              "ticks": ""
             }
            },
            "type": "scatterpolargl"
           }
          ],
          "scatterternary": [
           {
            "marker": {
             "colorbar": {
              "outlinewidth": 0,
              "ticks": ""
             }
            },
            "type": "scatterternary"
           }
          ],
          "surface": [
           {
            "colorbar": {
             "outlinewidth": 0,
             "ticks": ""
            },
            "colorscale": [
             [
              0,
              "#0d0887"
             ],
             [
              0.1111111111111111,
              "#46039f"
             ],
             [
              0.2222222222222222,
              "#7201a8"
             ],
             [
              0.3333333333333333,
              "#9c179e"
             ],
             [
              0.4444444444444444,
              "#bd3786"
             ],
             [
              0.5555555555555556,
              "#d8576b"
             ],
             [
              0.6666666666666666,
              "#ed7953"
             ],
             [
              0.7777777777777778,
              "#fb9f3a"
             ],
             [
              0.8888888888888888,
              "#fdca26"
             ],
             [
              1,
              "#f0f921"
             ]
            ],
            "type": "surface"
           }
          ],
          "table": [
           {
            "cells": {
             "fill": {
              "color": "#EBF0F8"
             },
             "line": {
              "color": "white"
             }
            },
            "header": {
             "fill": {
              "color": "#C8D4E3"
             },
             "line": {
              "color": "white"
             }
            },
            "type": "table"
           }
          ]
         },
         "layout": {
          "annotationdefaults": {
           "arrowcolor": "#2a3f5f",
           "arrowhead": 0,
           "arrowwidth": 1
          },
          "autotypenumbers": "strict",
          "coloraxis": {
           "colorbar": {
            "outlinewidth": 0,
            "ticks": ""
           }
          },
          "colorscale": {
           "diverging": [
            [
             0,
             "#8e0152"
            ],
            [
             0.1,
             "#c51b7d"
            ],
            [
             0.2,
             "#de77ae"
            ],
            [
             0.3,
             "#f1b6da"
            ],
            [
             0.4,
             "#fde0ef"
            ],
            [
             0.5,
             "#f7f7f7"
            ],
            [
             0.6,
             "#e6f5d0"
            ],
            [
             0.7,
             "#b8e186"
            ],
            [
             0.8,
             "#7fbc41"
            ],
            [
             0.9,
             "#4d9221"
            ],
            [
             1,
             "#276419"
            ]
           ],
           "sequential": [
            [
             0,
             "#0d0887"
            ],
            [
             0.1111111111111111,
             "#46039f"
            ],
            [
             0.2222222222222222,
             "#7201a8"
            ],
            [
             0.3333333333333333,
             "#9c179e"
            ],
            [
             0.4444444444444444,
             "#bd3786"
            ],
            [
             0.5555555555555556,
             "#d8576b"
            ],
            [
             0.6666666666666666,
             "#ed7953"
            ],
            [
             0.7777777777777778,
             "#fb9f3a"
            ],
            [
             0.8888888888888888,
             "#fdca26"
            ],
            [
             1,
             "#f0f921"
            ]
           ],
           "sequentialminus": [
            [
             0,
             "#0d0887"
            ],
            [
             0.1111111111111111,
             "#46039f"
            ],
            [
             0.2222222222222222,
             "#7201a8"
            ],
            [
             0.3333333333333333,
             "#9c179e"
            ],
            [
             0.4444444444444444,
             "#bd3786"
            ],
            [
             0.5555555555555556,
             "#d8576b"
            ],
            [
             0.6666666666666666,
             "#ed7953"
            ],
            [
             0.7777777777777778,
             "#fb9f3a"
            ],
            [
             0.8888888888888888,
             "#fdca26"
            ],
            [
             1,
             "#f0f921"
            ]
           ]
          },
          "colorway": [
           "#636efa",
           "#EF553B",
           "#00cc96",
           "#ab63fa",
           "#FFA15A",
           "#19d3f3",
           "#FF6692",
           "#B6E880",
           "#FF97FF",
           "#FECB52"
          ],
          "font": {
           "color": "#2a3f5f"
          },
          "geo": {
           "bgcolor": "white",
           "lakecolor": "white",
           "landcolor": "#E5ECF6",
           "showlakes": true,
           "showland": true,
           "subunitcolor": "white"
          },
          "hoverlabel": {
           "align": "left"
          },
          "hovermode": "closest",
          "mapbox": {
           "style": "light"
          },
          "paper_bgcolor": "white",
          "plot_bgcolor": "#E5ECF6",
          "polar": {
           "angularaxis": {
            "gridcolor": "white",
            "linecolor": "white",
            "ticks": ""
           },
           "bgcolor": "#E5ECF6",
           "radialaxis": {
            "gridcolor": "white",
            "linecolor": "white",
            "ticks": ""
           }
          },
          "scene": {
           "xaxis": {
            "backgroundcolor": "#E5ECF6",
            "gridcolor": "white",
            "gridwidth": 2,
            "linecolor": "white",
            "showbackground": true,
            "ticks": "",
            "zerolinecolor": "white"
           },
           "yaxis": {
            "backgroundcolor": "#E5ECF6",
            "gridcolor": "white",
            "gridwidth": 2,
            "linecolor": "white",
            "showbackground": true,
            "ticks": "",
            "zerolinecolor": "white"
           },
           "zaxis": {
            "backgroundcolor": "#E5ECF6",
            "gridcolor": "white",
            "gridwidth": 2,
            "linecolor": "white",
            "showbackground": true,
            "ticks": "",
            "zerolinecolor": "white"
           }
          },
          "shapedefaults": {
           "line": {
            "color": "#2a3f5f"
           }
          },
          "ternary": {
           "aaxis": {
            "gridcolor": "white",
            "linecolor": "white",
            "ticks": ""
           },
           "baxis": {
            "gridcolor": "white",
            "linecolor": "white",
            "ticks": ""
           },
           "bgcolor": "#E5ECF6",
           "caxis": {
            "gridcolor": "white",
            "linecolor": "white",
            "ticks": ""
           }
          },
          "title": {
           "x": 0.05
          },
          "xaxis": {
           "automargin": true,
           "gridcolor": "white",
           "linecolor": "white",
           "ticks": "",
           "title": {
            "standoff": 15
           },
           "zerolinecolor": "white",
           "zerolinewidth": 2
          },
          "yaxis": {
           "automargin": true,
           "gridcolor": "white",
           "linecolor": "white",
           "ticks": "",
           "title": {
            "standoff": 15
           },
           "zerolinecolor": "white",
           "zerolinewidth": 2
          }
         }
        },
        "title": {
         "font": {
          "color": "#4D5663"
         }
        },
        "xaxis": {
         "gridcolor": "#E1E5ED",
         "showgrid": true,
         "tickfont": {
          "color": "#4D5663"
         },
         "title": {
          "font": {
           "color": "#4D5663"
          },
          "text": ""
         },
         "zerolinecolor": "#E1E5ED"
        },
        "yaxis": {
         "gridcolor": "#E1E5ED",
         "showgrid": true,
         "tickfont": {
          "color": "#4D5663"
         },
         "title": {
          "font": {
           "color": "#4D5663"
          },
          "text": ""
         },
         "zerolinecolor": "#E1E5ED"
        }
       }
      },
      "text/html": [
       "<div>                            <div id=\"00fd1a99-130e-4456-bd52-ae3c62828ab4\" class=\"plotly-graph-div\" style=\"height:525px; width:100%;\"></div>            <script type=\"text/javascript\">                require([\"plotly\"], function(Plotly) {                    window.PLOTLYENV=window.PLOTLYENV || {};\n",
       "                    window.PLOTLYENV.BASE_URL='https://plot.ly';                                    if (document.getElementById(\"00fd1a99-130e-4456-bd52-ae3c62828ab4\")) {                    Plotly.newPlot(                        \"00fd1a99-130e-4456-bd52-ae3c62828ab4\",                        [{\"line\":{\"color\":\"rgba(255, 153, 51, 1.0)\",\"dash\":\"solid\",\"shape\":\"linear\",\"width\":1.3},\"marker\":{\"size\":15,\"symbol\":\"circle\"},\"mode\":\"markers\",\"name\":\"B\",\"text\":\"\",\"x\":[0.042951484569504976,-0.2202853182291732,1.1734268801089391,-0.242857425217831,0.6763938161336688,-0.35387111095045287,-1.178873015258505,-0.9043748575099387,1.289961855900039,0.4024925419044032,0.47478873453097875,-1.5599979609496375,1.256435413677142,-1.0956306989431794,-0.4086611258433707,-1.3945695346151434,0.912962045848968,0.30730511387148135,-0.1939624564553397,1.4671933909894053,0.5694254821204012,-1.1931505134032656,1.5569400206519073,2.3296513255577835,0.21366883706439055,-0.7481852006274928,-1.047437879897871,-1.5665786547362606,-0.4195824696415362,0.7356706051151829,1.4854953122092205,-1.3585448502023059,0.6868115836283416,-0.8590019761193095,-0.3167758916209611,-2.5859566581957814,1.8802303072579827,0.33698592765530255,0.24253885461217137,-1.0610179368441957,0.6063985638659398,1.9432087735321149,-0.30963188399023234,-0.9478546493238559,1.6901316294856135,-0.9748813666852253,1.6306834387604556,0.5099483849696402,-0.8464325906049034,-0.5542596398999922,1.5009952174177925,-0.1652580228163639,0.01163057019334677,0.7861976487418677,-1.3589873822837037,-0.4793132050239744,-0.8884327703773046,-0.3284322245590626,-0.4240280239376068,0.22150415379237778,0.3881047010647667,-0.30205926100025343,0.26673438198881094,-1.591193149414884,0.8778887244884065,0.2209150355262721,1.0160545227316395,0.3491350139623226,-0.9537562700624382,1.687178900073207,0.6711975871514694,-0.47100392021657966,-0.4796751132677763,0.8899899575821433,-0.34435673664939204,-0.5704311813504567,0.17464690363311544,-0.7418420309705646,-0.6330916545993854,-1.5647070071417015,0.1292205238573053,0.17257583531658205,0.5641384665414945,-1.2693499109193727,1.112215426407947,-0.6246175481905369,0.6243230099698143,-0.5868564679739539,-0.38798572600393394,-2.2238360986731847,0.39483428796649245,-1.5128431080727769,-0.17054727445722603,0.2785807882330337,0.12745026931076014,0.37528908825820756,0.01664120828374138,2.7111613412371853,0.6852940169202932,0.04551068262644309],\"y\":[0.6192879182170579,1.1257981118290274,-0.18605348668541802,1.68420984422097,-0.9102788942172225,-0.5202766729357958,-0.8997368949419952,0.6662772657608717,0.35174523740201824,0.9641528029440805,-0.8653270517802244,0.9452732084915756,0.47945395129175744,-0.4286061172343618,-1.2735688440555835,0.40889101608737194,1.2422571076767783,1.4166175858265113,-0.5270318815990367,-0.800046474269336,0.214565407669123,-0.55640152527389,-0.9114344441458444,3.1083979331621663,-0.7311112731850965,-0.684880342436226,0.06274744992688126,2.742531672377017,-2.133326227684579,0.1151137652842412,0.7680900451533238,-0.5223302478800493,0.022174916223067612,2.4139818872965506,0.21130446301537828,-1.0520853313040146,-1.7954748202765316,-0.9478364870503688,0.5588092484146348,-0.7601933681171539,0.14143501024264124,0.27309509504905183,-2.427264041980388,0.23317620185855684,-3.1588073663659517,-0.9122905543369599,0.6107267009505823,-0.23496380499321687,0.2941546566425414,0.7183125745805514,1.070927343340471,-1.0193545665580568,1.5531729890673478,-0.957694030028398,1.1727426779104344,0.20692751971823767,-0.34462607961309055,0.6537646309558028,2.6435063941444903,-0.26984172479330476,0.06320591618100005,2.9234580741428777,0.9283667700362315,0.343527795795072,-1.6951366429125174,0.6105405577363859,1.2681520353623972,-1.4348732293337862,0.036658494980897884,0.8311983922247884,-0.30313544490508115,-0.4189732950197264,0.1303538776810748,0.5785788369835336,0.4081059853116089,-0.05183208331726445,0.6342275658481765,-0.2792889338774161,0.06936324222582699,0.5281795507084809,0.40946299084644944,1.3820817269300272,0.2347867174176207,2.6062135259018873,-1.5016377554871971,0.6800085010932065,-0.021387092292663206,1.536948561145858,0.7924620306825507,1.7553181160764677,-0.869180304417114,0.709670228343469,-0.24003645899926476,1.2632533989196815,0.019840686964291792,-0.7226923963856168,0.9000389139195395,-0.5072870380033023,-0.048363172534944744,-0.7864118916761768],\"type\":\"scatter\"}],                        {\"legend\":{\"bgcolor\":\"#F5F6F9\",\"font\":{\"color\":\"#4D5663\"}},\"paper_bgcolor\":\"#F5F6F9\",\"plot_bgcolor\":\"#F5F6F9\",\"template\":{\"data\":{\"barpolar\":[{\"marker\":{\"line\":{\"color\":\"#E5ECF6\",\"width\":0.5},\"pattern\":{\"fillmode\":\"overlay\",\"size\":10,\"solidity\":0.2}},\"type\":\"barpolar\"}],\"bar\":[{\"error_x\":{\"color\":\"#2a3f5f\"},\"error_y\":{\"color\":\"#2a3f5f\"},\"marker\":{\"line\":{\"color\":\"#E5ECF6\",\"width\":0.5},\"pattern\":{\"fillmode\":\"overlay\",\"size\":10,\"solidity\":0.2}},\"type\":\"bar\"}],\"carpet\":[{\"aaxis\":{\"endlinecolor\":\"#2a3f5f\",\"gridcolor\":\"white\",\"linecolor\":\"white\",\"minorgridcolor\":\"white\",\"startlinecolor\":\"#2a3f5f\"},\"baxis\":{\"endlinecolor\":\"#2a3f5f\",\"gridcolor\":\"white\",\"linecolor\":\"white\",\"minorgridcolor\":\"white\",\"startlinecolor\":\"#2a3f5f\"},\"type\":\"carpet\"}],\"choropleth\":[{\"colorbar\":{\"outlinewidth\":0,\"ticks\":\"\"},\"type\":\"choropleth\"}],\"contourcarpet\":[{\"colorbar\":{\"outlinewidth\":0,\"ticks\":\"\"},\"type\":\"contourcarpet\"}],\"contour\":[{\"colorbar\":{\"outlinewidth\":0,\"ticks\":\"\"},\"colorscale\":[[0.0,\"#0d0887\"],[0.1111111111111111,\"#46039f\"],[0.2222222222222222,\"#7201a8\"],[0.3333333333333333,\"#9c179e\"],[0.4444444444444444,\"#bd3786\"],[0.5555555555555556,\"#d8576b\"],[0.6666666666666666,\"#ed7953\"],[0.7777777777777778,\"#fb9f3a\"],[0.8888888888888888,\"#fdca26\"],[1.0,\"#f0f921\"]],\"type\":\"contour\"}],\"heatmapgl\":[{\"colorbar\":{\"outlinewidth\":0,\"ticks\":\"\"},\"colorscale\":[[0.0,\"#0d0887\"],[0.1111111111111111,\"#46039f\"],[0.2222222222222222,\"#7201a8\"],[0.3333333333333333,\"#9c179e\"],[0.4444444444444444,\"#bd3786\"],[0.5555555555555556,\"#d8576b\"],[0.6666666666666666,\"#ed7953\"],[0.7777777777777778,\"#fb9f3a\"],[0.8888888888888888,\"#fdca26\"],[1.0,\"#f0f921\"]],\"type\":\"heatmapgl\"}],\"heatmap\":[{\"colorbar\":{\"outlinewidth\":0,\"ticks\":\"\"},\"colorscale\":[[0.0,\"#0d0887\"],[0.1111111111111111,\"#46039f\"],[0.2222222222222222,\"#7201a8\"],[0.3333333333333333,\"#9c179e\"],[0.4444444444444444,\"#bd3786\"],[0.5555555555555556,\"#d8576b\"],[0.6666666666666666,\"#ed7953\"],[0.7777777777777778,\"#fb9f3a\"],[0.8888888888888888,\"#fdca26\"],[1.0,\"#f0f921\"]],\"type\":\"heatmap\"}],\"histogram2dcontour\":[{\"colorbar\":{\"outlinewidth\":0,\"ticks\":\"\"},\"colorscale\":[[0.0,\"#0d0887\"],[0.1111111111111111,\"#46039f\"],[0.2222222222222222,\"#7201a8\"],[0.3333333333333333,\"#9c179e\"],[0.4444444444444444,\"#bd3786\"],[0.5555555555555556,\"#d8576b\"],[0.6666666666666666,\"#ed7953\"],[0.7777777777777778,\"#fb9f3a\"],[0.8888888888888888,\"#fdca26\"],[1.0,\"#f0f921\"]],\"type\":\"histogram2dcontour\"}],\"histogram2d\":[{\"colorbar\":{\"outlinewidth\":0,\"ticks\":\"\"},\"colorscale\":[[0.0,\"#0d0887\"],[0.1111111111111111,\"#46039f\"],[0.2222222222222222,\"#7201a8\"],[0.3333333333333333,\"#9c179e\"],[0.4444444444444444,\"#bd3786\"],[0.5555555555555556,\"#d8576b\"],[0.6666666666666666,\"#ed7953\"],[0.7777777777777778,\"#fb9f3a\"],[0.8888888888888888,\"#fdca26\"],[1.0,\"#f0f921\"]],\"type\":\"histogram2d\"}],\"histogram\":[{\"marker\":{\"pattern\":{\"fillmode\":\"overlay\",\"size\":10,\"solidity\":0.2}},\"type\":\"histogram\"}],\"mesh3d\":[{\"colorbar\":{\"outlinewidth\":0,\"ticks\":\"\"},\"type\":\"mesh3d\"}],\"parcoords\":[{\"line\":{\"colorbar\":{\"outlinewidth\":0,\"ticks\":\"\"}},\"type\":\"parcoords\"}],\"pie\":[{\"automargin\":true,\"type\":\"pie\"}],\"scatter3d\":[{\"line\":{\"colorbar\":{\"outlinewidth\":0,\"ticks\":\"\"}},\"marker\":{\"colorbar\":{\"outlinewidth\":0,\"ticks\":\"\"}},\"type\":\"scatter3d\"}],\"scattercarpet\":[{\"marker\":{\"colorbar\":{\"outlinewidth\":0,\"ticks\":\"\"}},\"type\":\"scattercarpet\"}],\"scattergeo\":[{\"marker\":{\"colorbar\":{\"outlinewidth\":0,\"ticks\":\"\"}},\"type\":\"scattergeo\"}],\"scattergl\":[{\"marker\":{\"colorbar\":{\"outlinewidth\":0,\"ticks\":\"\"}},\"type\":\"scattergl\"}],\"scattermapbox\":[{\"marker\":{\"colorbar\":{\"outlinewidth\":0,\"ticks\":\"\"}},\"type\":\"scattermapbox\"}],\"scatterpolargl\":[{\"marker\":{\"colorbar\":{\"outlinewidth\":0,\"ticks\":\"\"}},\"type\":\"scatterpolargl\"}],\"scatterpolar\":[{\"marker\":{\"colorbar\":{\"outlinewidth\":0,\"ticks\":\"\"}},\"type\":\"scatterpolar\"}],\"scatter\":[{\"fillpattern\":{\"fillmode\":\"overlay\",\"size\":10,\"solidity\":0.2},\"type\":\"scatter\"}],\"scatterternary\":[{\"marker\":{\"colorbar\":{\"outlinewidth\":0,\"ticks\":\"\"}},\"type\":\"scatterternary\"}],\"surface\":[{\"colorbar\":{\"outlinewidth\":0,\"ticks\":\"\"},\"colorscale\":[[0.0,\"#0d0887\"],[0.1111111111111111,\"#46039f\"],[0.2222222222222222,\"#7201a8\"],[0.3333333333333333,\"#9c179e\"],[0.4444444444444444,\"#bd3786\"],[0.5555555555555556,\"#d8576b\"],[0.6666666666666666,\"#ed7953\"],[0.7777777777777778,\"#fb9f3a\"],[0.8888888888888888,\"#fdca26\"],[1.0,\"#f0f921\"]],\"type\":\"surface\"}],\"table\":[{\"cells\":{\"fill\":{\"color\":\"#EBF0F8\"},\"line\":{\"color\":\"white\"}},\"header\":{\"fill\":{\"color\":\"#C8D4E3\"},\"line\":{\"color\":\"white\"}},\"type\":\"table\"}]},\"layout\":{\"annotationdefaults\":{\"arrowcolor\":\"#2a3f5f\",\"arrowhead\":0,\"arrowwidth\":1},\"autotypenumbers\":\"strict\",\"coloraxis\":{\"colorbar\":{\"outlinewidth\":0,\"ticks\":\"\"}},\"colorscale\":{\"diverging\":[[0,\"#8e0152\"],[0.1,\"#c51b7d\"],[0.2,\"#de77ae\"],[0.3,\"#f1b6da\"],[0.4,\"#fde0ef\"],[0.5,\"#f7f7f7\"],[0.6,\"#e6f5d0\"],[0.7,\"#b8e186\"],[0.8,\"#7fbc41\"],[0.9,\"#4d9221\"],[1,\"#276419\"]],\"sequential\":[[0.0,\"#0d0887\"],[0.1111111111111111,\"#46039f\"],[0.2222222222222222,\"#7201a8\"],[0.3333333333333333,\"#9c179e\"],[0.4444444444444444,\"#bd3786\"],[0.5555555555555556,\"#d8576b\"],[0.6666666666666666,\"#ed7953\"],[0.7777777777777778,\"#fb9f3a\"],[0.8888888888888888,\"#fdca26\"],[1.0,\"#f0f921\"]],\"sequentialminus\":[[0.0,\"#0d0887\"],[0.1111111111111111,\"#46039f\"],[0.2222222222222222,\"#7201a8\"],[0.3333333333333333,\"#9c179e\"],[0.4444444444444444,\"#bd3786\"],[0.5555555555555556,\"#d8576b\"],[0.6666666666666666,\"#ed7953\"],[0.7777777777777778,\"#fb9f3a\"],[0.8888888888888888,\"#fdca26\"],[1.0,\"#f0f921\"]]},\"colorway\":[\"#636efa\",\"#EF553B\",\"#00cc96\",\"#ab63fa\",\"#FFA15A\",\"#19d3f3\",\"#FF6692\",\"#B6E880\",\"#FF97FF\",\"#FECB52\"],\"font\":{\"color\":\"#2a3f5f\"},\"geo\":{\"bgcolor\":\"white\",\"lakecolor\":\"white\",\"landcolor\":\"#E5ECF6\",\"showlakes\":true,\"showland\":true,\"subunitcolor\":\"white\"},\"hoverlabel\":{\"align\":\"left\"},\"hovermode\":\"closest\",\"mapbox\":{\"style\":\"light\"},\"paper_bgcolor\":\"white\",\"plot_bgcolor\":\"#E5ECF6\",\"polar\":{\"angularaxis\":{\"gridcolor\":\"white\",\"linecolor\":\"white\",\"ticks\":\"\"},\"bgcolor\":\"#E5ECF6\",\"radialaxis\":{\"gridcolor\":\"white\",\"linecolor\":\"white\",\"ticks\":\"\"}},\"scene\":{\"xaxis\":{\"backgroundcolor\":\"#E5ECF6\",\"gridcolor\":\"white\",\"gridwidth\":2,\"linecolor\":\"white\",\"showbackground\":true,\"ticks\":\"\",\"zerolinecolor\":\"white\"},\"yaxis\":{\"backgroundcolor\":\"#E5ECF6\",\"gridcolor\":\"white\",\"gridwidth\":2,\"linecolor\":\"white\",\"showbackground\":true,\"ticks\":\"\",\"zerolinecolor\":\"white\"},\"zaxis\":{\"backgroundcolor\":\"#E5ECF6\",\"gridcolor\":\"white\",\"gridwidth\":2,\"linecolor\":\"white\",\"showbackground\":true,\"ticks\":\"\",\"zerolinecolor\":\"white\"}},\"shapedefaults\":{\"line\":{\"color\":\"#2a3f5f\"}},\"ternary\":{\"aaxis\":{\"gridcolor\":\"white\",\"linecolor\":\"white\",\"ticks\":\"\"},\"baxis\":{\"gridcolor\":\"white\",\"linecolor\":\"white\",\"ticks\":\"\"},\"bgcolor\":\"#E5ECF6\",\"caxis\":{\"gridcolor\":\"white\",\"linecolor\":\"white\",\"ticks\":\"\"}},\"title\":{\"x\":0.05},\"xaxis\":{\"automargin\":true,\"gridcolor\":\"white\",\"linecolor\":\"white\",\"ticks\":\"\",\"title\":{\"standoff\":15},\"zerolinecolor\":\"white\",\"zerolinewidth\":2},\"yaxis\":{\"automargin\":true,\"gridcolor\":\"white\",\"linecolor\":\"white\",\"ticks\":\"\",\"title\":{\"standoff\":15},\"zerolinecolor\":\"white\",\"zerolinewidth\":2}}},\"title\":{\"font\":{\"color\":\"#4D5663\"}},\"xaxis\":{\"gridcolor\":\"#E1E5ED\",\"showgrid\":true,\"tickfont\":{\"color\":\"#4D5663\"},\"title\":{\"font\":{\"color\":\"#4D5663\"},\"text\":\"\"},\"zerolinecolor\":\"#E1E5ED\"},\"yaxis\":{\"gridcolor\":\"#E1E5ED\",\"showgrid\":true,\"tickfont\":{\"color\":\"#4D5663\"},\"title\":{\"font\":{\"color\":\"#4D5663\"},\"text\":\"\"},\"zerolinecolor\":\"#E1E5ED\"}},                        {\"showLink\": true, \"linkText\": \"Export to plot.ly\", \"plotlyServerURL\": \"https://plot.ly\", \"responsive\": true}                    ).then(function(){\n",
       "                            \n",
       "var gd = document.getElementById('00fd1a99-130e-4456-bd52-ae3c62828ab4');\n",
       "var x = new MutationObserver(function (mutations, observer) {{\n",
       "        var display = window.getComputedStyle(gd).display;\n",
       "        if (!display || display === 'none') {{\n",
       "            console.log([gd, 'removed!']);\n",
       "            Plotly.purge(gd);\n",
       "            observer.disconnect();\n",
       "        }}\n",
       "}});\n",
       "\n",
       "// Listen for the removal of the full notebook cells\n",
       "var notebookContainer = gd.closest('#notebook-container');\n",
       "if (notebookContainer) {{\n",
       "    x.observe(notebookContainer, {childList: true});\n",
       "}}\n",
       "\n",
       "// Listen for the clearing of the current output cell\n",
       "var outputEl = gd.closest('.output');\n",
       "if (outputEl) {{\n",
       "    x.observe(outputEl, {childList: true});\n",
       "}}\n",
       "\n",
       "                        })                };                });            </script>        </div>"
      ]
     },
     "metadata": {},
     "output_type": "display_data"
    }
   ],
   "source": [
    "df.iplot(kind='scatter', x='A', y='B', mode='markers', size=15)"
   ]
  },
  {
   "cell_type": "markdown",
   "id": "349bfa28",
   "metadata": {},
   "source": [
    "### Barplot"
   ]
  },
  {
   "cell_type": "code",
   "execution_count": 16,
   "id": "35e1e937",
   "metadata": {},
   "outputs": [
    {
     "data": {
      "application/vnd.plotly.v1+json": {
       "config": {
        "linkText": "Export to plot.ly",
        "plotlyServerURL": "https://plot.ly",
        "showLink": true
       },
       "data": [
        {
         "marker": {
          "color": "rgba(255, 153, 51, 0.6)",
          "line": {
           "color": "rgba(255, 153, 51, 1.0)",
           "width": 1
          }
         },
         "name": "Values",
         "orientation": "v",
         "text": "",
         "type": "bar",
         "x": [
          "A",
          "B",
          "C"
         ],
         "y": [
          32,
          43,
          50
         ]
        }
       ],
       "layout": {
        "legend": {
         "bgcolor": "#F5F6F9",
         "font": {
          "color": "#4D5663"
         }
        },
        "paper_bgcolor": "#F5F6F9",
        "plot_bgcolor": "#F5F6F9",
        "template": {
         "data": {
          "bar": [
           {
            "error_x": {
             "color": "#2a3f5f"
            },
            "error_y": {
             "color": "#2a3f5f"
            },
            "marker": {
             "line": {
              "color": "#E5ECF6",
              "width": 0.5
             },
             "pattern": {
              "fillmode": "overlay",
              "size": 10,
              "solidity": 0.2
             }
            },
            "type": "bar"
           }
          ],
          "barpolar": [
           {
            "marker": {
             "line": {
              "color": "#E5ECF6",
              "width": 0.5
             },
             "pattern": {
              "fillmode": "overlay",
              "size": 10,
              "solidity": 0.2
             }
            },
            "type": "barpolar"
           }
          ],
          "carpet": [
           {
            "aaxis": {
             "endlinecolor": "#2a3f5f",
             "gridcolor": "white",
             "linecolor": "white",
             "minorgridcolor": "white",
             "startlinecolor": "#2a3f5f"
            },
            "baxis": {
             "endlinecolor": "#2a3f5f",
             "gridcolor": "white",
             "linecolor": "white",
             "minorgridcolor": "white",
             "startlinecolor": "#2a3f5f"
            },
            "type": "carpet"
           }
          ],
          "choropleth": [
           {
            "colorbar": {
             "outlinewidth": 0,
             "ticks": ""
            },
            "type": "choropleth"
           }
          ],
          "contour": [
           {
            "colorbar": {
             "outlinewidth": 0,
             "ticks": ""
            },
            "colorscale": [
             [
              0,
              "#0d0887"
             ],
             [
              0.1111111111111111,
              "#46039f"
             ],
             [
              0.2222222222222222,
              "#7201a8"
             ],
             [
              0.3333333333333333,
              "#9c179e"
             ],
             [
              0.4444444444444444,
              "#bd3786"
             ],
             [
              0.5555555555555556,
              "#d8576b"
             ],
             [
              0.6666666666666666,
              "#ed7953"
             ],
             [
              0.7777777777777778,
              "#fb9f3a"
             ],
             [
              0.8888888888888888,
              "#fdca26"
             ],
             [
              1,
              "#f0f921"
             ]
            ],
            "type": "contour"
           }
          ],
          "contourcarpet": [
           {
            "colorbar": {
             "outlinewidth": 0,
             "ticks": ""
            },
            "type": "contourcarpet"
           }
          ],
          "heatmap": [
           {
            "colorbar": {
             "outlinewidth": 0,
             "ticks": ""
            },
            "colorscale": [
             [
              0,
              "#0d0887"
             ],
             [
              0.1111111111111111,
              "#46039f"
             ],
             [
              0.2222222222222222,
              "#7201a8"
             ],
             [
              0.3333333333333333,
              "#9c179e"
             ],
             [
              0.4444444444444444,
              "#bd3786"
             ],
             [
              0.5555555555555556,
              "#d8576b"
             ],
             [
              0.6666666666666666,
              "#ed7953"
             ],
             [
              0.7777777777777778,
              "#fb9f3a"
             ],
             [
              0.8888888888888888,
              "#fdca26"
             ],
             [
              1,
              "#f0f921"
             ]
            ],
            "type": "heatmap"
           }
          ],
          "heatmapgl": [
           {
            "colorbar": {
             "outlinewidth": 0,
             "ticks": ""
            },
            "colorscale": [
             [
              0,
              "#0d0887"
             ],
             [
              0.1111111111111111,
              "#46039f"
             ],
             [
              0.2222222222222222,
              "#7201a8"
             ],
             [
              0.3333333333333333,
              "#9c179e"
             ],
             [
              0.4444444444444444,
              "#bd3786"
             ],
             [
              0.5555555555555556,
              "#d8576b"
             ],
             [
              0.6666666666666666,
              "#ed7953"
             ],
             [
              0.7777777777777778,
              "#fb9f3a"
             ],
             [
              0.8888888888888888,
              "#fdca26"
             ],
             [
              1,
              "#f0f921"
             ]
            ],
            "type": "heatmapgl"
           }
          ],
          "histogram": [
           {
            "marker": {
             "pattern": {
              "fillmode": "overlay",
              "size": 10,
              "solidity": 0.2
             }
            },
            "type": "histogram"
           }
          ],
          "histogram2d": [
           {
            "colorbar": {
             "outlinewidth": 0,
             "ticks": ""
            },
            "colorscale": [
             [
              0,
              "#0d0887"
             ],
             [
              0.1111111111111111,
              "#46039f"
             ],
             [
              0.2222222222222222,
              "#7201a8"
             ],
             [
              0.3333333333333333,
              "#9c179e"
             ],
             [
              0.4444444444444444,
              "#bd3786"
             ],
             [
              0.5555555555555556,
              "#d8576b"
             ],
             [
              0.6666666666666666,
              "#ed7953"
             ],
             [
              0.7777777777777778,
              "#fb9f3a"
             ],
             [
              0.8888888888888888,
              "#fdca26"
             ],
             [
              1,
              "#f0f921"
             ]
            ],
            "type": "histogram2d"
           }
          ],
          "histogram2dcontour": [
           {
            "colorbar": {
             "outlinewidth": 0,
             "ticks": ""
            },
            "colorscale": [
             [
              0,
              "#0d0887"
             ],
             [
              0.1111111111111111,
              "#46039f"
             ],
             [
              0.2222222222222222,
              "#7201a8"
             ],
             [
              0.3333333333333333,
              "#9c179e"
             ],
             [
              0.4444444444444444,
              "#bd3786"
             ],
             [
              0.5555555555555556,
              "#d8576b"
             ],
             [
              0.6666666666666666,
              "#ed7953"
             ],
             [
              0.7777777777777778,
              "#fb9f3a"
             ],
             [
              0.8888888888888888,
              "#fdca26"
             ],
             [
              1,
              "#f0f921"
             ]
            ],
            "type": "histogram2dcontour"
           }
          ],
          "mesh3d": [
           {
            "colorbar": {
             "outlinewidth": 0,
             "ticks": ""
            },
            "type": "mesh3d"
           }
          ],
          "parcoords": [
           {
            "line": {
             "colorbar": {
              "outlinewidth": 0,
              "ticks": ""
             }
            },
            "type": "parcoords"
           }
          ],
          "pie": [
           {
            "automargin": true,
            "type": "pie"
           }
          ],
          "scatter": [
           {
            "fillpattern": {
             "fillmode": "overlay",
             "size": 10,
             "solidity": 0.2
            },
            "type": "scatter"
           }
          ],
          "scatter3d": [
           {
            "line": {
             "colorbar": {
              "outlinewidth": 0,
              "ticks": ""
             }
            },
            "marker": {
             "colorbar": {
              "outlinewidth": 0,
              "ticks": ""
             }
            },
            "type": "scatter3d"
           }
          ],
          "scattercarpet": [
           {
            "marker": {
             "colorbar": {
              "outlinewidth": 0,
              "ticks": ""
             }
            },
            "type": "scattercarpet"
           }
          ],
          "scattergeo": [
           {
            "marker": {
             "colorbar": {
              "outlinewidth": 0,
              "ticks": ""
             }
            },
            "type": "scattergeo"
           }
          ],
          "scattergl": [
           {
            "marker": {
             "colorbar": {
              "outlinewidth": 0,
              "ticks": ""
             }
            },
            "type": "scattergl"
           }
          ],
          "scattermapbox": [
           {
            "marker": {
             "colorbar": {
              "outlinewidth": 0,
              "ticks": ""
             }
            },
            "type": "scattermapbox"
           }
          ],
          "scatterpolar": [
           {
            "marker": {
             "colorbar": {
              "outlinewidth": 0,
              "ticks": ""
             }
            },
            "type": "scatterpolar"
           }
          ],
          "scatterpolargl": [
           {
            "marker": {
             "colorbar": {
              "outlinewidth": 0,
              "ticks": ""
             }
            },
            "type": "scatterpolargl"
           }
          ],
          "scatterternary": [
           {
            "marker": {
             "colorbar": {
              "outlinewidth": 0,
              "ticks": ""
             }
            },
            "type": "scatterternary"
           }
          ],
          "surface": [
           {
            "colorbar": {
             "outlinewidth": 0,
             "ticks": ""
            },
            "colorscale": [
             [
              0,
              "#0d0887"
             ],
             [
              0.1111111111111111,
              "#46039f"
             ],
             [
              0.2222222222222222,
              "#7201a8"
             ],
             [
              0.3333333333333333,
              "#9c179e"
             ],
             [
              0.4444444444444444,
              "#bd3786"
             ],
             [
              0.5555555555555556,
              "#d8576b"
             ],
             [
              0.6666666666666666,
              "#ed7953"
             ],
             [
              0.7777777777777778,
              "#fb9f3a"
             ],
             [
              0.8888888888888888,
              "#fdca26"
             ],
             [
              1,
              "#f0f921"
             ]
            ],
            "type": "surface"
           }
          ],
          "table": [
           {
            "cells": {
             "fill": {
              "color": "#EBF0F8"
             },
             "line": {
              "color": "white"
             }
            },
            "header": {
             "fill": {
              "color": "#C8D4E3"
             },
             "line": {
              "color": "white"
             }
            },
            "type": "table"
           }
          ]
         },
         "layout": {
          "annotationdefaults": {
           "arrowcolor": "#2a3f5f",
           "arrowhead": 0,
           "arrowwidth": 1
          },
          "autotypenumbers": "strict",
          "coloraxis": {
           "colorbar": {
            "outlinewidth": 0,
            "ticks": ""
           }
          },
          "colorscale": {
           "diverging": [
            [
             0,
             "#8e0152"
            ],
            [
             0.1,
             "#c51b7d"
            ],
            [
             0.2,
             "#de77ae"
            ],
            [
             0.3,
             "#f1b6da"
            ],
            [
             0.4,
             "#fde0ef"
            ],
            [
             0.5,
             "#f7f7f7"
            ],
            [
             0.6,
             "#e6f5d0"
            ],
            [
             0.7,
             "#b8e186"
            ],
            [
             0.8,
             "#7fbc41"
            ],
            [
             0.9,
             "#4d9221"
            ],
            [
             1,
             "#276419"
            ]
           ],
           "sequential": [
            [
             0,
             "#0d0887"
            ],
            [
             0.1111111111111111,
             "#46039f"
            ],
            [
             0.2222222222222222,
             "#7201a8"
            ],
            [
             0.3333333333333333,
             "#9c179e"
            ],
            [
             0.4444444444444444,
             "#bd3786"
            ],
            [
             0.5555555555555556,
             "#d8576b"
            ],
            [
             0.6666666666666666,
             "#ed7953"
            ],
            [
             0.7777777777777778,
             "#fb9f3a"
            ],
            [
             0.8888888888888888,
             "#fdca26"
            ],
            [
             1,
             "#f0f921"
            ]
           ],
           "sequentialminus": [
            [
             0,
             "#0d0887"
            ],
            [
             0.1111111111111111,
             "#46039f"
            ],
            [
             0.2222222222222222,
             "#7201a8"
            ],
            [
             0.3333333333333333,
             "#9c179e"
            ],
            [
             0.4444444444444444,
             "#bd3786"
            ],
            [
             0.5555555555555556,
             "#d8576b"
            ],
            [
             0.6666666666666666,
             "#ed7953"
            ],
            [
             0.7777777777777778,
             "#fb9f3a"
            ],
            [
             0.8888888888888888,
             "#fdca26"
            ],
            [
             1,
             "#f0f921"
            ]
           ]
          },
          "colorway": [
           "#636efa",
           "#EF553B",
           "#00cc96",
           "#ab63fa",
           "#FFA15A",
           "#19d3f3",
           "#FF6692",
           "#B6E880",
           "#FF97FF",
           "#FECB52"
          ],
          "font": {
           "color": "#2a3f5f"
          },
          "geo": {
           "bgcolor": "white",
           "lakecolor": "white",
           "landcolor": "#E5ECF6",
           "showlakes": true,
           "showland": true,
           "subunitcolor": "white"
          },
          "hoverlabel": {
           "align": "left"
          },
          "hovermode": "closest",
          "mapbox": {
           "style": "light"
          },
          "paper_bgcolor": "white",
          "plot_bgcolor": "#E5ECF6",
          "polar": {
           "angularaxis": {
            "gridcolor": "white",
            "linecolor": "white",
            "ticks": ""
           },
           "bgcolor": "#E5ECF6",
           "radialaxis": {
            "gridcolor": "white",
            "linecolor": "white",
            "ticks": ""
           }
          },
          "scene": {
           "xaxis": {
            "backgroundcolor": "#E5ECF6",
            "gridcolor": "white",
            "gridwidth": 2,
            "linecolor": "white",
            "showbackground": true,
            "ticks": "",
            "zerolinecolor": "white"
           },
           "yaxis": {
            "backgroundcolor": "#E5ECF6",
            "gridcolor": "white",
            "gridwidth": 2,
            "linecolor": "white",
            "showbackground": true,
            "ticks": "",
            "zerolinecolor": "white"
           },
           "zaxis": {
            "backgroundcolor": "#E5ECF6",
            "gridcolor": "white",
            "gridwidth": 2,
            "linecolor": "white",
            "showbackground": true,
            "ticks": "",
            "zerolinecolor": "white"
           }
          },
          "shapedefaults": {
           "line": {
            "color": "#2a3f5f"
           }
          },
          "ternary": {
           "aaxis": {
            "gridcolor": "white",
            "linecolor": "white",
            "ticks": ""
           },
           "baxis": {
            "gridcolor": "white",
            "linecolor": "white",
            "ticks": ""
           },
           "bgcolor": "#E5ECF6",
           "caxis": {
            "gridcolor": "white",
            "linecolor": "white",
            "ticks": ""
           }
          },
          "title": {
           "x": 0.05
          },
          "xaxis": {
           "automargin": true,
           "gridcolor": "white",
           "linecolor": "white",
           "ticks": "",
           "title": {
            "standoff": 15
           },
           "zerolinecolor": "white",
           "zerolinewidth": 2
          },
          "yaxis": {
           "automargin": true,
           "gridcolor": "white",
           "linecolor": "white",
           "ticks": "",
           "title": {
            "standoff": 15
           },
           "zerolinecolor": "white",
           "zerolinewidth": 2
          }
         }
        },
        "title": {
         "font": {
          "color": "#4D5663"
         }
        },
        "xaxis": {
         "gridcolor": "#E1E5ED",
         "showgrid": true,
         "tickfont": {
          "color": "#4D5663"
         },
         "title": {
          "font": {
           "color": "#4D5663"
          },
          "text": ""
         },
         "zerolinecolor": "#E1E5ED"
        },
        "yaxis": {
         "gridcolor": "#E1E5ED",
         "showgrid": true,
         "tickfont": {
          "color": "#4D5663"
         },
         "title": {
          "font": {
           "color": "#4D5663"
          },
          "text": ""
         },
         "zerolinecolor": "#E1E5ED"
        }
       }
      },
      "text/html": [
       "<div>                            <div id=\"ea64ad3a-9e60-4fed-a53a-c145409991f8\" class=\"plotly-graph-div\" style=\"height:525px; width:100%;\"></div>            <script type=\"text/javascript\">                require([\"plotly\"], function(Plotly) {                    window.PLOTLYENV=window.PLOTLYENV || {};\n",
       "                    window.PLOTLYENV.BASE_URL='https://plot.ly';                                    if (document.getElementById(\"ea64ad3a-9e60-4fed-a53a-c145409991f8\")) {                    Plotly.newPlot(                        \"ea64ad3a-9e60-4fed-a53a-c145409991f8\",                        [{\"marker\":{\"color\":\"rgba(255, 153, 51, 0.6)\",\"line\":{\"color\":\"rgba(255, 153, 51, 1.0)\",\"width\":1}},\"name\":\"Values\",\"orientation\":\"v\",\"text\":\"\",\"x\":[\"A\",\"B\",\"C\"],\"y\":[32,43,50],\"type\":\"bar\"}],                        {\"legend\":{\"bgcolor\":\"#F5F6F9\",\"font\":{\"color\":\"#4D5663\"}},\"paper_bgcolor\":\"#F5F6F9\",\"plot_bgcolor\":\"#F5F6F9\",\"template\":{\"data\":{\"barpolar\":[{\"marker\":{\"line\":{\"color\":\"#E5ECF6\",\"width\":0.5},\"pattern\":{\"fillmode\":\"overlay\",\"size\":10,\"solidity\":0.2}},\"type\":\"barpolar\"}],\"bar\":[{\"error_x\":{\"color\":\"#2a3f5f\"},\"error_y\":{\"color\":\"#2a3f5f\"},\"marker\":{\"line\":{\"color\":\"#E5ECF6\",\"width\":0.5},\"pattern\":{\"fillmode\":\"overlay\",\"size\":10,\"solidity\":0.2}},\"type\":\"bar\"}],\"carpet\":[{\"aaxis\":{\"endlinecolor\":\"#2a3f5f\",\"gridcolor\":\"white\",\"linecolor\":\"white\",\"minorgridcolor\":\"white\",\"startlinecolor\":\"#2a3f5f\"},\"baxis\":{\"endlinecolor\":\"#2a3f5f\",\"gridcolor\":\"white\",\"linecolor\":\"white\",\"minorgridcolor\":\"white\",\"startlinecolor\":\"#2a3f5f\"},\"type\":\"carpet\"}],\"choropleth\":[{\"colorbar\":{\"outlinewidth\":0,\"ticks\":\"\"},\"type\":\"choropleth\"}],\"contourcarpet\":[{\"colorbar\":{\"outlinewidth\":0,\"ticks\":\"\"},\"type\":\"contourcarpet\"}],\"contour\":[{\"colorbar\":{\"outlinewidth\":0,\"ticks\":\"\"},\"colorscale\":[[0.0,\"#0d0887\"],[0.1111111111111111,\"#46039f\"],[0.2222222222222222,\"#7201a8\"],[0.3333333333333333,\"#9c179e\"],[0.4444444444444444,\"#bd3786\"],[0.5555555555555556,\"#d8576b\"],[0.6666666666666666,\"#ed7953\"],[0.7777777777777778,\"#fb9f3a\"],[0.8888888888888888,\"#fdca26\"],[1.0,\"#f0f921\"]],\"type\":\"contour\"}],\"heatmapgl\":[{\"colorbar\":{\"outlinewidth\":0,\"ticks\":\"\"},\"colorscale\":[[0.0,\"#0d0887\"],[0.1111111111111111,\"#46039f\"],[0.2222222222222222,\"#7201a8\"],[0.3333333333333333,\"#9c179e\"],[0.4444444444444444,\"#bd3786\"],[0.5555555555555556,\"#d8576b\"],[0.6666666666666666,\"#ed7953\"],[0.7777777777777778,\"#fb9f3a\"],[0.8888888888888888,\"#fdca26\"],[1.0,\"#f0f921\"]],\"type\":\"heatmapgl\"}],\"heatmap\":[{\"colorbar\":{\"outlinewidth\":0,\"ticks\":\"\"},\"colorscale\":[[0.0,\"#0d0887\"],[0.1111111111111111,\"#46039f\"],[0.2222222222222222,\"#7201a8\"],[0.3333333333333333,\"#9c179e\"],[0.4444444444444444,\"#bd3786\"],[0.5555555555555556,\"#d8576b\"],[0.6666666666666666,\"#ed7953\"],[0.7777777777777778,\"#fb9f3a\"],[0.8888888888888888,\"#fdca26\"],[1.0,\"#f0f921\"]],\"type\":\"heatmap\"}],\"histogram2dcontour\":[{\"colorbar\":{\"outlinewidth\":0,\"ticks\":\"\"},\"colorscale\":[[0.0,\"#0d0887\"],[0.1111111111111111,\"#46039f\"],[0.2222222222222222,\"#7201a8\"],[0.3333333333333333,\"#9c179e\"],[0.4444444444444444,\"#bd3786\"],[0.5555555555555556,\"#d8576b\"],[0.6666666666666666,\"#ed7953\"],[0.7777777777777778,\"#fb9f3a\"],[0.8888888888888888,\"#fdca26\"],[1.0,\"#f0f921\"]],\"type\":\"histogram2dcontour\"}],\"histogram2d\":[{\"colorbar\":{\"outlinewidth\":0,\"ticks\":\"\"},\"colorscale\":[[0.0,\"#0d0887\"],[0.1111111111111111,\"#46039f\"],[0.2222222222222222,\"#7201a8\"],[0.3333333333333333,\"#9c179e\"],[0.4444444444444444,\"#bd3786\"],[0.5555555555555556,\"#d8576b\"],[0.6666666666666666,\"#ed7953\"],[0.7777777777777778,\"#fb9f3a\"],[0.8888888888888888,\"#fdca26\"],[1.0,\"#f0f921\"]],\"type\":\"histogram2d\"}],\"histogram\":[{\"marker\":{\"pattern\":{\"fillmode\":\"overlay\",\"size\":10,\"solidity\":0.2}},\"type\":\"histogram\"}],\"mesh3d\":[{\"colorbar\":{\"outlinewidth\":0,\"ticks\":\"\"},\"type\":\"mesh3d\"}],\"parcoords\":[{\"line\":{\"colorbar\":{\"outlinewidth\":0,\"ticks\":\"\"}},\"type\":\"parcoords\"}],\"pie\":[{\"automargin\":true,\"type\":\"pie\"}],\"scatter3d\":[{\"line\":{\"colorbar\":{\"outlinewidth\":0,\"ticks\":\"\"}},\"marker\":{\"colorbar\":{\"outlinewidth\":0,\"ticks\":\"\"}},\"type\":\"scatter3d\"}],\"scattercarpet\":[{\"marker\":{\"colorbar\":{\"outlinewidth\":0,\"ticks\":\"\"}},\"type\":\"scattercarpet\"}],\"scattergeo\":[{\"marker\":{\"colorbar\":{\"outlinewidth\":0,\"ticks\":\"\"}},\"type\":\"scattergeo\"}],\"scattergl\":[{\"marker\":{\"colorbar\":{\"outlinewidth\":0,\"ticks\":\"\"}},\"type\":\"scattergl\"}],\"scattermapbox\":[{\"marker\":{\"colorbar\":{\"outlinewidth\":0,\"ticks\":\"\"}},\"type\":\"scattermapbox\"}],\"scatterpolargl\":[{\"marker\":{\"colorbar\":{\"outlinewidth\":0,\"ticks\":\"\"}},\"type\":\"scatterpolargl\"}],\"scatterpolar\":[{\"marker\":{\"colorbar\":{\"outlinewidth\":0,\"ticks\":\"\"}},\"type\":\"scatterpolar\"}],\"scatter\":[{\"fillpattern\":{\"fillmode\":\"overlay\",\"size\":10,\"solidity\":0.2},\"type\":\"scatter\"}],\"scatterternary\":[{\"marker\":{\"colorbar\":{\"outlinewidth\":0,\"ticks\":\"\"}},\"type\":\"scatterternary\"}],\"surface\":[{\"colorbar\":{\"outlinewidth\":0,\"ticks\":\"\"},\"colorscale\":[[0.0,\"#0d0887\"],[0.1111111111111111,\"#46039f\"],[0.2222222222222222,\"#7201a8\"],[0.3333333333333333,\"#9c179e\"],[0.4444444444444444,\"#bd3786\"],[0.5555555555555556,\"#d8576b\"],[0.6666666666666666,\"#ed7953\"],[0.7777777777777778,\"#fb9f3a\"],[0.8888888888888888,\"#fdca26\"],[1.0,\"#f0f921\"]],\"type\":\"surface\"}],\"table\":[{\"cells\":{\"fill\":{\"color\":\"#EBF0F8\"},\"line\":{\"color\":\"white\"}},\"header\":{\"fill\":{\"color\":\"#C8D4E3\"},\"line\":{\"color\":\"white\"}},\"type\":\"table\"}]},\"layout\":{\"annotationdefaults\":{\"arrowcolor\":\"#2a3f5f\",\"arrowhead\":0,\"arrowwidth\":1},\"autotypenumbers\":\"strict\",\"coloraxis\":{\"colorbar\":{\"outlinewidth\":0,\"ticks\":\"\"}},\"colorscale\":{\"diverging\":[[0,\"#8e0152\"],[0.1,\"#c51b7d\"],[0.2,\"#de77ae\"],[0.3,\"#f1b6da\"],[0.4,\"#fde0ef\"],[0.5,\"#f7f7f7\"],[0.6,\"#e6f5d0\"],[0.7,\"#b8e186\"],[0.8,\"#7fbc41\"],[0.9,\"#4d9221\"],[1,\"#276419\"]],\"sequential\":[[0.0,\"#0d0887\"],[0.1111111111111111,\"#46039f\"],[0.2222222222222222,\"#7201a8\"],[0.3333333333333333,\"#9c179e\"],[0.4444444444444444,\"#bd3786\"],[0.5555555555555556,\"#d8576b\"],[0.6666666666666666,\"#ed7953\"],[0.7777777777777778,\"#fb9f3a\"],[0.8888888888888888,\"#fdca26\"],[1.0,\"#f0f921\"]],\"sequentialminus\":[[0.0,\"#0d0887\"],[0.1111111111111111,\"#46039f\"],[0.2222222222222222,\"#7201a8\"],[0.3333333333333333,\"#9c179e\"],[0.4444444444444444,\"#bd3786\"],[0.5555555555555556,\"#d8576b\"],[0.6666666666666666,\"#ed7953\"],[0.7777777777777778,\"#fb9f3a\"],[0.8888888888888888,\"#fdca26\"],[1.0,\"#f0f921\"]]},\"colorway\":[\"#636efa\",\"#EF553B\",\"#00cc96\",\"#ab63fa\",\"#FFA15A\",\"#19d3f3\",\"#FF6692\",\"#B6E880\",\"#FF97FF\",\"#FECB52\"],\"font\":{\"color\":\"#2a3f5f\"},\"geo\":{\"bgcolor\":\"white\",\"lakecolor\":\"white\",\"landcolor\":\"#E5ECF6\",\"showlakes\":true,\"showland\":true,\"subunitcolor\":\"white\"},\"hoverlabel\":{\"align\":\"left\"},\"hovermode\":\"closest\",\"mapbox\":{\"style\":\"light\"},\"paper_bgcolor\":\"white\",\"plot_bgcolor\":\"#E5ECF6\",\"polar\":{\"angularaxis\":{\"gridcolor\":\"white\",\"linecolor\":\"white\",\"ticks\":\"\"},\"bgcolor\":\"#E5ECF6\",\"radialaxis\":{\"gridcolor\":\"white\",\"linecolor\":\"white\",\"ticks\":\"\"}},\"scene\":{\"xaxis\":{\"backgroundcolor\":\"#E5ECF6\",\"gridcolor\":\"white\",\"gridwidth\":2,\"linecolor\":\"white\",\"showbackground\":true,\"ticks\":\"\",\"zerolinecolor\":\"white\"},\"yaxis\":{\"backgroundcolor\":\"#E5ECF6\",\"gridcolor\":\"white\",\"gridwidth\":2,\"linecolor\":\"white\",\"showbackground\":true,\"ticks\":\"\",\"zerolinecolor\":\"white\"},\"zaxis\":{\"backgroundcolor\":\"#E5ECF6\",\"gridcolor\":\"white\",\"gridwidth\":2,\"linecolor\":\"white\",\"showbackground\":true,\"ticks\":\"\",\"zerolinecolor\":\"white\"}},\"shapedefaults\":{\"line\":{\"color\":\"#2a3f5f\"}},\"ternary\":{\"aaxis\":{\"gridcolor\":\"white\",\"linecolor\":\"white\",\"ticks\":\"\"},\"baxis\":{\"gridcolor\":\"white\",\"linecolor\":\"white\",\"ticks\":\"\"},\"bgcolor\":\"#E5ECF6\",\"caxis\":{\"gridcolor\":\"white\",\"linecolor\":\"white\",\"ticks\":\"\"}},\"title\":{\"x\":0.05},\"xaxis\":{\"automargin\":true,\"gridcolor\":\"white\",\"linecolor\":\"white\",\"ticks\":\"\",\"title\":{\"standoff\":15},\"zerolinecolor\":\"white\",\"zerolinewidth\":2},\"yaxis\":{\"automargin\":true,\"gridcolor\":\"white\",\"linecolor\":\"white\",\"ticks\":\"\",\"title\":{\"standoff\":15},\"zerolinecolor\":\"white\",\"zerolinewidth\":2}}},\"title\":{\"font\":{\"color\":\"#4D5663\"}},\"xaxis\":{\"gridcolor\":\"#E1E5ED\",\"showgrid\":true,\"tickfont\":{\"color\":\"#4D5663\"},\"title\":{\"font\":{\"color\":\"#4D5663\"},\"text\":\"\"},\"zerolinecolor\":\"#E1E5ED\"},\"yaxis\":{\"gridcolor\":\"#E1E5ED\",\"showgrid\":true,\"tickfont\":{\"color\":\"#4D5663\"},\"title\":{\"font\":{\"color\":\"#4D5663\"},\"text\":\"\"},\"zerolinecolor\":\"#E1E5ED\"}},                        {\"showLink\": true, \"linkText\": \"Export to plot.ly\", \"plotlyServerURL\": \"https://plot.ly\", \"responsive\": true}                    ).then(function(){\n",
       "                            \n",
       "var gd = document.getElementById('ea64ad3a-9e60-4fed-a53a-c145409991f8');\n",
       "var x = new MutationObserver(function (mutations, observer) {{\n",
       "        var display = window.getComputedStyle(gd).display;\n",
       "        if (!display || display === 'none') {{\n",
       "            console.log([gd, 'removed!']);\n",
       "            Plotly.purge(gd);\n",
       "            observer.disconnect();\n",
       "        }}\n",
       "}});\n",
       "\n",
       "// Listen for the removal of the full notebook cells\n",
       "var notebookContainer = gd.closest('#notebook-container');\n",
       "if (notebookContainer) {{\n",
       "    x.observe(notebookContainer, {childList: true});\n",
       "}}\n",
       "\n",
       "// Listen for the clearing of the current output cell\n",
       "var outputEl = gd.closest('.output');\n",
       "if (outputEl) {{\n",
       "    x.observe(outputEl, {childList: true});\n",
       "}}\n",
       "\n",
       "                        })                };                });            </script>        </div>"
      ]
     },
     "metadata": {},
     "output_type": "display_data"
    }
   ],
   "source": [
    "df2.iplot(kind='bar', x='Category', y='Values')"
   ]
  },
  {
   "cell_type": "code",
   "execution_count": 17,
   "id": "3a871633",
   "metadata": {},
   "outputs": [
    {
     "data": {
      "application/vnd.plotly.v1+json": {
       "config": {
        "linkText": "Export to plot.ly",
        "plotlyServerURL": "https://plot.ly",
        "showLink": true
       },
       "data": [
        {
         "marker": {
          "color": "rgba(255, 153, 51, 0.6)",
          "line": {
           "color": "rgba(255, 153, 51, 1.0)",
           "width": 1
          }
         },
         "name": "A",
         "orientation": "v",
         "text": "",
         "type": "bar",
         "x": [
          0,
          1,
          2,
          3,
          4,
          5,
          6,
          7,
          8,
          9,
          10,
          11,
          12,
          13,
          14,
          15,
          16,
          17,
          18,
          19,
          20,
          21,
          22,
          23,
          24,
          25,
          26,
          27,
          28,
          29,
          30,
          31,
          32,
          33,
          34,
          35,
          36,
          37,
          38,
          39,
          40,
          41,
          42,
          43,
          44,
          45,
          46,
          47,
          48,
          49,
          50,
          51,
          52,
          53,
          54,
          55,
          56,
          57,
          58,
          59,
          60,
          61,
          62,
          63,
          64,
          65,
          66,
          67,
          68,
          69,
          70,
          71,
          72,
          73,
          74,
          75,
          76,
          77,
          78,
          79,
          80,
          81,
          82,
          83,
          84,
          85,
          86,
          87,
          88,
          89,
          90,
          91,
          92,
          93,
          94,
          95,
          96,
          97,
          98,
          99
         ],
         "y": [
          0.042951484569504976,
          -0.2202853182291732,
          1.1734268801089391,
          -0.242857425217831,
          0.6763938161336688,
          -0.35387111095045287,
          -1.178873015258505,
          -0.9043748575099387,
          1.289961855900039,
          0.4024925419044032,
          0.47478873453097875,
          -1.5599979609496375,
          1.256435413677142,
          -1.0956306989431794,
          -0.4086611258433707,
          -1.3945695346151434,
          0.912962045848968,
          0.30730511387148135,
          -0.1939624564553397,
          1.4671933909894053,
          0.5694254821204012,
          -1.1931505134032656,
          1.5569400206519073,
          2.3296513255577835,
          0.21366883706439055,
          -0.7481852006274928,
          -1.047437879897871,
          -1.5665786547362606,
          -0.4195824696415362,
          0.7356706051151829,
          1.4854953122092205,
          -1.3585448502023059,
          0.6868115836283416,
          -0.8590019761193095,
          -0.3167758916209611,
          -2.5859566581957814,
          1.8802303072579827,
          0.33698592765530255,
          0.24253885461217137,
          -1.0610179368441957,
          0.6063985638659398,
          1.9432087735321149,
          -0.30963188399023234,
          -0.9478546493238559,
          1.6901316294856135,
          -0.9748813666852253,
          1.6306834387604556,
          0.5099483849696402,
          -0.8464325906049034,
          -0.5542596398999922,
          1.5009952174177925,
          -0.1652580228163639,
          0.01163057019334677,
          0.7861976487418677,
          -1.3589873822837037,
          -0.4793132050239744,
          -0.8884327703773046,
          -0.3284322245590626,
          -0.4240280239376068,
          0.22150415379237778,
          0.3881047010647667,
          -0.30205926100025343,
          0.26673438198881094,
          -1.591193149414884,
          0.8778887244884065,
          0.2209150355262721,
          1.0160545227316395,
          0.3491350139623226,
          -0.9537562700624382,
          1.687178900073207,
          0.6711975871514694,
          -0.47100392021657966,
          -0.4796751132677763,
          0.8899899575821433,
          -0.34435673664939204,
          -0.5704311813504567,
          0.17464690363311544,
          -0.7418420309705646,
          -0.6330916545993854,
          -1.5647070071417015,
          0.1292205238573053,
          0.17257583531658205,
          0.5641384665414945,
          -1.2693499109193727,
          1.112215426407947,
          -0.6246175481905369,
          0.6243230099698143,
          -0.5868564679739539,
          -0.38798572600393394,
          -2.2238360986731847,
          0.39483428796649245,
          -1.5128431080727769,
          -0.17054727445722603,
          0.2785807882330337,
          0.12745026931076014,
          0.37528908825820756,
          0.01664120828374138,
          2.7111613412371853,
          0.6852940169202932,
          0.04551068262644309
         ]
        },
        {
         "marker": {
          "color": "rgba(55, 128, 191, 0.6)",
          "line": {
           "color": "rgba(55, 128, 191, 1.0)",
           "width": 1
          }
         },
         "name": "B",
         "orientation": "v",
         "text": "",
         "type": "bar",
         "x": [
          0,
          1,
          2,
          3,
          4,
          5,
          6,
          7,
          8,
          9,
          10,
          11,
          12,
          13,
          14,
          15,
          16,
          17,
          18,
          19,
          20,
          21,
          22,
          23,
          24,
          25,
          26,
          27,
          28,
          29,
          30,
          31,
          32,
          33,
          34,
          35,
          36,
          37,
          38,
          39,
          40,
          41,
          42,
          43,
          44,
          45,
          46,
          47,
          48,
          49,
          50,
          51,
          52,
          53,
          54,
          55,
          56,
          57,
          58,
          59,
          60,
          61,
          62,
          63,
          64,
          65,
          66,
          67,
          68,
          69,
          70,
          71,
          72,
          73,
          74,
          75,
          76,
          77,
          78,
          79,
          80,
          81,
          82,
          83,
          84,
          85,
          86,
          87,
          88,
          89,
          90,
          91,
          92,
          93,
          94,
          95,
          96,
          97,
          98,
          99
         ],
         "y": [
          0.6192879182170579,
          1.1257981118290274,
          -0.18605348668541802,
          1.68420984422097,
          -0.9102788942172225,
          -0.5202766729357958,
          -0.8997368949419952,
          0.6662772657608717,
          0.35174523740201824,
          0.9641528029440805,
          -0.8653270517802244,
          0.9452732084915756,
          0.47945395129175744,
          -0.4286061172343618,
          -1.2735688440555835,
          0.40889101608737194,
          1.2422571076767783,
          1.4166175858265113,
          -0.5270318815990367,
          -0.800046474269336,
          0.214565407669123,
          -0.55640152527389,
          -0.9114344441458444,
          3.1083979331621663,
          -0.7311112731850965,
          -0.684880342436226,
          0.06274744992688126,
          2.742531672377017,
          -2.133326227684579,
          0.1151137652842412,
          0.7680900451533238,
          -0.5223302478800493,
          0.022174916223067612,
          2.4139818872965506,
          0.21130446301537828,
          -1.0520853313040146,
          -1.7954748202765316,
          -0.9478364870503688,
          0.5588092484146348,
          -0.7601933681171539,
          0.14143501024264124,
          0.27309509504905183,
          -2.427264041980388,
          0.23317620185855684,
          -3.1588073663659517,
          -0.9122905543369599,
          0.6107267009505823,
          -0.23496380499321687,
          0.2941546566425414,
          0.7183125745805514,
          1.070927343340471,
          -1.0193545665580568,
          1.5531729890673478,
          -0.957694030028398,
          1.1727426779104344,
          0.20692751971823767,
          -0.34462607961309055,
          0.6537646309558028,
          2.6435063941444903,
          -0.26984172479330476,
          0.06320591618100005,
          2.9234580741428777,
          0.9283667700362315,
          0.343527795795072,
          -1.6951366429125174,
          0.6105405577363859,
          1.2681520353623972,
          -1.4348732293337862,
          0.036658494980897884,
          0.8311983922247884,
          -0.30313544490508115,
          -0.4189732950197264,
          0.1303538776810748,
          0.5785788369835336,
          0.4081059853116089,
          -0.05183208331726445,
          0.6342275658481765,
          -0.2792889338774161,
          0.06936324222582699,
          0.5281795507084809,
          0.40946299084644944,
          1.3820817269300272,
          0.2347867174176207,
          2.6062135259018873,
          -1.5016377554871971,
          0.6800085010932065,
          -0.021387092292663206,
          1.536948561145858,
          0.7924620306825507,
          1.7553181160764677,
          -0.869180304417114,
          0.709670228343469,
          -0.24003645899926476,
          1.2632533989196815,
          0.019840686964291792,
          -0.7226923963856168,
          0.9000389139195395,
          -0.5072870380033023,
          -0.048363172534944744,
          -0.7864118916761768
         ]
        },
        {
         "marker": {
          "color": "rgba(50, 171, 96, 0.6)",
          "line": {
           "color": "rgba(50, 171, 96, 1.0)",
           "width": 1
          }
         },
         "name": "C",
         "orientation": "v",
         "text": "",
         "type": "bar",
         "x": [
          0,
          1,
          2,
          3,
          4,
          5,
          6,
          7,
          8,
          9,
          10,
          11,
          12,
          13,
          14,
          15,
          16,
          17,
          18,
          19,
          20,
          21,
          22,
          23,
          24,
          25,
          26,
          27,
          28,
          29,
          30,
          31,
          32,
          33,
          34,
          35,
          36,
          37,
          38,
          39,
          40,
          41,
          42,
          43,
          44,
          45,
          46,
          47,
          48,
          49,
          50,
          51,
          52,
          53,
          54,
          55,
          56,
          57,
          58,
          59,
          60,
          61,
          62,
          63,
          64,
          65,
          66,
          67,
          68,
          69,
          70,
          71,
          72,
          73,
          74,
          75,
          76,
          77,
          78,
          79,
          80,
          81,
          82,
          83,
          84,
          85,
          86,
          87,
          88,
          89,
          90,
          91,
          92,
          93,
          94,
          95,
          96,
          97,
          98,
          99
         ],
         "y": [
          -0.8504629846670366,
          0.3470106660474676,
          -0.947157868453042,
          -1.3753738685210328,
          0.798112475861372,
          -0.07703631274791213,
          1.0081338509405333,
          1.7164031262789414,
          -0.15428419974716925,
          0.7394786809792315,
          -0.29087805351923696,
          -0.5036911983143708,
          0.7783109538359925,
          -0.9144864195606346,
          1.116337266608769,
          0.053086914437842025,
          1.1101169589996904,
          -0.07085129969144484,
          0.040320607319248414,
          0.28456521512565375,
          -0.3051548037600851,
          0.1608256854735454,
          0.5448689042209915,
          0.5130086565826092,
          1.114722787381222,
          -0.03033601069045141,
          0.6077097977908359,
          1.53612369790164,
          -0.5012501672556618,
          -0.6922311374242788,
          -0.030434283930449717,
          -0.7325996923830687,
          1.9560475088120413,
          1.7928012874028676,
          0.5183789488380032,
          -0.06247876335431108,
          0.06631837618682593,
          0.6307445934333602,
          1.5465192727036488,
          0.020633866560363073,
          0.30250193170395867,
          1.6771883503720761,
          -1.366327161291545,
          -0.0176458306245623,
          -0.13534138524280714,
          0.14200842587933715,
          -0.42959470571188285,
          1.0889289527460462,
          -0.5838295739246996,
          0.2784376622727278,
          -1.6055776206589827,
          -0.7583919697249786,
          0.33986581486104167,
          -1.6329635927053063,
          0.14195826962869051,
          0.21904261630627975,
          -0.26870964311125756,
          -2.0344872045157114,
          0.8005427352285261,
          -0.2843127710147637,
          -2.1657093271797088,
          -0.8083818932840517,
          0.27726807561376,
          0.35200537183063185,
          -1.2941715559683442,
          0.8810559886831515,
          -0.6999370839443164,
          0.8026579340017406,
          1.200946185356744,
          -0.2941228811682841,
          2.5698652166863374,
          -0.7179356903023796,
          2.546739037086572,
          0.28897228668584174,
          0.8625860396497803,
          -0.6754435434133842,
          0.6030968163029332,
          1.4328624709910547,
          -0.019837684596422166,
          -0.10896990206263385,
          1.4102348753371692,
          -1.8690520719855694,
          -0.9759947194700561,
          -1.347030914236879,
          -0.00868423520275727,
          0.23550473380153755,
          -0.34338332229913704,
          0.025913405196481814,
          -0.1509748477861139,
          0.023652325265938547,
          -0.9116681818552379,
          0.46001109960251635,
          -0.7266253041278453,
          -0.000713758687759925,
          -0.9616896614161947,
          0.4818779798820858,
          1.429448189634716,
          -0.5211333364859005,
          -1.4718441559943454,
          0.36990748517458355
         ]
        },
        {
         "marker": {
          "color": "rgba(128, 0, 128, 0.6)",
          "line": {
           "color": "rgba(128, 0, 128, 1.0)",
           "width": 1
          }
         },
         "name": "D",
         "orientation": "v",
         "text": "",
         "type": "bar",
         "x": [
          0,
          1,
          2,
          3,
          4,
          5,
          6,
          7,
          8,
          9,
          10,
          11,
          12,
          13,
          14,
          15,
          16,
          17,
          18,
          19,
          20,
          21,
          22,
          23,
          24,
          25,
          26,
          27,
          28,
          29,
          30,
          31,
          32,
          33,
          34,
          35,
          36,
          37,
          38,
          39,
          40,
          41,
          42,
          43,
          44,
          45,
          46,
          47,
          48,
          49,
          50,
          51,
          52,
          53,
          54,
          55,
          56,
          57,
          58,
          59,
          60,
          61,
          62,
          63,
          64,
          65,
          66,
          67,
          68,
          69,
          70,
          71,
          72,
          73,
          74,
          75,
          76,
          77,
          78,
          79,
          80,
          81,
          82,
          83,
          84,
          85,
          86,
          87,
          88,
          89,
          90,
          91,
          92,
          93,
          94,
          95,
          96,
          97,
          98,
          99
         ],
         "y": [
          0.09810140879192156,
          1.0821585282388269,
          -1.4171248011615019,
          -1.681027934088529,
          -1.5426929836829733,
          0.7832147248858957,
          -0.7026508858544321,
          0.9741928148992898,
          0.7516172349078831,
          -1.0166850884338632,
          -0.8845407757566924,
          -0.8750379369793457,
          1.8736709664082034,
          -0.052899055320985544,
          1.3512178391863716,
          -0.18010450905832964,
          0.5860120402012328,
          -1.3522280442963397,
          -0.06740328278078253,
          1.1079425142104637,
          0.022099086678615883,
          0.8245665325239215,
          -0.3624823520505544,
          0.12363321364733355,
          0.38472994873374255,
          -0.8450571672231768,
          0.015188014417435147,
          0.12010790903890044,
          0.4085443628403387,
          0.7813670689251719,
          -0.47614926783054934,
          1.2185069541003242,
          -0.3010235087835275,
          0.5068742732191456,
          0.2391999745080336,
          -1.3356989501178944,
          -1.8861844520282103,
          -0.4636196529271505,
          0.6563545318345386,
          -0.6220848495485403,
          -0.44705641151759895,
          -1.9309191056949997,
          0.5949001187224799,
          0.03576457859212332,
          -0.2679998578508826,
          -0.2009488318995272,
          0.7938135479115963,
          1.649693641080204,
          -0.32892264026438395,
          -0.7341027023538993,
          -1.1218984959219487,
          -0.16540043889166298,
          -2.2488066605144277,
          0.23737591970941674,
          0.24478357266576542,
          -0.28253293153056036,
          1.006130640980851,
          0.9378984871881437,
          1.088213849894811,
          0.8248437305613723,
          -2.688043702273467,
          -1.7619891255564812,
          -0.33425568490133084,
          -1.2511561057450569,
          -0.07475995985482435,
          0.6930236216468565,
          -1.9890012589837858,
          -0.7495033548258262,
          -0.23767376718480676,
          -0.6017116670533126,
          1.5507489010923925,
          1.0117488474759582,
          -0.032719332652793004,
          -0.27657682862296384,
          -0.9424378950776426,
          -0.35908107751131124,
          1.9205665872236553,
          -0.20557618943903266,
          -1.2366161188207578,
          0.006956169777380158,
          0.308914754920131,
          0.04941829377527631,
          0.6670918623792209,
          -1.8749217552790838,
          -0.06266549513086278,
          -0.6801984634652508,
          1.656176704126538,
          1.5060730196685739,
          0.32600789039124106,
          0.8476973198310992,
          -0.10144457537645299,
          -0.586455108088047,
          0.9279948700124497,
          -0.008768409556187321,
          1.0855785426038398,
          -0.6717157469387206,
          0.6667545705904094,
          0.6459431251440116,
          -1.662539146174201,
          -1.0697674156336698
         ]
        }
       ],
       "layout": {
        "legend": {
         "bgcolor": "#F5F6F9",
         "font": {
          "color": "#4D5663"
         }
        },
        "paper_bgcolor": "#F5F6F9",
        "plot_bgcolor": "#F5F6F9",
        "template": {
         "data": {
          "bar": [
           {
            "error_x": {
             "color": "#2a3f5f"
            },
            "error_y": {
             "color": "#2a3f5f"
            },
            "marker": {
             "line": {
              "color": "#E5ECF6",
              "width": 0.5
             },
             "pattern": {
              "fillmode": "overlay",
              "size": 10,
              "solidity": 0.2
             }
            },
            "type": "bar"
           }
          ],
          "barpolar": [
           {
            "marker": {
             "line": {
              "color": "#E5ECF6",
              "width": 0.5
             },
             "pattern": {
              "fillmode": "overlay",
              "size": 10,
              "solidity": 0.2
             }
            },
            "type": "barpolar"
           }
          ],
          "carpet": [
           {
            "aaxis": {
             "endlinecolor": "#2a3f5f",
             "gridcolor": "white",
             "linecolor": "white",
             "minorgridcolor": "white",
             "startlinecolor": "#2a3f5f"
            },
            "baxis": {
             "endlinecolor": "#2a3f5f",
             "gridcolor": "white",
             "linecolor": "white",
             "minorgridcolor": "white",
             "startlinecolor": "#2a3f5f"
            },
            "type": "carpet"
           }
          ],
          "choropleth": [
           {
            "colorbar": {
             "outlinewidth": 0,
             "ticks": ""
            },
            "type": "choropleth"
           }
          ],
          "contour": [
           {
            "colorbar": {
             "outlinewidth": 0,
             "ticks": ""
            },
            "colorscale": [
             [
              0,
              "#0d0887"
             ],
             [
              0.1111111111111111,
              "#46039f"
             ],
             [
              0.2222222222222222,
              "#7201a8"
             ],
             [
              0.3333333333333333,
              "#9c179e"
             ],
             [
              0.4444444444444444,
              "#bd3786"
             ],
             [
              0.5555555555555556,
              "#d8576b"
             ],
             [
              0.6666666666666666,
              "#ed7953"
             ],
             [
              0.7777777777777778,
              "#fb9f3a"
             ],
             [
              0.8888888888888888,
              "#fdca26"
             ],
             [
              1,
              "#f0f921"
             ]
            ],
            "type": "contour"
           }
          ],
          "contourcarpet": [
           {
            "colorbar": {
             "outlinewidth": 0,
             "ticks": ""
            },
            "type": "contourcarpet"
           }
          ],
          "heatmap": [
           {
            "colorbar": {
             "outlinewidth": 0,
             "ticks": ""
            },
            "colorscale": [
             [
              0,
              "#0d0887"
             ],
             [
              0.1111111111111111,
              "#46039f"
             ],
             [
              0.2222222222222222,
              "#7201a8"
             ],
             [
              0.3333333333333333,
              "#9c179e"
             ],
             [
              0.4444444444444444,
              "#bd3786"
             ],
             [
              0.5555555555555556,
              "#d8576b"
             ],
             [
              0.6666666666666666,
              "#ed7953"
             ],
             [
              0.7777777777777778,
              "#fb9f3a"
             ],
             [
              0.8888888888888888,
              "#fdca26"
             ],
             [
              1,
              "#f0f921"
             ]
            ],
            "type": "heatmap"
           }
          ],
          "heatmapgl": [
           {
            "colorbar": {
             "outlinewidth": 0,
             "ticks": ""
            },
            "colorscale": [
             [
              0,
              "#0d0887"
             ],
             [
              0.1111111111111111,
              "#46039f"
             ],
             [
              0.2222222222222222,
              "#7201a8"
             ],
             [
              0.3333333333333333,
              "#9c179e"
             ],
             [
              0.4444444444444444,
              "#bd3786"
             ],
             [
              0.5555555555555556,
              "#d8576b"
             ],
             [
              0.6666666666666666,
              "#ed7953"
             ],
             [
              0.7777777777777778,
              "#fb9f3a"
             ],
             [
              0.8888888888888888,
              "#fdca26"
             ],
             [
              1,
              "#f0f921"
             ]
            ],
            "type": "heatmapgl"
           }
          ],
          "histogram": [
           {
            "marker": {
             "pattern": {
              "fillmode": "overlay",
              "size": 10,
              "solidity": 0.2
             }
            },
            "type": "histogram"
           }
          ],
          "histogram2d": [
           {
            "colorbar": {
             "outlinewidth": 0,
             "ticks": ""
            },
            "colorscale": [
             [
              0,
              "#0d0887"
             ],
             [
              0.1111111111111111,
              "#46039f"
             ],
             [
              0.2222222222222222,
              "#7201a8"
             ],
             [
              0.3333333333333333,
              "#9c179e"
             ],
             [
              0.4444444444444444,
              "#bd3786"
             ],
             [
              0.5555555555555556,
              "#d8576b"
             ],
             [
              0.6666666666666666,
              "#ed7953"
             ],
             [
              0.7777777777777778,
              "#fb9f3a"
             ],
             [
              0.8888888888888888,
              "#fdca26"
             ],
             [
              1,
              "#f0f921"
             ]
            ],
            "type": "histogram2d"
           }
          ],
          "histogram2dcontour": [
           {
            "colorbar": {
             "outlinewidth": 0,
             "ticks": ""
            },
            "colorscale": [
             [
              0,
              "#0d0887"
             ],
             [
              0.1111111111111111,
              "#46039f"
             ],
             [
              0.2222222222222222,
              "#7201a8"
             ],
             [
              0.3333333333333333,
              "#9c179e"
             ],
             [
              0.4444444444444444,
              "#bd3786"
             ],
             [
              0.5555555555555556,
              "#d8576b"
             ],
             [
              0.6666666666666666,
              "#ed7953"
             ],
             [
              0.7777777777777778,
              "#fb9f3a"
             ],
             [
              0.8888888888888888,
              "#fdca26"
             ],
             [
              1,
              "#f0f921"
             ]
            ],
            "type": "histogram2dcontour"
           }
          ],
          "mesh3d": [
           {
            "colorbar": {
             "outlinewidth": 0,
             "ticks": ""
            },
            "type": "mesh3d"
           }
          ],
          "parcoords": [
           {
            "line": {
             "colorbar": {
              "outlinewidth": 0,
              "ticks": ""
             }
            },
            "type": "parcoords"
           }
          ],
          "pie": [
           {
            "automargin": true,
            "type": "pie"
           }
          ],
          "scatter": [
           {
            "fillpattern": {
             "fillmode": "overlay",
             "size": 10,
             "solidity": 0.2
            },
            "type": "scatter"
           }
          ],
          "scatter3d": [
           {
            "line": {
             "colorbar": {
              "outlinewidth": 0,
              "ticks": ""
             }
            },
            "marker": {
             "colorbar": {
              "outlinewidth": 0,
              "ticks": ""
             }
            },
            "type": "scatter3d"
           }
          ],
          "scattercarpet": [
           {
            "marker": {
             "colorbar": {
              "outlinewidth": 0,
              "ticks": ""
             }
            },
            "type": "scattercarpet"
           }
          ],
          "scattergeo": [
           {
            "marker": {
             "colorbar": {
              "outlinewidth": 0,
              "ticks": ""
             }
            },
            "type": "scattergeo"
           }
          ],
          "scattergl": [
           {
            "marker": {
             "colorbar": {
              "outlinewidth": 0,
              "ticks": ""
             }
            },
            "type": "scattergl"
           }
          ],
          "scattermapbox": [
           {
            "marker": {
             "colorbar": {
              "outlinewidth": 0,
              "ticks": ""
             }
            },
            "type": "scattermapbox"
           }
          ],
          "scatterpolar": [
           {
            "marker": {
             "colorbar": {
              "outlinewidth": 0,
              "ticks": ""
             }
            },
            "type": "scatterpolar"
           }
          ],
          "scatterpolargl": [
           {
            "marker": {
             "colorbar": {
              "outlinewidth": 0,
              "ticks": ""
             }
            },
            "type": "scatterpolargl"
           }
          ],
          "scatterternary": [
           {
            "marker": {
             "colorbar": {
              "outlinewidth": 0,
              "ticks": ""
             }
            },
            "type": "scatterternary"
           }
          ],
          "surface": [
           {
            "colorbar": {
             "outlinewidth": 0,
             "ticks": ""
            },
            "colorscale": [
             [
              0,
              "#0d0887"
             ],
             [
              0.1111111111111111,
              "#46039f"
             ],
             [
              0.2222222222222222,
              "#7201a8"
             ],
             [
              0.3333333333333333,
              "#9c179e"
             ],
             [
              0.4444444444444444,
              "#bd3786"
             ],
             [
              0.5555555555555556,
              "#d8576b"
             ],
             [
              0.6666666666666666,
              "#ed7953"
             ],
             [
              0.7777777777777778,
              "#fb9f3a"
             ],
             [
              0.8888888888888888,
              "#fdca26"
             ],
             [
              1,
              "#f0f921"
             ]
            ],
            "type": "surface"
           }
          ],
          "table": [
           {
            "cells": {
             "fill": {
              "color": "#EBF0F8"
             },
             "line": {
              "color": "white"
             }
            },
            "header": {
             "fill": {
              "color": "#C8D4E3"
             },
             "line": {
              "color": "white"
             }
            },
            "type": "table"
           }
          ]
         },
         "layout": {
          "annotationdefaults": {
           "arrowcolor": "#2a3f5f",
           "arrowhead": 0,
           "arrowwidth": 1
          },
          "autotypenumbers": "strict",
          "coloraxis": {
           "colorbar": {
            "outlinewidth": 0,
            "ticks": ""
           }
          },
          "colorscale": {
           "diverging": [
            [
             0,
             "#8e0152"
            ],
            [
             0.1,
             "#c51b7d"
            ],
            [
             0.2,
             "#de77ae"
            ],
            [
             0.3,
             "#f1b6da"
            ],
            [
             0.4,
             "#fde0ef"
            ],
            [
             0.5,
             "#f7f7f7"
            ],
            [
             0.6,
             "#e6f5d0"
            ],
            [
             0.7,
             "#b8e186"
            ],
            [
             0.8,
             "#7fbc41"
            ],
            [
             0.9,
             "#4d9221"
            ],
            [
             1,
             "#276419"
            ]
           ],
           "sequential": [
            [
             0,
             "#0d0887"
            ],
            [
             0.1111111111111111,
             "#46039f"
            ],
            [
             0.2222222222222222,
             "#7201a8"
            ],
            [
             0.3333333333333333,
             "#9c179e"
            ],
            [
             0.4444444444444444,
             "#bd3786"
            ],
            [
             0.5555555555555556,
             "#d8576b"
            ],
            [
             0.6666666666666666,
             "#ed7953"
            ],
            [
             0.7777777777777778,
             "#fb9f3a"
            ],
            [
             0.8888888888888888,
             "#fdca26"
            ],
            [
             1,
             "#f0f921"
            ]
           ],
           "sequentialminus": [
            [
             0,
             "#0d0887"
            ],
            [
             0.1111111111111111,
             "#46039f"
            ],
            [
             0.2222222222222222,
             "#7201a8"
            ],
            [
             0.3333333333333333,
             "#9c179e"
            ],
            [
             0.4444444444444444,
             "#bd3786"
            ],
            [
             0.5555555555555556,
             "#d8576b"
            ],
            [
             0.6666666666666666,
             "#ed7953"
            ],
            [
             0.7777777777777778,
             "#fb9f3a"
            ],
            [
             0.8888888888888888,
             "#fdca26"
            ],
            [
             1,
             "#f0f921"
            ]
           ]
          },
          "colorway": [
           "#636efa",
           "#EF553B",
           "#00cc96",
           "#ab63fa",
           "#FFA15A",
           "#19d3f3",
           "#FF6692",
           "#B6E880",
           "#FF97FF",
           "#FECB52"
          ],
          "font": {
           "color": "#2a3f5f"
          },
          "geo": {
           "bgcolor": "white",
           "lakecolor": "white",
           "landcolor": "#E5ECF6",
           "showlakes": true,
           "showland": true,
           "subunitcolor": "white"
          },
          "hoverlabel": {
           "align": "left"
          },
          "hovermode": "closest",
          "mapbox": {
           "style": "light"
          },
          "paper_bgcolor": "white",
          "plot_bgcolor": "#E5ECF6",
          "polar": {
           "angularaxis": {
            "gridcolor": "white",
            "linecolor": "white",
            "ticks": ""
           },
           "bgcolor": "#E5ECF6",
           "radialaxis": {
            "gridcolor": "white",
            "linecolor": "white",
            "ticks": ""
           }
          },
          "scene": {
           "xaxis": {
            "backgroundcolor": "#E5ECF6",
            "gridcolor": "white",
            "gridwidth": 2,
            "linecolor": "white",
            "showbackground": true,
            "ticks": "",
            "zerolinecolor": "white"
           },
           "yaxis": {
            "backgroundcolor": "#E5ECF6",
            "gridcolor": "white",
            "gridwidth": 2,
            "linecolor": "white",
            "showbackground": true,
            "ticks": "",
            "zerolinecolor": "white"
           },
           "zaxis": {
            "backgroundcolor": "#E5ECF6",
            "gridcolor": "white",
            "gridwidth": 2,
            "linecolor": "white",
            "showbackground": true,
            "ticks": "",
            "zerolinecolor": "white"
           }
          },
          "shapedefaults": {
           "line": {
            "color": "#2a3f5f"
           }
          },
          "ternary": {
           "aaxis": {
            "gridcolor": "white",
            "linecolor": "white",
            "ticks": ""
           },
           "baxis": {
            "gridcolor": "white",
            "linecolor": "white",
            "ticks": ""
           },
           "bgcolor": "#E5ECF6",
           "caxis": {
            "gridcolor": "white",
            "linecolor": "white",
            "ticks": ""
           }
          },
          "title": {
           "x": 0.05
          },
          "xaxis": {
           "automargin": true,
           "gridcolor": "white",
           "linecolor": "white",
           "ticks": "",
           "title": {
            "standoff": 15
           },
           "zerolinecolor": "white",
           "zerolinewidth": 2
          },
          "yaxis": {
           "automargin": true,
           "gridcolor": "white",
           "linecolor": "white",
           "ticks": "",
           "title": {
            "standoff": 15
           },
           "zerolinecolor": "white",
           "zerolinewidth": 2
          }
         }
        },
        "title": {
         "font": {
          "color": "#4D5663"
         }
        },
        "xaxis": {
         "gridcolor": "#E1E5ED",
         "showgrid": true,
         "tickfont": {
          "color": "#4D5663"
         },
         "title": {
          "font": {
           "color": "#4D5663"
          },
          "text": ""
         },
         "zerolinecolor": "#E1E5ED"
        },
        "yaxis": {
         "gridcolor": "#E1E5ED",
         "showgrid": true,
         "tickfont": {
          "color": "#4D5663"
         },
         "title": {
          "font": {
           "color": "#4D5663"
          },
          "text": ""
         },
         "zerolinecolor": "#E1E5ED"
        }
       }
      },
      "text/html": [
       "<div>                            <div id=\"b0da7099-1f7a-4526-8fef-2c4a4dde94f1\" class=\"plotly-graph-div\" style=\"height:525px; width:100%;\"></div>            <script type=\"text/javascript\">                require([\"plotly\"], function(Plotly) {                    window.PLOTLYENV=window.PLOTLYENV || {};\n",
       "                    window.PLOTLYENV.BASE_URL='https://plot.ly';                                    if (document.getElementById(\"b0da7099-1f7a-4526-8fef-2c4a4dde94f1\")) {                    Plotly.newPlot(                        \"b0da7099-1f7a-4526-8fef-2c4a4dde94f1\",                        [{\"marker\":{\"color\":\"rgba(255, 153, 51, 0.6)\",\"line\":{\"color\":\"rgba(255, 153, 51, 1.0)\",\"width\":1}},\"name\":\"A\",\"orientation\":\"v\",\"text\":\"\",\"x\":[0,1,2,3,4,5,6,7,8,9,10,11,12,13,14,15,16,17,18,19,20,21,22,23,24,25,26,27,28,29,30,31,32,33,34,35,36,37,38,39,40,41,42,43,44,45,46,47,48,49,50,51,52,53,54,55,56,57,58,59,60,61,62,63,64,65,66,67,68,69,70,71,72,73,74,75,76,77,78,79,80,81,82,83,84,85,86,87,88,89,90,91,92,93,94,95,96,97,98,99],\"y\":[0.042951484569504976,-0.2202853182291732,1.1734268801089391,-0.242857425217831,0.6763938161336688,-0.35387111095045287,-1.178873015258505,-0.9043748575099387,1.289961855900039,0.4024925419044032,0.47478873453097875,-1.5599979609496375,1.256435413677142,-1.0956306989431794,-0.4086611258433707,-1.3945695346151434,0.912962045848968,0.30730511387148135,-0.1939624564553397,1.4671933909894053,0.5694254821204012,-1.1931505134032656,1.5569400206519073,2.3296513255577835,0.21366883706439055,-0.7481852006274928,-1.047437879897871,-1.5665786547362606,-0.4195824696415362,0.7356706051151829,1.4854953122092205,-1.3585448502023059,0.6868115836283416,-0.8590019761193095,-0.3167758916209611,-2.5859566581957814,1.8802303072579827,0.33698592765530255,0.24253885461217137,-1.0610179368441957,0.6063985638659398,1.9432087735321149,-0.30963188399023234,-0.9478546493238559,1.6901316294856135,-0.9748813666852253,1.6306834387604556,0.5099483849696402,-0.8464325906049034,-0.5542596398999922,1.5009952174177925,-0.1652580228163639,0.01163057019334677,0.7861976487418677,-1.3589873822837037,-0.4793132050239744,-0.8884327703773046,-0.3284322245590626,-0.4240280239376068,0.22150415379237778,0.3881047010647667,-0.30205926100025343,0.26673438198881094,-1.591193149414884,0.8778887244884065,0.2209150355262721,1.0160545227316395,0.3491350139623226,-0.9537562700624382,1.687178900073207,0.6711975871514694,-0.47100392021657966,-0.4796751132677763,0.8899899575821433,-0.34435673664939204,-0.5704311813504567,0.17464690363311544,-0.7418420309705646,-0.6330916545993854,-1.5647070071417015,0.1292205238573053,0.17257583531658205,0.5641384665414945,-1.2693499109193727,1.112215426407947,-0.6246175481905369,0.6243230099698143,-0.5868564679739539,-0.38798572600393394,-2.2238360986731847,0.39483428796649245,-1.5128431080727769,-0.17054727445722603,0.2785807882330337,0.12745026931076014,0.37528908825820756,0.01664120828374138,2.7111613412371853,0.6852940169202932,0.04551068262644309],\"type\":\"bar\"},{\"marker\":{\"color\":\"rgba(55, 128, 191, 0.6)\",\"line\":{\"color\":\"rgba(55, 128, 191, 1.0)\",\"width\":1}},\"name\":\"B\",\"orientation\":\"v\",\"text\":\"\",\"x\":[0,1,2,3,4,5,6,7,8,9,10,11,12,13,14,15,16,17,18,19,20,21,22,23,24,25,26,27,28,29,30,31,32,33,34,35,36,37,38,39,40,41,42,43,44,45,46,47,48,49,50,51,52,53,54,55,56,57,58,59,60,61,62,63,64,65,66,67,68,69,70,71,72,73,74,75,76,77,78,79,80,81,82,83,84,85,86,87,88,89,90,91,92,93,94,95,96,97,98,99],\"y\":[0.6192879182170579,1.1257981118290274,-0.18605348668541802,1.68420984422097,-0.9102788942172225,-0.5202766729357958,-0.8997368949419952,0.6662772657608717,0.35174523740201824,0.9641528029440805,-0.8653270517802244,0.9452732084915756,0.47945395129175744,-0.4286061172343618,-1.2735688440555835,0.40889101608737194,1.2422571076767783,1.4166175858265113,-0.5270318815990367,-0.800046474269336,0.214565407669123,-0.55640152527389,-0.9114344441458444,3.1083979331621663,-0.7311112731850965,-0.684880342436226,0.06274744992688126,2.742531672377017,-2.133326227684579,0.1151137652842412,0.7680900451533238,-0.5223302478800493,0.022174916223067612,2.4139818872965506,0.21130446301537828,-1.0520853313040146,-1.7954748202765316,-0.9478364870503688,0.5588092484146348,-0.7601933681171539,0.14143501024264124,0.27309509504905183,-2.427264041980388,0.23317620185855684,-3.1588073663659517,-0.9122905543369599,0.6107267009505823,-0.23496380499321687,0.2941546566425414,0.7183125745805514,1.070927343340471,-1.0193545665580568,1.5531729890673478,-0.957694030028398,1.1727426779104344,0.20692751971823767,-0.34462607961309055,0.6537646309558028,2.6435063941444903,-0.26984172479330476,0.06320591618100005,2.9234580741428777,0.9283667700362315,0.343527795795072,-1.6951366429125174,0.6105405577363859,1.2681520353623972,-1.4348732293337862,0.036658494980897884,0.8311983922247884,-0.30313544490508115,-0.4189732950197264,0.1303538776810748,0.5785788369835336,0.4081059853116089,-0.05183208331726445,0.6342275658481765,-0.2792889338774161,0.06936324222582699,0.5281795507084809,0.40946299084644944,1.3820817269300272,0.2347867174176207,2.6062135259018873,-1.5016377554871971,0.6800085010932065,-0.021387092292663206,1.536948561145858,0.7924620306825507,1.7553181160764677,-0.869180304417114,0.709670228343469,-0.24003645899926476,1.2632533989196815,0.019840686964291792,-0.7226923963856168,0.9000389139195395,-0.5072870380033023,-0.048363172534944744,-0.7864118916761768],\"type\":\"bar\"},{\"marker\":{\"color\":\"rgba(50, 171, 96, 0.6)\",\"line\":{\"color\":\"rgba(50, 171, 96, 1.0)\",\"width\":1}},\"name\":\"C\",\"orientation\":\"v\",\"text\":\"\",\"x\":[0,1,2,3,4,5,6,7,8,9,10,11,12,13,14,15,16,17,18,19,20,21,22,23,24,25,26,27,28,29,30,31,32,33,34,35,36,37,38,39,40,41,42,43,44,45,46,47,48,49,50,51,52,53,54,55,56,57,58,59,60,61,62,63,64,65,66,67,68,69,70,71,72,73,74,75,76,77,78,79,80,81,82,83,84,85,86,87,88,89,90,91,92,93,94,95,96,97,98,99],\"y\":[-0.8504629846670366,0.3470106660474676,-0.947157868453042,-1.3753738685210328,0.798112475861372,-0.07703631274791213,1.0081338509405333,1.7164031262789414,-0.15428419974716925,0.7394786809792315,-0.29087805351923696,-0.5036911983143708,0.7783109538359925,-0.9144864195606346,1.116337266608769,0.053086914437842025,1.1101169589996904,-0.07085129969144484,0.040320607319248414,0.28456521512565375,-0.3051548037600851,0.1608256854735454,0.5448689042209915,0.5130086565826092,1.114722787381222,-0.03033601069045141,0.6077097977908359,1.53612369790164,-0.5012501672556618,-0.6922311374242788,-0.030434283930449717,-0.7325996923830687,1.9560475088120413,1.7928012874028676,0.5183789488380032,-0.06247876335431108,0.06631837618682593,0.6307445934333602,1.5465192727036488,0.020633866560363073,0.30250193170395867,1.6771883503720761,-1.366327161291545,-0.0176458306245623,-0.13534138524280714,0.14200842587933715,-0.42959470571188285,1.0889289527460462,-0.5838295739246996,0.2784376622727278,-1.6055776206589827,-0.7583919697249786,0.33986581486104167,-1.6329635927053063,0.14195826962869051,0.21904261630627975,-0.26870964311125756,-2.0344872045157114,0.8005427352285261,-0.2843127710147637,-2.1657093271797088,-0.8083818932840517,0.27726807561376,0.35200537183063185,-1.2941715559683442,0.8810559886831515,-0.6999370839443164,0.8026579340017406,1.200946185356744,-0.2941228811682841,2.5698652166863374,-0.7179356903023796,2.546739037086572,0.28897228668584174,0.8625860396497803,-0.6754435434133842,0.6030968163029332,1.4328624709910547,-0.019837684596422166,-0.10896990206263385,1.4102348753371692,-1.8690520719855694,-0.9759947194700561,-1.347030914236879,-0.00868423520275727,0.23550473380153755,-0.34338332229913704,0.025913405196481814,-0.1509748477861139,0.023652325265938547,-0.9116681818552379,0.46001109960251635,-0.7266253041278453,-0.000713758687759925,-0.9616896614161947,0.4818779798820858,1.429448189634716,-0.5211333364859005,-1.4718441559943454,0.36990748517458355],\"type\":\"bar\"},{\"marker\":{\"color\":\"rgba(128, 0, 128, 0.6)\",\"line\":{\"color\":\"rgba(128, 0, 128, 1.0)\",\"width\":1}},\"name\":\"D\",\"orientation\":\"v\",\"text\":\"\",\"x\":[0,1,2,3,4,5,6,7,8,9,10,11,12,13,14,15,16,17,18,19,20,21,22,23,24,25,26,27,28,29,30,31,32,33,34,35,36,37,38,39,40,41,42,43,44,45,46,47,48,49,50,51,52,53,54,55,56,57,58,59,60,61,62,63,64,65,66,67,68,69,70,71,72,73,74,75,76,77,78,79,80,81,82,83,84,85,86,87,88,89,90,91,92,93,94,95,96,97,98,99],\"y\":[0.09810140879192156,1.0821585282388269,-1.4171248011615019,-1.681027934088529,-1.5426929836829733,0.7832147248858957,-0.7026508858544321,0.9741928148992898,0.7516172349078831,-1.0166850884338632,-0.8845407757566924,-0.8750379369793457,1.8736709664082034,-0.052899055320985544,1.3512178391863716,-0.18010450905832964,0.5860120402012328,-1.3522280442963397,-0.06740328278078253,1.1079425142104637,0.022099086678615883,0.8245665325239215,-0.3624823520505544,0.12363321364733355,0.38472994873374255,-0.8450571672231768,0.015188014417435147,0.12010790903890044,0.4085443628403387,0.7813670689251719,-0.47614926783054934,1.2185069541003242,-0.3010235087835275,0.5068742732191456,0.2391999745080336,-1.3356989501178944,-1.8861844520282103,-0.4636196529271505,0.6563545318345386,-0.6220848495485403,-0.44705641151759895,-1.9309191056949997,0.5949001187224799,0.03576457859212332,-0.2679998578508826,-0.2009488318995272,0.7938135479115963,1.649693641080204,-0.32892264026438395,-0.7341027023538993,-1.1218984959219487,-0.16540043889166298,-2.2488066605144277,0.23737591970941674,0.24478357266576542,-0.28253293153056036,1.006130640980851,0.9378984871881437,1.088213849894811,0.8248437305613723,-2.688043702273467,-1.7619891255564812,-0.33425568490133084,-1.2511561057450569,-0.07475995985482435,0.6930236216468565,-1.9890012589837858,-0.7495033548258262,-0.23767376718480676,-0.6017116670533126,1.5507489010923925,1.0117488474759582,-0.032719332652793004,-0.27657682862296384,-0.9424378950776426,-0.35908107751131124,1.9205665872236553,-0.20557618943903266,-1.2366161188207578,0.006956169777380158,0.308914754920131,0.04941829377527631,0.6670918623792209,-1.8749217552790838,-0.06266549513086278,-0.6801984634652508,1.656176704126538,1.5060730196685739,0.32600789039124106,0.8476973198310992,-0.10144457537645299,-0.586455108088047,0.9279948700124497,-0.008768409556187321,1.0855785426038398,-0.6717157469387206,0.6667545705904094,0.6459431251440116,-1.662539146174201,-1.0697674156336698],\"type\":\"bar\"}],                        {\"legend\":{\"bgcolor\":\"#F5F6F9\",\"font\":{\"color\":\"#4D5663\"}},\"paper_bgcolor\":\"#F5F6F9\",\"plot_bgcolor\":\"#F5F6F9\",\"template\":{\"data\":{\"barpolar\":[{\"marker\":{\"line\":{\"color\":\"#E5ECF6\",\"width\":0.5},\"pattern\":{\"fillmode\":\"overlay\",\"size\":10,\"solidity\":0.2}},\"type\":\"barpolar\"}],\"bar\":[{\"error_x\":{\"color\":\"#2a3f5f\"},\"error_y\":{\"color\":\"#2a3f5f\"},\"marker\":{\"line\":{\"color\":\"#E5ECF6\",\"width\":0.5},\"pattern\":{\"fillmode\":\"overlay\",\"size\":10,\"solidity\":0.2}},\"type\":\"bar\"}],\"carpet\":[{\"aaxis\":{\"endlinecolor\":\"#2a3f5f\",\"gridcolor\":\"white\",\"linecolor\":\"white\",\"minorgridcolor\":\"white\",\"startlinecolor\":\"#2a3f5f\"},\"baxis\":{\"endlinecolor\":\"#2a3f5f\",\"gridcolor\":\"white\",\"linecolor\":\"white\",\"minorgridcolor\":\"white\",\"startlinecolor\":\"#2a3f5f\"},\"type\":\"carpet\"}],\"choropleth\":[{\"colorbar\":{\"outlinewidth\":0,\"ticks\":\"\"},\"type\":\"choropleth\"}],\"contourcarpet\":[{\"colorbar\":{\"outlinewidth\":0,\"ticks\":\"\"},\"type\":\"contourcarpet\"}],\"contour\":[{\"colorbar\":{\"outlinewidth\":0,\"ticks\":\"\"},\"colorscale\":[[0.0,\"#0d0887\"],[0.1111111111111111,\"#46039f\"],[0.2222222222222222,\"#7201a8\"],[0.3333333333333333,\"#9c179e\"],[0.4444444444444444,\"#bd3786\"],[0.5555555555555556,\"#d8576b\"],[0.6666666666666666,\"#ed7953\"],[0.7777777777777778,\"#fb9f3a\"],[0.8888888888888888,\"#fdca26\"],[1.0,\"#f0f921\"]],\"type\":\"contour\"}],\"heatmapgl\":[{\"colorbar\":{\"outlinewidth\":0,\"ticks\":\"\"},\"colorscale\":[[0.0,\"#0d0887\"],[0.1111111111111111,\"#46039f\"],[0.2222222222222222,\"#7201a8\"],[0.3333333333333333,\"#9c179e\"],[0.4444444444444444,\"#bd3786\"],[0.5555555555555556,\"#d8576b\"],[0.6666666666666666,\"#ed7953\"],[0.7777777777777778,\"#fb9f3a\"],[0.8888888888888888,\"#fdca26\"],[1.0,\"#f0f921\"]],\"type\":\"heatmapgl\"}],\"heatmap\":[{\"colorbar\":{\"outlinewidth\":0,\"ticks\":\"\"},\"colorscale\":[[0.0,\"#0d0887\"],[0.1111111111111111,\"#46039f\"],[0.2222222222222222,\"#7201a8\"],[0.3333333333333333,\"#9c179e\"],[0.4444444444444444,\"#bd3786\"],[0.5555555555555556,\"#d8576b\"],[0.6666666666666666,\"#ed7953\"],[0.7777777777777778,\"#fb9f3a\"],[0.8888888888888888,\"#fdca26\"],[1.0,\"#f0f921\"]],\"type\":\"heatmap\"}],\"histogram2dcontour\":[{\"colorbar\":{\"outlinewidth\":0,\"ticks\":\"\"},\"colorscale\":[[0.0,\"#0d0887\"],[0.1111111111111111,\"#46039f\"],[0.2222222222222222,\"#7201a8\"],[0.3333333333333333,\"#9c179e\"],[0.4444444444444444,\"#bd3786\"],[0.5555555555555556,\"#d8576b\"],[0.6666666666666666,\"#ed7953\"],[0.7777777777777778,\"#fb9f3a\"],[0.8888888888888888,\"#fdca26\"],[1.0,\"#f0f921\"]],\"type\":\"histogram2dcontour\"}],\"histogram2d\":[{\"colorbar\":{\"outlinewidth\":0,\"ticks\":\"\"},\"colorscale\":[[0.0,\"#0d0887\"],[0.1111111111111111,\"#46039f\"],[0.2222222222222222,\"#7201a8\"],[0.3333333333333333,\"#9c179e\"],[0.4444444444444444,\"#bd3786\"],[0.5555555555555556,\"#d8576b\"],[0.6666666666666666,\"#ed7953\"],[0.7777777777777778,\"#fb9f3a\"],[0.8888888888888888,\"#fdca26\"],[1.0,\"#f0f921\"]],\"type\":\"histogram2d\"}],\"histogram\":[{\"marker\":{\"pattern\":{\"fillmode\":\"overlay\",\"size\":10,\"solidity\":0.2}},\"type\":\"histogram\"}],\"mesh3d\":[{\"colorbar\":{\"outlinewidth\":0,\"ticks\":\"\"},\"type\":\"mesh3d\"}],\"parcoords\":[{\"line\":{\"colorbar\":{\"outlinewidth\":0,\"ticks\":\"\"}},\"type\":\"parcoords\"}],\"pie\":[{\"automargin\":true,\"type\":\"pie\"}],\"scatter3d\":[{\"line\":{\"colorbar\":{\"outlinewidth\":0,\"ticks\":\"\"}},\"marker\":{\"colorbar\":{\"outlinewidth\":0,\"ticks\":\"\"}},\"type\":\"scatter3d\"}],\"scattercarpet\":[{\"marker\":{\"colorbar\":{\"outlinewidth\":0,\"ticks\":\"\"}},\"type\":\"scattercarpet\"}],\"scattergeo\":[{\"marker\":{\"colorbar\":{\"outlinewidth\":0,\"ticks\":\"\"}},\"type\":\"scattergeo\"}],\"scattergl\":[{\"marker\":{\"colorbar\":{\"outlinewidth\":0,\"ticks\":\"\"}},\"type\":\"scattergl\"}],\"scattermapbox\":[{\"marker\":{\"colorbar\":{\"outlinewidth\":0,\"ticks\":\"\"}},\"type\":\"scattermapbox\"}],\"scatterpolargl\":[{\"marker\":{\"colorbar\":{\"outlinewidth\":0,\"ticks\":\"\"}},\"type\":\"scatterpolargl\"}],\"scatterpolar\":[{\"marker\":{\"colorbar\":{\"outlinewidth\":0,\"ticks\":\"\"}},\"type\":\"scatterpolar\"}],\"scatter\":[{\"fillpattern\":{\"fillmode\":\"overlay\",\"size\":10,\"solidity\":0.2},\"type\":\"scatter\"}],\"scatterternary\":[{\"marker\":{\"colorbar\":{\"outlinewidth\":0,\"ticks\":\"\"}},\"type\":\"scatterternary\"}],\"surface\":[{\"colorbar\":{\"outlinewidth\":0,\"ticks\":\"\"},\"colorscale\":[[0.0,\"#0d0887\"],[0.1111111111111111,\"#46039f\"],[0.2222222222222222,\"#7201a8\"],[0.3333333333333333,\"#9c179e\"],[0.4444444444444444,\"#bd3786\"],[0.5555555555555556,\"#d8576b\"],[0.6666666666666666,\"#ed7953\"],[0.7777777777777778,\"#fb9f3a\"],[0.8888888888888888,\"#fdca26\"],[1.0,\"#f0f921\"]],\"type\":\"surface\"}],\"table\":[{\"cells\":{\"fill\":{\"color\":\"#EBF0F8\"},\"line\":{\"color\":\"white\"}},\"header\":{\"fill\":{\"color\":\"#C8D4E3\"},\"line\":{\"color\":\"white\"}},\"type\":\"table\"}]},\"layout\":{\"annotationdefaults\":{\"arrowcolor\":\"#2a3f5f\",\"arrowhead\":0,\"arrowwidth\":1},\"autotypenumbers\":\"strict\",\"coloraxis\":{\"colorbar\":{\"outlinewidth\":0,\"ticks\":\"\"}},\"colorscale\":{\"diverging\":[[0,\"#8e0152\"],[0.1,\"#c51b7d\"],[0.2,\"#de77ae\"],[0.3,\"#f1b6da\"],[0.4,\"#fde0ef\"],[0.5,\"#f7f7f7\"],[0.6,\"#e6f5d0\"],[0.7,\"#b8e186\"],[0.8,\"#7fbc41\"],[0.9,\"#4d9221\"],[1,\"#276419\"]],\"sequential\":[[0.0,\"#0d0887\"],[0.1111111111111111,\"#46039f\"],[0.2222222222222222,\"#7201a8\"],[0.3333333333333333,\"#9c179e\"],[0.4444444444444444,\"#bd3786\"],[0.5555555555555556,\"#d8576b\"],[0.6666666666666666,\"#ed7953\"],[0.7777777777777778,\"#fb9f3a\"],[0.8888888888888888,\"#fdca26\"],[1.0,\"#f0f921\"]],\"sequentialminus\":[[0.0,\"#0d0887\"],[0.1111111111111111,\"#46039f\"],[0.2222222222222222,\"#7201a8\"],[0.3333333333333333,\"#9c179e\"],[0.4444444444444444,\"#bd3786\"],[0.5555555555555556,\"#d8576b\"],[0.6666666666666666,\"#ed7953\"],[0.7777777777777778,\"#fb9f3a\"],[0.8888888888888888,\"#fdca26\"],[1.0,\"#f0f921\"]]},\"colorway\":[\"#636efa\",\"#EF553B\",\"#00cc96\",\"#ab63fa\",\"#FFA15A\",\"#19d3f3\",\"#FF6692\",\"#B6E880\",\"#FF97FF\",\"#FECB52\"],\"font\":{\"color\":\"#2a3f5f\"},\"geo\":{\"bgcolor\":\"white\",\"lakecolor\":\"white\",\"landcolor\":\"#E5ECF6\",\"showlakes\":true,\"showland\":true,\"subunitcolor\":\"white\"},\"hoverlabel\":{\"align\":\"left\"},\"hovermode\":\"closest\",\"mapbox\":{\"style\":\"light\"},\"paper_bgcolor\":\"white\",\"plot_bgcolor\":\"#E5ECF6\",\"polar\":{\"angularaxis\":{\"gridcolor\":\"white\",\"linecolor\":\"white\",\"ticks\":\"\"},\"bgcolor\":\"#E5ECF6\",\"radialaxis\":{\"gridcolor\":\"white\",\"linecolor\":\"white\",\"ticks\":\"\"}},\"scene\":{\"xaxis\":{\"backgroundcolor\":\"#E5ECF6\",\"gridcolor\":\"white\",\"gridwidth\":2,\"linecolor\":\"white\",\"showbackground\":true,\"ticks\":\"\",\"zerolinecolor\":\"white\"},\"yaxis\":{\"backgroundcolor\":\"#E5ECF6\",\"gridcolor\":\"white\",\"gridwidth\":2,\"linecolor\":\"white\",\"showbackground\":true,\"ticks\":\"\",\"zerolinecolor\":\"white\"},\"zaxis\":{\"backgroundcolor\":\"#E5ECF6\",\"gridcolor\":\"white\",\"gridwidth\":2,\"linecolor\":\"white\",\"showbackground\":true,\"ticks\":\"\",\"zerolinecolor\":\"white\"}},\"shapedefaults\":{\"line\":{\"color\":\"#2a3f5f\"}},\"ternary\":{\"aaxis\":{\"gridcolor\":\"white\",\"linecolor\":\"white\",\"ticks\":\"\"},\"baxis\":{\"gridcolor\":\"white\",\"linecolor\":\"white\",\"ticks\":\"\"},\"bgcolor\":\"#E5ECF6\",\"caxis\":{\"gridcolor\":\"white\",\"linecolor\":\"white\",\"ticks\":\"\"}},\"title\":{\"x\":0.05},\"xaxis\":{\"automargin\":true,\"gridcolor\":\"white\",\"linecolor\":\"white\",\"ticks\":\"\",\"title\":{\"standoff\":15},\"zerolinecolor\":\"white\",\"zerolinewidth\":2},\"yaxis\":{\"automargin\":true,\"gridcolor\":\"white\",\"linecolor\":\"white\",\"ticks\":\"\",\"title\":{\"standoff\":15},\"zerolinecolor\":\"white\",\"zerolinewidth\":2}}},\"title\":{\"font\":{\"color\":\"#4D5663\"}},\"xaxis\":{\"gridcolor\":\"#E1E5ED\",\"showgrid\":true,\"tickfont\":{\"color\":\"#4D5663\"},\"title\":{\"font\":{\"color\":\"#4D5663\"},\"text\":\"\"},\"zerolinecolor\":\"#E1E5ED\"},\"yaxis\":{\"gridcolor\":\"#E1E5ED\",\"showgrid\":true,\"tickfont\":{\"color\":\"#4D5663\"},\"title\":{\"font\":{\"color\":\"#4D5663\"},\"text\":\"\"},\"zerolinecolor\":\"#E1E5ED\"}},                        {\"showLink\": true, \"linkText\": \"Export to plot.ly\", \"plotlyServerURL\": \"https://plot.ly\", \"responsive\": true}                    ).then(function(){\n",
       "                            \n",
       "var gd = document.getElementById('b0da7099-1f7a-4526-8fef-2c4a4dde94f1');\n",
       "var x = new MutationObserver(function (mutations, observer) {{\n",
       "        var display = window.getComputedStyle(gd).display;\n",
       "        if (!display || display === 'none') {{\n",
       "            console.log([gd, 'removed!']);\n",
       "            Plotly.purge(gd);\n",
       "            observer.disconnect();\n",
       "        }}\n",
       "}});\n",
       "\n",
       "// Listen for the removal of the full notebook cells\n",
       "var notebookContainer = gd.closest('#notebook-container');\n",
       "if (notebookContainer) {{\n",
       "    x.observe(notebookContainer, {childList: true});\n",
       "}}\n",
       "\n",
       "// Listen for the clearing of the current output cell\n",
       "var outputEl = gd.closest('.output');\n",
       "if (outputEl) {{\n",
       "    x.observe(outputEl, {childList: true});\n",
       "}}\n",
       "\n",
       "                        })                };                });            </script>        </div>"
      ]
     },
     "metadata": {},
     "output_type": "display_data"
    }
   ],
   "source": [
    "df.iplot(kind='bar')"
   ]
  },
  {
   "cell_type": "code",
   "execution_count": 18,
   "id": "a487f2f0",
   "metadata": {},
   "outputs": [
    {
     "data": {
      "application/vnd.plotly.v1+json": {
       "config": {
        "linkText": "Export to plot.ly",
        "plotlyServerURL": "https://plot.ly",
        "showLink": true
       },
       "data": [
        {
         "marker": {
          "color": "rgba(255, 153, 51, 0.6)",
          "line": {
           "color": "rgba(255, 153, 51, 1.0)",
           "width": 1
          }
         },
         "name": "None",
         "orientation": "v",
         "text": "",
         "type": "bar",
         "x": [
          "A",
          "B",
          "C",
          "D"
         ],
         "y": [
          100,
          100,
          100,
          100
         ]
        }
       ],
       "layout": {
        "legend": {
         "bgcolor": "#F5F6F9",
         "font": {
          "color": "#4D5663"
         }
        },
        "paper_bgcolor": "#F5F6F9",
        "plot_bgcolor": "#F5F6F9",
        "template": {
         "data": {
          "bar": [
           {
            "error_x": {
             "color": "#2a3f5f"
            },
            "error_y": {
             "color": "#2a3f5f"
            },
            "marker": {
             "line": {
              "color": "#E5ECF6",
              "width": 0.5
             },
             "pattern": {
              "fillmode": "overlay",
              "size": 10,
              "solidity": 0.2
             }
            },
            "type": "bar"
           }
          ],
          "barpolar": [
           {
            "marker": {
             "line": {
              "color": "#E5ECF6",
              "width": 0.5
             },
             "pattern": {
              "fillmode": "overlay",
              "size": 10,
              "solidity": 0.2
             }
            },
            "type": "barpolar"
           }
          ],
          "carpet": [
           {
            "aaxis": {
             "endlinecolor": "#2a3f5f",
             "gridcolor": "white",
             "linecolor": "white",
             "minorgridcolor": "white",
             "startlinecolor": "#2a3f5f"
            },
            "baxis": {
             "endlinecolor": "#2a3f5f",
             "gridcolor": "white",
             "linecolor": "white",
             "minorgridcolor": "white",
             "startlinecolor": "#2a3f5f"
            },
            "type": "carpet"
           }
          ],
          "choropleth": [
           {
            "colorbar": {
             "outlinewidth": 0,
             "ticks": ""
            },
            "type": "choropleth"
           }
          ],
          "contour": [
           {
            "colorbar": {
             "outlinewidth": 0,
             "ticks": ""
            },
            "colorscale": [
             [
              0,
              "#0d0887"
             ],
             [
              0.1111111111111111,
              "#46039f"
             ],
             [
              0.2222222222222222,
              "#7201a8"
             ],
             [
              0.3333333333333333,
              "#9c179e"
             ],
             [
              0.4444444444444444,
              "#bd3786"
             ],
             [
              0.5555555555555556,
              "#d8576b"
             ],
             [
              0.6666666666666666,
              "#ed7953"
             ],
             [
              0.7777777777777778,
              "#fb9f3a"
             ],
             [
              0.8888888888888888,
              "#fdca26"
             ],
             [
              1,
              "#f0f921"
             ]
            ],
            "type": "contour"
           }
          ],
          "contourcarpet": [
           {
            "colorbar": {
             "outlinewidth": 0,
             "ticks": ""
            },
            "type": "contourcarpet"
           }
          ],
          "heatmap": [
           {
            "colorbar": {
             "outlinewidth": 0,
             "ticks": ""
            },
            "colorscale": [
             [
              0,
              "#0d0887"
             ],
             [
              0.1111111111111111,
              "#46039f"
             ],
             [
              0.2222222222222222,
              "#7201a8"
             ],
             [
              0.3333333333333333,
              "#9c179e"
             ],
             [
              0.4444444444444444,
              "#bd3786"
             ],
             [
              0.5555555555555556,
              "#d8576b"
             ],
             [
              0.6666666666666666,
              "#ed7953"
             ],
             [
              0.7777777777777778,
              "#fb9f3a"
             ],
             [
              0.8888888888888888,
              "#fdca26"
             ],
             [
              1,
              "#f0f921"
             ]
            ],
            "type": "heatmap"
           }
          ],
          "heatmapgl": [
           {
            "colorbar": {
             "outlinewidth": 0,
             "ticks": ""
            },
            "colorscale": [
             [
              0,
              "#0d0887"
             ],
             [
              0.1111111111111111,
              "#46039f"
             ],
             [
              0.2222222222222222,
              "#7201a8"
             ],
             [
              0.3333333333333333,
              "#9c179e"
             ],
             [
              0.4444444444444444,
              "#bd3786"
             ],
             [
              0.5555555555555556,
              "#d8576b"
             ],
             [
              0.6666666666666666,
              "#ed7953"
             ],
             [
              0.7777777777777778,
              "#fb9f3a"
             ],
             [
              0.8888888888888888,
              "#fdca26"
             ],
             [
              1,
              "#f0f921"
             ]
            ],
            "type": "heatmapgl"
           }
          ],
          "histogram": [
           {
            "marker": {
             "pattern": {
              "fillmode": "overlay",
              "size": 10,
              "solidity": 0.2
             }
            },
            "type": "histogram"
           }
          ],
          "histogram2d": [
           {
            "colorbar": {
             "outlinewidth": 0,
             "ticks": ""
            },
            "colorscale": [
             [
              0,
              "#0d0887"
             ],
             [
              0.1111111111111111,
              "#46039f"
             ],
             [
              0.2222222222222222,
              "#7201a8"
             ],
             [
              0.3333333333333333,
              "#9c179e"
             ],
             [
              0.4444444444444444,
              "#bd3786"
             ],
             [
              0.5555555555555556,
              "#d8576b"
             ],
             [
              0.6666666666666666,
              "#ed7953"
             ],
             [
              0.7777777777777778,
              "#fb9f3a"
             ],
             [
              0.8888888888888888,
              "#fdca26"
             ],
             [
              1,
              "#f0f921"
             ]
            ],
            "type": "histogram2d"
           }
          ],
          "histogram2dcontour": [
           {
            "colorbar": {
             "outlinewidth": 0,
             "ticks": ""
            },
            "colorscale": [
             [
              0,
              "#0d0887"
             ],
             [
              0.1111111111111111,
              "#46039f"
             ],
             [
              0.2222222222222222,
              "#7201a8"
             ],
             [
              0.3333333333333333,
              "#9c179e"
             ],
             [
              0.4444444444444444,
              "#bd3786"
             ],
             [
              0.5555555555555556,
              "#d8576b"
             ],
             [
              0.6666666666666666,
              "#ed7953"
             ],
             [
              0.7777777777777778,
              "#fb9f3a"
             ],
             [
              0.8888888888888888,
              "#fdca26"
             ],
             [
              1,
              "#f0f921"
             ]
            ],
            "type": "histogram2dcontour"
           }
          ],
          "mesh3d": [
           {
            "colorbar": {
             "outlinewidth": 0,
             "ticks": ""
            },
            "type": "mesh3d"
           }
          ],
          "parcoords": [
           {
            "line": {
             "colorbar": {
              "outlinewidth": 0,
              "ticks": ""
             }
            },
            "type": "parcoords"
           }
          ],
          "pie": [
           {
            "automargin": true,
            "type": "pie"
           }
          ],
          "scatter": [
           {
            "fillpattern": {
             "fillmode": "overlay",
             "size": 10,
             "solidity": 0.2
            },
            "type": "scatter"
           }
          ],
          "scatter3d": [
           {
            "line": {
             "colorbar": {
              "outlinewidth": 0,
              "ticks": ""
             }
            },
            "marker": {
             "colorbar": {
              "outlinewidth": 0,
              "ticks": ""
             }
            },
            "type": "scatter3d"
           }
          ],
          "scattercarpet": [
           {
            "marker": {
             "colorbar": {
              "outlinewidth": 0,
              "ticks": ""
             }
            },
            "type": "scattercarpet"
           }
          ],
          "scattergeo": [
           {
            "marker": {
             "colorbar": {
              "outlinewidth": 0,
              "ticks": ""
             }
            },
            "type": "scattergeo"
           }
          ],
          "scattergl": [
           {
            "marker": {
             "colorbar": {
              "outlinewidth": 0,
              "ticks": ""
             }
            },
            "type": "scattergl"
           }
          ],
          "scattermapbox": [
           {
            "marker": {
             "colorbar": {
              "outlinewidth": 0,
              "ticks": ""
             }
            },
            "type": "scattermapbox"
           }
          ],
          "scatterpolar": [
           {
            "marker": {
             "colorbar": {
              "outlinewidth": 0,
              "ticks": ""
             }
            },
            "type": "scatterpolar"
           }
          ],
          "scatterpolargl": [
           {
            "marker": {
             "colorbar": {
              "outlinewidth": 0,
              "ticks": ""
             }
            },
            "type": "scatterpolargl"
           }
          ],
          "scatterternary": [
           {
            "marker": {
             "colorbar": {
              "outlinewidth": 0,
              "ticks": ""
             }
            },
            "type": "scatterternary"
           }
          ],
          "surface": [
           {
            "colorbar": {
             "outlinewidth": 0,
             "ticks": ""
            },
            "colorscale": [
             [
              0,
              "#0d0887"
             ],
             [
              0.1111111111111111,
              "#46039f"
             ],
             [
              0.2222222222222222,
              "#7201a8"
             ],
             [
              0.3333333333333333,
              "#9c179e"
             ],
             [
              0.4444444444444444,
              "#bd3786"
             ],
             [
              0.5555555555555556,
              "#d8576b"
             ],
             [
              0.6666666666666666,
              "#ed7953"
             ],
             [
              0.7777777777777778,
              "#fb9f3a"
             ],
             [
              0.8888888888888888,
              "#fdca26"
             ],
             [
              1,
              "#f0f921"
             ]
            ],
            "type": "surface"
           }
          ],
          "table": [
           {
            "cells": {
             "fill": {
              "color": "#EBF0F8"
             },
             "line": {
              "color": "white"
             }
            },
            "header": {
             "fill": {
              "color": "#C8D4E3"
             },
             "line": {
              "color": "white"
             }
            },
            "type": "table"
           }
          ]
         },
         "layout": {
          "annotationdefaults": {
           "arrowcolor": "#2a3f5f",
           "arrowhead": 0,
           "arrowwidth": 1
          },
          "autotypenumbers": "strict",
          "coloraxis": {
           "colorbar": {
            "outlinewidth": 0,
            "ticks": ""
           }
          },
          "colorscale": {
           "diverging": [
            [
             0,
             "#8e0152"
            ],
            [
             0.1,
             "#c51b7d"
            ],
            [
             0.2,
             "#de77ae"
            ],
            [
             0.3,
             "#f1b6da"
            ],
            [
             0.4,
             "#fde0ef"
            ],
            [
             0.5,
             "#f7f7f7"
            ],
            [
             0.6,
             "#e6f5d0"
            ],
            [
             0.7,
             "#b8e186"
            ],
            [
             0.8,
             "#7fbc41"
            ],
            [
             0.9,
             "#4d9221"
            ],
            [
             1,
             "#276419"
            ]
           ],
           "sequential": [
            [
             0,
             "#0d0887"
            ],
            [
             0.1111111111111111,
             "#46039f"
            ],
            [
             0.2222222222222222,
             "#7201a8"
            ],
            [
             0.3333333333333333,
             "#9c179e"
            ],
            [
             0.4444444444444444,
             "#bd3786"
            ],
            [
             0.5555555555555556,
             "#d8576b"
            ],
            [
             0.6666666666666666,
             "#ed7953"
            ],
            [
             0.7777777777777778,
             "#fb9f3a"
            ],
            [
             0.8888888888888888,
             "#fdca26"
            ],
            [
             1,
             "#f0f921"
            ]
           ],
           "sequentialminus": [
            [
             0,
             "#0d0887"
            ],
            [
             0.1111111111111111,
             "#46039f"
            ],
            [
             0.2222222222222222,
             "#7201a8"
            ],
            [
             0.3333333333333333,
             "#9c179e"
            ],
            [
             0.4444444444444444,
             "#bd3786"
            ],
            [
             0.5555555555555556,
             "#d8576b"
            ],
            [
             0.6666666666666666,
             "#ed7953"
            ],
            [
             0.7777777777777778,
             "#fb9f3a"
            ],
            [
             0.8888888888888888,
             "#fdca26"
            ],
            [
             1,
             "#f0f921"
            ]
           ]
          },
          "colorway": [
           "#636efa",
           "#EF553B",
           "#00cc96",
           "#ab63fa",
           "#FFA15A",
           "#19d3f3",
           "#FF6692",
           "#B6E880",
           "#FF97FF",
           "#FECB52"
          ],
          "font": {
           "color": "#2a3f5f"
          },
          "geo": {
           "bgcolor": "white",
           "lakecolor": "white",
           "landcolor": "#E5ECF6",
           "showlakes": true,
           "showland": true,
           "subunitcolor": "white"
          },
          "hoverlabel": {
           "align": "left"
          },
          "hovermode": "closest",
          "mapbox": {
           "style": "light"
          },
          "paper_bgcolor": "white",
          "plot_bgcolor": "#E5ECF6",
          "polar": {
           "angularaxis": {
            "gridcolor": "white",
            "linecolor": "white",
            "ticks": ""
           },
           "bgcolor": "#E5ECF6",
           "radialaxis": {
            "gridcolor": "white",
            "linecolor": "white",
            "ticks": ""
           }
          },
          "scene": {
           "xaxis": {
            "backgroundcolor": "#E5ECF6",
            "gridcolor": "white",
            "gridwidth": 2,
            "linecolor": "white",
            "showbackground": true,
            "ticks": "",
            "zerolinecolor": "white"
           },
           "yaxis": {
            "backgroundcolor": "#E5ECF6",
            "gridcolor": "white",
            "gridwidth": 2,
            "linecolor": "white",
            "showbackground": true,
            "ticks": "",
            "zerolinecolor": "white"
           },
           "zaxis": {
            "backgroundcolor": "#E5ECF6",
            "gridcolor": "white",
            "gridwidth": 2,
            "linecolor": "white",
            "showbackground": true,
            "ticks": "",
            "zerolinecolor": "white"
           }
          },
          "shapedefaults": {
           "line": {
            "color": "#2a3f5f"
           }
          },
          "ternary": {
           "aaxis": {
            "gridcolor": "white",
            "linecolor": "white",
            "ticks": ""
           },
           "baxis": {
            "gridcolor": "white",
            "linecolor": "white",
            "ticks": ""
           },
           "bgcolor": "#E5ECF6",
           "caxis": {
            "gridcolor": "white",
            "linecolor": "white",
            "ticks": ""
           }
          },
          "title": {
           "x": 0.05
          },
          "xaxis": {
           "automargin": true,
           "gridcolor": "white",
           "linecolor": "white",
           "ticks": "",
           "title": {
            "standoff": 15
           },
           "zerolinecolor": "white",
           "zerolinewidth": 2
          },
          "yaxis": {
           "automargin": true,
           "gridcolor": "white",
           "linecolor": "white",
           "ticks": "",
           "title": {
            "standoff": 15
           },
           "zerolinecolor": "white",
           "zerolinewidth": 2
          }
         }
        },
        "title": {
         "font": {
          "color": "#4D5663"
         }
        },
        "xaxis": {
         "gridcolor": "#E1E5ED",
         "showgrid": true,
         "tickfont": {
          "color": "#4D5663"
         },
         "title": {
          "font": {
           "color": "#4D5663"
          },
          "text": ""
         },
         "zerolinecolor": "#E1E5ED"
        },
        "yaxis": {
         "gridcolor": "#E1E5ED",
         "showgrid": true,
         "tickfont": {
          "color": "#4D5663"
         },
         "title": {
          "font": {
           "color": "#4D5663"
          },
          "text": ""
         },
         "zerolinecolor": "#E1E5ED"
        }
       }
      },
      "text/html": [
       "<div>                            <div id=\"d8056624-2502-4d57-8710-f848b5a7d865\" class=\"plotly-graph-div\" style=\"height:525px; width:100%;\"></div>            <script type=\"text/javascript\">                require([\"plotly\"], function(Plotly) {                    window.PLOTLYENV=window.PLOTLYENV || {};\n",
       "                    window.PLOTLYENV.BASE_URL='https://plot.ly';                                    if (document.getElementById(\"d8056624-2502-4d57-8710-f848b5a7d865\")) {                    Plotly.newPlot(                        \"d8056624-2502-4d57-8710-f848b5a7d865\",                        [{\"marker\":{\"color\":\"rgba(255, 153, 51, 0.6)\",\"line\":{\"color\":\"rgba(255, 153, 51, 1.0)\",\"width\":1}},\"name\":\"None\",\"orientation\":\"v\",\"text\":\"\",\"x\":[\"A\",\"B\",\"C\",\"D\"],\"y\":[100,100,100,100],\"type\":\"bar\"}],                        {\"legend\":{\"bgcolor\":\"#F5F6F9\",\"font\":{\"color\":\"#4D5663\"}},\"paper_bgcolor\":\"#F5F6F9\",\"plot_bgcolor\":\"#F5F6F9\",\"template\":{\"data\":{\"barpolar\":[{\"marker\":{\"line\":{\"color\":\"#E5ECF6\",\"width\":0.5},\"pattern\":{\"fillmode\":\"overlay\",\"size\":10,\"solidity\":0.2}},\"type\":\"barpolar\"}],\"bar\":[{\"error_x\":{\"color\":\"#2a3f5f\"},\"error_y\":{\"color\":\"#2a3f5f\"},\"marker\":{\"line\":{\"color\":\"#E5ECF6\",\"width\":0.5},\"pattern\":{\"fillmode\":\"overlay\",\"size\":10,\"solidity\":0.2}},\"type\":\"bar\"}],\"carpet\":[{\"aaxis\":{\"endlinecolor\":\"#2a3f5f\",\"gridcolor\":\"white\",\"linecolor\":\"white\",\"minorgridcolor\":\"white\",\"startlinecolor\":\"#2a3f5f\"},\"baxis\":{\"endlinecolor\":\"#2a3f5f\",\"gridcolor\":\"white\",\"linecolor\":\"white\",\"minorgridcolor\":\"white\",\"startlinecolor\":\"#2a3f5f\"},\"type\":\"carpet\"}],\"choropleth\":[{\"colorbar\":{\"outlinewidth\":0,\"ticks\":\"\"},\"type\":\"choropleth\"}],\"contourcarpet\":[{\"colorbar\":{\"outlinewidth\":0,\"ticks\":\"\"},\"type\":\"contourcarpet\"}],\"contour\":[{\"colorbar\":{\"outlinewidth\":0,\"ticks\":\"\"},\"colorscale\":[[0.0,\"#0d0887\"],[0.1111111111111111,\"#46039f\"],[0.2222222222222222,\"#7201a8\"],[0.3333333333333333,\"#9c179e\"],[0.4444444444444444,\"#bd3786\"],[0.5555555555555556,\"#d8576b\"],[0.6666666666666666,\"#ed7953\"],[0.7777777777777778,\"#fb9f3a\"],[0.8888888888888888,\"#fdca26\"],[1.0,\"#f0f921\"]],\"type\":\"contour\"}],\"heatmapgl\":[{\"colorbar\":{\"outlinewidth\":0,\"ticks\":\"\"},\"colorscale\":[[0.0,\"#0d0887\"],[0.1111111111111111,\"#46039f\"],[0.2222222222222222,\"#7201a8\"],[0.3333333333333333,\"#9c179e\"],[0.4444444444444444,\"#bd3786\"],[0.5555555555555556,\"#d8576b\"],[0.6666666666666666,\"#ed7953\"],[0.7777777777777778,\"#fb9f3a\"],[0.8888888888888888,\"#fdca26\"],[1.0,\"#f0f921\"]],\"type\":\"heatmapgl\"}],\"heatmap\":[{\"colorbar\":{\"outlinewidth\":0,\"ticks\":\"\"},\"colorscale\":[[0.0,\"#0d0887\"],[0.1111111111111111,\"#46039f\"],[0.2222222222222222,\"#7201a8\"],[0.3333333333333333,\"#9c179e\"],[0.4444444444444444,\"#bd3786\"],[0.5555555555555556,\"#d8576b\"],[0.6666666666666666,\"#ed7953\"],[0.7777777777777778,\"#fb9f3a\"],[0.8888888888888888,\"#fdca26\"],[1.0,\"#f0f921\"]],\"type\":\"heatmap\"}],\"histogram2dcontour\":[{\"colorbar\":{\"outlinewidth\":0,\"ticks\":\"\"},\"colorscale\":[[0.0,\"#0d0887\"],[0.1111111111111111,\"#46039f\"],[0.2222222222222222,\"#7201a8\"],[0.3333333333333333,\"#9c179e\"],[0.4444444444444444,\"#bd3786\"],[0.5555555555555556,\"#d8576b\"],[0.6666666666666666,\"#ed7953\"],[0.7777777777777778,\"#fb9f3a\"],[0.8888888888888888,\"#fdca26\"],[1.0,\"#f0f921\"]],\"type\":\"histogram2dcontour\"}],\"histogram2d\":[{\"colorbar\":{\"outlinewidth\":0,\"ticks\":\"\"},\"colorscale\":[[0.0,\"#0d0887\"],[0.1111111111111111,\"#46039f\"],[0.2222222222222222,\"#7201a8\"],[0.3333333333333333,\"#9c179e\"],[0.4444444444444444,\"#bd3786\"],[0.5555555555555556,\"#d8576b\"],[0.6666666666666666,\"#ed7953\"],[0.7777777777777778,\"#fb9f3a\"],[0.8888888888888888,\"#fdca26\"],[1.0,\"#f0f921\"]],\"type\":\"histogram2d\"}],\"histogram\":[{\"marker\":{\"pattern\":{\"fillmode\":\"overlay\",\"size\":10,\"solidity\":0.2}},\"type\":\"histogram\"}],\"mesh3d\":[{\"colorbar\":{\"outlinewidth\":0,\"ticks\":\"\"},\"type\":\"mesh3d\"}],\"parcoords\":[{\"line\":{\"colorbar\":{\"outlinewidth\":0,\"ticks\":\"\"}},\"type\":\"parcoords\"}],\"pie\":[{\"automargin\":true,\"type\":\"pie\"}],\"scatter3d\":[{\"line\":{\"colorbar\":{\"outlinewidth\":0,\"ticks\":\"\"}},\"marker\":{\"colorbar\":{\"outlinewidth\":0,\"ticks\":\"\"}},\"type\":\"scatter3d\"}],\"scattercarpet\":[{\"marker\":{\"colorbar\":{\"outlinewidth\":0,\"ticks\":\"\"}},\"type\":\"scattercarpet\"}],\"scattergeo\":[{\"marker\":{\"colorbar\":{\"outlinewidth\":0,\"ticks\":\"\"}},\"type\":\"scattergeo\"}],\"scattergl\":[{\"marker\":{\"colorbar\":{\"outlinewidth\":0,\"ticks\":\"\"}},\"type\":\"scattergl\"}],\"scattermapbox\":[{\"marker\":{\"colorbar\":{\"outlinewidth\":0,\"ticks\":\"\"}},\"type\":\"scattermapbox\"}],\"scatterpolargl\":[{\"marker\":{\"colorbar\":{\"outlinewidth\":0,\"ticks\":\"\"}},\"type\":\"scatterpolargl\"}],\"scatterpolar\":[{\"marker\":{\"colorbar\":{\"outlinewidth\":0,\"ticks\":\"\"}},\"type\":\"scatterpolar\"}],\"scatter\":[{\"fillpattern\":{\"fillmode\":\"overlay\",\"size\":10,\"solidity\":0.2},\"type\":\"scatter\"}],\"scatterternary\":[{\"marker\":{\"colorbar\":{\"outlinewidth\":0,\"ticks\":\"\"}},\"type\":\"scatterternary\"}],\"surface\":[{\"colorbar\":{\"outlinewidth\":0,\"ticks\":\"\"},\"colorscale\":[[0.0,\"#0d0887\"],[0.1111111111111111,\"#46039f\"],[0.2222222222222222,\"#7201a8\"],[0.3333333333333333,\"#9c179e\"],[0.4444444444444444,\"#bd3786\"],[0.5555555555555556,\"#d8576b\"],[0.6666666666666666,\"#ed7953\"],[0.7777777777777778,\"#fb9f3a\"],[0.8888888888888888,\"#fdca26\"],[1.0,\"#f0f921\"]],\"type\":\"surface\"}],\"table\":[{\"cells\":{\"fill\":{\"color\":\"#EBF0F8\"},\"line\":{\"color\":\"white\"}},\"header\":{\"fill\":{\"color\":\"#C8D4E3\"},\"line\":{\"color\":\"white\"}},\"type\":\"table\"}]},\"layout\":{\"annotationdefaults\":{\"arrowcolor\":\"#2a3f5f\",\"arrowhead\":0,\"arrowwidth\":1},\"autotypenumbers\":\"strict\",\"coloraxis\":{\"colorbar\":{\"outlinewidth\":0,\"ticks\":\"\"}},\"colorscale\":{\"diverging\":[[0,\"#8e0152\"],[0.1,\"#c51b7d\"],[0.2,\"#de77ae\"],[0.3,\"#f1b6da\"],[0.4,\"#fde0ef\"],[0.5,\"#f7f7f7\"],[0.6,\"#e6f5d0\"],[0.7,\"#b8e186\"],[0.8,\"#7fbc41\"],[0.9,\"#4d9221\"],[1,\"#276419\"]],\"sequential\":[[0.0,\"#0d0887\"],[0.1111111111111111,\"#46039f\"],[0.2222222222222222,\"#7201a8\"],[0.3333333333333333,\"#9c179e\"],[0.4444444444444444,\"#bd3786\"],[0.5555555555555556,\"#d8576b\"],[0.6666666666666666,\"#ed7953\"],[0.7777777777777778,\"#fb9f3a\"],[0.8888888888888888,\"#fdca26\"],[1.0,\"#f0f921\"]],\"sequentialminus\":[[0.0,\"#0d0887\"],[0.1111111111111111,\"#46039f\"],[0.2222222222222222,\"#7201a8\"],[0.3333333333333333,\"#9c179e\"],[0.4444444444444444,\"#bd3786\"],[0.5555555555555556,\"#d8576b\"],[0.6666666666666666,\"#ed7953\"],[0.7777777777777778,\"#fb9f3a\"],[0.8888888888888888,\"#fdca26\"],[1.0,\"#f0f921\"]]},\"colorway\":[\"#636efa\",\"#EF553B\",\"#00cc96\",\"#ab63fa\",\"#FFA15A\",\"#19d3f3\",\"#FF6692\",\"#B6E880\",\"#FF97FF\",\"#FECB52\"],\"font\":{\"color\":\"#2a3f5f\"},\"geo\":{\"bgcolor\":\"white\",\"lakecolor\":\"white\",\"landcolor\":\"#E5ECF6\",\"showlakes\":true,\"showland\":true,\"subunitcolor\":\"white\"},\"hoverlabel\":{\"align\":\"left\"},\"hovermode\":\"closest\",\"mapbox\":{\"style\":\"light\"},\"paper_bgcolor\":\"white\",\"plot_bgcolor\":\"#E5ECF6\",\"polar\":{\"angularaxis\":{\"gridcolor\":\"white\",\"linecolor\":\"white\",\"ticks\":\"\"},\"bgcolor\":\"#E5ECF6\",\"radialaxis\":{\"gridcolor\":\"white\",\"linecolor\":\"white\",\"ticks\":\"\"}},\"scene\":{\"xaxis\":{\"backgroundcolor\":\"#E5ECF6\",\"gridcolor\":\"white\",\"gridwidth\":2,\"linecolor\":\"white\",\"showbackground\":true,\"ticks\":\"\",\"zerolinecolor\":\"white\"},\"yaxis\":{\"backgroundcolor\":\"#E5ECF6\",\"gridcolor\":\"white\",\"gridwidth\":2,\"linecolor\":\"white\",\"showbackground\":true,\"ticks\":\"\",\"zerolinecolor\":\"white\"},\"zaxis\":{\"backgroundcolor\":\"#E5ECF6\",\"gridcolor\":\"white\",\"gridwidth\":2,\"linecolor\":\"white\",\"showbackground\":true,\"ticks\":\"\",\"zerolinecolor\":\"white\"}},\"shapedefaults\":{\"line\":{\"color\":\"#2a3f5f\"}},\"ternary\":{\"aaxis\":{\"gridcolor\":\"white\",\"linecolor\":\"white\",\"ticks\":\"\"},\"baxis\":{\"gridcolor\":\"white\",\"linecolor\":\"white\",\"ticks\":\"\"},\"bgcolor\":\"#E5ECF6\",\"caxis\":{\"gridcolor\":\"white\",\"linecolor\":\"white\",\"ticks\":\"\"}},\"title\":{\"x\":0.05},\"xaxis\":{\"automargin\":true,\"gridcolor\":\"white\",\"linecolor\":\"white\",\"ticks\":\"\",\"title\":{\"standoff\":15},\"zerolinecolor\":\"white\",\"zerolinewidth\":2},\"yaxis\":{\"automargin\":true,\"gridcolor\":\"white\",\"linecolor\":\"white\",\"ticks\":\"\",\"title\":{\"standoff\":15},\"zerolinecolor\":\"white\",\"zerolinewidth\":2}}},\"title\":{\"font\":{\"color\":\"#4D5663\"}},\"xaxis\":{\"gridcolor\":\"#E1E5ED\",\"showgrid\":true,\"tickfont\":{\"color\":\"#4D5663\"},\"title\":{\"font\":{\"color\":\"#4D5663\"},\"text\":\"\"},\"zerolinecolor\":\"#E1E5ED\"},\"yaxis\":{\"gridcolor\":\"#E1E5ED\",\"showgrid\":true,\"tickfont\":{\"color\":\"#4D5663\"},\"title\":{\"font\":{\"color\":\"#4D5663\"},\"text\":\"\"},\"zerolinecolor\":\"#E1E5ED\"}},                        {\"showLink\": true, \"linkText\": \"Export to plot.ly\", \"plotlyServerURL\": \"https://plot.ly\", \"responsive\": true}                    ).then(function(){\n",
       "                            \n",
       "var gd = document.getElementById('d8056624-2502-4d57-8710-f848b5a7d865');\n",
       "var x = new MutationObserver(function (mutations, observer) {{\n",
       "        var display = window.getComputedStyle(gd).display;\n",
       "        if (!display || display === 'none') {{\n",
       "            console.log([gd, 'removed!']);\n",
       "            Plotly.purge(gd);\n",
       "            observer.disconnect();\n",
       "        }}\n",
       "}});\n",
       "\n",
       "// Listen for the removal of the full notebook cells\n",
       "var notebookContainer = gd.closest('#notebook-container');\n",
       "if (notebookContainer) {{\n",
       "    x.observe(notebookContainer, {childList: true});\n",
       "}}\n",
       "\n",
       "// Listen for the clearing of the current output cell\n",
       "var outputEl = gd.closest('.output');\n",
       "if (outputEl) {{\n",
       "    x.observe(outputEl, {childList: true});\n",
       "}}\n",
       "\n",
       "                        })                };                });            </script>        </div>"
      ]
     },
     "metadata": {},
     "output_type": "display_data"
    }
   ],
   "source": [
    "df.count().iplot(kind='bar')"
   ]
  },
  {
   "cell_type": "code",
   "execution_count": 19,
   "id": "4c2b63d1",
   "metadata": {},
   "outputs": [
    {
     "data": {
      "application/vnd.plotly.v1+json": {
       "config": {
        "linkText": "Export to plot.ly",
        "plotlyServerURL": "https://plot.ly",
        "showLink": true
       },
       "data": [
        {
         "marker": {
          "color": "rgba(255, 153, 51, 0.6)",
          "line": {
           "color": "rgba(255, 153, 51, 1.0)",
           "width": 1
          }
         },
         "name": "None",
         "orientation": "v",
         "text": "",
         "type": "bar",
         "x": [
          "A",
          "B",
          "C",
          "D"
         ],
         "y": [
          0.3061288335696235,
          16.626546833286344,
          7.516467781490948,
          -8.059448648345748
         ]
        }
       ],
       "layout": {
        "legend": {
         "bgcolor": "#F5F6F9",
         "font": {
          "color": "#4D5663"
         }
        },
        "paper_bgcolor": "#F5F6F9",
        "plot_bgcolor": "#F5F6F9",
        "template": {
         "data": {
          "bar": [
           {
            "error_x": {
             "color": "#2a3f5f"
            },
            "error_y": {
             "color": "#2a3f5f"
            },
            "marker": {
             "line": {
              "color": "#E5ECF6",
              "width": 0.5
             },
             "pattern": {
              "fillmode": "overlay",
              "size": 10,
              "solidity": 0.2
             }
            },
            "type": "bar"
           }
          ],
          "barpolar": [
           {
            "marker": {
             "line": {
              "color": "#E5ECF6",
              "width": 0.5
             },
             "pattern": {
              "fillmode": "overlay",
              "size": 10,
              "solidity": 0.2
             }
            },
            "type": "barpolar"
           }
          ],
          "carpet": [
           {
            "aaxis": {
             "endlinecolor": "#2a3f5f",
             "gridcolor": "white",
             "linecolor": "white",
             "minorgridcolor": "white",
             "startlinecolor": "#2a3f5f"
            },
            "baxis": {
             "endlinecolor": "#2a3f5f",
             "gridcolor": "white",
             "linecolor": "white",
             "minorgridcolor": "white",
             "startlinecolor": "#2a3f5f"
            },
            "type": "carpet"
           }
          ],
          "choropleth": [
           {
            "colorbar": {
             "outlinewidth": 0,
             "ticks": ""
            },
            "type": "choropleth"
           }
          ],
          "contour": [
           {
            "colorbar": {
             "outlinewidth": 0,
             "ticks": ""
            },
            "colorscale": [
             [
              0,
              "#0d0887"
             ],
             [
              0.1111111111111111,
              "#46039f"
             ],
             [
              0.2222222222222222,
              "#7201a8"
             ],
             [
              0.3333333333333333,
              "#9c179e"
             ],
             [
              0.4444444444444444,
              "#bd3786"
             ],
             [
              0.5555555555555556,
              "#d8576b"
             ],
             [
              0.6666666666666666,
              "#ed7953"
             ],
             [
              0.7777777777777778,
              "#fb9f3a"
             ],
             [
              0.8888888888888888,
              "#fdca26"
             ],
             [
              1,
              "#f0f921"
             ]
            ],
            "type": "contour"
           }
          ],
          "contourcarpet": [
           {
            "colorbar": {
             "outlinewidth": 0,
             "ticks": ""
            },
            "type": "contourcarpet"
           }
          ],
          "heatmap": [
           {
            "colorbar": {
             "outlinewidth": 0,
             "ticks": ""
            },
            "colorscale": [
             [
              0,
              "#0d0887"
             ],
             [
              0.1111111111111111,
              "#46039f"
             ],
             [
              0.2222222222222222,
              "#7201a8"
             ],
             [
              0.3333333333333333,
              "#9c179e"
             ],
             [
              0.4444444444444444,
              "#bd3786"
             ],
             [
              0.5555555555555556,
              "#d8576b"
             ],
             [
              0.6666666666666666,
              "#ed7953"
             ],
             [
              0.7777777777777778,
              "#fb9f3a"
             ],
             [
              0.8888888888888888,
              "#fdca26"
             ],
             [
              1,
              "#f0f921"
             ]
            ],
            "type": "heatmap"
           }
          ],
          "heatmapgl": [
           {
            "colorbar": {
             "outlinewidth": 0,
             "ticks": ""
            },
            "colorscale": [
             [
              0,
              "#0d0887"
             ],
             [
              0.1111111111111111,
              "#46039f"
             ],
             [
              0.2222222222222222,
              "#7201a8"
             ],
             [
              0.3333333333333333,
              "#9c179e"
             ],
             [
              0.4444444444444444,
              "#bd3786"
             ],
             [
              0.5555555555555556,
              "#d8576b"
             ],
             [
              0.6666666666666666,
              "#ed7953"
             ],
             [
              0.7777777777777778,
              "#fb9f3a"
             ],
             [
              0.8888888888888888,
              "#fdca26"
             ],
             [
              1,
              "#f0f921"
             ]
            ],
            "type": "heatmapgl"
           }
          ],
          "histogram": [
           {
            "marker": {
             "pattern": {
              "fillmode": "overlay",
              "size": 10,
              "solidity": 0.2
             }
            },
            "type": "histogram"
           }
          ],
          "histogram2d": [
           {
            "colorbar": {
             "outlinewidth": 0,
             "ticks": ""
            },
            "colorscale": [
             [
              0,
              "#0d0887"
             ],
             [
              0.1111111111111111,
              "#46039f"
             ],
             [
              0.2222222222222222,
              "#7201a8"
             ],
             [
              0.3333333333333333,
              "#9c179e"
             ],
             [
              0.4444444444444444,
              "#bd3786"
             ],
             [
              0.5555555555555556,
              "#d8576b"
             ],
             [
              0.6666666666666666,
              "#ed7953"
             ],
             [
              0.7777777777777778,
              "#fb9f3a"
             ],
             [
              0.8888888888888888,
              "#fdca26"
             ],
             [
              1,
              "#f0f921"
             ]
            ],
            "type": "histogram2d"
           }
          ],
          "histogram2dcontour": [
           {
            "colorbar": {
             "outlinewidth": 0,
             "ticks": ""
            },
            "colorscale": [
             [
              0,
              "#0d0887"
             ],
             [
              0.1111111111111111,
              "#46039f"
             ],
             [
              0.2222222222222222,
              "#7201a8"
             ],
             [
              0.3333333333333333,
              "#9c179e"
             ],
             [
              0.4444444444444444,
              "#bd3786"
             ],
             [
              0.5555555555555556,
              "#d8576b"
             ],
             [
              0.6666666666666666,
              "#ed7953"
             ],
             [
              0.7777777777777778,
              "#fb9f3a"
             ],
             [
              0.8888888888888888,
              "#fdca26"
             ],
             [
              1,
              "#f0f921"
             ]
            ],
            "type": "histogram2dcontour"
           }
          ],
          "mesh3d": [
           {
            "colorbar": {
             "outlinewidth": 0,
             "ticks": ""
            },
            "type": "mesh3d"
           }
          ],
          "parcoords": [
           {
            "line": {
             "colorbar": {
              "outlinewidth": 0,
              "ticks": ""
             }
            },
            "type": "parcoords"
           }
          ],
          "pie": [
           {
            "automargin": true,
            "type": "pie"
           }
          ],
          "scatter": [
           {
            "fillpattern": {
             "fillmode": "overlay",
             "size": 10,
             "solidity": 0.2
            },
            "type": "scatter"
           }
          ],
          "scatter3d": [
           {
            "line": {
             "colorbar": {
              "outlinewidth": 0,
              "ticks": ""
             }
            },
            "marker": {
             "colorbar": {
              "outlinewidth": 0,
              "ticks": ""
             }
            },
            "type": "scatter3d"
           }
          ],
          "scattercarpet": [
           {
            "marker": {
             "colorbar": {
              "outlinewidth": 0,
              "ticks": ""
             }
            },
            "type": "scattercarpet"
           }
          ],
          "scattergeo": [
           {
            "marker": {
             "colorbar": {
              "outlinewidth": 0,
              "ticks": ""
             }
            },
            "type": "scattergeo"
           }
          ],
          "scattergl": [
           {
            "marker": {
             "colorbar": {
              "outlinewidth": 0,
              "ticks": ""
             }
            },
            "type": "scattergl"
           }
          ],
          "scattermapbox": [
           {
            "marker": {
             "colorbar": {
              "outlinewidth": 0,
              "ticks": ""
             }
            },
            "type": "scattermapbox"
           }
          ],
          "scatterpolar": [
           {
            "marker": {
             "colorbar": {
              "outlinewidth": 0,
              "ticks": ""
             }
            },
            "type": "scatterpolar"
           }
          ],
          "scatterpolargl": [
           {
            "marker": {
             "colorbar": {
              "outlinewidth": 0,
              "ticks": ""
             }
            },
            "type": "scatterpolargl"
           }
          ],
          "scatterternary": [
           {
            "marker": {
             "colorbar": {
              "outlinewidth": 0,
              "ticks": ""
             }
            },
            "type": "scatterternary"
           }
          ],
          "surface": [
           {
            "colorbar": {
             "outlinewidth": 0,
             "ticks": ""
            },
            "colorscale": [
             [
              0,
              "#0d0887"
             ],
             [
              0.1111111111111111,
              "#46039f"
             ],
             [
              0.2222222222222222,
              "#7201a8"
             ],
             [
              0.3333333333333333,
              "#9c179e"
             ],
             [
              0.4444444444444444,
              "#bd3786"
             ],
             [
              0.5555555555555556,
              "#d8576b"
             ],
             [
              0.6666666666666666,
              "#ed7953"
             ],
             [
              0.7777777777777778,
              "#fb9f3a"
             ],
             [
              0.8888888888888888,
              "#fdca26"
             ],
             [
              1,
              "#f0f921"
             ]
            ],
            "type": "surface"
           }
          ],
          "table": [
           {
            "cells": {
             "fill": {
              "color": "#EBF0F8"
             },
             "line": {
              "color": "white"
             }
            },
            "header": {
             "fill": {
              "color": "#C8D4E3"
             },
             "line": {
              "color": "white"
             }
            },
            "type": "table"
           }
          ]
         },
         "layout": {
          "annotationdefaults": {
           "arrowcolor": "#2a3f5f",
           "arrowhead": 0,
           "arrowwidth": 1
          },
          "autotypenumbers": "strict",
          "coloraxis": {
           "colorbar": {
            "outlinewidth": 0,
            "ticks": ""
           }
          },
          "colorscale": {
           "diverging": [
            [
             0,
             "#8e0152"
            ],
            [
             0.1,
             "#c51b7d"
            ],
            [
             0.2,
             "#de77ae"
            ],
            [
             0.3,
             "#f1b6da"
            ],
            [
             0.4,
             "#fde0ef"
            ],
            [
             0.5,
             "#f7f7f7"
            ],
            [
             0.6,
             "#e6f5d0"
            ],
            [
             0.7,
             "#b8e186"
            ],
            [
             0.8,
             "#7fbc41"
            ],
            [
             0.9,
             "#4d9221"
            ],
            [
             1,
             "#276419"
            ]
           ],
           "sequential": [
            [
             0,
             "#0d0887"
            ],
            [
             0.1111111111111111,
             "#46039f"
            ],
            [
             0.2222222222222222,
             "#7201a8"
            ],
            [
             0.3333333333333333,
             "#9c179e"
            ],
            [
             0.4444444444444444,
             "#bd3786"
            ],
            [
             0.5555555555555556,
             "#d8576b"
            ],
            [
             0.6666666666666666,
             "#ed7953"
            ],
            [
             0.7777777777777778,
             "#fb9f3a"
            ],
            [
             0.8888888888888888,
             "#fdca26"
            ],
            [
             1,
             "#f0f921"
            ]
           ],
           "sequentialminus": [
            [
             0,
             "#0d0887"
            ],
            [
             0.1111111111111111,
             "#46039f"
            ],
            [
             0.2222222222222222,
             "#7201a8"
            ],
            [
             0.3333333333333333,
             "#9c179e"
            ],
            [
             0.4444444444444444,
             "#bd3786"
            ],
            [
             0.5555555555555556,
             "#d8576b"
            ],
            [
             0.6666666666666666,
             "#ed7953"
            ],
            [
             0.7777777777777778,
             "#fb9f3a"
            ],
            [
             0.8888888888888888,
             "#fdca26"
            ],
            [
             1,
             "#f0f921"
            ]
           ]
          },
          "colorway": [
           "#636efa",
           "#EF553B",
           "#00cc96",
           "#ab63fa",
           "#FFA15A",
           "#19d3f3",
           "#FF6692",
           "#B6E880",
           "#FF97FF",
           "#FECB52"
          ],
          "font": {
           "color": "#2a3f5f"
          },
          "geo": {
           "bgcolor": "white",
           "lakecolor": "white",
           "landcolor": "#E5ECF6",
           "showlakes": true,
           "showland": true,
           "subunitcolor": "white"
          },
          "hoverlabel": {
           "align": "left"
          },
          "hovermode": "closest",
          "mapbox": {
           "style": "light"
          },
          "paper_bgcolor": "white",
          "plot_bgcolor": "#E5ECF6",
          "polar": {
           "angularaxis": {
            "gridcolor": "white",
            "linecolor": "white",
            "ticks": ""
           },
           "bgcolor": "#E5ECF6",
           "radialaxis": {
            "gridcolor": "white",
            "linecolor": "white",
            "ticks": ""
           }
          },
          "scene": {
           "xaxis": {
            "backgroundcolor": "#E5ECF6",
            "gridcolor": "white",
            "gridwidth": 2,
            "linecolor": "white",
            "showbackground": true,
            "ticks": "",
            "zerolinecolor": "white"
           },
           "yaxis": {
            "backgroundcolor": "#E5ECF6",
            "gridcolor": "white",
            "gridwidth": 2,
            "linecolor": "white",
            "showbackground": true,
            "ticks": "",
            "zerolinecolor": "white"
           },
           "zaxis": {
            "backgroundcolor": "#E5ECF6",
            "gridcolor": "white",
            "gridwidth": 2,
            "linecolor": "white",
            "showbackground": true,
            "ticks": "",
            "zerolinecolor": "white"
           }
          },
          "shapedefaults": {
           "line": {
            "color": "#2a3f5f"
           }
          },
          "ternary": {
           "aaxis": {
            "gridcolor": "white",
            "linecolor": "white",
            "ticks": ""
           },
           "baxis": {
            "gridcolor": "white",
            "linecolor": "white",
            "ticks": ""
           },
           "bgcolor": "#E5ECF6",
           "caxis": {
            "gridcolor": "white",
            "linecolor": "white",
            "ticks": ""
           }
          },
          "title": {
           "x": 0.05
          },
          "xaxis": {
           "automargin": true,
           "gridcolor": "white",
           "linecolor": "white",
           "ticks": "",
           "title": {
            "standoff": 15
           },
           "zerolinecolor": "white",
           "zerolinewidth": 2
          },
          "yaxis": {
           "automargin": true,
           "gridcolor": "white",
           "linecolor": "white",
           "ticks": "",
           "title": {
            "standoff": 15
           },
           "zerolinecolor": "white",
           "zerolinewidth": 2
          }
         }
        },
        "title": {
         "font": {
          "color": "#4D5663"
         }
        },
        "xaxis": {
         "gridcolor": "#E1E5ED",
         "showgrid": true,
         "tickfont": {
          "color": "#4D5663"
         },
         "title": {
          "font": {
           "color": "#4D5663"
          },
          "text": ""
         },
         "zerolinecolor": "#E1E5ED"
        },
        "yaxis": {
         "gridcolor": "#E1E5ED",
         "showgrid": true,
         "tickfont": {
          "color": "#4D5663"
         },
         "title": {
          "font": {
           "color": "#4D5663"
          },
          "text": ""
         },
         "zerolinecolor": "#E1E5ED"
        }
       }
      },
      "text/html": [
       "<div>                            <div id=\"abfdc84a-dbcd-442a-a113-f10f04812d01\" class=\"plotly-graph-div\" style=\"height:525px; width:100%;\"></div>            <script type=\"text/javascript\">                require([\"plotly\"], function(Plotly) {                    window.PLOTLYENV=window.PLOTLYENV || {};\n",
       "                    window.PLOTLYENV.BASE_URL='https://plot.ly';                                    if (document.getElementById(\"abfdc84a-dbcd-442a-a113-f10f04812d01\")) {                    Plotly.newPlot(                        \"abfdc84a-dbcd-442a-a113-f10f04812d01\",                        [{\"marker\":{\"color\":\"rgba(255, 153, 51, 0.6)\",\"line\":{\"color\":\"rgba(255, 153, 51, 1.0)\",\"width\":1}},\"name\":\"None\",\"orientation\":\"v\",\"text\":\"\",\"x\":[\"A\",\"B\",\"C\",\"D\"],\"y\":[0.3061288335696235,16.626546833286344,7.516467781490948,-8.059448648345748],\"type\":\"bar\"}],                        {\"legend\":{\"bgcolor\":\"#F5F6F9\",\"font\":{\"color\":\"#4D5663\"}},\"paper_bgcolor\":\"#F5F6F9\",\"plot_bgcolor\":\"#F5F6F9\",\"template\":{\"data\":{\"barpolar\":[{\"marker\":{\"line\":{\"color\":\"#E5ECF6\",\"width\":0.5},\"pattern\":{\"fillmode\":\"overlay\",\"size\":10,\"solidity\":0.2}},\"type\":\"barpolar\"}],\"bar\":[{\"error_x\":{\"color\":\"#2a3f5f\"},\"error_y\":{\"color\":\"#2a3f5f\"},\"marker\":{\"line\":{\"color\":\"#E5ECF6\",\"width\":0.5},\"pattern\":{\"fillmode\":\"overlay\",\"size\":10,\"solidity\":0.2}},\"type\":\"bar\"}],\"carpet\":[{\"aaxis\":{\"endlinecolor\":\"#2a3f5f\",\"gridcolor\":\"white\",\"linecolor\":\"white\",\"minorgridcolor\":\"white\",\"startlinecolor\":\"#2a3f5f\"},\"baxis\":{\"endlinecolor\":\"#2a3f5f\",\"gridcolor\":\"white\",\"linecolor\":\"white\",\"minorgridcolor\":\"white\",\"startlinecolor\":\"#2a3f5f\"},\"type\":\"carpet\"}],\"choropleth\":[{\"colorbar\":{\"outlinewidth\":0,\"ticks\":\"\"},\"type\":\"choropleth\"}],\"contourcarpet\":[{\"colorbar\":{\"outlinewidth\":0,\"ticks\":\"\"},\"type\":\"contourcarpet\"}],\"contour\":[{\"colorbar\":{\"outlinewidth\":0,\"ticks\":\"\"},\"colorscale\":[[0.0,\"#0d0887\"],[0.1111111111111111,\"#46039f\"],[0.2222222222222222,\"#7201a8\"],[0.3333333333333333,\"#9c179e\"],[0.4444444444444444,\"#bd3786\"],[0.5555555555555556,\"#d8576b\"],[0.6666666666666666,\"#ed7953\"],[0.7777777777777778,\"#fb9f3a\"],[0.8888888888888888,\"#fdca26\"],[1.0,\"#f0f921\"]],\"type\":\"contour\"}],\"heatmapgl\":[{\"colorbar\":{\"outlinewidth\":0,\"ticks\":\"\"},\"colorscale\":[[0.0,\"#0d0887\"],[0.1111111111111111,\"#46039f\"],[0.2222222222222222,\"#7201a8\"],[0.3333333333333333,\"#9c179e\"],[0.4444444444444444,\"#bd3786\"],[0.5555555555555556,\"#d8576b\"],[0.6666666666666666,\"#ed7953\"],[0.7777777777777778,\"#fb9f3a\"],[0.8888888888888888,\"#fdca26\"],[1.0,\"#f0f921\"]],\"type\":\"heatmapgl\"}],\"heatmap\":[{\"colorbar\":{\"outlinewidth\":0,\"ticks\":\"\"},\"colorscale\":[[0.0,\"#0d0887\"],[0.1111111111111111,\"#46039f\"],[0.2222222222222222,\"#7201a8\"],[0.3333333333333333,\"#9c179e\"],[0.4444444444444444,\"#bd3786\"],[0.5555555555555556,\"#d8576b\"],[0.6666666666666666,\"#ed7953\"],[0.7777777777777778,\"#fb9f3a\"],[0.8888888888888888,\"#fdca26\"],[1.0,\"#f0f921\"]],\"type\":\"heatmap\"}],\"histogram2dcontour\":[{\"colorbar\":{\"outlinewidth\":0,\"ticks\":\"\"},\"colorscale\":[[0.0,\"#0d0887\"],[0.1111111111111111,\"#46039f\"],[0.2222222222222222,\"#7201a8\"],[0.3333333333333333,\"#9c179e\"],[0.4444444444444444,\"#bd3786\"],[0.5555555555555556,\"#d8576b\"],[0.6666666666666666,\"#ed7953\"],[0.7777777777777778,\"#fb9f3a\"],[0.8888888888888888,\"#fdca26\"],[1.0,\"#f0f921\"]],\"type\":\"histogram2dcontour\"}],\"histogram2d\":[{\"colorbar\":{\"outlinewidth\":0,\"ticks\":\"\"},\"colorscale\":[[0.0,\"#0d0887\"],[0.1111111111111111,\"#46039f\"],[0.2222222222222222,\"#7201a8\"],[0.3333333333333333,\"#9c179e\"],[0.4444444444444444,\"#bd3786\"],[0.5555555555555556,\"#d8576b\"],[0.6666666666666666,\"#ed7953\"],[0.7777777777777778,\"#fb9f3a\"],[0.8888888888888888,\"#fdca26\"],[1.0,\"#f0f921\"]],\"type\":\"histogram2d\"}],\"histogram\":[{\"marker\":{\"pattern\":{\"fillmode\":\"overlay\",\"size\":10,\"solidity\":0.2}},\"type\":\"histogram\"}],\"mesh3d\":[{\"colorbar\":{\"outlinewidth\":0,\"ticks\":\"\"},\"type\":\"mesh3d\"}],\"parcoords\":[{\"line\":{\"colorbar\":{\"outlinewidth\":0,\"ticks\":\"\"}},\"type\":\"parcoords\"}],\"pie\":[{\"automargin\":true,\"type\":\"pie\"}],\"scatter3d\":[{\"line\":{\"colorbar\":{\"outlinewidth\":0,\"ticks\":\"\"}},\"marker\":{\"colorbar\":{\"outlinewidth\":0,\"ticks\":\"\"}},\"type\":\"scatter3d\"}],\"scattercarpet\":[{\"marker\":{\"colorbar\":{\"outlinewidth\":0,\"ticks\":\"\"}},\"type\":\"scattercarpet\"}],\"scattergeo\":[{\"marker\":{\"colorbar\":{\"outlinewidth\":0,\"ticks\":\"\"}},\"type\":\"scattergeo\"}],\"scattergl\":[{\"marker\":{\"colorbar\":{\"outlinewidth\":0,\"ticks\":\"\"}},\"type\":\"scattergl\"}],\"scattermapbox\":[{\"marker\":{\"colorbar\":{\"outlinewidth\":0,\"ticks\":\"\"}},\"type\":\"scattermapbox\"}],\"scatterpolargl\":[{\"marker\":{\"colorbar\":{\"outlinewidth\":0,\"ticks\":\"\"}},\"type\":\"scatterpolargl\"}],\"scatterpolar\":[{\"marker\":{\"colorbar\":{\"outlinewidth\":0,\"ticks\":\"\"}},\"type\":\"scatterpolar\"}],\"scatter\":[{\"fillpattern\":{\"fillmode\":\"overlay\",\"size\":10,\"solidity\":0.2},\"type\":\"scatter\"}],\"scatterternary\":[{\"marker\":{\"colorbar\":{\"outlinewidth\":0,\"ticks\":\"\"}},\"type\":\"scatterternary\"}],\"surface\":[{\"colorbar\":{\"outlinewidth\":0,\"ticks\":\"\"},\"colorscale\":[[0.0,\"#0d0887\"],[0.1111111111111111,\"#46039f\"],[0.2222222222222222,\"#7201a8\"],[0.3333333333333333,\"#9c179e\"],[0.4444444444444444,\"#bd3786\"],[0.5555555555555556,\"#d8576b\"],[0.6666666666666666,\"#ed7953\"],[0.7777777777777778,\"#fb9f3a\"],[0.8888888888888888,\"#fdca26\"],[1.0,\"#f0f921\"]],\"type\":\"surface\"}],\"table\":[{\"cells\":{\"fill\":{\"color\":\"#EBF0F8\"},\"line\":{\"color\":\"white\"}},\"header\":{\"fill\":{\"color\":\"#C8D4E3\"},\"line\":{\"color\":\"white\"}},\"type\":\"table\"}]},\"layout\":{\"annotationdefaults\":{\"arrowcolor\":\"#2a3f5f\",\"arrowhead\":0,\"arrowwidth\":1},\"autotypenumbers\":\"strict\",\"coloraxis\":{\"colorbar\":{\"outlinewidth\":0,\"ticks\":\"\"}},\"colorscale\":{\"diverging\":[[0,\"#8e0152\"],[0.1,\"#c51b7d\"],[0.2,\"#de77ae\"],[0.3,\"#f1b6da\"],[0.4,\"#fde0ef\"],[0.5,\"#f7f7f7\"],[0.6,\"#e6f5d0\"],[0.7,\"#b8e186\"],[0.8,\"#7fbc41\"],[0.9,\"#4d9221\"],[1,\"#276419\"]],\"sequential\":[[0.0,\"#0d0887\"],[0.1111111111111111,\"#46039f\"],[0.2222222222222222,\"#7201a8\"],[0.3333333333333333,\"#9c179e\"],[0.4444444444444444,\"#bd3786\"],[0.5555555555555556,\"#d8576b\"],[0.6666666666666666,\"#ed7953\"],[0.7777777777777778,\"#fb9f3a\"],[0.8888888888888888,\"#fdca26\"],[1.0,\"#f0f921\"]],\"sequentialminus\":[[0.0,\"#0d0887\"],[0.1111111111111111,\"#46039f\"],[0.2222222222222222,\"#7201a8\"],[0.3333333333333333,\"#9c179e\"],[0.4444444444444444,\"#bd3786\"],[0.5555555555555556,\"#d8576b\"],[0.6666666666666666,\"#ed7953\"],[0.7777777777777778,\"#fb9f3a\"],[0.8888888888888888,\"#fdca26\"],[1.0,\"#f0f921\"]]},\"colorway\":[\"#636efa\",\"#EF553B\",\"#00cc96\",\"#ab63fa\",\"#FFA15A\",\"#19d3f3\",\"#FF6692\",\"#B6E880\",\"#FF97FF\",\"#FECB52\"],\"font\":{\"color\":\"#2a3f5f\"},\"geo\":{\"bgcolor\":\"white\",\"lakecolor\":\"white\",\"landcolor\":\"#E5ECF6\",\"showlakes\":true,\"showland\":true,\"subunitcolor\":\"white\"},\"hoverlabel\":{\"align\":\"left\"},\"hovermode\":\"closest\",\"mapbox\":{\"style\":\"light\"},\"paper_bgcolor\":\"white\",\"plot_bgcolor\":\"#E5ECF6\",\"polar\":{\"angularaxis\":{\"gridcolor\":\"white\",\"linecolor\":\"white\",\"ticks\":\"\"},\"bgcolor\":\"#E5ECF6\",\"radialaxis\":{\"gridcolor\":\"white\",\"linecolor\":\"white\",\"ticks\":\"\"}},\"scene\":{\"xaxis\":{\"backgroundcolor\":\"#E5ECF6\",\"gridcolor\":\"white\",\"gridwidth\":2,\"linecolor\":\"white\",\"showbackground\":true,\"ticks\":\"\",\"zerolinecolor\":\"white\"},\"yaxis\":{\"backgroundcolor\":\"#E5ECF6\",\"gridcolor\":\"white\",\"gridwidth\":2,\"linecolor\":\"white\",\"showbackground\":true,\"ticks\":\"\",\"zerolinecolor\":\"white\"},\"zaxis\":{\"backgroundcolor\":\"#E5ECF6\",\"gridcolor\":\"white\",\"gridwidth\":2,\"linecolor\":\"white\",\"showbackground\":true,\"ticks\":\"\",\"zerolinecolor\":\"white\"}},\"shapedefaults\":{\"line\":{\"color\":\"#2a3f5f\"}},\"ternary\":{\"aaxis\":{\"gridcolor\":\"white\",\"linecolor\":\"white\",\"ticks\":\"\"},\"baxis\":{\"gridcolor\":\"white\",\"linecolor\":\"white\",\"ticks\":\"\"},\"bgcolor\":\"#E5ECF6\",\"caxis\":{\"gridcolor\":\"white\",\"linecolor\":\"white\",\"ticks\":\"\"}},\"title\":{\"x\":0.05},\"xaxis\":{\"automargin\":true,\"gridcolor\":\"white\",\"linecolor\":\"white\",\"ticks\":\"\",\"title\":{\"standoff\":15},\"zerolinecolor\":\"white\",\"zerolinewidth\":2},\"yaxis\":{\"automargin\":true,\"gridcolor\":\"white\",\"linecolor\":\"white\",\"ticks\":\"\",\"title\":{\"standoff\":15},\"zerolinecolor\":\"white\",\"zerolinewidth\":2}}},\"title\":{\"font\":{\"color\":\"#4D5663\"}},\"xaxis\":{\"gridcolor\":\"#E1E5ED\",\"showgrid\":true,\"tickfont\":{\"color\":\"#4D5663\"},\"title\":{\"font\":{\"color\":\"#4D5663\"},\"text\":\"\"},\"zerolinecolor\":\"#E1E5ED\"},\"yaxis\":{\"gridcolor\":\"#E1E5ED\",\"showgrid\":true,\"tickfont\":{\"color\":\"#4D5663\"},\"title\":{\"font\":{\"color\":\"#4D5663\"},\"text\":\"\"},\"zerolinecolor\":\"#E1E5ED\"}},                        {\"showLink\": true, \"linkText\": \"Export to plot.ly\", \"plotlyServerURL\": \"https://plot.ly\", \"responsive\": true}                    ).then(function(){\n",
       "                            \n",
       "var gd = document.getElementById('abfdc84a-dbcd-442a-a113-f10f04812d01');\n",
       "var x = new MutationObserver(function (mutations, observer) {{\n",
       "        var display = window.getComputedStyle(gd).display;\n",
       "        if (!display || display === 'none') {{\n",
       "            console.log([gd, 'removed!']);\n",
       "            Plotly.purge(gd);\n",
       "            observer.disconnect();\n",
       "        }}\n",
       "}});\n",
       "\n",
       "// Listen for the removal of the full notebook cells\n",
       "var notebookContainer = gd.closest('#notebook-container');\n",
       "if (notebookContainer) {{\n",
       "    x.observe(notebookContainer, {childList: true});\n",
       "}}\n",
       "\n",
       "// Listen for the clearing of the current output cell\n",
       "var outputEl = gd.closest('.output');\n",
       "if (outputEl) {{\n",
       "    x.observe(outputEl, {childList: true});\n",
       "}}\n",
       "\n",
       "                        })                };                });            </script>        </div>"
      ]
     },
     "metadata": {},
     "output_type": "display_data"
    }
   ],
   "source": [
    "df.sum().iplot(kind='bar')"
   ]
  },
  {
   "cell_type": "markdown",
   "id": "a5c51b4a",
   "metadata": {},
   "source": [
    "### Boxplots"
   ]
  },
  {
   "cell_type": "code",
   "execution_count": 20,
   "id": "bd1028c1",
   "metadata": {},
   "outputs": [
    {
     "data": {
      "application/vnd.plotly.v1+json": {
       "config": {
        "linkText": "Export to plot.ly",
        "plotlyServerURL": "https://plot.ly",
        "showLink": true
       },
       "data": [
        {
         "boxpoints": false,
         "line": {
          "width": 1.3
         },
         "marker": {
          "color": "rgba(255, 153, 51, 1.0)"
         },
         "name": "A",
         "orientation": "v",
         "type": "box",
         "y": [
          0.042951484569504976,
          -0.2202853182291732,
          1.1734268801089391,
          -0.242857425217831,
          0.6763938161336688,
          -0.35387111095045287,
          -1.178873015258505,
          -0.9043748575099387,
          1.289961855900039,
          0.4024925419044032,
          0.47478873453097875,
          -1.5599979609496375,
          1.256435413677142,
          -1.0956306989431794,
          -0.4086611258433707,
          -1.3945695346151434,
          0.912962045848968,
          0.30730511387148135,
          -0.1939624564553397,
          1.4671933909894053,
          0.5694254821204012,
          -1.1931505134032656,
          1.5569400206519073,
          2.3296513255577835,
          0.21366883706439055,
          -0.7481852006274928,
          -1.047437879897871,
          -1.5665786547362606,
          -0.4195824696415362,
          0.7356706051151829,
          1.4854953122092205,
          -1.3585448502023059,
          0.6868115836283416,
          -0.8590019761193095,
          -0.3167758916209611,
          -2.5859566581957814,
          1.8802303072579827,
          0.33698592765530255,
          0.24253885461217137,
          -1.0610179368441957,
          0.6063985638659398,
          1.9432087735321149,
          -0.30963188399023234,
          -0.9478546493238559,
          1.6901316294856135,
          -0.9748813666852253,
          1.6306834387604556,
          0.5099483849696402,
          -0.8464325906049034,
          -0.5542596398999922,
          1.5009952174177925,
          -0.1652580228163639,
          0.01163057019334677,
          0.7861976487418677,
          -1.3589873822837037,
          -0.4793132050239744,
          -0.8884327703773046,
          -0.3284322245590626,
          -0.4240280239376068,
          0.22150415379237778,
          0.3881047010647667,
          -0.30205926100025343,
          0.26673438198881094,
          -1.591193149414884,
          0.8778887244884065,
          0.2209150355262721,
          1.0160545227316395,
          0.3491350139623226,
          -0.9537562700624382,
          1.687178900073207,
          0.6711975871514694,
          -0.47100392021657966,
          -0.4796751132677763,
          0.8899899575821433,
          -0.34435673664939204,
          -0.5704311813504567,
          0.17464690363311544,
          -0.7418420309705646,
          -0.6330916545993854,
          -1.5647070071417015,
          0.1292205238573053,
          0.17257583531658205,
          0.5641384665414945,
          -1.2693499109193727,
          1.112215426407947,
          -0.6246175481905369,
          0.6243230099698143,
          -0.5868564679739539,
          -0.38798572600393394,
          -2.2238360986731847,
          0.39483428796649245,
          -1.5128431080727769,
          -0.17054727445722603,
          0.2785807882330337,
          0.12745026931076014,
          0.37528908825820756,
          0.01664120828374138,
          2.7111613412371853,
          0.6852940169202932,
          0.04551068262644309
         ]
        },
        {
         "boxpoints": false,
         "line": {
          "width": 1.3
         },
         "marker": {
          "color": "rgba(55, 128, 191, 1.0)"
         },
         "name": "B",
         "orientation": "v",
         "type": "box",
         "y": [
          0.6192879182170579,
          1.1257981118290274,
          -0.18605348668541802,
          1.68420984422097,
          -0.9102788942172225,
          -0.5202766729357958,
          -0.8997368949419952,
          0.6662772657608717,
          0.35174523740201824,
          0.9641528029440805,
          -0.8653270517802244,
          0.9452732084915756,
          0.47945395129175744,
          -0.4286061172343618,
          -1.2735688440555835,
          0.40889101608737194,
          1.2422571076767783,
          1.4166175858265113,
          -0.5270318815990367,
          -0.800046474269336,
          0.214565407669123,
          -0.55640152527389,
          -0.9114344441458444,
          3.1083979331621663,
          -0.7311112731850965,
          -0.684880342436226,
          0.06274744992688126,
          2.742531672377017,
          -2.133326227684579,
          0.1151137652842412,
          0.7680900451533238,
          -0.5223302478800493,
          0.022174916223067612,
          2.4139818872965506,
          0.21130446301537828,
          -1.0520853313040146,
          -1.7954748202765316,
          -0.9478364870503688,
          0.5588092484146348,
          -0.7601933681171539,
          0.14143501024264124,
          0.27309509504905183,
          -2.427264041980388,
          0.23317620185855684,
          -3.1588073663659517,
          -0.9122905543369599,
          0.6107267009505823,
          -0.23496380499321687,
          0.2941546566425414,
          0.7183125745805514,
          1.070927343340471,
          -1.0193545665580568,
          1.5531729890673478,
          -0.957694030028398,
          1.1727426779104344,
          0.20692751971823767,
          -0.34462607961309055,
          0.6537646309558028,
          2.6435063941444903,
          -0.26984172479330476,
          0.06320591618100005,
          2.9234580741428777,
          0.9283667700362315,
          0.343527795795072,
          -1.6951366429125174,
          0.6105405577363859,
          1.2681520353623972,
          -1.4348732293337862,
          0.036658494980897884,
          0.8311983922247884,
          -0.30313544490508115,
          -0.4189732950197264,
          0.1303538776810748,
          0.5785788369835336,
          0.4081059853116089,
          -0.05183208331726445,
          0.6342275658481765,
          -0.2792889338774161,
          0.06936324222582699,
          0.5281795507084809,
          0.40946299084644944,
          1.3820817269300272,
          0.2347867174176207,
          2.6062135259018873,
          -1.5016377554871971,
          0.6800085010932065,
          -0.021387092292663206,
          1.536948561145858,
          0.7924620306825507,
          1.7553181160764677,
          -0.869180304417114,
          0.709670228343469,
          -0.24003645899926476,
          1.2632533989196815,
          0.019840686964291792,
          -0.7226923963856168,
          0.9000389139195395,
          -0.5072870380033023,
          -0.048363172534944744,
          -0.7864118916761768
         ]
        },
        {
         "boxpoints": false,
         "line": {
          "width": 1.3
         },
         "marker": {
          "color": "rgba(50, 171, 96, 1.0)"
         },
         "name": "C",
         "orientation": "v",
         "type": "box",
         "y": [
          -0.8504629846670366,
          0.3470106660474676,
          -0.947157868453042,
          -1.3753738685210328,
          0.798112475861372,
          -0.07703631274791213,
          1.0081338509405333,
          1.7164031262789414,
          -0.15428419974716925,
          0.7394786809792315,
          -0.29087805351923696,
          -0.5036911983143708,
          0.7783109538359925,
          -0.9144864195606346,
          1.116337266608769,
          0.053086914437842025,
          1.1101169589996904,
          -0.07085129969144484,
          0.040320607319248414,
          0.28456521512565375,
          -0.3051548037600851,
          0.1608256854735454,
          0.5448689042209915,
          0.5130086565826092,
          1.114722787381222,
          -0.03033601069045141,
          0.6077097977908359,
          1.53612369790164,
          -0.5012501672556618,
          -0.6922311374242788,
          -0.030434283930449717,
          -0.7325996923830687,
          1.9560475088120413,
          1.7928012874028676,
          0.5183789488380032,
          -0.06247876335431108,
          0.06631837618682593,
          0.6307445934333602,
          1.5465192727036488,
          0.020633866560363073,
          0.30250193170395867,
          1.6771883503720761,
          -1.366327161291545,
          -0.0176458306245623,
          -0.13534138524280714,
          0.14200842587933715,
          -0.42959470571188285,
          1.0889289527460462,
          -0.5838295739246996,
          0.2784376622727278,
          -1.6055776206589827,
          -0.7583919697249786,
          0.33986581486104167,
          -1.6329635927053063,
          0.14195826962869051,
          0.21904261630627975,
          -0.26870964311125756,
          -2.0344872045157114,
          0.8005427352285261,
          -0.2843127710147637,
          -2.1657093271797088,
          -0.8083818932840517,
          0.27726807561376,
          0.35200537183063185,
          -1.2941715559683442,
          0.8810559886831515,
          -0.6999370839443164,
          0.8026579340017406,
          1.200946185356744,
          -0.2941228811682841,
          2.5698652166863374,
          -0.7179356903023796,
          2.546739037086572,
          0.28897228668584174,
          0.8625860396497803,
          -0.6754435434133842,
          0.6030968163029332,
          1.4328624709910547,
          -0.019837684596422166,
          -0.10896990206263385,
          1.4102348753371692,
          -1.8690520719855694,
          -0.9759947194700561,
          -1.347030914236879,
          -0.00868423520275727,
          0.23550473380153755,
          -0.34338332229913704,
          0.025913405196481814,
          -0.1509748477861139,
          0.023652325265938547,
          -0.9116681818552379,
          0.46001109960251635,
          -0.7266253041278453,
          -0.000713758687759925,
          -0.9616896614161947,
          0.4818779798820858,
          1.429448189634716,
          -0.5211333364859005,
          -1.4718441559943454,
          0.36990748517458355
         ]
        },
        {
         "boxpoints": false,
         "line": {
          "width": 1.3
         },
         "marker": {
          "color": "rgba(128, 0, 128, 1.0)"
         },
         "name": "D",
         "orientation": "v",
         "type": "box",
         "y": [
          0.09810140879192156,
          1.0821585282388269,
          -1.4171248011615019,
          -1.681027934088529,
          -1.5426929836829733,
          0.7832147248858957,
          -0.7026508858544321,
          0.9741928148992898,
          0.7516172349078831,
          -1.0166850884338632,
          -0.8845407757566924,
          -0.8750379369793457,
          1.8736709664082034,
          -0.052899055320985544,
          1.3512178391863716,
          -0.18010450905832964,
          0.5860120402012328,
          -1.3522280442963397,
          -0.06740328278078253,
          1.1079425142104637,
          0.022099086678615883,
          0.8245665325239215,
          -0.3624823520505544,
          0.12363321364733355,
          0.38472994873374255,
          -0.8450571672231768,
          0.015188014417435147,
          0.12010790903890044,
          0.4085443628403387,
          0.7813670689251719,
          -0.47614926783054934,
          1.2185069541003242,
          -0.3010235087835275,
          0.5068742732191456,
          0.2391999745080336,
          -1.3356989501178944,
          -1.8861844520282103,
          -0.4636196529271505,
          0.6563545318345386,
          -0.6220848495485403,
          -0.44705641151759895,
          -1.9309191056949997,
          0.5949001187224799,
          0.03576457859212332,
          -0.2679998578508826,
          -0.2009488318995272,
          0.7938135479115963,
          1.649693641080204,
          -0.32892264026438395,
          -0.7341027023538993,
          -1.1218984959219487,
          -0.16540043889166298,
          -2.2488066605144277,
          0.23737591970941674,
          0.24478357266576542,
          -0.28253293153056036,
          1.006130640980851,
          0.9378984871881437,
          1.088213849894811,
          0.8248437305613723,
          -2.688043702273467,
          -1.7619891255564812,
          -0.33425568490133084,
          -1.2511561057450569,
          -0.07475995985482435,
          0.6930236216468565,
          -1.9890012589837858,
          -0.7495033548258262,
          -0.23767376718480676,
          -0.6017116670533126,
          1.5507489010923925,
          1.0117488474759582,
          -0.032719332652793004,
          -0.27657682862296384,
          -0.9424378950776426,
          -0.35908107751131124,
          1.9205665872236553,
          -0.20557618943903266,
          -1.2366161188207578,
          0.006956169777380158,
          0.308914754920131,
          0.04941829377527631,
          0.6670918623792209,
          -1.8749217552790838,
          -0.06266549513086278,
          -0.6801984634652508,
          1.656176704126538,
          1.5060730196685739,
          0.32600789039124106,
          0.8476973198310992,
          -0.10144457537645299,
          -0.586455108088047,
          0.9279948700124497,
          -0.008768409556187321,
          1.0855785426038398,
          -0.6717157469387206,
          0.6667545705904094,
          0.6459431251440116,
          -1.662539146174201,
          -1.0697674156336698
         ]
        }
       ],
       "layout": {
        "legend": {
         "bgcolor": "#F5F6F9",
         "font": {
          "color": "#4D5663"
         }
        },
        "paper_bgcolor": "#F5F6F9",
        "plot_bgcolor": "#F5F6F9",
        "template": {
         "data": {
          "bar": [
           {
            "error_x": {
             "color": "#2a3f5f"
            },
            "error_y": {
             "color": "#2a3f5f"
            },
            "marker": {
             "line": {
              "color": "#E5ECF6",
              "width": 0.5
             },
             "pattern": {
              "fillmode": "overlay",
              "size": 10,
              "solidity": 0.2
             }
            },
            "type": "bar"
           }
          ],
          "barpolar": [
           {
            "marker": {
             "line": {
              "color": "#E5ECF6",
              "width": 0.5
             },
             "pattern": {
              "fillmode": "overlay",
              "size": 10,
              "solidity": 0.2
             }
            },
            "type": "barpolar"
           }
          ],
          "carpet": [
           {
            "aaxis": {
             "endlinecolor": "#2a3f5f",
             "gridcolor": "white",
             "linecolor": "white",
             "minorgridcolor": "white",
             "startlinecolor": "#2a3f5f"
            },
            "baxis": {
             "endlinecolor": "#2a3f5f",
             "gridcolor": "white",
             "linecolor": "white",
             "minorgridcolor": "white",
             "startlinecolor": "#2a3f5f"
            },
            "type": "carpet"
           }
          ],
          "choropleth": [
           {
            "colorbar": {
             "outlinewidth": 0,
             "ticks": ""
            },
            "type": "choropleth"
           }
          ],
          "contour": [
           {
            "colorbar": {
             "outlinewidth": 0,
             "ticks": ""
            },
            "colorscale": [
             [
              0,
              "#0d0887"
             ],
             [
              0.1111111111111111,
              "#46039f"
             ],
             [
              0.2222222222222222,
              "#7201a8"
             ],
             [
              0.3333333333333333,
              "#9c179e"
             ],
             [
              0.4444444444444444,
              "#bd3786"
             ],
             [
              0.5555555555555556,
              "#d8576b"
             ],
             [
              0.6666666666666666,
              "#ed7953"
             ],
             [
              0.7777777777777778,
              "#fb9f3a"
             ],
             [
              0.8888888888888888,
              "#fdca26"
             ],
             [
              1,
              "#f0f921"
             ]
            ],
            "type": "contour"
           }
          ],
          "contourcarpet": [
           {
            "colorbar": {
             "outlinewidth": 0,
             "ticks": ""
            },
            "type": "contourcarpet"
           }
          ],
          "heatmap": [
           {
            "colorbar": {
             "outlinewidth": 0,
             "ticks": ""
            },
            "colorscale": [
             [
              0,
              "#0d0887"
             ],
             [
              0.1111111111111111,
              "#46039f"
             ],
             [
              0.2222222222222222,
              "#7201a8"
             ],
             [
              0.3333333333333333,
              "#9c179e"
             ],
             [
              0.4444444444444444,
              "#bd3786"
             ],
             [
              0.5555555555555556,
              "#d8576b"
             ],
             [
              0.6666666666666666,
              "#ed7953"
             ],
             [
              0.7777777777777778,
              "#fb9f3a"
             ],
             [
              0.8888888888888888,
              "#fdca26"
             ],
             [
              1,
              "#f0f921"
             ]
            ],
            "type": "heatmap"
           }
          ],
          "heatmapgl": [
           {
            "colorbar": {
             "outlinewidth": 0,
             "ticks": ""
            },
            "colorscale": [
             [
              0,
              "#0d0887"
             ],
             [
              0.1111111111111111,
              "#46039f"
             ],
             [
              0.2222222222222222,
              "#7201a8"
             ],
             [
              0.3333333333333333,
              "#9c179e"
             ],
             [
              0.4444444444444444,
              "#bd3786"
             ],
             [
              0.5555555555555556,
              "#d8576b"
             ],
             [
              0.6666666666666666,
              "#ed7953"
             ],
             [
              0.7777777777777778,
              "#fb9f3a"
             ],
             [
              0.8888888888888888,
              "#fdca26"
             ],
             [
              1,
              "#f0f921"
             ]
            ],
            "type": "heatmapgl"
           }
          ],
          "histogram": [
           {
            "marker": {
             "pattern": {
              "fillmode": "overlay",
              "size": 10,
              "solidity": 0.2
             }
            },
            "type": "histogram"
           }
          ],
          "histogram2d": [
           {
            "colorbar": {
             "outlinewidth": 0,
             "ticks": ""
            },
            "colorscale": [
             [
              0,
              "#0d0887"
             ],
             [
              0.1111111111111111,
              "#46039f"
             ],
             [
              0.2222222222222222,
              "#7201a8"
             ],
             [
              0.3333333333333333,
              "#9c179e"
             ],
             [
              0.4444444444444444,
              "#bd3786"
             ],
             [
              0.5555555555555556,
              "#d8576b"
             ],
             [
              0.6666666666666666,
              "#ed7953"
             ],
             [
              0.7777777777777778,
              "#fb9f3a"
             ],
             [
              0.8888888888888888,
              "#fdca26"
             ],
             [
              1,
              "#f0f921"
             ]
            ],
            "type": "histogram2d"
           }
          ],
          "histogram2dcontour": [
           {
            "colorbar": {
             "outlinewidth": 0,
             "ticks": ""
            },
            "colorscale": [
             [
              0,
              "#0d0887"
             ],
             [
              0.1111111111111111,
              "#46039f"
             ],
             [
              0.2222222222222222,
              "#7201a8"
             ],
             [
              0.3333333333333333,
              "#9c179e"
             ],
             [
              0.4444444444444444,
              "#bd3786"
             ],
             [
              0.5555555555555556,
              "#d8576b"
             ],
             [
              0.6666666666666666,
              "#ed7953"
             ],
             [
              0.7777777777777778,
              "#fb9f3a"
             ],
             [
              0.8888888888888888,
              "#fdca26"
             ],
             [
              1,
              "#f0f921"
             ]
            ],
            "type": "histogram2dcontour"
           }
          ],
          "mesh3d": [
           {
            "colorbar": {
             "outlinewidth": 0,
             "ticks": ""
            },
            "type": "mesh3d"
           }
          ],
          "parcoords": [
           {
            "line": {
             "colorbar": {
              "outlinewidth": 0,
              "ticks": ""
             }
            },
            "type": "parcoords"
           }
          ],
          "pie": [
           {
            "automargin": true,
            "type": "pie"
           }
          ],
          "scatter": [
           {
            "fillpattern": {
             "fillmode": "overlay",
             "size": 10,
             "solidity": 0.2
            },
            "type": "scatter"
           }
          ],
          "scatter3d": [
           {
            "line": {
             "colorbar": {
              "outlinewidth": 0,
              "ticks": ""
             }
            },
            "marker": {
             "colorbar": {
              "outlinewidth": 0,
              "ticks": ""
             }
            },
            "type": "scatter3d"
           }
          ],
          "scattercarpet": [
           {
            "marker": {
             "colorbar": {
              "outlinewidth": 0,
              "ticks": ""
             }
            },
            "type": "scattercarpet"
           }
          ],
          "scattergeo": [
           {
            "marker": {
             "colorbar": {
              "outlinewidth": 0,
              "ticks": ""
             }
            },
            "type": "scattergeo"
           }
          ],
          "scattergl": [
           {
            "marker": {
             "colorbar": {
              "outlinewidth": 0,
              "ticks": ""
             }
            },
            "type": "scattergl"
           }
          ],
          "scattermapbox": [
           {
            "marker": {
             "colorbar": {
              "outlinewidth": 0,
              "ticks": ""
             }
            },
            "type": "scattermapbox"
           }
          ],
          "scatterpolar": [
           {
            "marker": {
             "colorbar": {
              "outlinewidth": 0,
              "ticks": ""
             }
            },
            "type": "scatterpolar"
           }
          ],
          "scatterpolargl": [
           {
            "marker": {
             "colorbar": {
              "outlinewidth": 0,
              "ticks": ""
             }
            },
            "type": "scatterpolargl"
           }
          ],
          "scatterternary": [
           {
            "marker": {
             "colorbar": {
              "outlinewidth": 0,
              "ticks": ""
             }
            },
            "type": "scatterternary"
           }
          ],
          "surface": [
           {
            "colorbar": {
             "outlinewidth": 0,
             "ticks": ""
            },
            "colorscale": [
             [
              0,
              "#0d0887"
             ],
             [
              0.1111111111111111,
              "#46039f"
             ],
             [
              0.2222222222222222,
              "#7201a8"
             ],
             [
              0.3333333333333333,
              "#9c179e"
             ],
             [
              0.4444444444444444,
              "#bd3786"
             ],
             [
              0.5555555555555556,
              "#d8576b"
             ],
             [
              0.6666666666666666,
              "#ed7953"
             ],
             [
              0.7777777777777778,
              "#fb9f3a"
             ],
             [
              0.8888888888888888,
              "#fdca26"
             ],
             [
              1,
              "#f0f921"
             ]
            ],
            "type": "surface"
           }
          ],
          "table": [
           {
            "cells": {
             "fill": {
              "color": "#EBF0F8"
             },
             "line": {
              "color": "white"
             }
            },
            "header": {
             "fill": {
              "color": "#C8D4E3"
             },
             "line": {
              "color": "white"
             }
            },
            "type": "table"
           }
          ]
         },
         "layout": {
          "annotationdefaults": {
           "arrowcolor": "#2a3f5f",
           "arrowhead": 0,
           "arrowwidth": 1
          },
          "autotypenumbers": "strict",
          "coloraxis": {
           "colorbar": {
            "outlinewidth": 0,
            "ticks": ""
           }
          },
          "colorscale": {
           "diverging": [
            [
             0,
             "#8e0152"
            ],
            [
             0.1,
             "#c51b7d"
            ],
            [
             0.2,
             "#de77ae"
            ],
            [
             0.3,
             "#f1b6da"
            ],
            [
             0.4,
             "#fde0ef"
            ],
            [
             0.5,
             "#f7f7f7"
            ],
            [
             0.6,
             "#e6f5d0"
            ],
            [
             0.7,
             "#b8e186"
            ],
            [
             0.8,
             "#7fbc41"
            ],
            [
             0.9,
             "#4d9221"
            ],
            [
             1,
             "#276419"
            ]
           ],
           "sequential": [
            [
             0,
             "#0d0887"
            ],
            [
             0.1111111111111111,
             "#46039f"
            ],
            [
             0.2222222222222222,
             "#7201a8"
            ],
            [
             0.3333333333333333,
             "#9c179e"
            ],
            [
             0.4444444444444444,
             "#bd3786"
            ],
            [
             0.5555555555555556,
             "#d8576b"
            ],
            [
             0.6666666666666666,
             "#ed7953"
            ],
            [
             0.7777777777777778,
             "#fb9f3a"
            ],
            [
             0.8888888888888888,
             "#fdca26"
            ],
            [
             1,
             "#f0f921"
            ]
           ],
           "sequentialminus": [
            [
             0,
             "#0d0887"
            ],
            [
             0.1111111111111111,
             "#46039f"
            ],
            [
             0.2222222222222222,
             "#7201a8"
            ],
            [
             0.3333333333333333,
             "#9c179e"
            ],
            [
             0.4444444444444444,
             "#bd3786"
            ],
            [
             0.5555555555555556,
             "#d8576b"
            ],
            [
             0.6666666666666666,
             "#ed7953"
            ],
            [
             0.7777777777777778,
             "#fb9f3a"
            ],
            [
             0.8888888888888888,
             "#fdca26"
            ],
            [
             1,
             "#f0f921"
            ]
           ]
          },
          "colorway": [
           "#636efa",
           "#EF553B",
           "#00cc96",
           "#ab63fa",
           "#FFA15A",
           "#19d3f3",
           "#FF6692",
           "#B6E880",
           "#FF97FF",
           "#FECB52"
          ],
          "font": {
           "color": "#2a3f5f"
          },
          "geo": {
           "bgcolor": "white",
           "lakecolor": "white",
           "landcolor": "#E5ECF6",
           "showlakes": true,
           "showland": true,
           "subunitcolor": "white"
          },
          "hoverlabel": {
           "align": "left"
          },
          "hovermode": "closest",
          "mapbox": {
           "style": "light"
          },
          "paper_bgcolor": "white",
          "plot_bgcolor": "#E5ECF6",
          "polar": {
           "angularaxis": {
            "gridcolor": "white",
            "linecolor": "white",
            "ticks": ""
           },
           "bgcolor": "#E5ECF6",
           "radialaxis": {
            "gridcolor": "white",
            "linecolor": "white",
            "ticks": ""
           }
          },
          "scene": {
           "xaxis": {
            "backgroundcolor": "#E5ECF6",
            "gridcolor": "white",
            "gridwidth": 2,
            "linecolor": "white",
            "showbackground": true,
            "ticks": "",
            "zerolinecolor": "white"
           },
           "yaxis": {
            "backgroundcolor": "#E5ECF6",
            "gridcolor": "white",
            "gridwidth": 2,
            "linecolor": "white",
            "showbackground": true,
            "ticks": "",
            "zerolinecolor": "white"
           },
           "zaxis": {
            "backgroundcolor": "#E5ECF6",
            "gridcolor": "white",
            "gridwidth": 2,
            "linecolor": "white",
            "showbackground": true,
            "ticks": "",
            "zerolinecolor": "white"
           }
          },
          "shapedefaults": {
           "line": {
            "color": "#2a3f5f"
           }
          },
          "ternary": {
           "aaxis": {
            "gridcolor": "white",
            "linecolor": "white",
            "ticks": ""
           },
           "baxis": {
            "gridcolor": "white",
            "linecolor": "white",
            "ticks": ""
           },
           "bgcolor": "#E5ECF6",
           "caxis": {
            "gridcolor": "white",
            "linecolor": "white",
            "ticks": ""
           }
          },
          "title": {
           "x": 0.05
          },
          "xaxis": {
           "automargin": true,
           "gridcolor": "white",
           "linecolor": "white",
           "ticks": "",
           "title": {
            "standoff": 15
           },
           "zerolinecolor": "white",
           "zerolinewidth": 2
          },
          "yaxis": {
           "automargin": true,
           "gridcolor": "white",
           "linecolor": "white",
           "ticks": "",
           "title": {
            "standoff": 15
           },
           "zerolinecolor": "white",
           "zerolinewidth": 2
          }
         }
        },
        "title": {
         "font": {
          "color": "#4D5663"
         }
        },
        "xaxis": {
         "gridcolor": "#E1E5ED",
         "showgrid": true,
         "tickfont": {
          "color": "#4D5663"
         },
         "title": {
          "font": {
           "color": "#4D5663"
          },
          "text": ""
         },
         "zerolinecolor": "#E1E5ED"
        },
        "yaxis": {
         "gridcolor": "#E1E5ED",
         "showgrid": true,
         "tickfont": {
          "color": "#4D5663"
         },
         "title": {
          "font": {
           "color": "#4D5663"
          },
          "text": ""
         },
         "zerolinecolor": "#E1E5ED"
        }
       }
      },
      "text/html": [
       "<div>                            <div id=\"2eee4f8b-b870-43c7-a47f-a2181c6a5029\" class=\"plotly-graph-div\" style=\"height:525px; width:100%;\"></div>            <script type=\"text/javascript\">                require([\"plotly\"], function(Plotly) {                    window.PLOTLYENV=window.PLOTLYENV || {};\n",
       "                    window.PLOTLYENV.BASE_URL='https://plot.ly';                                    if (document.getElementById(\"2eee4f8b-b870-43c7-a47f-a2181c6a5029\")) {                    Plotly.newPlot(                        \"2eee4f8b-b870-43c7-a47f-a2181c6a5029\",                        [{\"boxpoints\":false,\"line\":{\"width\":1.3},\"marker\":{\"color\":\"rgba(255, 153, 51, 1.0)\"},\"name\":\"A\",\"orientation\":\"v\",\"y\":[0.042951484569504976,-0.2202853182291732,1.1734268801089391,-0.242857425217831,0.6763938161336688,-0.35387111095045287,-1.178873015258505,-0.9043748575099387,1.289961855900039,0.4024925419044032,0.47478873453097875,-1.5599979609496375,1.256435413677142,-1.0956306989431794,-0.4086611258433707,-1.3945695346151434,0.912962045848968,0.30730511387148135,-0.1939624564553397,1.4671933909894053,0.5694254821204012,-1.1931505134032656,1.5569400206519073,2.3296513255577835,0.21366883706439055,-0.7481852006274928,-1.047437879897871,-1.5665786547362606,-0.4195824696415362,0.7356706051151829,1.4854953122092205,-1.3585448502023059,0.6868115836283416,-0.8590019761193095,-0.3167758916209611,-2.5859566581957814,1.8802303072579827,0.33698592765530255,0.24253885461217137,-1.0610179368441957,0.6063985638659398,1.9432087735321149,-0.30963188399023234,-0.9478546493238559,1.6901316294856135,-0.9748813666852253,1.6306834387604556,0.5099483849696402,-0.8464325906049034,-0.5542596398999922,1.5009952174177925,-0.1652580228163639,0.01163057019334677,0.7861976487418677,-1.3589873822837037,-0.4793132050239744,-0.8884327703773046,-0.3284322245590626,-0.4240280239376068,0.22150415379237778,0.3881047010647667,-0.30205926100025343,0.26673438198881094,-1.591193149414884,0.8778887244884065,0.2209150355262721,1.0160545227316395,0.3491350139623226,-0.9537562700624382,1.687178900073207,0.6711975871514694,-0.47100392021657966,-0.4796751132677763,0.8899899575821433,-0.34435673664939204,-0.5704311813504567,0.17464690363311544,-0.7418420309705646,-0.6330916545993854,-1.5647070071417015,0.1292205238573053,0.17257583531658205,0.5641384665414945,-1.2693499109193727,1.112215426407947,-0.6246175481905369,0.6243230099698143,-0.5868564679739539,-0.38798572600393394,-2.2238360986731847,0.39483428796649245,-1.5128431080727769,-0.17054727445722603,0.2785807882330337,0.12745026931076014,0.37528908825820756,0.01664120828374138,2.7111613412371853,0.6852940169202932,0.04551068262644309],\"type\":\"box\"},{\"boxpoints\":false,\"line\":{\"width\":1.3},\"marker\":{\"color\":\"rgba(55, 128, 191, 1.0)\"},\"name\":\"B\",\"orientation\":\"v\",\"y\":[0.6192879182170579,1.1257981118290274,-0.18605348668541802,1.68420984422097,-0.9102788942172225,-0.5202766729357958,-0.8997368949419952,0.6662772657608717,0.35174523740201824,0.9641528029440805,-0.8653270517802244,0.9452732084915756,0.47945395129175744,-0.4286061172343618,-1.2735688440555835,0.40889101608737194,1.2422571076767783,1.4166175858265113,-0.5270318815990367,-0.800046474269336,0.214565407669123,-0.55640152527389,-0.9114344441458444,3.1083979331621663,-0.7311112731850965,-0.684880342436226,0.06274744992688126,2.742531672377017,-2.133326227684579,0.1151137652842412,0.7680900451533238,-0.5223302478800493,0.022174916223067612,2.4139818872965506,0.21130446301537828,-1.0520853313040146,-1.7954748202765316,-0.9478364870503688,0.5588092484146348,-0.7601933681171539,0.14143501024264124,0.27309509504905183,-2.427264041980388,0.23317620185855684,-3.1588073663659517,-0.9122905543369599,0.6107267009505823,-0.23496380499321687,0.2941546566425414,0.7183125745805514,1.070927343340471,-1.0193545665580568,1.5531729890673478,-0.957694030028398,1.1727426779104344,0.20692751971823767,-0.34462607961309055,0.6537646309558028,2.6435063941444903,-0.26984172479330476,0.06320591618100005,2.9234580741428777,0.9283667700362315,0.343527795795072,-1.6951366429125174,0.6105405577363859,1.2681520353623972,-1.4348732293337862,0.036658494980897884,0.8311983922247884,-0.30313544490508115,-0.4189732950197264,0.1303538776810748,0.5785788369835336,0.4081059853116089,-0.05183208331726445,0.6342275658481765,-0.2792889338774161,0.06936324222582699,0.5281795507084809,0.40946299084644944,1.3820817269300272,0.2347867174176207,2.6062135259018873,-1.5016377554871971,0.6800085010932065,-0.021387092292663206,1.536948561145858,0.7924620306825507,1.7553181160764677,-0.869180304417114,0.709670228343469,-0.24003645899926476,1.2632533989196815,0.019840686964291792,-0.7226923963856168,0.9000389139195395,-0.5072870380033023,-0.048363172534944744,-0.7864118916761768],\"type\":\"box\"},{\"boxpoints\":false,\"line\":{\"width\":1.3},\"marker\":{\"color\":\"rgba(50, 171, 96, 1.0)\"},\"name\":\"C\",\"orientation\":\"v\",\"y\":[-0.8504629846670366,0.3470106660474676,-0.947157868453042,-1.3753738685210328,0.798112475861372,-0.07703631274791213,1.0081338509405333,1.7164031262789414,-0.15428419974716925,0.7394786809792315,-0.29087805351923696,-0.5036911983143708,0.7783109538359925,-0.9144864195606346,1.116337266608769,0.053086914437842025,1.1101169589996904,-0.07085129969144484,0.040320607319248414,0.28456521512565375,-0.3051548037600851,0.1608256854735454,0.5448689042209915,0.5130086565826092,1.114722787381222,-0.03033601069045141,0.6077097977908359,1.53612369790164,-0.5012501672556618,-0.6922311374242788,-0.030434283930449717,-0.7325996923830687,1.9560475088120413,1.7928012874028676,0.5183789488380032,-0.06247876335431108,0.06631837618682593,0.6307445934333602,1.5465192727036488,0.020633866560363073,0.30250193170395867,1.6771883503720761,-1.366327161291545,-0.0176458306245623,-0.13534138524280714,0.14200842587933715,-0.42959470571188285,1.0889289527460462,-0.5838295739246996,0.2784376622727278,-1.6055776206589827,-0.7583919697249786,0.33986581486104167,-1.6329635927053063,0.14195826962869051,0.21904261630627975,-0.26870964311125756,-2.0344872045157114,0.8005427352285261,-0.2843127710147637,-2.1657093271797088,-0.8083818932840517,0.27726807561376,0.35200537183063185,-1.2941715559683442,0.8810559886831515,-0.6999370839443164,0.8026579340017406,1.200946185356744,-0.2941228811682841,2.5698652166863374,-0.7179356903023796,2.546739037086572,0.28897228668584174,0.8625860396497803,-0.6754435434133842,0.6030968163029332,1.4328624709910547,-0.019837684596422166,-0.10896990206263385,1.4102348753371692,-1.8690520719855694,-0.9759947194700561,-1.347030914236879,-0.00868423520275727,0.23550473380153755,-0.34338332229913704,0.025913405196481814,-0.1509748477861139,0.023652325265938547,-0.9116681818552379,0.46001109960251635,-0.7266253041278453,-0.000713758687759925,-0.9616896614161947,0.4818779798820858,1.429448189634716,-0.5211333364859005,-1.4718441559943454,0.36990748517458355],\"type\":\"box\"},{\"boxpoints\":false,\"line\":{\"width\":1.3},\"marker\":{\"color\":\"rgba(128, 0, 128, 1.0)\"},\"name\":\"D\",\"orientation\":\"v\",\"y\":[0.09810140879192156,1.0821585282388269,-1.4171248011615019,-1.681027934088529,-1.5426929836829733,0.7832147248858957,-0.7026508858544321,0.9741928148992898,0.7516172349078831,-1.0166850884338632,-0.8845407757566924,-0.8750379369793457,1.8736709664082034,-0.052899055320985544,1.3512178391863716,-0.18010450905832964,0.5860120402012328,-1.3522280442963397,-0.06740328278078253,1.1079425142104637,0.022099086678615883,0.8245665325239215,-0.3624823520505544,0.12363321364733355,0.38472994873374255,-0.8450571672231768,0.015188014417435147,0.12010790903890044,0.4085443628403387,0.7813670689251719,-0.47614926783054934,1.2185069541003242,-0.3010235087835275,0.5068742732191456,0.2391999745080336,-1.3356989501178944,-1.8861844520282103,-0.4636196529271505,0.6563545318345386,-0.6220848495485403,-0.44705641151759895,-1.9309191056949997,0.5949001187224799,0.03576457859212332,-0.2679998578508826,-0.2009488318995272,0.7938135479115963,1.649693641080204,-0.32892264026438395,-0.7341027023538993,-1.1218984959219487,-0.16540043889166298,-2.2488066605144277,0.23737591970941674,0.24478357266576542,-0.28253293153056036,1.006130640980851,0.9378984871881437,1.088213849894811,0.8248437305613723,-2.688043702273467,-1.7619891255564812,-0.33425568490133084,-1.2511561057450569,-0.07475995985482435,0.6930236216468565,-1.9890012589837858,-0.7495033548258262,-0.23767376718480676,-0.6017116670533126,1.5507489010923925,1.0117488474759582,-0.032719332652793004,-0.27657682862296384,-0.9424378950776426,-0.35908107751131124,1.9205665872236553,-0.20557618943903266,-1.2366161188207578,0.006956169777380158,0.308914754920131,0.04941829377527631,0.6670918623792209,-1.8749217552790838,-0.06266549513086278,-0.6801984634652508,1.656176704126538,1.5060730196685739,0.32600789039124106,0.8476973198310992,-0.10144457537645299,-0.586455108088047,0.9279948700124497,-0.008768409556187321,1.0855785426038398,-0.6717157469387206,0.6667545705904094,0.6459431251440116,-1.662539146174201,-1.0697674156336698],\"type\":\"box\"}],                        {\"legend\":{\"bgcolor\":\"#F5F6F9\",\"font\":{\"color\":\"#4D5663\"}},\"paper_bgcolor\":\"#F5F6F9\",\"plot_bgcolor\":\"#F5F6F9\",\"template\":{\"data\":{\"barpolar\":[{\"marker\":{\"line\":{\"color\":\"#E5ECF6\",\"width\":0.5},\"pattern\":{\"fillmode\":\"overlay\",\"size\":10,\"solidity\":0.2}},\"type\":\"barpolar\"}],\"bar\":[{\"error_x\":{\"color\":\"#2a3f5f\"},\"error_y\":{\"color\":\"#2a3f5f\"},\"marker\":{\"line\":{\"color\":\"#E5ECF6\",\"width\":0.5},\"pattern\":{\"fillmode\":\"overlay\",\"size\":10,\"solidity\":0.2}},\"type\":\"bar\"}],\"carpet\":[{\"aaxis\":{\"endlinecolor\":\"#2a3f5f\",\"gridcolor\":\"white\",\"linecolor\":\"white\",\"minorgridcolor\":\"white\",\"startlinecolor\":\"#2a3f5f\"},\"baxis\":{\"endlinecolor\":\"#2a3f5f\",\"gridcolor\":\"white\",\"linecolor\":\"white\",\"minorgridcolor\":\"white\",\"startlinecolor\":\"#2a3f5f\"},\"type\":\"carpet\"}],\"choropleth\":[{\"colorbar\":{\"outlinewidth\":0,\"ticks\":\"\"},\"type\":\"choropleth\"}],\"contourcarpet\":[{\"colorbar\":{\"outlinewidth\":0,\"ticks\":\"\"},\"type\":\"contourcarpet\"}],\"contour\":[{\"colorbar\":{\"outlinewidth\":0,\"ticks\":\"\"},\"colorscale\":[[0.0,\"#0d0887\"],[0.1111111111111111,\"#46039f\"],[0.2222222222222222,\"#7201a8\"],[0.3333333333333333,\"#9c179e\"],[0.4444444444444444,\"#bd3786\"],[0.5555555555555556,\"#d8576b\"],[0.6666666666666666,\"#ed7953\"],[0.7777777777777778,\"#fb9f3a\"],[0.8888888888888888,\"#fdca26\"],[1.0,\"#f0f921\"]],\"type\":\"contour\"}],\"heatmapgl\":[{\"colorbar\":{\"outlinewidth\":0,\"ticks\":\"\"},\"colorscale\":[[0.0,\"#0d0887\"],[0.1111111111111111,\"#46039f\"],[0.2222222222222222,\"#7201a8\"],[0.3333333333333333,\"#9c179e\"],[0.4444444444444444,\"#bd3786\"],[0.5555555555555556,\"#d8576b\"],[0.6666666666666666,\"#ed7953\"],[0.7777777777777778,\"#fb9f3a\"],[0.8888888888888888,\"#fdca26\"],[1.0,\"#f0f921\"]],\"type\":\"heatmapgl\"}],\"heatmap\":[{\"colorbar\":{\"outlinewidth\":0,\"ticks\":\"\"},\"colorscale\":[[0.0,\"#0d0887\"],[0.1111111111111111,\"#46039f\"],[0.2222222222222222,\"#7201a8\"],[0.3333333333333333,\"#9c179e\"],[0.4444444444444444,\"#bd3786\"],[0.5555555555555556,\"#d8576b\"],[0.6666666666666666,\"#ed7953\"],[0.7777777777777778,\"#fb9f3a\"],[0.8888888888888888,\"#fdca26\"],[1.0,\"#f0f921\"]],\"type\":\"heatmap\"}],\"histogram2dcontour\":[{\"colorbar\":{\"outlinewidth\":0,\"ticks\":\"\"},\"colorscale\":[[0.0,\"#0d0887\"],[0.1111111111111111,\"#46039f\"],[0.2222222222222222,\"#7201a8\"],[0.3333333333333333,\"#9c179e\"],[0.4444444444444444,\"#bd3786\"],[0.5555555555555556,\"#d8576b\"],[0.6666666666666666,\"#ed7953\"],[0.7777777777777778,\"#fb9f3a\"],[0.8888888888888888,\"#fdca26\"],[1.0,\"#f0f921\"]],\"type\":\"histogram2dcontour\"}],\"histogram2d\":[{\"colorbar\":{\"outlinewidth\":0,\"ticks\":\"\"},\"colorscale\":[[0.0,\"#0d0887\"],[0.1111111111111111,\"#46039f\"],[0.2222222222222222,\"#7201a8\"],[0.3333333333333333,\"#9c179e\"],[0.4444444444444444,\"#bd3786\"],[0.5555555555555556,\"#d8576b\"],[0.6666666666666666,\"#ed7953\"],[0.7777777777777778,\"#fb9f3a\"],[0.8888888888888888,\"#fdca26\"],[1.0,\"#f0f921\"]],\"type\":\"histogram2d\"}],\"histogram\":[{\"marker\":{\"pattern\":{\"fillmode\":\"overlay\",\"size\":10,\"solidity\":0.2}},\"type\":\"histogram\"}],\"mesh3d\":[{\"colorbar\":{\"outlinewidth\":0,\"ticks\":\"\"},\"type\":\"mesh3d\"}],\"parcoords\":[{\"line\":{\"colorbar\":{\"outlinewidth\":0,\"ticks\":\"\"}},\"type\":\"parcoords\"}],\"pie\":[{\"automargin\":true,\"type\":\"pie\"}],\"scatter3d\":[{\"line\":{\"colorbar\":{\"outlinewidth\":0,\"ticks\":\"\"}},\"marker\":{\"colorbar\":{\"outlinewidth\":0,\"ticks\":\"\"}},\"type\":\"scatter3d\"}],\"scattercarpet\":[{\"marker\":{\"colorbar\":{\"outlinewidth\":0,\"ticks\":\"\"}},\"type\":\"scattercarpet\"}],\"scattergeo\":[{\"marker\":{\"colorbar\":{\"outlinewidth\":0,\"ticks\":\"\"}},\"type\":\"scattergeo\"}],\"scattergl\":[{\"marker\":{\"colorbar\":{\"outlinewidth\":0,\"ticks\":\"\"}},\"type\":\"scattergl\"}],\"scattermapbox\":[{\"marker\":{\"colorbar\":{\"outlinewidth\":0,\"ticks\":\"\"}},\"type\":\"scattermapbox\"}],\"scatterpolargl\":[{\"marker\":{\"colorbar\":{\"outlinewidth\":0,\"ticks\":\"\"}},\"type\":\"scatterpolargl\"}],\"scatterpolar\":[{\"marker\":{\"colorbar\":{\"outlinewidth\":0,\"ticks\":\"\"}},\"type\":\"scatterpolar\"}],\"scatter\":[{\"fillpattern\":{\"fillmode\":\"overlay\",\"size\":10,\"solidity\":0.2},\"type\":\"scatter\"}],\"scatterternary\":[{\"marker\":{\"colorbar\":{\"outlinewidth\":0,\"ticks\":\"\"}},\"type\":\"scatterternary\"}],\"surface\":[{\"colorbar\":{\"outlinewidth\":0,\"ticks\":\"\"},\"colorscale\":[[0.0,\"#0d0887\"],[0.1111111111111111,\"#46039f\"],[0.2222222222222222,\"#7201a8\"],[0.3333333333333333,\"#9c179e\"],[0.4444444444444444,\"#bd3786\"],[0.5555555555555556,\"#d8576b\"],[0.6666666666666666,\"#ed7953\"],[0.7777777777777778,\"#fb9f3a\"],[0.8888888888888888,\"#fdca26\"],[1.0,\"#f0f921\"]],\"type\":\"surface\"}],\"table\":[{\"cells\":{\"fill\":{\"color\":\"#EBF0F8\"},\"line\":{\"color\":\"white\"}},\"header\":{\"fill\":{\"color\":\"#C8D4E3\"},\"line\":{\"color\":\"white\"}},\"type\":\"table\"}]},\"layout\":{\"annotationdefaults\":{\"arrowcolor\":\"#2a3f5f\",\"arrowhead\":0,\"arrowwidth\":1},\"autotypenumbers\":\"strict\",\"coloraxis\":{\"colorbar\":{\"outlinewidth\":0,\"ticks\":\"\"}},\"colorscale\":{\"diverging\":[[0,\"#8e0152\"],[0.1,\"#c51b7d\"],[0.2,\"#de77ae\"],[0.3,\"#f1b6da\"],[0.4,\"#fde0ef\"],[0.5,\"#f7f7f7\"],[0.6,\"#e6f5d0\"],[0.7,\"#b8e186\"],[0.8,\"#7fbc41\"],[0.9,\"#4d9221\"],[1,\"#276419\"]],\"sequential\":[[0.0,\"#0d0887\"],[0.1111111111111111,\"#46039f\"],[0.2222222222222222,\"#7201a8\"],[0.3333333333333333,\"#9c179e\"],[0.4444444444444444,\"#bd3786\"],[0.5555555555555556,\"#d8576b\"],[0.6666666666666666,\"#ed7953\"],[0.7777777777777778,\"#fb9f3a\"],[0.8888888888888888,\"#fdca26\"],[1.0,\"#f0f921\"]],\"sequentialminus\":[[0.0,\"#0d0887\"],[0.1111111111111111,\"#46039f\"],[0.2222222222222222,\"#7201a8\"],[0.3333333333333333,\"#9c179e\"],[0.4444444444444444,\"#bd3786\"],[0.5555555555555556,\"#d8576b\"],[0.6666666666666666,\"#ed7953\"],[0.7777777777777778,\"#fb9f3a\"],[0.8888888888888888,\"#fdca26\"],[1.0,\"#f0f921\"]]},\"colorway\":[\"#636efa\",\"#EF553B\",\"#00cc96\",\"#ab63fa\",\"#FFA15A\",\"#19d3f3\",\"#FF6692\",\"#B6E880\",\"#FF97FF\",\"#FECB52\"],\"font\":{\"color\":\"#2a3f5f\"},\"geo\":{\"bgcolor\":\"white\",\"lakecolor\":\"white\",\"landcolor\":\"#E5ECF6\",\"showlakes\":true,\"showland\":true,\"subunitcolor\":\"white\"},\"hoverlabel\":{\"align\":\"left\"},\"hovermode\":\"closest\",\"mapbox\":{\"style\":\"light\"},\"paper_bgcolor\":\"white\",\"plot_bgcolor\":\"#E5ECF6\",\"polar\":{\"angularaxis\":{\"gridcolor\":\"white\",\"linecolor\":\"white\",\"ticks\":\"\"},\"bgcolor\":\"#E5ECF6\",\"radialaxis\":{\"gridcolor\":\"white\",\"linecolor\":\"white\",\"ticks\":\"\"}},\"scene\":{\"xaxis\":{\"backgroundcolor\":\"#E5ECF6\",\"gridcolor\":\"white\",\"gridwidth\":2,\"linecolor\":\"white\",\"showbackground\":true,\"ticks\":\"\",\"zerolinecolor\":\"white\"},\"yaxis\":{\"backgroundcolor\":\"#E5ECF6\",\"gridcolor\":\"white\",\"gridwidth\":2,\"linecolor\":\"white\",\"showbackground\":true,\"ticks\":\"\",\"zerolinecolor\":\"white\"},\"zaxis\":{\"backgroundcolor\":\"#E5ECF6\",\"gridcolor\":\"white\",\"gridwidth\":2,\"linecolor\":\"white\",\"showbackground\":true,\"ticks\":\"\",\"zerolinecolor\":\"white\"}},\"shapedefaults\":{\"line\":{\"color\":\"#2a3f5f\"}},\"ternary\":{\"aaxis\":{\"gridcolor\":\"white\",\"linecolor\":\"white\",\"ticks\":\"\"},\"baxis\":{\"gridcolor\":\"white\",\"linecolor\":\"white\",\"ticks\":\"\"},\"bgcolor\":\"#E5ECF6\",\"caxis\":{\"gridcolor\":\"white\",\"linecolor\":\"white\",\"ticks\":\"\"}},\"title\":{\"x\":0.05},\"xaxis\":{\"automargin\":true,\"gridcolor\":\"white\",\"linecolor\":\"white\",\"ticks\":\"\",\"title\":{\"standoff\":15},\"zerolinecolor\":\"white\",\"zerolinewidth\":2},\"yaxis\":{\"automargin\":true,\"gridcolor\":\"white\",\"linecolor\":\"white\",\"ticks\":\"\",\"title\":{\"standoff\":15},\"zerolinecolor\":\"white\",\"zerolinewidth\":2}}},\"title\":{\"font\":{\"color\":\"#4D5663\"}},\"xaxis\":{\"gridcolor\":\"#E1E5ED\",\"showgrid\":true,\"tickfont\":{\"color\":\"#4D5663\"},\"title\":{\"font\":{\"color\":\"#4D5663\"},\"text\":\"\"},\"zerolinecolor\":\"#E1E5ED\"},\"yaxis\":{\"gridcolor\":\"#E1E5ED\",\"showgrid\":true,\"tickfont\":{\"color\":\"#4D5663\"},\"title\":{\"font\":{\"color\":\"#4D5663\"},\"text\":\"\"},\"zerolinecolor\":\"#E1E5ED\"}},                        {\"showLink\": true, \"linkText\": \"Export to plot.ly\", \"plotlyServerURL\": \"https://plot.ly\", \"responsive\": true}                    ).then(function(){\n",
       "                            \n",
       "var gd = document.getElementById('2eee4f8b-b870-43c7-a47f-a2181c6a5029');\n",
       "var x = new MutationObserver(function (mutations, observer) {{\n",
       "        var display = window.getComputedStyle(gd).display;\n",
       "        if (!display || display === 'none') {{\n",
       "            console.log([gd, 'removed!']);\n",
       "            Plotly.purge(gd);\n",
       "            observer.disconnect();\n",
       "        }}\n",
       "}});\n",
       "\n",
       "// Listen for the removal of the full notebook cells\n",
       "var notebookContainer = gd.closest('#notebook-container');\n",
       "if (notebookContainer) {{\n",
       "    x.observe(notebookContainer, {childList: true});\n",
       "}}\n",
       "\n",
       "// Listen for the clearing of the current output cell\n",
       "var outputEl = gd.closest('.output');\n",
       "if (outputEl) {{\n",
       "    x.observe(outputEl, {childList: true});\n",
       "}}\n",
       "\n",
       "                        })                };                });            </script>        </div>"
      ]
     },
     "metadata": {},
     "output_type": "display_data"
    }
   ],
   "source": [
    "df.iplot(kind='box')"
   ]
  },
  {
   "cell_type": "markdown",
   "id": "554a5b39",
   "metadata": {},
   "source": [
    "### 3D Surface Plot"
   ]
  },
  {
   "cell_type": "code",
   "execution_count": 21,
   "id": "31381985",
   "metadata": {},
   "outputs": [],
   "source": [
    "df3 = pd.DataFrame({'X':[1,2,3,4,5], 'Y':[10,20,30,40,50],'Z':[500,400,300,200,100]})"
   ]
  },
  {
   "cell_type": "code",
   "execution_count": 22,
   "id": "5f92b7fc",
   "metadata": {},
   "outputs": [
    {
     "data": {
      "text/html": [
       "<div>\n",
       "<style scoped>\n",
       "    .dataframe tbody tr th:only-of-type {\n",
       "        vertical-align: middle;\n",
       "    }\n",
       "\n",
       "    .dataframe tbody tr th {\n",
       "        vertical-align: top;\n",
       "    }\n",
       "\n",
       "    .dataframe thead th {\n",
       "        text-align: right;\n",
       "    }\n",
       "</style>\n",
       "<table border=\"1\" class=\"dataframe\">\n",
       "  <thead>\n",
       "    <tr style=\"text-align: right;\">\n",
       "      <th></th>\n",
       "      <th>X</th>\n",
       "      <th>Y</th>\n",
       "      <th>Z</th>\n",
       "    </tr>\n",
       "  </thead>\n",
       "  <tbody>\n",
       "    <tr>\n",
       "      <th>0</th>\n",
       "      <td>1</td>\n",
       "      <td>10</td>\n",
       "      <td>500</td>\n",
       "    </tr>\n",
       "    <tr>\n",
       "      <th>1</th>\n",
       "      <td>2</td>\n",
       "      <td>20</td>\n",
       "      <td>400</td>\n",
       "    </tr>\n",
       "    <tr>\n",
       "      <th>2</th>\n",
       "      <td>3</td>\n",
       "      <td>30</td>\n",
       "      <td>300</td>\n",
       "    </tr>\n",
       "    <tr>\n",
       "      <th>3</th>\n",
       "      <td>4</td>\n",
       "      <td>40</td>\n",
       "      <td>200</td>\n",
       "    </tr>\n",
       "    <tr>\n",
       "      <th>4</th>\n",
       "      <td>5</td>\n",
       "      <td>50</td>\n",
       "      <td>100</td>\n",
       "    </tr>\n",
       "  </tbody>\n",
       "</table>\n",
       "</div>"
      ],
      "text/plain": [
       "   X   Y    Z\n",
       "0  1  10  500\n",
       "1  2  20  400\n",
       "2  3  30  300\n",
       "3  4  40  200\n",
       "4  5  50  100"
      ]
     },
     "execution_count": 22,
     "metadata": {},
     "output_type": "execute_result"
    }
   ],
   "source": [
    "df3"
   ]
  },
  {
   "cell_type": "code",
   "execution_count": 23,
   "id": "7e1ee901",
   "metadata": {},
   "outputs": [
    {
     "data": {
      "application/vnd.plotly.v1+json": {
       "config": {
        "linkText": "Export to plot.ly",
        "plotlyServerURL": "https://plot.ly",
        "showLink": true
       },
       "data": [
        {
         "colorscale": [
          [
           0,
           "rgb(255, 153, 51)"
          ],
          [
           0.1111111111111111,
           "rgb(55, 128, 191)"
          ],
          [
           0.2222222222222222,
           "rgb(50, 171, 96)"
          ],
          [
           0.3333333333333333,
           "rgb(128, 0, 128)"
          ],
          [
           0.4444444444444444,
           "rgb(219, 64, 82)"
          ],
          [
           0.5555555555555556,
           "rgb(0, 128, 128)"
          ],
          [
           0.6666666666666666,
           "rgb(255, 255, 51)"
          ],
          [
           0.7777777777777778,
           "rgb(128, 128, 0)"
          ],
          [
           0.8888888888888888,
           "rgb(251, 128, 114)"
          ],
          [
           1,
           "rgb(128, 177, 211)"
          ]
         ],
         "type": "surface",
         "x": [
          0,
          1,
          2,
          3,
          4
         ],
         "y": [
          "X",
          "Y",
          "Z"
         ],
         "z": [
          [
           1,
           2,
           3,
           4,
           5
          ],
          [
           10,
           20,
           30,
           40,
           50
          ],
          [
           500,
           400,
           300,
           200,
           100
          ]
         ]
        }
       ],
       "layout": {
        "legend": {
         "bgcolor": "#F5F6F9",
         "font": {
          "color": "#4D5663"
         }
        },
        "paper_bgcolor": "#F5F6F9",
        "plot_bgcolor": "#F5F6F9",
        "template": {
         "data": {
          "bar": [
           {
            "error_x": {
             "color": "#2a3f5f"
            },
            "error_y": {
             "color": "#2a3f5f"
            },
            "marker": {
             "line": {
              "color": "#E5ECF6",
              "width": 0.5
             },
             "pattern": {
              "fillmode": "overlay",
              "size": 10,
              "solidity": 0.2
             }
            },
            "type": "bar"
           }
          ],
          "barpolar": [
           {
            "marker": {
             "line": {
              "color": "#E5ECF6",
              "width": 0.5
             },
             "pattern": {
              "fillmode": "overlay",
              "size": 10,
              "solidity": 0.2
             }
            },
            "type": "barpolar"
           }
          ],
          "carpet": [
           {
            "aaxis": {
             "endlinecolor": "#2a3f5f",
             "gridcolor": "white",
             "linecolor": "white",
             "minorgridcolor": "white",
             "startlinecolor": "#2a3f5f"
            },
            "baxis": {
             "endlinecolor": "#2a3f5f",
             "gridcolor": "white",
             "linecolor": "white",
             "minorgridcolor": "white",
             "startlinecolor": "#2a3f5f"
            },
            "type": "carpet"
           }
          ],
          "choropleth": [
           {
            "colorbar": {
             "outlinewidth": 0,
             "ticks": ""
            },
            "type": "choropleth"
           }
          ],
          "contour": [
           {
            "colorbar": {
             "outlinewidth": 0,
             "ticks": ""
            },
            "colorscale": [
             [
              0,
              "#0d0887"
             ],
             [
              0.1111111111111111,
              "#46039f"
             ],
             [
              0.2222222222222222,
              "#7201a8"
             ],
             [
              0.3333333333333333,
              "#9c179e"
             ],
             [
              0.4444444444444444,
              "#bd3786"
             ],
             [
              0.5555555555555556,
              "#d8576b"
             ],
             [
              0.6666666666666666,
              "#ed7953"
             ],
             [
              0.7777777777777778,
              "#fb9f3a"
             ],
             [
              0.8888888888888888,
              "#fdca26"
             ],
             [
              1,
              "#f0f921"
             ]
            ],
            "type": "contour"
           }
          ],
          "contourcarpet": [
           {
            "colorbar": {
             "outlinewidth": 0,
             "ticks": ""
            },
            "type": "contourcarpet"
           }
          ],
          "heatmap": [
           {
            "colorbar": {
             "outlinewidth": 0,
             "ticks": ""
            },
            "colorscale": [
             [
              0,
              "#0d0887"
             ],
             [
              0.1111111111111111,
              "#46039f"
             ],
             [
              0.2222222222222222,
              "#7201a8"
             ],
             [
              0.3333333333333333,
              "#9c179e"
             ],
             [
              0.4444444444444444,
              "#bd3786"
             ],
             [
              0.5555555555555556,
              "#d8576b"
             ],
             [
              0.6666666666666666,
              "#ed7953"
             ],
             [
              0.7777777777777778,
              "#fb9f3a"
             ],
             [
              0.8888888888888888,
              "#fdca26"
             ],
             [
              1,
              "#f0f921"
             ]
            ],
            "type": "heatmap"
           }
          ],
          "heatmapgl": [
           {
            "colorbar": {
             "outlinewidth": 0,
             "ticks": ""
            },
            "colorscale": [
             [
              0,
              "#0d0887"
             ],
             [
              0.1111111111111111,
              "#46039f"
             ],
             [
              0.2222222222222222,
              "#7201a8"
             ],
             [
              0.3333333333333333,
              "#9c179e"
             ],
             [
              0.4444444444444444,
              "#bd3786"
             ],
             [
              0.5555555555555556,
              "#d8576b"
             ],
             [
              0.6666666666666666,
              "#ed7953"
             ],
             [
              0.7777777777777778,
              "#fb9f3a"
             ],
             [
              0.8888888888888888,
              "#fdca26"
             ],
             [
              1,
              "#f0f921"
             ]
            ],
            "type": "heatmapgl"
           }
          ],
          "histogram": [
           {
            "marker": {
             "pattern": {
              "fillmode": "overlay",
              "size": 10,
              "solidity": 0.2
             }
            },
            "type": "histogram"
           }
          ],
          "histogram2d": [
           {
            "colorbar": {
             "outlinewidth": 0,
             "ticks": ""
            },
            "colorscale": [
             [
              0,
              "#0d0887"
             ],
             [
              0.1111111111111111,
              "#46039f"
             ],
             [
              0.2222222222222222,
              "#7201a8"
             ],
             [
              0.3333333333333333,
              "#9c179e"
             ],
             [
              0.4444444444444444,
              "#bd3786"
             ],
             [
              0.5555555555555556,
              "#d8576b"
             ],
             [
              0.6666666666666666,
              "#ed7953"
             ],
             [
              0.7777777777777778,
              "#fb9f3a"
             ],
             [
              0.8888888888888888,
              "#fdca26"
             ],
             [
              1,
              "#f0f921"
             ]
            ],
            "type": "histogram2d"
           }
          ],
          "histogram2dcontour": [
           {
            "colorbar": {
             "outlinewidth": 0,
             "ticks": ""
            },
            "colorscale": [
             [
              0,
              "#0d0887"
             ],
             [
              0.1111111111111111,
              "#46039f"
             ],
             [
              0.2222222222222222,
              "#7201a8"
             ],
             [
              0.3333333333333333,
              "#9c179e"
             ],
             [
              0.4444444444444444,
              "#bd3786"
             ],
             [
              0.5555555555555556,
              "#d8576b"
             ],
             [
              0.6666666666666666,
              "#ed7953"
             ],
             [
              0.7777777777777778,
              "#fb9f3a"
             ],
             [
              0.8888888888888888,
              "#fdca26"
             ],
             [
              1,
              "#f0f921"
             ]
            ],
            "type": "histogram2dcontour"
           }
          ],
          "mesh3d": [
           {
            "colorbar": {
             "outlinewidth": 0,
             "ticks": ""
            },
            "type": "mesh3d"
           }
          ],
          "parcoords": [
           {
            "line": {
             "colorbar": {
              "outlinewidth": 0,
              "ticks": ""
             }
            },
            "type": "parcoords"
           }
          ],
          "pie": [
           {
            "automargin": true,
            "type": "pie"
           }
          ],
          "scatter": [
           {
            "fillpattern": {
             "fillmode": "overlay",
             "size": 10,
             "solidity": 0.2
            },
            "type": "scatter"
           }
          ],
          "scatter3d": [
           {
            "line": {
             "colorbar": {
              "outlinewidth": 0,
              "ticks": ""
             }
            },
            "marker": {
             "colorbar": {
              "outlinewidth": 0,
              "ticks": ""
             }
            },
            "type": "scatter3d"
           }
          ],
          "scattercarpet": [
           {
            "marker": {
             "colorbar": {
              "outlinewidth": 0,
              "ticks": ""
             }
            },
            "type": "scattercarpet"
           }
          ],
          "scattergeo": [
           {
            "marker": {
             "colorbar": {
              "outlinewidth": 0,
              "ticks": ""
             }
            },
            "type": "scattergeo"
           }
          ],
          "scattergl": [
           {
            "marker": {
             "colorbar": {
              "outlinewidth": 0,
              "ticks": ""
             }
            },
            "type": "scattergl"
           }
          ],
          "scattermapbox": [
           {
            "marker": {
             "colorbar": {
              "outlinewidth": 0,
              "ticks": ""
             }
            },
            "type": "scattermapbox"
           }
          ],
          "scatterpolar": [
           {
            "marker": {
             "colorbar": {
              "outlinewidth": 0,
              "ticks": ""
             }
            },
            "type": "scatterpolar"
           }
          ],
          "scatterpolargl": [
           {
            "marker": {
             "colorbar": {
              "outlinewidth": 0,
              "ticks": ""
             }
            },
            "type": "scatterpolargl"
           }
          ],
          "scatterternary": [
           {
            "marker": {
             "colorbar": {
              "outlinewidth": 0,
              "ticks": ""
             }
            },
            "type": "scatterternary"
           }
          ],
          "surface": [
           {
            "colorbar": {
             "outlinewidth": 0,
             "ticks": ""
            },
            "colorscale": [
             [
              0,
              "#0d0887"
             ],
             [
              0.1111111111111111,
              "#46039f"
             ],
             [
              0.2222222222222222,
              "#7201a8"
             ],
             [
              0.3333333333333333,
              "#9c179e"
             ],
             [
              0.4444444444444444,
              "#bd3786"
             ],
             [
              0.5555555555555556,
              "#d8576b"
             ],
             [
              0.6666666666666666,
              "#ed7953"
             ],
             [
              0.7777777777777778,
              "#fb9f3a"
             ],
             [
              0.8888888888888888,
              "#fdca26"
             ],
             [
              1,
              "#f0f921"
             ]
            ],
            "type": "surface"
           }
          ],
          "table": [
           {
            "cells": {
             "fill": {
              "color": "#EBF0F8"
             },
             "line": {
              "color": "white"
             }
            },
            "header": {
             "fill": {
              "color": "#C8D4E3"
             },
             "line": {
              "color": "white"
             }
            },
            "type": "table"
           }
          ]
         },
         "layout": {
          "annotationdefaults": {
           "arrowcolor": "#2a3f5f",
           "arrowhead": 0,
           "arrowwidth": 1
          },
          "autotypenumbers": "strict",
          "coloraxis": {
           "colorbar": {
            "outlinewidth": 0,
            "ticks": ""
           }
          },
          "colorscale": {
           "diverging": [
            [
             0,
             "#8e0152"
            ],
            [
             0.1,
             "#c51b7d"
            ],
            [
             0.2,
             "#de77ae"
            ],
            [
             0.3,
             "#f1b6da"
            ],
            [
             0.4,
             "#fde0ef"
            ],
            [
             0.5,
             "#f7f7f7"
            ],
            [
             0.6,
             "#e6f5d0"
            ],
            [
             0.7,
             "#b8e186"
            ],
            [
             0.8,
             "#7fbc41"
            ],
            [
             0.9,
             "#4d9221"
            ],
            [
             1,
             "#276419"
            ]
           ],
           "sequential": [
            [
             0,
             "#0d0887"
            ],
            [
             0.1111111111111111,
             "#46039f"
            ],
            [
             0.2222222222222222,
             "#7201a8"
            ],
            [
             0.3333333333333333,
             "#9c179e"
            ],
            [
             0.4444444444444444,
             "#bd3786"
            ],
            [
             0.5555555555555556,
             "#d8576b"
            ],
            [
             0.6666666666666666,
             "#ed7953"
            ],
            [
             0.7777777777777778,
             "#fb9f3a"
            ],
            [
             0.8888888888888888,
             "#fdca26"
            ],
            [
             1,
             "#f0f921"
            ]
           ],
           "sequentialminus": [
            [
             0,
             "#0d0887"
            ],
            [
             0.1111111111111111,
             "#46039f"
            ],
            [
             0.2222222222222222,
             "#7201a8"
            ],
            [
             0.3333333333333333,
             "#9c179e"
            ],
            [
             0.4444444444444444,
             "#bd3786"
            ],
            [
             0.5555555555555556,
             "#d8576b"
            ],
            [
             0.6666666666666666,
             "#ed7953"
            ],
            [
             0.7777777777777778,
             "#fb9f3a"
            ],
            [
             0.8888888888888888,
             "#fdca26"
            ],
            [
             1,
             "#f0f921"
            ]
           ]
          },
          "colorway": [
           "#636efa",
           "#EF553B",
           "#00cc96",
           "#ab63fa",
           "#FFA15A",
           "#19d3f3",
           "#FF6692",
           "#B6E880",
           "#FF97FF",
           "#FECB52"
          ],
          "font": {
           "color": "#2a3f5f"
          },
          "geo": {
           "bgcolor": "white",
           "lakecolor": "white",
           "landcolor": "#E5ECF6",
           "showlakes": true,
           "showland": true,
           "subunitcolor": "white"
          },
          "hoverlabel": {
           "align": "left"
          },
          "hovermode": "closest",
          "mapbox": {
           "style": "light"
          },
          "paper_bgcolor": "white",
          "plot_bgcolor": "#E5ECF6",
          "polar": {
           "angularaxis": {
            "gridcolor": "white",
            "linecolor": "white",
            "ticks": ""
           },
           "bgcolor": "#E5ECF6",
           "radialaxis": {
            "gridcolor": "white",
            "linecolor": "white",
            "ticks": ""
           }
          },
          "scene": {
           "xaxis": {
            "backgroundcolor": "#E5ECF6",
            "gridcolor": "white",
            "gridwidth": 2,
            "linecolor": "white",
            "showbackground": true,
            "ticks": "",
            "zerolinecolor": "white"
           },
           "yaxis": {
            "backgroundcolor": "#E5ECF6",
            "gridcolor": "white",
            "gridwidth": 2,
            "linecolor": "white",
            "showbackground": true,
            "ticks": "",
            "zerolinecolor": "white"
           },
           "zaxis": {
            "backgroundcolor": "#E5ECF6",
            "gridcolor": "white",
            "gridwidth": 2,
            "linecolor": "white",
            "showbackground": true,
            "ticks": "",
            "zerolinecolor": "white"
           }
          },
          "shapedefaults": {
           "line": {
            "color": "#2a3f5f"
           }
          },
          "ternary": {
           "aaxis": {
            "gridcolor": "white",
            "linecolor": "white",
            "ticks": ""
           },
           "baxis": {
            "gridcolor": "white",
            "linecolor": "white",
            "ticks": ""
           },
           "bgcolor": "#E5ECF6",
           "caxis": {
            "gridcolor": "white",
            "linecolor": "white",
            "ticks": ""
           }
          },
          "title": {
           "x": 0.05
          },
          "xaxis": {
           "automargin": true,
           "gridcolor": "white",
           "linecolor": "white",
           "ticks": "",
           "title": {
            "standoff": 15
           },
           "zerolinecolor": "white",
           "zerolinewidth": 2
          },
          "yaxis": {
           "automargin": true,
           "gridcolor": "white",
           "linecolor": "white",
           "ticks": "",
           "title": {
            "standoff": 15
           },
           "zerolinecolor": "white",
           "zerolinewidth": 2
          }
         }
        },
        "title": {
         "font": {
          "color": "#4D5663"
         }
        },
        "xaxis": {
         "gridcolor": "#E1E5ED",
         "showgrid": true,
         "tickfont": {
          "color": "#4D5663"
         },
         "title": {
          "font": {
           "color": "#4D5663"
          },
          "text": ""
         },
         "zerolinecolor": "#E1E5ED"
        },
        "yaxis": {
         "gridcolor": "#E1E5ED",
         "showgrid": true,
         "tickfont": {
          "color": "#4D5663"
         },
         "title": {
          "font": {
           "color": "#4D5663"
          },
          "text": ""
         },
         "zerolinecolor": "#E1E5ED"
        }
       }
      },
      "text/html": [
       "<div>                            <div id=\"1937e81f-cde5-4e67-bd77-157dfdec4f5b\" class=\"plotly-graph-div\" style=\"height:525px; width:100%;\"></div>            <script type=\"text/javascript\">                require([\"plotly\"], function(Plotly) {                    window.PLOTLYENV=window.PLOTLYENV || {};\n",
       "                    window.PLOTLYENV.BASE_URL='https://plot.ly';                                    if (document.getElementById(\"1937e81f-cde5-4e67-bd77-157dfdec4f5b\")) {                    Plotly.newPlot(                        \"1937e81f-cde5-4e67-bd77-157dfdec4f5b\",                        [{\"colorscale\":[[0.0,\"rgb(255, 153, 51)\"],[0.1111111111111111,\"rgb(55, 128, 191)\"],[0.2222222222222222,\"rgb(50, 171, 96)\"],[0.3333333333333333,\"rgb(128, 0, 128)\"],[0.4444444444444444,\"rgb(219, 64, 82)\"],[0.5555555555555556,\"rgb(0, 128, 128)\"],[0.6666666666666666,\"rgb(255, 255, 51)\"],[0.7777777777777778,\"rgb(128, 128, 0)\"],[0.8888888888888888,\"rgb(251, 128, 114)\"],[1.0,\"rgb(128, 177, 211)\"]],\"x\":[0,1,2,3,4],\"y\":[\"X\",\"Y\",\"Z\"],\"z\":[[1,2,3,4,5],[10,20,30,40,50],[500,400,300,200,100]],\"type\":\"surface\"}],                        {\"legend\":{\"bgcolor\":\"#F5F6F9\",\"font\":{\"color\":\"#4D5663\"}},\"paper_bgcolor\":\"#F5F6F9\",\"plot_bgcolor\":\"#F5F6F9\",\"template\":{\"data\":{\"barpolar\":[{\"marker\":{\"line\":{\"color\":\"#E5ECF6\",\"width\":0.5},\"pattern\":{\"fillmode\":\"overlay\",\"size\":10,\"solidity\":0.2}},\"type\":\"barpolar\"}],\"bar\":[{\"error_x\":{\"color\":\"#2a3f5f\"},\"error_y\":{\"color\":\"#2a3f5f\"},\"marker\":{\"line\":{\"color\":\"#E5ECF6\",\"width\":0.5},\"pattern\":{\"fillmode\":\"overlay\",\"size\":10,\"solidity\":0.2}},\"type\":\"bar\"}],\"carpet\":[{\"aaxis\":{\"endlinecolor\":\"#2a3f5f\",\"gridcolor\":\"white\",\"linecolor\":\"white\",\"minorgridcolor\":\"white\",\"startlinecolor\":\"#2a3f5f\"},\"baxis\":{\"endlinecolor\":\"#2a3f5f\",\"gridcolor\":\"white\",\"linecolor\":\"white\",\"minorgridcolor\":\"white\",\"startlinecolor\":\"#2a3f5f\"},\"type\":\"carpet\"}],\"choropleth\":[{\"colorbar\":{\"outlinewidth\":0,\"ticks\":\"\"},\"type\":\"choropleth\"}],\"contourcarpet\":[{\"colorbar\":{\"outlinewidth\":0,\"ticks\":\"\"},\"type\":\"contourcarpet\"}],\"contour\":[{\"colorbar\":{\"outlinewidth\":0,\"ticks\":\"\"},\"colorscale\":[[0.0,\"#0d0887\"],[0.1111111111111111,\"#46039f\"],[0.2222222222222222,\"#7201a8\"],[0.3333333333333333,\"#9c179e\"],[0.4444444444444444,\"#bd3786\"],[0.5555555555555556,\"#d8576b\"],[0.6666666666666666,\"#ed7953\"],[0.7777777777777778,\"#fb9f3a\"],[0.8888888888888888,\"#fdca26\"],[1.0,\"#f0f921\"]],\"type\":\"contour\"}],\"heatmapgl\":[{\"colorbar\":{\"outlinewidth\":0,\"ticks\":\"\"},\"colorscale\":[[0.0,\"#0d0887\"],[0.1111111111111111,\"#46039f\"],[0.2222222222222222,\"#7201a8\"],[0.3333333333333333,\"#9c179e\"],[0.4444444444444444,\"#bd3786\"],[0.5555555555555556,\"#d8576b\"],[0.6666666666666666,\"#ed7953\"],[0.7777777777777778,\"#fb9f3a\"],[0.8888888888888888,\"#fdca26\"],[1.0,\"#f0f921\"]],\"type\":\"heatmapgl\"}],\"heatmap\":[{\"colorbar\":{\"outlinewidth\":0,\"ticks\":\"\"},\"colorscale\":[[0.0,\"#0d0887\"],[0.1111111111111111,\"#46039f\"],[0.2222222222222222,\"#7201a8\"],[0.3333333333333333,\"#9c179e\"],[0.4444444444444444,\"#bd3786\"],[0.5555555555555556,\"#d8576b\"],[0.6666666666666666,\"#ed7953\"],[0.7777777777777778,\"#fb9f3a\"],[0.8888888888888888,\"#fdca26\"],[1.0,\"#f0f921\"]],\"type\":\"heatmap\"}],\"histogram2dcontour\":[{\"colorbar\":{\"outlinewidth\":0,\"ticks\":\"\"},\"colorscale\":[[0.0,\"#0d0887\"],[0.1111111111111111,\"#46039f\"],[0.2222222222222222,\"#7201a8\"],[0.3333333333333333,\"#9c179e\"],[0.4444444444444444,\"#bd3786\"],[0.5555555555555556,\"#d8576b\"],[0.6666666666666666,\"#ed7953\"],[0.7777777777777778,\"#fb9f3a\"],[0.8888888888888888,\"#fdca26\"],[1.0,\"#f0f921\"]],\"type\":\"histogram2dcontour\"}],\"histogram2d\":[{\"colorbar\":{\"outlinewidth\":0,\"ticks\":\"\"},\"colorscale\":[[0.0,\"#0d0887\"],[0.1111111111111111,\"#46039f\"],[0.2222222222222222,\"#7201a8\"],[0.3333333333333333,\"#9c179e\"],[0.4444444444444444,\"#bd3786\"],[0.5555555555555556,\"#d8576b\"],[0.6666666666666666,\"#ed7953\"],[0.7777777777777778,\"#fb9f3a\"],[0.8888888888888888,\"#fdca26\"],[1.0,\"#f0f921\"]],\"type\":\"histogram2d\"}],\"histogram\":[{\"marker\":{\"pattern\":{\"fillmode\":\"overlay\",\"size\":10,\"solidity\":0.2}},\"type\":\"histogram\"}],\"mesh3d\":[{\"colorbar\":{\"outlinewidth\":0,\"ticks\":\"\"},\"type\":\"mesh3d\"}],\"parcoords\":[{\"line\":{\"colorbar\":{\"outlinewidth\":0,\"ticks\":\"\"}},\"type\":\"parcoords\"}],\"pie\":[{\"automargin\":true,\"type\":\"pie\"}],\"scatter3d\":[{\"line\":{\"colorbar\":{\"outlinewidth\":0,\"ticks\":\"\"}},\"marker\":{\"colorbar\":{\"outlinewidth\":0,\"ticks\":\"\"}},\"type\":\"scatter3d\"}],\"scattercarpet\":[{\"marker\":{\"colorbar\":{\"outlinewidth\":0,\"ticks\":\"\"}},\"type\":\"scattercarpet\"}],\"scattergeo\":[{\"marker\":{\"colorbar\":{\"outlinewidth\":0,\"ticks\":\"\"}},\"type\":\"scattergeo\"}],\"scattergl\":[{\"marker\":{\"colorbar\":{\"outlinewidth\":0,\"ticks\":\"\"}},\"type\":\"scattergl\"}],\"scattermapbox\":[{\"marker\":{\"colorbar\":{\"outlinewidth\":0,\"ticks\":\"\"}},\"type\":\"scattermapbox\"}],\"scatterpolargl\":[{\"marker\":{\"colorbar\":{\"outlinewidth\":0,\"ticks\":\"\"}},\"type\":\"scatterpolargl\"}],\"scatterpolar\":[{\"marker\":{\"colorbar\":{\"outlinewidth\":0,\"ticks\":\"\"}},\"type\":\"scatterpolar\"}],\"scatter\":[{\"fillpattern\":{\"fillmode\":\"overlay\",\"size\":10,\"solidity\":0.2},\"type\":\"scatter\"}],\"scatterternary\":[{\"marker\":{\"colorbar\":{\"outlinewidth\":0,\"ticks\":\"\"}},\"type\":\"scatterternary\"}],\"surface\":[{\"colorbar\":{\"outlinewidth\":0,\"ticks\":\"\"},\"colorscale\":[[0.0,\"#0d0887\"],[0.1111111111111111,\"#46039f\"],[0.2222222222222222,\"#7201a8\"],[0.3333333333333333,\"#9c179e\"],[0.4444444444444444,\"#bd3786\"],[0.5555555555555556,\"#d8576b\"],[0.6666666666666666,\"#ed7953\"],[0.7777777777777778,\"#fb9f3a\"],[0.8888888888888888,\"#fdca26\"],[1.0,\"#f0f921\"]],\"type\":\"surface\"}],\"table\":[{\"cells\":{\"fill\":{\"color\":\"#EBF0F8\"},\"line\":{\"color\":\"white\"}},\"header\":{\"fill\":{\"color\":\"#C8D4E3\"},\"line\":{\"color\":\"white\"}},\"type\":\"table\"}]},\"layout\":{\"annotationdefaults\":{\"arrowcolor\":\"#2a3f5f\",\"arrowhead\":0,\"arrowwidth\":1},\"autotypenumbers\":\"strict\",\"coloraxis\":{\"colorbar\":{\"outlinewidth\":0,\"ticks\":\"\"}},\"colorscale\":{\"diverging\":[[0,\"#8e0152\"],[0.1,\"#c51b7d\"],[0.2,\"#de77ae\"],[0.3,\"#f1b6da\"],[0.4,\"#fde0ef\"],[0.5,\"#f7f7f7\"],[0.6,\"#e6f5d0\"],[0.7,\"#b8e186\"],[0.8,\"#7fbc41\"],[0.9,\"#4d9221\"],[1,\"#276419\"]],\"sequential\":[[0.0,\"#0d0887\"],[0.1111111111111111,\"#46039f\"],[0.2222222222222222,\"#7201a8\"],[0.3333333333333333,\"#9c179e\"],[0.4444444444444444,\"#bd3786\"],[0.5555555555555556,\"#d8576b\"],[0.6666666666666666,\"#ed7953\"],[0.7777777777777778,\"#fb9f3a\"],[0.8888888888888888,\"#fdca26\"],[1.0,\"#f0f921\"]],\"sequentialminus\":[[0.0,\"#0d0887\"],[0.1111111111111111,\"#46039f\"],[0.2222222222222222,\"#7201a8\"],[0.3333333333333333,\"#9c179e\"],[0.4444444444444444,\"#bd3786\"],[0.5555555555555556,\"#d8576b\"],[0.6666666666666666,\"#ed7953\"],[0.7777777777777778,\"#fb9f3a\"],[0.8888888888888888,\"#fdca26\"],[1.0,\"#f0f921\"]]},\"colorway\":[\"#636efa\",\"#EF553B\",\"#00cc96\",\"#ab63fa\",\"#FFA15A\",\"#19d3f3\",\"#FF6692\",\"#B6E880\",\"#FF97FF\",\"#FECB52\"],\"font\":{\"color\":\"#2a3f5f\"},\"geo\":{\"bgcolor\":\"white\",\"lakecolor\":\"white\",\"landcolor\":\"#E5ECF6\",\"showlakes\":true,\"showland\":true,\"subunitcolor\":\"white\"},\"hoverlabel\":{\"align\":\"left\"},\"hovermode\":\"closest\",\"mapbox\":{\"style\":\"light\"},\"paper_bgcolor\":\"white\",\"plot_bgcolor\":\"#E5ECF6\",\"polar\":{\"angularaxis\":{\"gridcolor\":\"white\",\"linecolor\":\"white\",\"ticks\":\"\"},\"bgcolor\":\"#E5ECF6\",\"radialaxis\":{\"gridcolor\":\"white\",\"linecolor\":\"white\",\"ticks\":\"\"}},\"scene\":{\"xaxis\":{\"backgroundcolor\":\"#E5ECF6\",\"gridcolor\":\"white\",\"gridwidth\":2,\"linecolor\":\"white\",\"showbackground\":true,\"ticks\":\"\",\"zerolinecolor\":\"white\"},\"yaxis\":{\"backgroundcolor\":\"#E5ECF6\",\"gridcolor\":\"white\",\"gridwidth\":2,\"linecolor\":\"white\",\"showbackground\":true,\"ticks\":\"\",\"zerolinecolor\":\"white\"},\"zaxis\":{\"backgroundcolor\":\"#E5ECF6\",\"gridcolor\":\"white\",\"gridwidth\":2,\"linecolor\":\"white\",\"showbackground\":true,\"ticks\":\"\",\"zerolinecolor\":\"white\"}},\"shapedefaults\":{\"line\":{\"color\":\"#2a3f5f\"}},\"ternary\":{\"aaxis\":{\"gridcolor\":\"white\",\"linecolor\":\"white\",\"ticks\":\"\"},\"baxis\":{\"gridcolor\":\"white\",\"linecolor\":\"white\",\"ticks\":\"\"},\"bgcolor\":\"#E5ECF6\",\"caxis\":{\"gridcolor\":\"white\",\"linecolor\":\"white\",\"ticks\":\"\"}},\"title\":{\"x\":0.05},\"xaxis\":{\"automargin\":true,\"gridcolor\":\"white\",\"linecolor\":\"white\",\"ticks\":\"\",\"title\":{\"standoff\":15},\"zerolinecolor\":\"white\",\"zerolinewidth\":2},\"yaxis\":{\"automargin\":true,\"gridcolor\":\"white\",\"linecolor\":\"white\",\"ticks\":\"\",\"title\":{\"standoff\":15},\"zerolinecolor\":\"white\",\"zerolinewidth\":2}}},\"title\":{\"font\":{\"color\":\"#4D5663\"}},\"xaxis\":{\"gridcolor\":\"#E1E5ED\",\"showgrid\":true,\"tickfont\":{\"color\":\"#4D5663\"},\"title\":{\"font\":{\"color\":\"#4D5663\"},\"text\":\"\"},\"zerolinecolor\":\"#E1E5ED\"},\"yaxis\":{\"gridcolor\":\"#E1E5ED\",\"showgrid\":true,\"tickfont\":{\"color\":\"#4D5663\"},\"title\":{\"font\":{\"color\":\"#4D5663\"},\"text\":\"\"},\"zerolinecolor\":\"#E1E5ED\"}},                        {\"showLink\": true, \"linkText\": \"Export to plot.ly\", \"plotlyServerURL\": \"https://plot.ly\", \"responsive\": true}                    ).then(function(){\n",
       "                            \n",
       "var gd = document.getElementById('1937e81f-cde5-4e67-bd77-157dfdec4f5b');\n",
       "var x = new MutationObserver(function (mutations, observer) {{\n",
       "        var display = window.getComputedStyle(gd).display;\n",
       "        if (!display || display === 'none') {{\n",
       "            console.log([gd, 'removed!']);\n",
       "            Plotly.purge(gd);\n",
       "            observer.disconnect();\n",
       "        }}\n",
       "}});\n",
       "\n",
       "// Listen for the removal of the full notebook cells\n",
       "var notebookContainer = gd.closest('#notebook-container');\n",
       "if (notebookContainer) {{\n",
       "    x.observe(notebookContainer, {childList: true});\n",
       "}}\n",
       "\n",
       "// Listen for the clearing of the current output cell\n",
       "var outputEl = gd.closest('.output');\n",
       "if (outputEl) {{\n",
       "    x.observe(outputEl, {childList: true});\n",
       "}}\n",
       "\n",
       "                        })                };                });            </script>        </div>"
      ]
     },
     "metadata": {},
     "output_type": "display_data"
    }
   ],
   "source": [
    "df3.iplot(kind='surface')"
   ]
  },
  {
   "cell_type": "code",
   "execution_count": 24,
   "id": "0f138a1b",
   "metadata": {},
   "outputs": [],
   "source": [
    "df3 = pd.DataFrame({'X':[1,2,3,4,5], 'Y':[10,20,30,20,10],'Z':[5,4,3,2,1]})"
   ]
  },
  {
   "cell_type": "code",
   "execution_count": 25,
   "id": "698b6c06",
   "metadata": {},
   "outputs": [
    {
     "data": {
      "application/vnd.plotly.v1+json": {
       "config": {
        "linkText": "Export to plot.ly",
        "plotlyServerURL": "https://plot.ly",
        "showLink": true
       },
       "data": [
        {
         "colorscale": [
          [
           0,
           "rgb(255, 153, 51)"
          ],
          [
           0.1111111111111111,
           "rgb(55, 128, 191)"
          ],
          [
           0.2222222222222222,
           "rgb(50, 171, 96)"
          ],
          [
           0.3333333333333333,
           "rgb(128, 0, 128)"
          ],
          [
           0.4444444444444444,
           "rgb(219, 64, 82)"
          ],
          [
           0.5555555555555556,
           "rgb(0, 128, 128)"
          ],
          [
           0.6666666666666666,
           "rgb(255, 255, 51)"
          ],
          [
           0.7777777777777778,
           "rgb(128, 128, 0)"
          ],
          [
           0.8888888888888888,
           "rgb(251, 128, 114)"
          ],
          [
           1,
           "rgb(128, 177, 211)"
          ]
         ],
         "type": "surface",
         "x": [
          0,
          1,
          2,
          3,
          4
         ],
         "y": [
          "X",
          "Y",
          "Z"
         ],
         "z": [
          [
           1,
           2,
           3,
           4,
           5
          ],
          [
           10,
           20,
           30,
           20,
           10
          ],
          [
           5,
           4,
           3,
           2,
           1
          ]
         ]
        }
       ],
       "layout": {
        "legend": {
         "bgcolor": "#F5F6F9",
         "font": {
          "color": "#4D5663"
         }
        },
        "paper_bgcolor": "#F5F6F9",
        "plot_bgcolor": "#F5F6F9",
        "template": {
         "data": {
          "bar": [
           {
            "error_x": {
             "color": "#2a3f5f"
            },
            "error_y": {
             "color": "#2a3f5f"
            },
            "marker": {
             "line": {
              "color": "#E5ECF6",
              "width": 0.5
             },
             "pattern": {
              "fillmode": "overlay",
              "size": 10,
              "solidity": 0.2
             }
            },
            "type": "bar"
           }
          ],
          "barpolar": [
           {
            "marker": {
             "line": {
              "color": "#E5ECF6",
              "width": 0.5
             },
             "pattern": {
              "fillmode": "overlay",
              "size": 10,
              "solidity": 0.2
             }
            },
            "type": "barpolar"
           }
          ],
          "carpet": [
           {
            "aaxis": {
             "endlinecolor": "#2a3f5f",
             "gridcolor": "white",
             "linecolor": "white",
             "minorgridcolor": "white",
             "startlinecolor": "#2a3f5f"
            },
            "baxis": {
             "endlinecolor": "#2a3f5f",
             "gridcolor": "white",
             "linecolor": "white",
             "minorgridcolor": "white",
             "startlinecolor": "#2a3f5f"
            },
            "type": "carpet"
           }
          ],
          "choropleth": [
           {
            "colorbar": {
             "outlinewidth": 0,
             "ticks": ""
            },
            "type": "choropleth"
           }
          ],
          "contour": [
           {
            "colorbar": {
             "outlinewidth": 0,
             "ticks": ""
            },
            "colorscale": [
             [
              0,
              "#0d0887"
             ],
             [
              0.1111111111111111,
              "#46039f"
             ],
             [
              0.2222222222222222,
              "#7201a8"
             ],
             [
              0.3333333333333333,
              "#9c179e"
             ],
             [
              0.4444444444444444,
              "#bd3786"
             ],
             [
              0.5555555555555556,
              "#d8576b"
             ],
             [
              0.6666666666666666,
              "#ed7953"
             ],
             [
              0.7777777777777778,
              "#fb9f3a"
             ],
             [
              0.8888888888888888,
              "#fdca26"
             ],
             [
              1,
              "#f0f921"
             ]
            ],
            "type": "contour"
           }
          ],
          "contourcarpet": [
           {
            "colorbar": {
             "outlinewidth": 0,
             "ticks": ""
            },
            "type": "contourcarpet"
           }
          ],
          "heatmap": [
           {
            "colorbar": {
             "outlinewidth": 0,
             "ticks": ""
            },
            "colorscale": [
             [
              0,
              "#0d0887"
             ],
             [
              0.1111111111111111,
              "#46039f"
             ],
             [
              0.2222222222222222,
              "#7201a8"
             ],
             [
              0.3333333333333333,
              "#9c179e"
             ],
             [
              0.4444444444444444,
              "#bd3786"
             ],
             [
              0.5555555555555556,
              "#d8576b"
             ],
             [
              0.6666666666666666,
              "#ed7953"
             ],
             [
              0.7777777777777778,
              "#fb9f3a"
             ],
             [
              0.8888888888888888,
              "#fdca26"
             ],
             [
              1,
              "#f0f921"
             ]
            ],
            "type": "heatmap"
           }
          ],
          "heatmapgl": [
           {
            "colorbar": {
             "outlinewidth": 0,
             "ticks": ""
            },
            "colorscale": [
             [
              0,
              "#0d0887"
             ],
             [
              0.1111111111111111,
              "#46039f"
             ],
             [
              0.2222222222222222,
              "#7201a8"
             ],
             [
              0.3333333333333333,
              "#9c179e"
             ],
             [
              0.4444444444444444,
              "#bd3786"
             ],
             [
              0.5555555555555556,
              "#d8576b"
             ],
             [
              0.6666666666666666,
              "#ed7953"
             ],
             [
              0.7777777777777778,
              "#fb9f3a"
             ],
             [
              0.8888888888888888,
              "#fdca26"
             ],
             [
              1,
              "#f0f921"
             ]
            ],
            "type": "heatmapgl"
           }
          ],
          "histogram": [
           {
            "marker": {
             "pattern": {
              "fillmode": "overlay",
              "size": 10,
              "solidity": 0.2
             }
            },
            "type": "histogram"
           }
          ],
          "histogram2d": [
           {
            "colorbar": {
             "outlinewidth": 0,
             "ticks": ""
            },
            "colorscale": [
             [
              0,
              "#0d0887"
             ],
             [
              0.1111111111111111,
              "#46039f"
             ],
             [
              0.2222222222222222,
              "#7201a8"
             ],
             [
              0.3333333333333333,
              "#9c179e"
             ],
             [
              0.4444444444444444,
              "#bd3786"
             ],
             [
              0.5555555555555556,
              "#d8576b"
             ],
             [
              0.6666666666666666,
              "#ed7953"
             ],
             [
              0.7777777777777778,
              "#fb9f3a"
             ],
             [
              0.8888888888888888,
              "#fdca26"
             ],
             [
              1,
              "#f0f921"
             ]
            ],
            "type": "histogram2d"
           }
          ],
          "histogram2dcontour": [
           {
            "colorbar": {
             "outlinewidth": 0,
             "ticks": ""
            },
            "colorscale": [
             [
              0,
              "#0d0887"
             ],
             [
              0.1111111111111111,
              "#46039f"
             ],
             [
              0.2222222222222222,
              "#7201a8"
             ],
             [
              0.3333333333333333,
              "#9c179e"
             ],
             [
              0.4444444444444444,
              "#bd3786"
             ],
             [
              0.5555555555555556,
              "#d8576b"
             ],
             [
              0.6666666666666666,
              "#ed7953"
             ],
             [
              0.7777777777777778,
              "#fb9f3a"
             ],
             [
              0.8888888888888888,
              "#fdca26"
             ],
             [
              1,
              "#f0f921"
             ]
            ],
            "type": "histogram2dcontour"
           }
          ],
          "mesh3d": [
           {
            "colorbar": {
             "outlinewidth": 0,
             "ticks": ""
            },
            "type": "mesh3d"
           }
          ],
          "parcoords": [
           {
            "line": {
             "colorbar": {
              "outlinewidth": 0,
              "ticks": ""
             }
            },
            "type": "parcoords"
           }
          ],
          "pie": [
           {
            "automargin": true,
            "type": "pie"
           }
          ],
          "scatter": [
           {
            "fillpattern": {
             "fillmode": "overlay",
             "size": 10,
             "solidity": 0.2
            },
            "type": "scatter"
           }
          ],
          "scatter3d": [
           {
            "line": {
             "colorbar": {
              "outlinewidth": 0,
              "ticks": ""
             }
            },
            "marker": {
             "colorbar": {
              "outlinewidth": 0,
              "ticks": ""
             }
            },
            "type": "scatter3d"
           }
          ],
          "scattercarpet": [
           {
            "marker": {
             "colorbar": {
              "outlinewidth": 0,
              "ticks": ""
             }
            },
            "type": "scattercarpet"
           }
          ],
          "scattergeo": [
           {
            "marker": {
             "colorbar": {
              "outlinewidth": 0,
              "ticks": ""
             }
            },
            "type": "scattergeo"
           }
          ],
          "scattergl": [
           {
            "marker": {
             "colorbar": {
              "outlinewidth": 0,
              "ticks": ""
             }
            },
            "type": "scattergl"
           }
          ],
          "scattermapbox": [
           {
            "marker": {
             "colorbar": {
              "outlinewidth": 0,
              "ticks": ""
             }
            },
            "type": "scattermapbox"
           }
          ],
          "scatterpolar": [
           {
            "marker": {
             "colorbar": {
              "outlinewidth": 0,
              "ticks": ""
             }
            },
            "type": "scatterpolar"
           }
          ],
          "scatterpolargl": [
           {
            "marker": {
             "colorbar": {
              "outlinewidth": 0,
              "ticks": ""
             }
            },
            "type": "scatterpolargl"
           }
          ],
          "scatterternary": [
           {
            "marker": {
             "colorbar": {
              "outlinewidth": 0,
              "ticks": ""
             }
            },
            "type": "scatterternary"
           }
          ],
          "surface": [
           {
            "colorbar": {
             "outlinewidth": 0,
             "ticks": ""
            },
            "colorscale": [
             [
              0,
              "#0d0887"
             ],
             [
              0.1111111111111111,
              "#46039f"
             ],
             [
              0.2222222222222222,
              "#7201a8"
             ],
             [
              0.3333333333333333,
              "#9c179e"
             ],
             [
              0.4444444444444444,
              "#bd3786"
             ],
             [
              0.5555555555555556,
              "#d8576b"
             ],
             [
              0.6666666666666666,
              "#ed7953"
             ],
             [
              0.7777777777777778,
              "#fb9f3a"
             ],
             [
              0.8888888888888888,
              "#fdca26"
             ],
             [
              1,
              "#f0f921"
             ]
            ],
            "type": "surface"
           }
          ],
          "table": [
           {
            "cells": {
             "fill": {
              "color": "#EBF0F8"
             },
             "line": {
              "color": "white"
             }
            },
            "header": {
             "fill": {
              "color": "#C8D4E3"
             },
             "line": {
              "color": "white"
             }
            },
            "type": "table"
           }
          ]
         },
         "layout": {
          "annotationdefaults": {
           "arrowcolor": "#2a3f5f",
           "arrowhead": 0,
           "arrowwidth": 1
          },
          "autotypenumbers": "strict",
          "coloraxis": {
           "colorbar": {
            "outlinewidth": 0,
            "ticks": ""
           }
          },
          "colorscale": {
           "diverging": [
            [
             0,
             "#8e0152"
            ],
            [
             0.1,
             "#c51b7d"
            ],
            [
             0.2,
             "#de77ae"
            ],
            [
             0.3,
             "#f1b6da"
            ],
            [
             0.4,
             "#fde0ef"
            ],
            [
             0.5,
             "#f7f7f7"
            ],
            [
             0.6,
             "#e6f5d0"
            ],
            [
             0.7,
             "#b8e186"
            ],
            [
             0.8,
             "#7fbc41"
            ],
            [
             0.9,
             "#4d9221"
            ],
            [
             1,
             "#276419"
            ]
           ],
           "sequential": [
            [
             0,
             "#0d0887"
            ],
            [
             0.1111111111111111,
             "#46039f"
            ],
            [
             0.2222222222222222,
             "#7201a8"
            ],
            [
             0.3333333333333333,
             "#9c179e"
            ],
            [
             0.4444444444444444,
             "#bd3786"
            ],
            [
             0.5555555555555556,
             "#d8576b"
            ],
            [
             0.6666666666666666,
             "#ed7953"
            ],
            [
             0.7777777777777778,
             "#fb9f3a"
            ],
            [
             0.8888888888888888,
             "#fdca26"
            ],
            [
             1,
             "#f0f921"
            ]
           ],
           "sequentialminus": [
            [
             0,
             "#0d0887"
            ],
            [
             0.1111111111111111,
             "#46039f"
            ],
            [
             0.2222222222222222,
             "#7201a8"
            ],
            [
             0.3333333333333333,
             "#9c179e"
            ],
            [
             0.4444444444444444,
             "#bd3786"
            ],
            [
             0.5555555555555556,
             "#d8576b"
            ],
            [
             0.6666666666666666,
             "#ed7953"
            ],
            [
             0.7777777777777778,
             "#fb9f3a"
            ],
            [
             0.8888888888888888,
             "#fdca26"
            ],
            [
             1,
             "#f0f921"
            ]
           ]
          },
          "colorway": [
           "#636efa",
           "#EF553B",
           "#00cc96",
           "#ab63fa",
           "#FFA15A",
           "#19d3f3",
           "#FF6692",
           "#B6E880",
           "#FF97FF",
           "#FECB52"
          ],
          "font": {
           "color": "#2a3f5f"
          },
          "geo": {
           "bgcolor": "white",
           "lakecolor": "white",
           "landcolor": "#E5ECF6",
           "showlakes": true,
           "showland": true,
           "subunitcolor": "white"
          },
          "hoverlabel": {
           "align": "left"
          },
          "hovermode": "closest",
          "mapbox": {
           "style": "light"
          },
          "paper_bgcolor": "white",
          "plot_bgcolor": "#E5ECF6",
          "polar": {
           "angularaxis": {
            "gridcolor": "white",
            "linecolor": "white",
            "ticks": ""
           },
           "bgcolor": "#E5ECF6",
           "radialaxis": {
            "gridcolor": "white",
            "linecolor": "white",
            "ticks": ""
           }
          },
          "scene": {
           "xaxis": {
            "backgroundcolor": "#E5ECF6",
            "gridcolor": "white",
            "gridwidth": 2,
            "linecolor": "white",
            "showbackground": true,
            "ticks": "",
            "zerolinecolor": "white"
           },
           "yaxis": {
            "backgroundcolor": "#E5ECF6",
            "gridcolor": "white",
            "gridwidth": 2,
            "linecolor": "white",
            "showbackground": true,
            "ticks": "",
            "zerolinecolor": "white"
           },
           "zaxis": {
            "backgroundcolor": "#E5ECF6",
            "gridcolor": "white",
            "gridwidth": 2,
            "linecolor": "white",
            "showbackground": true,
            "ticks": "",
            "zerolinecolor": "white"
           }
          },
          "shapedefaults": {
           "line": {
            "color": "#2a3f5f"
           }
          },
          "ternary": {
           "aaxis": {
            "gridcolor": "white",
            "linecolor": "white",
            "ticks": ""
           },
           "baxis": {
            "gridcolor": "white",
            "linecolor": "white",
            "ticks": ""
           },
           "bgcolor": "#E5ECF6",
           "caxis": {
            "gridcolor": "white",
            "linecolor": "white",
            "ticks": ""
           }
          },
          "title": {
           "x": 0.05
          },
          "xaxis": {
           "automargin": true,
           "gridcolor": "white",
           "linecolor": "white",
           "ticks": "",
           "title": {
            "standoff": 15
           },
           "zerolinecolor": "white",
           "zerolinewidth": 2
          },
          "yaxis": {
           "automargin": true,
           "gridcolor": "white",
           "linecolor": "white",
           "ticks": "",
           "title": {
            "standoff": 15
           },
           "zerolinecolor": "white",
           "zerolinewidth": 2
          }
         }
        },
        "title": {
         "font": {
          "color": "#4D5663"
         }
        },
        "xaxis": {
         "gridcolor": "#E1E5ED",
         "showgrid": true,
         "tickfont": {
          "color": "#4D5663"
         },
         "title": {
          "font": {
           "color": "#4D5663"
          },
          "text": ""
         },
         "zerolinecolor": "#E1E5ED"
        },
        "yaxis": {
         "gridcolor": "#E1E5ED",
         "showgrid": true,
         "tickfont": {
          "color": "#4D5663"
         },
         "title": {
          "font": {
           "color": "#4D5663"
          },
          "text": ""
         },
         "zerolinecolor": "#E1E5ED"
        }
       }
      },
      "text/html": [
       "<div>                            <div id=\"485ca0d3-1a3e-4cda-9227-473fe98a0646\" class=\"plotly-graph-div\" style=\"height:525px; width:100%;\"></div>            <script type=\"text/javascript\">                require([\"plotly\"], function(Plotly) {                    window.PLOTLYENV=window.PLOTLYENV || {};\n",
       "                    window.PLOTLYENV.BASE_URL='https://plot.ly';                                    if (document.getElementById(\"485ca0d3-1a3e-4cda-9227-473fe98a0646\")) {                    Plotly.newPlot(                        \"485ca0d3-1a3e-4cda-9227-473fe98a0646\",                        [{\"colorscale\":[[0.0,\"rgb(255, 153, 51)\"],[0.1111111111111111,\"rgb(55, 128, 191)\"],[0.2222222222222222,\"rgb(50, 171, 96)\"],[0.3333333333333333,\"rgb(128, 0, 128)\"],[0.4444444444444444,\"rgb(219, 64, 82)\"],[0.5555555555555556,\"rgb(0, 128, 128)\"],[0.6666666666666666,\"rgb(255, 255, 51)\"],[0.7777777777777778,\"rgb(128, 128, 0)\"],[0.8888888888888888,\"rgb(251, 128, 114)\"],[1.0,\"rgb(128, 177, 211)\"]],\"x\":[0,1,2,3,4],\"y\":[\"X\",\"Y\",\"Z\"],\"z\":[[1,2,3,4,5],[10,20,30,20,10],[5,4,3,2,1]],\"type\":\"surface\"}],                        {\"legend\":{\"bgcolor\":\"#F5F6F9\",\"font\":{\"color\":\"#4D5663\"}},\"paper_bgcolor\":\"#F5F6F9\",\"plot_bgcolor\":\"#F5F6F9\",\"template\":{\"data\":{\"barpolar\":[{\"marker\":{\"line\":{\"color\":\"#E5ECF6\",\"width\":0.5},\"pattern\":{\"fillmode\":\"overlay\",\"size\":10,\"solidity\":0.2}},\"type\":\"barpolar\"}],\"bar\":[{\"error_x\":{\"color\":\"#2a3f5f\"},\"error_y\":{\"color\":\"#2a3f5f\"},\"marker\":{\"line\":{\"color\":\"#E5ECF6\",\"width\":0.5},\"pattern\":{\"fillmode\":\"overlay\",\"size\":10,\"solidity\":0.2}},\"type\":\"bar\"}],\"carpet\":[{\"aaxis\":{\"endlinecolor\":\"#2a3f5f\",\"gridcolor\":\"white\",\"linecolor\":\"white\",\"minorgridcolor\":\"white\",\"startlinecolor\":\"#2a3f5f\"},\"baxis\":{\"endlinecolor\":\"#2a3f5f\",\"gridcolor\":\"white\",\"linecolor\":\"white\",\"minorgridcolor\":\"white\",\"startlinecolor\":\"#2a3f5f\"},\"type\":\"carpet\"}],\"choropleth\":[{\"colorbar\":{\"outlinewidth\":0,\"ticks\":\"\"},\"type\":\"choropleth\"}],\"contourcarpet\":[{\"colorbar\":{\"outlinewidth\":0,\"ticks\":\"\"},\"type\":\"contourcarpet\"}],\"contour\":[{\"colorbar\":{\"outlinewidth\":0,\"ticks\":\"\"},\"colorscale\":[[0.0,\"#0d0887\"],[0.1111111111111111,\"#46039f\"],[0.2222222222222222,\"#7201a8\"],[0.3333333333333333,\"#9c179e\"],[0.4444444444444444,\"#bd3786\"],[0.5555555555555556,\"#d8576b\"],[0.6666666666666666,\"#ed7953\"],[0.7777777777777778,\"#fb9f3a\"],[0.8888888888888888,\"#fdca26\"],[1.0,\"#f0f921\"]],\"type\":\"contour\"}],\"heatmapgl\":[{\"colorbar\":{\"outlinewidth\":0,\"ticks\":\"\"},\"colorscale\":[[0.0,\"#0d0887\"],[0.1111111111111111,\"#46039f\"],[0.2222222222222222,\"#7201a8\"],[0.3333333333333333,\"#9c179e\"],[0.4444444444444444,\"#bd3786\"],[0.5555555555555556,\"#d8576b\"],[0.6666666666666666,\"#ed7953\"],[0.7777777777777778,\"#fb9f3a\"],[0.8888888888888888,\"#fdca26\"],[1.0,\"#f0f921\"]],\"type\":\"heatmapgl\"}],\"heatmap\":[{\"colorbar\":{\"outlinewidth\":0,\"ticks\":\"\"},\"colorscale\":[[0.0,\"#0d0887\"],[0.1111111111111111,\"#46039f\"],[0.2222222222222222,\"#7201a8\"],[0.3333333333333333,\"#9c179e\"],[0.4444444444444444,\"#bd3786\"],[0.5555555555555556,\"#d8576b\"],[0.6666666666666666,\"#ed7953\"],[0.7777777777777778,\"#fb9f3a\"],[0.8888888888888888,\"#fdca26\"],[1.0,\"#f0f921\"]],\"type\":\"heatmap\"}],\"histogram2dcontour\":[{\"colorbar\":{\"outlinewidth\":0,\"ticks\":\"\"},\"colorscale\":[[0.0,\"#0d0887\"],[0.1111111111111111,\"#46039f\"],[0.2222222222222222,\"#7201a8\"],[0.3333333333333333,\"#9c179e\"],[0.4444444444444444,\"#bd3786\"],[0.5555555555555556,\"#d8576b\"],[0.6666666666666666,\"#ed7953\"],[0.7777777777777778,\"#fb9f3a\"],[0.8888888888888888,\"#fdca26\"],[1.0,\"#f0f921\"]],\"type\":\"histogram2dcontour\"}],\"histogram2d\":[{\"colorbar\":{\"outlinewidth\":0,\"ticks\":\"\"},\"colorscale\":[[0.0,\"#0d0887\"],[0.1111111111111111,\"#46039f\"],[0.2222222222222222,\"#7201a8\"],[0.3333333333333333,\"#9c179e\"],[0.4444444444444444,\"#bd3786\"],[0.5555555555555556,\"#d8576b\"],[0.6666666666666666,\"#ed7953\"],[0.7777777777777778,\"#fb9f3a\"],[0.8888888888888888,\"#fdca26\"],[1.0,\"#f0f921\"]],\"type\":\"histogram2d\"}],\"histogram\":[{\"marker\":{\"pattern\":{\"fillmode\":\"overlay\",\"size\":10,\"solidity\":0.2}},\"type\":\"histogram\"}],\"mesh3d\":[{\"colorbar\":{\"outlinewidth\":0,\"ticks\":\"\"},\"type\":\"mesh3d\"}],\"parcoords\":[{\"line\":{\"colorbar\":{\"outlinewidth\":0,\"ticks\":\"\"}},\"type\":\"parcoords\"}],\"pie\":[{\"automargin\":true,\"type\":\"pie\"}],\"scatter3d\":[{\"line\":{\"colorbar\":{\"outlinewidth\":0,\"ticks\":\"\"}},\"marker\":{\"colorbar\":{\"outlinewidth\":0,\"ticks\":\"\"}},\"type\":\"scatter3d\"}],\"scattercarpet\":[{\"marker\":{\"colorbar\":{\"outlinewidth\":0,\"ticks\":\"\"}},\"type\":\"scattercarpet\"}],\"scattergeo\":[{\"marker\":{\"colorbar\":{\"outlinewidth\":0,\"ticks\":\"\"}},\"type\":\"scattergeo\"}],\"scattergl\":[{\"marker\":{\"colorbar\":{\"outlinewidth\":0,\"ticks\":\"\"}},\"type\":\"scattergl\"}],\"scattermapbox\":[{\"marker\":{\"colorbar\":{\"outlinewidth\":0,\"ticks\":\"\"}},\"type\":\"scattermapbox\"}],\"scatterpolargl\":[{\"marker\":{\"colorbar\":{\"outlinewidth\":0,\"ticks\":\"\"}},\"type\":\"scatterpolargl\"}],\"scatterpolar\":[{\"marker\":{\"colorbar\":{\"outlinewidth\":0,\"ticks\":\"\"}},\"type\":\"scatterpolar\"}],\"scatter\":[{\"fillpattern\":{\"fillmode\":\"overlay\",\"size\":10,\"solidity\":0.2},\"type\":\"scatter\"}],\"scatterternary\":[{\"marker\":{\"colorbar\":{\"outlinewidth\":0,\"ticks\":\"\"}},\"type\":\"scatterternary\"}],\"surface\":[{\"colorbar\":{\"outlinewidth\":0,\"ticks\":\"\"},\"colorscale\":[[0.0,\"#0d0887\"],[0.1111111111111111,\"#46039f\"],[0.2222222222222222,\"#7201a8\"],[0.3333333333333333,\"#9c179e\"],[0.4444444444444444,\"#bd3786\"],[0.5555555555555556,\"#d8576b\"],[0.6666666666666666,\"#ed7953\"],[0.7777777777777778,\"#fb9f3a\"],[0.8888888888888888,\"#fdca26\"],[1.0,\"#f0f921\"]],\"type\":\"surface\"}],\"table\":[{\"cells\":{\"fill\":{\"color\":\"#EBF0F8\"},\"line\":{\"color\":\"white\"}},\"header\":{\"fill\":{\"color\":\"#C8D4E3\"},\"line\":{\"color\":\"white\"}},\"type\":\"table\"}]},\"layout\":{\"annotationdefaults\":{\"arrowcolor\":\"#2a3f5f\",\"arrowhead\":0,\"arrowwidth\":1},\"autotypenumbers\":\"strict\",\"coloraxis\":{\"colorbar\":{\"outlinewidth\":0,\"ticks\":\"\"}},\"colorscale\":{\"diverging\":[[0,\"#8e0152\"],[0.1,\"#c51b7d\"],[0.2,\"#de77ae\"],[0.3,\"#f1b6da\"],[0.4,\"#fde0ef\"],[0.5,\"#f7f7f7\"],[0.6,\"#e6f5d0\"],[0.7,\"#b8e186\"],[0.8,\"#7fbc41\"],[0.9,\"#4d9221\"],[1,\"#276419\"]],\"sequential\":[[0.0,\"#0d0887\"],[0.1111111111111111,\"#46039f\"],[0.2222222222222222,\"#7201a8\"],[0.3333333333333333,\"#9c179e\"],[0.4444444444444444,\"#bd3786\"],[0.5555555555555556,\"#d8576b\"],[0.6666666666666666,\"#ed7953\"],[0.7777777777777778,\"#fb9f3a\"],[0.8888888888888888,\"#fdca26\"],[1.0,\"#f0f921\"]],\"sequentialminus\":[[0.0,\"#0d0887\"],[0.1111111111111111,\"#46039f\"],[0.2222222222222222,\"#7201a8\"],[0.3333333333333333,\"#9c179e\"],[0.4444444444444444,\"#bd3786\"],[0.5555555555555556,\"#d8576b\"],[0.6666666666666666,\"#ed7953\"],[0.7777777777777778,\"#fb9f3a\"],[0.8888888888888888,\"#fdca26\"],[1.0,\"#f0f921\"]]},\"colorway\":[\"#636efa\",\"#EF553B\",\"#00cc96\",\"#ab63fa\",\"#FFA15A\",\"#19d3f3\",\"#FF6692\",\"#B6E880\",\"#FF97FF\",\"#FECB52\"],\"font\":{\"color\":\"#2a3f5f\"},\"geo\":{\"bgcolor\":\"white\",\"lakecolor\":\"white\",\"landcolor\":\"#E5ECF6\",\"showlakes\":true,\"showland\":true,\"subunitcolor\":\"white\"},\"hoverlabel\":{\"align\":\"left\"},\"hovermode\":\"closest\",\"mapbox\":{\"style\":\"light\"},\"paper_bgcolor\":\"white\",\"plot_bgcolor\":\"#E5ECF6\",\"polar\":{\"angularaxis\":{\"gridcolor\":\"white\",\"linecolor\":\"white\",\"ticks\":\"\"},\"bgcolor\":\"#E5ECF6\",\"radialaxis\":{\"gridcolor\":\"white\",\"linecolor\":\"white\",\"ticks\":\"\"}},\"scene\":{\"xaxis\":{\"backgroundcolor\":\"#E5ECF6\",\"gridcolor\":\"white\",\"gridwidth\":2,\"linecolor\":\"white\",\"showbackground\":true,\"ticks\":\"\",\"zerolinecolor\":\"white\"},\"yaxis\":{\"backgroundcolor\":\"#E5ECF6\",\"gridcolor\":\"white\",\"gridwidth\":2,\"linecolor\":\"white\",\"showbackground\":true,\"ticks\":\"\",\"zerolinecolor\":\"white\"},\"zaxis\":{\"backgroundcolor\":\"#E5ECF6\",\"gridcolor\":\"white\",\"gridwidth\":2,\"linecolor\":\"white\",\"showbackground\":true,\"ticks\":\"\",\"zerolinecolor\":\"white\"}},\"shapedefaults\":{\"line\":{\"color\":\"#2a3f5f\"}},\"ternary\":{\"aaxis\":{\"gridcolor\":\"white\",\"linecolor\":\"white\",\"ticks\":\"\"},\"baxis\":{\"gridcolor\":\"white\",\"linecolor\":\"white\",\"ticks\":\"\"},\"bgcolor\":\"#E5ECF6\",\"caxis\":{\"gridcolor\":\"white\",\"linecolor\":\"white\",\"ticks\":\"\"}},\"title\":{\"x\":0.05},\"xaxis\":{\"automargin\":true,\"gridcolor\":\"white\",\"linecolor\":\"white\",\"ticks\":\"\",\"title\":{\"standoff\":15},\"zerolinecolor\":\"white\",\"zerolinewidth\":2},\"yaxis\":{\"automargin\":true,\"gridcolor\":\"white\",\"linecolor\":\"white\",\"ticks\":\"\",\"title\":{\"standoff\":15},\"zerolinecolor\":\"white\",\"zerolinewidth\":2}}},\"title\":{\"font\":{\"color\":\"#4D5663\"}},\"xaxis\":{\"gridcolor\":\"#E1E5ED\",\"showgrid\":true,\"tickfont\":{\"color\":\"#4D5663\"},\"title\":{\"font\":{\"color\":\"#4D5663\"},\"text\":\"\"},\"zerolinecolor\":\"#E1E5ED\"},\"yaxis\":{\"gridcolor\":\"#E1E5ED\",\"showgrid\":true,\"tickfont\":{\"color\":\"#4D5663\"},\"title\":{\"font\":{\"color\":\"#4D5663\"},\"text\":\"\"},\"zerolinecolor\":\"#E1E5ED\"}},                        {\"showLink\": true, \"linkText\": \"Export to plot.ly\", \"plotlyServerURL\": \"https://plot.ly\", \"responsive\": true}                    ).then(function(){\n",
       "                            \n",
       "var gd = document.getElementById('485ca0d3-1a3e-4cda-9227-473fe98a0646');\n",
       "var x = new MutationObserver(function (mutations, observer) {{\n",
       "        var display = window.getComputedStyle(gd).display;\n",
       "        if (!display || display === 'none') {{\n",
       "            console.log([gd, 'removed!']);\n",
       "            Plotly.purge(gd);\n",
       "            observer.disconnect();\n",
       "        }}\n",
       "}});\n",
       "\n",
       "// Listen for the removal of the full notebook cells\n",
       "var notebookContainer = gd.closest('#notebook-container');\n",
       "if (notebookContainer) {{\n",
       "    x.observe(notebookContainer, {childList: true});\n",
       "}}\n",
       "\n",
       "// Listen for the clearing of the current output cell\n",
       "var outputEl = gd.closest('.output');\n",
       "if (outputEl) {{\n",
       "    x.observe(outputEl, {childList: true});\n",
       "}}\n",
       "\n",
       "                        })                };                });            </script>        </div>"
      ]
     },
     "metadata": {},
     "output_type": "display_data"
    }
   ],
   "source": [
    "df3.iplot(kind='surface')"
   ]
  },
  {
   "cell_type": "code",
   "execution_count": 26,
   "id": "2f551005",
   "metadata": {},
   "outputs": [
    {
     "data": {
      "application/vnd.plotly.v1+json": {
       "config": {
        "linkText": "Export to plot.ly",
        "plotlyServerURL": "https://plot.ly",
        "showLink": true
       },
       "data": [
        {
         "colorscale": [
          [
           0,
           "rgb(165,0,38)"
          ],
          [
           0.1,
           "rgb(215,48,39)"
          ],
          [
           0.2,
           "rgb(244,109,67)"
          ],
          [
           0.3,
           "rgb(253,174,97)"
          ],
          [
           0.4,
           "rgb(254,224,144)"
          ],
          [
           0.5,
           "rgb(255,255,191)"
          ],
          [
           0.6,
           "rgb(224,243,248)"
          ],
          [
           0.7,
           "rgb(171,217,233)"
          ],
          [
           0.8,
           "rgb(116,173,209)"
          ],
          [
           0.9,
           "rgb(69,117,180)"
          ],
          [
           1,
           "rgb(49,54,149)"
          ]
         ],
         "type": "surface",
         "x": [
          0,
          1,
          2,
          3,
          4
         ],
         "y": [
          "X",
          "Y",
          "Z"
         ],
         "z": [
          [
           1,
           2,
           3,
           4,
           5
          ],
          [
           10,
           20,
           30,
           20,
           10
          ],
          [
           5,
           4,
           3,
           2,
           1
          ]
         ]
        }
       ],
       "layout": {
        "legend": {
         "bgcolor": "#F5F6F9",
         "font": {
          "color": "#4D5663"
         }
        },
        "paper_bgcolor": "#F5F6F9",
        "plot_bgcolor": "#F5F6F9",
        "template": {
         "data": {
          "bar": [
           {
            "error_x": {
             "color": "#2a3f5f"
            },
            "error_y": {
             "color": "#2a3f5f"
            },
            "marker": {
             "line": {
              "color": "#E5ECF6",
              "width": 0.5
             },
             "pattern": {
              "fillmode": "overlay",
              "size": 10,
              "solidity": 0.2
             }
            },
            "type": "bar"
           }
          ],
          "barpolar": [
           {
            "marker": {
             "line": {
              "color": "#E5ECF6",
              "width": 0.5
             },
             "pattern": {
              "fillmode": "overlay",
              "size": 10,
              "solidity": 0.2
             }
            },
            "type": "barpolar"
           }
          ],
          "carpet": [
           {
            "aaxis": {
             "endlinecolor": "#2a3f5f",
             "gridcolor": "white",
             "linecolor": "white",
             "minorgridcolor": "white",
             "startlinecolor": "#2a3f5f"
            },
            "baxis": {
             "endlinecolor": "#2a3f5f",
             "gridcolor": "white",
             "linecolor": "white",
             "minorgridcolor": "white",
             "startlinecolor": "#2a3f5f"
            },
            "type": "carpet"
           }
          ],
          "choropleth": [
           {
            "colorbar": {
             "outlinewidth": 0,
             "ticks": ""
            },
            "type": "choropleth"
           }
          ],
          "contour": [
           {
            "colorbar": {
             "outlinewidth": 0,
             "ticks": ""
            },
            "colorscale": [
             [
              0,
              "#0d0887"
             ],
             [
              0.1111111111111111,
              "#46039f"
             ],
             [
              0.2222222222222222,
              "#7201a8"
             ],
             [
              0.3333333333333333,
              "#9c179e"
             ],
             [
              0.4444444444444444,
              "#bd3786"
             ],
             [
              0.5555555555555556,
              "#d8576b"
             ],
             [
              0.6666666666666666,
              "#ed7953"
             ],
             [
              0.7777777777777778,
              "#fb9f3a"
             ],
             [
              0.8888888888888888,
              "#fdca26"
             ],
             [
              1,
              "#f0f921"
             ]
            ],
            "type": "contour"
           }
          ],
          "contourcarpet": [
           {
            "colorbar": {
             "outlinewidth": 0,
             "ticks": ""
            },
            "type": "contourcarpet"
           }
          ],
          "heatmap": [
           {
            "colorbar": {
             "outlinewidth": 0,
             "ticks": ""
            },
            "colorscale": [
             [
              0,
              "#0d0887"
             ],
             [
              0.1111111111111111,
              "#46039f"
             ],
             [
              0.2222222222222222,
              "#7201a8"
             ],
             [
              0.3333333333333333,
              "#9c179e"
             ],
             [
              0.4444444444444444,
              "#bd3786"
             ],
             [
              0.5555555555555556,
              "#d8576b"
             ],
             [
              0.6666666666666666,
              "#ed7953"
             ],
             [
              0.7777777777777778,
              "#fb9f3a"
             ],
             [
              0.8888888888888888,
              "#fdca26"
             ],
             [
              1,
              "#f0f921"
             ]
            ],
            "type": "heatmap"
           }
          ],
          "heatmapgl": [
           {
            "colorbar": {
             "outlinewidth": 0,
             "ticks": ""
            },
            "colorscale": [
             [
              0,
              "#0d0887"
             ],
             [
              0.1111111111111111,
              "#46039f"
             ],
             [
              0.2222222222222222,
              "#7201a8"
             ],
             [
              0.3333333333333333,
              "#9c179e"
             ],
             [
              0.4444444444444444,
              "#bd3786"
             ],
             [
              0.5555555555555556,
              "#d8576b"
             ],
             [
              0.6666666666666666,
              "#ed7953"
             ],
             [
              0.7777777777777778,
              "#fb9f3a"
             ],
             [
              0.8888888888888888,
              "#fdca26"
             ],
             [
              1,
              "#f0f921"
             ]
            ],
            "type": "heatmapgl"
           }
          ],
          "histogram": [
           {
            "marker": {
             "pattern": {
              "fillmode": "overlay",
              "size": 10,
              "solidity": 0.2
             }
            },
            "type": "histogram"
           }
          ],
          "histogram2d": [
           {
            "colorbar": {
             "outlinewidth": 0,
             "ticks": ""
            },
            "colorscale": [
             [
              0,
              "#0d0887"
             ],
             [
              0.1111111111111111,
              "#46039f"
             ],
             [
              0.2222222222222222,
              "#7201a8"
             ],
             [
              0.3333333333333333,
              "#9c179e"
             ],
             [
              0.4444444444444444,
              "#bd3786"
             ],
             [
              0.5555555555555556,
              "#d8576b"
             ],
             [
              0.6666666666666666,
              "#ed7953"
             ],
             [
              0.7777777777777778,
              "#fb9f3a"
             ],
             [
              0.8888888888888888,
              "#fdca26"
             ],
             [
              1,
              "#f0f921"
             ]
            ],
            "type": "histogram2d"
           }
          ],
          "histogram2dcontour": [
           {
            "colorbar": {
             "outlinewidth": 0,
             "ticks": ""
            },
            "colorscale": [
             [
              0,
              "#0d0887"
             ],
             [
              0.1111111111111111,
              "#46039f"
             ],
             [
              0.2222222222222222,
              "#7201a8"
             ],
             [
              0.3333333333333333,
              "#9c179e"
             ],
             [
              0.4444444444444444,
              "#bd3786"
             ],
             [
              0.5555555555555556,
              "#d8576b"
             ],
             [
              0.6666666666666666,
              "#ed7953"
             ],
             [
              0.7777777777777778,
              "#fb9f3a"
             ],
             [
              0.8888888888888888,
              "#fdca26"
             ],
             [
              1,
              "#f0f921"
             ]
            ],
            "type": "histogram2dcontour"
           }
          ],
          "mesh3d": [
           {
            "colorbar": {
             "outlinewidth": 0,
             "ticks": ""
            },
            "type": "mesh3d"
           }
          ],
          "parcoords": [
           {
            "line": {
             "colorbar": {
              "outlinewidth": 0,
              "ticks": ""
             }
            },
            "type": "parcoords"
           }
          ],
          "pie": [
           {
            "automargin": true,
            "type": "pie"
           }
          ],
          "scatter": [
           {
            "fillpattern": {
             "fillmode": "overlay",
             "size": 10,
             "solidity": 0.2
            },
            "type": "scatter"
           }
          ],
          "scatter3d": [
           {
            "line": {
             "colorbar": {
              "outlinewidth": 0,
              "ticks": ""
             }
            },
            "marker": {
             "colorbar": {
              "outlinewidth": 0,
              "ticks": ""
             }
            },
            "type": "scatter3d"
           }
          ],
          "scattercarpet": [
           {
            "marker": {
             "colorbar": {
              "outlinewidth": 0,
              "ticks": ""
             }
            },
            "type": "scattercarpet"
           }
          ],
          "scattergeo": [
           {
            "marker": {
             "colorbar": {
              "outlinewidth": 0,
              "ticks": ""
             }
            },
            "type": "scattergeo"
           }
          ],
          "scattergl": [
           {
            "marker": {
             "colorbar": {
              "outlinewidth": 0,
              "ticks": ""
             }
            },
            "type": "scattergl"
           }
          ],
          "scattermapbox": [
           {
            "marker": {
             "colorbar": {
              "outlinewidth": 0,
              "ticks": ""
             }
            },
            "type": "scattermapbox"
           }
          ],
          "scatterpolar": [
           {
            "marker": {
             "colorbar": {
              "outlinewidth": 0,
              "ticks": ""
             }
            },
            "type": "scatterpolar"
           }
          ],
          "scatterpolargl": [
           {
            "marker": {
             "colorbar": {
              "outlinewidth": 0,
              "ticks": ""
             }
            },
            "type": "scatterpolargl"
           }
          ],
          "scatterternary": [
           {
            "marker": {
             "colorbar": {
              "outlinewidth": 0,
              "ticks": ""
             }
            },
            "type": "scatterternary"
           }
          ],
          "surface": [
           {
            "colorbar": {
             "outlinewidth": 0,
             "ticks": ""
            },
            "colorscale": [
             [
              0,
              "#0d0887"
             ],
             [
              0.1111111111111111,
              "#46039f"
             ],
             [
              0.2222222222222222,
              "#7201a8"
             ],
             [
              0.3333333333333333,
              "#9c179e"
             ],
             [
              0.4444444444444444,
              "#bd3786"
             ],
             [
              0.5555555555555556,
              "#d8576b"
             ],
             [
              0.6666666666666666,
              "#ed7953"
             ],
             [
              0.7777777777777778,
              "#fb9f3a"
             ],
             [
              0.8888888888888888,
              "#fdca26"
             ],
             [
              1,
              "#f0f921"
             ]
            ],
            "type": "surface"
           }
          ],
          "table": [
           {
            "cells": {
             "fill": {
              "color": "#EBF0F8"
             },
             "line": {
              "color": "white"
             }
            },
            "header": {
             "fill": {
              "color": "#C8D4E3"
             },
             "line": {
              "color": "white"
             }
            },
            "type": "table"
           }
          ]
         },
         "layout": {
          "annotationdefaults": {
           "arrowcolor": "#2a3f5f",
           "arrowhead": 0,
           "arrowwidth": 1
          },
          "autotypenumbers": "strict",
          "coloraxis": {
           "colorbar": {
            "outlinewidth": 0,
            "ticks": ""
           }
          },
          "colorscale": {
           "diverging": [
            [
             0,
             "#8e0152"
            ],
            [
             0.1,
             "#c51b7d"
            ],
            [
             0.2,
             "#de77ae"
            ],
            [
             0.3,
             "#f1b6da"
            ],
            [
             0.4,
             "#fde0ef"
            ],
            [
             0.5,
             "#f7f7f7"
            ],
            [
             0.6,
             "#e6f5d0"
            ],
            [
             0.7,
             "#b8e186"
            ],
            [
             0.8,
             "#7fbc41"
            ],
            [
             0.9,
             "#4d9221"
            ],
            [
             1,
             "#276419"
            ]
           ],
           "sequential": [
            [
             0,
             "#0d0887"
            ],
            [
             0.1111111111111111,
             "#46039f"
            ],
            [
             0.2222222222222222,
             "#7201a8"
            ],
            [
             0.3333333333333333,
             "#9c179e"
            ],
            [
             0.4444444444444444,
             "#bd3786"
            ],
            [
             0.5555555555555556,
             "#d8576b"
            ],
            [
             0.6666666666666666,
             "#ed7953"
            ],
            [
             0.7777777777777778,
             "#fb9f3a"
            ],
            [
             0.8888888888888888,
             "#fdca26"
            ],
            [
             1,
             "#f0f921"
            ]
           ],
           "sequentialminus": [
            [
             0,
             "#0d0887"
            ],
            [
             0.1111111111111111,
             "#46039f"
            ],
            [
             0.2222222222222222,
             "#7201a8"
            ],
            [
             0.3333333333333333,
             "#9c179e"
            ],
            [
             0.4444444444444444,
             "#bd3786"
            ],
            [
             0.5555555555555556,
             "#d8576b"
            ],
            [
             0.6666666666666666,
             "#ed7953"
            ],
            [
             0.7777777777777778,
             "#fb9f3a"
            ],
            [
             0.8888888888888888,
             "#fdca26"
            ],
            [
             1,
             "#f0f921"
            ]
           ]
          },
          "colorway": [
           "#636efa",
           "#EF553B",
           "#00cc96",
           "#ab63fa",
           "#FFA15A",
           "#19d3f3",
           "#FF6692",
           "#B6E880",
           "#FF97FF",
           "#FECB52"
          ],
          "font": {
           "color": "#2a3f5f"
          },
          "geo": {
           "bgcolor": "white",
           "lakecolor": "white",
           "landcolor": "#E5ECF6",
           "showlakes": true,
           "showland": true,
           "subunitcolor": "white"
          },
          "hoverlabel": {
           "align": "left"
          },
          "hovermode": "closest",
          "mapbox": {
           "style": "light"
          },
          "paper_bgcolor": "white",
          "plot_bgcolor": "#E5ECF6",
          "polar": {
           "angularaxis": {
            "gridcolor": "white",
            "linecolor": "white",
            "ticks": ""
           },
           "bgcolor": "#E5ECF6",
           "radialaxis": {
            "gridcolor": "white",
            "linecolor": "white",
            "ticks": ""
           }
          },
          "scene": {
           "xaxis": {
            "backgroundcolor": "#E5ECF6",
            "gridcolor": "white",
            "gridwidth": 2,
            "linecolor": "white",
            "showbackground": true,
            "ticks": "",
            "zerolinecolor": "white"
           },
           "yaxis": {
            "backgroundcolor": "#E5ECF6",
            "gridcolor": "white",
            "gridwidth": 2,
            "linecolor": "white",
            "showbackground": true,
            "ticks": "",
            "zerolinecolor": "white"
           },
           "zaxis": {
            "backgroundcolor": "#E5ECF6",
            "gridcolor": "white",
            "gridwidth": 2,
            "linecolor": "white",
            "showbackground": true,
            "ticks": "",
            "zerolinecolor": "white"
           }
          },
          "shapedefaults": {
           "line": {
            "color": "#2a3f5f"
           }
          },
          "ternary": {
           "aaxis": {
            "gridcolor": "white",
            "linecolor": "white",
            "ticks": ""
           },
           "baxis": {
            "gridcolor": "white",
            "linecolor": "white",
            "ticks": ""
           },
           "bgcolor": "#E5ECF6",
           "caxis": {
            "gridcolor": "white",
            "linecolor": "white",
            "ticks": ""
           }
          },
          "title": {
           "x": 0.05
          },
          "xaxis": {
           "automargin": true,
           "gridcolor": "white",
           "linecolor": "white",
           "ticks": "",
           "title": {
            "standoff": 15
           },
           "zerolinecolor": "white",
           "zerolinewidth": 2
          },
          "yaxis": {
           "automargin": true,
           "gridcolor": "white",
           "linecolor": "white",
           "ticks": "",
           "title": {
            "standoff": 15
           },
           "zerolinecolor": "white",
           "zerolinewidth": 2
          }
         }
        },
        "title": {
         "font": {
          "color": "#4D5663"
         }
        },
        "xaxis": {
         "gridcolor": "#E1E5ED",
         "showgrid": true,
         "tickfont": {
          "color": "#4D5663"
         },
         "title": {
          "font": {
           "color": "#4D5663"
          },
          "text": ""
         },
         "zerolinecolor": "#E1E5ED"
        },
        "yaxis": {
         "gridcolor": "#E1E5ED",
         "showgrid": true,
         "tickfont": {
          "color": "#4D5663"
         },
         "title": {
          "font": {
           "color": "#4D5663"
          },
          "text": ""
         },
         "zerolinecolor": "#E1E5ED"
        }
       }
      },
      "text/html": [
       "<div>                            <div id=\"f55a1bb9-c73e-4d16-bad9-e36498fdc623\" class=\"plotly-graph-div\" style=\"height:525px; width:100%;\"></div>            <script type=\"text/javascript\">                require([\"plotly\"], function(Plotly) {                    window.PLOTLYENV=window.PLOTLYENV || {};\n",
       "                    window.PLOTLYENV.BASE_URL='https://plot.ly';                                    if (document.getElementById(\"f55a1bb9-c73e-4d16-bad9-e36498fdc623\")) {                    Plotly.newPlot(                        \"f55a1bb9-c73e-4d16-bad9-e36498fdc623\",                        [{\"colorscale\":[[0.0,\"rgb(165,0,38)\"],[0.1,\"rgb(215,48,39)\"],[0.2,\"rgb(244,109,67)\"],[0.3,\"rgb(253,174,97)\"],[0.4,\"rgb(254,224,144)\"],[0.5,\"rgb(255,255,191)\"],[0.6,\"rgb(224,243,248)\"],[0.7,\"rgb(171,217,233)\"],[0.8,\"rgb(116,173,209)\"],[0.9,\"rgb(69,117,180)\"],[1.0,\"rgb(49,54,149)\"]],\"x\":[0,1,2,3,4],\"y\":[\"X\",\"Y\",\"Z\"],\"z\":[[1,2,3,4,5],[10,20,30,20,10],[5,4,3,2,1]],\"type\":\"surface\"}],                        {\"legend\":{\"bgcolor\":\"#F5F6F9\",\"font\":{\"color\":\"#4D5663\"}},\"paper_bgcolor\":\"#F5F6F9\",\"plot_bgcolor\":\"#F5F6F9\",\"template\":{\"data\":{\"barpolar\":[{\"marker\":{\"line\":{\"color\":\"#E5ECF6\",\"width\":0.5},\"pattern\":{\"fillmode\":\"overlay\",\"size\":10,\"solidity\":0.2}},\"type\":\"barpolar\"}],\"bar\":[{\"error_x\":{\"color\":\"#2a3f5f\"},\"error_y\":{\"color\":\"#2a3f5f\"},\"marker\":{\"line\":{\"color\":\"#E5ECF6\",\"width\":0.5},\"pattern\":{\"fillmode\":\"overlay\",\"size\":10,\"solidity\":0.2}},\"type\":\"bar\"}],\"carpet\":[{\"aaxis\":{\"endlinecolor\":\"#2a3f5f\",\"gridcolor\":\"white\",\"linecolor\":\"white\",\"minorgridcolor\":\"white\",\"startlinecolor\":\"#2a3f5f\"},\"baxis\":{\"endlinecolor\":\"#2a3f5f\",\"gridcolor\":\"white\",\"linecolor\":\"white\",\"minorgridcolor\":\"white\",\"startlinecolor\":\"#2a3f5f\"},\"type\":\"carpet\"}],\"choropleth\":[{\"colorbar\":{\"outlinewidth\":0,\"ticks\":\"\"},\"type\":\"choropleth\"}],\"contourcarpet\":[{\"colorbar\":{\"outlinewidth\":0,\"ticks\":\"\"},\"type\":\"contourcarpet\"}],\"contour\":[{\"colorbar\":{\"outlinewidth\":0,\"ticks\":\"\"},\"colorscale\":[[0.0,\"#0d0887\"],[0.1111111111111111,\"#46039f\"],[0.2222222222222222,\"#7201a8\"],[0.3333333333333333,\"#9c179e\"],[0.4444444444444444,\"#bd3786\"],[0.5555555555555556,\"#d8576b\"],[0.6666666666666666,\"#ed7953\"],[0.7777777777777778,\"#fb9f3a\"],[0.8888888888888888,\"#fdca26\"],[1.0,\"#f0f921\"]],\"type\":\"contour\"}],\"heatmapgl\":[{\"colorbar\":{\"outlinewidth\":0,\"ticks\":\"\"},\"colorscale\":[[0.0,\"#0d0887\"],[0.1111111111111111,\"#46039f\"],[0.2222222222222222,\"#7201a8\"],[0.3333333333333333,\"#9c179e\"],[0.4444444444444444,\"#bd3786\"],[0.5555555555555556,\"#d8576b\"],[0.6666666666666666,\"#ed7953\"],[0.7777777777777778,\"#fb9f3a\"],[0.8888888888888888,\"#fdca26\"],[1.0,\"#f0f921\"]],\"type\":\"heatmapgl\"}],\"heatmap\":[{\"colorbar\":{\"outlinewidth\":0,\"ticks\":\"\"},\"colorscale\":[[0.0,\"#0d0887\"],[0.1111111111111111,\"#46039f\"],[0.2222222222222222,\"#7201a8\"],[0.3333333333333333,\"#9c179e\"],[0.4444444444444444,\"#bd3786\"],[0.5555555555555556,\"#d8576b\"],[0.6666666666666666,\"#ed7953\"],[0.7777777777777778,\"#fb9f3a\"],[0.8888888888888888,\"#fdca26\"],[1.0,\"#f0f921\"]],\"type\":\"heatmap\"}],\"histogram2dcontour\":[{\"colorbar\":{\"outlinewidth\":0,\"ticks\":\"\"},\"colorscale\":[[0.0,\"#0d0887\"],[0.1111111111111111,\"#46039f\"],[0.2222222222222222,\"#7201a8\"],[0.3333333333333333,\"#9c179e\"],[0.4444444444444444,\"#bd3786\"],[0.5555555555555556,\"#d8576b\"],[0.6666666666666666,\"#ed7953\"],[0.7777777777777778,\"#fb9f3a\"],[0.8888888888888888,\"#fdca26\"],[1.0,\"#f0f921\"]],\"type\":\"histogram2dcontour\"}],\"histogram2d\":[{\"colorbar\":{\"outlinewidth\":0,\"ticks\":\"\"},\"colorscale\":[[0.0,\"#0d0887\"],[0.1111111111111111,\"#46039f\"],[0.2222222222222222,\"#7201a8\"],[0.3333333333333333,\"#9c179e\"],[0.4444444444444444,\"#bd3786\"],[0.5555555555555556,\"#d8576b\"],[0.6666666666666666,\"#ed7953\"],[0.7777777777777778,\"#fb9f3a\"],[0.8888888888888888,\"#fdca26\"],[1.0,\"#f0f921\"]],\"type\":\"histogram2d\"}],\"histogram\":[{\"marker\":{\"pattern\":{\"fillmode\":\"overlay\",\"size\":10,\"solidity\":0.2}},\"type\":\"histogram\"}],\"mesh3d\":[{\"colorbar\":{\"outlinewidth\":0,\"ticks\":\"\"},\"type\":\"mesh3d\"}],\"parcoords\":[{\"line\":{\"colorbar\":{\"outlinewidth\":0,\"ticks\":\"\"}},\"type\":\"parcoords\"}],\"pie\":[{\"automargin\":true,\"type\":\"pie\"}],\"scatter3d\":[{\"line\":{\"colorbar\":{\"outlinewidth\":0,\"ticks\":\"\"}},\"marker\":{\"colorbar\":{\"outlinewidth\":0,\"ticks\":\"\"}},\"type\":\"scatter3d\"}],\"scattercarpet\":[{\"marker\":{\"colorbar\":{\"outlinewidth\":0,\"ticks\":\"\"}},\"type\":\"scattercarpet\"}],\"scattergeo\":[{\"marker\":{\"colorbar\":{\"outlinewidth\":0,\"ticks\":\"\"}},\"type\":\"scattergeo\"}],\"scattergl\":[{\"marker\":{\"colorbar\":{\"outlinewidth\":0,\"ticks\":\"\"}},\"type\":\"scattergl\"}],\"scattermapbox\":[{\"marker\":{\"colorbar\":{\"outlinewidth\":0,\"ticks\":\"\"}},\"type\":\"scattermapbox\"}],\"scatterpolargl\":[{\"marker\":{\"colorbar\":{\"outlinewidth\":0,\"ticks\":\"\"}},\"type\":\"scatterpolargl\"}],\"scatterpolar\":[{\"marker\":{\"colorbar\":{\"outlinewidth\":0,\"ticks\":\"\"}},\"type\":\"scatterpolar\"}],\"scatter\":[{\"fillpattern\":{\"fillmode\":\"overlay\",\"size\":10,\"solidity\":0.2},\"type\":\"scatter\"}],\"scatterternary\":[{\"marker\":{\"colorbar\":{\"outlinewidth\":0,\"ticks\":\"\"}},\"type\":\"scatterternary\"}],\"surface\":[{\"colorbar\":{\"outlinewidth\":0,\"ticks\":\"\"},\"colorscale\":[[0.0,\"#0d0887\"],[0.1111111111111111,\"#46039f\"],[0.2222222222222222,\"#7201a8\"],[0.3333333333333333,\"#9c179e\"],[0.4444444444444444,\"#bd3786\"],[0.5555555555555556,\"#d8576b\"],[0.6666666666666666,\"#ed7953\"],[0.7777777777777778,\"#fb9f3a\"],[0.8888888888888888,\"#fdca26\"],[1.0,\"#f0f921\"]],\"type\":\"surface\"}],\"table\":[{\"cells\":{\"fill\":{\"color\":\"#EBF0F8\"},\"line\":{\"color\":\"white\"}},\"header\":{\"fill\":{\"color\":\"#C8D4E3\"},\"line\":{\"color\":\"white\"}},\"type\":\"table\"}]},\"layout\":{\"annotationdefaults\":{\"arrowcolor\":\"#2a3f5f\",\"arrowhead\":0,\"arrowwidth\":1},\"autotypenumbers\":\"strict\",\"coloraxis\":{\"colorbar\":{\"outlinewidth\":0,\"ticks\":\"\"}},\"colorscale\":{\"diverging\":[[0,\"#8e0152\"],[0.1,\"#c51b7d\"],[0.2,\"#de77ae\"],[0.3,\"#f1b6da\"],[0.4,\"#fde0ef\"],[0.5,\"#f7f7f7\"],[0.6,\"#e6f5d0\"],[0.7,\"#b8e186\"],[0.8,\"#7fbc41\"],[0.9,\"#4d9221\"],[1,\"#276419\"]],\"sequential\":[[0.0,\"#0d0887\"],[0.1111111111111111,\"#46039f\"],[0.2222222222222222,\"#7201a8\"],[0.3333333333333333,\"#9c179e\"],[0.4444444444444444,\"#bd3786\"],[0.5555555555555556,\"#d8576b\"],[0.6666666666666666,\"#ed7953\"],[0.7777777777777778,\"#fb9f3a\"],[0.8888888888888888,\"#fdca26\"],[1.0,\"#f0f921\"]],\"sequentialminus\":[[0.0,\"#0d0887\"],[0.1111111111111111,\"#46039f\"],[0.2222222222222222,\"#7201a8\"],[0.3333333333333333,\"#9c179e\"],[0.4444444444444444,\"#bd3786\"],[0.5555555555555556,\"#d8576b\"],[0.6666666666666666,\"#ed7953\"],[0.7777777777777778,\"#fb9f3a\"],[0.8888888888888888,\"#fdca26\"],[1.0,\"#f0f921\"]]},\"colorway\":[\"#636efa\",\"#EF553B\",\"#00cc96\",\"#ab63fa\",\"#FFA15A\",\"#19d3f3\",\"#FF6692\",\"#B6E880\",\"#FF97FF\",\"#FECB52\"],\"font\":{\"color\":\"#2a3f5f\"},\"geo\":{\"bgcolor\":\"white\",\"lakecolor\":\"white\",\"landcolor\":\"#E5ECF6\",\"showlakes\":true,\"showland\":true,\"subunitcolor\":\"white\"},\"hoverlabel\":{\"align\":\"left\"},\"hovermode\":\"closest\",\"mapbox\":{\"style\":\"light\"},\"paper_bgcolor\":\"white\",\"plot_bgcolor\":\"#E5ECF6\",\"polar\":{\"angularaxis\":{\"gridcolor\":\"white\",\"linecolor\":\"white\",\"ticks\":\"\"},\"bgcolor\":\"#E5ECF6\",\"radialaxis\":{\"gridcolor\":\"white\",\"linecolor\":\"white\",\"ticks\":\"\"}},\"scene\":{\"xaxis\":{\"backgroundcolor\":\"#E5ECF6\",\"gridcolor\":\"white\",\"gridwidth\":2,\"linecolor\":\"white\",\"showbackground\":true,\"ticks\":\"\",\"zerolinecolor\":\"white\"},\"yaxis\":{\"backgroundcolor\":\"#E5ECF6\",\"gridcolor\":\"white\",\"gridwidth\":2,\"linecolor\":\"white\",\"showbackground\":true,\"ticks\":\"\",\"zerolinecolor\":\"white\"},\"zaxis\":{\"backgroundcolor\":\"#E5ECF6\",\"gridcolor\":\"white\",\"gridwidth\":2,\"linecolor\":\"white\",\"showbackground\":true,\"ticks\":\"\",\"zerolinecolor\":\"white\"}},\"shapedefaults\":{\"line\":{\"color\":\"#2a3f5f\"}},\"ternary\":{\"aaxis\":{\"gridcolor\":\"white\",\"linecolor\":\"white\",\"ticks\":\"\"},\"baxis\":{\"gridcolor\":\"white\",\"linecolor\":\"white\",\"ticks\":\"\"},\"bgcolor\":\"#E5ECF6\",\"caxis\":{\"gridcolor\":\"white\",\"linecolor\":\"white\",\"ticks\":\"\"}},\"title\":{\"x\":0.05},\"xaxis\":{\"automargin\":true,\"gridcolor\":\"white\",\"linecolor\":\"white\",\"ticks\":\"\",\"title\":{\"standoff\":15},\"zerolinecolor\":\"white\",\"zerolinewidth\":2},\"yaxis\":{\"automargin\":true,\"gridcolor\":\"white\",\"linecolor\":\"white\",\"ticks\":\"\",\"title\":{\"standoff\":15},\"zerolinecolor\":\"white\",\"zerolinewidth\":2}}},\"title\":{\"font\":{\"color\":\"#4D5663\"}},\"xaxis\":{\"gridcolor\":\"#E1E5ED\",\"showgrid\":true,\"tickfont\":{\"color\":\"#4D5663\"},\"title\":{\"font\":{\"color\":\"#4D5663\"},\"text\":\"\"},\"zerolinecolor\":\"#E1E5ED\"},\"yaxis\":{\"gridcolor\":\"#E1E5ED\",\"showgrid\":true,\"tickfont\":{\"color\":\"#4D5663\"},\"title\":{\"font\":{\"color\":\"#4D5663\"},\"text\":\"\"},\"zerolinecolor\":\"#E1E5ED\"}},                        {\"showLink\": true, \"linkText\": \"Export to plot.ly\", \"plotlyServerURL\": \"https://plot.ly\", \"responsive\": true}                    ).then(function(){\n",
       "                            \n",
       "var gd = document.getElementById('f55a1bb9-c73e-4d16-bad9-e36498fdc623');\n",
       "var x = new MutationObserver(function (mutations, observer) {{\n",
       "        var display = window.getComputedStyle(gd).display;\n",
       "        if (!display || display === 'none') {{\n",
       "            console.log([gd, 'removed!']);\n",
       "            Plotly.purge(gd);\n",
       "            observer.disconnect();\n",
       "        }}\n",
       "}});\n",
       "\n",
       "// Listen for the removal of the full notebook cells\n",
       "var notebookContainer = gd.closest('#notebook-container');\n",
       "if (notebookContainer) {{\n",
       "    x.observe(notebookContainer, {childList: true});\n",
       "}}\n",
       "\n",
       "// Listen for the clearing of the current output cell\n",
       "var outputEl = gd.closest('.output');\n",
       "if (outputEl) {{\n",
       "    x.observe(outputEl, {childList: true});\n",
       "}}\n",
       "\n",
       "                        })                };                });            </script>        </div>"
      ]
     },
     "metadata": {},
     "output_type": "display_data"
    }
   ],
   "source": [
    "df3.iplot(kind='surface', colorscale='rdylbu')"
   ]
  },
  {
   "cell_type": "markdown",
   "id": "29788868",
   "metadata": {},
   "source": [
    "## Histogram"
   ]
  },
  {
   "cell_type": "code",
   "execution_count": 27,
   "id": "a26a9b78",
   "metadata": {},
   "outputs": [
    {
     "data": {
      "application/vnd.plotly.v1+json": {
       "config": {
        "linkText": "Export to plot.ly",
        "plotlyServerURL": "https://plot.ly",
        "showLink": true
       },
       "data": [
        {
         "histfunc": "count",
         "histnorm": "",
         "marker": {
          "color": "rgba(255, 153, 51, 1.0)",
          "line": {
           "color": "#4D5663",
           "width": 1.3
          }
         },
         "name": "A",
         "nbinsx": 50,
         "opacity": 0.8,
         "orientation": "v",
         "type": "histogram",
         "x": [
          0.042951484569504976,
          -0.2202853182291732,
          1.1734268801089391,
          -0.242857425217831,
          0.6763938161336688,
          -0.35387111095045287,
          -1.178873015258505,
          -0.9043748575099387,
          1.289961855900039,
          0.4024925419044032,
          0.47478873453097875,
          -1.5599979609496375,
          1.256435413677142,
          -1.0956306989431794,
          -0.4086611258433707,
          -1.3945695346151434,
          0.912962045848968,
          0.30730511387148135,
          -0.1939624564553397,
          1.4671933909894053,
          0.5694254821204012,
          -1.1931505134032656,
          1.5569400206519073,
          2.3296513255577835,
          0.21366883706439055,
          -0.7481852006274928,
          -1.047437879897871,
          -1.5665786547362606,
          -0.4195824696415362,
          0.7356706051151829,
          1.4854953122092205,
          -1.3585448502023059,
          0.6868115836283416,
          -0.8590019761193095,
          -0.3167758916209611,
          -2.5859566581957814,
          1.8802303072579827,
          0.33698592765530255,
          0.24253885461217137,
          -1.0610179368441957,
          0.6063985638659398,
          1.9432087735321149,
          -0.30963188399023234,
          -0.9478546493238559,
          1.6901316294856135,
          -0.9748813666852253,
          1.6306834387604556,
          0.5099483849696402,
          -0.8464325906049034,
          -0.5542596398999922,
          1.5009952174177925,
          -0.1652580228163639,
          0.01163057019334677,
          0.7861976487418677,
          -1.3589873822837037,
          -0.4793132050239744,
          -0.8884327703773046,
          -0.3284322245590626,
          -0.4240280239376068,
          0.22150415379237778,
          0.3881047010647667,
          -0.30205926100025343,
          0.26673438198881094,
          -1.591193149414884,
          0.8778887244884065,
          0.2209150355262721,
          1.0160545227316395,
          0.3491350139623226,
          -0.9537562700624382,
          1.687178900073207,
          0.6711975871514694,
          -0.47100392021657966,
          -0.4796751132677763,
          0.8899899575821433,
          -0.34435673664939204,
          -0.5704311813504567,
          0.17464690363311544,
          -0.7418420309705646,
          -0.6330916545993854,
          -1.5647070071417015,
          0.1292205238573053,
          0.17257583531658205,
          0.5641384665414945,
          -1.2693499109193727,
          1.112215426407947,
          -0.6246175481905369,
          0.6243230099698143,
          -0.5868564679739539,
          -0.38798572600393394,
          -2.2238360986731847,
          0.39483428796649245,
          -1.5128431080727769,
          -0.17054727445722603,
          0.2785807882330337,
          0.12745026931076014,
          0.37528908825820756,
          0.01664120828374138,
          2.7111613412371853,
          0.6852940169202932,
          0.04551068262644309
         ]
        }
       ],
       "layout": {
        "barmode": "overlay",
        "legend": {
         "bgcolor": "#F5F6F9",
         "font": {
          "color": "#4D5663"
         }
        },
        "paper_bgcolor": "#F5F6F9",
        "plot_bgcolor": "#F5F6F9",
        "template": {
         "data": {
          "bar": [
           {
            "error_x": {
             "color": "#2a3f5f"
            },
            "error_y": {
             "color": "#2a3f5f"
            },
            "marker": {
             "line": {
              "color": "#E5ECF6",
              "width": 0.5
             },
             "pattern": {
              "fillmode": "overlay",
              "size": 10,
              "solidity": 0.2
             }
            },
            "type": "bar"
           }
          ],
          "barpolar": [
           {
            "marker": {
             "line": {
              "color": "#E5ECF6",
              "width": 0.5
             },
             "pattern": {
              "fillmode": "overlay",
              "size": 10,
              "solidity": 0.2
             }
            },
            "type": "barpolar"
           }
          ],
          "carpet": [
           {
            "aaxis": {
             "endlinecolor": "#2a3f5f",
             "gridcolor": "white",
             "linecolor": "white",
             "minorgridcolor": "white",
             "startlinecolor": "#2a3f5f"
            },
            "baxis": {
             "endlinecolor": "#2a3f5f",
             "gridcolor": "white",
             "linecolor": "white",
             "minorgridcolor": "white",
             "startlinecolor": "#2a3f5f"
            },
            "type": "carpet"
           }
          ],
          "choropleth": [
           {
            "colorbar": {
             "outlinewidth": 0,
             "ticks": ""
            },
            "type": "choropleth"
           }
          ],
          "contour": [
           {
            "colorbar": {
             "outlinewidth": 0,
             "ticks": ""
            },
            "colorscale": [
             [
              0,
              "#0d0887"
             ],
             [
              0.1111111111111111,
              "#46039f"
             ],
             [
              0.2222222222222222,
              "#7201a8"
             ],
             [
              0.3333333333333333,
              "#9c179e"
             ],
             [
              0.4444444444444444,
              "#bd3786"
             ],
             [
              0.5555555555555556,
              "#d8576b"
             ],
             [
              0.6666666666666666,
              "#ed7953"
             ],
             [
              0.7777777777777778,
              "#fb9f3a"
             ],
             [
              0.8888888888888888,
              "#fdca26"
             ],
             [
              1,
              "#f0f921"
             ]
            ],
            "type": "contour"
           }
          ],
          "contourcarpet": [
           {
            "colorbar": {
             "outlinewidth": 0,
             "ticks": ""
            },
            "type": "contourcarpet"
           }
          ],
          "heatmap": [
           {
            "colorbar": {
             "outlinewidth": 0,
             "ticks": ""
            },
            "colorscale": [
             [
              0,
              "#0d0887"
             ],
             [
              0.1111111111111111,
              "#46039f"
             ],
             [
              0.2222222222222222,
              "#7201a8"
             ],
             [
              0.3333333333333333,
              "#9c179e"
             ],
             [
              0.4444444444444444,
              "#bd3786"
             ],
             [
              0.5555555555555556,
              "#d8576b"
             ],
             [
              0.6666666666666666,
              "#ed7953"
             ],
             [
              0.7777777777777778,
              "#fb9f3a"
             ],
             [
              0.8888888888888888,
              "#fdca26"
             ],
             [
              1,
              "#f0f921"
             ]
            ],
            "type": "heatmap"
           }
          ],
          "heatmapgl": [
           {
            "colorbar": {
             "outlinewidth": 0,
             "ticks": ""
            },
            "colorscale": [
             [
              0,
              "#0d0887"
             ],
             [
              0.1111111111111111,
              "#46039f"
             ],
             [
              0.2222222222222222,
              "#7201a8"
             ],
             [
              0.3333333333333333,
              "#9c179e"
             ],
             [
              0.4444444444444444,
              "#bd3786"
             ],
             [
              0.5555555555555556,
              "#d8576b"
             ],
             [
              0.6666666666666666,
              "#ed7953"
             ],
             [
              0.7777777777777778,
              "#fb9f3a"
             ],
             [
              0.8888888888888888,
              "#fdca26"
             ],
             [
              1,
              "#f0f921"
             ]
            ],
            "type": "heatmapgl"
           }
          ],
          "histogram": [
           {
            "marker": {
             "pattern": {
              "fillmode": "overlay",
              "size": 10,
              "solidity": 0.2
             }
            },
            "type": "histogram"
           }
          ],
          "histogram2d": [
           {
            "colorbar": {
             "outlinewidth": 0,
             "ticks": ""
            },
            "colorscale": [
             [
              0,
              "#0d0887"
             ],
             [
              0.1111111111111111,
              "#46039f"
             ],
             [
              0.2222222222222222,
              "#7201a8"
             ],
             [
              0.3333333333333333,
              "#9c179e"
             ],
             [
              0.4444444444444444,
              "#bd3786"
             ],
             [
              0.5555555555555556,
              "#d8576b"
             ],
             [
              0.6666666666666666,
              "#ed7953"
             ],
             [
              0.7777777777777778,
              "#fb9f3a"
             ],
             [
              0.8888888888888888,
              "#fdca26"
             ],
             [
              1,
              "#f0f921"
             ]
            ],
            "type": "histogram2d"
           }
          ],
          "histogram2dcontour": [
           {
            "colorbar": {
             "outlinewidth": 0,
             "ticks": ""
            },
            "colorscale": [
             [
              0,
              "#0d0887"
             ],
             [
              0.1111111111111111,
              "#46039f"
             ],
             [
              0.2222222222222222,
              "#7201a8"
             ],
             [
              0.3333333333333333,
              "#9c179e"
             ],
             [
              0.4444444444444444,
              "#bd3786"
             ],
             [
              0.5555555555555556,
              "#d8576b"
             ],
             [
              0.6666666666666666,
              "#ed7953"
             ],
             [
              0.7777777777777778,
              "#fb9f3a"
             ],
             [
              0.8888888888888888,
              "#fdca26"
             ],
             [
              1,
              "#f0f921"
             ]
            ],
            "type": "histogram2dcontour"
           }
          ],
          "mesh3d": [
           {
            "colorbar": {
             "outlinewidth": 0,
             "ticks": ""
            },
            "type": "mesh3d"
           }
          ],
          "parcoords": [
           {
            "line": {
             "colorbar": {
              "outlinewidth": 0,
              "ticks": ""
             }
            },
            "type": "parcoords"
           }
          ],
          "pie": [
           {
            "automargin": true,
            "type": "pie"
           }
          ],
          "scatter": [
           {
            "fillpattern": {
             "fillmode": "overlay",
             "size": 10,
             "solidity": 0.2
            },
            "type": "scatter"
           }
          ],
          "scatter3d": [
           {
            "line": {
             "colorbar": {
              "outlinewidth": 0,
              "ticks": ""
             }
            },
            "marker": {
             "colorbar": {
              "outlinewidth": 0,
              "ticks": ""
             }
            },
            "type": "scatter3d"
           }
          ],
          "scattercarpet": [
           {
            "marker": {
             "colorbar": {
              "outlinewidth": 0,
              "ticks": ""
             }
            },
            "type": "scattercarpet"
           }
          ],
          "scattergeo": [
           {
            "marker": {
             "colorbar": {
              "outlinewidth": 0,
              "ticks": ""
             }
            },
            "type": "scattergeo"
           }
          ],
          "scattergl": [
           {
            "marker": {
             "colorbar": {
              "outlinewidth": 0,
              "ticks": ""
             }
            },
            "type": "scattergl"
           }
          ],
          "scattermapbox": [
           {
            "marker": {
             "colorbar": {
              "outlinewidth": 0,
              "ticks": ""
             }
            },
            "type": "scattermapbox"
           }
          ],
          "scatterpolar": [
           {
            "marker": {
             "colorbar": {
              "outlinewidth": 0,
              "ticks": ""
             }
            },
            "type": "scatterpolar"
           }
          ],
          "scatterpolargl": [
           {
            "marker": {
             "colorbar": {
              "outlinewidth": 0,
              "ticks": ""
             }
            },
            "type": "scatterpolargl"
           }
          ],
          "scatterternary": [
           {
            "marker": {
             "colorbar": {
              "outlinewidth": 0,
              "ticks": ""
             }
            },
            "type": "scatterternary"
           }
          ],
          "surface": [
           {
            "colorbar": {
             "outlinewidth": 0,
             "ticks": ""
            },
            "colorscale": [
             [
              0,
              "#0d0887"
             ],
             [
              0.1111111111111111,
              "#46039f"
             ],
             [
              0.2222222222222222,
              "#7201a8"
             ],
             [
              0.3333333333333333,
              "#9c179e"
             ],
             [
              0.4444444444444444,
              "#bd3786"
             ],
             [
              0.5555555555555556,
              "#d8576b"
             ],
             [
              0.6666666666666666,
              "#ed7953"
             ],
             [
              0.7777777777777778,
              "#fb9f3a"
             ],
             [
              0.8888888888888888,
              "#fdca26"
             ],
             [
              1,
              "#f0f921"
             ]
            ],
            "type": "surface"
           }
          ],
          "table": [
           {
            "cells": {
             "fill": {
              "color": "#EBF0F8"
             },
             "line": {
              "color": "white"
             }
            },
            "header": {
             "fill": {
              "color": "#C8D4E3"
             },
             "line": {
              "color": "white"
             }
            },
            "type": "table"
           }
          ]
         },
         "layout": {
          "annotationdefaults": {
           "arrowcolor": "#2a3f5f",
           "arrowhead": 0,
           "arrowwidth": 1
          },
          "autotypenumbers": "strict",
          "coloraxis": {
           "colorbar": {
            "outlinewidth": 0,
            "ticks": ""
           }
          },
          "colorscale": {
           "diverging": [
            [
             0,
             "#8e0152"
            ],
            [
             0.1,
             "#c51b7d"
            ],
            [
             0.2,
             "#de77ae"
            ],
            [
             0.3,
             "#f1b6da"
            ],
            [
             0.4,
             "#fde0ef"
            ],
            [
             0.5,
             "#f7f7f7"
            ],
            [
             0.6,
             "#e6f5d0"
            ],
            [
             0.7,
             "#b8e186"
            ],
            [
             0.8,
             "#7fbc41"
            ],
            [
             0.9,
             "#4d9221"
            ],
            [
             1,
             "#276419"
            ]
           ],
           "sequential": [
            [
             0,
             "#0d0887"
            ],
            [
             0.1111111111111111,
             "#46039f"
            ],
            [
             0.2222222222222222,
             "#7201a8"
            ],
            [
             0.3333333333333333,
             "#9c179e"
            ],
            [
             0.4444444444444444,
             "#bd3786"
            ],
            [
             0.5555555555555556,
             "#d8576b"
            ],
            [
             0.6666666666666666,
             "#ed7953"
            ],
            [
             0.7777777777777778,
             "#fb9f3a"
            ],
            [
             0.8888888888888888,
             "#fdca26"
            ],
            [
             1,
             "#f0f921"
            ]
           ],
           "sequentialminus": [
            [
             0,
             "#0d0887"
            ],
            [
             0.1111111111111111,
             "#46039f"
            ],
            [
             0.2222222222222222,
             "#7201a8"
            ],
            [
             0.3333333333333333,
             "#9c179e"
            ],
            [
             0.4444444444444444,
             "#bd3786"
            ],
            [
             0.5555555555555556,
             "#d8576b"
            ],
            [
             0.6666666666666666,
             "#ed7953"
            ],
            [
             0.7777777777777778,
             "#fb9f3a"
            ],
            [
             0.8888888888888888,
             "#fdca26"
            ],
            [
             1,
             "#f0f921"
            ]
           ]
          },
          "colorway": [
           "#636efa",
           "#EF553B",
           "#00cc96",
           "#ab63fa",
           "#FFA15A",
           "#19d3f3",
           "#FF6692",
           "#B6E880",
           "#FF97FF",
           "#FECB52"
          ],
          "font": {
           "color": "#2a3f5f"
          },
          "geo": {
           "bgcolor": "white",
           "lakecolor": "white",
           "landcolor": "#E5ECF6",
           "showlakes": true,
           "showland": true,
           "subunitcolor": "white"
          },
          "hoverlabel": {
           "align": "left"
          },
          "hovermode": "closest",
          "mapbox": {
           "style": "light"
          },
          "paper_bgcolor": "white",
          "plot_bgcolor": "#E5ECF6",
          "polar": {
           "angularaxis": {
            "gridcolor": "white",
            "linecolor": "white",
            "ticks": ""
           },
           "bgcolor": "#E5ECF6",
           "radialaxis": {
            "gridcolor": "white",
            "linecolor": "white",
            "ticks": ""
           }
          },
          "scene": {
           "xaxis": {
            "backgroundcolor": "#E5ECF6",
            "gridcolor": "white",
            "gridwidth": 2,
            "linecolor": "white",
            "showbackground": true,
            "ticks": "",
            "zerolinecolor": "white"
           },
           "yaxis": {
            "backgroundcolor": "#E5ECF6",
            "gridcolor": "white",
            "gridwidth": 2,
            "linecolor": "white",
            "showbackground": true,
            "ticks": "",
            "zerolinecolor": "white"
           },
           "zaxis": {
            "backgroundcolor": "#E5ECF6",
            "gridcolor": "white",
            "gridwidth": 2,
            "linecolor": "white",
            "showbackground": true,
            "ticks": "",
            "zerolinecolor": "white"
           }
          },
          "shapedefaults": {
           "line": {
            "color": "#2a3f5f"
           }
          },
          "ternary": {
           "aaxis": {
            "gridcolor": "white",
            "linecolor": "white",
            "ticks": ""
           },
           "baxis": {
            "gridcolor": "white",
            "linecolor": "white",
            "ticks": ""
           },
           "bgcolor": "#E5ECF6",
           "caxis": {
            "gridcolor": "white",
            "linecolor": "white",
            "ticks": ""
           }
          },
          "title": {
           "x": 0.05
          },
          "xaxis": {
           "automargin": true,
           "gridcolor": "white",
           "linecolor": "white",
           "ticks": "",
           "title": {
            "standoff": 15
           },
           "zerolinecolor": "white",
           "zerolinewidth": 2
          },
          "yaxis": {
           "automargin": true,
           "gridcolor": "white",
           "linecolor": "white",
           "ticks": "",
           "title": {
            "standoff": 15
           },
           "zerolinecolor": "white",
           "zerolinewidth": 2
          }
         }
        },
        "title": {
         "font": {
          "color": "#4D5663"
         }
        },
        "xaxis": {
         "gridcolor": "#E1E5ED",
         "showgrid": true,
         "tickfont": {
          "color": "#4D5663"
         },
         "title": {
          "font": {
           "color": "#4D5663"
          },
          "text": ""
         },
         "zerolinecolor": "#E1E5ED"
        },
        "yaxis": {
         "gridcolor": "#E1E5ED",
         "showgrid": true,
         "tickfont": {
          "color": "#4D5663"
         },
         "title": {
          "font": {
           "color": "#4D5663"
          },
          "text": ""
         },
         "zerolinecolor": "#E1E5ED"
        }
       }
      },
      "text/html": [
       "<div>                            <div id=\"37d86922-4ea6-4a20-a7c2-e01080b954f3\" class=\"plotly-graph-div\" style=\"height:525px; width:100%;\"></div>            <script type=\"text/javascript\">                require([\"plotly\"], function(Plotly) {                    window.PLOTLYENV=window.PLOTLYENV || {};\n",
       "                    window.PLOTLYENV.BASE_URL='https://plot.ly';                                    if (document.getElementById(\"37d86922-4ea6-4a20-a7c2-e01080b954f3\")) {                    Plotly.newPlot(                        \"37d86922-4ea6-4a20-a7c2-e01080b954f3\",                        [{\"histfunc\":\"count\",\"histnorm\":\"\",\"marker\":{\"color\":\"rgba(255, 153, 51, 1.0)\",\"line\":{\"color\":\"#4D5663\",\"width\":1.3}},\"name\":\"A\",\"nbinsx\":50,\"opacity\":0.8,\"orientation\":\"v\",\"x\":[0.042951484569504976,-0.2202853182291732,1.1734268801089391,-0.242857425217831,0.6763938161336688,-0.35387111095045287,-1.178873015258505,-0.9043748575099387,1.289961855900039,0.4024925419044032,0.47478873453097875,-1.5599979609496375,1.256435413677142,-1.0956306989431794,-0.4086611258433707,-1.3945695346151434,0.912962045848968,0.30730511387148135,-0.1939624564553397,1.4671933909894053,0.5694254821204012,-1.1931505134032656,1.5569400206519073,2.3296513255577835,0.21366883706439055,-0.7481852006274928,-1.047437879897871,-1.5665786547362606,-0.4195824696415362,0.7356706051151829,1.4854953122092205,-1.3585448502023059,0.6868115836283416,-0.8590019761193095,-0.3167758916209611,-2.5859566581957814,1.8802303072579827,0.33698592765530255,0.24253885461217137,-1.0610179368441957,0.6063985638659398,1.9432087735321149,-0.30963188399023234,-0.9478546493238559,1.6901316294856135,-0.9748813666852253,1.6306834387604556,0.5099483849696402,-0.8464325906049034,-0.5542596398999922,1.5009952174177925,-0.1652580228163639,0.01163057019334677,0.7861976487418677,-1.3589873822837037,-0.4793132050239744,-0.8884327703773046,-0.3284322245590626,-0.4240280239376068,0.22150415379237778,0.3881047010647667,-0.30205926100025343,0.26673438198881094,-1.591193149414884,0.8778887244884065,0.2209150355262721,1.0160545227316395,0.3491350139623226,-0.9537562700624382,1.687178900073207,0.6711975871514694,-0.47100392021657966,-0.4796751132677763,0.8899899575821433,-0.34435673664939204,-0.5704311813504567,0.17464690363311544,-0.7418420309705646,-0.6330916545993854,-1.5647070071417015,0.1292205238573053,0.17257583531658205,0.5641384665414945,-1.2693499109193727,1.112215426407947,-0.6246175481905369,0.6243230099698143,-0.5868564679739539,-0.38798572600393394,-2.2238360986731847,0.39483428796649245,-1.5128431080727769,-0.17054727445722603,0.2785807882330337,0.12745026931076014,0.37528908825820756,0.01664120828374138,2.7111613412371853,0.6852940169202932,0.04551068262644309],\"type\":\"histogram\"}],                        {\"barmode\":\"overlay\",\"legend\":{\"bgcolor\":\"#F5F6F9\",\"font\":{\"color\":\"#4D5663\"}},\"paper_bgcolor\":\"#F5F6F9\",\"plot_bgcolor\":\"#F5F6F9\",\"template\":{\"data\":{\"barpolar\":[{\"marker\":{\"line\":{\"color\":\"#E5ECF6\",\"width\":0.5},\"pattern\":{\"fillmode\":\"overlay\",\"size\":10,\"solidity\":0.2}},\"type\":\"barpolar\"}],\"bar\":[{\"error_x\":{\"color\":\"#2a3f5f\"},\"error_y\":{\"color\":\"#2a3f5f\"},\"marker\":{\"line\":{\"color\":\"#E5ECF6\",\"width\":0.5},\"pattern\":{\"fillmode\":\"overlay\",\"size\":10,\"solidity\":0.2}},\"type\":\"bar\"}],\"carpet\":[{\"aaxis\":{\"endlinecolor\":\"#2a3f5f\",\"gridcolor\":\"white\",\"linecolor\":\"white\",\"minorgridcolor\":\"white\",\"startlinecolor\":\"#2a3f5f\"},\"baxis\":{\"endlinecolor\":\"#2a3f5f\",\"gridcolor\":\"white\",\"linecolor\":\"white\",\"minorgridcolor\":\"white\",\"startlinecolor\":\"#2a3f5f\"},\"type\":\"carpet\"}],\"choropleth\":[{\"colorbar\":{\"outlinewidth\":0,\"ticks\":\"\"},\"type\":\"choropleth\"}],\"contourcarpet\":[{\"colorbar\":{\"outlinewidth\":0,\"ticks\":\"\"},\"type\":\"contourcarpet\"}],\"contour\":[{\"colorbar\":{\"outlinewidth\":0,\"ticks\":\"\"},\"colorscale\":[[0.0,\"#0d0887\"],[0.1111111111111111,\"#46039f\"],[0.2222222222222222,\"#7201a8\"],[0.3333333333333333,\"#9c179e\"],[0.4444444444444444,\"#bd3786\"],[0.5555555555555556,\"#d8576b\"],[0.6666666666666666,\"#ed7953\"],[0.7777777777777778,\"#fb9f3a\"],[0.8888888888888888,\"#fdca26\"],[1.0,\"#f0f921\"]],\"type\":\"contour\"}],\"heatmapgl\":[{\"colorbar\":{\"outlinewidth\":0,\"ticks\":\"\"},\"colorscale\":[[0.0,\"#0d0887\"],[0.1111111111111111,\"#46039f\"],[0.2222222222222222,\"#7201a8\"],[0.3333333333333333,\"#9c179e\"],[0.4444444444444444,\"#bd3786\"],[0.5555555555555556,\"#d8576b\"],[0.6666666666666666,\"#ed7953\"],[0.7777777777777778,\"#fb9f3a\"],[0.8888888888888888,\"#fdca26\"],[1.0,\"#f0f921\"]],\"type\":\"heatmapgl\"}],\"heatmap\":[{\"colorbar\":{\"outlinewidth\":0,\"ticks\":\"\"},\"colorscale\":[[0.0,\"#0d0887\"],[0.1111111111111111,\"#46039f\"],[0.2222222222222222,\"#7201a8\"],[0.3333333333333333,\"#9c179e\"],[0.4444444444444444,\"#bd3786\"],[0.5555555555555556,\"#d8576b\"],[0.6666666666666666,\"#ed7953\"],[0.7777777777777778,\"#fb9f3a\"],[0.8888888888888888,\"#fdca26\"],[1.0,\"#f0f921\"]],\"type\":\"heatmap\"}],\"histogram2dcontour\":[{\"colorbar\":{\"outlinewidth\":0,\"ticks\":\"\"},\"colorscale\":[[0.0,\"#0d0887\"],[0.1111111111111111,\"#46039f\"],[0.2222222222222222,\"#7201a8\"],[0.3333333333333333,\"#9c179e\"],[0.4444444444444444,\"#bd3786\"],[0.5555555555555556,\"#d8576b\"],[0.6666666666666666,\"#ed7953\"],[0.7777777777777778,\"#fb9f3a\"],[0.8888888888888888,\"#fdca26\"],[1.0,\"#f0f921\"]],\"type\":\"histogram2dcontour\"}],\"histogram2d\":[{\"colorbar\":{\"outlinewidth\":0,\"ticks\":\"\"},\"colorscale\":[[0.0,\"#0d0887\"],[0.1111111111111111,\"#46039f\"],[0.2222222222222222,\"#7201a8\"],[0.3333333333333333,\"#9c179e\"],[0.4444444444444444,\"#bd3786\"],[0.5555555555555556,\"#d8576b\"],[0.6666666666666666,\"#ed7953\"],[0.7777777777777778,\"#fb9f3a\"],[0.8888888888888888,\"#fdca26\"],[1.0,\"#f0f921\"]],\"type\":\"histogram2d\"}],\"histogram\":[{\"marker\":{\"pattern\":{\"fillmode\":\"overlay\",\"size\":10,\"solidity\":0.2}},\"type\":\"histogram\"}],\"mesh3d\":[{\"colorbar\":{\"outlinewidth\":0,\"ticks\":\"\"},\"type\":\"mesh3d\"}],\"parcoords\":[{\"line\":{\"colorbar\":{\"outlinewidth\":0,\"ticks\":\"\"}},\"type\":\"parcoords\"}],\"pie\":[{\"automargin\":true,\"type\":\"pie\"}],\"scatter3d\":[{\"line\":{\"colorbar\":{\"outlinewidth\":0,\"ticks\":\"\"}},\"marker\":{\"colorbar\":{\"outlinewidth\":0,\"ticks\":\"\"}},\"type\":\"scatter3d\"}],\"scattercarpet\":[{\"marker\":{\"colorbar\":{\"outlinewidth\":0,\"ticks\":\"\"}},\"type\":\"scattercarpet\"}],\"scattergeo\":[{\"marker\":{\"colorbar\":{\"outlinewidth\":0,\"ticks\":\"\"}},\"type\":\"scattergeo\"}],\"scattergl\":[{\"marker\":{\"colorbar\":{\"outlinewidth\":0,\"ticks\":\"\"}},\"type\":\"scattergl\"}],\"scattermapbox\":[{\"marker\":{\"colorbar\":{\"outlinewidth\":0,\"ticks\":\"\"}},\"type\":\"scattermapbox\"}],\"scatterpolargl\":[{\"marker\":{\"colorbar\":{\"outlinewidth\":0,\"ticks\":\"\"}},\"type\":\"scatterpolargl\"}],\"scatterpolar\":[{\"marker\":{\"colorbar\":{\"outlinewidth\":0,\"ticks\":\"\"}},\"type\":\"scatterpolar\"}],\"scatter\":[{\"fillpattern\":{\"fillmode\":\"overlay\",\"size\":10,\"solidity\":0.2},\"type\":\"scatter\"}],\"scatterternary\":[{\"marker\":{\"colorbar\":{\"outlinewidth\":0,\"ticks\":\"\"}},\"type\":\"scatterternary\"}],\"surface\":[{\"colorbar\":{\"outlinewidth\":0,\"ticks\":\"\"},\"colorscale\":[[0.0,\"#0d0887\"],[0.1111111111111111,\"#46039f\"],[0.2222222222222222,\"#7201a8\"],[0.3333333333333333,\"#9c179e\"],[0.4444444444444444,\"#bd3786\"],[0.5555555555555556,\"#d8576b\"],[0.6666666666666666,\"#ed7953\"],[0.7777777777777778,\"#fb9f3a\"],[0.8888888888888888,\"#fdca26\"],[1.0,\"#f0f921\"]],\"type\":\"surface\"}],\"table\":[{\"cells\":{\"fill\":{\"color\":\"#EBF0F8\"},\"line\":{\"color\":\"white\"}},\"header\":{\"fill\":{\"color\":\"#C8D4E3\"},\"line\":{\"color\":\"white\"}},\"type\":\"table\"}]},\"layout\":{\"annotationdefaults\":{\"arrowcolor\":\"#2a3f5f\",\"arrowhead\":0,\"arrowwidth\":1},\"autotypenumbers\":\"strict\",\"coloraxis\":{\"colorbar\":{\"outlinewidth\":0,\"ticks\":\"\"}},\"colorscale\":{\"diverging\":[[0,\"#8e0152\"],[0.1,\"#c51b7d\"],[0.2,\"#de77ae\"],[0.3,\"#f1b6da\"],[0.4,\"#fde0ef\"],[0.5,\"#f7f7f7\"],[0.6,\"#e6f5d0\"],[0.7,\"#b8e186\"],[0.8,\"#7fbc41\"],[0.9,\"#4d9221\"],[1,\"#276419\"]],\"sequential\":[[0.0,\"#0d0887\"],[0.1111111111111111,\"#46039f\"],[0.2222222222222222,\"#7201a8\"],[0.3333333333333333,\"#9c179e\"],[0.4444444444444444,\"#bd3786\"],[0.5555555555555556,\"#d8576b\"],[0.6666666666666666,\"#ed7953\"],[0.7777777777777778,\"#fb9f3a\"],[0.8888888888888888,\"#fdca26\"],[1.0,\"#f0f921\"]],\"sequentialminus\":[[0.0,\"#0d0887\"],[0.1111111111111111,\"#46039f\"],[0.2222222222222222,\"#7201a8\"],[0.3333333333333333,\"#9c179e\"],[0.4444444444444444,\"#bd3786\"],[0.5555555555555556,\"#d8576b\"],[0.6666666666666666,\"#ed7953\"],[0.7777777777777778,\"#fb9f3a\"],[0.8888888888888888,\"#fdca26\"],[1.0,\"#f0f921\"]]},\"colorway\":[\"#636efa\",\"#EF553B\",\"#00cc96\",\"#ab63fa\",\"#FFA15A\",\"#19d3f3\",\"#FF6692\",\"#B6E880\",\"#FF97FF\",\"#FECB52\"],\"font\":{\"color\":\"#2a3f5f\"},\"geo\":{\"bgcolor\":\"white\",\"lakecolor\":\"white\",\"landcolor\":\"#E5ECF6\",\"showlakes\":true,\"showland\":true,\"subunitcolor\":\"white\"},\"hoverlabel\":{\"align\":\"left\"},\"hovermode\":\"closest\",\"mapbox\":{\"style\":\"light\"},\"paper_bgcolor\":\"white\",\"plot_bgcolor\":\"#E5ECF6\",\"polar\":{\"angularaxis\":{\"gridcolor\":\"white\",\"linecolor\":\"white\",\"ticks\":\"\"},\"bgcolor\":\"#E5ECF6\",\"radialaxis\":{\"gridcolor\":\"white\",\"linecolor\":\"white\",\"ticks\":\"\"}},\"scene\":{\"xaxis\":{\"backgroundcolor\":\"#E5ECF6\",\"gridcolor\":\"white\",\"gridwidth\":2,\"linecolor\":\"white\",\"showbackground\":true,\"ticks\":\"\",\"zerolinecolor\":\"white\"},\"yaxis\":{\"backgroundcolor\":\"#E5ECF6\",\"gridcolor\":\"white\",\"gridwidth\":2,\"linecolor\":\"white\",\"showbackground\":true,\"ticks\":\"\",\"zerolinecolor\":\"white\"},\"zaxis\":{\"backgroundcolor\":\"#E5ECF6\",\"gridcolor\":\"white\",\"gridwidth\":2,\"linecolor\":\"white\",\"showbackground\":true,\"ticks\":\"\",\"zerolinecolor\":\"white\"}},\"shapedefaults\":{\"line\":{\"color\":\"#2a3f5f\"}},\"ternary\":{\"aaxis\":{\"gridcolor\":\"white\",\"linecolor\":\"white\",\"ticks\":\"\"},\"baxis\":{\"gridcolor\":\"white\",\"linecolor\":\"white\",\"ticks\":\"\"},\"bgcolor\":\"#E5ECF6\",\"caxis\":{\"gridcolor\":\"white\",\"linecolor\":\"white\",\"ticks\":\"\"}},\"title\":{\"x\":0.05},\"xaxis\":{\"automargin\":true,\"gridcolor\":\"white\",\"linecolor\":\"white\",\"ticks\":\"\",\"title\":{\"standoff\":15},\"zerolinecolor\":\"white\",\"zerolinewidth\":2},\"yaxis\":{\"automargin\":true,\"gridcolor\":\"white\",\"linecolor\":\"white\",\"ticks\":\"\",\"title\":{\"standoff\":15},\"zerolinecolor\":\"white\",\"zerolinewidth\":2}}},\"title\":{\"font\":{\"color\":\"#4D5663\"}},\"xaxis\":{\"gridcolor\":\"#E1E5ED\",\"showgrid\":true,\"tickfont\":{\"color\":\"#4D5663\"},\"title\":{\"font\":{\"color\":\"#4D5663\"},\"text\":\"\"},\"zerolinecolor\":\"#E1E5ED\"},\"yaxis\":{\"gridcolor\":\"#E1E5ED\",\"showgrid\":true,\"tickfont\":{\"color\":\"#4D5663\"},\"title\":{\"font\":{\"color\":\"#4D5663\"},\"text\":\"\"},\"zerolinecolor\":\"#E1E5ED\"}},                        {\"showLink\": true, \"linkText\": \"Export to plot.ly\", \"plotlyServerURL\": \"https://plot.ly\", \"responsive\": true}                    ).then(function(){\n",
       "                            \n",
       "var gd = document.getElementById('37d86922-4ea6-4a20-a7c2-e01080b954f3');\n",
       "var x = new MutationObserver(function (mutations, observer) {{\n",
       "        var display = window.getComputedStyle(gd).display;\n",
       "        if (!display || display === 'none') {{\n",
       "            console.log([gd, 'removed!']);\n",
       "            Plotly.purge(gd);\n",
       "            observer.disconnect();\n",
       "        }}\n",
       "}});\n",
       "\n",
       "// Listen for the removal of the full notebook cells\n",
       "var notebookContainer = gd.closest('#notebook-container');\n",
       "if (notebookContainer) {{\n",
       "    x.observe(notebookContainer, {childList: true});\n",
       "}}\n",
       "\n",
       "// Listen for the clearing of the current output cell\n",
       "var outputEl = gd.closest('.output');\n",
       "if (outputEl) {{\n",
       "    x.observe(outputEl, {childList: true});\n",
       "}}\n",
       "\n",
       "                        })                };                });            </script>        </div>"
      ]
     },
     "metadata": {},
     "output_type": "display_data"
    }
   ],
   "source": [
    "df['A'].iplot(kind='hist', bins=50)"
   ]
  },
  {
   "cell_type": "code",
   "execution_count": 28,
   "id": "80d61fd6",
   "metadata": {},
   "outputs": [
    {
     "data": {
      "application/vnd.plotly.v1+json": {
       "config": {
        "linkText": "Export to plot.ly",
        "plotlyServerURL": "https://plot.ly",
        "showLink": true
       },
       "data": [
        {
         "histfunc": "count",
         "histnorm": "",
         "marker": {
          "color": "rgba(255, 153, 51, 1.0)",
          "line": {
           "color": "#4D5663",
           "width": 1.3
          }
         },
         "name": "A",
         "opacity": 0.8,
         "orientation": "v",
         "type": "histogram",
         "x": [
          0.042951484569504976,
          -0.2202853182291732,
          1.1734268801089391,
          -0.242857425217831,
          0.6763938161336688,
          -0.35387111095045287,
          -1.178873015258505,
          -0.9043748575099387,
          1.289961855900039,
          0.4024925419044032,
          0.47478873453097875,
          -1.5599979609496375,
          1.256435413677142,
          -1.0956306989431794,
          -0.4086611258433707,
          -1.3945695346151434,
          0.912962045848968,
          0.30730511387148135,
          -0.1939624564553397,
          1.4671933909894053,
          0.5694254821204012,
          -1.1931505134032656,
          1.5569400206519073,
          2.3296513255577835,
          0.21366883706439055,
          -0.7481852006274928,
          -1.047437879897871,
          -1.5665786547362606,
          -0.4195824696415362,
          0.7356706051151829,
          1.4854953122092205,
          -1.3585448502023059,
          0.6868115836283416,
          -0.8590019761193095,
          -0.3167758916209611,
          -2.5859566581957814,
          1.8802303072579827,
          0.33698592765530255,
          0.24253885461217137,
          -1.0610179368441957,
          0.6063985638659398,
          1.9432087735321149,
          -0.30963188399023234,
          -0.9478546493238559,
          1.6901316294856135,
          -0.9748813666852253,
          1.6306834387604556,
          0.5099483849696402,
          -0.8464325906049034,
          -0.5542596398999922,
          1.5009952174177925,
          -0.1652580228163639,
          0.01163057019334677,
          0.7861976487418677,
          -1.3589873822837037,
          -0.4793132050239744,
          -0.8884327703773046,
          -0.3284322245590626,
          -0.4240280239376068,
          0.22150415379237778,
          0.3881047010647667,
          -0.30205926100025343,
          0.26673438198881094,
          -1.591193149414884,
          0.8778887244884065,
          0.2209150355262721,
          1.0160545227316395,
          0.3491350139623226,
          -0.9537562700624382,
          1.687178900073207,
          0.6711975871514694,
          -0.47100392021657966,
          -0.4796751132677763,
          0.8899899575821433,
          -0.34435673664939204,
          -0.5704311813504567,
          0.17464690363311544,
          -0.7418420309705646,
          -0.6330916545993854,
          -1.5647070071417015,
          0.1292205238573053,
          0.17257583531658205,
          0.5641384665414945,
          -1.2693499109193727,
          1.112215426407947,
          -0.6246175481905369,
          0.6243230099698143,
          -0.5868564679739539,
          -0.38798572600393394,
          -2.2238360986731847,
          0.39483428796649245,
          -1.5128431080727769,
          -0.17054727445722603,
          0.2785807882330337,
          0.12745026931076014,
          0.37528908825820756,
          0.01664120828374138,
          2.7111613412371853,
          0.6852940169202932,
          0.04551068262644309
         ]
        },
        {
         "histfunc": "count",
         "histnorm": "",
         "marker": {
          "color": "rgba(55, 128, 191, 1.0)",
          "line": {
           "color": "#4D5663",
           "width": 1.3
          }
         },
         "name": "B",
         "opacity": 0.8,
         "orientation": "v",
         "type": "histogram",
         "x": [
          0.6192879182170579,
          1.1257981118290274,
          -0.18605348668541802,
          1.68420984422097,
          -0.9102788942172225,
          -0.5202766729357958,
          -0.8997368949419952,
          0.6662772657608717,
          0.35174523740201824,
          0.9641528029440805,
          -0.8653270517802244,
          0.9452732084915756,
          0.47945395129175744,
          -0.4286061172343618,
          -1.2735688440555835,
          0.40889101608737194,
          1.2422571076767783,
          1.4166175858265113,
          -0.5270318815990367,
          -0.800046474269336,
          0.214565407669123,
          -0.55640152527389,
          -0.9114344441458444,
          3.1083979331621663,
          -0.7311112731850965,
          -0.684880342436226,
          0.06274744992688126,
          2.742531672377017,
          -2.133326227684579,
          0.1151137652842412,
          0.7680900451533238,
          -0.5223302478800493,
          0.022174916223067612,
          2.4139818872965506,
          0.21130446301537828,
          -1.0520853313040146,
          -1.7954748202765316,
          -0.9478364870503688,
          0.5588092484146348,
          -0.7601933681171539,
          0.14143501024264124,
          0.27309509504905183,
          -2.427264041980388,
          0.23317620185855684,
          -3.1588073663659517,
          -0.9122905543369599,
          0.6107267009505823,
          -0.23496380499321687,
          0.2941546566425414,
          0.7183125745805514,
          1.070927343340471,
          -1.0193545665580568,
          1.5531729890673478,
          -0.957694030028398,
          1.1727426779104344,
          0.20692751971823767,
          -0.34462607961309055,
          0.6537646309558028,
          2.6435063941444903,
          -0.26984172479330476,
          0.06320591618100005,
          2.9234580741428777,
          0.9283667700362315,
          0.343527795795072,
          -1.6951366429125174,
          0.6105405577363859,
          1.2681520353623972,
          -1.4348732293337862,
          0.036658494980897884,
          0.8311983922247884,
          -0.30313544490508115,
          -0.4189732950197264,
          0.1303538776810748,
          0.5785788369835336,
          0.4081059853116089,
          -0.05183208331726445,
          0.6342275658481765,
          -0.2792889338774161,
          0.06936324222582699,
          0.5281795507084809,
          0.40946299084644944,
          1.3820817269300272,
          0.2347867174176207,
          2.6062135259018873,
          -1.5016377554871971,
          0.6800085010932065,
          -0.021387092292663206,
          1.536948561145858,
          0.7924620306825507,
          1.7553181160764677,
          -0.869180304417114,
          0.709670228343469,
          -0.24003645899926476,
          1.2632533989196815,
          0.019840686964291792,
          -0.7226923963856168,
          0.9000389139195395,
          -0.5072870380033023,
          -0.048363172534944744,
          -0.7864118916761768
         ]
        },
        {
         "histfunc": "count",
         "histnorm": "",
         "marker": {
          "color": "rgba(50, 171, 96, 1.0)",
          "line": {
           "color": "#4D5663",
           "width": 1.3
          }
         },
         "name": "C",
         "opacity": 0.8,
         "orientation": "v",
         "type": "histogram",
         "x": [
          -0.8504629846670366,
          0.3470106660474676,
          -0.947157868453042,
          -1.3753738685210328,
          0.798112475861372,
          -0.07703631274791213,
          1.0081338509405333,
          1.7164031262789414,
          -0.15428419974716925,
          0.7394786809792315,
          -0.29087805351923696,
          -0.5036911983143708,
          0.7783109538359925,
          -0.9144864195606346,
          1.116337266608769,
          0.053086914437842025,
          1.1101169589996904,
          -0.07085129969144484,
          0.040320607319248414,
          0.28456521512565375,
          -0.3051548037600851,
          0.1608256854735454,
          0.5448689042209915,
          0.5130086565826092,
          1.114722787381222,
          -0.03033601069045141,
          0.6077097977908359,
          1.53612369790164,
          -0.5012501672556618,
          -0.6922311374242788,
          -0.030434283930449717,
          -0.7325996923830687,
          1.9560475088120413,
          1.7928012874028676,
          0.5183789488380032,
          -0.06247876335431108,
          0.06631837618682593,
          0.6307445934333602,
          1.5465192727036488,
          0.020633866560363073,
          0.30250193170395867,
          1.6771883503720761,
          -1.366327161291545,
          -0.0176458306245623,
          -0.13534138524280714,
          0.14200842587933715,
          -0.42959470571188285,
          1.0889289527460462,
          -0.5838295739246996,
          0.2784376622727278,
          -1.6055776206589827,
          -0.7583919697249786,
          0.33986581486104167,
          -1.6329635927053063,
          0.14195826962869051,
          0.21904261630627975,
          -0.26870964311125756,
          -2.0344872045157114,
          0.8005427352285261,
          -0.2843127710147637,
          -2.1657093271797088,
          -0.8083818932840517,
          0.27726807561376,
          0.35200537183063185,
          -1.2941715559683442,
          0.8810559886831515,
          -0.6999370839443164,
          0.8026579340017406,
          1.200946185356744,
          -0.2941228811682841,
          2.5698652166863374,
          -0.7179356903023796,
          2.546739037086572,
          0.28897228668584174,
          0.8625860396497803,
          -0.6754435434133842,
          0.6030968163029332,
          1.4328624709910547,
          -0.019837684596422166,
          -0.10896990206263385,
          1.4102348753371692,
          -1.8690520719855694,
          -0.9759947194700561,
          -1.347030914236879,
          -0.00868423520275727,
          0.23550473380153755,
          -0.34338332229913704,
          0.025913405196481814,
          -0.1509748477861139,
          0.023652325265938547,
          -0.9116681818552379,
          0.46001109960251635,
          -0.7266253041278453,
          -0.000713758687759925,
          -0.9616896614161947,
          0.4818779798820858,
          1.429448189634716,
          -0.5211333364859005,
          -1.4718441559943454,
          0.36990748517458355
         ]
        },
        {
         "histfunc": "count",
         "histnorm": "",
         "marker": {
          "color": "rgba(128, 0, 128, 1.0)",
          "line": {
           "color": "#4D5663",
           "width": 1.3
          }
         },
         "name": "D",
         "opacity": 0.8,
         "orientation": "v",
         "type": "histogram",
         "x": [
          0.09810140879192156,
          1.0821585282388269,
          -1.4171248011615019,
          -1.681027934088529,
          -1.5426929836829733,
          0.7832147248858957,
          -0.7026508858544321,
          0.9741928148992898,
          0.7516172349078831,
          -1.0166850884338632,
          -0.8845407757566924,
          -0.8750379369793457,
          1.8736709664082034,
          -0.052899055320985544,
          1.3512178391863716,
          -0.18010450905832964,
          0.5860120402012328,
          -1.3522280442963397,
          -0.06740328278078253,
          1.1079425142104637,
          0.022099086678615883,
          0.8245665325239215,
          -0.3624823520505544,
          0.12363321364733355,
          0.38472994873374255,
          -0.8450571672231768,
          0.015188014417435147,
          0.12010790903890044,
          0.4085443628403387,
          0.7813670689251719,
          -0.47614926783054934,
          1.2185069541003242,
          -0.3010235087835275,
          0.5068742732191456,
          0.2391999745080336,
          -1.3356989501178944,
          -1.8861844520282103,
          -0.4636196529271505,
          0.6563545318345386,
          -0.6220848495485403,
          -0.44705641151759895,
          -1.9309191056949997,
          0.5949001187224799,
          0.03576457859212332,
          -0.2679998578508826,
          -0.2009488318995272,
          0.7938135479115963,
          1.649693641080204,
          -0.32892264026438395,
          -0.7341027023538993,
          -1.1218984959219487,
          -0.16540043889166298,
          -2.2488066605144277,
          0.23737591970941674,
          0.24478357266576542,
          -0.28253293153056036,
          1.006130640980851,
          0.9378984871881437,
          1.088213849894811,
          0.8248437305613723,
          -2.688043702273467,
          -1.7619891255564812,
          -0.33425568490133084,
          -1.2511561057450569,
          -0.07475995985482435,
          0.6930236216468565,
          -1.9890012589837858,
          -0.7495033548258262,
          -0.23767376718480676,
          -0.6017116670533126,
          1.5507489010923925,
          1.0117488474759582,
          -0.032719332652793004,
          -0.27657682862296384,
          -0.9424378950776426,
          -0.35908107751131124,
          1.9205665872236553,
          -0.20557618943903266,
          -1.2366161188207578,
          0.006956169777380158,
          0.308914754920131,
          0.04941829377527631,
          0.6670918623792209,
          -1.8749217552790838,
          -0.06266549513086278,
          -0.6801984634652508,
          1.656176704126538,
          1.5060730196685739,
          0.32600789039124106,
          0.8476973198310992,
          -0.10144457537645299,
          -0.586455108088047,
          0.9279948700124497,
          -0.008768409556187321,
          1.0855785426038398,
          -0.6717157469387206,
          0.6667545705904094,
          0.6459431251440116,
          -1.662539146174201,
          -1.0697674156336698
         ]
        }
       ],
       "layout": {
        "barmode": "overlay",
        "legend": {
         "bgcolor": "#F5F6F9",
         "font": {
          "color": "#4D5663"
         }
        },
        "paper_bgcolor": "#F5F6F9",
        "plot_bgcolor": "#F5F6F9",
        "template": {
         "data": {
          "bar": [
           {
            "error_x": {
             "color": "#2a3f5f"
            },
            "error_y": {
             "color": "#2a3f5f"
            },
            "marker": {
             "line": {
              "color": "#E5ECF6",
              "width": 0.5
             },
             "pattern": {
              "fillmode": "overlay",
              "size": 10,
              "solidity": 0.2
             }
            },
            "type": "bar"
           }
          ],
          "barpolar": [
           {
            "marker": {
             "line": {
              "color": "#E5ECF6",
              "width": 0.5
             },
             "pattern": {
              "fillmode": "overlay",
              "size": 10,
              "solidity": 0.2
             }
            },
            "type": "barpolar"
           }
          ],
          "carpet": [
           {
            "aaxis": {
             "endlinecolor": "#2a3f5f",
             "gridcolor": "white",
             "linecolor": "white",
             "minorgridcolor": "white",
             "startlinecolor": "#2a3f5f"
            },
            "baxis": {
             "endlinecolor": "#2a3f5f",
             "gridcolor": "white",
             "linecolor": "white",
             "minorgridcolor": "white",
             "startlinecolor": "#2a3f5f"
            },
            "type": "carpet"
           }
          ],
          "choropleth": [
           {
            "colorbar": {
             "outlinewidth": 0,
             "ticks": ""
            },
            "type": "choropleth"
           }
          ],
          "contour": [
           {
            "colorbar": {
             "outlinewidth": 0,
             "ticks": ""
            },
            "colorscale": [
             [
              0,
              "#0d0887"
             ],
             [
              0.1111111111111111,
              "#46039f"
             ],
             [
              0.2222222222222222,
              "#7201a8"
             ],
             [
              0.3333333333333333,
              "#9c179e"
             ],
             [
              0.4444444444444444,
              "#bd3786"
             ],
             [
              0.5555555555555556,
              "#d8576b"
             ],
             [
              0.6666666666666666,
              "#ed7953"
             ],
             [
              0.7777777777777778,
              "#fb9f3a"
             ],
             [
              0.8888888888888888,
              "#fdca26"
             ],
             [
              1,
              "#f0f921"
             ]
            ],
            "type": "contour"
           }
          ],
          "contourcarpet": [
           {
            "colorbar": {
             "outlinewidth": 0,
             "ticks": ""
            },
            "type": "contourcarpet"
           }
          ],
          "heatmap": [
           {
            "colorbar": {
             "outlinewidth": 0,
             "ticks": ""
            },
            "colorscale": [
             [
              0,
              "#0d0887"
             ],
             [
              0.1111111111111111,
              "#46039f"
             ],
             [
              0.2222222222222222,
              "#7201a8"
             ],
             [
              0.3333333333333333,
              "#9c179e"
             ],
             [
              0.4444444444444444,
              "#bd3786"
             ],
             [
              0.5555555555555556,
              "#d8576b"
             ],
             [
              0.6666666666666666,
              "#ed7953"
             ],
             [
              0.7777777777777778,
              "#fb9f3a"
             ],
             [
              0.8888888888888888,
              "#fdca26"
             ],
             [
              1,
              "#f0f921"
             ]
            ],
            "type": "heatmap"
           }
          ],
          "heatmapgl": [
           {
            "colorbar": {
             "outlinewidth": 0,
             "ticks": ""
            },
            "colorscale": [
             [
              0,
              "#0d0887"
             ],
             [
              0.1111111111111111,
              "#46039f"
             ],
             [
              0.2222222222222222,
              "#7201a8"
             ],
             [
              0.3333333333333333,
              "#9c179e"
             ],
             [
              0.4444444444444444,
              "#bd3786"
             ],
             [
              0.5555555555555556,
              "#d8576b"
             ],
             [
              0.6666666666666666,
              "#ed7953"
             ],
             [
              0.7777777777777778,
              "#fb9f3a"
             ],
             [
              0.8888888888888888,
              "#fdca26"
             ],
             [
              1,
              "#f0f921"
             ]
            ],
            "type": "heatmapgl"
           }
          ],
          "histogram": [
           {
            "marker": {
             "pattern": {
              "fillmode": "overlay",
              "size": 10,
              "solidity": 0.2
             }
            },
            "type": "histogram"
           }
          ],
          "histogram2d": [
           {
            "colorbar": {
             "outlinewidth": 0,
             "ticks": ""
            },
            "colorscale": [
             [
              0,
              "#0d0887"
             ],
             [
              0.1111111111111111,
              "#46039f"
             ],
             [
              0.2222222222222222,
              "#7201a8"
             ],
             [
              0.3333333333333333,
              "#9c179e"
             ],
             [
              0.4444444444444444,
              "#bd3786"
             ],
             [
              0.5555555555555556,
              "#d8576b"
             ],
             [
              0.6666666666666666,
              "#ed7953"
             ],
             [
              0.7777777777777778,
              "#fb9f3a"
             ],
             [
              0.8888888888888888,
              "#fdca26"
             ],
             [
              1,
              "#f0f921"
             ]
            ],
            "type": "histogram2d"
           }
          ],
          "histogram2dcontour": [
           {
            "colorbar": {
             "outlinewidth": 0,
             "ticks": ""
            },
            "colorscale": [
             [
              0,
              "#0d0887"
             ],
             [
              0.1111111111111111,
              "#46039f"
             ],
             [
              0.2222222222222222,
              "#7201a8"
             ],
             [
              0.3333333333333333,
              "#9c179e"
             ],
             [
              0.4444444444444444,
              "#bd3786"
             ],
             [
              0.5555555555555556,
              "#d8576b"
             ],
             [
              0.6666666666666666,
              "#ed7953"
             ],
             [
              0.7777777777777778,
              "#fb9f3a"
             ],
             [
              0.8888888888888888,
              "#fdca26"
             ],
             [
              1,
              "#f0f921"
             ]
            ],
            "type": "histogram2dcontour"
           }
          ],
          "mesh3d": [
           {
            "colorbar": {
             "outlinewidth": 0,
             "ticks": ""
            },
            "type": "mesh3d"
           }
          ],
          "parcoords": [
           {
            "line": {
             "colorbar": {
              "outlinewidth": 0,
              "ticks": ""
             }
            },
            "type": "parcoords"
           }
          ],
          "pie": [
           {
            "automargin": true,
            "type": "pie"
           }
          ],
          "scatter": [
           {
            "fillpattern": {
             "fillmode": "overlay",
             "size": 10,
             "solidity": 0.2
            },
            "type": "scatter"
           }
          ],
          "scatter3d": [
           {
            "line": {
             "colorbar": {
              "outlinewidth": 0,
              "ticks": ""
             }
            },
            "marker": {
             "colorbar": {
              "outlinewidth": 0,
              "ticks": ""
             }
            },
            "type": "scatter3d"
           }
          ],
          "scattercarpet": [
           {
            "marker": {
             "colorbar": {
              "outlinewidth": 0,
              "ticks": ""
             }
            },
            "type": "scattercarpet"
           }
          ],
          "scattergeo": [
           {
            "marker": {
             "colorbar": {
              "outlinewidth": 0,
              "ticks": ""
             }
            },
            "type": "scattergeo"
           }
          ],
          "scattergl": [
           {
            "marker": {
             "colorbar": {
              "outlinewidth": 0,
              "ticks": ""
             }
            },
            "type": "scattergl"
           }
          ],
          "scattermapbox": [
           {
            "marker": {
             "colorbar": {
              "outlinewidth": 0,
              "ticks": ""
             }
            },
            "type": "scattermapbox"
           }
          ],
          "scatterpolar": [
           {
            "marker": {
             "colorbar": {
              "outlinewidth": 0,
              "ticks": ""
             }
            },
            "type": "scatterpolar"
           }
          ],
          "scatterpolargl": [
           {
            "marker": {
             "colorbar": {
              "outlinewidth": 0,
              "ticks": ""
             }
            },
            "type": "scatterpolargl"
           }
          ],
          "scatterternary": [
           {
            "marker": {
             "colorbar": {
              "outlinewidth": 0,
              "ticks": ""
             }
            },
            "type": "scatterternary"
           }
          ],
          "surface": [
           {
            "colorbar": {
             "outlinewidth": 0,
             "ticks": ""
            },
            "colorscale": [
             [
              0,
              "#0d0887"
             ],
             [
              0.1111111111111111,
              "#46039f"
             ],
             [
              0.2222222222222222,
              "#7201a8"
             ],
             [
              0.3333333333333333,
              "#9c179e"
             ],
             [
              0.4444444444444444,
              "#bd3786"
             ],
             [
              0.5555555555555556,
              "#d8576b"
             ],
             [
              0.6666666666666666,
              "#ed7953"
             ],
             [
              0.7777777777777778,
              "#fb9f3a"
             ],
             [
              0.8888888888888888,
              "#fdca26"
             ],
             [
              1,
              "#f0f921"
             ]
            ],
            "type": "surface"
           }
          ],
          "table": [
           {
            "cells": {
             "fill": {
              "color": "#EBF0F8"
             },
             "line": {
              "color": "white"
             }
            },
            "header": {
             "fill": {
              "color": "#C8D4E3"
             },
             "line": {
              "color": "white"
             }
            },
            "type": "table"
           }
          ]
         },
         "layout": {
          "annotationdefaults": {
           "arrowcolor": "#2a3f5f",
           "arrowhead": 0,
           "arrowwidth": 1
          },
          "autotypenumbers": "strict",
          "coloraxis": {
           "colorbar": {
            "outlinewidth": 0,
            "ticks": ""
           }
          },
          "colorscale": {
           "diverging": [
            [
             0,
             "#8e0152"
            ],
            [
             0.1,
             "#c51b7d"
            ],
            [
             0.2,
             "#de77ae"
            ],
            [
             0.3,
             "#f1b6da"
            ],
            [
             0.4,
             "#fde0ef"
            ],
            [
             0.5,
             "#f7f7f7"
            ],
            [
             0.6,
             "#e6f5d0"
            ],
            [
             0.7,
             "#b8e186"
            ],
            [
             0.8,
             "#7fbc41"
            ],
            [
             0.9,
             "#4d9221"
            ],
            [
             1,
             "#276419"
            ]
           ],
           "sequential": [
            [
             0,
             "#0d0887"
            ],
            [
             0.1111111111111111,
             "#46039f"
            ],
            [
             0.2222222222222222,
             "#7201a8"
            ],
            [
             0.3333333333333333,
             "#9c179e"
            ],
            [
             0.4444444444444444,
             "#bd3786"
            ],
            [
             0.5555555555555556,
             "#d8576b"
            ],
            [
             0.6666666666666666,
             "#ed7953"
            ],
            [
             0.7777777777777778,
             "#fb9f3a"
            ],
            [
             0.8888888888888888,
             "#fdca26"
            ],
            [
             1,
             "#f0f921"
            ]
           ],
           "sequentialminus": [
            [
             0,
             "#0d0887"
            ],
            [
             0.1111111111111111,
             "#46039f"
            ],
            [
             0.2222222222222222,
             "#7201a8"
            ],
            [
             0.3333333333333333,
             "#9c179e"
            ],
            [
             0.4444444444444444,
             "#bd3786"
            ],
            [
             0.5555555555555556,
             "#d8576b"
            ],
            [
             0.6666666666666666,
             "#ed7953"
            ],
            [
             0.7777777777777778,
             "#fb9f3a"
            ],
            [
             0.8888888888888888,
             "#fdca26"
            ],
            [
             1,
             "#f0f921"
            ]
           ]
          },
          "colorway": [
           "#636efa",
           "#EF553B",
           "#00cc96",
           "#ab63fa",
           "#FFA15A",
           "#19d3f3",
           "#FF6692",
           "#B6E880",
           "#FF97FF",
           "#FECB52"
          ],
          "font": {
           "color": "#2a3f5f"
          },
          "geo": {
           "bgcolor": "white",
           "lakecolor": "white",
           "landcolor": "#E5ECF6",
           "showlakes": true,
           "showland": true,
           "subunitcolor": "white"
          },
          "hoverlabel": {
           "align": "left"
          },
          "hovermode": "closest",
          "mapbox": {
           "style": "light"
          },
          "paper_bgcolor": "white",
          "plot_bgcolor": "#E5ECF6",
          "polar": {
           "angularaxis": {
            "gridcolor": "white",
            "linecolor": "white",
            "ticks": ""
           },
           "bgcolor": "#E5ECF6",
           "radialaxis": {
            "gridcolor": "white",
            "linecolor": "white",
            "ticks": ""
           }
          },
          "scene": {
           "xaxis": {
            "backgroundcolor": "#E5ECF6",
            "gridcolor": "white",
            "gridwidth": 2,
            "linecolor": "white",
            "showbackground": true,
            "ticks": "",
            "zerolinecolor": "white"
           },
           "yaxis": {
            "backgroundcolor": "#E5ECF6",
            "gridcolor": "white",
            "gridwidth": 2,
            "linecolor": "white",
            "showbackground": true,
            "ticks": "",
            "zerolinecolor": "white"
           },
           "zaxis": {
            "backgroundcolor": "#E5ECF6",
            "gridcolor": "white",
            "gridwidth": 2,
            "linecolor": "white",
            "showbackground": true,
            "ticks": "",
            "zerolinecolor": "white"
           }
          },
          "shapedefaults": {
           "line": {
            "color": "#2a3f5f"
           }
          },
          "ternary": {
           "aaxis": {
            "gridcolor": "white",
            "linecolor": "white",
            "ticks": ""
           },
           "baxis": {
            "gridcolor": "white",
            "linecolor": "white",
            "ticks": ""
           },
           "bgcolor": "#E5ECF6",
           "caxis": {
            "gridcolor": "white",
            "linecolor": "white",
            "ticks": ""
           }
          },
          "title": {
           "x": 0.05
          },
          "xaxis": {
           "automargin": true,
           "gridcolor": "white",
           "linecolor": "white",
           "ticks": "",
           "title": {
            "standoff": 15
           },
           "zerolinecolor": "white",
           "zerolinewidth": 2
          },
          "yaxis": {
           "automargin": true,
           "gridcolor": "white",
           "linecolor": "white",
           "ticks": "",
           "title": {
            "standoff": 15
           },
           "zerolinecolor": "white",
           "zerolinewidth": 2
          }
         }
        },
        "title": {
         "font": {
          "color": "#4D5663"
         }
        },
        "xaxis": {
         "gridcolor": "#E1E5ED",
         "showgrid": true,
         "tickfont": {
          "color": "#4D5663"
         },
         "title": {
          "font": {
           "color": "#4D5663"
          },
          "text": ""
         },
         "zerolinecolor": "#E1E5ED"
        },
        "yaxis": {
         "gridcolor": "#E1E5ED",
         "showgrid": true,
         "tickfont": {
          "color": "#4D5663"
         },
         "title": {
          "font": {
           "color": "#4D5663"
          },
          "text": ""
         },
         "zerolinecolor": "#E1E5ED"
        }
       }
      },
      "text/html": [
       "<div>                            <div id=\"9dccffc9-d3f5-4c1b-be9f-459510b14ee3\" class=\"plotly-graph-div\" style=\"height:525px; width:100%;\"></div>            <script type=\"text/javascript\">                require([\"plotly\"], function(Plotly) {                    window.PLOTLYENV=window.PLOTLYENV || {};\n",
       "                    window.PLOTLYENV.BASE_URL='https://plot.ly';                                    if (document.getElementById(\"9dccffc9-d3f5-4c1b-be9f-459510b14ee3\")) {                    Plotly.newPlot(                        \"9dccffc9-d3f5-4c1b-be9f-459510b14ee3\",                        [{\"histfunc\":\"count\",\"histnorm\":\"\",\"marker\":{\"color\":\"rgba(255, 153, 51, 1.0)\",\"line\":{\"color\":\"#4D5663\",\"width\":1.3}},\"name\":\"A\",\"opacity\":0.8,\"orientation\":\"v\",\"x\":[0.042951484569504976,-0.2202853182291732,1.1734268801089391,-0.242857425217831,0.6763938161336688,-0.35387111095045287,-1.178873015258505,-0.9043748575099387,1.289961855900039,0.4024925419044032,0.47478873453097875,-1.5599979609496375,1.256435413677142,-1.0956306989431794,-0.4086611258433707,-1.3945695346151434,0.912962045848968,0.30730511387148135,-0.1939624564553397,1.4671933909894053,0.5694254821204012,-1.1931505134032656,1.5569400206519073,2.3296513255577835,0.21366883706439055,-0.7481852006274928,-1.047437879897871,-1.5665786547362606,-0.4195824696415362,0.7356706051151829,1.4854953122092205,-1.3585448502023059,0.6868115836283416,-0.8590019761193095,-0.3167758916209611,-2.5859566581957814,1.8802303072579827,0.33698592765530255,0.24253885461217137,-1.0610179368441957,0.6063985638659398,1.9432087735321149,-0.30963188399023234,-0.9478546493238559,1.6901316294856135,-0.9748813666852253,1.6306834387604556,0.5099483849696402,-0.8464325906049034,-0.5542596398999922,1.5009952174177925,-0.1652580228163639,0.01163057019334677,0.7861976487418677,-1.3589873822837037,-0.4793132050239744,-0.8884327703773046,-0.3284322245590626,-0.4240280239376068,0.22150415379237778,0.3881047010647667,-0.30205926100025343,0.26673438198881094,-1.591193149414884,0.8778887244884065,0.2209150355262721,1.0160545227316395,0.3491350139623226,-0.9537562700624382,1.687178900073207,0.6711975871514694,-0.47100392021657966,-0.4796751132677763,0.8899899575821433,-0.34435673664939204,-0.5704311813504567,0.17464690363311544,-0.7418420309705646,-0.6330916545993854,-1.5647070071417015,0.1292205238573053,0.17257583531658205,0.5641384665414945,-1.2693499109193727,1.112215426407947,-0.6246175481905369,0.6243230099698143,-0.5868564679739539,-0.38798572600393394,-2.2238360986731847,0.39483428796649245,-1.5128431080727769,-0.17054727445722603,0.2785807882330337,0.12745026931076014,0.37528908825820756,0.01664120828374138,2.7111613412371853,0.6852940169202932,0.04551068262644309],\"type\":\"histogram\"},{\"histfunc\":\"count\",\"histnorm\":\"\",\"marker\":{\"color\":\"rgba(55, 128, 191, 1.0)\",\"line\":{\"color\":\"#4D5663\",\"width\":1.3}},\"name\":\"B\",\"opacity\":0.8,\"orientation\":\"v\",\"x\":[0.6192879182170579,1.1257981118290274,-0.18605348668541802,1.68420984422097,-0.9102788942172225,-0.5202766729357958,-0.8997368949419952,0.6662772657608717,0.35174523740201824,0.9641528029440805,-0.8653270517802244,0.9452732084915756,0.47945395129175744,-0.4286061172343618,-1.2735688440555835,0.40889101608737194,1.2422571076767783,1.4166175858265113,-0.5270318815990367,-0.800046474269336,0.214565407669123,-0.55640152527389,-0.9114344441458444,3.1083979331621663,-0.7311112731850965,-0.684880342436226,0.06274744992688126,2.742531672377017,-2.133326227684579,0.1151137652842412,0.7680900451533238,-0.5223302478800493,0.022174916223067612,2.4139818872965506,0.21130446301537828,-1.0520853313040146,-1.7954748202765316,-0.9478364870503688,0.5588092484146348,-0.7601933681171539,0.14143501024264124,0.27309509504905183,-2.427264041980388,0.23317620185855684,-3.1588073663659517,-0.9122905543369599,0.6107267009505823,-0.23496380499321687,0.2941546566425414,0.7183125745805514,1.070927343340471,-1.0193545665580568,1.5531729890673478,-0.957694030028398,1.1727426779104344,0.20692751971823767,-0.34462607961309055,0.6537646309558028,2.6435063941444903,-0.26984172479330476,0.06320591618100005,2.9234580741428777,0.9283667700362315,0.343527795795072,-1.6951366429125174,0.6105405577363859,1.2681520353623972,-1.4348732293337862,0.036658494980897884,0.8311983922247884,-0.30313544490508115,-0.4189732950197264,0.1303538776810748,0.5785788369835336,0.4081059853116089,-0.05183208331726445,0.6342275658481765,-0.2792889338774161,0.06936324222582699,0.5281795507084809,0.40946299084644944,1.3820817269300272,0.2347867174176207,2.6062135259018873,-1.5016377554871971,0.6800085010932065,-0.021387092292663206,1.536948561145858,0.7924620306825507,1.7553181160764677,-0.869180304417114,0.709670228343469,-0.24003645899926476,1.2632533989196815,0.019840686964291792,-0.7226923963856168,0.9000389139195395,-0.5072870380033023,-0.048363172534944744,-0.7864118916761768],\"type\":\"histogram\"},{\"histfunc\":\"count\",\"histnorm\":\"\",\"marker\":{\"color\":\"rgba(50, 171, 96, 1.0)\",\"line\":{\"color\":\"#4D5663\",\"width\":1.3}},\"name\":\"C\",\"opacity\":0.8,\"orientation\":\"v\",\"x\":[-0.8504629846670366,0.3470106660474676,-0.947157868453042,-1.3753738685210328,0.798112475861372,-0.07703631274791213,1.0081338509405333,1.7164031262789414,-0.15428419974716925,0.7394786809792315,-0.29087805351923696,-0.5036911983143708,0.7783109538359925,-0.9144864195606346,1.116337266608769,0.053086914437842025,1.1101169589996904,-0.07085129969144484,0.040320607319248414,0.28456521512565375,-0.3051548037600851,0.1608256854735454,0.5448689042209915,0.5130086565826092,1.114722787381222,-0.03033601069045141,0.6077097977908359,1.53612369790164,-0.5012501672556618,-0.6922311374242788,-0.030434283930449717,-0.7325996923830687,1.9560475088120413,1.7928012874028676,0.5183789488380032,-0.06247876335431108,0.06631837618682593,0.6307445934333602,1.5465192727036488,0.020633866560363073,0.30250193170395867,1.6771883503720761,-1.366327161291545,-0.0176458306245623,-0.13534138524280714,0.14200842587933715,-0.42959470571188285,1.0889289527460462,-0.5838295739246996,0.2784376622727278,-1.6055776206589827,-0.7583919697249786,0.33986581486104167,-1.6329635927053063,0.14195826962869051,0.21904261630627975,-0.26870964311125756,-2.0344872045157114,0.8005427352285261,-0.2843127710147637,-2.1657093271797088,-0.8083818932840517,0.27726807561376,0.35200537183063185,-1.2941715559683442,0.8810559886831515,-0.6999370839443164,0.8026579340017406,1.200946185356744,-0.2941228811682841,2.5698652166863374,-0.7179356903023796,2.546739037086572,0.28897228668584174,0.8625860396497803,-0.6754435434133842,0.6030968163029332,1.4328624709910547,-0.019837684596422166,-0.10896990206263385,1.4102348753371692,-1.8690520719855694,-0.9759947194700561,-1.347030914236879,-0.00868423520275727,0.23550473380153755,-0.34338332229913704,0.025913405196481814,-0.1509748477861139,0.023652325265938547,-0.9116681818552379,0.46001109960251635,-0.7266253041278453,-0.000713758687759925,-0.9616896614161947,0.4818779798820858,1.429448189634716,-0.5211333364859005,-1.4718441559943454,0.36990748517458355],\"type\":\"histogram\"},{\"histfunc\":\"count\",\"histnorm\":\"\",\"marker\":{\"color\":\"rgba(128, 0, 128, 1.0)\",\"line\":{\"color\":\"#4D5663\",\"width\":1.3}},\"name\":\"D\",\"opacity\":0.8,\"orientation\":\"v\",\"x\":[0.09810140879192156,1.0821585282388269,-1.4171248011615019,-1.681027934088529,-1.5426929836829733,0.7832147248858957,-0.7026508858544321,0.9741928148992898,0.7516172349078831,-1.0166850884338632,-0.8845407757566924,-0.8750379369793457,1.8736709664082034,-0.052899055320985544,1.3512178391863716,-0.18010450905832964,0.5860120402012328,-1.3522280442963397,-0.06740328278078253,1.1079425142104637,0.022099086678615883,0.8245665325239215,-0.3624823520505544,0.12363321364733355,0.38472994873374255,-0.8450571672231768,0.015188014417435147,0.12010790903890044,0.4085443628403387,0.7813670689251719,-0.47614926783054934,1.2185069541003242,-0.3010235087835275,0.5068742732191456,0.2391999745080336,-1.3356989501178944,-1.8861844520282103,-0.4636196529271505,0.6563545318345386,-0.6220848495485403,-0.44705641151759895,-1.9309191056949997,0.5949001187224799,0.03576457859212332,-0.2679998578508826,-0.2009488318995272,0.7938135479115963,1.649693641080204,-0.32892264026438395,-0.7341027023538993,-1.1218984959219487,-0.16540043889166298,-2.2488066605144277,0.23737591970941674,0.24478357266576542,-0.28253293153056036,1.006130640980851,0.9378984871881437,1.088213849894811,0.8248437305613723,-2.688043702273467,-1.7619891255564812,-0.33425568490133084,-1.2511561057450569,-0.07475995985482435,0.6930236216468565,-1.9890012589837858,-0.7495033548258262,-0.23767376718480676,-0.6017116670533126,1.5507489010923925,1.0117488474759582,-0.032719332652793004,-0.27657682862296384,-0.9424378950776426,-0.35908107751131124,1.9205665872236553,-0.20557618943903266,-1.2366161188207578,0.006956169777380158,0.308914754920131,0.04941829377527631,0.6670918623792209,-1.8749217552790838,-0.06266549513086278,-0.6801984634652508,1.656176704126538,1.5060730196685739,0.32600789039124106,0.8476973198310992,-0.10144457537645299,-0.586455108088047,0.9279948700124497,-0.008768409556187321,1.0855785426038398,-0.6717157469387206,0.6667545705904094,0.6459431251440116,-1.662539146174201,-1.0697674156336698],\"type\":\"histogram\"}],                        {\"barmode\":\"overlay\",\"legend\":{\"bgcolor\":\"#F5F6F9\",\"font\":{\"color\":\"#4D5663\"}},\"paper_bgcolor\":\"#F5F6F9\",\"plot_bgcolor\":\"#F5F6F9\",\"template\":{\"data\":{\"barpolar\":[{\"marker\":{\"line\":{\"color\":\"#E5ECF6\",\"width\":0.5},\"pattern\":{\"fillmode\":\"overlay\",\"size\":10,\"solidity\":0.2}},\"type\":\"barpolar\"}],\"bar\":[{\"error_x\":{\"color\":\"#2a3f5f\"},\"error_y\":{\"color\":\"#2a3f5f\"},\"marker\":{\"line\":{\"color\":\"#E5ECF6\",\"width\":0.5},\"pattern\":{\"fillmode\":\"overlay\",\"size\":10,\"solidity\":0.2}},\"type\":\"bar\"}],\"carpet\":[{\"aaxis\":{\"endlinecolor\":\"#2a3f5f\",\"gridcolor\":\"white\",\"linecolor\":\"white\",\"minorgridcolor\":\"white\",\"startlinecolor\":\"#2a3f5f\"},\"baxis\":{\"endlinecolor\":\"#2a3f5f\",\"gridcolor\":\"white\",\"linecolor\":\"white\",\"minorgridcolor\":\"white\",\"startlinecolor\":\"#2a3f5f\"},\"type\":\"carpet\"}],\"choropleth\":[{\"colorbar\":{\"outlinewidth\":0,\"ticks\":\"\"},\"type\":\"choropleth\"}],\"contourcarpet\":[{\"colorbar\":{\"outlinewidth\":0,\"ticks\":\"\"},\"type\":\"contourcarpet\"}],\"contour\":[{\"colorbar\":{\"outlinewidth\":0,\"ticks\":\"\"},\"colorscale\":[[0.0,\"#0d0887\"],[0.1111111111111111,\"#46039f\"],[0.2222222222222222,\"#7201a8\"],[0.3333333333333333,\"#9c179e\"],[0.4444444444444444,\"#bd3786\"],[0.5555555555555556,\"#d8576b\"],[0.6666666666666666,\"#ed7953\"],[0.7777777777777778,\"#fb9f3a\"],[0.8888888888888888,\"#fdca26\"],[1.0,\"#f0f921\"]],\"type\":\"contour\"}],\"heatmapgl\":[{\"colorbar\":{\"outlinewidth\":0,\"ticks\":\"\"},\"colorscale\":[[0.0,\"#0d0887\"],[0.1111111111111111,\"#46039f\"],[0.2222222222222222,\"#7201a8\"],[0.3333333333333333,\"#9c179e\"],[0.4444444444444444,\"#bd3786\"],[0.5555555555555556,\"#d8576b\"],[0.6666666666666666,\"#ed7953\"],[0.7777777777777778,\"#fb9f3a\"],[0.8888888888888888,\"#fdca26\"],[1.0,\"#f0f921\"]],\"type\":\"heatmapgl\"}],\"heatmap\":[{\"colorbar\":{\"outlinewidth\":0,\"ticks\":\"\"},\"colorscale\":[[0.0,\"#0d0887\"],[0.1111111111111111,\"#46039f\"],[0.2222222222222222,\"#7201a8\"],[0.3333333333333333,\"#9c179e\"],[0.4444444444444444,\"#bd3786\"],[0.5555555555555556,\"#d8576b\"],[0.6666666666666666,\"#ed7953\"],[0.7777777777777778,\"#fb9f3a\"],[0.8888888888888888,\"#fdca26\"],[1.0,\"#f0f921\"]],\"type\":\"heatmap\"}],\"histogram2dcontour\":[{\"colorbar\":{\"outlinewidth\":0,\"ticks\":\"\"},\"colorscale\":[[0.0,\"#0d0887\"],[0.1111111111111111,\"#46039f\"],[0.2222222222222222,\"#7201a8\"],[0.3333333333333333,\"#9c179e\"],[0.4444444444444444,\"#bd3786\"],[0.5555555555555556,\"#d8576b\"],[0.6666666666666666,\"#ed7953\"],[0.7777777777777778,\"#fb9f3a\"],[0.8888888888888888,\"#fdca26\"],[1.0,\"#f0f921\"]],\"type\":\"histogram2dcontour\"}],\"histogram2d\":[{\"colorbar\":{\"outlinewidth\":0,\"ticks\":\"\"},\"colorscale\":[[0.0,\"#0d0887\"],[0.1111111111111111,\"#46039f\"],[0.2222222222222222,\"#7201a8\"],[0.3333333333333333,\"#9c179e\"],[0.4444444444444444,\"#bd3786\"],[0.5555555555555556,\"#d8576b\"],[0.6666666666666666,\"#ed7953\"],[0.7777777777777778,\"#fb9f3a\"],[0.8888888888888888,\"#fdca26\"],[1.0,\"#f0f921\"]],\"type\":\"histogram2d\"}],\"histogram\":[{\"marker\":{\"pattern\":{\"fillmode\":\"overlay\",\"size\":10,\"solidity\":0.2}},\"type\":\"histogram\"}],\"mesh3d\":[{\"colorbar\":{\"outlinewidth\":0,\"ticks\":\"\"},\"type\":\"mesh3d\"}],\"parcoords\":[{\"line\":{\"colorbar\":{\"outlinewidth\":0,\"ticks\":\"\"}},\"type\":\"parcoords\"}],\"pie\":[{\"automargin\":true,\"type\":\"pie\"}],\"scatter3d\":[{\"line\":{\"colorbar\":{\"outlinewidth\":0,\"ticks\":\"\"}},\"marker\":{\"colorbar\":{\"outlinewidth\":0,\"ticks\":\"\"}},\"type\":\"scatter3d\"}],\"scattercarpet\":[{\"marker\":{\"colorbar\":{\"outlinewidth\":0,\"ticks\":\"\"}},\"type\":\"scattercarpet\"}],\"scattergeo\":[{\"marker\":{\"colorbar\":{\"outlinewidth\":0,\"ticks\":\"\"}},\"type\":\"scattergeo\"}],\"scattergl\":[{\"marker\":{\"colorbar\":{\"outlinewidth\":0,\"ticks\":\"\"}},\"type\":\"scattergl\"}],\"scattermapbox\":[{\"marker\":{\"colorbar\":{\"outlinewidth\":0,\"ticks\":\"\"}},\"type\":\"scattermapbox\"}],\"scatterpolargl\":[{\"marker\":{\"colorbar\":{\"outlinewidth\":0,\"ticks\":\"\"}},\"type\":\"scatterpolargl\"}],\"scatterpolar\":[{\"marker\":{\"colorbar\":{\"outlinewidth\":0,\"ticks\":\"\"}},\"type\":\"scatterpolar\"}],\"scatter\":[{\"fillpattern\":{\"fillmode\":\"overlay\",\"size\":10,\"solidity\":0.2},\"type\":\"scatter\"}],\"scatterternary\":[{\"marker\":{\"colorbar\":{\"outlinewidth\":0,\"ticks\":\"\"}},\"type\":\"scatterternary\"}],\"surface\":[{\"colorbar\":{\"outlinewidth\":0,\"ticks\":\"\"},\"colorscale\":[[0.0,\"#0d0887\"],[0.1111111111111111,\"#46039f\"],[0.2222222222222222,\"#7201a8\"],[0.3333333333333333,\"#9c179e\"],[0.4444444444444444,\"#bd3786\"],[0.5555555555555556,\"#d8576b\"],[0.6666666666666666,\"#ed7953\"],[0.7777777777777778,\"#fb9f3a\"],[0.8888888888888888,\"#fdca26\"],[1.0,\"#f0f921\"]],\"type\":\"surface\"}],\"table\":[{\"cells\":{\"fill\":{\"color\":\"#EBF0F8\"},\"line\":{\"color\":\"white\"}},\"header\":{\"fill\":{\"color\":\"#C8D4E3\"},\"line\":{\"color\":\"white\"}},\"type\":\"table\"}]},\"layout\":{\"annotationdefaults\":{\"arrowcolor\":\"#2a3f5f\",\"arrowhead\":0,\"arrowwidth\":1},\"autotypenumbers\":\"strict\",\"coloraxis\":{\"colorbar\":{\"outlinewidth\":0,\"ticks\":\"\"}},\"colorscale\":{\"diverging\":[[0,\"#8e0152\"],[0.1,\"#c51b7d\"],[0.2,\"#de77ae\"],[0.3,\"#f1b6da\"],[0.4,\"#fde0ef\"],[0.5,\"#f7f7f7\"],[0.6,\"#e6f5d0\"],[0.7,\"#b8e186\"],[0.8,\"#7fbc41\"],[0.9,\"#4d9221\"],[1,\"#276419\"]],\"sequential\":[[0.0,\"#0d0887\"],[0.1111111111111111,\"#46039f\"],[0.2222222222222222,\"#7201a8\"],[0.3333333333333333,\"#9c179e\"],[0.4444444444444444,\"#bd3786\"],[0.5555555555555556,\"#d8576b\"],[0.6666666666666666,\"#ed7953\"],[0.7777777777777778,\"#fb9f3a\"],[0.8888888888888888,\"#fdca26\"],[1.0,\"#f0f921\"]],\"sequentialminus\":[[0.0,\"#0d0887\"],[0.1111111111111111,\"#46039f\"],[0.2222222222222222,\"#7201a8\"],[0.3333333333333333,\"#9c179e\"],[0.4444444444444444,\"#bd3786\"],[0.5555555555555556,\"#d8576b\"],[0.6666666666666666,\"#ed7953\"],[0.7777777777777778,\"#fb9f3a\"],[0.8888888888888888,\"#fdca26\"],[1.0,\"#f0f921\"]]},\"colorway\":[\"#636efa\",\"#EF553B\",\"#00cc96\",\"#ab63fa\",\"#FFA15A\",\"#19d3f3\",\"#FF6692\",\"#B6E880\",\"#FF97FF\",\"#FECB52\"],\"font\":{\"color\":\"#2a3f5f\"},\"geo\":{\"bgcolor\":\"white\",\"lakecolor\":\"white\",\"landcolor\":\"#E5ECF6\",\"showlakes\":true,\"showland\":true,\"subunitcolor\":\"white\"},\"hoverlabel\":{\"align\":\"left\"},\"hovermode\":\"closest\",\"mapbox\":{\"style\":\"light\"},\"paper_bgcolor\":\"white\",\"plot_bgcolor\":\"#E5ECF6\",\"polar\":{\"angularaxis\":{\"gridcolor\":\"white\",\"linecolor\":\"white\",\"ticks\":\"\"},\"bgcolor\":\"#E5ECF6\",\"radialaxis\":{\"gridcolor\":\"white\",\"linecolor\":\"white\",\"ticks\":\"\"}},\"scene\":{\"xaxis\":{\"backgroundcolor\":\"#E5ECF6\",\"gridcolor\":\"white\",\"gridwidth\":2,\"linecolor\":\"white\",\"showbackground\":true,\"ticks\":\"\",\"zerolinecolor\":\"white\"},\"yaxis\":{\"backgroundcolor\":\"#E5ECF6\",\"gridcolor\":\"white\",\"gridwidth\":2,\"linecolor\":\"white\",\"showbackground\":true,\"ticks\":\"\",\"zerolinecolor\":\"white\"},\"zaxis\":{\"backgroundcolor\":\"#E5ECF6\",\"gridcolor\":\"white\",\"gridwidth\":2,\"linecolor\":\"white\",\"showbackground\":true,\"ticks\":\"\",\"zerolinecolor\":\"white\"}},\"shapedefaults\":{\"line\":{\"color\":\"#2a3f5f\"}},\"ternary\":{\"aaxis\":{\"gridcolor\":\"white\",\"linecolor\":\"white\",\"ticks\":\"\"},\"baxis\":{\"gridcolor\":\"white\",\"linecolor\":\"white\",\"ticks\":\"\"},\"bgcolor\":\"#E5ECF6\",\"caxis\":{\"gridcolor\":\"white\",\"linecolor\":\"white\",\"ticks\":\"\"}},\"title\":{\"x\":0.05},\"xaxis\":{\"automargin\":true,\"gridcolor\":\"white\",\"linecolor\":\"white\",\"ticks\":\"\",\"title\":{\"standoff\":15},\"zerolinecolor\":\"white\",\"zerolinewidth\":2},\"yaxis\":{\"automargin\":true,\"gridcolor\":\"white\",\"linecolor\":\"white\",\"ticks\":\"\",\"title\":{\"standoff\":15},\"zerolinecolor\":\"white\",\"zerolinewidth\":2}}},\"title\":{\"font\":{\"color\":\"#4D5663\"}},\"xaxis\":{\"gridcolor\":\"#E1E5ED\",\"showgrid\":true,\"tickfont\":{\"color\":\"#4D5663\"},\"title\":{\"font\":{\"color\":\"#4D5663\"},\"text\":\"\"},\"zerolinecolor\":\"#E1E5ED\"},\"yaxis\":{\"gridcolor\":\"#E1E5ED\",\"showgrid\":true,\"tickfont\":{\"color\":\"#4D5663\"},\"title\":{\"font\":{\"color\":\"#4D5663\"},\"text\":\"\"},\"zerolinecolor\":\"#E1E5ED\"}},                        {\"showLink\": true, \"linkText\": \"Export to plot.ly\", \"plotlyServerURL\": \"https://plot.ly\", \"responsive\": true}                    ).then(function(){\n",
       "                            \n",
       "var gd = document.getElementById('9dccffc9-d3f5-4c1b-be9f-459510b14ee3');\n",
       "var x = new MutationObserver(function (mutations, observer) {{\n",
       "        var display = window.getComputedStyle(gd).display;\n",
       "        if (!display || display === 'none') {{\n",
       "            console.log([gd, 'removed!']);\n",
       "            Plotly.purge(gd);\n",
       "            observer.disconnect();\n",
       "        }}\n",
       "}});\n",
       "\n",
       "// Listen for the removal of the full notebook cells\n",
       "var notebookContainer = gd.closest('#notebook-container');\n",
       "if (notebookContainer) {{\n",
       "    x.observe(notebookContainer, {childList: true});\n",
       "}}\n",
       "\n",
       "// Listen for the clearing of the current output cell\n",
       "var outputEl = gd.closest('.output');\n",
       "if (outputEl) {{\n",
       "    x.observe(outputEl, {childList: true});\n",
       "}}\n",
       "\n",
       "                        })                };                });            </script>        </div>"
      ]
     },
     "metadata": {},
     "output_type": "display_data"
    }
   ],
   "source": [
    "df.iplot(kind='hist')"
   ]
  },
  {
   "cell_type": "markdown",
   "id": "c196a359",
   "metadata": {},
   "source": [
    "### Bubble Plot"
   ]
  },
  {
   "cell_type": "code",
   "execution_count": 29,
   "id": "ea1a9fe1",
   "metadata": {},
   "outputs": [
    {
     "data": {
      "application/vnd.plotly.v1+json": {
       "config": {
        "linkText": "Export to plot.ly",
        "plotlyServerURL": "https://plot.ly",
        "showLink": true
       },
       "data": [
        {
         "marker": {
          "color": [
           "rgb(255, 153, 51)",
           "rgb(55, 128, 191)",
           "rgb(50, 171, 96)",
           "rgb(128, 0, 128)",
           "rgb(219, 64, 82)",
           "rgb(0, 128, 128)",
           "rgb(255, 255, 51)",
           "rgb(128, 128, 0)",
           "rgb(251, 128, 114)",
           "rgb(128, 177, 211)"
          ],
          "line": {
           "width": 1.3
          },
          "size": [
           39,
           65,
           37,
           28,
           74,
           56,
           79,
           93,
           54,
           73,
           51,
           47,
           74,
           38,
           81,
           58,
           81,
           56,
           58,
           63,
           51,
           61,
           69,
           68,
           81,
           57,
           70,
           90,
           47,
           43,
           57,
           42,
           99,
           95,
           68,
           56,
           59,
           71,
           90,
           58,
           64,
           93,
           28,
           57,
           54,
           60,
           48,
           80,
           45,
           63,
           23,
           41,
           64,
           23,
           60,
           62,
           52,
           14,
           74,
           51,
           12,
           40,
           63,
           65,
           30,
           76,
           42,
           74,
           83,
           51,
           112,
           42,
           111,
           63,
           75,
           43,
           70,
           87,
           57,
           55,
           87,
           18,
           37,
           29,
           57,
           62,
           50,
           58,
           54,
           58,
           38,
           67,
           42,
           57,
           37,
           67,
           87,
           46,
           26,
           65
          ],
          "symbol": "circle"
         },
         "mode": "markers",
         "text": "",
         "type": "scatter",
         "x": [
          0.042951484569504976,
          -0.2202853182291732,
          1.1734268801089391,
          -0.242857425217831,
          0.6763938161336688,
          -0.35387111095045287,
          -1.178873015258505,
          -0.9043748575099387,
          1.289961855900039,
          0.4024925419044032,
          0.47478873453097875,
          -1.5599979609496375,
          1.256435413677142,
          -1.0956306989431794,
          -0.4086611258433707,
          -1.3945695346151434,
          0.912962045848968,
          0.30730511387148135,
          -0.1939624564553397,
          1.4671933909894053,
          0.5694254821204012,
          -1.1931505134032656,
          1.5569400206519073,
          2.3296513255577835,
          0.21366883706439055,
          -0.7481852006274928,
          -1.047437879897871,
          -1.5665786547362606,
          -0.4195824696415362,
          0.7356706051151829,
          1.4854953122092205,
          -1.3585448502023059,
          0.6868115836283416,
          -0.8590019761193095,
          -0.3167758916209611,
          -2.5859566581957814,
          1.8802303072579827,
          0.33698592765530255,
          0.24253885461217137,
          -1.0610179368441957,
          0.6063985638659398,
          1.9432087735321149,
          -0.30963188399023234,
          -0.9478546493238559,
          1.6901316294856135,
          -0.9748813666852253,
          1.6306834387604556,
          0.5099483849696402,
          -0.8464325906049034,
          -0.5542596398999922,
          1.5009952174177925,
          -0.1652580228163639,
          0.01163057019334677,
          0.7861976487418677,
          -1.3589873822837037,
          -0.4793132050239744,
          -0.8884327703773046,
          -0.3284322245590626,
          -0.4240280239376068,
          0.22150415379237778,
          0.3881047010647667,
          -0.30205926100025343,
          0.26673438198881094,
          -1.591193149414884,
          0.8778887244884065,
          0.2209150355262721,
          1.0160545227316395,
          0.3491350139623226,
          -0.9537562700624382,
          1.687178900073207,
          0.6711975871514694,
          -0.47100392021657966,
          -0.4796751132677763,
          0.8899899575821433,
          -0.34435673664939204,
          -0.5704311813504567,
          0.17464690363311544,
          -0.7418420309705646,
          -0.6330916545993854,
          -1.5647070071417015,
          0.1292205238573053,
          0.17257583531658205,
          0.5641384665414945,
          -1.2693499109193727,
          1.112215426407947,
          -0.6246175481905369,
          0.6243230099698143,
          -0.5868564679739539,
          -0.38798572600393394,
          -2.2238360986731847,
          0.39483428796649245,
          -1.5128431080727769,
          -0.17054727445722603,
          0.2785807882330337,
          0.12745026931076014,
          0.37528908825820756,
          0.01664120828374138,
          2.7111613412371853,
          0.6852940169202932,
          0.04551068262644309
         ],
         "y": [
          0.6192879182170579,
          1.1257981118290274,
          -0.18605348668541802,
          1.68420984422097,
          -0.9102788942172225,
          -0.5202766729357958,
          -0.8997368949419952,
          0.6662772657608717,
          0.35174523740201824,
          0.9641528029440805,
          -0.8653270517802244,
          0.9452732084915756,
          0.47945395129175744,
          -0.4286061172343618,
          -1.2735688440555835,
          0.40889101608737194,
          1.2422571076767783,
          1.4166175858265113,
          -0.5270318815990367,
          -0.800046474269336,
          0.214565407669123,
          -0.55640152527389,
          -0.9114344441458444,
          3.1083979331621663,
          -0.7311112731850965,
          -0.684880342436226,
          0.06274744992688126,
          2.742531672377017,
          -2.133326227684579,
          0.1151137652842412,
          0.7680900451533238,
          -0.5223302478800493,
          0.022174916223067612,
          2.4139818872965506,
          0.21130446301537828,
          -1.0520853313040146,
          -1.7954748202765316,
          -0.9478364870503688,
          0.5588092484146348,
          -0.7601933681171539,
          0.14143501024264124,
          0.27309509504905183,
          -2.427264041980388,
          0.23317620185855684,
          -3.1588073663659517,
          -0.9122905543369599,
          0.6107267009505823,
          -0.23496380499321687,
          0.2941546566425414,
          0.7183125745805514,
          1.070927343340471,
          -1.0193545665580568,
          1.5531729890673478,
          -0.957694030028398,
          1.1727426779104344,
          0.20692751971823767,
          -0.34462607961309055,
          0.6537646309558028,
          2.6435063941444903,
          -0.26984172479330476,
          0.06320591618100005,
          2.9234580741428777,
          0.9283667700362315,
          0.343527795795072,
          -1.6951366429125174,
          0.6105405577363859,
          1.2681520353623972,
          -1.4348732293337862,
          0.036658494980897884,
          0.8311983922247884,
          -0.30313544490508115,
          -0.4189732950197264,
          0.1303538776810748,
          0.5785788369835336,
          0.4081059853116089,
          -0.05183208331726445,
          0.6342275658481765,
          -0.2792889338774161,
          0.06936324222582699,
          0.5281795507084809,
          0.40946299084644944,
          1.3820817269300272,
          0.2347867174176207,
          2.6062135259018873,
          -1.5016377554871971,
          0.6800085010932065,
          -0.021387092292663206,
          1.536948561145858,
          0.7924620306825507,
          1.7553181160764677,
          -0.869180304417114,
          0.709670228343469,
          -0.24003645899926476,
          1.2632533989196815,
          0.019840686964291792,
          -0.7226923963856168,
          0.9000389139195395,
          -0.5072870380033023,
          -0.048363172534944744,
          -0.7864118916761768
         ]
        }
       ],
       "layout": {
        "legend": {
         "bgcolor": "#F5F6F9",
         "font": {
          "color": "#4D5663"
         }
        },
        "paper_bgcolor": "#F5F6F9",
        "plot_bgcolor": "#F5F6F9",
        "template": {
         "data": {
          "bar": [
           {
            "error_x": {
             "color": "#2a3f5f"
            },
            "error_y": {
             "color": "#2a3f5f"
            },
            "marker": {
             "line": {
              "color": "#E5ECF6",
              "width": 0.5
             },
             "pattern": {
              "fillmode": "overlay",
              "size": 10,
              "solidity": 0.2
             }
            },
            "type": "bar"
           }
          ],
          "barpolar": [
           {
            "marker": {
             "line": {
              "color": "#E5ECF6",
              "width": 0.5
             },
             "pattern": {
              "fillmode": "overlay",
              "size": 10,
              "solidity": 0.2
             }
            },
            "type": "barpolar"
           }
          ],
          "carpet": [
           {
            "aaxis": {
             "endlinecolor": "#2a3f5f",
             "gridcolor": "white",
             "linecolor": "white",
             "minorgridcolor": "white",
             "startlinecolor": "#2a3f5f"
            },
            "baxis": {
             "endlinecolor": "#2a3f5f",
             "gridcolor": "white",
             "linecolor": "white",
             "minorgridcolor": "white",
             "startlinecolor": "#2a3f5f"
            },
            "type": "carpet"
           }
          ],
          "choropleth": [
           {
            "colorbar": {
             "outlinewidth": 0,
             "ticks": ""
            },
            "type": "choropleth"
           }
          ],
          "contour": [
           {
            "colorbar": {
             "outlinewidth": 0,
             "ticks": ""
            },
            "colorscale": [
             [
              0,
              "#0d0887"
             ],
             [
              0.1111111111111111,
              "#46039f"
             ],
             [
              0.2222222222222222,
              "#7201a8"
             ],
             [
              0.3333333333333333,
              "#9c179e"
             ],
             [
              0.4444444444444444,
              "#bd3786"
             ],
             [
              0.5555555555555556,
              "#d8576b"
             ],
             [
              0.6666666666666666,
              "#ed7953"
             ],
             [
              0.7777777777777778,
              "#fb9f3a"
             ],
             [
              0.8888888888888888,
              "#fdca26"
             ],
             [
              1,
              "#f0f921"
             ]
            ],
            "type": "contour"
           }
          ],
          "contourcarpet": [
           {
            "colorbar": {
             "outlinewidth": 0,
             "ticks": ""
            },
            "type": "contourcarpet"
           }
          ],
          "heatmap": [
           {
            "colorbar": {
             "outlinewidth": 0,
             "ticks": ""
            },
            "colorscale": [
             [
              0,
              "#0d0887"
             ],
             [
              0.1111111111111111,
              "#46039f"
             ],
             [
              0.2222222222222222,
              "#7201a8"
             ],
             [
              0.3333333333333333,
              "#9c179e"
             ],
             [
              0.4444444444444444,
              "#bd3786"
             ],
             [
              0.5555555555555556,
              "#d8576b"
             ],
             [
              0.6666666666666666,
              "#ed7953"
             ],
             [
              0.7777777777777778,
              "#fb9f3a"
             ],
             [
              0.8888888888888888,
              "#fdca26"
             ],
             [
              1,
              "#f0f921"
             ]
            ],
            "type": "heatmap"
           }
          ],
          "heatmapgl": [
           {
            "colorbar": {
             "outlinewidth": 0,
             "ticks": ""
            },
            "colorscale": [
             [
              0,
              "#0d0887"
             ],
             [
              0.1111111111111111,
              "#46039f"
             ],
             [
              0.2222222222222222,
              "#7201a8"
             ],
             [
              0.3333333333333333,
              "#9c179e"
             ],
             [
              0.4444444444444444,
              "#bd3786"
             ],
             [
              0.5555555555555556,
              "#d8576b"
             ],
             [
              0.6666666666666666,
              "#ed7953"
             ],
             [
              0.7777777777777778,
              "#fb9f3a"
             ],
             [
              0.8888888888888888,
              "#fdca26"
             ],
             [
              1,
              "#f0f921"
             ]
            ],
            "type": "heatmapgl"
           }
          ],
          "histogram": [
           {
            "marker": {
             "pattern": {
              "fillmode": "overlay",
              "size": 10,
              "solidity": 0.2
             }
            },
            "type": "histogram"
           }
          ],
          "histogram2d": [
           {
            "colorbar": {
             "outlinewidth": 0,
             "ticks": ""
            },
            "colorscale": [
             [
              0,
              "#0d0887"
             ],
             [
              0.1111111111111111,
              "#46039f"
             ],
             [
              0.2222222222222222,
              "#7201a8"
             ],
             [
              0.3333333333333333,
              "#9c179e"
             ],
             [
              0.4444444444444444,
              "#bd3786"
             ],
             [
              0.5555555555555556,
              "#d8576b"
             ],
             [
              0.6666666666666666,
              "#ed7953"
             ],
             [
              0.7777777777777778,
              "#fb9f3a"
             ],
             [
              0.8888888888888888,
              "#fdca26"
             ],
             [
              1,
              "#f0f921"
             ]
            ],
            "type": "histogram2d"
           }
          ],
          "histogram2dcontour": [
           {
            "colorbar": {
             "outlinewidth": 0,
             "ticks": ""
            },
            "colorscale": [
             [
              0,
              "#0d0887"
             ],
             [
              0.1111111111111111,
              "#46039f"
             ],
             [
              0.2222222222222222,
              "#7201a8"
             ],
             [
              0.3333333333333333,
              "#9c179e"
             ],
             [
              0.4444444444444444,
              "#bd3786"
             ],
             [
              0.5555555555555556,
              "#d8576b"
             ],
             [
              0.6666666666666666,
              "#ed7953"
             ],
             [
              0.7777777777777778,
              "#fb9f3a"
             ],
             [
              0.8888888888888888,
              "#fdca26"
             ],
             [
              1,
              "#f0f921"
             ]
            ],
            "type": "histogram2dcontour"
           }
          ],
          "mesh3d": [
           {
            "colorbar": {
             "outlinewidth": 0,
             "ticks": ""
            },
            "type": "mesh3d"
           }
          ],
          "parcoords": [
           {
            "line": {
             "colorbar": {
              "outlinewidth": 0,
              "ticks": ""
             }
            },
            "type": "parcoords"
           }
          ],
          "pie": [
           {
            "automargin": true,
            "type": "pie"
           }
          ],
          "scatter": [
           {
            "fillpattern": {
             "fillmode": "overlay",
             "size": 10,
             "solidity": 0.2
            },
            "type": "scatter"
           }
          ],
          "scatter3d": [
           {
            "line": {
             "colorbar": {
              "outlinewidth": 0,
              "ticks": ""
             }
            },
            "marker": {
             "colorbar": {
              "outlinewidth": 0,
              "ticks": ""
             }
            },
            "type": "scatter3d"
           }
          ],
          "scattercarpet": [
           {
            "marker": {
             "colorbar": {
              "outlinewidth": 0,
              "ticks": ""
             }
            },
            "type": "scattercarpet"
           }
          ],
          "scattergeo": [
           {
            "marker": {
             "colorbar": {
              "outlinewidth": 0,
              "ticks": ""
             }
            },
            "type": "scattergeo"
           }
          ],
          "scattergl": [
           {
            "marker": {
             "colorbar": {
              "outlinewidth": 0,
              "ticks": ""
             }
            },
            "type": "scattergl"
           }
          ],
          "scattermapbox": [
           {
            "marker": {
             "colorbar": {
              "outlinewidth": 0,
              "ticks": ""
             }
            },
            "type": "scattermapbox"
           }
          ],
          "scatterpolar": [
           {
            "marker": {
             "colorbar": {
              "outlinewidth": 0,
              "ticks": ""
             }
            },
            "type": "scatterpolar"
           }
          ],
          "scatterpolargl": [
           {
            "marker": {
             "colorbar": {
              "outlinewidth": 0,
              "ticks": ""
             }
            },
            "type": "scatterpolargl"
           }
          ],
          "scatterternary": [
           {
            "marker": {
             "colorbar": {
              "outlinewidth": 0,
              "ticks": ""
             }
            },
            "type": "scatterternary"
           }
          ],
          "surface": [
           {
            "colorbar": {
             "outlinewidth": 0,
             "ticks": ""
            },
            "colorscale": [
             [
              0,
              "#0d0887"
             ],
             [
              0.1111111111111111,
              "#46039f"
             ],
             [
              0.2222222222222222,
              "#7201a8"
             ],
             [
              0.3333333333333333,
              "#9c179e"
             ],
             [
              0.4444444444444444,
              "#bd3786"
             ],
             [
              0.5555555555555556,
              "#d8576b"
             ],
             [
              0.6666666666666666,
              "#ed7953"
             ],
             [
              0.7777777777777778,
              "#fb9f3a"
             ],
             [
              0.8888888888888888,
              "#fdca26"
             ],
             [
              1,
              "#f0f921"
             ]
            ],
            "type": "surface"
           }
          ],
          "table": [
           {
            "cells": {
             "fill": {
              "color": "#EBF0F8"
             },
             "line": {
              "color": "white"
             }
            },
            "header": {
             "fill": {
              "color": "#C8D4E3"
             },
             "line": {
              "color": "white"
             }
            },
            "type": "table"
           }
          ]
         },
         "layout": {
          "annotationdefaults": {
           "arrowcolor": "#2a3f5f",
           "arrowhead": 0,
           "arrowwidth": 1
          },
          "autotypenumbers": "strict",
          "coloraxis": {
           "colorbar": {
            "outlinewidth": 0,
            "ticks": ""
           }
          },
          "colorscale": {
           "diverging": [
            [
             0,
             "#8e0152"
            ],
            [
             0.1,
             "#c51b7d"
            ],
            [
             0.2,
             "#de77ae"
            ],
            [
             0.3,
             "#f1b6da"
            ],
            [
             0.4,
             "#fde0ef"
            ],
            [
             0.5,
             "#f7f7f7"
            ],
            [
             0.6,
             "#e6f5d0"
            ],
            [
             0.7,
             "#b8e186"
            ],
            [
             0.8,
             "#7fbc41"
            ],
            [
             0.9,
             "#4d9221"
            ],
            [
             1,
             "#276419"
            ]
           ],
           "sequential": [
            [
             0,
             "#0d0887"
            ],
            [
             0.1111111111111111,
             "#46039f"
            ],
            [
             0.2222222222222222,
             "#7201a8"
            ],
            [
             0.3333333333333333,
             "#9c179e"
            ],
            [
             0.4444444444444444,
             "#bd3786"
            ],
            [
             0.5555555555555556,
             "#d8576b"
            ],
            [
             0.6666666666666666,
             "#ed7953"
            ],
            [
             0.7777777777777778,
             "#fb9f3a"
            ],
            [
             0.8888888888888888,
             "#fdca26"
            ],
            [
             1,
             "#f0f921"
            ]
           ],
           "sequentialminus": [
            [
             0,
             "#0d0887"
            ],
            [
             0.1111111111111111,
             "#46039f"
            ],
            [
             0.2222222222222222,
             "#7201a8"
            ],
            [
             0.3333333333333333,
             "#9c179e"
            ],
            [
             0.4444444444444444,
             "#bd3786"
            ],
            [
             0.5555555555555556,
             "#d8576b"
            ],
            [
             0.6666666666666666,
             "#ed7953"
            ],
            [
             0.7777777777777778,
             "#fb9f3a"
            ],
            [
             0.8888888888888888,
             "#fdca26"
            ],
            [
             1,
             "#f0f921"
            ]
           ]
          },
          "colorway": [
           "#636efa",
           "#EF553B",
           "#00cc96",
           "#ab63fa",
           "#FFA15A",
           "#19d3f3",
           "#FF6692",
           "#B6E880",
           "#FF97FF",
           "#FECB52"
          ],
          "font": {
           "color": "#2a3f5f"
          },
          "geo": {
           "bgcolor": "white",
           "lakecolor": "white",
           "landcolor": "#E5ECF6",
           "showlakes": true,
           "showland": true,
           "subunitcolor": "white"
          },
          "hoverlabel": {
           "align": "left"
          },
          "hovermode": "closest",
          "mapbox": {
           "style": "light"
          },
          "paper_bgcolor": "white",
          "plot_bgcolor": "#E5ECF6",
          "polar": {
           "angularaxis": {
            "gridcolor": "white",
            "linecolor": "white",
            "ticks": ""
           },
           "bgcolor": "#E5ECF6",
           "radialaxis": {
            "gridcolor": "white",
            "linecolor": "white",
            "ticks": ""
           }
          },
          "scene": {
           "xaxis": {
            "backgroundcolor": "#E5ECF6",
            "gridcolor": "white",
            "gridwidth": 2,
            "linecolor": "white",
            "showbackground": true,
            "ticks": "",
            "zerolinecolor": "white"
           },
           "yaxis": {
            "backgroundcolor": "#E5ECF6",
            "gridcolor": "white",
            "gridwidth": 2,
            "linecolor": "white",
            "showbackground": true,
            "ticks": "",
            "zerolinecolor": "white"
           },
           "zaxis": {
            "backgroundcolor": "#E5ECF6",
            "gridcolor": "white",
            "gridwidth": 2,
            "linecolor": "white",
            "showbackground": true,
            "ticks": "",
            "zerolinecolor": "white"
           }
          },
          "shapedefaults": {
           "line": {
            "color": "#2a3f5f"
           }
          },
          "ternary": {
           "aaxis": {
            "gridcolor": "white",
            "linecolor": "white",
            "ticks": ""
           },
           "baxis": {
            "gridcolor": "white",
            "linecolor": "white",
            "ticks": ""
           },
           "bgcolor": "#E5ECF6",
           "caxis": {
            "gridcolor": "white",
            "linecolor": "white",
            "ticks": ""
           }
          },
          "title": {
           "x": 0.05
          },
          "xaxis": {
           "automargin": true,
           "gridcolor": "white",
           "linecolor": "white",
           "ticks": "",
           "title": {
            "standoff": 15
           },
           "zerolinecolor": "white",
           "zerolinewidth": 2
          },
          "yaxis": {
           "automargin": true,
           "gridcolor": "white",
           "linecolor": "white",
           "ticks": "",
           "title": {
            "standoff": 15
           },
           "zerolinecolor": "white",
           "zerolinewidth": 2
          }
         }
        },
        "title": {
         "font": {
          "color": "#4D5663"
         }
        },
        "xaxis": {
         "gridcolor": "#E1E5ED",
         "showgrid": true,
         "tickfont": {
          "color": "#4D5663"
         },
         "title": {
          "font": {
           "color": "#4D5663"
          },
          "text": ""
         },
         "zerolinecolor": "#E1E5ED"
        },
        "yaxis": {
         "gridcolor": "#E1E5ED",
         "showgrid": true,
         "tickfont": {
          "color": "#4D5663"
         },
         "title": {
          "font": {
           "color": "#4D5663"
          },
          "text": ""
         },
         "zerolinecolor": "#E1E5ED"
        }
       }
      },
      "text/html": [
       "<div>                            <div id=\"fb5b2cea-bc53-4db2-ae29-909573223721\" class=\"plotly-graph-div\" style=\"height:525px; width:100%;\"></div>            <script type=\"text/javascript\">                require([\"plotly\"], function(Plotly) {                    window.PLOTLYENV=window.PLOTLYENV || {};\n",
       "                    window.PLOTLYENV.BASE_URL='https://plot.ly';                                    if (document.getElementById(\"fb5b2cea-bc53-4db2-ae29-909573223721\")) {                    Plotly.newPlot(                        \"fb5b2cea-bc53-4db2-ae29-909573223721\",                        [{\"marker\":{\"color\":[\"rgb(255, 153, 51)\",\"rgb(55, 128, 191)\",\"rgb(50, 171, 96)\",\"rgb(128, 0, 128)\",\"rgb(219, 64, 82)\",\"rgb(0, 128, 128)\",\"rgb(255, 255, 51)\",\"rgb(128, 128, 0)\",\"rgb(251, 128, 114)\",\"rgb(128, 177, 211)\"],\"line\":{\"width\":1.3},\"size\":[39,65,37,28,74,56,79,93,54,73,51,47,74,38,81,58,81,56,58,63,51,61,69,68,81,57,70,90,47,43,57,42,99,95,68,56,59,71,90,58,64,93,28,57,54,60,48,80,45,63,23,41,64,23,60,62,52,14,74,51,12,40,63,65,30,76,42,74,83,51,112,42,111,63,75,43,70,87,57,55,87,18,37,29,57,62,50,58,54,58,38,67,42,57,37,67,87,46,26,65],\"symbol\":\"circle\"},\"mode\":\"markers\",\"text\":\"\",\"x\":[0.042951484569504976,-0.2202853182291732,1.1734268801089391,-0.242857425217831,0.6763938161336688,-0.35387111095045287,-1.178873015258505,-0.9043748575099387,1.289961855900039,0.4024925419044032,0.47478873453097875,-1.5599979609496375,1.256435413677142,-1.0956306989431794,-0.4086611258433707,-1.3945695346151434,0.912962045848968,0.30730511387148135,-0.1939624564553397,1.4671933909894053,0.5694254821204012,-1.1931505134032656,1.5569400206519073,2.3296513255577835,0.21366883706439055,-0.7481852006274928,-1.047437879897871,-1.5665786547362606,-0.4195824696415362,0.7356706051151829,1.4854953122092205,-1.3585448502023059,0.6868115836283416,-0.8590019761193095,-0.3167758916209611,-2.5859566581957814,1.8802303072579827,0.33698592765530255,0.24253885461217137,-1.0610179368441957,0.6063985638659398,1.9432087735321149,-0.30963188399023234,-0.9478546493238559,1.6901316294856135,-0.9748813666852253,1.6306834387604556,0.5099483849696402,-0.8464325906049034,-0.5542596398999922,1.5009952174177925,-0.1652580228163639,0.01163057019334677,0.7861976487418677,-1.3589873822837037,-0.4793132050239744,-0.8884327703773046,-0.3284322245590626,-0.4240280239376068,0.22150415379237778,0.3881047010647667,-0.30205926100025343,0.26673438198881094,-1.591193149414884,0.8778887244884065,0.2209150355262721,1.0160545227316395,0.3491350139623226,-0.9537562700624382,1.687178900073207,0.6711975871514694,-0.47100392021657966,-0.4796751132677763,0.8899899575821433,-0.34435673664939204,-0.5704311813504567,0.17464690363311544,-0.7418420309705646,-0.6330916545993854,-1.5647070071417015,0.1292205238573053,0.17257583531658205,0.5641384665414945,-1.2693499109193727,1.112215426407947,-0.6246175481905369,0.6243230099698143,-0.5868564679739539,-0.38798572600393394,-2.2238360986731847,0.39483428796649245,-1.5128431080727769,-0.17054727445722603,0.2785807882330337,0.12745026931076014,0.37528908825820756,0.01664120828374138,2.7111613412371853,0.6852940169202932,0.04551068262644309],\"y\":[0.6192879182170579,1.1257981118290274,-0.18605348668541802,1.68420984422097,-0.9102788942172225,-0.5202766729357958,-0.8997368949419952,0.6662772657608717,0.35174523740201824,0.9641528029440805,-0.8653270517802244,0.9452732084915756,0.47945395129175744,-0.4286061172343618,-1.2735688440555835,0.40889101608737194,1.2422571076767783,1.4166175858265113,-0.5270318815990367,-0.800046474269336,0.214565407669123,-0.55640152527389,-0.9114344441458444,3.1083979331621663,-0.7311112731850965,-0.684880342436226,0.06274744992688126,2.742531672377017,-2.133326227684579,0.1151137652842412,0.7680900451533238,-0.5223302478800493,0.022174916223067612,2.4139818872965506,0.21130446301537828,-1.0520853313040146,-1.7954748202765316,-0.9478364870503688,0.5588092484146348,-0.7601933681171539,0.14143501024264124,0.27309509504905183,-2.427264041980388,0.23317620185855684,-3.1588073663659517,-0.9122905543369599,0.6107267009505823,-0.23496380499321687,0.2941546566425414,0.7183125745805514,1.070927343340471,-1.0193545665580568,1.5531729890673478,-0.957694030028398,1.1727426779104344,0.20692751971823767,-0.34462607961309055,0.6537646309558028,2.6435063941444903,-0.26984172479330476,0.06320591618100005,2.9234580741428777,0.9283667700362315,0.343527795795072,-1.6951366429125174,0.6105405577363859,1.2681520353623972,-1.4348732293337862,0.036658494980897884,0.8311983922247884,-0.30313544490508115,-0.4189732950197264,0.1303538776810748,0.5785788369835336,0.4081059853116089,-0.05183208331726445,0.6342275658481765,-0.2792889338774161,0.06936324222582699,0.5281795507084809,0.40946299084644944,1.3820817269300272,0.2347867174176207,2.6062135259018873,-1.5016377554871971,0.6800085010932065,-0.021387092292663206,1.536948561145858,0.7924620306825507,1.7553181160764677,-0.869180304417114,0.709670228343469,-0.24003645899926476,1.2632533989196815,0.019840686964291792,-0.7226923963856168,0.9000389139195395,-0.5072870380033023,-0.048363172534944744,-0.7864118916761768],\"type\":\"scatter\"}],                        {\"legend\":{\"bgcolor\":\"#F5F6F9\",\"font\":{\"color\":\"#4D5663\"}},\"paper_bgcolor\":\"#F5F6F9\",\"plot_bgcolor\":\"#F5F6F9\",\"template\":{\"data\":{\"barpolar\":[{\"marker\":{\"line\":{\"color\":\"#E5ECF6\",\"width\":0.5},\"pattern\":{\"fillmode\":\"overlay\",\"size\":10,\"solidity\":0.2}},\"type\":\"barpolar\"}],\"bar\":[{\"error_x\":{\"color\":\"#2a3f5f\"},\"error_y\":{\"color\":\"#2a3f5f\"},\"marker\":{\"line\":{\"color\":\"#E5ECF6\",\"width\":0.5},\"pattern\":{\"fillmode\":\"overlay\",\"size\":10,\"solidity\":0.2}},\"type\":\"bar\"}],\"carpet\":[{\"aaxis\":{\"endlinecolor\":\"#2a3f5f\",\"gridcolor\":\"white\",\"linecolor\":\"white\",\"minorgridcolor\":\"white\",\"startlinecolor\":\"#2a3f5f\"},\"baxis\":{\"endlinecolor\":\"#2a3f5f\",\"gridcolor\":\"white\",\"linecolor\":\"white\",\"minorgridcolor\":\"white\",\"startlinecolor\":\"#2a3f5f\"},\"type\":\"carpet\"}],\"choropleth\":[{\"colorbar\":{\"outlinewidth\":0,\"ticks\":\"\"},\"type\":\"choropleth\"}],\"contourcarpet\":[{\"colorbar\":{\"outlinewidth\":0,\"ticks\":\"\"},\"type\":\"contourcarpet\"}],\"contour\":[{\"colorbar\":{\"outlinewidth\":0,\"ticks\":\"\"},\"colorscale\":[[0.0,\"#0d0887\"],[0.1111111111111111,\"#46039f\"],[0.2222222222222222,\"#7201a8\"],[0.3333333333333333,\"#9c179e\"],[0.4444444444444444,\"#bd3786\"],[0.5555555555555556,\"#d8576b\"],[0.6666666666666666,\"#ed7953\"],[0.7777777777777778,\"#fb9f3a\"],[0.8888888888888888,\"#fdca26\"],[1.0,\"#f0f921\"]],\"type\":\"contour\"}],\"heatmapgl\":[{\"colorbar\":{\"outlinewidth\":0,\"ticks\":\"\"},\"colorscale\":[[0.0,\"#0d0887\"],[0.1111111111111111,\"#46039f\"],[0.2222222222222222,\"#7201a8\"],[0.3333333333333333,\"#9c179e\"],[0.4444444444444444,\"#bd3786\"],[0.5555555555555556,\"#d8576b\"],[0.6666666666666666,\"#ed7953\"],[0.7777777777777778,\"#fb9f3a\"],[0.8888888888888888,\"#fdca26\"],[1.0,\"#f0f921\"]],\"type\":\"heatmapgl\"}],\"heatmap\":[{\"colorbar\":{\"outlinewidth\":0,\"ticks\":\"\"},\"colorscale\":[[0.0,\"#0d0887\"],[0.1111111111111111,\"#46039f\"],[0.2222222222222222,\"#7201a8\"],[0.3333333333333333,\"#9c179e\"],[0.4444444444444444,\"#bd3786\"],[0.5555555555555556,\"#d8576b\"],[0.6666666666666666,\"#ed7953\"],[0.7777777777777778,\"#fb9f3a\"],[0.8888888888888888,\"#fdca26\"],[1.0,\"#f0f921\"]],\"type\":\"heatmap\"}],\"histogram2dcontour\":[{\"colorbar\":{\"outlinewidth\":0,\"ticks\":\"\"},\"colorscale\":[[0.0,\"#0d0887\"],[0.1111111111111111,\"#46039f\"],[0.2222222222222222,\"#7201a8\"],[0.3333333333333333,\"#9c179e\"],[0.4444444444444444,\"#bd3786\"],[0.5555555555555556,\"#d8576b\"],[0.6666666666666666,\"#ed7953\"],[0.7777777777777778,\"#fb9f3a\"],[0.8888888888888888,\"#fdca26\"],[1.0,\"#f0f921\"]],\"type\":\"histogram2dcontour\"}],\"histogram2d\":[{\"colorbar\":{\"outlinewidth\":0,\"ticks\":\"\"},\"colorscale\":[[0.0,\"#0d0887\"],[0.1111111111111111,\"#46039f\"],[0.2222222222222222,\"#7201a8\"],[0.3333333333333333,\"#9c179e\"],[0.4444444444444444,\"#bd3786\"],[0.5555555555555556,\"#d8576b\"],[0.6666666666666666,\"#ed7953\"],[0.7777777777777778,\"#fb9f3a\"],[0.8888888888888888,\"#fdca26\"],[1.0,\"#f0f921\"]],\"type\":\"histogram2d\"}],\"histogram\":[{\"marker\":{\"pattern\":{\"fillmode\":\"overlay\",\"size\":10,\"solidity\":0.2}},\"type\":\"histogram\"}],\"mesh3d\":[{\"colorbar\":{\"outlinewidth\":0,\"ticks\":\"\"},\"type\":\"mesh3d\"}],\"parcoords\":[{\"line\":{\"colorbar\":{\"outlinewidth\":0,\"ticks\":\"\"}},\"type\":\"parcoords\"}],\"pie\":[{\"automargin\":true,\"type\":\"pie\"}],\"scatter3d\":[{\"line\":{\"colorbar\":{\"outlinewidth\":0,\"ticks\":\"\"}},\"marker\":{\"colorbar\":{\"outlinewidth\":0,\"ticks\":\"\"}},\"type\":\"scatter3d\"}],\"scattercarpet\":[{\"marker\":{\"colorbar\":{\"outlinewidth\":0,\"ticks\":\"\"}},\"type\":\"scattercarpet\"}],\"scattergeo\":[{\"marker\":{\"colorbar\":{\"outlinewidth\":0,\"ticks\":\"\"}},\"type\":\"scattergeo\"}],\"scattergl\":[{\"marker\":{\"colorbar\":{\"outlinewidth\":0,\"ticks\":\"\"}},\"type\":\"scattergl\"}],\"scattermapbox\":[{\"marker\":{\"colorbar\":{\"outlinewidth\":0,\"ticks\":\"\"}},\"type\":\"scattermapbox\"}],\"scatterpolargl\":[{\"marker\":{\"colorbar\":{\"outlinewidth\":0,\"ticks\":\"\"}},\"type\":\"scatterpolargl\"}],\"scatterpolar\":[{\"marker\":{\"colorbar\":{\"outlinewidth\":0,\"ticks\":\"\"}},\"type\":\"scatterpolar\"}],\"scatter\":[{\"fillpattern\":{\"fillmode\":\"overlay\",\"size\":10,\"solidity\":0.2},\"type\":\"scatter\"}],\"scatterternary\":[{\"marker\":{\"colorbar\":{\"outlinewidth\":0,\"ticks\":\"\"}},\"type\":\"scatterternary\"}],\"surface\":[{\"colorbar\":{\"outlinewidth\":0,\"ticks\":\"\"},\"colorscale\":[[0.0,\"#0d0887\"],[0.1111111111111111,\"#46039f\"],[0.2222222222222222,\"#7201a8\"],[0.3333333333333333,\"#9c179e\"],[0.4444444444444444,\"#bd3786\"],[0.5555555555555556,\"#d8576b\"],[0.6666666666666666,\"#ed7953\"],[0.7777777777777778,\"#fb9f3a\"],[0.8888888888888888,\"#fdca26\"],[1.0,\"#f0f921\"]],\"type\":\"surface\"}],\"table\":[{\"cells\":{\"fill\":{\"color\":\"#EBF0F8\"},\"line\":{\"color\":\"white\"}},\"header\":{\"fill\":{\"color\":\"#C8D4E3\"},\"line\":{\"color\":\"white\"}},\"type\":\"table\"}]},\"layout\":{\"annotationdefaults\":{\"arrowcolor\":\"#2a3f5f\",\"arrowhead\":0,\"arrowwidth\":1},\"autotypenumbers\":\"strict\",\"coloraxis\":{\"colorbar\":{\"outlinewidth\":0,\"ticks\":\"\"}},\"colorscale\":{\"diverging\":[[0,\"#8e0152\"],[0.1,\"#c51b7d\"],[0.2,\"#de77ae\"],[0.3,\"#f1b6da\"],[0.4,\"#fde0ef\"],[0.5,\"#f7f7f7\"],[0.6,\"#e6f5d0\"],[0.7,\"#b8e186\"],[0.8,\"#7fbc41\"],[0.9,\"#4d9221\"],[1,\"#276419\"]],\"sequential\":[[0.0,\"#0d0887\"],[0.1111111111111111,\"#46039f\"],[0.2222222222222222,\"#7201a8\"],[0.3333333333333333,\"#9c179e\"],[0.4444444444444444,\"#bd3786\"],[0.5555555555555556,\"#d8576b\"],[0.6666666666666666,\"#ed7953\"],[0.7777777777777778,\"#fb9f3a\"],[0.8888888888888888,\"#fdca26\"],[1.0,\"#f0f921\"]],\"sequentialminus\":[[0.0,\"#0d0887\"],[0.1111111111111111,\"#46039f\"],[0.2222222222222222,\"#7201a8\"],[0.3333333333333333,\"#9c179e\"],[0.4444444444444444,\"#bd3786\"],[0.5555555555555556,\"#d8576b\"],[0.6666666666666666,\"#ed7953\"],[0.7777777777777778,\"#fb9f3a\"],[0.8888888888888888,\"#fdca26\"],[1.0,\"#f0f921\"]]},\"colorway\":[\"#636efa\",\"#EF553B\",\"#00cc96\",\"#ab63fa\",\"#FFA15A\",\"#19d3f3\",\"#FF6692\",\"#B6E880\",\"#FF97FF\",\"#FECB52\"],\"font\":{\"color\":\"#2a3f5f\"},\"geo\":{\"bgcolor\":\"white\",\"lakecolor\":\"white\",\"landcolor\":\"#E5ECF6\",\"showlakes\":true,\"showland\":true,\"subunitcolor\":\"white\"},\"hoverlabel\":{\"align\":\"left\"},\"hovermode\":\"closest\",\"mapbox\":{\"style\":\"light\"},\"paper_bgcolor\":\"white\",\"plot_bgcolor\":\"#E5ECF6\",\"polar\":{\"angularaxis\":{\"gridcolor\":\"white\",\"linecolor\":\"white\",\"ticks\":\"\"},\"bgcolor\":\"#E5ECF6\",\"radialaxis\":{\"gridcolor\":\"white\",\"linecolor\":\"white\",\"ticks\":\"\"}},\"scene\":{\"xaxis\":{\"backgroundcolor\":\"#E5ECF6\",\"gridcolor\":\"white\",\"gridwidth\":2,\"linecolor\":\"white\",\"showbackground\":true,\"ticks\":\"\",\"zerolinecolor\":\"white\"},\"yaxis\":{\"backgroundcolor\":\"#E5ECF6\",\"gridcolor\":\"white\",\"gridwidth\":2,\"linecolor\":\"white\",\"showbackground\":true,\"ticks\":\"\",\"zerolinecolor\":\"white\"},\"zaxis\":{\"backgroundcolor\":\"#E5ECF6\",\"gridcolor\":\"white\",\"gridwidth\":2,\"linecolor\":\"white\",\"showbackground\":true,\"ticks\":\"\",\"zerolinecolor\":\"white\"}},\"shapedefaults\":{\"line\":{\"color\":\"#2a3f5f\"}},\"ternary\":{\"aaxis\":{\"gridcolor\":\"white\",\"linecolor\":\"white\",\"ticks\":\"\"},\"baxis\":{\"gridcolor\":\"white\",\"linecolor\":\"white\",\"ticks\":\"\"},\"bgcolor\":\"#E5ECF6\",\"caxis\":{\"gridcolor\":\"white\",\"linecolor\":\"white\",\"ticks\":\"\"}},\"title\":{\"x\":0.05},\"xaxis\":{\"automargin\":true,\"gridcolor\":\"white\",\"linecolor\":\"white\",\"ticks\":\"\",\"title\":{\"standoff\":15},\"zerolinecolor\":\"white\",\"zerolinewidth\":2},\"yaxis\":{\"automargin\":true,\"gridcolor\":\"white\",\"linecolor\":\"white\",\"ticks\":\"\",\"title\":{\"standoff\":15},\"zerolinecolor\":\"white\",\"zerolinewidth\":2}}},\"title\":{\"font\":{\"color\":\"#4D5663\"}},\"xaxis\":{\"gridcolor\":\"#E1E5ED\",\"showgrid\":true,\"tickfont\":{\"color\":\"#4D5663\"},\"title\":{\"font\":{\"color\":\"#4D5663\"},\"text\":\"\"},\"zerolinecolor\":\"#E1E5ED\"},\"yaxis\":{\"gridcolor\":\"#E1E5ED\",\"showgrid\":true,\"tickfont\":{\"color\":\"#4D5663\"},\"title\":{\"font\":{\"color\":\"#4D5663\"},\"text\":\"\"},\"zerolinecolor\":\"#E1E5ED\"}},                        {\"showLink\": true, \"linkText\": \"Export to plot.ly\", \"plotlyServerURL\": \"https://plot.ly\", \"responsive\": true}                    ).then(function(){\n",
       "                            \n",
       "var gd = document.getElementById('fb5b2cea-bc53-4db2-ae29-909573223721');\n",
       "var x = new MutationObserver(function (mutations, observer) {{\n",
       "        var display = window.getComputedStyle(gd).display;\n",
       "        if (!display || display === 'none') {{\n",
       "            console.log([gd, 'removed!']);\n",
       "            Plotly.purge(gd);\n",
       "            observer.disconnect();\n",
       "        }}\n",
       "}});\n",
       "\n",
       "// Listen for the removal of the full notebook cells\n",
       "var notebookContainer = gd.closest('#notebook-container');\n",
       "if (notebookContainer) {{\n",
       "    x.observe(notebookContainer, {childList: true});\n",
       "}}\n",
       "\n",
       "// Listen for the clearing of the current output cell\n",
       "var outputEl = gd.closest('.output');\n",
       "if (outputEl) {{\n",
       "    x.observe(outputEl, {childList: true});\n",
       "}}\n",
       "\n",
       "                        })                };                });            </script>        </div>"
      ]
     },
     "metadata": {},
     "output_type": "display_data"
    }
   ],
   "source": [
    "df.iplot(kind='bubble', x='A', y='B',size='C')"
   ]
  },
  {
   "cell_type": "markdown",
   "id": "0d60455a",
   "metadata": {},
   "source": [
    "### Scatter Matrix"
   ]
  },
  {
   "cell_type": "code",
   "execution_count": 30,
   "id": "0dc72e24",
   "metadata": {},
   "outputs": [
    {
     "data": {
      "application/vnd.plotly.v1+json": {
       "config": {
        "linkText": "Export to plot.ly",
        "plotlyServerURL": "https://plot.ly",
        "showLink": true
       },
       "data": [
        {
         "histfunc": "count",
         "histnorm": "",
         "marker": {
          "color": "rgba(255, 153, 51, 1.0)",
          "line": {
           "color": "#4D5663",
           "width": 1.3
          }
         },
         "name": "A",
         "nbinsx": 10,
         "opacity": 0.8,
         "orientation": "v",
         "type": "histogram",
         "x": [
          0.042951484569504976,
          -0.2202853182291732,
          1.1734268801089391,
          -0.242857425217831,
          0.6763938161336688,
          -0.35387111095045287,
          -1.178873015258505,
          -0.9043748575099387,
          1.289961855900039,
          0.4024925419044032,
          0.47478873453097875,
          -1.5599979609496375,
          1.256435413677142,
          -1.0956306989431794,
          -0.4086611258433707,
          -1.3945695346151434,
          0.912962045848968,
          0.30730511387148135,
          -0.1939624564553397,
          1.4671933909894053,
          0.5694254821204012,
          -1.1931505134032656,
          1.5569400206519073,
          2.3296513255577835,
          0.21366883706439055,
          -0.7481852006274928,
          -1.047437879897871,
          -1.5665786547362606,
          -0.4195824696415362,
          0.7356706051151829,
          1.4854953122092205,
          -1.3585448502023059,
          0.6868115836283416,
          -0.8590019761193095,
          -0.3167758916209611,
          -2.5859566581957814,
          1.8802303072579827,
          0.33698592765530255,
          0.24253885461217137,
          -1.0610179368441957,
          0.6063985638659398,
          1.9432087735321149,
          -0.30963188399023234,
          -0.9478546493238559,
          1.6901316294856135,
          -0.9748813666852253,
          1.6306834387604556,
          0.5099483849696402,
          -0.8464325906049034,
          -0.5542596398999922,
          1.5009952174177925,
          -0.1652580228163639,
          0.01163057019334677,
          0.7861976487418677,
          -1.3589873822837037,
          -0.4793132050239744,
          -0.8884327703773046,
          -0.3284322245590626,
          -0.4240280239376068,
          0.22150415379237778,
          0.3881047010647667,
          -0.30205926100025343,
          0.26673438198881094,
          -1.591193149414884,
          0.8778887244884065,
          0.2209150355262721,
          1.0160545227316395,
          0.3491350139623226,
          -0.9537562700624382,
          1.687178900073207,
          0.6711975871514694,
          -0.47100392021657966,
          -0.4796751132677763,
          0.8899899575821433,
          -0.34435673664939204,
          -0.5704311813504567,
          0.17464690363311544,
          -0.7418420309705646,
          -0.6330916545993854,
          -1.5647070071417015,
          0.1292205238573053,
          0.17257583531658205,
          0.5641384665414945,
          -1.2693499109193727,
          1.112215426407947,
          -0.6246175481905369,
          0.6243230099698143,
          -0.5868564679739539,
          -0.38798572600393394,
          -2.2238360986731847,
          0.39483428796649245,
          -1.5128431080727769,
          -0.17054727445722603,
          0.2785807882330337,
          0.12745026931076014,
          0.37528908825820756,
          0.01664120828374138,
          2.7111613412371853,
          0.6852940169202932,
          0.04551068262644309
         ],
         "xaxis": "x",
         "yaxis": "y"
        },
        {
         "line": {
          "color": "rgba(128, 128, 128, 1.0)",
          "dash": "solid",
          "shape": "linear",
          "width": 1.3
         },
         "marker": {
          "size": 2,
          "symbol": "circle"
         },
         "mode": "markers",
         "name": "A",
         "text": "",
         "type": "scatter",
         "x": [
          0.6192879182170579,
          1.1257981118290274,
          -0.18605348668541802,
          1.68420984422097,
          -0.9102788942172225,
          -0.5202766729357958,
          -0.8997368949419952,
          0.6662772657608717,
          0.35174523740201824,
          0.9641528029440805,
          -0.8653270517802244,
          0.9452732084915756,
          0.47945395129175744,
          -0.4286061172343618,
          -1.2735688440555835,
          0.40889101608737194,
          1.2422571076767783,
          1.4166175858265113,
          -0.5270318815990367,
          -0.800046474269336,
          0.214565407669123,
          -0.55640152527389,
          -0.9114344441458444,
          3.1083979331621663,
          -0.7311112731850965,
          -0.684880342436226,
          0.06274744992688126,
          2.742531672377017,
          -2.133326227684579,
          0.1151137652842412,
          0.7680900451533238,
          -0.5223302478800493,
          0.022174916223067612,
          2.4139818872965506,
          0.21130446301537828,
          -1.0520853313040146,
          -1.7954748202765316,
          -0.9478364870503688,
          0.5588092484146348,
          -0.7601933681171539,
          0.14143501024264124,
          0.27309509504905183,
          -2.427264041980388,
          0.23317620185855684,
          -3.1588073663659517,
          -0.9122905543369599,
          0.6107267009505823,
          -0.23496380499321687,
          0.2941546566425414,
          0.7183125745805514,
          1.070927343340471,
          -1.0193545665580568,
          1.5531729890673478,
          -0.957694030028398,
          1.1727426779104344,
          0.20692751971823767,
          -0.34462607961309055,
          0.6537646309558028,
          2.6435063941444903,
          -0.26984172479330476,
          0.06320591618100005,
          2.9234580741428777,
          0.9283667700362315,
          0.343527795795072,
          -1.6951366429125174,
          0.6105405577363859,
          1.2681520353623972,
          -1.4348732293337862,
          0.036658494980897884,
          0.8311983922247884,
          -0.30313544490508115,
          -0.4189732950197264,
          0.1303538776810748,
          0.5785788369835336,
          0.4081059853116089,
          -0.05183208331726445,
          0.6342275658481765,
          -0.2792889338774161,
          0.06936324222582699,
          0.5281795507084809,
          0.40946299084644944,
          1.3820817269300272,
          0.2347867174176207,
          2.6062135259018873,
          -1.5016377554871971,
          0.6800085010932065,
          -0.021387092292663206,
          1.536948561145858,
          0.7924620306825507,
          1.7553181160764677,
          -0.869180304417114,
          0.709670228343469,
          -0.24003645899926476,
          1.2632533989196815,
          0.019840686964291792,
          -0.7226923963856168,
          0.9000389139195395,
          -0.5072870380033023,
          -0.048363172534944744,
          -0.7864118916761768
         ],
         "xaxis": "x2",
         "y": [
          0.042951484569504976,
          -0.2202853182291732,
          1.1734268801089391,
          -0.242857425217831,
          0.6763938161336688,
          -0.35387111095045287,
          -1.178873015258505,
          -0.9043748575099387,
          1.289961855900039,
          0.4024925419044032,
          0.47478873453097875,
          -1.5599979609496375,
          1.256435413677142,
          -1.0956306989431794,
          -0.4086611258433707,
          -1.3945695346151434,
          0.912962045848968,
          0.30730511387148135,
          -0.1939624564553397,
          1.4671933909894053,
          0.5694254821204012,
          -1.1931505134032656,
          1.5569400206519073,
          2.3296513255577835,
          0.21366883706439055,
          -0.7481852006274928,
          -1.047437879897871,
          -1.5665786547362606,
          -0.4195824696415362,
          0.7356706051151829,
          1.4854953122092205,
          -1.3585448502023059,
          0.6868115836283416,
          -0.8590019761193095,
          -0.3167758916209611,
          -2.5859566581957814,
          1.8802303072579827,
          0.33698592765530255,
          0.24253885461217137,
          -1.0610179368441957,
          0.6063985638659398,
          1.9432087735321149,
          -0.30963188399023234,
          -0.9478546493238559,
          1.6901316294856135,
          -0.9748813666852253,
          1.6306834387604556,
          0.5099483849696402,
          -0.8464325906049034,
          -0.5542596398999922,
          1.5009952174177925,
          -0.1652580228163639,
          0.01163057019334677,
          0.7861976487418677,
          -1.3589873822837037,
          -0.4793132050239744,
          -0.8884327703773046,
          -0.3284322245590626,
          -0.4240280239376068,
          0.22150415379237778,
          0.3881047010647667,
          -0.30205926100025343,
          0.26673438198881094,
          -1.591193149414884,
          0.8778887244884065,
          0.2209150355262721,
          1.0160545227316395,
          0.3491350139623226,
          -0.9537562700624382,
          1.687178900073207,
          0.6711975871514694,
          -0.47100392021657966,
          -0.4796751132677763,
          0.8899899575821433,
          -0.34435673664939204,
          -0.5704311813504567,
          0.17464690363311544,
          -0.7418420309705646,
          -0.6330916545993854,
          -1.5647070071417015,
          0.1292205238573053,
          0.17257583531658205,
          0.5641384665414945,
          -1.2693499109193727,
          1.112215426407947,
          -0.6246175481905369,
          0.6243230099698143,
          -0.5868564679739539,
          -0.38798572600393394,
          -2.2238360986731847,
          0.39483428796649245,
          -1.5128431080727769,
          -0.17054727445722603,
          0.2785807882330337,
          0.12745026931076014,
          0.37528908825820756,
          0.01664120828374138,
          2.7111613412371853,
          0.6852940169202932,
          0.04551068262644309
         ],
         "yaxis": "y2"
        },
        {
         "line": {
          "color": "rgba(128, 128, 128, 1.0)",
          "dash": "solid",
          "shape": "linear",
          "width": 1.3
         },
         "marker": {
          "size": 2,
          "symbol": "circle"
         },
         "mode": "markers",
         "name": "A",
         "text": "",
         "type": "scatter",
         "x": [
          -0.8504629846670366,
          0.3470106660474676,
          -0.947157868453042,
          -1.3753738685210328,
          0.798112475861372,
          -0.07703631274791213,
          1.0081338509405333,
          1.7164031262789414,
          -0.15428419974716925,
          0.7394786809792315,
          -0.29087805351923696,
          -0.5036911983143708,
          0.7783109538359925,
          -0.9144864195606346,
          1.116337266608769,
          0.053086914437842025,
          1.1101169589996904,
          -0.07085129969144484,
          0.040320607319248414,
          0.28456521512565375,
          -0.3051548037600851,
          0.1608256854735454,
          0.5448689042209915,
          0.5130086565826092,
          1.114722787381222,
          -0.03033601069045141,
          0.6077097977908359,
          1.53612369790164,
          -0.5012501672556618,
          -0.6922311374242788,
          -0.030434283930449717,
          -0.7325996923830687,
          1.9560475088120413,
          1.7928012874028676,
          0.5183789488380032,
          -0.06247876335431108,
          0.06631837618682593,
          0.6307445934333602,
          1.5465192727036488,
          0.020633866560363073,
          0.30250193170395867,
          1.6771883503720761,
          -1.366327161291545,
          -0.0176458306245623,
          -0.13534138524280714,
          0.14200842587933715,
          -0.42959470571188285,
          1.0889289527460462,
          -0.5838295739246996,
          0.2784376622727278,
          -1.6055776206589827,
          -0.7583919697249786,
          0.33986581486104167,
          -1.6329635927053063,
          0.14195826962869051,
          0.21904261630627975,
          -0.26870964311125756,
          -2.0344872045157114,
          0.8005427352285261,
          -0.2843127710147637,
          -2.1657093271797088,
          -0.8083818932840517,
          0.27726807561376,
          0.35200537183063185,
          -1.2941715559683442,
          0.8810559886831515,
          -0.6999370839443164,
          0.8026579340017406,
          1.200946185356744,
          -0.2941228811682841,
          2.5698652166863374,
          -0.7179356903023796,
          2.546739037086572,
          0.28897228668584174,
          0.8625860396497803,
          -0.6754435434133842,
          0.6030968163029332,
          1.4328624709910547,
          -0.019837684596422166,
          -0.10896990206263385,
          1.4102348753371692,
          -1.8690520719855694,
          -0.9759947194700561,
          -1.347030914236879,
          -0.00868423520275727,
          0.23550473380153755,
          -0.34338332229913704,
          0.025913405196481814,
          -0.1509748477861139,
          0.023652325265938547,
          -0.9116681818552379,
          0.46001109960251635,
          -0.7266253041278453,
          -0.000713758687759925,
          -0.9616896614161947,
          0.4818779798820858,
          1.429448189634716,
          -0.5211333364859005,
          -1.4718441559943454,
          0.36990748517458355
         ],
         "xaxis": "x3",
         "y": [
          0.042951484569504976,
          -0.2202853182291732,
          1.1734268801089391,
          -0.242857425217831,
          0.6763938161336688,
          -0.35387111095045287,
          -1.178873015258505,
          -0.9043748575099387,
          1.289961855900039,
          0.4024925419044032,
          0.47478873453097875,
          -1.5599979609496375,
          1.256435413677142,
          -1.0956306989431794,
          -0.4086611258433707,
          -1.3945695346151434,
          0.912962045848968,
          0.30730511387148135,
          -0.1939624564553397,
          1.4671933909894053,
          0.5694254821204012,
          -1.1931505134032656,
          1.5569400206519073,
          2.3296513255577835,
          0.21366883706439055,
          -0.7481852006274928,
          -1.047437879897871,
          -1.5665786547362606,
          -0.4195824696415362,
          0.7356706051151829,
          1.4854953122092205,
          -1.3585448502023059,
          0.6868115836283416,
          -0.8590019761193095,
          -0.3167758916209611,
          -2.5859566581957814,
          1.8802303072579827,
          0.33698592765530255,
          0.24253885461217137,
          -1.0610179368441957,
          0.6063985638659398,
          1.9432087735321149,
          -0.30963188399023234,
          -0.9478546493238559,
          1.6901316294856135,
          -0.9748813666852253,
          1.6306834387604556,
          0.5099483849696402,
          -0.8464325906049034,
          -0.5542596398999922,
          1.5009952174177925,
          -0.1652580228163639,
          0.01163057019334677,
          0.7861976487418677,
          -1.3589873822837037,
          -0.4793132050239744,
          -0.8884327703773046,
          -0.3284322245590626,
          -0.4240280239376068,
          0.22150415379237778,
          0.3881047010647667,
          -0.30205926100025343,
          0.26673438198881094,
          -1.591193149414884,
          0.8778887244884065,
          0.2209150355262721,
          1.0160545227316395,
          0.3491350139623226,
          -0.9537562700624382,
          1.687178900073207,
          0.6711975871514694,
          -0.47100392021657966,
          -0.4796751132677763,
          0.8899899575821433,
          -0.34435673664939204,
          -0.5704311813504567,
          0.17464690363311544,
          -0.7418420309705646,
          -0.6330916545993854,
          -1.5647070071417015,
          0.1292205238573053,
          0.17257583531658205,
          0.5641384665414945,
          -1.2693499109193727,
          1.112215426407947,
          -0.6246175481905369,
          0.6243230099698143,
          -0.5868564679739539,
          -0.38798572600393394,
          -2.2238360986731847,
          0.39483428796649245,
          -1.5128431080727769,
          -0.17054727445722603,
          0.2785807882330337,
          0.12745026931076014,
          0.37528908825820756,
          0.01664120828374138,
          2.7111613412371853,
          0.6852940169202932,
          0.04551068262644309
         ],
         "yaxis": "y3"
        },
        {
         "line": {
          "color": "rgba(128, 128, 128, 1.0)",
          "dash": "solid",
          "shape": "linear",
          "width": 1.3
         },
         "marker": {
          "size": 2,
          "symbol": "circle"
         },
         "mode": "markers",
         "name": "A",
         "text": "",
         "type": "scatter",
         "x": [
          0.09810140879192156,
          1.0821585282388269,
          -1.4171248011615019,
          -1.681027934088529,
          -1.5426929836829733,
          0.7832147248858957,
          -0.7026508858544321,
          0.9741928148992898,
          0.7516172349078831,
          -1.0166850884338632,
          -0.8845407757566924,
          -0.8750379369793457,
          1.8736709664082034,
          -0.052899055320985544,
          1.3512178391863716,
          -0.18010450905832964,
          0.5860120402012328,
          -1.3522280442963397,
          -0.06740328278078253,
          1.1079425142104637,
          0.022099086678615883,
          0.8245665325239215,
          -0.3624823520505544,
          0.12363321364733355,
          0.38472994873374255,
          -0.8450571672231768,
          0.015188014417435147,
          0.12010790903890044,
          0.4085443628403387,
          0.7813670689251719,
          -0.47614926783054934,
          1.2185069541003242,
          -0.3010235087835275,
          0.5068742732191456,
          0.2391999745080336,
          -1.3356989501178944,
          -1.8861844520282103,
          -0.4636196529271505,
          0.6563545318345386,
          -0.6220848495485403,
          -0.44705641151759895,
          -1.9309191056949997,
          0.5949001187224799,
          0.03576457859212332,
          -0.2679998578508826,
          -0.2009488318995272,
          0.7938135479115963,
          1.649693641080204,
          -0.32892264026438395,
          -0.7341027023538993,
          -1.1218984959219487,
          -0.16540043889166298,
          -2.2488066605144277,
          0.23737591970941674,
          0.24478357266576542,
          -0.28253293153056036,
          1.006130640980851,
          0.9378984871881437,
          1.088213849894811,
          0.8248437305613723,
          -2.688043702273467,
          -1.7619891255564812,
          -0.33425568490133084,
          -1.2511561057450569,
          -0.07475995985482435,
          0.6930236216468565,
          -1.9890012589837858,
          -0.7495033548258262,
          -0.23767376718480676,
          -0.6017116670533126,
          1.5507489010923925,
          1.0117488474759582,
          -0.032719332652793004,
          -0.27657682862296384,
          -0.9424378950776426,
          -0.35908107751131124,
          1.9205665872236553,
          -0.20557618943903266,
          -1.2366161188207578,
          0.006956169777380158,
          0.308914754920131,
          0.04941829377527631,
          0.6670918623792209,
          -1.8749217552790838,
          -0.06266549513086278,
          -0.6801984634652508,
          1.656176704126538,
          1.5060730196685739,
          0.32600789039124106,
          0.8476973198310992,
          -0.10144457537645299,
          -0.586455108088047,
          0.9279948700124497,
          -0.008768409556187321,
          1.0855785426038398,
          -0.6717157469387206,
          0.6667545705904094,
          0.6459431251440116,
          -1.662539146174201,
          -1.0697674156336698
         ],
         "xaxis": "x4",
         "y": [
          0.042951484569504976,
          -0.2202853182291732,
          1.1734268801089391,
          -0.242857425217831,
          0.6763938161336688,
          -0.35387111095045287,
          -1.178873015258505,
          -0.9043748575099387,
          1.289961855900039,
          0.4024925419044032,
          0.47478873453097875,
          -1.5599979609496375,
          1.256435413677142,
          -1.0956306989431794,
          -0.4086611258433707,
          -1.3945695346151434,
          0.912962045848968,
          0.30730511387148135,
          -0.1939624564553397,
          1.4671933909894053,
          0.5694254821204012,
          -1.1931505134032656,
          1.5569400206519073,
          2.3296513255577835,
          0.21366883706439055,
          -0.7481852006274928,
          -1.047437879897871,
          -1.5665786547362606,
          -0.4195824696415362,
          0.7356706051151829,
          1.4854953122092205,
          -1.3585448502023059,
          0.6868115836283416,
          -0.8590019761193095,
          -0.3167758916209611,
          -2.5859566581957814,
          1.8802303072579827,
          0.33698592765530255,
          0.24253885461217137,
          -1.0610179368441957,
          0.6063985638659398,
          1.9432087735321149,
          -0.30963188399023234,
          -0.9478546493238559,
          1.6901316294856135,
          -0.9748813666852253,
          1.6306834387604556,
          0.5099483849696402,
          -0.8464325906049034,
          -0.5542596398999922,
          1.5009952174177925,
          -0.1652580228163639,
          0.01163057019334677,
          0.7861976487418677,
          -1.3589873822837037,
          -0.4793132050239744,
          -0.8884327703773046,
          -0.3284322245590626,
          -0.4240280239376068,
          0.22150415379237778,
          0.3881047010647667,
          -0.30205926100025343,
          0.26673438198881094,
          -1.591193149414884,
          0.8778887244884065,
          0.2209150355262721,
          1.0160545227316395,
          0.3491350139623226,
          -0.9537562700624382,
          1.687178900073207,
          0.6711975871514694,
          -0.47100392021657966,
          -0.4796751132677763,
          0.8899899575821433,
          -0.34435673664939204,
          -0.5704311813504567,
          0.17464690363311544,
          -0.7418420309705646,
          -0.6330916545993854,
          -1.5647070071417015,
          0.1292205238573053,
          0.17257583531658205,
          0.5641384665414945,
          -1.2693499109193727,
          1.112215426407947,
          -0.6246175481905369,
          0.6243230099698143,
          -0.5868564679739539,
          -0.38798572600393394,
          -2.2238360986731847,
          0.39483428796649245,
          -1.5128431080727769,
          -0.17054727445722603,
          0.2785807882330337,
          0.12745026931076014,
          0.37528908825820756,
          0.01664120828374138,
          2.7111613412371853,
          0.6852940169202932,
          0.04551068262644309
         ],
         "yaxis": "y4"
        },
        {
         "line": {
          "color": "rgba(128, 128, 128, 1.0)",
          "dash": "solid",
          "shape": "linear",
          "width": 1.3
         },
         "marker": {
          "size": 2,
          "symbol": "circle"
         },
         "mode": "markers",
         "name": "B",
         "text": "",
         "type": "scatter",
         "x": [
          0.042951484569504976,
          -0.2202853182291732,
          1.1734268801089391,
          -0.242857425217831,
          0.6763938161336688,
          -0.35387111095045287,
          -1.178873015258505,
          -0.9043748575099387,
          1.289961855900039,
          0.4024925419044032,
          0.47478873453097875,
          -1.5599979609496375,
          1.256435413677142,
          -1.0956306989431794,
          -0.4086611258433707,
          -1.3945695346151434,
          0.912962045848968,
          0.30730511387148135,
          -0.1939624564553397,
          1.4671933909894053,
          0.5694254821204012,
          -1.1931505134032656,
          1.5569400206519073,
          2.3296513255577835,
          0.21366883706439055,
          -0.7481852006274928,
          -1.047437879897871,
          -1.5665786547362606,
          -0.4195824696415362,
          0.7356706051151829,
          1.4854953122092205,
          -1.3585448502023059,
          0.6868115836283416,
          -0.8590019761193095,
          -0.3167758916209611,
          -2.5859566581957814,
          1.8802303072579827,
          0.33698592765530255,
          0.24253885461217137,
          -1.0610179368441957,
          0.6063985638659398,
          1.9432087735321149,
          -0.30963188399023234,
          -0.9478546493238559,
          1.6901316294856135,
          -0.9748813666852253,
          1.6306834387604556,
          0.5099483849696402,
          -0.8464325906049034,
          -0.5542596398999922,
          1.5009952174177925,
          -0.1652580228163639,
          0.01163057019334677,
          0.7861976487418677,
          -1.3589873822837037,
          -0.4793132050239744,
          -0.8884327703773046,
          -0.3284322245590626,
          -0.4240280239376068,
          0.22150415379237778,
          0.3881047010647667,
          -0.30205926100025343,
          0.26673438198881094,
          -1.591193149414884,
          0.8778887244884065,
          0.2209150355262721,
          1.0160545227316395,
          0.3491350139623226,
          -0.9537562700624382,
          1.687178900073207,
          0.6711975871514694,
          -0.47100392021657966,
          -0.4796751132677763,
          0.8899899575821433,
          -0.34435673664939204,
          -0.5704311813504567,
          0.17464690363311544,
          -0.7418420309705646,
          -0.6330916545993854,
          -1.5647070071417015,
          0.1292205238573053,
          0.17257583531658205,
          0.5641384665414945,
          -1.2693499109193727,
          1.112215426407947,
          -0.6246175481905369,
          0.6243230099698143,
          -0.5868564679739539,
          -0.38798572600393394,
          -2.2238360986731847,
          0.39483428796649245,
          -1.5128431080727769,
          -0.17054727445722603,
          0.2785807882330337,
          0.12745026931076014,
          0.37528908825820756,
          0.01664120828374138,
          2.7111613412371853,
          0.6852940169202932,
          0.04551068262644309
         ],
         "xaxis": "x5",
         "y": [
          0.6192879182170579,
          1.1257981118290274,
          -0.18605348668541802,
          1.68420984422097,
          -0.9102788942172225,
          -0.5202766729357958,
          -0.8997368949419952,
          0.6662772657608717,
          0.35174523740201824,
          0.9641528029440805,
          -0.8653270517802244,
          0.9452732084915756,
          0.47945395129175744,
          -0.4286061172343618,
          -1.2735688440555835,
          0.40889101608737194,
          1.2422571076767783,
          1.4166175858265113,
          -0.5270318815990367,
          -0.800046474269336,
          0.214565407669123,
          -0.55640152527389,
          -0.9114344441458444,
          3.1083979331621663,
          -0.7311112731850965,
          -0.684880342436226,
          0.06274744992688126,
          2.742531672377017,
          -2.133326227684579,
          0.1151137652842412,
          0.7680900451533238,
          -0.5223302478800493,
          0.022174916223067612,
          2.4139818872965506,
          0.21130446301537828,
          -1.0520853313040146,
          -1.7954748202765316,
          -0.9478364870503688,
          0.5588092484146348,
          -0.7601933681171539,
          0.14143501024264124,
          0.27309509504905183,
          -2.427264041980388,
          0.23317620185855684,
          -3.1588073663659517,
          -0.9122905543369599,
          0.6107267009505823,
          -0.23496380499321687,
          0.2941546566425414,
          0.7183125745805514,
          1.070927343340471,
          -1.0193545665580568,
          1.5531729890673478,
          -0.957694030028398,
          1.1727426779104344,
          0.20692751971823767,
          -0.34462607961309055,
          0.6537646309558028,
          2.6435063941444903,
          -0.26984172479330476,
          0.06320591618100005,
          2.9234580741428777,
          0.9283667700362315,
          0.343527795795072,
          -1.6951366429125174,
          0.6105405577363859,
          1.2681520353623972,
          -1.4348732293337862,
          0.036658494980897884,
          0.8311983922247884,
          -0.30313544490508115,
          -0.4189732950197264,
          0.1303538776810748,
          0.5785788369835336,
          0.4081059853116089,
          -0.05183208331726445,
          0.6342275658481765,
          -0.2792889338774161,
          0.06936324222582699,
          0.5281795507084809,
          0.40946299084644944,
          1.3820817269300272,
          0.2347867174176207,
          2.6062135259018873,
          -1.5016377554871971,
          0.6800085010932065,
          -0.021387092292663206,
          1.536948561145858,
          0.7924620306825507,
          1.7553181160764677,
          -0.869180304417114,
          0.709670228343469,
          -0.24003645899926476,
          1.2632533989196815,
          0.019840686964291792,
          -0.7226923963856168,
          0.9000389139195395,
          -0.5072870380033023,
          -0.048363172534944744,
          -0.7864118916761768
         ],
         "yaxis": "y5"
        },
        {
         "histfunc": "count",
         "histnorm": "",
         "marker": {
          "color": "rgba(55, 128, 191, 1.0)",
          "line": {
           "color": "#4D5663",
           "width": 1.3
          }
         },
         "name": "B",
         "nbinsx": 10,
         "opacity": 0.8,
         "orientation": "v",
         "type": "histogram",
         "x": [
          0.6192879182170579,
          1.1257981118290274,
          -0.18605348668541802,
          1.68420984422097,
          -0.9102788942172225,
          -0.5202766729357958,
          -0.8997368949419952,
          0.6662772657608717,
          0.35174523740201824,
          0.9641528029440805,
          -0.8653270517802244,
          0.9452732084915756,
          0.47945395129175744,
          -0.4286061172343618,
          -1.2735688440555835,
          0.40889101608737194,
          1.2422571076767783,
          1.4166175858265113,
          -0.5270318815990367,
          -0.800046474269336,
          0.214565407669123,
          -0.55640152527389,
          -0.9114344441458444,
          3.1083979331621663,
          -0.7311112731850965,
          -0.684880342436226,
          0.06274744992688126,
          2.742531672377017,
          -2.133326227684579,
          0.1151137652842412,
          0.7680900451533238,
          -0.5223302478800493,
          0.022174916223067612,
          2.4139818872965506,
          0.21130446301537828,
          -1.0520853313040146,
          -1.7954748202765316,
          -0.9478364870503688,
          0.5588092484146348,
          -0.7601933681171539,
          0.14143501024264124,
          0.27309509504905183,
          -2.427264041980388,
          0.23317620185855684,
          -3.1588073663659517,
          -0.9122905543369599,
          0.6107267009505823,
          -0.23496380499321687,
          0.2941546566425414,
          0.7183125745805514,
          1.070927343340471,
          -1.0193545665580568,
          1.5531729890673478,
          -0.957694030028398,
          1.1727426779104344,
          0.20692751971823767,
          -0.34462607961309055,
          0.6537646309558028,
          2.6435063941444903,
          -0.26984172479330476,
          0.06320591618100005,
          2.9234580741428777,
          0.9283667700362315,
          0.343527795795072,
          -1.6951366429125174,
          0.6105405577363859,
          1.2681520353623972,
          -1.4348732293337862,
          0.036658494980897884,
          0.8311983922247884,
          -0.30313544490508115,
          -0.4189732950197264,
          0.1303538776810748,
          0.5785788369835336,
          0.4081059853116089,
          -0.05183208331726445,
          0.6342275658481765,
          -0.2792889338774161,
          0.06936324222582699,
          0.5281795507084809,
          0.40946299084644944,
          1.3820817269300272,
          0.2347867174176207,
          2.6062135259018873,
          -1.5016377554871971,
          0.6800085010932065,
          -0.021387092292663206,
          1.536948561145858,
          0.7924620306825507,
          1.7553181160764677,
          -0.869180304417114,
          0.709670228343469,
          -0.24003645899926476,
          1.2632533989196815,
          0.019840686964291792,
          -0.7226923963856168,
          0.9000389139195395,
          -0.5072870380033023,
          -0.048363172534944744,
          -0.7864118916761768
         ],
         "xaxis": "x6",
         "yaxis": "y6"
        },
        {
         "line": {
          "color": "rgba(128, 128, 128, 1.0)",
          "dash": "solid",
          "shape": "linear",
          "width": 1.3
         },
         "marker": {
          "size": 2,
          "symbol": "circle"
         },
         "mode": "markers",
         "name": "B",
         "text": "",
         "type": "scatter",
         "x": [
          -0.8504629846670366,
          0.3470106660474676,
          -0.947157868453042,
          -1.3753738685210328,
          0.798112475861372,
          -0.07703631274791213,
          1.0081338509405333,
          1.7164031262789414,
          -0.15428419974716925,
          0.7394786809792315,
          -0.29087805351923696,
          -0.5036911983143708,
          0.7783109538359925,
          -0.9144864195606346,
          1.116337266608769,
          0.053086914437842025,
          1.1101169589996904,
          -0.07085129969144484,
          0.040320607319248414,
          0.28456521512565375,
          -0.3051548037600851,
          0.1608256854735454,
          0.5448689042209915,
          0.5130086565826092,
          1.114722787381222,
          -0.03033601069045141,
          0.6077097977908359,
          1.53612369790164,
          -0.5012501672556618,
          -0.6922311374242788,
          -0.030434283930449717,
          -0.7325996923830687,
          1.9560475088120413,
          1.7928012874028676,
          0.5183789488380032,
          -0.06247876335431108,
          0.06631837618682593,
          0.6307445934333602,
          1.5465192727036488,
          0.020633866560363073,
          0.30250193170395867,
          1.6771883503720761,
          -1.366327161291545,
          -0.0176458306245623,
          -0.13534138524280714,
          0.14200842587933715,
          -0.42959470571188285,
          1.0889289527460462,
          -0.5838295739246996,
          0.2784376622727278,
          -1.6055776206589827,
          -0.7583919697249786,
          0.33986581486104167,
          -1.6329635927053063,
          0.14195826962869051,
          0.21904261630627975,
          -0.26870964311125756,
          -2.0344872045157114,
          0.8005427352285261,
          -0.2843127710147637,
          -2.1657093271797088,
          -0.8083818932840517,
          0.27726807561376,
          0.35200537183063185,
          -1.2941715559683442,
          0.8810559886831515,
          -0.6999370839443164,
          0.8026579340017406,
          1.200946185356744,
          -0.2941228811682841,
          2.5698652166863374,
          -0.7179356903023796,
          2.546739037086572,
          0.28897228668584174,
          0.8625860396497803,
          -0.6754435434133842,
          0.6030968163029332,
          1.4328624709910547,
          -0.019837684596422166,
          -0.10896990206263385,
          1.4102348753371692,
          -1.8690520719855694,
          -0.9759947194700561,
          -1.347030914236879,
          -0.00868423520275727,
          0.23550473380153755,
          -0.34338332229913704,
          0.025913405196481814,
          -0.1509748477861139,
          0.023652325265938547,
          -0.9116681818552379,
          0.46001109960251635,
          -0.7266253041278453,
          -0.000713758687759925,
          -0.9616896614161947,
          0.4818779798820858,
          1.429448189634716,
          -0.5211333364859005,
          -1.4718441559943454,
          0.36990748517458355
         ],
         "xaxis": "x7",
         "y": [
          0.6192879182170579,
          1.1257981118290274,
          -0.18605348668541802,
          1.68420984422097,
          -0.9102788942172225,
          -0.5202766729357958,
          -0.8997368949419952,
          0.6662772657608717,
          0.35174523740201824,
          0.9641528029440805,
          -0.8653270517802244,
          0.9452732084915756,
          0.47945395129175744,
          -0.4286061172343618,
          -1.2735688440555835,
          0.40889101608737194,
          1.2422571076767783,
          1.4166175858265113,
          -0.5270318815990367,
          -0.800046474269336,
          0.214565407669123,
          -0.55640152527389,
          -0.9114344441458444,
          3.1083979331621663,
          -0.7311112731850965,
          -0.684880342436226,
          0.06274744992688126,
          2.742531672377017,
          -2.133326227684579,
          0.1151137652842412,
          0.7680900451533238,
          -0.5223302478800493,
          0.022174916223067612,
          2.4139818872965506,
          0.21130446301537828,
          -1.0520853313040146,
          -1.7954748202765316,
          -0.9478364870503688,
          0.5588092484146348,
          -0.7601933681171539,
          0.14143501024264124,
          0.27309509504905183,
          -2.427264041980388,
          0.23317620185855684,
          -3.1588073663659517,
          -0.9122905543369599,
          0.6107267009505823,
          -0.23496380499321687,
          0.2941546566425414,
          0.7183125745805514,
          1.070927343340471,
          -1.0193545665580568,
          1.5531729890673478,
          -0.957694030028398,
          1.1727426779104344,
          0.20692751971823767,
          -0.34462607961309055,
          0.6537646309558028,
          2.6435063941444903,
          -0.26984172479330476,
          0.06320591618100005,
          2.9234580741428777,
          0.9283667700362315,
          0.343527795795072,
          -1.6951366429125174,
          0.6105405577363859,
          1.2681520353623972,
          -1.4348732293337862,
          0.036658494980897884,
          0.8311983922247884,
          -0.30313544490508115,
          -0.4189732950197264,
          0.1303538776810748,
          0.5785788369835336,
          0.4081059853116089,
          -0.05183208331726445,
          0.6342275658481765,
          -0.2792889338774161,
          0.06936324222582699,
          0.5281795507084809,
          0.40946299084644944,
          1.3820817269300272,
          0.2347867174176207,
          2.6062135259018873,
          -1.5016377554871971,
          0.6800085010932065,
          -0.021387092292663206,
          1.536948561145858,
          0.7924620306825507,
          1.7553181160764677,
          -0.869180304417114,
          0.709670228343469,
          -0.24003645899926476,
          1.2632533989196815,
          0.019840686964291792,
          -0.7226923963856168,
          0.9000389139195395,
          -0.5072870380033023,
          -0.048363172534944744,
          -0.7864118916761768
         ],
         "yaxis": "y7"
        },
        {
         "line": {
          "color": "rgba(128, 128, 128, 1.0)",
          "dash": "solid",
          "shape": "linear",
          "width": 1.3
         },
         "marker": {
          "size": 2,
          "symbol": "circle"
         },
         "mode": "markers",
         "name": "B",
         "text": "",
         "type": "scatter",
         "x": [
          0.09810140879192156,
          1.0821585282388269,
          -1.4171248011615019,
          -1.681027934088529,
          -1.5426929836829733,
          0.7832147248858957,
          -0.7026508858544321,
          0.9741928148992898,
          0.7516172349078831,
          -1.0166850884338632,
          -0.8845407757566924,
          -0.8750379369793457,
          1.8736709664082034,
          -0.052899055320985544,
          1.3512178391863716,
          -0.18010450905832964,
          0.5860120402012328,
          -1.3522280442963397,
          -0.06740328278078253,
          1.1079425142104637,
          0.022099086678615883,
          0.8245665325239215,
          -0.3624823520505544,
          0.12363321364733355,
          0.38472994873374255,
          -0.8450571672231768,
          0.015188014417435147,
          0.12010790903890044,
          0.4085443628403387,
          0.7813670689251719,
          -0.47614926783054934,
          1.2185069541003242,
          -0.3010235087835275,
          0.5068742732191456,
          0.2391999745080336,
          -1.3356989501178944,
          -1.8861844520282103,
          -0.4636196529271505,
          0.6563545318345386,
          -0.6220848495485403,
          -0.44705641151759895,
          -1.9309191056949997,
          0.5949001187224799,
          0.03576457859212332,
          -0.2679998578508826,
          -0.2009488318995272,
          0.7938135479115963,
          1.649693641080204,
          -0.32892264026438395,
          -0.7341027023538993,
          -1.1218984959219487,
          -0.16540043889166298,
          -2.2488066605144277,
          0.23737591970941674,
          0.24478357266576542,
          -0.28253293153056036,
          1.006130640980851,
          0.9378984871881437,
          1.088213849894811,
          0.8248437305613723,
          -2.688043702273467,
          -1.7619891255564812,
          -0.33425568490133084,
          -1.2511561057450569,
          -0.07475995985482435,
          0.6930236216468565,
          -1.9890012589837858,
          -0.7495033548258262,
          -0.23767376718480676,
          -0.6017116670533126,
          1.5507489010923925,
          1.0117488474759582,
          -0.032719332652793004,
          -0.27657682862296384,
          -0.9424378950776426,
          -0.35908107751131124,
          1.9205665872236553,
          -0.20557618943903266,
          -1.2366161188207578,
          0.006956169777380158,
          0.308914754920131,
          0.04941829377527631,
          0.6670918623792209,
          -1.8749217552790838,
          -0.06266549513086278,
          -0.6801984634652508,
          1.656176704126538,
          1.5060730196685739,
          0.32600789039124106,
          0.8476973198310992,
          -0.10144457537645299,
          -0.586455108088047,
          0.9279948700124497,
          -0.008768409556187321,
          1.0855785426038398,
          -0.6717157469387206,
          0.6667545705904094,
          0.6459431251440116,
          -1.662539146174201,
          -1.0697674156336698
         ],
         "xaxis": "x8",
         "y": [
          0.6192879182170579,
          1.1257981118290274,
          -0.18605348668541802,
          1.68420984422097,
          -0.9102788942172225,
          -0.5202766729357958,
          -0.8997368949419952,
          0.6662772657608717,
          0.35174523740201824,
          0.9641528029440805,
          -0.8653270517802244,
          0.9452732084915756,
          0.47945395129175744,
          -0.4286061172343618,
          -1.2735688440555835,
          0.40889101608737194,
          1.2422571076767783,
          1.4166175858265113,
          -0.5270318815990367,
          -0.800046474269336,
          0.214565407669123,
          -0.55640152527389,
          -0.9114344441458444,
          3.1083979331621663,
          -0.7311112731850965,
          -0.684880342436226,
          0.06274744992688126,
          2.742531672377017,
          -2.133326227684579,
          0.1151137652842412,
          0.7680900451533238,
          -0.5223302478800493,
          0.022174916223067612,
          2.4139818872965506,
          0.21130446301537828,
          -1.0520853313040146,
          -1.7954748202765316,
          -0.9478364870503688,
          0.5588092484146348,
          -0.7601933681171539,
          0.14143501024264124,
          0.27309509504905183,
          -2.427264041980388,
          0.23317620185855684,
          -3.1588073663659517,
          -0.9122905543369599,
          0.6107267009505823,
          -0.23496380499321687,
          0.2941546566425414,
          0.7183125745805514,
          1.070927343340471,
          -1.0193545665580568,
          1.5531729890673478,
          -0.957694030028398,
          1.1727426779104344,
          0.20692751971823767,
          -0.34462607961309055,
          0.6537646309558028,
          2.6435063941444903,
          -0.26984172479330476,
          0.06320591618100005,
          2.9234580741428777,
          0.9283667700362315,
          0.343527795795072,
          -1.6951366429125174,
          0.6105405577363859,
          1.2681520353623972,
          -1.4348732293337862,
          0.036658494980897884,
          0.8311983922247884,
          -0.30313544490508115,
          -0.4189732950197264,
          0.1303538776810748,
          0.5785788369835336,
          0.4081059853116089,
          -0.05183208331726445,
          0.6342275658481765,
          -0.2792889338774161,
          0.06936324222582699,
          0.5281795507084809,
          0.40946299084644944,
          1.3820817269300272,
          0.2347867174176207,
          2.6062135259018873,
          -1.5016377554871971,
          0.6800085010932065,
          -0.021387092292663206,
          1.536948561145858,
          0.7924620306825507,
          1.7553181160764677,
          -0.869180304417114,
          0.709670228343469,
          -0.24003645899926476,
          1.2632533989196815,
          0.019840686964291792,
          -0.7226923963856168,
          0.9000389139195395,
          -0.5072870380033023,
          -0.048363172534944744,
          -0.7864118916761768
         ],
         "yaxis": "y8"
        },
        {
         "line": {
          "color": "rgba(128, 128, 128, 1.0)",
          "dash": "solid",
          "shape": "linear",
          "width": 1.3
         },
         "marker": {
          "size": 2,
          "symbol": "circle"
         },
         "mode": "markers",
         "name": "C",
         "text": "",
         "type": "scatter",
         "x": [
          0.042951484569504976,
          -0.2202853182291732,
          1.1734268801089391,
          -0.242857425217831,
          0.6763938161336688,
          -0.35387111095045287,
          -1.178873015258505,
          -0.9043748575099387,
          1.289961855900039,
          0.4024925419044032,
          0.47478873453097875,
          -1.5599979609496375,
          1.256435413677142,
          -1.0956306989431794,
          -0.4086611258433707,
          -1.3945695346151434,
          0.912962045848968,
          0.30730511387148135,
          -0.1939624564553397,
          1.4671933909894053,
          0.5694254821204012,
          -1.1931505134032656,
          1.5569400206519073,
          2.3296513255577835,
          0.21366883706439055,
          -0.7481852006274928,
          -1.047437879897871,
          -1.5665786547362606,
          -0.4195824696415362,
          0.7356706051151829,
          1.4854953122092205,
          -1.3585448502023059,
          0.6868115836283416,
          -0.8590019761193095,
          -0.3167758916209611,
          -2.5859566581957814,
          1.8802303072579827,
          0.33698592765530255,
          0.24253885461217137,
          -1.0610179368441957,
          0.6063985638659398,
          1.9432087735321149,
          -0.30963188399023234,
          -0.9478546493238559,
          1.6901316294856135,
          -0.9748813666852253,
          1.6306834387604556,
          0.5099483849696402,
          -0.8464325906049034,
          -0.5542596398999922,
          1.5009952174177925,
          -0.1652580228163639,
          0.01163057019334677,
          0.7861976487418677,
          -1.3589873822837037,
          -0.4793132050239744,
          -0.8884327703773046,
          -0.3284322245590626,
          -0.4240280239376068,
          0.22150415379237778,
          0.3881047010647667,
          -0.30205926100025343,
          0.26673438198881094,
          -1.591193149414884,
          0.8778887244884065,
          0.2209150355262721,
          1.0160545227316395,
          0.3491350139623226,
          -0.9537562700624382,
          1.687178900073207,
          0.6711975871514694,
          -0.47100392021657966,
          -0.4796751132677763,
          0.8899899575821433,
          -0.34435673664939204,
          -0.5704311813504567,
          0.17464690363311544,
          -0.7418420309705646,
          -0.6330916545993854,
          -1.5647070071417015,
          0.1292205238573053,
          0.17257583531658205,
          0.5641384665414945,
          -1.2693499109193727,
          1.112215426407947,
          -0.6246175481905369,
          0.6243230099698143,
          -0.5868564679739539,
          -0.38798572600393394,
          -2.2238360986731847,
          0.39483428796649245,
          -1.5128431080727769,
          -0.17054727445722603,
          0.2785807882330337,
          0.12745026931076014,
          0.37528908825820756,
          0.01664120828374138,
          2.7111613412371853,
          0.6852940169202932,
          0.04551068262644309
         ],
         "xaxis": "x9",
         "y": [
          -0.8504629846670366,
          0.3470106660474676,
          -0.947157868453042,
          -1.3753738685210328,
          0.798112475861372,
          -0.07703631274791213,
          1.0081338509405333,
          1.7164031262789414,
          -0.15428419974716925,
          0.7394786809792315,
          -0.29087805351923696,
          -0.5036911983143708,
          0.7783109538359925,
          -0.9144864195606346,
          1.116337266608769,
          0.053086914437842025,
          1.1101169589996904,
          -0.07085129969144484,
          0.040320607319248414,
          0.28456521512565375,
          -0.3051548037600851,
          0.1608256854735454,
          0.5448689042209915,
          0.5130086565826092,
          1.114722787381222,
          -0.03033601069045141,
          0.6077097977908359,
          1.53612369790164,
          -0.5012501672556618,
          -0.6922311374242788,
          -0.030434283930449717,
          -0.7325996923830687,
          1.9560475088120413,
          1.7928012874028676,
          0.5183789488380032,
          -0.06247876335431108,
          0.06631837618682593,
          0.6307445934333602,
          1.5465192727036488,
          0.020633866560363073,
          0.30250193170395867,
          1.6771883503720761,
          -1.366327161291545,
          -0.0176458306245623,
          -0.13534138524280714,
          0.14200842587933715,
          -0.42959470571188285,
          1.0889289527460462,
          -0.5838295739246996,
          0.2784376622727278,
          -1.6055776206589827,
          -0.7583919697249786,
          0.33986581486104167,
          -1.6329635927053063,
          0.14195826962869051,
          0.21904261630627975,
          -0.26870964311125756,
          -2.0344872045157114,
          0.8005427352285261,
          -0.2843127710147637,
          -2.1657093271797088,
          -0.8083818932840517,
          0.27726807561376,
          0.35200537183063185,
          -1.2941715559683442,
          0.8810559886831515,
          -0.6999370839443164,
          0.8026579340017406,
          1.200946185356744,
          -0.2941228811682841,
          2.5698652166863374,
          -0.7179356903023796,
          2.546739037086572,
          0.28897228668584174,
          0.8625860396497803,
          -0.6754435434133842,
          0.6030968163029332,
          1.4328624709910547,
          -0.019837684596422166,
          -0.10896990206263385,
          1.4102348753371692,
          -1.8690520719855694,
          -0.9759947194700561,
          -1.347030914236879,
          -0.00868423520275727,
          0.23550473380153755,
          -0.34338332229913704,
          0.025913405196481814,
          -0.1509748477861139,
          0.023652325265938547,
          -0.9116681818552379,
          0.46001109960251635,
          -0.7266253041278453,
          -0.000713758687759925,
          -0.9616896614161947,
          0.4818779798820858,
          1.429448189634716,
          -0.5211333364859005,
          -1.4718441559943454,
          0.36990748517458355
         ],
         "yaxis": "y9"
        },
        {
         "line": {
          "color": "rgba(128, 128, 128, 1.0)",
          "dash": "solid",
          "shape": "linear",
          "width": 1.3
         },
         "marker": {
          "size": 2,
          "symbol": "circle"
         },
         "mode": "markers",
         "name": "C",
         "text": "",
         "type": "scatter",
         "x": [
          0.6192879182170579,
          1.1257981118290274,
          -0.18605348668541802,
          1.68420984422097,
          -0.9102788942172225,
          -0.5202766729357958,
          -0.8997368949419952,
          0.6662772657608717,
          0.35174523740201824,
          0.9641528029440805,
          -0.8653270517802244,
          0.9452732084915756,
          0.47945395129175744,
          -0.4286061172343618,
          -1.2735688440555835,
          0.40889101608737194,
          1.2422571076767783,
          1.4166175858265113,
          -0.5270318815990367,
          -0.800046474269336,
          0.214565407669123,
          -0.55640152527389,
          -0.9114344441458444,
          3.1083979331621663,
          -0.7311112731850965,
          -0.684880342436226,
          0.06274744992688126,
          2.742531672377017,
          -2.133326227684579,
          0.1151137652842412,
          0.7680900451533238,
          -0.5223302478800493,
          0.022174916223067612,
          2.4139818872965506,
          0.21130446301537828,
          -1.0520853313040146,
          -1.7954748202765316,
          -0.9478364870503688,
          0.5588092484146348,
          -0.7601933681171539,
          0.14143501024264124,
          0.27309509504905183,
          -2.427264041980388,
          0.23317620185855684,
          -3.1588073663659517,
          -0.9122905543369599,
          0.6107267009505823,
          -0.23496380499321687,
          0.2941546566425414,
          0.7183125745805514,
          1.070927343340471,
          -1.0193545665580568,
          1.5531729890673478,
          -0.957694030028398,
          1.1727426779104344,
          0.20692751971823767,
          -0.34462607961309055,
          0.6537646309558028,
          2.6435063941444903,
          -0.26984172479330476,
          0.06320591618100005,
          2.9234580741428777,
          0.9283667700362315,
          0.343527795795072,
          -1.6951366429125174,
          0.6105405577363859,
          1.2681520353623972,
          -1.4348732293337862,
          0.036658494980897884,
          0.8311983922247884,
          -0.30313544490508115,
          -0.4189732950197264,
          0.1303538776810748,
          0.5785788369835336,
          0.4081059853116089,
          -0.05183208331726445,
          0.6342275658481765,
          -0.2792889338774161,
          0.06936324222582699,
          0.5281795507084809,
          0.40946299084644944,
          1.3820817269300272,
          0.2347867174176207,
          2.6062135259018873,
          -1.5016377554871971,
          0.6800085010932065,
          -0.021387092292663206,
          1.536948561145858,
          0.7924620306825507,
          1.7553181160764677,
          -0.869180304417114,
          0.709670228343469,
          -0.24003645899926476,
          1.2632533989196815,
          0.019840686964291792,
          -0.7226923963856168,
          0.9000389139195395,
          -0.5072870380033023,
          -0.048363172534944744,
          -0.7864118916761768
         ],
         "xaxis": "x10",
         "y": [
          -0.8504629846670366,
          0.3470106660474676,
          -0.947157868453042,
          -1.3753738685210328,
          0.798112475861372,
          -0.07703631274791213,
          1.0081338509405333,
          1.7164031262789414,
          -0.15428419974716925,
          0.7394786809792315,
          -0.29087805351923696,
          -0.5036911983143708,
          0.7783109538359925,
          -0.9144864195606346,
          1.116337266608769,
          0.053086914437842025,
          1.1101169589996904,
          -0.07085129969144484,
          0.040320607319248414,
          0.28456521512565375,
          -0.3051548037600851,
          0.1608256854735454,
          0.5448689042209915,
          0.5130086565826092,
          1.114722787381222,
          -0.03033601069045141,
          0.6077097977908359,
          1.53612369790164,
          -0.5012501672556618,
          -0.6922311374242788,
          -0.030434283930449717,
          -0.7325996923830687,
          1.9560475088120413,
          1.7928012874028676,
          0.5183789488380032,
          -0.06247876335431108,
          0.06631837618682593,
          0.6307445934333602,
          1.5465192727036488,
          0.020633866560363073,
          0.30250193170395867,
          1.6771883503720761,
          -1.366327161291545,
          -0.0176458306245623,
          -0.13534138524280714,
          0.14200842587933715,
          -0.42959470571188285,
          1.0889289527460462,
          -0.5838295739246996,
          0.2784376622727278,
          -1.6055776206589827,
          -0.7583919697249786,
          0.33986581486104167,
          -1.6329635927053063,
          0.14195826962869051,
          0.21904261630627975,
          -0.26870964311125756,
          -2.0344872045157114,
          0.8005427352285261,
          -0.2843127710147637,
          -2.1657093271797088,
          -0.8083818932840517,
          0.27726807561376,
          0.35200537183063185,
          -1.2941715559683442,
          0.8810559886831515,
          -0.6999370839443164,
          0.8026579340017406,
          1.200946185356744,
          -0.2941228811682841,
          2.5698652166863374,
          -0.7179356903023796,
          2.546739037086572,
          0.28897228668584174,
          0.8625860396497803,
          -0.6754435434133842,
          0.6030968163029332,
          1.4328624709910547,
          -0.019837684596422166,
          -0.10896990206263385,
          1.4102348753371692,
          -1.8690520719855694,
          -0.9759947194700561,
          -1.347030914236879,
          -0.00868423520275727,
          0.23550473380153755,
          -0.34338332229913704,
          0.025913405196481814,
          -0.1509748477861139,
          0.023652325265938547,
          -0.9116681818552379,
          0.46001109960251635,
          -0.7266253041278453,
          -0.000713758687759925,
          -0.9616896614161947,
          0.4818779798820858,
          1.429448189634716,
          -0.5211333364859005,
          -1.4718441559943454,
          0.36990748517458355
         ],
         "yaxis": "y10"
        },
        {
         "histfunc": "count",
         "histnorm": "",
         "marker": {
          "color": "rgba(50, 171, 96, 1.0)",
          "line": {
           "color": "#4D5663",
           "width": 1.3
          }
         },
         "name": "C",
         "nbinsx": 10,
         "opacity": 0.8,
         "orientation": "v",
         "type": "histogram",
         "x": [
          -0.8504629846670366,
          0.3470106660474676,
          -0.947157868453042,
          -1.3753738685210328,
          0.798112475861372,
          -0.07703631274791213,
          1.0081338509405333,
          1.7164031262789414,
          -0.15428419974716925,
          0.7394786809792315,
          -0.29087805351923696,
          -0.5036911983143708,
          0.7783109538359925,
          -0.9144864195606346,
          1.116337266608769,
          0.053086914437842025,
          1.1101169589996904,
          -0.07085129969144484,
          0.040320607319248414,
          0.28456521512565375,
          -0.3051548037600851,
          0.1608256854735454,
          0.5448689042209915,
          0.5130086565826092,
          1.114722787381222,
          -0.03033601069045141,
          0.6077097977908359,
          1.53612369790164,
          -0.5012501672556618,
          -0.6922311374242788,
          -0.030434283930449717,
          -0.7325996923830687,
          1.9560475088120413,
          1.7928012874028676,
          0.5183789488380032,
          -0.06247876335431108,
          0.06631837618682593,
          0.6307445934333602,
          1.5465192727036488,
          0.020633866560363073,
          0.30250193170395867,
          1.6771883503720761,
          -1.366327161291545,
          -0.0176458306245623,
          -0.13534138524280714,
          0.14200842587933715,
          -0.42959470571188285,
          1.0889289527460462,
          -0.5838295739246996,
          0.2784376622727278,
          -1.6055776206589827,
          -0.7583919697249786,
          0.33986581486104167,
          -1.6329635927053063,
          0.14195826962869051,
          0.21904261630627975,
          -0.26870964311125756,
          -2.0344872045157114,
          0.8005427352285261,
          -0.2843127710147637,
          -2.1657093271797088,
          -0.8083818932840517,
          0.27726807561376,
          0.35200537183063185,
          -1.2941715559683442,
          0.8810559886831515,
          -0.6999370839443164,
          0.8026579340017406,
          1.200946185356744,
          -0.2941228811682841,
          2.5698652166863374,
          -0.7179356903023796,
          2.546739037086572,
          0.28897228668584174,
          0.8625860396497803,
          -0.6754435434133842,
          0.6030968163029332,
          1.4328624709910547,
          -0.019837684596422166,
          -0.10896990206263385,
          1.4102348753371692,
          -1.8690520719855694,
          -0.9759947194700561,
          -1.347030914236879,
          -0.00868423520275727,
          0.23550473380153755,
          -0.34338332229913704,
          0.025913405196481814,
          -0.1509748477861139,
          0.023652325265938547,
          -0.9116681818552379,
          0.46001109960251635,
          -0.7266253041278453,
          -0.000713758687759925,
          -0.9616896614161947,
          0.4818779798820858,
          1.429448189634716,
          -0.5211333364859005,
          -1.4718441559943454,
          0.36990748517458355
         ],
         "xaxis": "x11",
         "yaxis": "y11"
        },
        {
         "line": {
          "color": "rgba(128, 128, 128, 1.0)",
          "dash": "solid",
          "shape": "linear",
          "width": 1.3
         },
         "marker": {
          "size": 2,
          "symbol": "circle"
         },
         "mode": "markers",
         "name": "C",
         "text": "",
         "type": "scatter",
         "x": [
          0.09810140879192156,
          1.0821585282388269,
          -1.4171248011615019,
          -1.681027934088529,
          -1.5426929836829733,
          0.7832147248858957,
          -0.7026508858544321,
          0.9741928148992898,
          0.7516172349078831,
          -1.0166850884338632,
          -0.8845407757566924,
          -0.8750379369793457,
          1.8736709664082034,
          -0.052899055320985544,
          1.3512178391863716,
          -0.18010450905832964,
          0.5860120402012328,
          -1.3522280442963397,
          -0.06740328278078253,
          1.1079425142104637,
          0.022099086678615883,
          0.8245665325239215,
          -0.3624823520505544,
          0.12363321364733355,
          0.38472994873374255,
          -0.8450571672231768,
          0.015188014417435147,
          0.12010790903890044,
          0.4085443628403387,
          0.7813670689251719,
          -0.47614926783054934,
          1.2185069541003242,
          -0.3010235087835275,
          0.5068742732191456,
          0.2391999745080336,
          -1.3356989501178944,
          -1.8861844520282103,
          -0.4636196529271505,
          0.6563545318345386,
          -0.6220848495485403,
          -0.44705641151759895,
          -1.9309191056949997,
          0.5949001187224799,
          0.03576457859212332,
          -0.2679998578508826,
          -0.2009488318995272,
          0.7938135479115963,
          1.649693641080204,
          -0.32892264026438395,
          -0.7341027023538993,
          -1.1218984959219487,
          -0.16540043889166298,
          -2.2488066605144277,
          0.23737591970941674,
          0.24478357266576542,
          -0.28253293153056036,
          1.006130640980851,
          0.9378984871881437,
          1.088213849894811,
          0.8248437305613723,
          -2.688043702273467,
          -1.7619891255564812,
          -0.33425568490133084,
          -1.2511561057450569,
          -0.07475995985482435,
          0.6930236216468565,
          -1.9890012589837858,
          -0.7495033548258262,
          -0.23767376718480676,
          -0.6017116670533126,
          1.5507489010923925,
          1.0117488474759582,
          -0.032719332652793004,
          -0.27657682862296384,
          -0.9424378950776426,
          -0.35908107751131124,
          1.9205665872236553,
          -0.20557618943903266,
          -1.2366161188207578,
          0.006956169777380158,
          0.308914754920131,
          0.04941829377527631,
          0.6670918623792209,
          -1.8749217552790838,
          -0.06266549513086278,
          -0.6801984634652508,
          1.656176704126538,
          1.5060730196685739,
          0.32600789039124106,
          0.8476973198310992,
          -0.10144457537645299,
          -0.586455108088047,
          0.9279948700124497,
          -0.008768409556187321,
          1.0855785426038398,
          -0.6717157469387206,
          0.6667545705904094,
          0.6459431251440116,
          -1.662539146174201,
          -1.0697674156336698
         ],
         "xaxis": "x12",
         "y": [
          -0.8504629846670366,
          0.3470106660474676,
          -0.947157868453042,
          -1.3753738685210328,
          0.798112475861372,
          -0.07703631274791213,
          1.0081338509405333,
          1.7164031262789414,
          -0.15428419974716925,
          0.7394786809792315,
          -0.29087805351923696,
          -0.5036911983143708,
          0.7783109538359925,
          -0.9144864195606346,
          1.116337266608769,
          0.053086914437842025,
          1.1101169589996904,
          -0.07085129969144484,
          0.040320607319248414,
          0.28456521512565375,
          -0.3051548037600851,
          0.1608256854735454,
          0.5448689042209915,
          0.5130086565826092,
          1.114722787381222,
          -0.03033601069045141,
          0.6077097977908359,
          1.53612369790164,
          -0.5012501672556618,
          -0.6922311374242788,
          -0.030434283930449717,
          -0.7325996923830687,
          1.9560475088120413,
          1.7928012874028676,
          0.5183789488380032,
          -0.06247876335431108,
          0.06631837618682593,
          0.6307445934333602,
          1.5465192727036488,
          0.020633866560363073,
          0.30250193170395867,
          1.6771883503720761,
          -1.366327161291545,
          -0.0176458306245623,
          -0.13534138524280714,
          0.14200842587933715,
          -0.42959470571188285,
          1.0889289527460462,
          -0.5838295739246996,
          0.2784376622727278,
          -1.6055776206589827,
          -0.7583919697249786,
          0.33986581486104167,
          -1.6329635927053063,
          0.14195826962869051,
          0.21904261630627975,
          -0.26870964311125756,
          -2.0344872045157114,
          0.8005427352285261,
          -0.2843127710147637,
          -2.1657093271797088,
          -0.8083818932840517,
          0.27726807561376,
          0.35200537183063185,
          -1.2941715559683442,
          0.8810559886831515,
          -0.6999370839443164,
          0.8026579340017406,
          1.200946185356744,
          -0.2941228811682841,
          2.5698652166863374,
          -0.7179356903023796,
          2.546739037086572,
          0.28897228668584174,
          0.8625860396497803,
          -0.6754435434133842,
          0.6030968163029332,
          1.4328624709910547,
          -0.019837684596422166,
          -0.10896990206263385,
          1.4102348753371692,
          -1.8690520719855694,
          -0.9759947194700561,
          -1.347030914236879,
          -0.00868423520275727,
          0.23550473380153755,
          -0.34338332229913704,
          0.025913405196481814,
          -0.1509748477861139,
          0.023652325265938547,
          -0.9116681818552379,
          0.46001109960251635,
          -0.7266253041278453,
          -0.000713758687759925,
          -0.9616896614161947,
          0.4818779798820858,
          1.429448189634716,
          -0.5211333364859005,
          -1.4718441559943454,
          0.36990748517458355
         ],
         "yaxis": "y12"
        },
        {
         "line": {
          "color": "rgba(128, 128, 128, 1.0)",
          "dash": "solid",
          "shape": "linear",
          "width": 1.3
         },
         "marker": {
          "size": 2,
          "symbol": "circle"
         },
         "mode": "markers",
         "name": "D",
         "text": "",
         "type": "scatter",
         "x": [
          0.042951484569504976,
          -0.2202853182291732,
          1.1734268801089391,
          -0.242857425217831,
          0.6763938161336688,
          -0.35387111095045287,
          -1.178873015258505,
          -0.9043748575099387,
          1.289961855900039,
          0.4024925419044032,
          0.47478873453097875,
          -1.5599979609496375,
          1.256435413677142,
          -1.0956306989431794,
          -0.4086611258433707,
          -1.3945695346151434,
          0.912962045848968,
          0.30730511387148135,
          -0.1939624564553397,
          1.4671933909894053,
          0.5694254821204012,
          -1.1931505134032656,
          1.5569400206519073,
          2.3296513255577835,
          0.21366883706439055,
          -0.7481852006274928,
          -1.047437879897871,
          -1.5665786547362606,
          -0.4195824696415362,
          0.7356706051151829,
          1.4854953122092205,
          -1.3585448502023059,
          0.6868115836283416,
          -0.8590019761193095,
          -0.3167758916209611,
          -2.5859566581957814,
          1.8802303072579827,
          0.33698592765530255,
          0.24253885461217137,
          -1.0610179368441957,
          0.6063985638659398,
          1.9432087735321149,
          -0.30963188399023234,
          -0.9478546493238559,
          1.6901316294856135,
          -0.9748813666852253,
          1.6306834387604556,
          0.5099483849696402,
          -0.8464325906049034,
          -0.5542596398999922,
          1.5009952174177925,
          -0.1652580228163639,
          0.01163057019334677,
          0.7861976487418677,
          -1.3589873822837037,
          -0.4793132050239744,
          -0.8884327703773046,
          -0.3284322245590626,
          -0.4240280239376068,
          0.22150415379237778,
          0.3881047010647667,
          -0.30205926100025343,
          0.26673438198881094,
          -1.591193149414884,
          0.8778887244884065,
          0.2209150355262721,
          1.0160545227316395,
          0.3491350139623226,
          -0.9537562700624382,
          1.687178900073207,
          0.6711975871514694,
          -0.47100392021657966,
          -0.4796751132677763,
          0.8899899575821433,
          -0.34435673664939204,
          -0.5704311813504567,
          0.17464690363311544,
          -0.7418420309705646,
          -0.6330916545993854,
          -1.5647070071417015,
          0.1292205238573053,
          0.17257583531658205,
          0.5641384665414945,
          -1.2693499109193727,
          1.112215426407947,
          -0.6246175481905369,
          0.6243230099698143,
          -0.5868564679739539,
          -0.38798572600393394,
          -2.2238360986731847,
          0.39483428796649245,
          -1.5128431080727769,
          -0.17054727445722603,
          0.2785807882330337,
          0.12745026931076014,
          0.37528908825820756,
          0.01664120828374138,
          2.7111613412371853,
          0.6852940169202932,
          0.04551068262644309
         ],
         "xaxis": "x13",
         "y": [
          0.09810140879192156,
          1.0821585282388269,
          -1.4171248011615019,
          -1.681027934088529,
          -1.5426929836829733,
          0.7832147248858957,
          -0.7026508858544321,
          0.9741928148992898,
          0.7516172349078831,
          -1.0166850884338632,
          -0.8845407757566924,
          -0.8750379369793457,
          1.8736709664082034,
          -0.052899055320985544,
          1.3512178391863716,
          -0.18010450905832964,
          0.5860120402012328,
          -1.3522280442963397,
          -0.06740328278078253,
          1.1079425142104637,
          0.022099086678615883,
          0.8245665325239215,
          -0.3624823520505544,
          0.12363321364733355,
          0.38472994873374255,
          -0.8450571672231768,
          0.015188014417435147,
          0.12010790903890044,
          0.4085443628403387,
          0.7813670689251719,
          -0.47614926783054934,
          1.2185069541003242,
          -0.3010235087835275,
          0.5068742732191456,
          0.2391999745080336,
          -1.3356989501178944,
          -1.8861844520282103,
          -0.4636196529271505,
          0.6563545318345386,
          -0.6220848495485403,
          -0.44705641151759895,
          -1.9309191056949997,
          0.5949001187224799,
          0.03576457859212332,
          -0.2679998578508826,
          -0.2009488318995272,
          0.7938135479115963,
          1.649693641080204,
          -0.32892264026438395,
          -0.7341027023538993,
          -1.1218984959219487,
          -0.16540043889166298,
          -2.2488066605144277,
          0.23737591970941674,
          0.24478357266576542,
          -0.28253293153056036,
          1.006130640980851,
          0.9378984871881437,
          1.088213849894811,
          0.8248437305613723,
          -2.688043702273467,
          -1.7619891255564812,
          -0.33425568490133084,
          -1.2511561057450569,
          -0.07475995985482435,
          0.6930236216468565,
          -1.9890012589837858,
          -0.7495033548258262,
          -0.23767376718480676,
          -0.6017116670533126,
          1.5507489010923925,
          1.0117488474759582,
          -0.032719332652793004,
          -0.27657682862296384,
          -0.9424378950776426,
          -0.35908107751131124,
          1.9205665872236553,
          -0.20557618943903266,
          -1.2366161188207578,
          0.006956169777380158,
          0.308914754920131,
          0.04941829377527631,
          0.6670918623792209,
          -1.8749217552790838,
          -0.06266549513086278,
          -0.6801984634652508,
          1.656176704126538,
          1.5060730196685739,
          0.32600789039124106,
          0.8476973198310992,
          -0.10144457537645299,
          -0.586455108088047,
          0.9279948700124497,
          -0.008768409556187321,
          1.0855785426038398,
          -0.6717157469387206,
          0.6667545705904094,
          0.6459431251440116,
          -1.662539146174201,
          -1.0697674156336698
         ],
         "yaxis": "y13"
        },
        {
         "line": {
          "color": "rgba(128, 128, 128, 1.0)",
          "dash": "solid",
          "shape": "linear",
          "width": 1.3
         },
         "marker": {
          "size": 2,
          "symbol": "circle"
         },
         "mode": "markers",
         "name": "D",
         "text": "",
         "type": "scatter",
         "x": [
          0.6192879182170579,
          1.1257981118290274,
          -0.18605348668541802,
          1.68420984422097,
          -0.9102788942172225,
          -0.5202766729357958,
          -0.8997368949419952,
          0.6662772657608717,
          0.35174523740201824,
          0.9641528029440805,
          -0.8653270517802244,
          0.9452732084915756,
          0.47945395129175744,
          -0.4286061172343618,
          -1.2735688440555835,
          0.40889101608737194,
          1.2422571076767783,
          1.4166175858265113,
          -0.5270318815990367,
          -0.800046474269336,
          0.214565407669123,
          -0.55640152527389,
          -0.9114344441458444,
          3.1083979331621663,
          -0.7311112731850965,
          -0.684880342436226,
          0.06274744992688126,
          2.742531672377017,
          -2.133326227684579,
          0.1151137652842412,
          0.7680900451533238,
          -0.5223302478800493,
          0.022174916223067612,
          2.4139818872965506,
          0.21130446301537828,
          -1.0520853313040146,
          -1.7954748202765316,
          -0.9478364870503688,
          0.5588092484146348,
          -0.7601933681171539,
          0.14143501024264124,
          0.27309509504905183,
          -2.427264041980388,
          0.23317620185855684,
          -3.1588073663659517,
          -0.9122905543369599,
          0.6107267009505823,
          -0.23496380499321687,
          0.2941546566425414,
          0.7183125745805514,
          1.070927343340471,
          -1.0193545665580568,
          1.5531729890673478,
          -0.957694030028398,
          1.1727426779104344,
          0.20692751971823767,
          -0.34462607961309055,
          0.6537646309558028,
          2.6435063941444903,
          -0.26984172479330476,
          0.06320591618100005,
          2.9234580741428777,
          0.9283667700362315,
          0.343527795795072,
          -1.6951366429125174,
          0.6105405577363859,
          1.2681520353623972,
          -1.4348732293337862,
          0.036658494980897884,
          0.8311983922247884,
          -0.30313544490508115,
          -0.4189732950197264,
          0.1303538776810748,
          0.5785788369835336,
          0.4081059853116089,
          -0.05183208331726445,
          0.6342275658481765,
          -0.2792889338774161,
          0.06936324222582699,
          0.5281795507084809,
          0.40946299084644944,
          1.3820817269300272,
          0.2347867174176207,
          2.6062135259018873,
          -1.5016377554871971,
          0.6800085010932065,
          -0.021387092292663206,
          1.536948561145858,
          0.7924620306825507,
          1.7553181160764677,
          -0.869180304417114,
          0.709670228343469,
          -0.24003645899926476,
          1.2632533989196815,
          0.019840686964291792,
          -0.7226923963856168,
          0.9000389139195395,
          -0.5072870380033023,
          -0.048363172534944744,
          -0.7864118916761768
         ],
         "xaxis": "x14",
         "y": [
          0.09810140879192156,
          1.0821585282388269,
          -1.4171248011615019,
          -1.681027934088529,
          -1.5426929836829733,
          0.7832147248858957,
          -0.7026508858544321,
          0.9741928148992898,
          0.7516172349078831,
          -1.0166850884338632,
          -0.8845407757566924,
          -0.8750379369793457,
          1.8736709664082034,
          -0.052899055320985544,
          1.3512178391863716,
          -0.18010450905832964,
          0.5860120402012328,
          -1.3522280442963397,
          -0.06740328278078253,
          1.1079425142104637,
          0.022099086678615883,
          0.8245665325239215,
          -0.3624823520505544,
          0.12363321364733355,
          0.38472994873374255,
          -0.8450571672231768,
          0.015188014417435147,
          0.12010790903890044,
          0.4085443628403387,
          0.7813670689251719,
          -0.47614926783054934,
          1.2185069541003242,
          -0.3010235087835275,
          0.5068742732191456,
          0.2391999745080336,
          -1.3356989501178944,
          -1.8861844520282103,
          -0.4636196529271505,
          0.6563545318345386,
          -0.6220848495485403,
          -0.44705641151759895,
          -1.9309191056949997,
          0.5949001187224799,
          0.03576457859212332,
          -0.2679998578508826,
          -0.2009488318995272,
          0.7938135479115963,
          1.649693641080204,
          -0.32892264026438395,
          -0.7341027023538993,
          -1.1218984959219487,
          -0.16540043889166298,
          -2.2488066605144277,
          0.23737591970941674,
          0.24478357266576542,
          -0.28253293153056036,
          1.006130640980851,
          0.9378984871881437,
          1.088213849894811,
          0.8248437305613723,
          -2.688043702273467,
          -1.7619891255564812,
          -0.33425568490133084,
          -1.2511561057450569,
          -0.07475995985482435,
          0.6930236216468565,
          -1.9890012589837858,
          -0.7495033548258262,
          -0.23767376718480676,
          -0.6017116670533126,
          1.5507489010923925,
          1.0117488474759582,
          -0.032719332652793004,
          -0.27657682862296384,
          -0.9424378950776426,
          -0.35908107751131124,
          1.9205665872236553,
          -0.20557618943903266,
          -1.2366161188207578,
          0.006956169777380158,
          0.308914754920131,
          0.04941829377527631,
          0.6670918623792209,
          -1.8749217552790838,
          -0.06266549513086278,
          -0.6801984634652508,
          1.656176704126538,
          1.5060730196685739,
          0.32600789039124106,
          0.8476973198310992,
          -0.10144457537645299,
          -0.586455108088047,
          0.9279948700124497,
          -0.008768409556187321,
          1.0855785426038398,
          -0.6717157469387206,
          0.6667545705904094,
          0.6459431251440116,
          -1.662539146174201,
          -1.0697674156336698
         ],
         "yaxis": "y14"
        },
        {
         "line": {
          "color": "rgba(128, 128, 128, 1.0)",
          "dash": "solid",
          "shape": "linear",
          "width": 1.3
         },
         "marker": {
          "size": 2,
          "symbol": "circle"
         },
         "mode": "markers",
         "name": "D",
         "text": "",
         "type": "scatter",
         "x": [
          -0.8504629846670366,
          0.3470106660474676,
          -0.947157868453042,
          -1.3753738685210328,
          0.798112475861372,
          -0.07703631274791213,
          1.0081338509405333,
          1.7164031262789414,
          -0.15428419974716925,
          0.7394786809792315,
          -0.29087805351923696,
          -0.5036911983143708,
          0.7783109538359925,
          -0.9144864195606346,
          1.116337266608769,
          0.053086914437842025,
          1.1101169589996904,
          -0.07085129969144484,
          0.040320607319248414,
          0.28456521512565375,
          -0.3051548037600851,
          0.1608256854735454,
          0.5448689042209915,
          0.5130086565826092,
          1.114722787381222,
          -0.03033601069045141,
          0.6077097977908359,
          1.53612369790164,
          -0.5012501672556618,
          -0.6922311374242788,
          -0.030434283930449717,
          -0.7325996923830687,
          1.9560475088120413,
          1.7928012874028676,
          0.5183789488380032,
          -0.06247876335431108,
          0.06631837618682593,
          0.6307445934333602,
          1.5465192727036488,
          0.020633866560363073,
          0.30250193170395867,
          1.6771883503720761,
          -1.366327161291545,
          -0.0176458306245623,
          -0.13534138524280714,
          0.14200842587933715,
          -0.42959470571188285,
          1.0889289527460462,
          -0.5838295739246996,
          0.2784376622727278,
          -1.6055776206589827,
          -0.7583919697249786,
          0.33986581486104167,
          -1.6329635927053063,
          0.14195826962869051,
          0.21904261630627975,
          -0.26870964311125756,
          -2.0344872045157114,
          0.8005427352285261,
          -0.2843127710147637,
          -2.1657093271797088,
          -0.8083818932840517,
          0.27726807561376,
          0.35200537183063185,
          -1.2941715559683442,
          0.8810559886831515,
          -0.6999370839443164,
          0.8026579340017406,
          1.200946185356744,
          -0.2941228811682841,
          2.5698652166863374,
          -0.7179356903023796,
          2.546739037086572,
          0.28897228668584174,
          0.8625860396497803,
          -0.6754435434133842,
          0.6030968163029332,
          1.4328624709910547,
          -0.019837684596422166,
          -0.10896990206263385,
          1.4102348753371692,
          -1.8690520719855694,
          -0.9759947194700561,
          -1.347030914236879,
          -0.00868423520275727,
          0.23550473380153755,
          -0.34338332229913704,
          0.025913405196481814,
          -0.1509748477861139,
          0.023652325265938547,
          -0.9116681818552379,
          0.46001109960251635,
          -0.7266253041278453,
          -0.000713758687759925,
          -0.9616896614161947,
          0.4818779798820858,
          1.429448189634716,
          -0.5211333364859005,
          -1.4718441559943454,
          0.36990748517458355
         ],
         "xaxis": "x15",
         "y": [
          0.09810140879192156,
          1.0821585282388269,
          -1.4171248011615019,
          -1.681027934088529,
          -1.5426929836829733,
          0.7832147248858957,
          -0.7026508858544321,
          0.9741928148992898,
          0.7516172349078831,
          -1.0166850884338632,
          -0.8845407757566924,
          -0.8750379369793457,
          1.8736709664082034,
          -0.052899055320985544,
          1.3512178391863716,
          -0.18010450905832964,
          0.5860120402012328,
          -1.3522280442963397,
          -0.06740328278078253,
          1.1079425142104637,
          0.022099086678615883,
          0.8245665325239215,
          -0.3624823520505544,
          0.12363321364733355,
          0.38472994873374255,
          -0.8450571672231768,
          0.015188014417435147,
          0.12010790903890044,
          0.4085443628403387,
          0.7813670689251719,
          -0.47614926783054934,
          1.2185069541003242,
          -0.3010235087835275,
          0.5068742732191456,
          0.2391999745080336,
          -1.3356989501178944,
          -1.8861844520282103,
          -0.4636196529271505,
          0.6563545318345386,
          -0.6220848495485403,
          -0.44705641151759895,
          -1.9309191056949997,
          0.5949001187224799,
          0.03576457859212332,
          -0.2679998578508826,
          -0.2009488318995272,
          0.7938135479115963,
          1.649693641080204,
          -0.32892264026438395,
          -0.7341027023538993,
          -1.1218984959219487,
          -0.16540043889166298,
          -2.2488066605144277,
          0.23737591970941674,
          0.24478357266576542,
          -0.28253293153056036,
          1.006130640980851,
          0.9378984871881437,
          1.088213849894811,
          0.8248437305613723,
          -2.688043702273467,
          -1.7619891255564812,
          -0.33425568490133084,
          -1.2511561057450569,
          -0.07475995985482435,
          0.6930236216468565,
          -1.9890012589837858,
          -0.7495033548258262,
          -0.23767376718480676,
          -0.6017116670533126,
          1.5507489010923925,
          1.0117488474759582,
          -0.032719332652793004,
          -0.27657682862296384,
          -0.9424378950776426,
          -0.35908107751131124,
          1.9205665872236553,
          -0.20557618943903266,
          -1.2366161188207578,
          0.006956169777380158,
          0.308914754920131,
          0.04941829377527631,
          0.6670918623792209,
          -1.8749217552790838,
          -0.06266549513086278,
          -0.6801984634652508,
          1.656176704126538,
          1.5060730196685739,
          0.32600789039124106,
          0.8476973198310992,
          -0.10144457537645299,
          -0.586455108088047,
          0.9279948700124497,
          -0.008768409556187321,
          1.0855785426038398,
          -0.6717157469387206,
          0.6667545705904094,
          0.6459431251440116,
          -1.662539146174201,
          -1.0697674156336698
         ],
         "yaxis": "y15"
        },
        {
         "histfunc": "count",
         "histnorm": "",
         "marker": {
          "color": "rgba(128, 0, 128, 1.0)",
          "line": {
           "color": "#4D5663",
           "width": 1.3
          }
         },
         "name": "D",
         "nbinsx": 10,
         "opacity": 0.8,
         "orientation": "v",
         "type": "histogram",
         "x": [
          0.09810140879192156,
          1.0821585282388269,
          -1.4171248011615019,
          -1.681027934088529,
          -1.5426929836829733,
          0.7832147248858957,
          -0.7026508858544321,
          0.9741928148992898,
          0.7516172349078831,
          -1.0166850884338632,
          -0.8845407757566924,
          -0.8750379369793457,
          1.8736709664082034,
          -0.052899055320985544,
          1.3512178391863716,
          -0.18010450905832964,
          0.5860120402012328,
          -1.3522280442963397,
          -0.06740328278078253,
          1.1079425142104637,
          0.022099086678615883,
          0.8245665325239215,
          -0.3624823520505544,
          0.12363321364733355,
          0.38472994873374255,
          -0.8450571672231768,
          0.015188014417435147,
          0.12010790903890044,
          0.4085443628403387,
          0.7813670689251719,
          -0.47614926783054934,
          1.2185069541003242,
          -0.3010235087835275,
          0.5068742732191456,
          0.2391999745080336,
          -1.3356989501178944,
          -1.8861844520282103,
          -0.4636196529271505,
          0.6563545318345386,
          -0.6220848495485403,
          -0.44705641151759895,
          -1.9309191056949997,
          0.5949001187224799,
          0.03576457859212332,
          -0.2679998578508826,
          -0.2009488318995272,
          0.7938135479115963,
          1.649693641080204,
          -0.32892264026438395,
          -0.7341027023538993,
          -1.1218984959219487,
          -0.16540043889166298,
          -2.2488066605144277,
          0.23737591970941674,
          0.24478357266576542,
          -0.28253293153056036,
          1.006130640980851,
          0.9378984871881437,
          1.088213849894811,
          0.8248437305613723,
          -2.688043702273467,
          -1.7619891255564812,
          -0.33425568490133084,
          -1.2511561057450569,
          -0.07475995985482435,
          0.6930236216468565,
          -1.9890012589837858,
          -0.7495033548258262,
          -0.23767376718480676,
          -0.6017116670533126,
          1.5507489010923925,
          1.0117488474759582,
          -0.032719332652793004,
          -0.27657682862296384,
          -0.9424378950776426,
          -0.35908107751131124,
          1.9205665872236553,
          -0.20557618943903266,
          -1.2366161188207578,
          0.006956169777380158,
          0.308914754920131,
          0.04941829377527631,
          0.6670918623792209,
          -1.8749217552790838,
          -0.06266549513086278,
          -0.6801984634652508,
          1.656176704126538,
          1.5060730196685739,
          0.32600789039124106,
          0.8476973198310992,
          -0.10144457537645299,
          -0.586455108088047,
          0.9279948700124497,
          -0.008768409556187321,
          1.0855785426038398,
          -0.6717157469387206,
          0.6667545705904094,
          0.6459431251440116,
          -1.662539146174201,
          -1.0697674156336698
         ],
         "xaxis": "x16",
         "yaxis": "y16"
        }
       ],
       "layout": {
        "bargap": 0.02,
        "legend": {
         "bgcolor": "#F5F6F9",
         "font": {
          "color": "#4D5663"
         }
        },
        "paper_bgcolor": "#F5F6F9",
        "plot_bgcolor": "#F5F6F9",
        "showlegend": false,
        "template": {
         "data": {
          "bar": [
           {
            "error_x": {
             "color": "#2a3f5f"
            },
            "error_y": {
             "color": "#2a3f5f"
            },
            "marker": {
             "line": {
              "color": "#E5ECF6",
              "width": 0.5
             },
             "pattern": {
              "fillmode": "overlay",
              "size": 10,
              "solidity": 0.2
             }
            },
            "type": "bar"
           }
          ],
          "barpolar": [
           {
            "marker": {
             "line": {
              "color": "#E5ECF6",
              "width": 0.5
             },
             "pattern": {
              "fillmode": "overlay",
              "size": 10,
              "solidity": 0.2
             }
            },
            "type": "barpolar"
           }
          ],
          "carpet": [
           {
            "aaxis": {
             "endlinecolor": "#2a3f5f",
             "gridcolor": "white",
             "linecolor": "white",
             "minorgridcolor": "white",
             "startlinecolor": "#2a3f5f"
            },
            "baxis": {
             "endlinecolor": "#2a3f5f",
             "gridcolor": "white",
             "linecolor": "white",
             "minorgridcolor": "white",
             "startlinecolor": "#2a3f5f"
            },
            "type": "carpet"
           }
          ],
          "choropleth": [
           {
            "colorbar": {
             "outlinewidth": 0,
             "ticks": ""
            },
            "type": "choropleth"
           }
          ],
          "contour": [
           {
            "colorbar": {
             "outlinewidth": 0,
             "ticks": ""
            },
            "colorscale": [
             [
              0,
              "#0d0887"
             ],
             [
              0.1111111111111111,
              "#46039f"
             ],
             [
              0.2222222222222222,
              "#7201a8"
             ],
             [
              0.3333333333333333,
              "#9c179e"
             ],
             [
              0.4444444444444444,
              "#bd3786"
             ],
             [
              0.5555555555555556,
              "#d8576b"
             ],
             [
              0.6666666666666666,
              "#ed7953"
             ],
             [
              0.7777777777777778,
              "#fb9f3a"
             ],
             [
              0.8888888888888888,
              "#fdca26"
             ],
             [
              1,
              "#f0f921"
             ]
            ],
            "type": "contour"
           }
          ],
          "contourcarpet": [
           {
            "colorbar": {
             "outlinewidth": 0,
             "ticks": ""
            },
            "type": "contourcarpet"
           }
          ],
          "heatmap": [
           {
            "colorbar": {
             "outlinewidth": 0,
             "ticks": ""
            },
            "colorscale": [
             [
              0,
              "#0d0887"
             ],
             [
              0.1111111111111111,
              "#46039f"
             ],
             [
              0.2222222222222222,
              "#7201a8"
             ],
             [
              0.3333333333333333,
              "#9c179e"
             ],
             [
              0.4444444444444444,
              "#bd3786"
             ],
             [
              0.5555555555555556,
              "#d8576b"
             ],
             [
              0.6666666666666666,
              "#ed7953"
             ],
             [
              0.7777777777777778,
              "#fb9f3a"
             ],
             [
              0.8888888888888888,
              "#fdca26"
             ],
             [
              1,
              "#f0f921"
             ]
            ],
            "type": "heatmap"
           }
          ],
          "heatmapgl": [
           {
            "colorbar": {
             "outlinewidth": 0,
             "ticks": ""
            },
            "colorscale": [
             [
              0,
              "#0d0887"
             ],
             [
              0.1111111111111111,
              "#46039f"
             ],
             [
              0.2222222222222222,
              "#7201a8"
             ],
             [
              0.3333333333333333,
              "#9c179e"
             ],
             [
              0.4444444444444444,
              "#bd3786"
             ],
             [
              0.5555555555555556,
              "#d8576b"
             ],
             [
              0.6666666666666666,
              "#ed7953"
             ],
             [
              0.7777777777777778,
              "#fb9f3a"
             ],
             [
              0.8888888888888888,
              "#fdca26"
             ],
             [
              1,
              "#f0f921"
             ]
            ],
            "type": "heatmapgl"
           }
          ],
          "histogram": [
           {
            "marker": {
             "pattern": {
              "fillmode": "overlay",
              "size": 10,
              "solidity": 0.2
             }
            },
            "type": "histogram"
           }
          ],
          "histogram2d": [
           {
            "colorbar": {
             "outlinewidth": 0,
             "ticks": ""
            },
            "colorscale": [
             [
              0,
              "#0d0887"
             ],
             [
              0.1111111111111111,
              "#46039f"
             ],
             [
              0.2222222222222222,
              "#7201a8"
             ],
             [
              0.3333333333333333,
              "#9c179e"
             ],
             [
              0.4444444444444444,
              "#bd3786"
             ],
             [
              0.5555555555555556,
              "#d8576b"
             ],
             [
              0.6666666666666666,
              "#ed7953"
             ],
             [
              0.7777777777777778,
              "#fb9f3a"
             ],
             [
              0.8888888888888888,
              "#fdca26"
             ],
             [
              1,
              "#f0f921"
             ]
            ],
            "type": "histogram2d"
           }
          ],
          "histogram2dcontour": [
           {
            "colorbar": {
             "outlinewidth": 0,
             "ticks": ""
            },
            "colorscale": [
             [
              0,
              "#0d0887"
             ],
             [
              0.1111111111111111,
              "#46039f"
             ],
             [
              0.2222222222222222,
              "#7201a8"
             ],
             [
              0.3333333333333333,
              "#9c179e"
             ],
             [
              0.4444444444444444,
              "#bd3786"
             ],
             [
              0.5555555555555556,
              "#d8576b"
             ],
             [
              0.6666666666666666,
              "#ed7953"
             ],
             [
              0.7777777777777778,
              "#fb9f3a"
             ],
             [
              0.8888888888888888,
              "#fdca26"
             ],
             [
              1,
              "#f0f921"
             ]
            ],
            "type": "histogram2dcontour"
           }
          ],
          "mesh3d": [
           {
            "colorbar": {
             "outlinewidth": 0,
             "ticks": ""
            },
            "type": "mesh3d"
           }
          ],
          "parcoords": [
           {
            "line": {
             "colorbar": {
              "outlinewidth": 0,
              "ticks": ""
             }
            },
            "type": "parcoords"
           }
          ],
          "pie": [
           {
            "automargin": true,
            "type": "pie"
           }
          ],
          "scatter": [
           {
            "fillpattern": {
             "fillmode": "overlay",
             "size": 10,
             "solidity": 0.2
            },
            "type": "scatter"
           }
          ],
          "scatter3d": [
           {
            "line": {
             "colorbar": {
              "outlinewidth": 0,
              "ticks": ""
             }
            },
            "marker": {
             "colorbar": {
              "outlinewidth": 0,
              "ticks": ""
             }
            },
            "type": "scatter3d"
           }
          ],
          "scattercarpet": [
           {
            "marker": {
             "colorbar": {
              "outlinewidth": 0,
              "ticks": ""
             }
            },
            "type": "scattercarpet"
           }
          ],
          "scattergeo": [
           {
            "marker": {
             "colorbar": {
              "outlinewidth": 0,
              "ticks": ""
             }
            },
            "type": "scattergeo"
           }
          ],
          "scattergl": [
           {
            "marker": {
             "colorbar": {
              "outlinewidth": 0,
              "ticks": ""
             }
            },
            "type": "scattergl"
           }
          ],
          "scattermapbox": [
           {
            "marker": {
             "colorbar": {
              "outlinewidth": 0,
              "ticks": ""
             }
            },
            "type": "scattermapbox"
           }
          ],
          "scatterpolar": [
           {
            "marker": {
             "colorbar": {
              "outlinewidth": 0,
              "ticks": ""
             }
            },
            "type": "scatterpolar"
           }
          ],
          "scatterpolargl": [
           {
            "marker": {
             "colorbar": {
              "outlinewidth": 0,
              "ticks": ""
             }
            },
            "type": "scatterpolargl"
           }
          ],
          "scatterternary": [
           {
            "marker": {
             "colorbar": {
              "outlinewidth": 0,
              "ticks": ""
             }
            },
            "type": "scatterternary"
           }
          ],
          "surface": [
           {
            "colorbar": {
             "outlinewidth": 0,
             "ticks": ""
            },
            "colorscale": [
             [
              0,
              "#0d0887"
             ],
             [
              0.1111111111111111,
              "#46039f"
             ],
             [
              0.2222222222222222,
              "#7201a8"
             ],
             [
              0.3333333333333333,
              "#9c179e"
             ],
             [
              0.4444444444444444,
              "#bd3786"
             ],
             [
              0.5555555555555556,
              "#d8576b"
             ],
             [
              0.6666666666666666,
              "#ed7953"
             ],
             [
              0.7777777777777778,
              "#fb9f3a"
             ],
             [
              0.8888888888888888,
              "#fdca26"
             ],
             [
              1,
              "#f0f921"
             ]
            ],
            "type": "surface"
           }
          ],
          "table": [
           {
            "cells": {
             "fill": {
              "color": "#EBF0F8"
             },
             "line": {
              "color": "white"
             }
            },
            "header": {
             "fill": {
              "color": "#C8D4E3"
             },
             "line": {
              "color": "white"
             }
            },
            "type": "table"
           }
          ]
         },
         "layout": {
          "annotationdefaults": {
           "arrowcolor": "#2a3f5f",
           "arrowhead": 0,
           "arrowwidth": 1
          },
          "autotypenumbers": "strict",
          "coloraxis": {
           "colorbar": {
            "outlinewidth": 0,
            "ticks": ""
           }
          },
          "colorscale": {
           "diverging": [
            [
             0,
             "#8e0152"
            ],
            [
             0.1,
             "#c51b7d"
            ],
            [
             0.2,
             "#de77ae"
            ],
            [
             0.3,
             "#f1b6da"
            ],
            [
             0.4,
             "#fde0ef"
            ],
            [
             0.5,
             "#f7f7f7"
            ],
            [
             0.6,
             "#e6f5d0"
            ],
            [
             0.7,
             "#b8e186"
            ],
            [
             0.8,
             "#7fbc41"
            ],
            [
             0.9,
             "#4d9221"
            ],
            [
             1,
             "#276419"
            ]
           ],
           "sequential": [
            [
             0,
             "#0d0887"
            ],
            [
             0.1111111111111111,
             "#46039f"
            ],
            [
             0.2222222222222222,
             "#7201a8"
            ],
            [
             0.3333333333333333,
             "#9c179e"
            ],
            [
             0.4444444444444444,
             "#bd3786"
            ],
            [
             0.5555555555555556,
             "#d8576b"
            ],
            [
             0.6666666666666666,
             "#ed7953"
            ],
            [
             0.7777777777777778,
             "#fb9f3a"
            ],
            [
             0.8888888888888888,
             "#fdca26"
            ],
            [
             1,
             "#f0f921"
            ]
           ],
           "sequentialminus": [
            [
             0,
             "#0d0887"
            ],
            [
             0.1111111111111111,
             "#46039f"
            ],
            [
             0.2222222222222222,
             "#7201a8"
            ],
            [
             0.3333333333333333,
             "#9c179e"
            ],
            [
             0.4444444444444444,
             "#bd3786"
            ],
            [
             0.5555555555555556,
             "#d8576b"
            ],
            [
             0.6666666666666666,
             "#ed7953"
            ],
            [
             0.7777777777777778,
             "#fb9f3a"
            ],
            [
             0.8888888888888888,
             "#fdca26"
            ],
            [
             1,
             "#f0f921"
            ]
           ]
          },
          "colorway": [
           "#636efa",
           "#EF553B",
           "#00cc96",
           "#ab63fa",
           "#FFA15A",
           "#19d3f3",
           "#FF6692",
           "#B6E880",
           "#FF97FF",
           "#FECB52"
          ],
          "font": {
           "color": "#2a3f5f"
          },
          "geo": {
           "bgcolor": "white",
           "lakecolor": "white",
           "landcolor": "#E5ECF6",
           "showlakes": true,
           "showland": true,
           "subunitcolor": "white"
          },
          "hoverlabel": {
           "align": "left"
          },
          "hovermode": "closest",
          "mapbox": {
           "style": "light"
          },
          "paper_bgcolor": "white",
          "plot_bgcolor": "#E5ECF6",
          "polar": {
           "angularaxis": {
            "gridcolor": "white",
            "linecolor": "white",
            "ticks": ""
           },
           "bgcolor": "#E5ECF6",
           "radialaxis": {
            "gridcolor": "white",
            "linecolor": "white",
            "ticks": ""
           }
          },
          "scene": {
           "xaxis": {
            "backgroundcolor": "#E5ECF6",
            "gridcolor": "white",
            "gridwidth": 2,
            "linecolor": "white",
            "showbackground": true,
            "ticks": "",
            "zerolinecolor": "white"
           },
           "yaxis": {
            "backgroundcolor": "#E5ECF6",
            "gridcolor": "white",
            "gridwidth": 2,
            "linecolor": "white",
            "showbackground": true,
            "ticks": "",
            "zerolinecolor": "white"
           },
           "zaxis": {
            "backgroundcolor": "#E5ECF6",
            "gridcolor": "white",
            "gridwidth": 2,
            "linecolor": "white",
            "showbackground": true,
            "ticks": "",
            "zerolinecolor": "white"
           }
          },
          "shapedefaults": {
           "line": {
            "color": "#2a3f5f"
           }
          },
          "ternary": {
           "aaxis": {
            "gridcolor": "white",
            "linecolor": "white",
            "ticks": ""
           },
           "baxis": {
            "gridcolor": "white",
            "linecolor": "white",
            "ticks": ""
           },
           "bgcolor": "#E5ECF6",
           "caxis": {
            "gridcolor": "white",
            "linecolor": "white",
            "ticks": ""
           }
          },
          "title": {
           "x": 0.05
          },
          "xaxis": {
           "automargin": true,
           "gridcolor": "white",
           "linecolor": "white",
           "ticks": "",
           "title": {
            "standoff": 15
           },
           "zerolinecolor": "white",
           "zerolinewidth": 2
          },
          "yaxis": {
           "automargin": true,
           "gridcolor": "white",
           "linecolor": "white",
           "ticks": "",
           "title": {
            "standoff": 15
           },
           "zerolinecolor": "white",
           "zerolinewidth": 2
          }
         }
        },
        "title": {
         "font": {
          "color": "#4D5663"
         }
        },
        "xaxis": {
         "anchor": "y",
         "domain": [
          0,
          0.2125
         ],
         "gridcolor": "#E1E5ED",
         "showgrid": false,
         "tickfont": {
          "color": "#4D5663"
         },
         "title": {
          "font": {
           "color": "#4D5663"
          },
          "text": ""
         },
         "zerolinecolor": "#E1E5ED"
        },
        "xaxis10": {
         "anchor": "y10",
         "domain": [
          0.2625,
          0.475
         ],
         "gridcolor": "#E1E5ED",
         "showgrid": false,
         "tickfont": {
          "color": "#4D5663"
         },
         "title": {
          "font": {
           "color": "#4D5663"
          },
          "text": ""
         },
         "zerolinecolor": "#E1E5ED"
        },
        "xaxis11": {
         "anchor": "y11",
         "domain": [
          0.525,
          0.7375
         ],
         "gridcolor": "#E1E5ED",
         "showgrid": false,
         "tickfont": {
          "color": "#4D5663"
         },
         "title": {
          "font": {
           "color": "#4D5663"
          },
          "text": ""
         },
         "zerolinecolor": "#E1E5ED"
        },
        "xaxis12": {
         "anchor": "y12",
         "domain": [
          0.7875,
          1
         ],
         "gridcolor": "#E1E5ED",
         "showgrid": false,
         "tickfont": {
          "color": "#4D5663"
         },
         "title": {
          "font": {
           "color": "#4D5663"
          },
          "text": ""
         },
         "zerolinecolor": "#E1E5ED"
        },
        "xaxis13": {
         "anchor": "y13",
         "domain": [
          0,
          0.2125
         ],
         "gridcolor": "#E1E5ED",
         "showgrid": false,
         "tickfont": {
          "color": "#4D5663"
         },
         "title": {
          "font": {
           "color": "#4D5663"
          },
          "text": ""
         },
         "zerolinecolor": "#E1E5ED"
        },
        "xaxis14": {
         "anchor": "y14",
         "domain": [
          0.2625,
          0.475
         ],
         "gridcolor": "#E1E5ED",
         "showgrid": false,
         "tickfont": {
          "color": "#4D5663"
         },
         "title": {
          "font": {
           "color": "#4D5663"
          },
          "text": ""
         },
         "zerolinecolor": "#E1E5ED"
        },
        "xaxis15": {
         "anchor": "y15",
         "domain": [
          0.525,
          0.7375
         ],
         "gridcolor": "#E1E5ED",
         "showgrid": false,
         "tickfont": {
          "color": "#4D5663"
         },
         "title": {
          "font": {
           "color": "#4D5663"
          },
          "text": ""
         },
         "zerolinecolor": "#E1E5ED"
        },
        "xaxis16": {
         "anchor": "y16",
         "domain": [
          0.7875,
          1
         ],
         "gridcolor": "#E1E5ED",
         "showgrid": false,
         "tickfont": {
          "color": "#4D5663"
         },
         "title": {
          "font": {
           "color": "#4D5663"
          },
          "text": ""
         },
         "zerolinecolor": "#E1E5ED"
        },
        "xaxis2": {
         "anchor": "y2",
         "domain": [
          0.2625,
          0.475
         ],
         "gridcolor": "#E1E5ED",
         "showgrid": false,
         "tickfont": {
          "color": "#4D5663"
         },
         "title": {
          "font": {
           "color": "#4D5663"
          },
          "text": ""
         },
         "zerolinecolor": "#E1E5ED"
        },
        "xaxis3": {
         "anchor": "y3",
         "domain": [
          0.525,
          0.7375
         ],
         "gridcolor": "#E1E5ED",
         "showgrid": false,
         "tickfont": {
          "color": "#4D5663"
         },
         "title": {
          "font": {
           "color": "#4D5663"
          },
          "text": ""
         },
         "zerolinecolor": "#E1E5ED"
        },
        "xaxis4": {
         "anchor": "y4",
         "domain": [
          0.7875,
          1
         ],
         "gridcolor": "#E1E5ED",
         "showgrid": false,
         "tickfont": {
          "color": "#4D5663"
         },
         "title": {
          "font": {
           "color": "#4D5663"
          },
          "text": ""
         },
         "zerolinecolor": "#E1E5ED"
        },
        "xaxis5": {
         "anchor": "y5",
         "domain": [
          0,
          0.2125
         ],
         "gridcolor": "#E1E5ED",
         "showgrid": false,
         "tickfont": {
          "color": "#4D5663"
         },
         "title": {
          "font": {
           "color": "#4D5663"
          },
          "text": ""
         },
         "zerolinecolor": "#E1E5ED"
        },
        "xaxis6": {
         "anchor": "y6",
         "domain": [
          0.2625,
          0.475
         ],
         "gridcolor": "#E1E5ED",
         "showgrid": false,
         "tickfont": {
          "color": "#4D5663"
         },
         "title": {
          "font": {
           "color": "#4D5663"
          },
          "text": ""
         },
         "zerolinecolor": "#E1E5ED"
        },
        "xaxis7": {
         "anchor": "y7",
         "domain": [
          0.525,
          0.7375
         ],
         "gridcolor": "#E1E5ED",
         "showgrid": false,
         "tickfont": {
          "color": "#4D5663"
         },
         "title": {
          "font": {
           "color": "#4D5663"
          },
          "text": ""
         },
         "zerolinecolor": "#E1E5ED"
        },
        "xaxis8": {
         "anchor": "y8",
         "domain": [
          0.7875,
          1
         ],
         "gridcolor": "#E1E5ED",
         "showgrid": false,
         "tickfont": {
          "color": "#4D5663"
         },
         "title": {
          "font": {
           "color": "#4D5663"
          },
          "text": ""
         },
         "zerolinecolor": "#E1E5ED"
        },
        "xaxis9": {
         "anchor": "y9",
         "domain": [
          0,
          0.2125
         ],
         "gridcolor": "#E1E5ED",
         "showgrid": false,
         "tickfont": {
          "color": "#4D5663"
         },
         "title": {
          "font": {
           "color": "#4D5663"
          },
          "text": ""
         },
         "zerolinecolor": "#E1E5ED"
        },
        "yaxis": {
         "anchor": "x",
         "domain": [
          0.8025,
          1
         ],
         "gridcolor": "#E1E5ED",
         "showgrid": false,
         "tickfont": {
          "color": "#4D5663"
         },
         "title": {
          "font": {
           "color": "#4D5663"
          },
          "text": ""
         },
         "zerolinecolor": "#E1E5ED"
        },
        "yaxis10": {
         "anchor": "x10",
         "domain": [
          0.2675,
          0.465
         ],
         "gridcolor": "#E1E5ED",
         "showgrid": false,
         "tickfont": {
          "color": "#4D5663"
         },
         "title": {
          "font": {
           "color": "#4D5663"
          },
          "text": ""
         },
         "zerolinecolor": "#E1E5ED"
        },
        "yaxis11": {
         "anchor": "x11",
         "domain": [
          0.2675,
          0.465
         ],
         "gridcolor": "#E1E5ED",
         "showgrid": false,
         "tickfont": {
          "color": "#4D5663"
         },
         "title": {
          "font": {
           "color": "#4D5663"
          },
          "text": ""
         },
         "zerolinecolor": "#E1E5ED"
        },
        "yaxis12": {
         "anchor": "x12",
         "domain": [
          0.2675,
          0.465
         ],
         "gridcolor": "#E1E5ED",
         "showgrid": false,
         "tickfont": {
          "color": "#4D5663"
         },
         "title": {
          "font": {
           "color": "#4D5663"
          },
          "text": ""
         },
         "zerolinecolor": "#E1E5ED"
        },
        "yaxis13": {
         "anchor": "x13",
         "domain": [
          0,
          0.1975
         ],
         "gridcolor": "#E1E5ED",
         "showgrid": false,
         "tickfont": {
          "color": "#4D5663"
         },
         "title": {
          "font": {
           "color": "#4D5663"
          },
          "text": ""
         },
         "zerolinecolor": "#E1E5ED"
        },
        "yaxis14": {
         "anchor": "x14",
         "domain": [
          0,
          0.1975
         ],
         "gridcolor": "#E1E5ED",
         "showgrid": false,
         "tickfont": {
          "color": "#4D5663"
         },
         "title": {
          "font": {
           "color": "#4D5663"
          },
          "text": ""
         },
         "zerolinecolor": "#E1E5ED"
        },
        "yaxis15": {
         "anchor": "x15",
         "domain": [
          0,
          0.1975
         ],
         "gridcolor": "#E1E5ED",
         "showgrid": false,
         "tickfont": {
          "color": "#4D5663"
         },
         "title": {
          "font": {
           "color": "#4D5663"
          },
          "text": ""
         },
         "zerolinecolor": "#E1E5ED"
        },
        "yaxis16": {
         "anchor": "x16",
         "domain": [
          0,
          0.1975
         ],
         "gridcolor": "#E1E5ED",
         "showgrid": false,
         "tickfont": {
          "color": "#4D5663"
         },
         "title": {
          "font": {
           "color": "#4D5663"
          },
          "text": ""
         },
         "zerolinecolor": "#E1E5ED"
        },
        "yaxis2": {
         "anchor": "x2",
         "domain": [
          0.8025,
          1
         ],
         "gridcolor": "#E1E5ED",
         "showgrid": false,
         "tickfont": {
          "color": "#4D5663"
         },
         "title": {
          "font": {
           "color": "#4D5663"
          },
          "text": ""
         },
         "zerolinecolor": "#E1E5ED"
        },
        "yaxis3": {
         "anchor": "x3",
         "domain": [
          0.8025,
          1
         ],
         "gridcolor": "#E1E5ED",
         "showgrid": false,
         "tickfont": {
          "color": "#4D5663"
         },
         "title": {
          "font": {
           "color": "#4D5663"
          },
          "text": ""
         },
         "zerolinecolor": "#E1E5ED"
        },
        "yaxis4": {
         "anchor": "x4",
         "domain": [
          0.8025,
          1
         ],
         "gridcolor": "#E1E5ED",
         "showgrid": false,
         "tickfont": {
          "color": "#4D5663"
         },
         "title": {
          "font": {
           "color": "#4D5663"
          },
          "text": ""
         },
         "zerolinecolor": "#E1E5ED"
        },
        "yaxis5": {
         "anchor": "x5",
         "domain": [
          0.535,
          0.7325
         ],
         "gridcolor": "#E1E5ED",
         "showgrid": false,
         "tickfont": {
          "color": "#4D5663"
         },
         "title": {
          "font": {
           "color": "#4D5663"
          },
          "text": ""
         },
         "zerolinecolor": "#E1E5ED"
        },
        "yaxis6": {
         "anchor": "x6",
         "domain": [
          0.535,
          0.7325
         ],
         "gridcolor": "#E1E5ED",
         "showgrid": false,
         "tickfont": {
          "color": "#4D5663"
         },
         "title": {
          "font": {
           "color": "#4D5663"
          },
          "text": ""
         },
         "zerolinecolor": "#E1E5ED"
        },
        "yaxis7": {
         "anchor": "x7",
         "domain": [
          0.535,
          0.7325
         ],
         "gridcolor": "#E1E5ED",
         "showgrid": false,
         "tickfont": {
          "color": "#4D5663"
         },
         "title": {
          "font": {
           "color": "#4D5663"
          },
          "text": ""
         },
         "zerolinecolor": "#E1E5ED"
        },
        "yaxis8": {
         "anchor": "x8",
         "domain": [
          0.535,
          0.7325
         ],
         "gridcolor": "#E1E5ED",
         "showgrid": false,
         "tickfont": {
          "color": "#4D5663"
         },
         "title": {
          "font": {
           "color": "#4D5663"
          },
          "text": ""
         },
         "zerolinecolor": "#E1E5ED"
        },
        "yaxis9": {
         "anchor": "x9",
         "domain": [
          0.2675,
          0.465
         ],
         "gridcolor": "#E1E5ED",
         "showgrid": false,
         "tickfont": {
          "color": "#4D5663"
         },
         "title": {
          "font": {
           "color": "#4D5663"
          },
          "text": ""
         },
         "zerolinecolor": "#E1E5ED"
        }
       }
      },
      "text/html": [
       "<div>                            <div id=\"eee96914-dbf4-44d1-be34-b72c97ff4393\" class=\"plotly-graph-div\" style=\"height:525px; width:100%;\"></div>            <script type=\"text/javascript\">                require([\"plotly\"], function(Plotly) {                    window.PLOTLYENV=window.PLOTLYENV || {};\n",
       "                    window.PLOTLYENV.BASE_URL='https://plot.ly';                                    if (document.getElementById(\"eee96914-dbf4-44d1-be34-b72c97ff4393\")) {                    Plotly.newPlot(                        \"eee96914-dbf4-44d1-be34-b72c97ff4393\",                        [{\"histfunc\":\"count\",\"histnorm\":\"\",\"marker\":{\"color\":\"rgba(255, 153, 51, 1.0)\",\"line\":{\"color\":\"#4D5663\",\"width\":1.3}},\"name\":\"A\",\"nbinsx\":10,\"opacity\":0.8,\"orientation\":\"v\",\"x\":[0.042951484569504976,-0.2202853182291732,1.1734268801089391,-0.242857425217831,0.6763938161336688,-0.35387111095045287,-1.178873015258505,-0.9043748575099387,1.289961855900039,0.4024925419044032,0.47478873453097875,-1.5599979609496375,1.256435413677142,-1.0956306989431794,-0.4086611258433707,-1.3945695346151434,0.912962045848968,0.30730511387148135,-0.1939624564553397,1.4671933909894053,0.5694254821204012,-1.1931505134032656,1.5569400206519073,2.3296513255577835,0.21366883706439055,-0.7481852006274928,-1.047437879897871,-1.5665786547362606,-0.4195824696415362,0.7356706051151829,1.4854953122092205,-1.3585448502023059,0.6868115836283416,-0.8590019761193095,-0.3167758916209611,-2.5859566581957814,1.8802303072579827,0.33698592765530255,0.24253885461217137,-1.0610179368441957,0.6063985638659398,1.9432087735321149,-0.30963188399023234,-0.9478546493238559,1.6901316294856135,-0.9748813666852253,1.6306834387604556,0.5099483849696402,-0.8464325906049034,-0.5542596398999922,1.5009952174177925,-0.1652580228163639,0.01163057019334677,0.7861976487418677,-1.3589873822837037,-0.4793132050239744,-0.8884327703773046,-0.3284322245590626,-0.4240280239376068,0.22150415379237778,0.3881047010647667,-0.30205926100025343,0.26673438198881094,-1.591193149414884,0.8778887244884065,0.2209150355262721,1.0160545227316395,0.3491350139623226,-0.9537562700624382,1.687178900073207,0.6711975871514694,-0.47100392021657966,-0.4796751132677763,0.8899899575821433,-0.34435673664939204,-0.5704311813504567,0.17464690363311544,-0.7418420309705646,-0.6330916545993854,-1.5647070071417015,0.1292205238573053,0.17257583531658205,0.5641384665414945,-1.2693499109193727,1.112215426407947,-0.6246175481905369,0.6243230099698143,-0.5868564679739539,-0.38798572600393394,-2.2238360986731847,0.39483428796649245,-1.5128431080727769,-0.17054727445722603,0.2785807882330337,0.12745026931076014,0.37528908825820756,0.01664120828374138,2.7111613412371853,0.6852940169202932,0.04551068262644309],\"xaxis\":\"x\",\"yaxis\":\"y\",\"type\":\"histogram\"},{\"line\":{\"color\":\"rgba(128, 128, 128, 1.0)\",\"dash\":\"solid\",\"shape\":\"linear\",\"width\":1.3},\"marker\":{\"size\":2,\"symbol\":\"circle\"},\"mode\":\"markers\",\"name\":\"A\",\"text\":\"\",\"x\":[0.6192879182170579,1.1257981118290274,-0.18605348668541802,1.68420984422097,-0.9102788942172225,-0.5202766729357958,-0.8997368949419952,0.6662772657608717,0.35174523740201824,0.9641528029440805,-0.8653270517802244,0.9452732084915756,0.47945395129175744,-0.4286061172343618,-1.2735688440555835,0.40889101608737194,1.2422571076767783,1.4166175858265113,-0.5270318815990367,-0.800046474269336,0.214565407669123,-0.55640152527389,-0.9114344441458444,3.1083979331621663,-0.7311112731850965,-0.684880342436226,0.06274744992688126,2.742531672377017,-2.133326227684579,0.1151137652842412,0.7680900451533238,-0.5223302478800493,0.022174916223067612,2.4139818872965506,0.21130446301537828,-1.0520853313040146,-1.7954748202765316,-0.9478364870503688,0.5588092484146348,-0.7601933681171539,0.14143501024264124,0.27309509504905183,-2.427264041980388,0.23317620185855684,-3.1588073663659517,-0.9122905543369599,0.6107267009505823,-0.23496380499321687,0.2941546566425414,0.7183125745805514,1.070927343340471,-1.0193545665580568,1.5531729890673478,-0.957694030028398,1.1727426779104344,0.20692751971823767,-0.34462607961309055,0.6537646309558028,2.6435063941444903,-0.26984172479330476,0.06320591618100005,2.9234580741428777,0.9283667700362315,0.343527795795072,-1.6951366429125174,0.6105405577363859,1.2681520353623972,-1.4348732293337862,0.036658494980897884,0.8311983922247884,-0.30313544490508115,-0.4189732950197264,0.1303538776810748,0.5785788369835336,0.4081059853116089,-0.05183208331726445,0.6342275658481765,-0.2792889338774161,0.06936324222582699,0.5281795507084809,0.40946299084644944,1.3820817269300272,0.2347867174176207,2.6062135259018873,-1.5016377554871971,0.6800085010932065,-0.021387092292663206,1.536948561145858,0.7924620306825507,1.7553181160764677,-0.869180304417114,0.709670228343469,-0.24003645899926476,1.2632533989196815,0.019840686964291792,-0.7226923963856168,0.9000389139195395,-0.5072870380033023,-0.048363172534944744,-0.7864118916761768],\"xaxis\":\"x2\",\"y\":[0.042951484569504976,-0.2202853182291732,1.1734268801089391,-0.242857425217831,0.6763938161336688,-0.35387111095045287,-1.178873015258505,-0.9043748575099387,1.289961855900039,0.4024925419044032,0.47478873453097875,-1.5599979609496375,1.256435413677142,-1.0956306989431794,-0.4086611258433707,-1.3945695346151434,0.912962045848968,0.30730511387148135,-0.1939624564553397,1.4671933909894053,0.5694254821204012,-1.1931505134032656,1.5569400206519073,2.3296513255577835,0.21366883706439055,-0.7481852006274928,-1.047437879897871,-1.5665786547362606,-0.4195824696415362,0.7356706051151829,1.4854953122092205,-1.3585448502023059,0.6868115836283416,-0.8590019761193095,-0.3167758916209611,-2.5859566581957814,1.8802303072579827,0.33698592765530255,0.24253885461217137,-1.0610179368441957,0.6063985638659398,1.9432087735321149,-0.30963188399023234,-0.9478546493238559,1.6901316294856135,-0.9748813666852253,1.6306834387604556,0.5099483849696402,-0.8464325906049034,-0.5542596398999922,1.5009952174177925,-0.1652580228163639,0.01163057019334677,0.7861976487418677,-1.3589873822837037,-0.4793132050239744,-0.8884327703773046,-0.3284322245590626,-0.4240280239376068,0.22150415379237778,0.3881047010647667,-0.30205926100025343,0.26673438198881094,-1.591193149414884,0.8778887244884065,0.2209150355262721,1.0160545227316395,0.3491350139623226,-0.9537562700624382,1.687178900073207,0.6711975871514694,-0.47100392021657966,-0.4796751132677763,0.8899899575821433,-0.34435673664939204,-0.5704311813504567,0.17464690363311544,-0.7418420309705646,-0.6330916545993854,-1.5647070071417015,0.1292205238573053,0.17257583531658205,0.5641384665414945,-1.2693499109193727,1.112215426407947,-0.6246175481905369,0.6243230099698143,-0.5868564679739539,-0.38798572600393394,-2.2238360986731847,0.39483428796649245,-1.5128431080727769,-0.17054727445722603,0.2785807882330337,0.12745026931076014,0.37528908825820756,0.01664120828374138,2.7111613412371853,0.6852940169202932,0.04551068262644309],\"yaxis\":\"y2\",\"type\":\"scatter\"},{\"line\":{\"color\":\"rgba(128, 128, 128, 1.0)\",\"dash\":\"solid\",\"shape\":\"linear\",\"width\":1.3},\"marker\":{\"size\":2,\"symbol\":\"circle\"},\"mode\":\"markers\",\"name\":\"A\",\"text\":\"\",\"x\":[-0.8504629846670366,0.3470106660474676,-0.947157868453042,-1.3753738685210328,0.798112475861372,-0.07703631274791213,1.0081338509405333,1.7164031262789414,-0.15428419974716925,0.7394786809792315,-0.29087805351923696,-0.5036911983143708,0.7783109538359925,-0.9144864195606346,1.116337266608769,0.053086914437842025,1.1101169589996904,-0.07085129969144484,0.040320607319248414,0.28456521512565375,-0.3051548037600851,0.1608256854735454,0.5448689042209915,0.5130086565826092,1.114722787381222,-0.03033601069045141,0.6077097977908359,1.53612369790164,-0.5012501672556618,-0.6922311374242788,-0.030434283930449717,-0.7325996923830687,1.9560475088120413,1.7928012874028676,0.5183789488380032,-0.06247876335431108,0.06631837618682593,0.6307445934333602,1.5465192727036488,0.020633866560363073,0.30250193170395867,1.6771883503720761,-1.366327161291545,-0.0176458306245623,-0.13534138524280714,0.14200842587933715,-0.42959470571188285,1.0889289527460462,-0.5838295739246996,0.2784376622727278,-1.6055776206589827,-0.7583919697249786,0.33986581486104167,-1.6329635927053063,0.14195826962869051,0.21904261630627975,-0.26870964311125756,-2.0344872045157114,0.8005427352285261,-0.2843127710147637,-2.1657093271797088,-0.8083818932840517,0.27726807561376,0.35200537183063185,-1.2941715559683442,0.8810559886831515,-0.6999370839443164,0.8026579340017406,1.200946185356744,-0.2941228811682841,2.5698652166863374,-0.7179356903023796,2.546739037086572,0.28897228668584174,0.8625860396497803,-0.6754435434133842,0.6030968163029332,1.4328624709910547,-0.019837684596422166,-0.10896990206263385,1.4102348753371692,-1.8690520719855694,-0.9759947194700561,-1.347030914236879,-0.00868423520275727,0.23550473380153755,-0.34338332229913704,0.025913405196481814,-0.1509748477861139,0.023652325265938547,-0.9116681818552379,0.46001109960251635,-0.7266253041278453,-0.000713758687759925,-0.9616896614161947,0.4818779798820858,1.429448189634716,-0.5211333364859005,-1.4718441559943454,0.36990748517458355],\"xaxis\":\"x3\",\"y\":[0.042951484569504976,-0.2202853182291732,1.1734268801089391,-0.242857425217831,0.6763938161336688,-0.35387111095045287,-1.178873015258505,-0.9043748575099387,1.289961855900039,0.4024925419044032,0.47478873453097875,-1.5599979609496375,1.256435413677142,-1.0956306989431794,-0.4086611258433707,-1.3945695346151434,0.912962045848968,0.30730511387148135,-0.1939624564553397,1.4671933909894053,0.5694254821204012,-1.1931505134032656,1.5569400206519073,2.3296513255577835,0.21366883706439055,-0.7481852006274928,-1.047437879897871,-1.5665786547362606,-0.4195824696415362,0.7356706051151829,1.4854953122092205,-1.3585448502023059,0.6868115836283416,-0.8590019761193095,-0.3167758916209611,-2.5859566581957814,1.8802303072579827,0.33698592765530255,0.24253885461217137,-1.0610179368441957,0.6063985638659398,1.9432087735321149,-0.30963188399023234,-0.9478546493238559,1.6901316294856135,-0.9748813666852253,1.6306834387604556,0.5099483849696402,-0.8464325906049034,-0.5542596398999922,1.5009952174177925,-0.1652580228163639,0.01163057019334677,0.7861976487418677,-1.3589873822837037,-0.4793132050239744,-0.8884327703773046,-0.3284322245590626,-0.4240280239376068,0.22150415379237778,0.3881047010647667,-0.30205926100025343,0.26673438198881094,-1.591193149414884,0.8778887244884065,0.2209150355262721,1.0160545227316395,0.3491350139623226,-0.9537562700624382,1.687178900073207,0.6711975871514694,-0.47100392021657966,-0.4796751132677763,0.8899899575821433,-0.34435673664939204,-0.5704311813504567,0.17464690363311544,-0.7418420309705646,-0.6330916545993854,-1.5647070071417015,0.1292205238573053,0.17257583531658205,0.5641384665414945,-1.2693499109193727,1.112215426407947,-0.6246175481905369,0.6243230099698143,-0.5868564679739539,-0.38798572600393394,-2.2238360986731847,0.39483428796649245,-1.5128431080727769,-0.17054727445722603,0.2785807882330337,0.12745026931076014,0.37528908825820756,0.01664120828374138,2.7111613412371853,0.6852940169202932,0.04551068262644309],\"yaxis\":\"y3\",\"type\":\"scatter\"},{\"line\":{\"color\":\"rgba(128, 128, 128, 1.0)\",\"dash\":\"solid\",\"shape\":\"linear\",\"width\":1.3},\"marker\":{\"size\":2,\"symbol\":\"circle\"},\"mode\":\"markers\",\"name\":\"A\",\"text\":\"\",\"x\":[0.09810140879192156,1.0821585282388269,-1.4171248011615019,-1.681027934088529,-1.5426929836829733,0.7832147248858957,-0.7026508858544321,0.9741928148992898,0.7516172349078831,-1.0166850884338632,-0.8845407757566924,-0.8750379369793457,1.8736709664082034,-0.052899055320985544,1.3512178391863716,-0.18010450905832964,0.5860120402012328,-1.3522280442963397,-0.06740328278078253,1.1079425142104637,0.022099086678615883,0.8245665325239215,-0.3624823520505544,0.12363321364733355,0.38472994873374255,-0.8450571672231768,0.015188014417435147,0.12010790903890044,0.4085443628403387,0.7813670689251719,-0.47614926783054934,1.2185069541003242,-0.3010235087835275,0.5068742732191456,0.2391999745080336,-1.3356989501178944,-1.8861844520282103,-0.4636196529271505,0.6563545318345386,-0.6220848495485403,-0.44705641151759895,-1.9309191056949997,0.5949001187224799,0.03576457859212332,-0.2679998578508826,-0.2009488318995272,0.7938135479115963,1.649693641080204,-0.32892264026438395,-0.7341027023538993,-1.1218984959219487,-0.16540043889166298,-2.2488066605144277,0.23737591970941674,0.24478357266576542,-0.28253293153056036,1.006130640980851,0.9378984871881437,1.088213849894811,0.8248437305613723,-2.688043702273467,-1.7619891255564812,-0.33425568490133084,-1.2511561057450569,-0.07475995985482435,0.6930236216468565,-1.9890012589837858,-0.7495033548258262,-0.23767376718480676,-0.6017116670533126,1.5507489010923925,1.0117488474759582,-0.032719332652793004,-0.27657682862296384,-0.9424378950776426,-0.35908107751131124,1.9205665872236553,-0.20557618943903266,-1.2366161188207578,0.006956169777380158,0.308914754920131,0.04941829377527631,0.6670918623792209,-1.8749217552790838,-0.06266549513086278,-0.6801984634652508,1.656176704126538,1.5060730196685739,0.32600789039124106,0.8476973198310992,-0.10144457537645299,-0.586455108088047,0.9279948700124497,-0.008768409556187321,1.0855785426038398,-0.6717157469387206,0.6667545705904094,0.6459431251440116,-1.662539146174201,-1.0697674156336698],\"xaxis\":\"x4\",\"y\":[0.042951484569504976,-0.2202853182291732,1.1734268801089391,-0.242857425217831,0.6763938161336688,-0.35387111095045287,-1.178873015258505,-0.9043748575099387,1.289961855900039,0.4024925419044032,0.47478873453097875,-1.5599979609496375,1.256435413677142,-1.0956306989431794,-0.4086611258433707,-1.3945695346151434,0.912962045848968,0.30730511387148135,-0.1939624564553397,1.4671933909894053,0.5694254821204012,-1.1931505134032656,1.5569400206519073,2.3296513255577835,0.21366883706439055,-0.7481852006274928,-1.047437879897871,-1.5665786547362606,-0.4195824696415362,0.7356706051151829,1.4854953122092205,-1.3585448502023059,0.6868115836283416,-0.8590019761193095,-0.3167758916209611,-2.5859566581957814,1.8802303072579827,0.33698592765530255,0.24253885461217137,-1.0610179368441957,0.6063985638659398,1.9432087735321149,-0.30963188399023234,-0.9478546493238559,1.6901316294856135,-0.9748813666852253,1.6306834387604556,0.5099483849696402,-0.8464325906049034,-0.5542596398999922,1.5009952174177925,-0.1652580228163639,0.01163057019334677,0.7861976487418677,-1.3589873822837037,-0.4793132050239744,-0.8884327703773046,-0.3284322245590626,-0.4240280239376068,0.22150415379237778,0.3881047010647667,-0.30205926100025343,0.26673438198881094,-1.591193149414884,0.8778887244884065,0.2209150355262721,1.0160545227316395,0.3491350139623226,-0.9537562700624382,1.687178900073207,0.6711975871514694,-0.47100392021657966,-0.4796751132677763,0.8899899575821433,-0.34435673664939204,-0.5704311813504567,0.17464690363311544,-0.7418420309705646,-0.6330916545993854,-1.5647070071417015,0.1292205238573053,0.17257583531658205,0.5641384665414945,-1.2693499109193727,1.112215426407947,-0.6246175481905369,0.6243230099698143,-0.5868564679739539,-0.38798572600393394,-2.2238360986731847,0.39483428796649245,-1.5128431080727769,-0.17054727445722603,0.2785807882330337,0.12745026931076014,0.37528908825820756,0.01664120828374138,2.7111613412371853,0.6852940169202932,0.04551068262644309],\"yaxis\":\"y4\",\"type\":\"scatter\"},{\"line\":{\"color\":\"rgba(128, 128, 128, 1.0)\",\"dash\":\"solid\",\"shape\":\"linear\",\"width\":1.3},\"marker\":{\"size\":2,\"symbol\":\"circle\"},\"mode\":\"markers\",\"name\":\"B\",\"text\":\"\",\"x\":[0.042951484569504976,-0.2202853182291732,1.1734268801089391,-0.242857425217831,0.6763938161336688,-0.35387111095045287,-1.178873015258505,-0.9043748575099387,1.289961855900039,0.4024925419044032,0.47478873453097875,-1.5599979609496375,1.256435413677142,-1.0956306989431794,-0.4086611258433707,-1.3945695346151434,0.912962045848968,0.30730511387148135,-0.1939624564553397,1.4671933909894053,0.5694254821204012,-1.1931505134032656,1.5569400206519073,2.3296513255577835,0.21366883706439055,-0.7481852006274928,-1.047437879897871,-1.5665786547362606,-0.4195824696415362,0.7356706051151829,1.4854953122092205,-1.3585448502023059,0.6868115836283416,-0.8590019761193095,-0.3167758916209611,-2.5859566581957814,1.8802303072579827,0.33698592765530255,0.24253885461217137,-1.0610179368441957,0.6063985638659398,1.9432087735321149,-0.30963188399023234,-0.9478546493238559,1.6901316294856135,-0.9748813666852253,1.6306834387604556,0.5099483849696402,-0.8464325906049034,-0.5542596398999922,1.5009952174177925,-0.1652580228163639,0.01163057019334677,0.7861976487418677,-1.3589873822837037,-0.4793132050239744,-0.8884327703773046,-0.3284322245590626,-0.4240280239376068,0.22150415379237778,0.3881047010647667,-0.30205926100025343,0.26673438198881094,-1.591193149414884,0.8778887244884065,0.2209150355262721,1.0160545227316395,0.3491350139623226,-0.9537562700624382,1.687178900073207,0.6711975871514694,-0.47100392021657966,-0.4796751132677763,0.8899899575821433,-0.34435673664939204,-0.5704311813504567,0.17464690363311544,-0.7418420309705646,-0.6330916545993854,-1.5647070071417015,0.1292205238573053,0.17257583531658205,0.5641384665414945,-1.2693499109193727,1.112215426407947,-0.6246175481905369,0.6243230099698143,-0.5868564679739539,-0.38798572600393394,-2.2238360986731847,0.39483428796649245,-1.5128431080727769,-0.17054727445722603,0.2785807882330337,0.12745026931076014,0.37528908825820756,0.01664120828374138,2.7111613412371853,0.6852940169202932,0.04551068262644309],\"xaxis\":\"x5\",\"y\":[0.6192879182170579,1.1257981118290274,-0.18605348668541802,1.68420984422097,-0.9102788942172225,-0.5202766729357958,-0.8997368949419952,0.6662772657608717,0.35174523740201824,0.9641528029440805,-0.8653270517802244,0.9452732084915756,0.47945395129175744,-0.4286061172343618,-1.2735688440555835,0.40889101608737194,1.2422571076767783,1.4166175858265113,-0.5270318815990367,-0.800046474269336,0.214565407669123,-0.55640152527389,-0.9114344441458444,3.1083979331621663,-0.7311112731850965,-0.684880342436226,0.06274744992688126,2.742531672377017,-2.133326227684579,0.1151137652842412,0.7680900451533238,-0.5223302478800493,0.022174916223067612,2.4139818872965506,0.21130446301537828,-1.0520853313040146,-1.7954748202765316,-0.9478364870503688,0.5588092484146348,-0.7601933681171539,0.14143501024264124,0.27309509504905183,-2.427264041980388,0.23317620185855684,-3.1588073663659517,-0.9122905543369599,0.6107267009505823,-0.23496380499321687,0.2941546566425414,0.7183125745805514,1.070927343340471,-1.0193545665580568,1.5531729890673478,-0.957694030028398,1.1727426779104344,0.20692751971823767,-0.34462607961309055,0.6537646309558028,2.6435063941444903,-0.26984172479330476,0.06320591618100005,2.9234580741428777,0.9283667700362315,0.343527795795072,-1.6951366429125174,0.6105405577363859,1.2681520353623972,-1.4348732293337862,0.036658494980897884,0.8311983922247884,-0.30313544490508115,-0.4189732950197264,0.1303538776810748,0.5785788369835336,0.4081059853116089,-0.05183208331726445,0.6342275658481765,-0.2792889338774161,0.06936324222582699,0.5281795507084809,0.40946299084644944,1.3820817269300272,0.2347867174176207,2.6062135259018873,-1.5016377554871971,0.6800085010932065,-0.021387092292663206,1.536948561145858,0.7924620306825507,1.7553181160764677,-0.869180304417114,0.709670228343469,-0.24003645899926476,1.2632533989196815,0.019840686964291792,-0.7226923963856168,0.9000389139195395,-0.5072870380033023,-0.048363172534944744,-0.7864118916761768],\"yaxis\":\"y5\",\"type\":\"scatter\"},{\"histfunc\":\"count\",\"histnorm\":\"\",\"marker\":{\"color\":\"rgba(55, 128, 191, 1.0)\",\"line\":{\"color\":\"#4D5663\",\"width\":1.3}},\"name\":\"B\",\"nbinsx\":10,\"opacity\":0.8,\"orientation\":\"v\",\"x\":[0.6192879182170579,1.1257981118290274,-0.18605348668541802,1.68420984422097,-0.9102788942172225,-0.5202766729357958,-0.8997368949419952,0.6662772657608717,0.35174523740201824,0.9641528029440805,-0.8653270517802244,0.9452732084915756,0.47945395129175744,-0.4286061172343618,-1.2735688440555835,0.40889101608737194,1.2422571076767783,1.4166175858265113,-0.5270318815990367,-0.800046474269336,0.214565407669123,-0.55640152527389,-0.9114344441458444,3.1083979331621663,-0.7311112731850965,-0.684880342436226,0.06274744992688126,2.742531672377017,-2.133326227684579,0.1151137652842412,0.7680900451533238,-0.5223302478800493,0.022174916223067612,2.4139818872965506,0.21130446301537828,-1.0520853313040146,-1.7954748202765316,-0.9478364870503688,0.5588092484146348,-0.7601933681171539,0.14143501024264124,0.27309509504905183,-2.427264041980388,0.23317620185855684,-3.1588073663659517,-0.9122905543369599,0.6107267009505823,-0.23496380499321687,0.2941546566425414,0.7183125745805514,1.070927343340471,-1.0193545665580568,1.5531729890673478,-0.957694030028398,1.1727426779104344,0.20692751971823767,-0.34462607961309055,0.6537646309558028,2.6435063941444903,-0.26984172479330476,0.06320591618100005,2.9234580741428777,0.9283667700362315,0.343527795795072,-1.6951366429125174,0.6105405577363859,1.2681520353623972,-1.4348732293337862,0.036658494980897884,0.8311983922247884,-0.30313544490508115,-0.4189732950197264,0.1303538776810748,0.5785788369835336,0.4081059853116089,-0.05183208331726445,0.6342275658481765,-0.2792889338774161,0.06936324222582699,0.5281795507084809,0.40946299084644944,1.3820817269300272,0.2347867174176207,2.6062135259018873,-1.5016377554871971,0.6800085010932065,-0.021387092292663206,1.536948561145858,0.7924620306825507,1.7553181160764677,-0.869180304417114,0.709670228343469,-0.24003645899926476,1.2632533989196815,0.019840686964291792,-0.7226923963856168,0.9000389139195395,-0.5072870380033023,-0.048363172534944744,-0.7864118916761768],\"xaxis\":\"x6\",\"yaxis\":\"y6\",\"type\":\"histogram\"},{\"line\":{\"color\":\"rgba(128, 128, 128, 1.0)\",\"dash\":\"solid\",\"shape\":\"linear\",\"width\":1.3},\"marker\":{\"size\":2,\"symbol\":\"circle\"},\"mode\":\"markers\",\"name\":\"B\",\"text\":\"\",\"x\":[-0.8504629846670366,0.3470106660474676,-0.947157868453042,-1.3753738685210328,0.798112475861372,-0.07703631274791213,1.0081338509405333,1.7164031262789414,-0.15428419974716925,0.7394786809792315,-0.29087805351923696,-0.5036911983143708,0.7783109538359925,-0.9144864195606346,1.116337266608769,0.053086914437842025,1.1101169589996904,-0.07085129969144484,0.040320607319248414,0.28456521512565375,-0.3051548037600851,0.1608256854735454,0.5448689042209915,0.5130086565826092,1.114722787381222,-0.03033601069045141,0.6077097977908359,1.53612369790164,-0.5012501672556618,-0.6922311374242788,-0.030434283930449717,-0.7325996923830687,1.9560475088120413,1.7928012874028676,0.5183789488380032,-0.06247876335431108,0.06631837618682593,0.6307445934333602,1.5465192727036488,0.020633866560363073,0.30250193170395867,1.6771883503720761,-1.366327161291545,-0.0176458306245623,-0.13534138524280714,0.14200842587933715,-0.42959470571188285,1.0889289527460462,-0.5838295739246996,0.2784376622727278,-1.6055776206589827,-0.7583919697249786,0.33986581486104167,-1.6329635927053063,0.14195826962869051,0.21904261630627975,-0.26870964311125756,-2.0344872045157114,0.8005427352285261,-0.2843127710147637,-2.1657093271797088,-0.8083818932840517,0.27726807561376,0.35200537183063185,-1.2941715559683442,0.8810559886831515,-0.6999370839443164,0.8026579340017406,1.200946185356744,-0.2941228811682841,2.5698652166863374,-0.7179356903023796,2.546739037086572,0.28897228668584174,0.8625860396497803,-0.6754435434133842,0.6030968163029332,1.4328624709910547,-0.019837684596422166,-0.10896990206263385,1.4102348753371692,-1.8690520719855694,-0.9759947194700561,-1.347030914236879,-0.00868423520275727,0.23550473380153755,-0.34338332229913704,0.025913405196481814,-0.1509748477861139,0.023652325265938547,-0.9116681818552379,0.46001109960251635,-0.7266253041278453,-0.000713758687759925,-0.9616896614161947,0.4818779798820858,1.429448189634716,-0.5211333364859005,-1.4718441559943454,0.36990748517458355],\"xaxis\":\"x7\",\"y\":[0.6192879182170579,1.1257981118290274,-0.18605348668541802,1.68420984422097,-0.9102788942172225,-0.5202766729357958,-0.8997368949419952,0.6662772657608717,0.35174523740201824,0.9641528029440805,-0.8653270517802244,0.9452732084915756,0.47945395129175744,-0.4286061172343618,-1.2735688440555835,0.40889101608737194,1.2422571076767783,1.4166175858265113,-0.5270318815990367,-0.800046474269336,0.214565407669123,-0.55640152527389,-0.9114344441458444,3.1083979331621663,-0.7311112731850965,-0.684880342436226,0.06274744992688126,2.742531672377017,-2.133326227684579,0.1151137652842412,0.7680900451533238,-0.5223302478800493,0.022174916223067612,2.4139818872965506,0.21130446301537828,-1.0520853313040146,-1.7954748202765316,-0.9478364870503688,0.5588092484146348,-0.7601933681171539,0.14143501024264124,0.27309509504905183,-2.427264041980388,0.23317620185855684,-3.1588073663659517,-0.9122905543369599,0.6107267009505823,-0.23496380499321687,0.2941546566425414,0.7183125745805514,1.070927343340471,-1.0193545665580568,1.5531729890673478,-0.957694030028398,1.1727426779104344,0.20692751971823767,-0.34462607961309055,0.6537646309558028,2.6435063941444903,-0.26984172479330476,0.06320591618100005,2.9234580741428777,0.9283667700362315,0.343527795795072,-1.6951366429125174,0.6105405577363859,1.2681520353623972,-1.4348732293337862,0.036658494980897884,0.8311983922247884,-0.30313544490508115,-0.4189732950197264,0.1303538776810748,0.5785788369835336,0.4081059853116089,-0.05183208331726445,0.6342275658481765,-0.2792889338774161,0.06936324222582699,0.5281795507084809,0.40946299084644944,1.3820817269300272,0.2347867174176207,2.6062135259018873,-1.5016377554871971,0.6800085010932065,-0.021387092292663206,1.536948561145858,0.7924620306825507,1.7553181160764677,-0.869180304417114,0.709670228343469,-0.24003645899926476,1.2632533989196815,0.019840686964291792,-0.7226923963856168,0.9000389139195395,-0.5072870380033023,-0.048363172534944744,-0.7864118916761768],\"yaxis\":\"y7\",\"type\":\"scatter\"},{\"line\":{\"color\":\"rgba(128, 128, 128, 1.0)\",\"dash\":\"solid\",\"shape\":\"linear\",\"width\":1.3},\"marker\":{\"size\":2,\"symbol\":\"circle\"},\"mode\":\"markers\",\"name\":\"B\",\"text\":\"\",\"x\":[0.09810140879192156,1.0821585282388269,-1.4171248011615019,-1.681027934088529,-1.5426929836829733,0.7832147248858957,-0.7026508858544321,0.9741928148992898,0.7516172349078831,-1.0166850884338632,-0.8845407757566924,-0.8750379369793457,1.8736709664082034,-0.052899055320985544,1.3512178391863716,-0.18010450905832964,0.5860120402012328,-1.3522280442963397,-0.06740328278078253,1.1079425142104637,0.022099086678615883,0.8245665325239215,-0.3624823520505544,0.12363321364733355,0.38472994873374255,-0.8450571672231768,0.015188014417435147,0.12010790903890044,0.4085443628403387,0.7813670689251719,-0.47614926783054934,1.2185069541003242,-0.3010235087835275,0.5068742732191456,0.2391999745080336,-1.3356989501178944,-1.8861844520282103,-0.4636196529271505,0.6563545318345386,-0.6220848495485403,-0.44705641151759895,-1.9309191056949997,0.5949001187224799,0.03576457859212332,-0.2679998578508826,-0.2009488318995272,0.7938135479115963,1.649693641080204,-0.32892264026438395,-0.7341027023538993,-1.1218984959219487,-0.16540043889166298,-2.2488066605144277,0.23737591970941674,0.24478357266576542,-0.28253293153056036,1.006130640980851,0.9378984871881437,1.088213849894811,0.8248437305613723,-2.688043702273467,-1.7619891255564812,-0.33425568490133084,-1.2511561057450569,-0.07475995985482435,0.6930236216468565,-1.9890012589837858,-0.7495033548258262,-0.23767376718480676,-0.6017116670533126,1.5507489010923925,1.0117488474759582,-0.032719332652793004,-0.27657682862296384,-0.9424378950776426,-0.35908107751131124,1.9205665872236553,-0.20557618943903266,-1.2366161188207578,0.006956169777380158,0.308914754920131,0.04941829377527631,0.6670918623792209,-1.8749217552790838,-0.06266549513086278,-0.6801984634652508,1.656176704126538,1.5060730196685739,0.32600789039124106,0.8476973198310992,-0.10144457537645299,-0.586455108088047,0.9279948700124497,-0.008768409556187321,1.0855785426038398,-0.6717157469387206,0.6667545705904094,0.6459431251440116,-1.662539146174201,-1.0697674156336698],\"xaxis\":\"x8\",\"y\":[0.6192879182170579,1.1257981118290274,-0.18605348668541802,1.68420984422097,-0.9102788942172225,-0.5202766729357958,-0.8997368949419952,0.6662772657608717,0.35174523740201824,0.9641528029440805,-0.8653270517802244,0.9452732084915756,0.47945395129175744,-0.4286061172343618,-1.2735688440555835,0.40889101608737194,1.2422571076767783,1.4166175858265113,-0.5270318815990367,-0.800046474269336,0.214565407669123,-0.55640152527389,-0.9114344441458444,3.1083979331621663,-0.7311112731850965,-0.684880342436226,0.06274744992688126,2.742531672377017,-2.133326227684579,0.1151137652842412,0.7680900451533238,-0.5223302478800493,0.022174916223067612,2.4139818872965506,0.21130446301537828,-1.0520853313040146,-1.7954748202765316,-0.9478364870503688,0.5588092484146348,-0.7601933681171539,0.14143501024264124,0.27309509504905183,-2.427264041980388,0.23317620185855684,-3.1588073663659517,-0.9122905543369599,0.6107267009505823,-0.23496380499321687,0.2941546566425414,0.7183125745805514,1.070927343340471,-1.0193545665580568,1.5531729890673478,-0.957694030028398,1.1727426779104344,0.20692751971823767,-0.34462607961309055,0.6537646309558028,2.6435063941444903,-0.26984172479330476,0.06320591618100005,2.9234580741428777,0.9283667700362315,0.343527795795072,-1.6951366429125174,0.6105405577363859,1.2681520353623972,-1.4348732293337862,0.036658494980897884,0.8311983922247884,-0.30313544490508115,-0.4189732950197264,0.1303538776810748,0.5785788369835336,0.4081059853116089,-0.05183208331726445,0.6342275658481765,-0.2792889338774161,0.06936324222582699,0.5281795507084809,0.40946299084644944,1.3820817269300272,0.2347867174176207,2.6062135259018873,-1.5016377554871971,0.6800085010932065,-0.021387092292663206,1.536948561145858,0.7924620306825507,1.7553181160764677,-0.869180304417114,0.709670228343469,-0.24003645899926476,1.2632533989196815,0.019840686964291792,-0.7226923963856168,0.9000389139195395,-0.5072870380033023,-0.048363172534944744,-0.7864118916761768],\"yaxis\":\"y8\",\"type\":\"scatter\"},{\"line\":{\"color\":\"rgba(128, 128, 128, 1.0)\",\"dash\":\"solid\",\"shape\":\"linear\",\"width\":1.3},\"marker\":{\"size\":2,\"symbol\":\"circle\"},\"mode\":\"markers\",\"name\":\"C\",\"text\":\"\",\"x\":[0.042951484569504976,-0.2202853182291732,1.1734268801089391,-0.242857425217831,0.6763938161336688,-0.35387111095045287,-1.178873015258505,-0.9043748575099387,1.289961855900039,0.4024925419044032,0.47478873453097875,-1.5599979609496375,1.256435413677142,-1.0956306989431794,-0.4086611258433707,-1.3945695346151434,0.912962045848968,0.30730511387148135,-0.1939624564553397,1.4671933909894053,0.5694254821204012,-1.1931505134032656,1.5569400206519073,2.3296513255577835,0.21366883706439055,-0.7481852006274928,-1.047437879897871,-1.5665786547362606,-0.4195824696415362,0.7356706051151829,1.4854953122092205,-1.3585448502023059,0.6868115836283416,-0.8590019761193095,-0.3167758916209611,-2.5859566581957814,1.8802303072579827,0.33698592765530255,0.24253885461217137,-1.0610179368441957,0.6063985638659398,1.9432087735321149,-0.30963188399023234,-0.9478546493238559,1.6901316294856135,-0.9748813666852253,1.6306834387604556,0.5099483849696402,-0.8464325906049034,-0.5542596398999922,1.5009952174177925,-0.1652580228163639,0.01163057019334677,0.7861976487418677,-1.3589873822837037,-0.4793132050239744,-0.8884327703773046,-0.3284322245590626,-0.4240280239376068,0.22150415379237778,0.3881047010647667,-0.30205926100025343,0.26673438198881094,-1.591193149414884,0.8778887244884065,0.2209150355262721,1.0160545227316395,0.3491350139623226,-0.9537562700624382,1.687178900073207,0.6711975871514694,-0.47100392021657966,-0.4796751132677763,0.8899899575821433,-0.34435673664939204,-0.5704311813504567,0.17464690363311544,-0.7418420309705646,-0.6330916545993854,-1.5647070071417015,0.1292205238573053,0.17257583531658205,0.5641384665414945,-1.2693499109193727,1.112215426407947,-0.6246175481905369,0.6243230099698143,-0.5868564679739539,-0.38798572600393394,-2.2238360986731847,0.39483428796649245,-1.5128431080727769,-0.17054727445722603,0.2785807882330337,0.12745026931076014,0.37528908825820756,0.01664120828374138,2.7111613412371853,0.6852940169202932,0.04551068262644309],\"xaxis\":\"x9\",\"y\":[-0.8504629846670366,0.3470106660474676,-0.947157868453042,-1.3753738685210328,0.798112475861372,-0.07703631274791213,1.0081338509405333,1.7164031262789414,-0.15428419974716925,0.7394786809792315,-0.29087805351923696,-0.5036911983143708,0.7783109538359925,-0.9144864195606346,1.116337266608769,0.053086914437842025,1.1101169589996904,-0.07085129969144484,0.040320607319248414,0.28456521512565375,-0.3051548037600851,0.1608256854735454,0.5448689042209915,0.5130086565826092,1.114722787381222,-0.03033601069045141,0.6077097977908359,1.53612369790164,-0.5012501672556618,-0.6922311374242788,-0.030434283930449717,-0.7325996923830687,1.9560475088120413,1.7928012874028676,0.5183789488380032,-0.06247876335431108,0.06631837618682593,0.6307445934333602,1.5465192727036488,0.020633866560363073,0.30250193170395867,1.6771883503720761,-1.366327161291545,-0.0176458306245623,-0.13534138524280714,0.14200842587933715,-0.42959470571188285,1.0889289527460462,-0.5838295739246996,0.2784376622727278,-1.6055776206589827,-0.7583919697249786,0.33986581486104167,-1.6329635927053063,0.14195826962869051,0.21904261630627975,-0.26870964311125756,-2.0344872045157114,0.8005427352285261,-0.2843127710147637,-2.1657093271797088,-0.8083818932840517,0.27726807561376,0.35200537183063185,-1.2941715559683442,0.8810559886831515,-0.6999370839443164,0.8026579340017406,1.200946185356744,-0.2941228811682841,2.5698652166863374,-0.7179356903023796,2.546739037086572,0.28897228668584174,0.8625860396497803,-0.6754435434133842,0.6030968163029332,1.4328624709910547,-0.019837684596422166,-0.10896990206263385,1.4102348753371692,-1.8690520719855694,-0.9759947194700561,-1.347030914236879,-0.00868423520275727,0.23550473380153755,-0.34338332229913704,0.025913405196481814,-0.1509748477861139,0.023652325265938547,-0.9116681818552379,0.46001109960251635,-0.7266253041278453,-0.000713758687759925,-0.9616896614161947,0.4818779798820858,1.429448189634716,-0.5211333364859005,-1.4718441559943454,0.36990748517458355],\"yaxis\":\"y9\",\"type\":\"scatter\"},{\"line\":{\"color\":\"rgba(128, 128, 128, 1.0)\",\"dash\":\"solid\",\"shape\":\"linear\",\"width\":1.3},\"marker\":{\"size\":2,\"symbol\":\"circle\"},\"mode\":\"markers\",\"name\":\"C\",\"text\":\"\",\"x\":[0.6192879182170579,1.1257981118290274,-0.18605348668541802,1.68420984422097,-0.9102788942172225,-0.5202766729357958,-0.8997368949419952,0.6662772657608717,0.35174523740201824,0.9641528029440805,-0.8653270517802244,0.9452732084915756,0.47945395129175744,-0.4286061172343618,-1.2735688440555835,0.40889101608737194,1.2422571076767783,1.4166175858265113,-0.5270318815990367,-0.800046474269336,0.214565407669123,-0.55640152527389,-0.9114344441458444,3.1083979331621663,-0.7311112731850965,-0.684880342436226,0.06274744992688126,2.742531672377017,-2.133326227684579,0.1151137652842412,0.7680900451533238,-0.5223302478800493,0.022174916223067612,2.4139818872965506,0.21130446301537828,-1.0520853313040146,-1.7954748202765316,-0.9478364870503688,0.5588092484146348,-0.7601933681171539,0.14143501024264124,0.27309509504905183,-2.427264041980388,0.23317620185855684,-3.1588073663659517,-0.9122905543369599,0.6107267009505823,-0.23496380499321687,0.2941546566425414,0.7183125745805514,1.070927343340471,-1.0193545665580568,1.5531729890673478,-0.957694030028398,1.1727426779104344,0.20692751971823767,-0.34462607961309055,0.6537646309558028,2.6435063941444903,-0.26984172479330476,0.06320591618100005,2.9234580741428777,0.9283667700362315,0.343527795795072,-1.6951366429125174,0.6105405577363859,1.2681520353623972,-1.4348732293337862,0.036658494980897884,0.8311983922247884,-0.30313544490508115,-0.4189732950197264,0.1303538776810748,0.5785788369835336,0.4081059853116089,-0.05183208331726445,0.6342275658481765,-0.2792889338774161,0.06936324222582699,0.5281795507084809,0.40946299084644944,1.3820817269300272,0.2347867174176207,2.6062135259018873,-1.5016377554871971,0.6800085010932065,-0.021387092292663206,1.536948561145858,0.7924620306825507,1.7553181160764677,-0.869180304417114,0.709670228343469,-0.24003645899926476,1.2632533989196815,0.019840686964291792,-0.7226923963856168,0.9000389139195395,-0.5072870380033023,-0.048363172534944744,-0.7864118916761768],\"xaxis\":\"x10\",\"y\":[-0.8504629846670366,0.3470106660474676,-0.947157868453042,-1.3753738685210328,0.798112475861372,-0.07703631274791213,1.0081338509405333,1.7164031262789414,-0.15428419974716925,0.7394786809792315,-0.29087805351923696,-0.5036911983143708,0.7783109538359925,-0.9144864195606346,1.116337266608769,0.053086914437842025,1.1101169589996904,-0.07085129969144484,0.040320607319248414,0.28456521512565375,-0.3051548037600851,0.1608256854735454,0.5448689042209915,0.5130086565826092,1.114722787381222,-0.03033601069045141,0.6077097977908359,1.53612369790164,-0.5012501672556618,-0.6922311374242788,-0.030434283930449717,-0.7325996923830687,1.9560475088120413,1.7928012874028676,0.5183789488380032,-0.06247876335431108,0.06631837618682593,0.6307445934333602,1.5465192727036488,0.020633866560363073,0.30250193170395867,1.6771883503720761,-1.366327161291545,-0.0176458306245623,-0.13534138524280714,0.14200842587933715,-0.42959470571188285,1.0889289527460462,-0.5838295739246996,0.2784376622727278,-1.6055776206589827,-0.7583919697249786,0.33986581486104167,-1.6329635927053063,0.14195826962869051,0.21904261630627975,-0.26870964311125756,-2.0344872045157114,0.8005427352285261,-0.2843127710147637,-2.1657093271797088,-0.8083818932840517,0.27726807561376,0.35200537183063185,-1.2941715559683442,0.8810559886831515,-0.6999370839443164,0.8026579340017406,1.200946185356744,-0.2941228811682841,2.5698652166863374,-0.7179356903023796,2.546739037086572,0.28897228668584174,0.8625860396497803,-0.6754435434133842,0.6030968163029332,1.4328624709910547,-0.019837684596422166,-0.10896990206263385,1.4102348753371692,-1.8690520719855694,-0.9759947194700561,-1.347030914236879,-0.00868423520275727,0.23550473380153755,-0.34338332229913704,0.025913405196481814,-0.1509748477861139,0.023652325265938547,-0.9116681818552379,0.46001109960251635,-0.7266253041278453,-0.000713758687759925,-0.9616896614161947,0.4818779798820858,1.429448189634716,-0.5211333364859005,-1.4718441559943454,0.36990748517458355],\"yaxis\":\"y10\",\"type\":\"scatter\"},{\"histfunc\":\"count\",\"histnorm\":\"\",\"marker\":{\"color\":\"rgba(50, 171, 96, 1.0)\",\"line\":{\"color\":\"#4D5663\",\"width\":1.3}},\"name\":\"C\",\"nbinsx\":10,\"opacity\":0.8,\"orientation\":\"v\",\"x\":[-0.8504629846670366,0.3470106660474676,-0.947157868453042,-1.3753738685210328,0.798112475861372,-0.07703631274791213,1.0081338509405333,1.7164031262789414,-0.15428419974716925,0.7394786809792315,-0.29087805351923696,-0.5036911983143708,0.7783109538359925,-0.9144864195606346,1.116337266608769,0.053086914437842025,1.1101169589996904,-0.07085129969144484,0.040320607319248414,0.28456521512565375,-0.3051548037600851,0.1608256854735454,0.5448689042209915,0.5130086565826092,1.114722787381222,-0.03033601069045141,0.6077097977908359,1.53612369790164,-0.5012501672556618,-0.6922311374242788,-0.030434283930449717,-0.7325996923830687,1.9560475088120413,1.7928012874028676,0.5183789488380032,-0.06247876335431108,0.06631837618682593,0.6307445934333602,1.5465192727036488,0.020633866560363073,0.30250193170395867,1.6771883503720761,-1.366327161291545,-0.0176458306245623,-0.13534138524280714,0.14200842587933715,-0.42959470571188285,1.0889289527460462,-0.5838295739246996,0.2784376622727278,-1.6055776206589827,-0.7583919697249786,0.33986581486104167,-1.6329635927053063,0.14195826962869051,0.21904261630627975,-0.26870964311125756,-2.0344872045157114,0.8005427352285261,-0.2843127710147637,-2.1657093271797088,-0.8083818932840517,0.27726807561376,0.35200537183063185,-1.2941715559683442,0.8810559886831515,-0.6999370839443164,0.8026579340017406,1.200946185356744,-0.2941228811682841,2.5698652166863374,-0.7179356903023796,2.546739037086572,0.28897228668584174,0.8625860396497803,-0.6754435434133842,0.6030968163029332,1.4328624709910547,-0.019837684596422166,-0.10896990206263385,1.4102348753371692,-1.8690520719855694,-0.9759947194700561,-1.347030914236879,-0.00868423520275727,0.23550473380153755,-0.34338332229913704,0.025913405196481814,-0.1509748477861139,0.023652325265938547,-0.9116681818552379,0.46001109960251635,-0.7266253041278453,-0.000713758687759925,-0.9616896614161947,0.4818779798820858,1.429448189634716,-0.5211333364859005,-1.4718441559943454,0.36990748517458355],\"xaxis\":\"x11\",\"yaxis\":\"y11\",\"type\":\"histogram\"},{\"line\":{\"color\":\"rgba(128, 128, 128, 1.0)\",\"dash\":\"solid\",\"shape\":\"linear\",\"width\":1.3},\"marker\":{\"size\":2,\"symbol\":\"circle\"},\"mode\":\"markers\",\"name\":\"C\",\"text\":\"\",\"x\":[0.09810140879192156,1.0821585282388269,-1.4171248011615019,-1.681027934088529,-1.5426929836829733,0.7832147248858957,-0.7026508858544321,0.9741928148992898,0.7516172349078831,-1.0166850884338632,-0.8845407757566924,-0.8750379369793457,1.8736709664082034,-0.052899055320985544,1.3512178391863716,-0.18010450905832964,0.5860120402012328,-1.3522280442963397,-0.06740328278078253,1.1079425142104637,0.022099086678615883,0.8245665325239215,-0.3624823520505544,0.12363321364733355,0.38472994873374255,-0.8450571672231768,0.015188014417435147,0.12010790903890044,0.4085443628403387,0.7813670689251719,-0.47614926783054934,1.2185069541003242,-0.3010235087835275,0.5068742732191456,0.2391999745080336,-1.3356989501178944,-1.8861844520282103,-0.4636196529271505,0.6563545318345386,-0.6220848495485403,-0.44705641151759895,-1.9309191056949997,0.5949001187224799,0.03576457859212332,-0.2679998578508826,-0.2009488318995272,0.7938135479115963,1.649693641080204,-0.32892264026438395,-0.7341027023538993,-1.1218984959219487,-0.16540043889166298,-2.2488066605144277,0.23737591970941674,0.24478357266576542,-0.28253293153056036,1.006130640980851,0.9378984871881437,1.088213849894811,0.8248437305613723,-2.688043702273467,-1.7619891255564812,-0.33425568490133084,-1.2511561057450569,-0.07475995985482435,0.6930236216468565,-1.9890012589837858,-0.7495033548258262,-0.23767376718480676,-0.6017116670533126,1.5507489010923925,1.0117488474759582,-0.032719332652793004,-0.27657682862296384,-0.9424378950776426,-0.35908107751131124,1.9205665872236553,-0.20557618943903266,-1.2366161188207578,0.006956169777380158,0.308914754920131,0.04941829377527631,0.6670918623792209,-1.8749217552790838,-0.06266549513086278,-0.6801984634652508,1.656176704126538,1.5060730196685739,0.32600789039124106,0.8476973198310992,-0.10144457537645299,-0.586455108088047,0.9279948700124497,-0.008768409556187321,1.0855785426038398,-0.6717157469387206,0.6667545705904094,0.6459431251440116,-1.662539146174201,-1.0697674156336698],\"xaxis\":\"x12\",\"y\":[-0.8504629846670366,0.3470106660474676,-0.947157868453042,-1.3753738685210328,0.798112475861372,-0.07703631274791213,1.0081338509405333,1.7164031262789414,-0.15428419974716925,0.7394786809792315,-0.29087805351923696,-0.5036911983143708,0.7783109538359925,-0.9144864195606346,1.116337266608769,0.053086914437842025,1.1101169589996904,-0.07085129969144484,0.040320607319248414,0.28456521512565375,-0.3051548037600851,0.1608256854735454,0.5448689042209915,0.5130086565826092,1.114722787381222,-0.03033601069045141,0.6077097977908359,1.53612369790164,-0.5012501672556618,-0.6922311374242788,-0.030434283930449717,-0.7325996923830687,1.9560475088120413,1.7928012874028676,0.5183789488380032,-0.06247876335431108,0.06631837618682593,0.6307445934333602,1.5465192727036488,0.020633866560363073,0.30250193170395867,1.6771883503720761,-1.366327161291545,-0.0176458306245623,-0.13534138524280714,0.14200842587933715,-0.42959470571188285,1.0889289527460462,-0.5838295739246996,0.2784376622727278,-1.6055776206589827,-0.7583919697249786,0.33986581486104167,-1.6329635927053063,0.14195826962869051,0.21904261630627975,-0.26870964311125756,-2.0344872045157114,0.8005427352285261,-0.2843127710147637,-2.1657093271797088,-0.8083818932840517,0.27726807561376,0.35200537183063185,-1.2941715559683442,0.8810559886831515,-0.6999370839443164,0.8026579340017406,1.200946185356744,-0.2941228811682841,2.5698652166863374,-0.7179356903023796,2.546739037086572,0.28897228668584174,0.8625860396497803,-0.6754435434133842,0.6030968163029332,1.4328624709910547,-0.019837684596422166,-0.10896990206263385,1.4102348753371692,-1.8690520719855694,-0.9759947194700561,-1.347030914236879,-0.00868423520275727,0.23550473380153755,-0.34338332229913704,0.025913405196481814,-0.1509748477861139,0.023652325265938547,-0.9116681818552379,0.46001109960251635,-0.7266253041278453,-0.000713758687759925,-0.9616896614161947,0.4818779798820858,1.429448189634716,-0.5211333364859005,-1.4718441559943454,0.36990748517458355],\"yaxis\":\"y12\",\"type\":\"scatter\"},{\"line\":{\"color\":\"rgba(128, 128, 128, 1.0)\",\"dash\":\"solid\",\"shape\":\"linear\",\"width\":1.3},\"marker\":{\"size\":2,\"symbol\":\"circle\"},\"mode\":\"markers\",\"name\":\"D\",\"text\":\"\",\"x\":[0.042951484569504976,-0.2202853182291732,1.1734268801089391,-0.242857425217831,0.6763938161336688,-0.35387111095045287,-1.178873015258505,-0.9043748575099387,1.289961855900039,0.4024925419044032,0.47478873453097875,-1.5599979609496375,1.256435413677142,-1.0956306989431794,-0.4086611258433707,-1.3945695346151434,0.912962045848968,0.30730511387148135,-0.1939624564553397,1.4671933909894053,0.5694254821204012,-1.1931505134032656,1.5569400206519073,2.3296513255577835,0.21366883706439055,-0.7481852006274928,-1.047437879897871,-1.5665786547362606,-0.4195824696415362,0.7356706051151829,1.4854953122092205,-1.3585448502023059,0.6868115836283416,-0.8590019761193095,-0.3167758916209611,-2.5859566581957814,1.8802303072579827,0.33698592765530255,0.24253885461217137,-1.0610179368441957,0.6063985638659398,1.9432087735321149,-0.30963188399023234,-0.9478546493238559,1.6901316294856135,-0.9748813666852253,1.6306834387604556,0.5099483849696402,-0.8464325906049034,-0.5542596398999922,1.5009952174177925,-0.1652580228163639,0.01163057019334677,0.7861976487418677,-1.3589873822837037,-0.4793132050239744,-0.8884327703773046,-0.3284322245590626,-0.4240280239376068,0.22150415379237778,0.3881047010647667,-0.30205926100025343,0.26673438198881094,-1.591193149414884,0.8778887244884065,0.2209150355262721,1.0160545227316395,0.3491350139623226,-0.9537562700624382,1.687178900073207,0.6711975871514694,-0.47100392021657966,-0.4796751132677763,0.8899899575821433,-0.34435673664939204,-0.5704311813504567,0.17464690363311544,-0.7418420309705646,-0.6330916545993854,-1.5647070071417015,0.1292205238573053,0.17257583531658205,0.5641384665414945,-1.2693499109193727,1.112215426407947,-0.6246175481905369,0.6243230099698143,-0.5868564679739539,-0.38798572600393394,-2.2238360986731847,0.39483428796649245,-1.5128431080727769,-0.17054727445722603,0.2785807882330337,0.12745026931076014,0.37528908825820756,0.01664120828374138,2.7111613412371853,0.6852940169202932,0.04551068262644309],\"xaxis\":\"x13\",\"y\":[0.09810140879192156,1.0821585282388269,-1.4171248011615019,-1.681027934088529,-1.5426929836829733,0.7832147248858957,-0.7026508858544321,0.9741928148992898,0.7516172349078831,-1.0166850884338632,-0.8845407757566924,-0.8750379369793457,1.8736709664082034,-0.052899055320985544,1.3512178391863716,-0.18010450905832964,0.5860120402012328,-1.3522280442963397,-0.06740328278078253,1.1079425142104637,0.022099086678615883,0.8245665325239215,-0.3624823520505544,0.12363321364733355,0.38472994873374255,-0.8450571672231768,0.015188014417435147,0.12010790903890044,0.4085443628403387,0.7813670689251719,-0.47614926783054934,1.2185069541003242,-0.3010235087835275,0.5068742732191456,0.2391999745080336,-1.3356989501178944,-1.8861844520282103,-0.4636196529271505,0.6563545318345386,-0.6220848495485403,-0.44705641151759895,-1.9309191056949997,0.5949001187224799,0.03576457859212332,-0.2679998578508826,-0.2009488318995272,0.7938135479115963,1.649693641080204,-0.32892264026438395,-0.7341027023538993,-1.1218984959219487,-0.16540043889166298,-2.2488066605144277,0.23737591970941674,0.24478357266576542,-0.28253293153056036,1.006130640980851,0.9378984871881437,1.088213849894811,0.8248437305613723,-2.688043702273467,-1.7619891255564812,-0.33425568490133084,-1.2511561057450569,-0.07475995985482435,0.6930236216468565,-1.9890012589837858,-0.7495033548258262,-0.23767376718480676,-0.6017116670533126,1.5507489010923925,1.0117488474759582,-0.032719332652793004,-0.27657682862296384,-0.9424378950776426,-0.35908107751131124,1.9205665872236553,-0.20557618943903266,-1.2366161188207578,0.006956169777380158,0.308914754920131,0.04941829377527631,0.6670918623792209,-1.8749217552790838,-0.06266549513086278,-0.6801984634652508,1.656176704126538,1.5060730196685739,0.32600789039124106,0.8476973198310992,-0.10144457537645299,-0.586455108088047,0.9279948700124497,-0.008768409556187321,1.0855785426038398,-0.6717157469387206,0.6667545705904094,0.6459431251440116,-1.662539146174201,-1.0697674156336698],\"yaxis\":\"y13\",\"type\":\"scatter\"},{\"line\":{\"color\":\"rgba(128, 128, 128, 1.0)\",\"dash\":\"solid\",\"shape\":\"linear\",\"width\":1.3},\"marker\":{\"size\":2,\"symbol\":\"circle\"},\"mode\":\"markers\",\"name\":\"D\",\"text\":\"\",\"x\":[0.6192879182170579,1.1257981118290274,-0.18605348668541802,1.68420984422097,-0.9102788942172225,-0.5202766729357958,-0.8997368949419952,0.6662772657608717,0.35174523740201824,0.9641528029440805,-0.8653270517802244,0.9452732084915756,0.47945395129175744,-0.4286061172343618,-1.2735688440555835,0.40889101608737194,1.2422571076767783,1.4166175858265113,-0.5270318815990367,-0.800046474269336,0.214565407669123,-0.55640152527389,-0.9114344441458444,3.1083979331621663,-0.7311112731850965,-0.684880342436226,0.06274744992688126,2.742531672377017,-2.133326227684579,0.1151137652842412,0.7680900451533238,-0.5223302478800493,0.022174916223067612,2.4139818872965506,0.21130446301537828,-1.0520853313040146,-1.7954748202765316,-0.9478364870503688,0.5588092484146348,-0.7601933681171539,0.14143501024264124,0.27309509504905183,-2.427264041980388,0.23317620185855684,-3.1588073663659517,-0.9122905543369599,0.6107267009505823,-0.23496380499321687,0.2941546566425414,0.7183125745805514,1.070927343340471,-1.0193545665580568,1.5531729890673478,-0.957694030028398,1.1727426779104344,0.20692751971823767,-0.34462607961309055,0.6537646309558028,2.6435063941444903,-0.26984172479330476,0.06320591618100005,2.9234580741428777,0.9283667700362315,0.343527795795072,-1.6951366429125174,0.6105405577363859,1.2681520353623972,-1.4348732293337862,0.036658494980897884,0.8311983922247884,-0.30313544490508115,-0.4189732950197264,0.1303538776810748,0.5785788369835336,0.4081059853116089,-0.05183208331726445,0.6342275658481765,-0.2792889338774161,0.06936324222582699,0.5281795507084809,0.40946299084644944,1.3820817269300272,0.2347867174176207,2.6062135259018873,-1.5016377554871971,0.6800085010932065,-0.021387092292663206,1.536948561145858,0.7924620306825507,1.7553181160764677,-0.869180304417114,0.709670228343469,-0.24003645899926476,1.2632533989196815,0.019840686964291792,-0.7226923963856168,0.9000389139195395,-0.5072870380033023,-0.048363172534944744,-0.7864118916761768],\"xaxis\":\"x14\",\"y\":[0.09810140879192156,1.0821585282388269,-1.4171248011615019,-1.681027934088529,-1.5426929836829733,0.7832147248858957,-0.7026508858544321,0.9741928148992898,0.7516172349078831,-1.0166850884338632,-0.8845407757566924,-0.8750379369793457,1.8736709664082034,-0.052899055320985544,1.3512178391863716,-0.18010450905832964,0.5860120402012328,-1.3522280442963397,-0.06740328278078253,1.1079425142104637,0.022099086678615883,0.8245665325239215,-0.3624823520505544,0.12363321364733355,0.38472994873374255,-0.8450571672231768,0.015188014417435147,0.12010790903890044,0.4085443628403387,0.7813670689251719,-0.47614926783054934,1.2185069541003242,-0.3010235087835275,0.5068742732191456,0.2391999745080336,-1.3356989501178944,-1.8861844520282103,-0.4636196529271505,0.6563545318345386,-0.6220848495485403,-0.44705641151759895,-1.9309191056949997,0.5949001187224799,0.03576457859212332,-0.2679998578508826,-0.2009488318995272,0.7938135479115963,1.649693641080204,-0.32892264026438395,-0.7341027023538993,-1.1218984959219487,-0.16540043889166298,-2.2488066605144277,0.23737591970941674,0.24478357266576542,-0.28253293153056036,1.006130640980851,0.9378984871881437,1.088213849894811,0.8248437305613723,-2.688043702273467,-1.7619891255564812,-0.33425568490133084,-1.2511561057450569,-0.07475995985482435,0.6930236216468565,-1.9890012589837858,-0.7495033548258262,-0.23767376718480676,-0.6017116670533126,1.5507489010923925,1.0117488474759582,-0.032719332652793004,-0.27657682862296384,-0.9424378950776426,-0.35908107751131124,1.9205665872236553,-0.20557618943903266,-1.2366161188207578,0.006956169777380158,0.308914754920131,0.04941829377527631,0.6670918623792209,-1.8749217552790838,-0.06266549513086278,-0.6801984634652508,1.656176704126538,1.5060730196685739,0.32600789039124106,0.8476973198310992,-0.10144457537645299,-0.586455108088047,0.9279948700124497,-0.008768409556187321,1.0855785426038398,-0.6717157469387206,0.6667545705904094,0.6459431251440116,-1.662539146174201,-1.0697674156336698],\"yaxis\":\"y14\",\"type\":\"scatter\"},{\"line\":{\"color\":\"rgba(128, 128, 128, 1.0)\",\"dash\":\"solid\",\"shape\":\"linear\",\"width\":1.3},\"marker\":{\"size\":2,\"symbol\":\"circle\"},\"mode\":\"markers\",\"name\":\"D\",\"text\":\"\",\"x\":[-0.8504629846670366,0.3470106660474676,-0.947157868453042,-1.3753738685210328,0.798112475861372,-0.07703631274791213,1.0081338509405333,1.7164031262789414,-0.15428419974716925,0.7394786809792315,-0.29087805351923696,-0.5036911983143708,0.7783109538359925,-0.9144864195606346,1.116337266608769,0.053086914437842025,1.1101169589996904,-0.07085129969144484,0.040320607319248414,0.28456521512565375,-0.3051548037600851,0.1608256854735454,0.5448689042209915,0.5130086565826092,1.114722787381222,-0.03033601069045141,0.6077097977908359,1.53612369790164,-0.5012501672556618,-0.6922311374242788,-0.030434283930449717,-0.7325996923830687,1.9560475088120413,1.7928012874028676,0.5183789488380032,-0.06247876335431108,0.06631837618682593,0.6307445934333602,1.5465192727036488,0.020633866560363073,0.30250193170395867,1.6771883503720761,-1.366327161291545,-0.0176458306245623,-0.13534138524280714,0.14200842587933715,-0.42959470571188285,1.0889289527460462,-0.5838295739246996,0.2784376622727278,-1.6055776206589827,-0.7583919697249786,0.33986581486104167,-1.6329635927053063,0.14195826962869051,0.21904261630627975,-0.26870964311125756,-2.0344872045157114,0.8005427352285261,-0.2843127710147637,-2.1657093271797088,-0.8083818932840517,0.27726807561376,0.35200537183063185,-1.2941715559683442,0.8810559886831515,-0.6999370839443164,0.8026579340017406,1.200946185356744,-0.2941228811682841,2.5698652166863374,-0.7179356903023796,2.546739037086572,0.28897228668584174,0.8625860396497803,-0.6754435434133842,0.6030968163029332,1.4328624709910547,-0.019837684596422166,-0.10896990206263385,1.4102348753371692,-1.8690520719855694,-0.9759947194700561,-1.347030914236879,-0.00868423520275727,0.23550473380153755,-0.34338332229913704,0.025913405196481814,-0.1509748477861139,0.023652325265938547,-0.9116681818552379,0.46001109960251635,-0.7266253041278453,-0.000713758687759925,-0.9616896614161947,0.4818779798820858,1.429448189634716,-0.5211333364859005,-1.4718441559943454,0.36990748517458355],\"xaxis\":\"x15\",\"y\":[0.09810140879192156,1.0821585282388269,-1.4171248011615019,-1.681027934088529,-1.5426929836829733,0.7832147248858957,-0.7026508858544321,0.9741928148992898,0.7516172349078831,-1.0166850884338632,-0.8845407757566924,-0.8750379369793457,1.8736709664082034,-0.052899055320985544,1.3512178391863716,-0.18010450905832964,0.5860120402012328,-1.3522280442963397,-0.06740328278078253,1.1079425142104637,0.022099086678615883,0.8245665325239215,-0.3624823520505544,0.12363321364733355,0.38472994873374255,-0.8450571672231768,0.015188014417435147,0.12010790903890044,0.4085443628403387,0.7813670689251719,-0.47614926783054934,1.2185069541003242,-0.3010235087835275,0.5068742732191456,0.2391999745080336,-1.3356989501178944,-1.8861844520282103,-0.4636196529271505,0.6563545318345386,-0.6220848495485403,-0.44705641151759895,-1.9309191056949997,0.5949001187224799,0.03576457859212332,-0.2679998578508826,-0.2009488318995272,0.7938135479115963,1.649693641080204,-0.32892264026438395,-0.7341027023538993,-1.1218984959219487,-0.16540043889166298,-2.2488066605144277,0.23737591970941674,0.24478357266576542,-0.28253293153056036,1.006130640980851,0.9378984871881437,1.088213849894811,0.8248437305613723,-2.688043702273467,-1.7619891255564812,-0.33425568490133084,-1.2511561057450569,-0.07475995985482435,0.6930236216468565,-1.9890012589837858,-0.7495033548258262,-0.23767376718480676,-0.6017116670533126,1.5507489010923925,1.0117488474759582,-0.032719332652793004,-0.27657682862296384,-0.9424378950776426,-0.35908107751131124,1.9205665872236553,-0.20557618943903266,-1.2366161188207578,0.006956169777380158,0.308914754920131,0.04941829377527631,0.6670918623792209,-1.8749217552790838,-0.06266549513086278,-0.6801984634652508,1.656176704126538,1.5060730196685739,0.32600789039124106,0.8476973198310992,-0.10144457537645299,-0.586455108088047,0.9279948700124497,-0.008768409556187321,1.0855785426038398,-0.6717157469387206,0.6667545705904094,0.6459431251440116,-1.662539146174201,-1.0697674156336698],\"yaxis\":\"y15\",\"type\":\"scatter\"},{\"histfunc\":\"count\",\"histnorm\":\"\",\"marker\":{\"color\":\"rgba(128, 0, 128, 1.0)\",\"line\":{\"color\":\"#4D5663\",\"width\":1.3}},\"name\":\"D\",\"nbinsx\":10,\"opacity\":0.8,\"orientation\":\"v\",\"x\":[0.09810140879192156,1.0821585282388269,-1.4171248011615019,-1.681027934088529,-1.5426929836829733,0.7832147248858957,-0.7026508858544321,0.9741928148992898,0.7516172349078831,-1.0166850884338632,-0.8845407757566924,-0.8750379369793457,1.8736709664082034,-0.052899055320985544,1.3512178391863716,-0.18010450905832964,0.5860120402012328,-1.3522280442963397,-0.06740328278078253,1.1079425142104637,0.022099086678615883,0.8245665325239215,-0.3624823520505544,0.12363321364733355,0.38472994873374255,-0.8450571672231768,0.015188014417435147,0.12010790903890044,0.4085443628403387,0.7813670689251719,-0.47614926783054934,1.2185069541003242,-0.3010235087835275,0.5068742732191456,0.2391999745080336,-1.3356989501178944,-1.8861844520282103,-0.4636196529271505,0.6563545318345386,-0.6220848495485403,-0.44705641151759895,-1.9309191056949997,0.5949001187224799,0.03576457859212332,-0.2679998578508826,-0.2009488318995272,0.7938135479115963,1.649693641080204,-0.32892264026438395,-0.7341027023538993,-1.1218984959219487,-0.16540043889166298,-2.2488066605144277,0.23737591970941674,0.24478357266576542,-0.28253293153056036,1.006130640980851,0.9378984871881437,1.088213849894811,0.8248437305613723,-2.688043702273467,-1.7619891255564812,-0.33425568490133084,-1.2511561057450569,-0.07475995985482435,0.6930236216468565,-1.9890012589837858,-0.7495033548258262,-0.23767376718480676,-0.6017116670533126,1.5507489010923925,1.0117488474759582,-0.032719332652793004,-0.27657682862296384,-0.9424378950776426,-0.35908107751131124,1.9205665872236553,-0.20557618943903266,-1.2366161188207578,0.006956169777380158,0.308914754920131,0.04941829377527631,0.6670918623792209,-1.8749217552790838,-0.06266549513086278,-0.6801984634652508,1.656176704126538,1.5060730196685739,0.32600789039124106,0.8476973198310992,-0.10144457537645299,-0.586455108088047,0.9279948700124497,-0.008768409556187321,1.0855785426038398,-0.6717157469387206,0.6667545705904094,0.6459431251440116,-1.662539146174201,-1.0697674156336698],\"xaxis\":\"x16\",\"yaxis\":\"y16\",\"type\":\"histogram\"}],                        {\"bargap\":0.02,\"legend\":{\"bgcolor\":\"#F5F6F9\",\"font\":{\"color\":\"#4D5663\"}},\"paper_bgcolor\":\"#F5F6F9\",\"plot_bgcolor\":\"#F5F6F9\",\"showlegend\":false,\"template\":{\"data\":{\"barpolar\":[{\"marker\":{\"line\":{\"color\":\"#E5ECF6\",\"width\":0.5},\"pattern\":{\"fillmode\":\"overlay\",\"size\":10,\"solidity\":0.2}},\"type\":\"barpolar\"}],\"bar\":[{\"error_x\":{\"color\":\"#2a3f5f\"},\"error_y\":{\"color\":\"#2a3f5f\"},\"marker\":{\"line\":{\"color\":\"#E5ECF6\",\"width\":0.5},\"pattern\":{\"fillmode\":\"overlay\",\"size\":10,\"solidity\":0.2}},\"type\":\"bar\"}],\"carpet\":[{\"aaxis\":{\"endlinecolor\":\"#2a3f5f\",\"gridcolor\":\"white\",\"linecolor\":\"white\",\"minorgridcolor\":\"white\",\"startlinecolor\":\"#2a3f5f\"},\"baxis\":{\"endlinecolor\":\"#2a3f5f\",\"gridcolor\":\"white\",\"linecolor\":\"white\",\"minorgridcolor\":\"white\",\"startlinecolor\":\"#2a3f5f\"},\"type\":\"carpet\"}],\"choropleth\":[{\"colorbar\":{\"outlinewidth\":0,\"ticks\":\"\"},\"type\":\"choropleth\"}],\"contourcarpet\":[{\"colorbar\":{\"outlinewidth\":0,\"ticks\":\"\"},\"type\":\"contourcarpet\"}],\"contour\":[{\"colorbar\":{\"outlinewidth\":0,\"ticks\":\"\"},\"colorscale\":[[0.0,\"#0d0887\"],[0.1111111111111111,\"#46039f\"],[0.2222222222222222,\"#7201a8\"],[0.3333333333333333,\"#9c179e\"],[0.4444444444444444,\"#bd3786\"],[0.5555555555555556,\"#d8576b\"],[0.6666666666666666,\"#ed7953\"],[0.7777777777777778,\"#fb9f3a\"],[0.8888888888888888,\"#fdca26\"],[1.0,\"#f0f921\"]],\"type\":\"contour\"}],\"heatmapgl\":[{\"colorbar\":{\"outlinewidth\":0,\"ticks\":\"\"},\"colorscale\":[[0.0,\"#0d0887\"],[0.1111111111111111,\"#46039f\"],[0.2222222222222222,\"#7201a8\"],[0.3333333333333333,\"#9c179e\"],[0.4444444444444444,\"#bd3786\"],[0.5555555555555556,\"#d8576b\"],[0.6666666666666666,\"#ed7953\"],[0.7777777777777778,\"#fb9f3a\"],[0.8888888888888888,\"#fdca26\"],[1.0,\"#f0f921\"]],\"type\":\"heatmapgl\"}],\"heatmap\":[{\"colorbar\":{\"outlinewidth\":0,\"ticks\":\"\"},\"colorscale\":[[0.0,\"#0d0887\"],[0.1111111111111111,\"#46039f\"],[0.2222222222222222,\"#7201a8\"],[0.3333333333333333,\"#9c179e\"],[0.4444444444444444,\"#bd3786\"],[0.5555555555555556,\"#d8576b\"],[0.6666666666666666,\"#ed7953\"],[0.7777777777777778,\"#fb9f3a\"],[0.8888888888888888,\"#fdca26\"],[1.0,\"#f0f921\"]],\"type\":\"heatmap\"}],\"histogram2dcontour\":[{\"colorbar\":{\"outlinewidth\":0,\"ticks\":\"\"},\"colorscale\":[[0.0,\"#0d0887\"],[0.1111111111111111,\"#46039f\"],[0.2222222222222222,\"#7201a8\"],[0.3333333333333333,\"#9c179e\"],[0.4444444444444444,\"#bd3786\"],[0.5555555555555556,\"#d8576b\"],[0.6666666666666666,\"#ed7953\"],[0.7777777777777778,\"#fb9f3a\"],[0.8888888888888888,\"#fdca26\"],[1.0,\"#f0f921\"]],\"type\":\"histogram2dcontour\"}],\"histogram2d\":[{\"colorbar\":{\"outlinewidth\":0,\"ticks\":\"\"},\"colorscale\":[[0.0,\"#0d0887\"],[0.1111111111111111,\"#46039f\"],[0.2222222222222222,\"#7201a8\"],[0.3333333333333333,\"#9c179e\"],[0.4444444444444444,\"#bd3786\"],[0.5555555555555556,\"#d8576b\"],[0.6666666666666666,\"#ed7953\"],[0.7777777777777778,\"#fb9f3a\"],[0.8888888888888888,\"#fdca26\"],[1.0,\"#f0f921\"]],\"type\":\"histogram2d\"}],\"histogram\":[{\"marker\":{\"pattern\":{\"fillmode\":\"overlay\",\"size\":10,\"solidity\":0.2}},\"type\":\"histogram\"}],\"mesh3d\":[{\"colorbar\":{\"outlinewidth\":0,\"ticks\":\"\"},\"type\":\"mesh3d\"}],\"parcoords\":[{\"line\":{\"colorbar\":{\"outlinewidth\":0,\"ticks\":\"\"}},\"type\":\"parcoords\"}],\"pie\":[{\"automargin\":true,\"type\":\"pie\"}],\"scatter3d\":[{\"line\":{\"colorbar\":{\"outlinewidth\":0,\"ticks\":\"\"}},\"marker\":{\"colorbar\":{\"outlinewidth\":0,\"ticks\":\"\"}},\"type\":\"scatter3d\"}],\"scattercarpet\":[{\"marker\":{\"colorbar\":{\"outlinewidth\":0,\"ticks\":\"\"}},\"type\":\"scattercarpet\"}],\"scattergeo\":[{\"marker\":{\"colorbar\":{\"outlinewidth\":0,\"ticks\":\"\"}},\"type\":\"scattergeo\"}],\"scattergl\":[{\"marker\":{\"colorbar\":{\"outlinewidth\":0,\"ticks\":\"\"}},\"type\":\"scattergl\"}],\"scattermapbox\":[{\"marker\":{\"colorbar\":{\"outlinewidth\":0,\"ticks\":\"\"}},\"type\":\"scattermapbox\"}],\"scatterpolargl\":[{\"marker\":{\"colorbar\":{\"outlinewidth\":0,\"ticks\":\"\"}},\"type\":\"scatterpolargl\"}],\"scatterpolar\":[{\"marker\":{\"colorbar\":{\"outlinewidth\":0,\"ticks\":\"\"}},\"type\":\"scatterpolar\"}],\"scatter\":[{\"fillpattern\":{\"fillmode\":\"overlay\",\"size\":10,\"solidity\":0.2},\"type\":\"scatter\"}],\"scatterternary\":[{\"marker\":{\"colorbar\":{\"outlinewidth\":0,\"ticks\":\"\"}},\"type\":\"scatterternary\"}],\"surface\":[{\"colorbar\":{\"outlinewidth\":0,\"ticks\":\"\"},\"colorscale\":[[0.0,\"#0d0887\"],[0.1111111111111111,\"#46039f\"],[0.2222222222222222,\"#7201a8\"],[0.3333333333333333,\"#9c179e\"],[0.4444444444444444,\"#bd3786\"],[0.5555555555555556,\"#d8576b\"],[0.6666666666666666,\"#ed7953\"],[0.7777777777777778,\"#fb9f3a\"],[0.8888888888888888,\"#fdca26\"],[1.0,\"#f0f921\"]],\"type\":\"surface\"}],\"table\":[{\"cells\":{\"fill\":{\"color\":\"#EBF0F8\"},\"line\":{\"color\":\"white\"}},\"header\":{\"fill\":{\"color\":\"#C8D4E3\"},\"line\":{\"color\":\"white\"}},\"type\":\"table\"}]},\"layout\":{\"annotationdefaults\":{\"arrowcolor\":\"#2a3f5f\",\"arrowhead\":0,\"arrowwidth\":1},\"autotypenumbers\":\"strict\",\"coloraxis\":{\"colorbar\":{\"outlinewidth\":0,\"ticks\":\"\"}},\"colorscale\":{\"diverging\":[[0,\"#8e0152\"],[0.1,\"#c51b7d\"],[0.2,\"#de77ae\"],[0.3,\"#f1b6da\"],[0.4,\"#fde0ef\"],[0.5,\"#f7f7f7\"],[0.6,\"#e6f5d0\"],[0.7,\"#b8e186\"],[0.8,\"#7fbc41\"],[0.9,\"#4d9221\"],[1,\"#276419\"]],\"sequential\":[[0.0,\"#0d0887\"],[0.1111111111111111,\"#46039f\"],[0.2222222222222222,\"#7201a8\"],[0.3333333333333333,\"#9c179e\"],[0.4444444444444444,\"#bd3786\"],[0.5555555555555556,\"#d8576b\"],[0.6666666666666666,\"#ed7953\"],[0.7777777777777778,\"#fb9f3a\"],[0.8888888888888888,\"#fdca26\"],[1.0,\"#f0f921\"]],\"sequentialminus\":[[0.0,\"#0d0887\"],[0.1111111111111111,\"#46039f\"],[0.2222222222222222,\"#7201a8\"],[0.3333333333333333,\"#9c179e\"],[0.4444444444444444,\"#bd3786\"],[0.5555555555555556,\"#d8576b\"],[0.6666666666666666,\"#ed7953\"],[0.7777777777777778,\"#fb9f3a\"],[0.8888888888888888,\"#fdca26\"],[1.0,\"#f0f921\"]]},\"colorway\":[\"#636efa\",\"#EF553B\",\"#00cc96\",\"#ab63fa\",\"#FFA15A\",\"#19d3f3\",\"#FF6692\",\"#B6E880\",\"#FF97FF\",\"#FECB52\"],\"font\":{\"color\":\"#2a3f5f\"},\"geo\":{\"bgcolor\":\"white\",\"lakecolor\":\"white\",\"landcolor\":\"#E5ECF6\",\"showlakes\":true,\"showland\":true,\"subunitcolor\":\"white\"},\"hoverlabel\":{\"align\":\"left\"},\"hovermode\":\"closest\",\"mapbox\":{\"style\":\"light\"},\"paper_bgcolor\":\"white\",\"plot_bgcolor\":\"#E5ECF6\",\"polar\":{\"angularaxis\":{\"gridcolor\":\"white\",\"linecolor\":\"white\",\"ticks\":\"\"},\"bgcolor\":\"#E5ECF6\",\"radialaxis\":{\"gridcolor\":\"white\",\"linecolor\":\"white\",\"ticks\":\"\"}},\"scene\":{\"xaxis\":{\"backgroundcolor\":\"#E5ECF6\",\"gridcolor\":\"white\",\"gridwidth\":2,\"linecolor\":\"white\",\"showbackground\":true,\"ticks\":\"\",\"zerolinecolor\":\"white\"},\"yaxis\":{\"backgroundcolor\":\"#E5ECF6\",\"gridcolor\":\"white\",\"gridwidth\":2,\"linecolor\":\"white\",\"showbackground\":true,\"ticks\":\"\",\"zerolinecolor\":\"white\"},\"zaxis\":{\"backgroundcolor\":\"#E5ECF6\",\"gridcolor\":\"white\",\"gridwidth\":2,\"linecolor\":\"white\",\"showbackground\":true,\"ticks\":\"\",\"zerolinecolor\":\"white\"}},\"shapedefaults\":{\"line\":{\"color\":\"#2a3f5f\"}},\"ternary\":{\"aaxis\":{\"gridcolor\":\"white\",\"linecolor\":\"white\",\"ticks\":\"\"},\"baxis\":{\"gridcolor\":\"white\",\"linecolor\":\"white\",\"ticks\":\"\"},\"bgcolor\":\"#E5ECF6\",\"caxis\":{\"gridcolor\":\"white\",\"linecolor\":\"white\",\"ticks\":\"\"}},\"title\":{\"x\":0.05},\"xaxis\":{\"automargin\":true,\"gridcolor\":\"white\",\"linecolor\":\"white\",\"ticks\":\"\",\"title\":{\"standoff\":15},\"zerolinecolor\":\"white\",\"zerolinewidth\":2},\"yaxis\":{\"automargin\":true,\"gridcolor\":\"white\",\"linecolor\":\"white\",\"ticks\":\"\",\"title\":{\"standoff\":15},\"zerolinecolor\":\"white\",\"zerolinewidth\":2}}},\"title\":{\"font\":{\"color\":\"#4D5663\"}},\"xaxis\":{\"anchor\":\"y\",\"domain\":[0.0,0.2125],\"gridcolor\":\"#E1E5ED\",\"showgrid\":false,\"tickfont\":{\"color\":\"#4D5663\"},\"title\":{\"font\":{\"color\":\"#4D5663\"},\"text\":\"\"},\"zerolinecolor\":\"#E1E5ED\"},\"yaxis\":{\"anchor\":\"x\",\"domain\":[0.8025,1.0],\"gridcolor\":\"#E1E5ED\",\"showgrid\":false,\"tickfont\":{\"color\":\"#4D5663\"},\"title\":{\"font\":{\"color\":\"#4D5663\"},\"text\":\"\"},\"zerolinecolor\":\"#E1E5ED\"},\"xaxis2\":{\"anchor\":\"y2\",\"domain\":[0.2625,0.475],\"gridcolor\":\"#E1E5ED\",\"showgrid\":false,\"tickfont\":{\"color\":\"#4D5663\"},\"title\":{\"font\":{\"color\":\"#4D5663\"},\"text\":\"\"},\"zerolinecolor\":\"#E1E5ED\"},\"yaxis2\":{\"anchor\":\"x2\",\"domain\":[0.8025,1.0],\"gridcolor\":\"#E1E5ED\",\"showgrid\":false,\"tickfont\":{\"color\":\"#4D5663\"},\"title\":{\"font\":{\"color\":\"#4D5663\"},\"text\":\"\"},\"zerolinecolor\":\"#E1E5ED\"},\"xaxis3\":{\"anchor\":\"y3\",\"domain\":[0.525,0.7375],\"gridcolor\":\"#E1E5ED\",\"showgrid\":false,\"tickfont\":{\"color\":\"#4D5663\"},\"title\":{\"font\":{\"color\":\"#4D5663\"},\"text\":\"\"},\"zerolinecolor\":\"#E1E5ED\"},\"yaxis3\":{\"anchor\":\"x3\",\"domain\":[0.8025,1.0],\"gridcolor\":\"#E1E5ED\",\"showgrid\":false,\"tickfont\":{\"color\":\"#4D5663\"},\"title\":{\"font\":{\"color\":\"#4D5663\"},\"text\":\"\"},\"zerolinecolor\":\"#E1E5ED\"},\"xaxis4\":{\"anchor\":\"y4\",\"domain\":[0.7875,1.0],\"gridcolor\":\"#E1E5ED\",\"showgrid\":false,\"tickfont\":{\"color\":\"#4D5663\"},\"title\":{\"font\":{\"color\":\"#4D5663\"},\"text\":\"\"},\"zerolinecolor\":\"#E1E5ED\"},\"yaxis4\":{\"anchor\":\"x4\",\"domain\":[0.8025,1.0],\"gridcolor\":\"#E1E5ED\",\"showgrid\":false,\"tickfont\":{\"color\":\"#4D5663\"},\"title\":{\"font\":{\"color\":\"#4D5663\"},\"text\":\"\"},\"zerolinecolor\":\"#E1E5ED\"},\"xaxis5\":{\"anchor\":\"y5\",\"domain\":[0.0,0.2125],\"gridcolor\":\"#E1E5ED\",\"showgrid\":false,\"tickfont\":{\"color\":\"#4D5663\"},\"title\":{\"font\":{\"color\":\"#4D5663\"},\"text\":\"\"},\"zerolinecolor\":\"#E1E5ED\"},\"yaxis5\":{\"anchor\":\"x5\",\"domain\":[0.535,0.7325],\"gridcolor\":\"#E1E5ED\",\"showgrid\":false,\"tickfont\":{\"color\":\"#4D5663\"},\"title\":{\"font\":{\"color\":\"#4D5663\"},\"text\":\"\"},\"zerolinecolor\":\"#E1E5ED\"},\"xaxis6\":{\"anchor\":\"y6\",\"domain\":[0.2625,0.475],\"gridcolor\":\"#E1E5ED\",\"showgrid\":false,\"tickfont\":{\"color\":\"#4D5663\"},\"title\":{\"font\":{\"color\":\"#4D5663\"},\"text\":\"\"},\"zerolinecolor\":\"#E1E5ED\"},\"yaxis6\":{\"anchor\":\"x6\",\"domain\":[0.535,0.7325],\"gridcolor\":\"#E1E5ED\",\"showgrid\":false,\"tickfont\":{\"color\":\"#4D5663\"},\"title\":{\"font\":{\"color\":\"#4D5663\"},\"text\":\"\"},\"zerolinecolor\":\"#E1E5ED\"},\"xaxis7\":{\"anchor\":\"y7\",\"domain\":[0.525,0.7375],\"gridcolor\":\"#E1E5ED\",\"showgrid\":false,\"tickfont\":{\"color\":\"#4D5663\"},\"title\":{\"font\":{\"color\":\"#4D5663\"},\"text\":\"\"},\"zerolinecolor\":\"#E1E5ED\"},\"yaxis7\":{\"anchor\":\"x7\",\"domain\":[0.535,0.7325],\"gridcolor\":\"#E1E5ED\",\"showgrid\":false,\"tickfont\":{\"color\":\"#4D5663\"},\"title\":{\"font\":{\"color\":\"#4D5663\"},\"text\":\"\"},\"zerolinecolor\":\"#E1E5ED\"},\"xaxis8\":{\"anchor\":\"y8\",\"domain\":[0.7875,1.0],\"gridcolor\":\"#E1E5ED\",\"showgrid\":false,\"tickfont\":{\"color\":\"#4D5663\"},\"title\":{\"font\":{\"color\":\"#4D5663\"},\"text\":\"\"},\"zerolinecolor\":\"#E1E5ED\"},\"yaxis8\":{\"anchor\":\"x8\",\"domain\":[0.535,0.7325],\"gridcolor\":\"#E1E5ED\",\"showgrid\":false,\"tickfont\":{\"color\":\"#4D5663\"},\"title\":{\"font\":{\"color\":\"#4D5663\"},\"text\":\"\"},\"zerolinecolor\":\"#E1E5ED\"},\"xaxis9\":{\"anchor\":\"y9\",\"domain\":[0.0,0.2125],\"gridcolor\":\"#E1E5ED\",\"showgrid\":false,\"tickfont\":{\"color\":\"#4D5663\"},\"title\":{\"font\":{\"color\":\"#4D5663\"},\"text\":\"\"},\"zerolinecolor\":\"#E1E5ED\"},\"yaxis9\":{\"anchor\":\"x9\",\"domain\":[0.2675,0.465],\"gridcolor\":\"#E1E5ED\",\"showgrid\":false,\"tickfont\":{\"color\":\"#4D5663\"},\"title\":{\"font\":{\"color\":\"#4D5663\"},\"text\":\"\"},\"zerolinecolor\":\"#E1E5ED\"},\"xaxis10\":{\"anchor\":\"y10\",\"domain\":[0.2625,0.475],\"gridcolor\":\"#E1E5ED\",\"showgrid\":false,\"tickfont\":{\"color\":\"#4D5663\"},\"title\":{\"font\":{\"color\":\"#4D5663\"},\"text\":\"\"},\"zerolinecolor\":\"#E1E5ED\"},\"yaxis10\":{\"anchor\":\"x10\",\"domain\":[0.2675,0.465],\"gridcolor\":\"#E1E5ED\",\"showgrid\":false,\"tickfont\":{\"color\":\"#4D5663\"},\"title\":{\"font\":{\"color\":\"#4D5663\"},\"text\":\"\"},\"zerolinecolor\":\"#E1E5ED\"},\"xaxis11\":{\"anchor\":\"y11\",\"domain\":[0.525,0.7375],\"gridcolor\":\"#E1E5ED\",\"showgrid\":false,\"tickfont\":{\"color\":\"#4D5663\"},\"title\":{\"font\":{\"color\":\"#4D5663\"},\"text\":\"\"},\"zerolinecolor\":\"#E1E5ED\"},\"yaxis11\":{\"anchor\":\"x11\",\"domain\":[0.2675,0.465],\"gridcolor\":\"#E1E5ED\",\"showgrid\":false,\"tickfont\":{\"color\":\"#4D5663\"},\"title\":{\"font\":{\"color\":\"#4D5663\"},\"text\":\"\"},\"zerolinecolor\":\"#E1E5ED\"},\"xaxis12\":{\"anchor\":\"y12\",\"domain\":[0.7875,1.0],\"gridcolor\":\"#E1E5ED\",\"showgrid\":false,\"tickfont\":{\"color\":\"#4D5663\"},\"title\":{\"font\":{\"color\":\"#4D5663\"},\"text\":\"\"},\"zerolinecolor\":\"#E1E5ED\"},\"yaxis12\":{\"anchor\":\"x12\",\"domain\":[0.2675,0.465],\"gridcolor\":\"#E1E5ED\",\"showgrid\":false,\"tickfont\":{\"color\":\"#4D5663\"},\"title\":{\"font\":{\"color\":\"#4D5663\"},\"text\":\"\"},\"zerolinecolor\":\"#E1E5ED\"},\"xaxis13\":{\"anchor\":\"y13\",\"domain\":[0.0,0.2125],\"gridcolor\":\"#E1E5ED\",\"showgrid\":false,\"tickfont\":{\"color\":\"#4D5663\"},\"title\":{\"font\":{\"color\":\"#4D5663\"},\"text\":\"\"},\"zerolinecolor\":\"#E1E5ED\"},\"yaxis13\":{\"anchor\":\"x13\",\"domain\":[0.0,0.1975],\"gridcolor\":\"#E1E5ED\",\"showgrid\":false,\"tickfont\":{\"color\":\"#4D5663\"},\"title\":{\"font\":{\"color\":\"#4D5663\"},\"text\":\"\"},\"zerolinecolor\":\"#E1E5ED\"},\"xaxis14\":{\"anchor\":\"y14\",\"domain\":[0.2625,0.475],\"gridcolor\":\"#E1E5ED\",\"showgrid\":false,\"tickfont\":{\"color\":\"#4D5663\"},\"title\":{\"font\":{\"color\":\"#4D5663\"},\"text\":\"\"},\"zerolinecolor\":\"#E1E5ED\"},\"yaxis14\":{\"anchor\":\"x14\",\"domain\":[0.0,0.1975],\"gridcolor\":\"#E1E5ED\",\"showgrid\":false,\"tickfont\":{\"color\":\"#4D5663\"},\"title\":{\"font\":{\"color\":\"#4D5663\"},\"text\":\"\"},\"zerolinecolor\":\"#E1E5ED\"},\"xaxis15\":{\"anchor\":\"y15\",\"domain\":[0.525,0.7375],\"gridcolor\":\"#E1E5ED\",\"showgrid\":false,\"tickfont\":{\"color\":\"#4D5663\"},\"title\":{\"font\":{\"color\":\"#4D5663\"},\"text\":\"\"},\"zerolinecolor\":\"#E1E5ED\"},\"yaxis15\":{\"anchor\":\"x15\",\"domain\":[0.0,0.1975],\"gridcolor\":\"#E1E5ED\",\"showgrid\":false,\"tickfont\":{\"color\":\"#4D5663\"},\"title\":{\"font\":{\"color\":\"#4D5663\"},\"text\":\"\"},\"zerolinecolor\":\"#E1E5ED\"},\"xaxis16\":{\"anchor\":\"y16\",\"domain\":[0.7875,1.0],\"gridcolor\":\"#E1E5ED\",\"showgrid\":false,\"tickfont\":{\"color\":\"#4D5663\"},\"title\":{\"font\":{\"color\":\"#4D5663\"},\"text\":\"\"},\"zerolinecolor\":\"#E1E5ED\"},\"yaxis16\":{\"anchor\":\"x16\",\"domain\":[0.0,0.1975],\"gridcolor\":\"#E1E5ED\",\"showgrid\":false,\"tickfont\":{\"color\":\"#4D5663\"},\"title\":{\"font\":{\"color\":\"#4D5663\"},\"text\":\"\"},\"zerolinecolor\":\"#E1E5ED\"}},                        {\"showLink\": true, \"linkText\": \"Export to plot.ly\", \"plotlyServerURL\": \"https://plot.ly\", \"responsive\": true}                    ).then(function(){\n",
       "                            \n",
       "var gd = document.getElementById('eee96914-dbf4-44d1-be34-b72c97ff4393');\n",
       "var x = new MutationObserver(function (mutations, observer) {{\n",
       "        var display = window.getComputedStyle(gd).display;\n",
       "        if (!display || display === 'none') {{\n",
       "            console.log([gd, 'removed!']);\n",
       "            Plotly.purge(gd);\n",
       "            observer.disconnect();\n",
       "        }}\n",
       "}});\n",
       "\n",
       "// Listen for the removal of the full notebook cells\n",
       "var notebookContainer = gd.closest('#notebook-container');\n",
       "if (notebookContainer) {{\n",
       "    x.observe(notebookContainer, {childList: true});\n",
       "}}\n",
       "\n",
       "// Listen for the clearing of the current output cell\n",
       "var outputEl = gd.closest('.output');\n",
       "if (outputEl) {{\n",
       "    x.observe(outputEl, {childList: true});\n",
       "}}\n",
       "\n",
       "                        })                };                });            </script>        </div>"
      ]
     },
     "metadata": {},
     "output_type": "display_data"
    }
   ],
   "source": [
    "df.scatter_matrix()"
   ]
  },
  {
   "cell_type": "code",
   "execution_count": null,
   "id": "38d1f62b",
   "metadata": {},
   "outputs": [],
   "source": []
  }
 ],
 "metadata": {
  "kernelspec": {
   "display_name": "Python 3 (ipykernel)",
   "language": "python",
   "name": "python3"
  },
  "language_info": {
   "codemirror_mode": {
    "name": "ipython",
    "version": 3
   },
   "file_extension": ".py",
   "mimetype": "text/x-python",
   "name": "python",
   "nbconvert_exporter": "python",
   "pygments_lexer": "ipython3",
   "version": "3.8.10"
  }
 },
 "nbformat": 4,
 "nbformat_minor": 5
}
