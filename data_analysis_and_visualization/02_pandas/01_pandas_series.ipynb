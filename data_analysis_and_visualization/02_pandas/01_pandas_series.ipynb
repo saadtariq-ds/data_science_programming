{
 "cells": [
  {
   "cell_type": "markdown",
   "metadata": {
    "id": "nO3Wp0dJJqIq"
   },
   "source": [
    "# Series\n",
    "\n",
    "A series is a data structure in pandas that holds an array of information along with the named index"
   ]
  },
  {
   "cell_type": "code",
   "execution_count": 1,
   "metadata": {
    "id": "kUV64TK2EQwF"
   },
   "outputs": [],
   "source": [
    "import numpy as np\n",
    "import pandas as pd"
   ]
  },
  {
   "cell_type": "markdown",
   "metadata": {
    "id": "TC8b_4JCXpig"
   },
   "source": [
    "## Labeled Index"
   ]
  },
  {
   "cell_type": "code",
   "execution_count": 2,
   "metadata": {
    "colab": {
     "base_uri": "https://localhost:8080/"
    },
    "id": "NwLHfos6OuKs",
    "outputId": "b69a0c23-4b8c-4e95-b049-a65271ac3610"
   },
   "outputs": [
    {
     "data": {
      "text/plain": [
       "['USA', 'CANADA', 'MEXICO']"
      ]
     },
     "execution_count": 2,
     "metadata": {},
     "output_type": "execute_result"
    }
   ],
   "source": [
    "my_index = ['USA', 'CANADA', 'MEXICO']\n",
    "my_index"
   ]
  },
  {
   "cell_type": "code",
   "execution_count": 3,
   "metadata": {
    "colab": {
     "base_uri": "https://localhost:8080/"
    },
    "id": "HWF9aj3xPI5_",
    "outputId": "233aca70-f6ed-414f-a2d2-3e82b5ea993e"
   },
   "outputs": [
    {
     "data": {
      "text/plain": [
       "[1776, 1867, 1821]"
      ]
     },
     "execution_count": 3,
     "metadata": {},
     "output_type": "execute_result"
    }
   ],
   "source": [
    "my_data = [1776, 1867, 1821]\n",
    "my_data"
   ]
  },
  {
   "cell_type": "code",
   "execution_count": 4,
   "metadata": {
    "colab": {
     "base_uri": "https://localhost:8080/"
    },
    "id": "OxTioMtEPMVY",
    "outputId": "fd1beff5-19f9-4739-abae-5cb609befdf6"
   },
   "outputs": [
    {
     "data": {
      "text/plain": [
       "0    1776\n",
       "1    1867\n",
       "2    1821\n",
       "dtype: int64"
      ]
     },
     "execution_count": 4,
     "metadata": {},
     "output_type": "execute_result"
    }
   ],
   "source": [
    "my_ser = pd.Series(data=my_data)\n",
    "my_ser"
   ]
  },
  {
   "cell_type": "code",
   "execution_count": 5,
   "metadata": {
    "colab": {
     "base_uri": "https://localhost:8080/"
    },
    "id": "2f6dylfnPRrB",
    "outputId": "200c08f1-99ec-47a3-ccf4-23bd36a5fa60"
   },
   "outputs": [
    {
     "data": {
      "text/plain": [
       "pandas.core.series.Series"
      ]
     },
     "execution_count": 5,
     "metadata": {},
     "output_type": "execute_result"
    }
   ],
   "source": [
    "type(my_ser)"
   ]
  },
  {
   "cell_type": "code",
   "execution_count": 6,
   "metadata": {
    "colab": {
     "base_uri": "https://localhost:8080/"
    },
    "id": "h0GSghMYPadY",
    "outputId": "0ec040a9-35e0-4df9-e899-dc0b9b41774e"
   },
   "outputs": [
    {
     "data": {
      "text/plain": [
       "USA       1776\n",
       "CANADA    1867\n",
       "MEXICO    1821\n",
       "dtype: int64"
      ]
     },
     "execution_count": 6,
     "metadata": {},
     "output_type": "execute_result"
    }
   ],
   "source": [
    "my_ser = pd.Series(data=my_data, index=my_index)\n",
    "my_ser"
   ]
  },
  {
   "cell_type": "code",
   "execution_count": 7,
   "metadata": {
    "colab": {
     "base_uri": "https://localhost:8080/"
    },
    "id": "f32WU9aUXW9A",
    "outputId": "46cb075a-e9f0-4499-fcfb-1ab39a576198"
   },
   "outputs": [
    {
     "data": {
      "text/plain": [
       "pandas.core.series.Series"
      ]
     },
     "execution_count": 7,
     "metadata": {},
     "output_type": "execute_result"
    }
   ],
   "source": [
    "type(my_ser)"
   ]
  },
  {
   "cell_type": "code",
   "execution_count": 8,
   "metadata": {
    "colab": {
     "base_uri": "https://localhost:8080/"
    },
    "id": "EOSAQrxGXYxZ",
    "outputId": "e6439952-44ae-47f7-af3c-584933fa4892"
   },
   "outputs": [
    {
     "data": {
      "text/plain": [
       "1776"
      ]
     },
     "execution_count": 8,
     "metadata": {},
     "output_type": "execute_result"
    }
   ],
   "source": [
    "my_ser[0]"
   ]
  },
  {
   "cell_type": "code",
   "execution_count": 9,
   "metadata": {
    "colab": {
     "base_uri": "https://localhost:8080/"
    },
    "id": "8-g9YILpXdXl",
    "outputId": "babd8011-0b0f-44f0-ac60-91df586c5e18"
   },
   "outputs": [
    {
     "data": {
      "text/plain": [
       "1776"
      ]
     },
     "execution_count": 9,
     "metadata": {},
     "output_type": "execute_result"
    }
   ],
   "source": [
    "my_ser['USA']"
   ]
  },
  {
   "cell_type": "markdown",
   "metadata": {
    "id": "royR0YB7X40w"
   },
   "source": [
    "### Creating Series based on Python Dictionary"
   ]
  },
  {
   "cell_type": "code",
   "execution_count": 10,
   "metadata": {
    "id": "OqUY6WvKXfAz"
   },
   "outputs": [],
   "source": [
    "ages = {\"Sam\":5, \"Frank\":10, \"Spike\":7}"
   ]
  },
  {
   "cell_type": "code",
   "execution_count": 11,
   "metadata": {
    "colab": {
     "base_uri": "https://localhost:8080/"
    },
    "id": "CS8Tqdt_YC59",
    "outputId": "9e7e813e-a51c-4f3c-a133-e805f2d5837b"
   },
   "outputs": [
    {
     "data": {
      "text/plain": [
       "Sam       5\n",
       "Frank    10\n",
       "Spike     7\n",
       "dtype: int64"
      ]
     },
     "execution_count": 11,
     "metadata": {},
     "output_type": "execute_result"
    }
   ],
   "source": [
    "pd.Series(ages)"
   ]
  },
  {
   "cell_type": "markdown",
   "metadata": {
    "id": "VGhJ1ooQYezw"
   },
   "source": [
    "## Operations"
   ]
  },
  {
   "cell_type": "code",
   "execution_count": 12,
   "metadata": {
    "id": "tRBrZc9XYGn2"
   },
   "outputs": [],
   "source": [
    "quarter_one = {\"Japan\": 80, \"China\": 450, \"USA\": 200, \"Australia\": 250}\n",
    "quarter_two = {\"Brazil\": 100, \"China\": 500, \"USA\": 210, \"Australia\": 260}"
   ]
  },
  {
   "cell_type": "code",
   "execution_count": 13,
   "metadata": {
    "id": "-igIJ1ydY1di"
   },
   "outputs": [],
   "source": [
    "sales_quarter_one = pd.Series(quarter_one)\n",
    "sales_quarter_two = pd.Series(quarter_two)"
   ]
  },
  {
   "cell_type": "code",
   "execution_count": 14,
   "metadata": {
    "colab": {
     "base_uri": "https://localhost:8080/"
    },
    "id": "OffA55OKZBw_",
    "outputId": "3b780163-7be6-446d-d1f1-869a84de7816"
   },
   "outputs": [
    {
     "data": {
      "text/plain": [
       "Japan         80\n",
       "China        450\n",
       "USA          200\n",
       "Australia    250\n",
       "dtype: int64"
      ]
     },
     "execution_count": 14,
     "metadata": {},
     "output_type": "execute_result"
    }
   ],
   "source": [
    "sales_quarter_one"
   ]
  },
  {
   "cell_type": "code",
   "execution_count": 15,
   "metadata": {
    "colab": {
     "base_uri": "https://localhost:8080/"
    },
    "id": "wx93EXCVZDwE",
    "outputId": "84f7af29-2465-4370-ea24-ff6b6c246cfa"
   },
   "outputs": [
    {
     "data": {
      "text/plain": [
       "Brazil       100\n",
       "China        500\n",
       "USA          210\n",
       "Australia    260\n",
       "dtype: int64"
      ]
     },
     "execution_count": 15,
     "metadata": {},
     "output_type": "execute_result"
    }
   ],
   "source": [
    "sales_quarter_two"
   ]
  },
  {
   "cell_type": "code",
   "execution_count": 16,
   "metadata": {
    "colab": {
     "base_uri": "https://localhost:8080/"
    },
    "id": "zX52BbCMZE0J",
    "outputId": "72ddc16f-45e3-4ef2-9a49-7244778509f4"
   },
   "outputs": [
    {
     "data": {
      "text/plain": [
       "80"
      ]
     },
     "execution_count": 16,
     "metadata": {},
     "output_type": "execute_result"
    }
   ],
   "source": [
    "sales_quarter_one[\"Japan\"]"
   ]
  },
  {
   "cell_type": "code",
   "execution_count": 17,
   "metadata": {
    "colab": {
     "base_uri": "https://localhost:8080/"
    },
    "id": "7zb4hTfqZKW-",
    "outputId": "9be5241d-08e6-4594-d0d4-70cf119e83ba"
   },
   "outputs": [
    {
     "data": {
      "text/plain": [
       "Index(['Japan', 'China', 'USA', 'Australia'], dtype='object')"
      ]
     },
     "execution_count": 17,
     "metadata": {},
     "output_type": "execute_result"
    }
   ],
   "source": [
    "sales_quarter_one.keys()"
   ]
  },
  {
   "cell_type": "markdown",
   "metadata": {
    "id": "tbwYdxMabHHZ"
   },
   "source": [
    "### Broadcasting"
   ]
  },
  {
   "cell_type": "code",
   "execution_count": 18,
   "metadata": {
    "colab": {
     "base_uri": "https://localhost:8080/"
    },
    "id": "UpGoGny3bAcq",
    "outputId": "55e8390b-2d13-4322-d02a-d69135b06e64"
   },
   "outputs": [
    {
     "data": {
      "text/plain": [
       "Japan         80\n",
       "China        450\n",
       "USA          200\n",
       "Australia    250\n",
       "dtype: int64"
      ]
     },
     "execution_count": 18,
     "metadata": {},
     "output_type": "execute_result"
    }
   ],
   "source": [
    "sales_quarter_one"
   ]
  },
  {
   "cell_type": "code",
   "execution_count": 19,
   "metadata": {
    "colab": {
     "base_uri": "https://localhost:8080/"
    },
    "id": "Dlj3Q278bTVu",
    "outputId": "0c9cf737-e5bf-40f8-c3bd-46a4b13f4d8a"
   },
   "outputs": [
    {
     "data": {
      "text/plain": [
       "Japan        160\n",
       "China        900\n",
       "USA          400\n",
       "Australia    500\n",
       "dtype: int64"
      ]
     },
     "execution_count": 19,
     "metadata": {},
     "output_type": "execute_result"
    }
   ],
   "source": [
    "sales_quarter_one * 2"
   ]
  },
  {
   "cell_type": "code",
   "execution_count": 20,
   "metadata": {
    "colab": {
     "base_uri": "https://localhost:8080/"
    },
    "id": "32idIdOHbU2e",
    "outputId": "05599eef-f26a-41f5-d136-7253c0a3acba"
   },
   "outputs": [
    {
     "data": {
      "text/plain": [
       "Japan        0.8\n",
       "China        4.5\n",
       "USA          2.0\n",
       "Australia    2.5\n",
       "dtype: float64"
      ]
     },
     "execution_count": 20,
     "metadata": {},
     "output_type": "execute_result"
    }
   ],
   "source": [
    "sales_quarter_one / 100"
   ]
  },
  {
   "cell_type": "code",
   "execution_count": 21,
   "metadata": {
    "colab": {
     "base_uri": "https://localhost:8080/"
    },
    "id": "6_0JQGO8bXeu",
    "outputId": "6a91f80c-7124-4062-95dd-a0afef476dd3"
   },
   "outputs": [
    {
     "data": {
      "text/plain": [
       "Brazil       100\n",
       "China        500\n",
       "USA          210\n",
       "Australia    260\n",
       "dtype: int64"
      ]
     },
     "execution_count": 21,
     "metadata": {},
     "output_type": "execute_result"
    }
   ],
   "source": [
    "sales_quarter_two"
   ]
  },
  {
   "cell_type": "code",
   "execution_count": 22,
   "metadata": {
    "colab": {
     "base_uri": "https://localhost:8080/"
    },
    "id": "AU2Wh1ljbenl",
    "outputId": "14af9a68-9e10-447d-b1db-6a472dc4865d"
   },
   "outputs": [
    {
     "data": {
      "text/plain": [
       "Australia    510.0\n",
       "Brazil         NaN\n",
       "China        950.0\n",
       "Japan          NaN\n",
       "USA          410.0\n",
       "dtype: float64"
      ]
     },
     "execution_count": 22,
     "metadata": {},
     "output_type": "execute_result"
    }
   ],
   "source": [
    "first_half_sales = sales_quarter_one + sales_quarter_two\n",
    "first_half_sales"
   ]
  },
  {
   "cell_type": "markdown",
   "metadata": {
    "id": "fTZXSRcDcqWZ"
   },
   "source": [
    "### Adding two series"
   ]
  },
  {
   "cell_type": "code",
   "execution_count": 23,
   "metadata": {
    "colab": {
     "base_uri": "https://localhost:8080/"
    },
    "id": "HEOw-jyCbpd7",
    "outputId": "0c939c59-6a7a-4953-e516-183313bfb33a"
   },
   "outputs": [
    {
     "data": {
      "text/plain": [
       "Australia    510.0\n",
       "Brazil       100.0\n",
       "China        950.0\n",
       "Japan         80.0\n",
       "USA          410.0\n",
       "dtype: float64"
      ]
     },
     "execution_count": 23,
     "metadata": {},
     "output_type": "execute_result"
    }
   ],
   "source": [
    "sales_quarter_one.add(sales_quarter_two, fill_value=0)"
   ]
  },
  {
   "cell_type": "markdown",
   "metadata": {
    "id": "Y1Io9aH9cucR"
   },
   "source": [
    "### Multiplying two series"
   ]
  },
  {
   "cell_type": "code",
   "execution_count": 24,
   "metadata": {
    "colab": {
     "base_uri": "https://localhost:8080/"
    },
    "id": "jQjp6Nv2b_Ve",
    "outputId": "29cd12d4-4c81-4db1-87b6-68f5dca43006"
   },
   "outputs": [
    {
     "data": {
      "text/plain": [
       "Australia     65000.0\n",
       "Brazil            0.0\n",
       "China        225000.0\n",
       "Japan             0.0\n",
       "USA           42000.0\n",
       "dtype: float64"
      ]
     },
     "execution_count": 24,
     "metadata": {},
     "output_type": "execute_result"
    }
   ],
   "source": [
    "sales_quarter_one.mul(sales_quarter_two, fill_value=0)"
   ]
  },
  {
   "cell_type": "markdown",
   "metadata": {
    "id": "2C4Jo5eXcxTJ"
   },
   "source": [
    "### Subtracting two series"
   ]
  },
  {
   "cell_type": "code",
   "execution_count": 25,
   "metadata": {
    "colab": {
     "base_uri": "https://localhost:8080/"
    },
    "id": "aHE7-bAacyoO",
    "outputId": "1c972176-47d1-483a-d235-e884e79dfbdf"
   },
   "outputs": [
    {
     "data": {
      "text/plain": [
       "Australia    -10.0\n",
       "Brazil      -100.0\n",
       "China        -50.0\n",
       "Japan         80.0\n",
       "USA          -10.0\n",
       "dtype: float64"
      ]
     },
     "execution_count": 25,
     "metadata": {},
     "output_type": "execute_result"
    }
   ],
   "source": [
    "sales_quarter_one.sub(sales_quarter_two, fill_value=0)"
   ]
  },
  {
   "cell_type": "code",
   "execution_count": null,
   "metadata": {
    "id": "CBTOluXac2N1"
   },
   "outputs": [],
   "source": []
  }
 ],
 "metadata": {
  "colab": {
   "provenance": []
  },
  "kernelspec": {
   "display_name": "Python 3 (ipykernel)",
   "language": "python",
   "name": "python3"
  },
  "language_info": {
   "codemirror_mode": {
    "name": "ipython",
    "version": 3
   },
   "file_extension": ".py",
   "mimetype": "text/x-python",
   "name": "python",
   "nbconvert_exporter": "python",
   "pygments_lexer": "ipython3",
   "version": "3.10.6"
  }
 },
 "nbformat": 4,
 "nbformat_minor": 1
}
