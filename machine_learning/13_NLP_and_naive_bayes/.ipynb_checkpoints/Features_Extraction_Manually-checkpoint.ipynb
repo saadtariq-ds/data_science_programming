{
 "cells": [
  {
   "cell_type": "markdown",
   "id": "d89f3f8f",
   "metadata": {},
   "source": [
    "# Extracting Features Manually"
   ]
  },
  {
   "cell_type": "markdown",
   "id": "79a843e3",
   "metadata": {},
   "source": [
    "## Import Libraries"
   ]
  },
  {
   "cell_type": "code",
   "execution_count": 1,
   "id": "8da3a6fa",
   "metadata": {},
   "outputs": [],
   "source": [
    "import pandas as pd"
   ]
  },
  {
   "cell_type": "markdown",
   "id": "d8322968",
   "metadata": {},
   "source": [
    "## Import Data File"
   ]
  },
  {
   "cell_type": "code",
   "execution_count": 2,
   "id": "5e1a01c5",
   "metadata": {},
   "outputs": [],
   "source": [
    "with open('One.txt') as file:\n",
    "    text = file.read()"
   ]
  },
  {
   "cell_type": "code",
   "execution_count": 3,
   "id": "c6944ff4",
   "metadata": {},
   "outputs": [
    {
     "data": {
      "text/plain": [
       "'This is a story about dogs\\nour canine pets\\nDogs are furry animals\\n'"
      ]
     },
     "execution_count": 3,
     "metadata": {},
     "output_type": "execute_result"
    }
   ],
   "source": [
    "text"
   ]
  },
  {
   "cell_type": "code",
   "execution_count": 4,
   "id": "4aa22fb2",
   "metadata": {},
   "outputs": [
    {
     "name": "stdout",
     "output_type": "stream",
     "text": [
      "This is a story about dogs\n",
      "our canine pets\n",
      "Dogs are furry animals\n",
      "\n"
     ]
    }
   ],
   "source": [
    "print(text)"
   ]
  },
  {
   "cell_type": "code",
   "execution_count": 5,
   "id": "f2eae6bd",
   "metadata": {},
   "outputs": [],
   "source": [
    "with open('One.txt') as file:\n",
    "    text_readlines = file.readlines()"
   ]
  },
  {
   "cell_type": "code",
   "execution_count": 6,
   "id": "85015518",
   "metadata": {},
   "outputs": [
    {
     "data": {
      "text/plain": [
       "['This is a story about dogs\\n',\n",
       " 'our canine pets\\n',\n",
       " 'Dogs are furry animals\\n']"
      ]
     },
     "execution_count": 6,
     "metadata": {},
     "output_type": "execute_result"
    }
   ],
   "source": [
    "text_readlines"
   ]
  },
  {
   "cell_type": "markdown",
   "id": "dfee9603",
   "metadata": {},
   "source": [
    "## Different Functions / Methods"
   ]
  },
  {
   "cell_type": "code",
   "execution_count": 7,
   "id": "15d57805",
   "metadata": {},
   "outputs": [
    {
     "data": {
      "text/plain": [
       "'this is a story about dogs\\nour canine pets\\ndogs are furry animals\\n'"
      ]
     },
     "execution_count": 7,
     "metadata": {},
     "output_type": "execute_result"
    }
   ],
   "source": [
    "text.lower()"
   ]
  },
  {
   "cell_type": "code",
   "execution_count": 8,
   "id": "da4d4b5b",
   "metadata": {},
   "outputs": [
    {
     "data": {
      "text/plain": [
       "['this',\n",
       " 'is',\n",
       " 'a',\n",
       " 'story',\n",
       " 'about',\n",
       " 'dogs',\n",
       " 'our',\n",
       " 'canine',\n",
       " 'pets',\n",
       " 'dogs',\n",
       " 'are',\n",
       " 'furry',\n",
       " 'animals']"
      ]
     },
     "execution_count": 8,
     "metadata": {},
     "output_type": "execute_result"
    }
   ],
   "source": [
    "text.lower().split()"
   ]
  },
  {
   "cell_type": "markdown",
   "id": "e998e64f",
   "metadata": {},
   "source": [
    "## Building Vocabulary"
   ]
  },
  {
   "cell_type": "code",
   "execution_count": 9,
   "id": "76a4bcb7",
   "metadata": {},
   "outputs": [],
   "source": [
    "with open('One.txt') as file:\n",
    "    first_file_words = file.read().lower().split()\n",
    "    unique_first_file_words = set(first_file_words) "
   ]
  },
  {
   "cell_type": "code",
   "execution_count": 10,
   "id": "dd0ccb77",
   "metadata": {},
   "outputs": [
    {
     "data": {
      "text/plain": [
       "{'a',\n",
       " 'about',\n",
       " 'animals',\n",
       " 'are',\n",
       " 'canine',\n",
       " 'dogs',\n",
       " 'furry',\n",
       " 'is',\n",
       " 'our',\n",
       " 'pets',\n",
       " 'story',\n",
       " 'this'}"
      ]
     },
     "execution_count": 10,
     "metadata": {},
     "output_type": "execute_result"
    }
   ],
   "source": [
    "unique_first_file_words"
   ]
  },
  {
   "cell_type": "code",
   "execution_count": 11,
   "id": "b79e0972",
   "metadata": {},
   "outputs": [],
   "source": [
    "with open('Two.txt') as file:\n",
    "    second_file_words = file.read().lower().split()\n",
    "    unique_second_file_words = set(second_file_words) "
   ]
  },
  {
   "cell_type": "code",
   "execution_count": 12,
   "id": "e5f3c5ed",
   "metadata": {},
   "outputs": [
    {
     "data": {
      "text/plain": [
       "{'a',\n",
       " 'about',\n",
       " 'catching',\n",
       " 'fun',\n",
       " 'is',\n",
       " 'popular',\n",
       " 'sport',\n",
       " 'story',\n",
       " 'surfing',\n",
       " 'this',\n",
       " 'water',\n",
       " 'waves'}"
      ]
     },
     "execution_count": 12,
     "metadata": {},
     "output_type": "execute_result"
    }
   ],
   "source": [
    "unique_second_file_words"
   ]
  },
  {
   "cell_type": "code",
   "execution_count": 13,
   "id": "9bd79e4a",
   "metadata": {},
   "outputs": [],
   "source": [
    "all_unique_words = set()\n",
    "all_unique_words.update(unique_first_file_words)\n",
    "all_unique_words.update(unique_second_file_words)"
   ]
  },
  {
   "cell_type": "code",
   "execution_count": 14,
   "id": "ae193af2",
   "metadata": {},
   "outputs": [
    {
     "data": {
      "text/plain": [
       "{'a',\n",
       " 'about',\n",
       " 'animals',\n",
       " 'are',\n",
       " 'canine',\n",
       " 'catching',\n",
       " 'dogs',\n",
       " 'fun',\n",
       " 'furry',\n",
       " 'is',\n",
       " 'our',\n",
       " 'pets',\n",
       " 'popular',\n",
       " 'sport',\n",
       " 'story',\n",
       " 'surfing',\n",
       " 'this',\n",
       " 'water',\n",
       " 'waves'}"
      ]
     },
     "execution_count": 14,
     "metadata": {},
     "output_type": "execute_result"
    }
   ],
   "source": [
    "all_unique_words"
   ]
  },
  {
   "cell_type": "markdown",
   "id": "badcef18",
   "metadata": {},
   "source": [
    "### Assigning Numbers to Each Words"
   ]
  },
  {
   "cell_type": "code",
   "execution_count": 15,
   "id": "2cbf2219",
   "metadata": {},
   "outputs": [],
   "source": [
    "vocabulary = dict()\n",
    "\n",
    "count = 0\n",
    "\n",
    "for word in all_unique_words:\n",
    "    vocabulary[word] = count\n",
    "    count = count + 1"
   ]
  },
  {
   "cell_type": "code",
   "execution_count": 16,
   "id": "fa0f28b1",
   "metadata": {},
   "outputs": [
    {
     "data": {
      "text/plain": [
       "{'waves': 0,\n",
       " 'sport': 1,\n",
       " 'dogs': 2,\n",
       " 'our': 3,\n",
       " 'a': 4,\n",
       " 'animals': 5,\n",
       " 'canine': 6,\n",
       " 'are': 7,\n",
       " 'is': 8,\n",
       " 'this': 9,\n",
       " 'about': 10,\n",
       " 'furry': 11,\n",
       " 'water': 12,\n",
       " 'catching': 13,\n",
       " 'fun': 14,\n",
       " 'surfing': 15,\n",
       " 'popular': 16,\n",
       " 'story': 17,\n",
       " 'pets': 18}"
      ]
     },
     "execution_count": 16,
     "metadata": {},
     "output_type": "execute_result"
    }
   ],
   "source": [
    "vocabulary"
   ]
  },
  {
   "cell_type": "markdown",
   "id": "b630ca4c",
   "metadata": {},
   "source": [
    "### Creating Empty List for Vocabularies"
   ]
  },
  {
   "cell_type": "code",
   "execution_count": 17,
   "id": "764c5489",
   "metadata": {},
   "outputs": [],
   "source": [
    "first_frequency = [0] * len(vocabulary)\n",
    "second_frequency = [0] * len(vocabulary)\n",
    "all_words = [''] * len(vocabulary)"
   ]
  },
  {
   "cell_type": "code",
   "execution_count": 18,
   "id": "0ca095be",
   "metadata": {},
   "outputs": [
    {
     "data": {
      "text/plain": [
       "[0, 0, 0, 0, 0, 0, 0, 0, 0, 0, 0, 0, 0, 0, 0, 0, 0, 0, 0]"
      ]
     },
     "execution_count": 18,
     "metadata": {},
     "output_type": "execute_result"
    }
   ],
   "source": [
    "first_frequency"
   ]
  },
  {
   "cell_type": "code",
   "execution_count": 19,
   "id": "ab99f92b",
   "metadata": {},
   "outputs": [],
   "source": [
    "for word in first_file_words:\n",
    "    word_index = vocabulary[word]\n",
    "    first_frequency[word_index] += 1"
   ]
  },
  {
   "cell_type": "code",
   "execution_count": 20,
   "id": "f33be42f",
   "metadata": {},
   "outputs": [
    {
     "data": {
      "text/plain": [
       "[0, 0, 2, 1, 1, 1, 1, 1, 1, 1, 1, 1, 0, 0, 0, 0, 0, 1, 1]"
      ]
     },
     "execution_count": 20,
     "metadata": {},
     "output_type": "execute_result"
    }
   ],
   "source": [
    "first_frequency"
   ]
  },
  {
   "cell_type": "code",
   "execution_count": 21,
   "id": "07ea47cb",
   "metadata": {},
   "outputs": [],
   "source": [
    "for word in second_file_words:\n",
    "    word_index = vocabulary[word]\n",
    "    second_frequency[word_index] += 1"
   ]
  },
  {
   "cell_type": "code",
   "execution_count": 22,
   "id": "5bdb7028",
   "metadata": {},
   "outputs": [
    {
     "data": {
      "text/plain": [
       "[1, 1, 0, 0, 1, 0, 0, 0, 3, 1, 1, 0, 1, 1, 1, 2, 1, 1, 0]"
      ]
     },
     "execution_count": 22,
     "metadata": {},
     "output_type": "execute_result"
    }
   ],
   "source": [
    "second_frequency"
   ]
  },
  {
   "cell_type": "code",
   "execution_count": 23,
   "id": "83d6c70d",
   "metadata": {},
   "outputs": [],
   "source": [
    "for word in vocabulary:\n",
    "    word_index = vocabulary[word]\n",
    "    all_words[word_index] = word"
   ]
  },
  {
   "cell_type": "code",
   "execution_count": 24,
   "id": "a29470e6",
   "metadata": {},
   "outputs": [
    {
     "data": {
      "text/plain": [
       "['waves',\n",
       " 'sport',\n",
       " 'dogs',\n",
       " 'our',\n",
       " 'a',\n",
       " 'animals',\n",
       " 'canine',\n",
       " 'are',\n",
       " 'is',\n",
       " 'this',\n",
       " 'about',\n",
       " 'furry',\n",
       " 'water',\n",
       " 'catching',\n",
       " 'fun',\n",
       " 'surfing',\n",
       " 'popular',\n",
       " 'story',\n",
       " 'pets']"
      ]
     },
     "execution_count": 24,
     "metadata": {},
     "output_type": "execute_result"
    }
   ],
   "source": [
    "all_words"
   ]
  },
  {
   "cell_type": "markdown",
   "id": "7f8939e7",
   "metadata": {},
   "source": [
    "## Creating Final Dataframe"
   ]
  },
  {
   "cell_type": "code",
   "execution_count": 25,
   "id": "2bbfcc74",
   "metadata": {},
   "outputs": [
    {
     "data": {
      "text/html": [
       "<div>\n",
       "<style scoped>\n",
       "    .dataframe tbody tr th:only-of-type {\n",
       "        vertical-align: middle;\n",
       "    }\n",
       "\n",
       "    .dataframe tbody tr th {\n",
       "        vertical-align: top;\n",
       "    }\n",
       "\n",
       "    .dataframe thead th {\n",
       "        text-align: right;\n",
       "    }\n",
       "</style>\n",
       "<table border=\"1\" class=\"dataframe\">\n",
       "  <thead>\n",
       "    <tr style=\"text-align: right;\">\n",
       "      <th></th>\n",
       "      <th>waves</th>\n",
       "      <th>sport</th>\n",
       "      <th>dogs</th>\n",
       "      <th>our</th>\n",
       "      <th>a</th>\n",
       "      <th>animals</th>\n",
       "      <th>canine</th>\n",
       "      <th>are</th>\n",
       "      <th>is</th>\n",
       "      <th>this</th>\n",
       "      <th>about</th>\n",
       "      <th>furry</th>\n",
       "      <th>water</th>\n",
       "      <th>catching</th>\n",
       "      <th>fun</th>\n",
       "      <th>surfing</th>\n",
       "      <th>popular</th>\n",
       "      <th>story</th>\n",
       "      <th>pets</th>\n",
       "    </tr>\n",
       "  </thead>\n",
       "  <tbody>\n",
       "    <tr>\n",
       "      <th>0</th>\n",
       "      <td>0</td>\n",
       "      <td>0</td>\n",
       "      <td>2</td>\n",
       "      <td>1</td>\n",
       "      <td>1</td>\n",
       "      <td>1</td>\n",
       "      <td>1</td>\n",
       "      <td>1</td>\n",
       "      <td>1</td>\n",
       "      <td>1</td>\n",
       "      <td>1</td>\n",
       "      <td>1</td>\n",
       "      <td>0</td>\n",
       "      <td>0</td>\n",
       "      <td>0</td>\n",
       "      <td>0</td>\n",
       "      <td>0</td>\n",
       "      <td>1</td>\n",
       "      <td>1</td>\n",
       "    </tr>\n",
       "    <tr>\n",
       "      <th>1</th>\n",
       "      <td>1</td>\n",
       "      <td>1</td>\n",
       "      <td>0</td>\n",
       "      <td>0</td>\n",
       "      <td>1</td>\n",
       "      <td>0</td>\n",
       "      <td>0</td>\n",
       "      <td>0</td>\n",
       "      <td>3</td>\n",
       "      <td>1</td>\n",
       "      <td>1</td>\n",
       "      <td>0</td>\n",
       "      <td>1</td>\n",
       "      <td>1</td>\n",
       "      <td>1</td>\n",
       "      <td>2</td>\n",
       "      <td>1</td>\n",
       "      <td>1</td>\n",
       "      <td>0</td>\n",
       "    </tr>\n",
       "  </tbody>\n",
       "</table>\n",
       "</div>"
      ],
      "text/plain": [
       "   waves  sport  dogs  our  a  animals  canine  are  is  this  about  furry  \\\n",
       "0      0      0     2    1  1        1       1    1   1     1      1      1   \n",
       "1      1      1     0    0  1        0       0    0   3     1      1      0   \n",
       "\n",
       "   water  catching  fun  surfing  popular  story  pets  \n",
       "0      0         0    0        0        0      1     1  \n",
       "1      1         1    1        2        1      1     0  "
      ]
     },
     "execution_count": 25,
     "metadata": {},
     "output_type": "execute_result"
    }
   ],
   "source": [
    "bag_of_words = pd.DataFrame(data=[first_frequency, second_frequency], columns=all_words)\n",
    "bag_of_words"
   ]
  },
  {
   "cell_type": "code",
   "execution_count": null,
   "id": "b42e3c99",
   "metadata": {},
   "outputs": [],
   "source": []
  }
 ],
 "metadata": {
  "kernelspec": {
   "display_name": "Python 3 (ipykernel)",
   "language": "python",
   "name": "python3"
  },
  "language_info": {
   "codemirror_mode": {
    "name": "ipython",
    "version": 3
   },
   "file_extension": ".py",
   "mimetype": "text/x-python",
   "name": "python",
   "nbconvert_exporter": "python",
   "pygments_lexer": "ipython3",
   "version": "3.9.18"
  }
 },
 "nbformat": 4,
 "nbformat_minor": 5
}
