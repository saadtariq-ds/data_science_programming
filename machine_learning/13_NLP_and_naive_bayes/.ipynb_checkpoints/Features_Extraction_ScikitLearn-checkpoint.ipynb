{
 "cells": [
  {
   "cell_type": "markdown",
   "id": "352697b4",
   "metadata": {},
   "source": [
    "# Features Extraction - ScikitLearn"
   ]
  },
  {
   "cell_type": "markdown",
   "id": "6de1a718",
   "metadata": {},
   "source": [
    "## Import Libraries"
   ]
  },
  {
   "cell_type": "code",
   "execution_count": 1,
   "id": "2978709a",
   "metadata": {},
   "outputs": [],
   "source": [
    "import pandas as pd"
   ]
  },
  {
   "cell_type": "code",
   "execution_count": 2,
   "id": "ff809126",
   "metadata": {},
   "outputs": [],
   "source": [
    "from sklearn.feature_extraction.text import CountVectorizer, TfidfVectorizer, TfidfTransformer"
   ]
  },
  {
   "cell_type": "markdown",
   "id": "b222ac1f",
   "metadata": {},
   "source": [
    "## Creating Data"
   ]
  },
  {
   "cell_type": "code",
   "execution_count": 3,
   "id": "40564d48",
   "metadata": {},
   "outputs": [],
   "source": [
    "text = ['This is the first line',\n",
    "       'This is the second line',\n",
    "       'This is another line']"
   ]
  },
  {
   "cell_type": "markdown",
   "id": "032120c7",
   "metadata": {},
   "source": [
    "## Count Vectorizer"
   ]
  },
  {
   "cell_type": "code",
   "execution_count": 4,
   "id": "5c08883e",
   "metadata": {},
   "outputs": [],
   "source": [
    "# count_vectorizer = CountVectorizer(stop_words='english')\n",
    "count_vectorizer = CountVectorizer()"
   ]
  },
  {
   "cell_type": "code",
   "execution_count": 5,
   "id": "d2a689bd",
   "metadata": {},
   "outputs": [],
   "source": [
    "sparse_matrix = count_vectorizer.fit_transform(text)"
   ]
  },
  {
   "cell_type": "code",
   "execution_count": 6,
   "id": "2c6119d8",
   "metadata": {},
   "outputs": [
    {
     "data": {
      "text/plain": [
       "matrix([[0, 1, 1, 1, 0, 1, 1],\n",
       "        [0, 0, 1, 1, 1, 1, 1],\n",
       "        [1, 0, 1, 1, 0, 0, 1]], dtype=int64)"
      ]
     },
     "execution_count": 6,
     "metadata": {},
     "output_type": "execute_result"
    }
   ],
   "source": [
    "sparse_matrix.todense()"
   ]
  },
  {
   "cell_type": "code",
   "execution_count": 7,
   "id": "fdd5f1b1",
   "metadata": {},
   "outputs": [
    {
     "data": {
      "text/plain": [
       "{'this': 6,\n",
       " 'is': 2,\n",
       " 'the': 5,\n",
       " 'first': 1,\n",
       " 'line': 3,\n",
       " 'second': 4,\n",
       " 'another': 0}"
      ]
     },
     "execution_count": 7,
     "metadata": {},
     "output_type": "execute_result"
    }
   ],
   "source": [
    "count_vectorizer.vocabulary_"
   ]
  },
  {
   "cell_type": "markdown",
   "id": "d29eac8d",
   "metadata": {},
   "source": [
    "## TF-IDF Transformer"
   ]
  },
  {
   "cell_type": "code",
   "execution_count": 8,
   "id": "3cd535a3",
   "metadata": {},
   "outputs": [],
   "source": [
    "tfidf_transformer = TfidfTransformer()"
   ]
  },
  {
   "cell_type": "code",
   "execution_count": 9,
   "id": "06f8cb08",
   "metadata": {},
   "outputs": [
    {
     "data": {
      "text/plain": [
       "<3x7 sparse matrix of type '<class 'numpy.int64'>'\n",
       "\twith 14 stored elements in Compressed Sparse Row format>"
      ]
     },
     "execution_count": 9,
     "metadata": {},
     "output_type": "execute_result"
    }
   ],
   "source": [
    "sparse_matrix"
   ]
  },
  {
   "cell_type": "code",
   "execution_count": 10,
   "id": "c16213fd",
   "metadata": {},
   "outputs": [],
   "source": [
    "tfidf_results = tfidf_transformer.fit_transform(sparse_matrix)"
   ]
  },
  {
   "cell_type": "code",
   "execution_count": 11,
   "id": "17e27f4b",
   "metadata": {},
   "outputs": [
    {
     "data": {
      "text/plain": [
       "matrix([[0.        , 0.61722732, 0.3645444 , 0.3645444 , 0.        ,\n",
       "         0.46941728, 0.3645444 ],\n",
       "        [0.        , 0.        , 0.3645444 , 0.3645444 , 0.61722732,\n",
       "         0.46941728, 0.3645444 ],\n",
       "        [0.69903033, 0.        , 0.41285857, 0.41285857, 0.        ,\n",
       "         0.        , 0.41285857]])"
      ]
     },
     "execution_count": 11,
     "metadata": {},
     "output_type": "execute_result"
    }
   ],
   "source": [
    "tfidf_results.todense()"
   ]
  },
  {
   "cell_type": "markdown",
   "id": "8a562a24",
   "metadata": {},
   "source": [
    "## TF-IDF Vectorizer\n",
    "\n",
    "It does both Count Vectorizer and TFIDF Transformer in one step"
   ]
  },
  {
   "cell_type": "code",
   "execution_count": 12,
   "id": "6546f6d8",
   "metadata": {},
   "outputs": [],
   "source": [
    "tfidf_vectorizer = TfidfVectorizer()"
   ]
  },
  {
   "cell_type": "code",
   "execution_count": 13,
   "id": "99763e48",
   "metadata": {},
   "outputs": [],
   "source": [
    "tfidf_vectorizer_results = tfidf_vectorizer.fit_transform(text)"
   ]
  },
  {
   "cell_type": "code",
   "execution_count": 14,
   "id": "7f3efc17",
   "metadata": {},
   "outputs": [
    {
     "data": {
      "text/plain": [
       "<3x7 sparse matrix of type '<class 'numpy.float64'>'\n",
       "\twith 14 stored elements in Compressed Sparse Row format>"
      ]
     },
     "execution_count": 14,
     "metadata": {},
     "output_type": "execute_result"
    }
   ],
   "source": [
    "tfidf_vectorizer_results"
   ]
  },
  {
   "cell_type": "code",
   "execution_count": 15,
   "id": "ee38246b",
   "metadata": {},
   "outputs": [
    {
     "data": {
      "text/plain": [
       "matrix([[0.        , 0.61722732, 0.3645444 , 0.3645444 , 0.        ,\n",
       "         0.46941728, 0.3645444 ],\n",
       "        [0.        , 0.        , 0.3645444 , 0.3645444 , 0.61722732,\n",
       "         0.46941728, 0.3645444 ],\n",
       "        [0.69903033, 0.        , 0.41285857, 0.41285857, 0.        ,\n",
       "         0.        , 0.41285857]])"
      ]
     },
     "execution_count": 15,
     "metadata": {},
     "output_type": "execute_result"
    }
   ],
   "source": [
    "tfidf_vectorizer_results.todense()"
   ]
  },
  {
   "cell_type": "markdown",
   "id": "65cd6118",
   "metadata": {},
   "source": [
    "## Note\n",
    "\n",
    "Do not use .todense() incase of large corpus"
   ]
  },
  {
   "cell_type": "code",
   "execution_count": null,
   "id": "f38403a8",
   "metadata": {},
   "outputs": [],
   "source": []
  }
 ],
 "metadata": {
  "kernelspec": {
   "display_name": "Python 3 (ipykernel)",
   "language": "python",
   "name": "python3"
  },
  "language_info": {
   "codemirror_mode": {
    "name": "ipython",
    "version": 3
   },
   "file_extension": ".py",
   "mimetype": "text/x-python",
   "name": "python",
   "nbconvert_exporter": "python",
   "pygments_lexer": "ipython3",
   "version": "3.9.18"
  }
 },
 "nbformat": 4,
 "nbformat_minor": 5
}
